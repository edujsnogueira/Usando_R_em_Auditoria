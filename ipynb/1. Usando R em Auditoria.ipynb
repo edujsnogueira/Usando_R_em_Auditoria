{
 "cells": [
  {
   "cell_type": "markdown",
   "metadata": {
    "collapsed": true
   },
   "source": [
    "![R](R_logo.svg.png)\n",
    "\n",
    "# <center> <font color='red'> USANDO R EM AUDITORIA</font> </center>\n",
    "\n",
    "<center> **Marcos F Silva** ( *marcosfs2006@gmail.com* ) </center>"
   ]
  },
  {
   "cell_type": "markdown",
   "metadata": {},
   "source": [
    "\n",
    "# <center> Técnicas de Auditoria Assistidas por Computador - TAAC </center>  "
   ]
  },
  {
   "cell_type": "markdown",
   "metadata": {},
   "source": [
    "## O que são Técnicas de Auditoria Assistidas por Computador?"
   ]
  },
  {
   "cell_type": "markdown",
   "metadata": {},
   "source": [
    "## Importação de Dados\n",
    "\n",
    "Antes que o auditor possa realizar qualquer análise nos dados disponíveis, será necessário realizar a importação dos dados para o aplicativo que irá utilizar para realizar a análise.\n",
    "\n",
    "O R dispõe de um conjunto de funções nativas para a importação de dados. Outras funções estão disponíveis via pacotes.\n",
    "\n",
    "É importante que o auditor tenha algum conhecimento dos diversos tipos de arquivos nos quais os dados podem estar armazenados para que possa utilizar a função adequada para sua importação. Os tipos de arquivo mais comumente encontrados na prática são os seguintes:\n",
    "\n",
    "* Arquivos texto com delimitadores;  \n",
    "* Arquivos texto de formato fixo;  \n",
    "* Arquivos texto com marcações de tags (html, xml);  \n",
    "* Arquivos da planilha eletrônica Excel;  \n",
    "* Arquivos json;  "
   ]
  },
  {
   "cell_type": "markdown",
   "metadata": {},
   "source": [
    "## Técnicas de Limpeza de Dados\n",
    "\n",
    "Importadas as bases de dados, normalmente ainda há a necessidade de realizar um trabalho de limpeza da base de dasdos de forma a colocá-la num formato que esteja adequado à realização da análise. Esta é uma etapa que normalmente consome um tempo considerável e não deve ser negligenciado.\n"
   ]
  },
  {
   "cell_type": "markdown",
   "metadata": {
    "collapsed": true
   },
   "source": [
    "## Técnicas Básica de Análise de Dados\n",
    "\n",
    "presentamos a seguir, como implementar no R algumas das técnicas de auditoria assistidas por computador mais comuns.\n",
    "\n",
    "* _Aging_  \n",
    "* Apensar Novos Registros ou Novos Campo  \n",
    "* Cálculo de Novos Campos  \n",
    "* Tabulação Cruzada  \n",
    "* Lei de Benford  \n",
    "* Valores Duplicados  \n",
    "* Filtros  \n",
    "* Seleção de Amostras Aleatórias  \n",
    "* _Gaps_  \n",
    "* Ordenação  \n",
    "* Combinar Arquivos  \n",
    "* Estatística Descritiva  \n",
    "* Estratificação  \n",
    "* Resumo por Grupos  \n",
    "* Acesso a Banco de Dados  \n",
    "* Registros de Log  \n",
    " \n"
   ]
  },
  {
   "cell_type": "markdown",
   "metadata": {},
   "source": [
    "## Visualização de Dados\n",
    "\n",
    "Embora não seja um tópico usual na literatura sobre análise de dados em auditoria, os gráficos  podem ser uma ferramenta extremamente útil nesta tarefa.  Assim, apresentaremos alguns recursos do R para a produção de gráficos.\n",
    "\n",
    "* Gráfico de Setores  \n",
    "* Gráfico de Barras  \n",
    "* Gráfico de Linhas  \n",
    "* Diagrama de Dispersão  \n",
    "* Ramo-e-Folhas  \n",
    "* Boxplot  \n",
    "* Histograma  \n",
    "* Gráfico de Pareto  \n",
    "* Gráfico de Pontos  \n",
    "* Gráfico de Mosaico  \n",
    "* Gráfico de Quantis  \n",
    "* Gráfico de Coordenadas Paralelas  \n",
    "* Stars  \n",
    "* Faces de Chernoff  \n",
    "* Calendar Plot  \n",
    "* Heatmap  \n",
    "* Waterfall "
   ]
  },
  {
   "cell_type": "markdown",
   "metadata": {},
   "source": [
    "## Tópicos Especiais\n",
    "\n",
    "Além das funcionalidades acima elencadas, serão apresentados alguns recursos do R para a manipulação de datas em razão da grande importância deste tipo de dados em auditoria.  Também apresentarei algumas das funções do R que utilizam expressões regulares como um de seus argumentos, dado o potencial que o uso das expressões regulares têm na análise de dados em auditoria.\n",
    " \n",
    "* Data e hora  \n",
    "* Expressões Regulares  \n",
    "* Pacote dplyr  \n",
    "* Pacote ggplot2  "
   ]
  },
  {
   "cell_type": "markdown",
   "metadata": {
    "collapsed": true
   },
   "source": [
    "## Técnicas Avançadas de Análise de Dados\n",
    "\n",
    "As técnicas avançadas de análise de dados consistem nas técnicas de mineração de dados.\n",
    "\n",
    "* Análise de Agrupamentos   \n",
    "* Análise de Componentes Principais  \n",
    "* Análise Discriminante  \n",
    "* Regras de Associação  \n",
    "* Análise de Redes Sociais  \n",
    "* ..."
   ]
  }
 ],
 "metadata": {
  "kernelspec": {
   "display_name": "R-3.2.1",
   "language": "",
   "name": "ir32"
  },
  "language_info": {
   "codemirror_mode": "r",
   "file_extension": ".r",
   "mimetype": "text/x-r-source",
   "name": "R",
   "pygments_lexer": "r",
   "version": "3.2.1"
  }
 },
 "nbformat": 4,
 "nbformat_minor": 0
}
