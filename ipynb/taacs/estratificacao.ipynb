{
 "cells": [
  {
   "cell_type": "markdown",
   "metadata": {},
   "source": [
    "# Estratificação"
   ]
  },
  {
   "cell_type": "markdown",
   "metadata": {},
   "source": [
    "A estratificação consiste em classificar os registros de um arquivo de dados em estratos mutuamente exclusivos.  Em auditoria, esta classificação é feita usualmente com base em valores monetários. O procedimento consiste em se estabelecer faixas de valores e indicar, para cada registro, a que faixa de valor ele pertence.\n",
    "\n",
    "Para ilustrar a execução deste procedimento, será utilizado o conjunto de dados `Invoices.csv`.\n",
    "\n",
    "O primeiro passo para se definir os estratos consiste em se estabelecer as faixas de valores para a variável a ser utilizada na estratificação nas quais se deseja classificar os registros. Para isso, faz-se necessário conhecer os valores máximo e mínimo do conjunto de dados, o que pode ser feito facilmente com a função `range()`."
   ]
  },
  {
   "cell_type": "code",
   "execution_count": 1,
   "metadata": {
    "collapsed": false
   },
   "outputs": [
    {
     "data": {
      "text/html": [
       "<table>\n",
       "<thead><tr><th scope=col>Date</th><th scope=col>InvoiceNo</th><th scope=col>CustomerNo</th><th scope=col>SalesPerson</th><th scope=col>ProductNo</th><th scope=col>UnitPrice</th><th scope=col>Quantity</th><th scope=col>Amount</th></tr></thead>\n",
       "<tbody>\n",
       "\t<tr><td>09/07/2003</td><td>20000     </td><td>10220     </td><td> 8        </td><td> 8        </td><td> 9.2      </td><td>41        </td><td>377.2     </td></tr>\n",
       "\t<tr><td>21/08/2003</td><td>20001     </td><td>10491     </td><td> 4        </td><td>48        </td><td>14.0      </td><td>30        </td><td>420.0     </td></tr>\n",
       "\t<tr><td>27/08/2003</td><td>20002     </td><td>10704     </td><td> 3        </td><td>43        </td><td>15.0      </td><td>25        </td><td>375.0     </td></tr>\n",
       "\t<tr><td>28/05/2003</td><td>20003     </td><td>10430     </td><td> 5        </td><td>54        </td><td>24.0      </td><td>22        </td><td>528.0     </td></tr>\n",
       "\t<tr><td>06/12/2003</td><td>20004     </td><td>10841     </td><td>17        </td><td>11        </td><td>15.0      </td><td>21        </td><td>315.0     </td></tr>\n",
       "\t<tr><td>24/05/2003</td><td>20005     </td><td>10777     </td><td> 1        </td><td> 5        </td><td>12.5      </td><td>50        </td><td>625.0     </td></tr>\n",
       "</tbody>\n",
       "</table>\n"
      ],
      "text/latex": [
       "\\begin{tabular}{r|llllllll}\n",
       " Date & InvoiceNo & CustomerNo & SalesPerson & ProductNo & UnitPrice & Quantity & Amount\\\\\n",
       "\\hline\n",
       "\t 09/07/2003 & 20000      & 10220      &  8         &  8         &  9.2       & 41         & 377.2     \\\\\n",
       "\t 21/08/2003 & 20001      & 10491      &  4         & 48         & 14.0       & 30         & 420.0     \\\\\n",
       "\t 27/08/2003 & 20002      & 10704      &  3         & 43         & 15.0       & 25         & 375.0     \\\\\n",
       "\t 28/05/2003 & 20003      & 10430      &  5         & 54         & 24.0       & 22         & 528.0     \\\\\n",
       "\t 06/12/2003 & 20004      & 10841      & 17         & 11         & 15.0       & 21         & 315.0     \\\\\n",
       "\t 24/05/2003 & 20005      & 10777      &  1         &  5         & 12.5       & 50         & 625.0     \\\\\n",
       "\\end{tabular}\n"
      ],
      "text/markdown": [
       "\n",
       "Date | InvoiceNo | CustomerNo | SalesPerson | ProductNo | UnitPrice | Quantity | Amount | \n",
       "|---|---|---|---|---|---|\n",
       "| 09/07/2003 | 20000      | 10220      |  8         |  8         |  9.2       | 41         | 377.2      | \n",
       "| 21/08/2003 | 20001      | 10491      |  4         | 48         | 14.0       | 30         | 420.0      | \n",
       "| 27/08/2003 | 20002      | 10704      |  3         | 43         | 15.0       | 25         | 375.0      | \n",
       "| 28/05/2003 | 20003      | 10430      |  5         | 54         | 24.0       | 22         | 528.0      | \n",
       "| 06/12/2003 | 20004      | 10841      | 17         | 11         | 15.0       | 21         | 315.0      | \n",
       "| 24/05/2003 | 20005      | 10777      |  1         |  5         | 12.5       | 50         | 625.0      | \n",
       "\n",
       "\n"
      ],
      "text/plain": [
       "  Date       InvoiceNo CustomerNo SalesPerson ProductNo UnitPrice Quantity\n",
       "1 09/07/2003 20000     10220       8           8         9.2      41      \n",
       "2 21/08/2003 20001     10491       4          48        14.0      30      \n",
       "3 27/08/2003 20002     10704       3          43        15.0      25      \n",
       "4 28/05/2003 20003     10430       5          54        24.0      22      \n",
       "5 06/12/2003 20004     10841      17          11        15.0      21      \n",
       "6 24/05/2003 20005     10777       1           5        12.5      50      \n",
       "  Amount\n",
       "1 377.2 \n",
       "2 420.0 \n",
       "3 375.0 \n",
       "4 528.0 \n",
       "5 315.0 \n",
       "6 625.0 "
      ]
     },
     "metadata": {},
     "output_type": "display_data"
    }
   ],
   "source": [
    "setwd('C:\\\\Users\\\\Marcos\\\\Documents\\\\GitHub\\\\Usando-R-em-Auditoria\\\\dados')\n",
    "faturamento <- read.csv2(\"Invoices.csv\")\n",
    "head(faturamento)"
   ]
  },
  {
   "cell_type": "code",
   "execution_count": 2,
   "metadata": {
    "collapsed": false
   },
   "outputs": [
    {
     "data": {
      "text/html": [
       "<ol class=list-inline>\n",
       "\t<li>5</li>\n",
       "\t<li>13438.5</li>\n",
       "</ol>\n"
      ],
      "text/latex": [
       "\\begin{enumerate*}\n",
       "\\item 5\n",
       "\\item 13438.5\n",
       "\\end{enumerate*}\n"
      ],
      "text/markdown": [
       "1. 5\n",
       "2. 13438.5\n",
       "\n",
       "\n"
      ],
      "text/plain": [
       "[1]     5.0 13438.5"
      ]
     },
     "metadata": {},
     "output_type": "display_data"
    }
   ],
   "source": [
    "range(faturamento$Amount)"
   ]
  },
  {
   "cell_type": "markdown",
   "metadata": {},
   "source": [
    "Considerando que os valores das faturas variam entre R\\$ 5,00 e R\\$ 13.438,5 e que desejamos estabelecer 3 estratos (baixos valores, valores medianos e altos valores) poderíamos ter os seguintes estratos:\n",
    "\n",
    "**Estrato 1** - R\\$ 5,00 a R\\$1.000,00    \n",
    "**Estrato 2** - R\\$ 1.000,01 a R\\$10.000,00   \n",
    "**Estrato 3** - R\\$ 10.000,01 a R\\$ 13.438,50   \n",
    "\n",
    "A definição da quantidade de estratos (3 neste exemplo) e da amplitude de cada faixa é uma escolha subjetiva do auditor.  Deve-se observar que as faixas de valores podem ou não ter a mesma amplitude.\n",
    "\n",
    "Para realizar a classificação dos registros da base de dados em cada um dos estratos definidos utiliza-sa a função **`cut()`**, como exemplificado a seguir:"
   ]
  },
  {
   "cell_type": "code",
   "execution_count": 3,
   "metadata": {
    "collapsed": false
   },
   "outputs": [
    {
     "data": {
      "text/html": [
       "<table>\n",
       "<thead><tr><th scope=col>Date</th><th scope=col>InvoiceNo</th><th scope=col>CustomerNo</th><th scope=col>SalesPerson</th><th scope=col>ProductNo</th><th scope=col>UnitPrice</th><th scope=col>Quantity</th><th scope=col>Amount</th><th scope=col>Estratos</th></tr></thead>\n",
       "<tbody>\n",
       "\t<tr><td>09/07/2003</td><td>20000     </td><td>10220     </td><td> 8        </td><td> 8        </td><td> 9.2      </td><td>41        </td><td>377.2     </td><td>Baixo     </td></tr>\n",
       "\t<tr><td>21/08/2003</td><td>20001     </td><td>10491     </td><td> 4        </td><td>48        </td><td>14.0      </td><td>30        </td><td>420.0     </td><td>Baixo     </td></tr>\n",
       "\t<tr><td>27/08/2003</td><td>20002     </td><td>10704     </td><td> 3        </td><td>43        </td><td>15.0      </td><td>25        </td><td>375.0     </td><td>Baixo     </td></tr>\n",
       "\t<tr><td>28/05/2003</td><td>20003     </td><td>10430     </td><td> 5        </td><td>54        </td><td>24.0      </td><td>22        </td><td>528.0     </td><td>Baixo     </td></tr>\n",
       "\t<tr><td>06/12/2003</td><td>20004     </td><td>10841     </td><td>17        </td><td>11        </td><td>15.0      </td><td>21        </td><td>315.0     </td><td>Baixo     </td></tr>\n",
       "\t<tr><td>24/05/2003</td><td>20005     </td><td>10777     </td><td> 1        </td><td> 5        </td><td>12.5      </td><td>50        </td><td>625.0     </td><td>Baixo     </td></tr>\n",
       "</tbody>\n",
       "</table>\n"
      ],
      "text/latex": [
       "\\begin{tabular}{r|lllllllll}\n",
       " Date & InvoiceNo & CustomerNo & SalesPerson & ProductNo & UnitPrice & Quantity & Amount & Estratos\\\\\n",
       "\\hline\n",
       "\t 09/07/2003 & 20000      & 10220      &  8         &  8         &  9.2       & 41         & 377.2      & Baixo     \\\\\n",
       "\t 21/08/2003 & 20001      & 10491      &  4         & 48         & 14.0       & 30         & 420.0      & Baixo     \\\\\n",
       "\t 27/08/2003 & 20002      & 10704      &  3         & 43         & 15.0       & 25         & 375.0      & Baixo     \\\\\n",
       "\t 28/05/2003 & 20003      & 10430      &  5         & 54         & 24.0       & 22         & 528.0      & Baixo     \\\\\n",
       "\t 06/12/2003 & 20004      & 10841      & 17         & 11         & 15.0       & 21         & 315.0      & Baixo     \\\\\n",
       "\t 24/05/2003 & 20005      & 10777      &  1         &  5         & 12.5       & 50         & 625.0      & Baixo     \\\\\n",
       "\\end{tabular}\n"
      ],
      "text/markdown": [
       "\n",
       "Date | InvoiceNo | CustomerNo | SalesPerson | ProductNo | UnitPrice | Quantity | Amount | Estratos | \n",
       "|---|---|---|---|---|---|\n",
       "| 09/07/2003 | 20000      | 10220      |  8         |  8         |  9.2       | 41         | 377.2      | Baixo      | \n",
       "| 21/08/2003 | 20001      | 10491      |  4         | 48         | 14.0       | 30         | 420.0      | Baixo      | \n",
       "| 27/08/2003 | 20002      | 10704      |  3         | 43         | 15.0       | 25         | 375.0      | Baixo      | \n",
       "| 28/05/2003 | 20003      | 10430      |  5         | 54         | 24.0       | 22         | 528.0      | Baixo      | \n",
       "| 06/12/2003 | 20004      | 10841      | 17         | 11         | 15.0       | 21         | 315.0      | Baixo      | \n",
       "| 24/05/2003 | 20005      | 10777      |  1         |  5         | 12.5       | 50         | 625.0      | Baixo      | \n",
       "\n",
       "\n"
      ],
      "text/plain": [
       "  Date       InvoiceNo CustomerNo SalesPerson ProductNo UnitPrice Quantity\n",
       "1 09/07/2003 20000     10220       8           8         9.2      41      \n",
       "2 21/08/2003 20001     10491       4          48        14.0      30      \n",
       "3 27/08/2003 20002     10704       3          43        15.0      25      \n",
       "4 28/05/2003 20003     10430       5          54        24.0      22      \n",
       "5 06/12/2003 20004     10841      17          11        15.0      21      \n",
       "6 24/05/2003 20005     10777       1           5        12.5      50      \n",
       "  Amount Estratos\n",
       "1 377.2  Baixo   \n",
       "2 420.0  Baixo   \n",
       "3 375.0  Baixo   \n",
       "4 528.0  Baixo   \n",
       "5 315.0  Baixo   \n",
       "6 625.0  Baixo   "
      ]
     },
     "metadata": {},
     "output_type": "display_data"
    }
   ],
   "source": [
    "faturamento$Estratos <- cut(faturamento$Amount,\n",
    "                            breaks=c(0.00, 1000.00, 10000.00, 13500.00),\n",
    "                            labels=c(\"Baixo\", \"Medio\", \"Alto\"))\n",
    "\n",
    "head(faturamento)"
   ]
  },
  {
   "cell_type": "markdown",
   "metadata": {},
   "source": [
    "Agora o conjunto de dados faturamento contém uma coluna (`Estratos`) que classifica cada registro em um dos 3 estratos definidos pelo auditor.\n",
    "\n",
    "Feita a estratificação, pode-se agora calcular a quantidade de registros em cada estrato, o valor médio de cada estrato, a percentagem cada estrato representa do valor total, etc.  Este é o assunto do tópico **Sumarização**."
   ]
  },
  {
   "cell_type": "markdown",
   "metadata": {},
   "source": [
    "Para dividir a base de dados em `n` estratos de igual amplitude poderíamos utilizar o argumento `breaks=`. Supondo que quiséssemos dividir a base de dados em 10 estratos de mesma amplitude poderíamos fazer da seguinte forma:"
   ]
  },
  {
   "cell_type": "code",
   "execution_count": 4,
   "metadata": {
    "collapsed": false
   },
   "outputs": [
    {
     "data": {
      "text/html": [
       "<table>\n",
       "<thead><tr><th scope=col>Date</th><th scope=col>InvoiceNo</th><th scope=col>CustomerNo</th><th scope=col>SalesPerson</th><th scope=col>ProductNo</th><th scope=col>UnitPrice</th><th scope=col>Quantity</th><th scope=col>Amount</th><th scope=col>Estratos</th><th scope=col>Estratos2</th></tr></thead>\n",
       "<tbody>\n",
       "\t<tr><td>09/07/2003      </td><td>20000           </td><td>10220           </td><td> 8              </td><td> 8              </td><td> 9.2            </td><td>41              </td><td>377.2           </td><td>Baixo           </td><td>(-8.4335,1348.3]</td></tr>\n",
       "\t<tr><td>21/08/2003      </td><td>20001           </td><td>10491           </td><td> 4              </td><td>48              </td><td>14.0            </td><td>30              </td><td>420.0           </td><td>Baixo           </td><td>(-8.4335,1348.3]</td></tr>\n",
       "\t<tr><td>27/08/2003      </td><td>20002           </td><td>10704           </td><td> 3              </td><td>43              </td><td>15.0            </td><td>25              </td><td>375.0           </td><td>Baixo           </td><td>(-8.4335,1348.3]</td></tr>\n",
       "\t<tr><td>28/05/2003      </td><td>20003           </td><td>10430           </td><td> 5              </td><td>54              </td><td>24.0            </td><td>22              </td><td>528.0           </td><td>Baixo           </td><td>(-8.4335,1348.3]</td></tr>\n",
       "\t<tr><td>06/12/2003      </td><td>20004           </td><td>10841           </td><td>17              </td><td>11              </td><td>15.0            </td><td>21              </td><td>315.0           </td><td>Baixo           </td><td>(-8.4335,1348.3]</td></tr>\n",
       "\t<tr><td>24/05/2003      </td><td>20005           </td><td>10777           </td><td> 1              </td><td> 5              </td><td>12.5            </td><td>50              </td><td>625.0           </td><td>Baixo           </td><td>(-8.4335,1348.3]</td></tr>\n",
       "</tbody>\n",
       "</table>\n"
      ],
      "text/latex": [
       "\\begin{tabular}{r|llllllllll}\n",
       " Date & InvoiceNo & CustomerNo & SalesPerson & ProductNo & UnitPrice & Quantity & Amount & Estratos & Estratos2\\\\\n",
       "\\hline\n",
       "\t 09/07/2003         & 20000              & 10220              &  8                 &  8                 &  9.2               & 41                 & 377.2              & Baixo              & (-8.4335,1348.3{]}\\\\\n",
       "\t 21/08/2003         & 20001              & 10491              &  4                 & 48                 & 14.0               & 30                 & 420.0              & Baixo              & (-8.4335,1348.3{]}\\\\\n",
       "\t 27/08/2003         & 20002              & 10704              &  3                 & 43                 & 15.0               & 25                 & 375.0              & Baixo              & (-8.4335,1348.3{]}\\\\\n",
       "\t 28/05/2003         & 20003              & 10430              &  5                 & 54                 & 24.0               & 22                 & 528.0              & Baixo              & (-8.4335,1348.3{]}\\\\\n",
       "\t 06/12/2003         & 20004              & 10841              & 17                 & 11                 & 15.0               & 21                 & 315.0              & Baixo              & (-8.4335,1348.3{]}\\\\\n",
       "\t 24/05/2003         & 20005              & 10777              &  1                 &  5                 & 12.5               & 50                 & 625.0              & Baixo              & (-8.4335,1348.3{]}\\\\\n",
       "\\end{tabular}\n"
      ],
      "text/markdown": [
       "\n",
       "Date | InvoiceNo | CustomerNo | SalesPerson | ProductNo | UnitPrice | Quantity | Amount | Estratos | Estratos2 | \n",
       "|---|---|---|---|---|---|\n",
       "| 09/07/2003       | 20000            | 10220            |  8               |  8               |  9.2             | 41               | 377.2            | Baixo            | (-8.4335,1348.3] | \n",
       "| 21/08/2003       | 20001            | 10491            |  4               | 48               | 14.0             | 30               | 420.0            | Baixo            | (-8.4335,1348.3] | \n",
       "| 27/08/2003       | 20002            | 10704            |  3               | 43               | 15.0             | 25               | 375.0            | Baixo            | (-8.4335,1348.3] | \n",
       "| 28/05/2003       | 20003            | 10430            |  5               | 54               | 24.0             | 22               | 528.0            | Baixo            | (-8.4335,1348.3] | \n",
       "| 06/12/2003       | 20004            | 10841            | 17               | 11               | 15.0             | 21               | 315.0            | Baixo            | (-8.4335,1348.3] | \n",
       "| 24/05/2003       | 20005            | 10777            |  1               |  5               | 12.5             | 50               | 625.0            | Baixo            | (-8.4335,1348.3] | \n",
       "\n",
       "\n"
      ],
      "text/plain": [
       "  Date       InvoiceNo CustomerNo SalesPerson ProductNo UnitPrice Quantity\n",
       "1 09/07/2003 20000     10220       8           8         9.2      41      \n",
       "2 21/08/2003 20001     10491       4          48        14.0      30      \n",
       "3 27/08/2003 20002     10704       3          43        15.0      25      \n",
       "4 28/05/2003 20003     10430       5          54        24.0      22      \n",
       "5 06/12/2003 20004     10841      17          11        15.0      21      \n",
       "6 24/05/2003 20005     10777       1           5        12.5      50      \n",
       "  Amount Estratos Estratos2       \n",
       "1 377.2  Baixo    (-8.4335,1348.3]\n",
       "2 420.0  Baixo    (-8.4335,1348.3]\n",
       "3 375.0  Baixo    (-8.4335,1348.3]\n",
       "4 528.0  Baixo    (-8.4335,1348.3]\n",
       "5 315.0  Baixo    (-8.4335,1348.3]\n",
       "6 625.0  Baixo    (-8.4335,1348.3]"
      ]
     },
     "metadata": {},
     "output_type": "display_data"
    }
   ],
   "source": [
    "faturamento$Estratos2 <- cut(faturamento$Amount, breaks=10, dig.lab=5)\n",
    "head(faturamento)"
   ]
  },
  {
   "cell_type": "markdown",
   "metadata": {},
   "source": [
    "Os estrados definidos podem ser consultados da seguinte forma:"
   ]
  },
  {
   "cell_type": "code",
   "execution_count": 5,
   "metadata": {
    "collapsed": false
   },
   "outputs": [
    {
     "data": {
      "text/html": [
       "<ol class=list-inline>\n",
       "\t<li>'(-8.4335,1348.3]'</li>\n",
       "\t<li>'(1348.3,2691.7]'</li>\n",
       "\t<li>'(2691.7,4035.1]'</li>\n",
       "\t<li>'(4035.1,5378.4]'</li>\n",
       "\t<li>'(5378.4,6721.8]'</li>\n",
       "\t<li>'(6721.8,8065.1]'</li>\n",
       "\t<li>'(8065.1,9408.5]'</li>\n",
       "\t<li>'(9408.5,10752]'</li>\n",
       "\t<li>'(10752,12095]'</li>\n",
       "\t<li>'(12095,13452]'</li>\n",
       "</ol>\n"
      ],
      "text/latex": [
       "\\begin{enumerate*}\n",
       "\\item '(-8.4335,1348.3{]}'\n",
       "\\item '(1348.3,2691.7{]}'\n",
       "\\item '(2691.7,4035.1{]}'\n",
       "\\item '(4035.1,5378.4{]}'\n",
       "\\item '(5378.4,6721.8{]}'\n",
       "\\item '(6721.8,8065.1{]}'\n",
       "\\item '(8065.1,9408.5{]}'\n",
       "\\item '(9408.5,10752{]}'\n",
       "\\item '(10752,12095{]}'\n",
       "\\item '(12095,13452{]}'\n",
       "\\end{enumerate*}\n"
      ],
      "text/markdown": [
       "1. '(-8.4335,1348.3]'\n",
       "2. '(1348.3,2691.7]'\n",
       "3. '(2691.7,4035.1]'\n",
       "4. '(4035.1,5378.4]'\n",
       "5. '(5378.4,6721.8]'\n",
       "6. '(6721.8,8065.1]'\n",
       "7. '(8065.1,9408.5]'\n",
       "8. '(9408.5,10752]'\n",
       "9. '(10752,12095]'\n",
       "10. '(12095,13452]'\n",
       "\n",
       "\n"
      ],
      "text/plain": [
       " [1] \"(-8.4335,1348.3]\" \"(1348.3,2691.7]\"  \"(2691.7,4035.1]\"  \"(4035.1,5378.4]\" \n",
       " [5] \"(5378.4,6721.8]\"  \"(6721.8,8065.1]\"  \"(8065.1,9408.5]\"  \"(9408.5,10752]\"  \n",
       " [9] \"(10752,12095]\"    \"(12095,13452]\"   "
      ]
     },
     "metadata": {},
     "output_type": "display_data"
    }
   ],
   "source": [
    "levels(faturamento$Estratos2)"
   ]
  },
  {
   "cell_type": "markdown",
   "metadata": {},
   "source": [
    "Observe que, como não foi fornececido nomes para os estratos, a exemplo do que foi feito anteriormente, a função `cut()` retorna os estratos no formato de intervalos abertos à esquerda e fechados à direita. O argumento `dig.lab=` foi utilizado para eviter que os limites dos intervalos fossem fornecidos em notação cientifica. Este argumento fornece a quantidade de dígitos a ser utilizada para elaborar os limites dos intervalos."
   ]
  },
  {
   "cell_type": "markdown",
   "metadata": {},
   "source": [
    "**Marcos F Silva**"
   ]
  }
 ],
 "metadata": {
  "kernelspec": {
   "display_name": "R-3.3.1",
   "language": "",
   "name": "ir33"
  },
  "language_info": {
   "codemirror_mode": "r",
   "file_extension": ".r",
   "mimetype": "text/x-r-source",
   "name": "R",
   "pygments_lexer": "r",
   "version": "3.3.1"
  }
 },
 "nbformat": 4,
 "nbformat_minor": 0
}
