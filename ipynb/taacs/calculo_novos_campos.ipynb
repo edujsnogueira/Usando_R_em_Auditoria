{
 "cells": [
  {
   "cell_type": "markdown",
   "metadata": {},
   "source": [
    "# Cálculo de Novos Campos"
   ]
  },
  {
   "cell_type": "markdown",
   "metadata": {},
   "source": [
    "A criação de novos campos a partir de campos já existentes no conjunto de dados é uma tarefa bem simples. Vamos ilustrar este procedimento utilizando o operador **`$`** e a função **`transform()`**.\n",
    "\n",
    "Usaremos o conjunto de dados `Hood.txt` para ilustrar a criação de novos campos. Este conjunto de dados consta do livro **Auditoria** de William C.Boynton, Raymond N. Johnson e Walter G. Kell, Ed. Atlas, 2002 (pág. 528-538)"
   ]
  },
  {
   "cell_type": "code",
   "execution_count": 1,
   "metadata": {
    "collapsed": false
   },
   "outputs": [
    {
     "name": "stdout",
     "output_type": "stream",
     "text": [
      "'data.frame':\t553 obs. of  4 variables:\n",
      " $ Codigo: int  10001 10002 10003 10004 10005 10006 10007 10008 10009 10010 ...\n",
      " $ Quant : int  13 12 15 11 10 10 8 9 20 9 ...\n",
      " $ PUnit : num  250 275 270 200 400 410 400 410 750 750 ...\n",
      " $ Valor : num  3250 3300 4050 2200 4000 4100 3200 3690 15000 6750 ...\n"
     ]
    },
    {
     "data": {
      "text/html": [
       "<table>\n",
       "<thead><tr><th scope=col>Codigo</th><th scope=col>Quant</th><th scope=col>PUnit</th><th scope=col>Valor</th></tr></thead>\n",
       "<tbody>\n",
       "\t<tr><td>10001</td><td>13   </td><td>250  </td><td>3250 </td></tr>\n",
       "\t<tr><td>10002</td><td>12   </td><td>275  </td><td>3300 </td></tr>\n",
       "\t<tr><td>10003</td><td>15   </td><td>270  </td><td>4050 </td></tr>\n",
       "\t<tr><td>10004</td><td>11   </td><td>200  </td><td>2200 </td></tr>\n",
       "\t<tr><td>10005</td><td>10   </td><td>400  </td><td>4000 </td></tr>\n",
       "\t<tr><td>10006</td><td>10   </td><td>410  </td><td>4100 </td></tr>\n",
       "</tbody>\n",
       "</table>\n"
      ],
      "text/latex": [
       "\\begin{tabular}{r|llll}\n",
       " Codigo & Quant & PUnit & Valor\\\\\n",
       "\\hline\n",
       "\t 10001 & 13    & 250   & 3250 \\\\\n",
       "\t 10002 & 12    & 275   & 3300 \\\\\n",
       "\t 10003 & 15    & 270   & 4050 \\\\\n",
       "\t 10004 & 11    & 200   & 2200 \\\\\n",
       "\t 10005 & 10    & 400   & 4000 \\\\\n",
       "\t 10006 & 10    & 410   & 4100 \\\\\n",
       "\\end{tabular}\n"
      ],
      "text/markdown": [
       "\n",
       "Codigo | Quant | PUnit | Valor | \n",
       "|---|---|---|---|---|---|\n",
       "| 10001 | 13    | 250   | 3250  | \n",
       "| 10002 | 12    | 275   | 3300  | \n",
       "| 10003 | 15    | 270   | 4050  | \n",
       "| 10004 | 11    | 200   | 2200  | \n",
       "| 10005 | 10    | 400   | 4000  | \n",
       "| 10006 | 10    | 410   | 4100  | \n",
       "\n",
       "\n"
      ],
      "text/plain": [
       "  Codigo Quant PUnit Valor\n",
       "1 10001  13    250   3250 \n",
       "2 10002  12    275   3300 \n",
       "3 10003  15    270   4050 \n",
       "4 10004  11    200   2200 \n",
       "5 10005  10    400   4000 \n",
       "6 10006  10    410   4100 "
      ]
     },
     "metadata": {},
     "output_type": "display_data"
    }
   ],
   "source": [
    "setwd('C:\\\\Users\\\\Marcos\\\\Documents\\\\GitHub\\\\Usando-R-em-Auditoria\\\\dados')\n",
    "hood <- read.table(\"Hood.txt\", header=TRUE, dec=\",\")\n",
    "str(hood)\n",
    "head(hood)"
   ]
  },
  {
   "cell_type": "markdown",
   "metadata": {},
   "source": [
    "Vamos criar um novo campo na base de dados hood chamado `VlrAudit` que será o produto dos campos `Quant` e `PUnit`. Com o uso do operador **`$`** isso pode ser feito da seguinte forma:"
   ]
  },
  {
   "cell_type": "code",
   "execution_count": 2,
   "metadata": {
    "collapsed": false
   },
   "outputs": [
    {
     "data": {
      "text/html": [
       "<table>\n",
       "<thead><tr><th scope=col>Codigo</th><th scope=col>Quant</th><th scope=col>PUnit</th><th scope=col>Valor</th><th scope=col>VlrAudit</th></tr></thead>\n",
       "<tbody>\n",
       "\t<tr><td>10001</td><td>13   </td><td>250  </td><td>3250 </td><td>3250 </td></tr>\n",
       "\t<tr><td>10002</td><td>12   </td><td>275  </td><td>3300 </td><td>3300 </td></tr>\n",
       "\t<tr><td>10003</td><td>15   </td><td>270  </td><td>4050 </td><td>4050 </td></tr>\n",
       "</tbody>\n",
       "</table>\n"
      ],
      "text/latex": [
       "\\begin{tabular}{r|lllll}\n",
       " Codigo & Quant & PUnit & Valor & VlrAudit\\\\\n",
       "\\hline\n",
       "\t 10001 & 13    & 250   & 3250  & 3250 \\\\\n",
       "\t 10002 & 12    & 275   & 3300  & 3300 \\\\\n",
       "\t 10003 & 15    & 270   & 4050  & 4050 \\\\\n",
       "\\end{tabular}\n"
      ],
      "text/markdown": [
       "\n",
       "Codigo | Quant | PUnit | Valor | VlrAudit | \n",
       "|---|---|---|\n",
       "| 10001 | 13    | 250   | 3250  | 3250  | \n",
       "| 10002 | 12    | 275   | 3300  | 3300  | \n",
       "| 10003 | 15    | 270   | 4050  | 4050  | \n",
       "\n",
       "\n"
      ],
      "text/plain": [
       "  Codigo Quant PUnit Valor VlrAudit\n",
       "1 10001  13    250   3250  3250    \n",
       "2 10002  12    275   3300  3300    \n",
       "3 10003  15    270   4050  4050    "
      ]
     },
     "metadata": {},
     "output_type": "display_data"
    }
   ],
   "source": [
    "hood$VlrAudit <- hood$Quant * hood$PUnit\n",
    "head(hood, 3)"
   ]
  },
  {
   "cell_type": "markdown",
   "metadata": {},
   "source": [
    "Agora vamos criar mais um campo que chamaremos de `dif` e que será a diferença entre os campos `Valor` e `VlrAudit`. Agora usaremos a função `transform()`."
   ]
  },
  {
   "cell_type": "code",
   "execution_count": 3,
   "metadata": {
    "collapsed": false
   },
   "outputs": [
    {
     "data": {
      "text/html": [
       "<table>\n",
       "<thead><tr><th scope=col>Codigo</th><th scope=col>Quant</th><th scope=col>PUnit</th><th scope=col>Valor</th><th scope=col>VlrAudit</th><th scope=col>dif</th></tr></thead>\n",
       "<tbody>\n",
       "\t<tr><td>10001</td><td>13   </td><td>250  </td><td>3250 </td><td>3250 </td><td>0    </td></tr>\n",
       "\t<tr><td>10002</td><td>12   </td><td>275  </td><td>3300 </td><td>3300 </td><td>0    </td></tr>\n",
       "\t<tr><td>10003</td><td>15   </td><td>270  </td><td>4050 </td><td>4050 </td><td>0    </td></tr>\n",
       "</tbody>\n",
       "</table>\n"
      ],
      "text/latex": [
       "\\begin{tabular}{r|llllll}\n",
       " Codigo & Quant & PUnit & Valor & VlrAudit & dif\\\\\n",
       "\\hline\n",
       "\t 10001 & 13    & 250   & 3250  & 3250  & 0    \\\\\n",
       "\t 10002 & 12    & 275   & 3300  & 3300  & 0    \\\\\n",
       "\t 10003 & 15    & 270   & 4050  & 4050  & 0    \\\\\n",
       "\\end{tabular}\n"
      ],
      "text/markdown": [
       "\n",
       "Codigo | Quant | PUnit | Valor | VlrAudit | dif | \n",
       "|---|---|---|\n",
       "| 10001 | 13    | 250   | 3250  | 3250  | 0     | \n",
       "| 10002 | 12    | 275   | 3300  | 3300  | 0     | \n",
       "| 10003 | 15    | 270   | 4050  | 4050  | 0     | \n",
       "\n",
       "\n"
      ],
      "text/plain": [
       "  Codigo Quant PUnit Valor VlrAudit dif\n",
       "1 10001  13    250   3250  3250     0  \n",
       "2 10002  12    275   3300  3300     0  \n",
       "3 10003  15    270   4050  4050     0  "
      ]
     },
     "metadata": {},
     "output_type": "display_data"
    }
   ],
   "source": [
    "hood <- transform(hood, dif = Valor - VlrAudit)\n",
    "head(hood, 3)"
   ]
  },
  {
   "cell_type": "markdown",
   "metadata": {},
   "source": [
    "Agora vamos criar um novo campo chamado `VlrAcum` contendo o valor acumulado do campo `Valor`."
   ]
  },
  {
   "cell_type": "code",
   "execution_count": 4,
   "metadata": {
    "collapsed": false
   },
   "outputs": [
    {
     "data": {
      "text/html": [
       "<table>\n",
       "<thead><tr><th scope=col>Codigo</th><th scope=col>Quant</th><th scope=col>PUnit</th><th scope=col>Valor</th><th scope=col>VlrAudit</th><th scope=col>dif</th><th scope=col>VlrAcum</th></tr></thead>\n",
       "<tbody>\n",
       "\t<tr><td>10001</td><td>13   </td><td>250  </td><td>3250 </td><td>3250 </td><td>0    </td><td> 3250</td></tr>\n",
       "\t<tr><td>10002</td><td>12   </td><td>275  </td><td>3300 </td><td>3300 </td><td>0    </td><td> 6550</td></tr>\n",
       "\t<tr><td>10003</td><td>15   </td><td>270  </td><td>4050 </td><td>4050 </td><td>0    </td><td>10600</td></tr>\n",
       "</tbody>\n",
       "</table>\n"
      ],
      "text/latex": [
       "\\begin{tabular}{r|lllllll}\n",
       " Codigo & Quant & PUnit & Valor & VlrAudit & dif & VlrAcum\\\\\n",
       "\\hline\n",
       "\t 10001 & 13    & 250   & 3250  & 3250  & 0     &  3250\\\\\n",
       "\t 10002 & 12    & 275   & 3300  & 3300  & 0     &  6550\\\\\n",
       "\t 10003 & 15    & 270   & 4050  & 4050  & 0     & 10600\\\\\n",
       "\\end{tabular}\n"
      ],
      "text/markdown": [
       "\n",
       "Codigo | Quant | PUnit | Valor | VlrAudit | dif | VlrAcum | \n",
       "|---|---|---|\n",
       "| 10001 | 13    | 250   | 3250  | 3250  | 0     |  3250 | \n",
       "| 10002 | 12    | 275   | 3300  | 3300  | 0     |  6550 | \n",
       "| 10003 | 15    | 270   | 4050  | 4050  | 0     | 10600 | \n",
       "\n",
       "\n"
      ],
      "text/plain": [
       "  Codigo Quant PUnit Valor VlrAudit dif VlrAcum\n",
       "1 10001  13    250   3250  3250     0    3250  \n",
       "2 10002  12    275   3300  3300     0    6550  \n",
       "3 10003  15    270   4050  4050     0   10600  "
      ]
     },
     "metadata": {},
     "output_type": "display_data"
    }
   ],
   "source": [
    "hood <- transform(hood, VlrAcum = cumsum(Valor))\n",
    "head(hood, 3)"
   ]
  },
  {
   "cell_type": "markdown",
   "metadata": {},
   "source": [
    "Para eliminiar colunas em um data frame, temos 2 possibilidades: usando `NULL` ou fazendo referência às colunas a serem excluídas.\n",
    "\n",
    "A exclusão usando `NULL` é feita, atribuindo-se este valor à variável a ser excluída. Exemplo: suponha que se queira excluir a variável `dif`. Isso pode ser feito da seguinte forma:"
   ]
  },
  {
   "cell_type": "code",
   "execution_count": 5,
   "metadata": {
    "collapsed": false
   },
   "outputs": [
    {
     "data": {
      "text/html": [
       "<table>\n",
       "<thead><tr><th scope=col>Codigo</th><th scope=col>Quant</th><th scope=col>PUnit</th><th scope=col>Valor</th><th scope=col>VlrAudit</th><th scope=col>VlrAcum</th></tr></thead>\n",
       "<tbody>\n",
       "\t<tr><td>10001</td><td>13   </td><td>250  </td><td>3250 </td><td>3250 </td><td> 3250</td></tr>\n",
       "\t<tr><td>10002</td><td>12   </td><td>275  </td><td>3300 </td><td>3300 </td><td> 6550</td></tr>\n",
       "\t<tr><td>10003</td><td>15   </td><td>270  </td><td>4050 </td><td>4050 </td><td>10600</td></tr>\n",
       "</tbody>\n",
       "</table>\n"
      ],
      "text/latex": [
       "\\begin{tabular}{r|llllll}\n",
       " Codigo & Quant & PUnit & Valor & VlrAudit & VlrAcum\\\\\n",
       "\\hline\n",
       "\t 10001 & 13    & 250   & 3250  & 3250  &  3250\\\\\n",
       "\t 10002 & 12    & 275   & 3300  & 3300  &  6550\\\\\n",
       "\t 10003 & 15    & 270   & 4050  & 4050  & 10600\\\\\n",
       "\\end{tabular}\n"
      ],
      "text/markdown": [
       "\n",
       "Codigo | Quant | PUnit | Valor | VlrAudit | VlrAcum | \n",
       "|---|---|---|\n",
       "| 10001 | 13    | 250   | 3250  | 3250  |  3250 | \n",
       "| 10002 | 12    | 275   | 3300  | 3300  |  6550 | \n",
       "| 10003 | 15    | 270   | 4050  | 4050  | 10600 | \n",
       "\n",
       "\n"
      ],
      "text/plain": [
       "  Codigo Quant PUnit Valor VlrAudit VlrAcum\n",
       "1 10001  13    250   3250  3250      3250  \n",
       "2 10002  12    275   3300  3300      6550  \n",
       "3 10003  15    270   4050  4050     10600  "
      ]
     },
     "metadata": {},
     "output_type": "display_data"
    }
   ],
   "source": [
    "hood$dif <- NULL\n",
    "head(hood, 3)"
   ]
  },
  {
   "cell_type": "markdown",
   "metadata": {},
   "source": [
    "A exclusão de variáveis fazendo-se referência às mesmas é feita indicando-se um vetor com o número da(s) coluna(s) que se deseja excluir, precedido de um sinal de menos.\n",
    "\n",
    "Caso se queira excluir as variáveis `VlrAudit` e `VlrAcum` faz-se:"
   ]
  },
  {
   "cell_type": "code",
   "execution_count": 6,
   "metadata": {
    "collapsed": false
   },
   "outputs": [
    {
     "data": {
      "text/html": [
       "<table>\n",
       "<thead><tr><th scope=col>Codigo</th><th scope=col>Quant</th><th scope=col>PUnit</th><th scope=col>Valor</th></tr></thead>\n",
       "<tbody>\n",
       "\t<tr><td>10001</td><td>13   </td><td>250  </td><td>3250 </td></tr>\n",
       "\t<tr><td>10002</td><td>12   </td><td>275  </td><td>3300 </td></tr>\n",
       "\t<tr><td>10003</td><td>15   </td><td>270  </td><td>4050 </td></tr>\n",
       "</tbody>\n",
       "</table>\n"
      ],
      "text/latex": [
       "\\begin{tabular}{r|llll}\n",
       " Codigo & Quant & PUnit & Valor\\\\\n",
       "\\hline\n",
       "\t 10001 & 13    & 250   & 3250 \\\\\n",
       "\t 10002 & 12    & 275   & 3300 \\\\\n",
       "\t 10003 & 15    & 270   & 4050 \\\\\n",
       "\\end{tabular}\n"
      ],
      "text/markdown": [
       "\n",
       "Codigo | Quant | PUnit | Valor | \n",
       "|---|---|---|\n",
       "| 10001 | 13    | 250   | 3250  | \n",
       "| 10002 | 12    | 275   | 3300  | \n",
       "| 10003 | 15    | 270   | 4050  | \n",
       "\n",
       "\n"
      ],
      "text/plain": [
       "  Codigo Quant PUnit Valor\n",
       "1 10001  13    250   3250 \n",
       "2 10002  12    275   3300 \n",
       "3 10003  15    270   4050 "
      ]
     },
     "metadata": {},
     "output_type": "display_data"
    }
   ],
   "source": [
    "hood <- hood[, -c(5,6)] \n",
    "head(hood, 3)"
   ]
  },
  {
   "cell_type": "markdown",
   "metadata": {},
   "source": [
    "Como as colunas a serem excluídas eram as colunas 5 e 6 do conjunto de dados, utilizamos `-c(5, 6)`."
   ]
  },
  {
   "cell_type": "markdown",
   "metadata": {},
   "source": [
    "**Marcos F Silva**"
   ]
  }
 ],
 "metadata": {
  "kernelspec": {
   "display_name": "R-3.3.1",
   "language": "",
   "name": "ir33"
  },
  "language_info": {
   "codemirror_mode": "r",
   "file_extension": ".r",
   "mimetype": "text/x-r-source",
   "name": "R",
   "pygments_lexer": "r",
   "version": "3.3.1"
  }
 },
 "nbformat": 4,
 "nbformat_minor": 0
}
