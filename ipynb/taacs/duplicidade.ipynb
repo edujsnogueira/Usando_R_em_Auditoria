{
 "cells": [
  {
   "cell_type": "markdown",
   "metadata": {},
   "source": [
    "# Duplicidade"
   ]
  },
  {
   "cell_type": "markdown",
   "metadata": {},
   "source": [
    "A identificação de valores duplicados em um conjunto de dados é uma tarefa executada rotineiramente pelos auditores com o objetivo de identificar repetições indevidas de valores.\n",
    "\n",
    "Para a execução deste procedimento, o R dispõe da função **`duplicated()`** que identifica os índices dos valores que são repetições de valores anteriores existentes no campo. Esta função também pode ser utilizada para identificar registros duplicados na base de dados.\n",
    "\n",
    "Vamos ilustrar este procedimento utilizando o conjunto de dados `Invoices.csv`, objetivando encontrar números de faturas repetidas na base de dados."
   ]
  },
  {
   "cell_type": "code",
   "execution_count": 1,
   "metadata": {
    "collapsed": false
   },
   "outputs": [
    {
     "data": {
      "text/html": [
       "<table>\n",
       "<thead><tr><th></th><th scope=col>Date</th><th scope=col>InvoiceNo</th><th scope=col>CustomerNo</th><th scope=col>SalesPerson</th><th scope=col>ProductNo</th><th scope=col>UnitPrice</th><th scope=col>Quantity</th><th scope=col>Amount</th></tr></thead>\n",
       "<tbody>\n",
       "\t<tr><th scope=row>12</th><td>14/01/2003</td><td>20010     </td><td>10439     </td><td>99        </td><td>38        </td><td>7.45      </td><td>28        </td><td>208.6     </td></tr>\n",
       "</tbody>\n",
       "</table>\n"
      ],
      "text/latex": [
       "\\begin{tabular}{r|llllllll}\n",
       "  & Date & InvoiceNo & CustomerNo & SalesPerson & ProductNo & UnitPrice & Quantity & Amount\\\\\n",
       "\\hline\n",
       "\t12 & 14/01/2003 & 20010      & 10439      & 99         & 38         & 7.45       & 28         & 208.6     \\\\\n",
       "\\end{tabular}\n"
      ],
      "text/markdown": [
       "\n",
       "| <!--/--> | Date | InvoiceNo | CustomerNo | SalesPerson | ProductNo | UnitPrice | Quantity | Amount | \n",
       "|---|\n",
       "| 12 | 14/01/2003 | 20010      | 10439      | 99         | 38         | 7.45       | 28         | 208.6      | \n",
       "\n",
       "\n"
      ],
      "text/plain": [
       "   Date       InvoiceNo CustomerNo SalesPerson ProductNo UnitPrice Quantity\n",
       "12 14/01/2003 20010     10439      99          38        7.45      28      \n",
       "   Amount\n",
       "12 208.6 "
      ]
     },
     "metadata": {},
     "output_type": "display_data"
    }
   ],
   "source": [
    "setwd('C:\\\\Users\\\\Marcos\\\\Documents\\\\GitHub\\\\Usando-R-em-Auditoria\\\\dados')\n",
    "faturamento <- read.csv2(\"Invoices.csv\")\n",
    "faturamento[duplicated(faturamento$InvoiceNo),]"
   ]
  },
  {
   "cell_type": "markdown",
   "metadata": {},
   "source": [
    "A saída acima indica que a fatura de número `20010` é repetida. Para identificarmos a fatura “original” podemos utilizar a função `subset()` conforme evidenciado a seguir:"
   ]
  },
  {
   "cell_type": "code",
   "execution_count": 2,
   "metadata": {
    "collapsed": false
   },
   "outputs": [
    {
     "data": {
      "text/html": [
       "<table>\n",
       "<thead><tr><th></th><th scope=col>Date</th><th scope=col>InvoiceNo</th><th scope=col>CustomerNo</th><th scope=col>SalesPerson</th><th scope=col>ProductNo</th><th scope=col>UnitPrice</th><th scope=col>Quantity</th><th scope=col>Amount</th></tr></thead>\n",
       "<tbody>\n",
       "\t<tr><th scope=row>11</th><td>14/01/2003</td><td>20010     </td><td>10439     </td><td>19        </td><td>38        </td><td>7.45      </td><td>28        </td><td>208.6     </td></tr>\n",
       "\t<tr><th scope=row>12</th><td>14/01/2003</td><td>20010     </td><td>10439     </td><td>99        </td><td>38        </td><td>7.45      </td><td>28        </td><td>208.6     </td></tr>\n",
       "</tbody>\n",
       "</table>\n"
      ],
      "text/latex": [
       "\\begin{tabular}{r|llllllll}\n",
       "  & Date & InvoiceNo & CustomerNo & SalesPerson & ProductNo & UnitPrice & Quantity & Amount\\\\\n",
       "\\hline\n",
       "\t11 & 14/01/2003 & 20010      & 10439      & 19         & 38         & 7.45       & 28         & 208.6     \\\\\n",
       "\t12 & 14/01/2003 & 20010      & 10439      & 99         & 38         & 7.45       & 28         & 208.6     \\\\\n",
       "\\end{tabular}\n"
      ],
      "text/markdown": [
       "\n",
       "| <!--/--> | Date | InvoiceNo | CustomerNo | SalesPerson | ProductNo | UnitPrice | Quantity | Amount | \n",
       "|---|---|\n",
       "| 11 | 14/01/2003 | 20010      | 10439      | 19         | 38         | 7.45       | 28         | 208.6      | \n",
       "| 12 | 14/01/2003 | 20010      | 10439      | 99         | 38         | 7.45       | 28         | 208.6      | \n",
       "\n",
       "\n"
      ],
      "text/plain": [
       "   Date       InvoiceNo CustomerNo SalesPerson ProductNo UnitPrice Quantity\n",
       "11 14/01/2003 20010     10439      19          38        7.45      28      \n",
       "12 14/01/2003 20010     10439      99          38        7.45      28      \n",
       "   Amount\n",
       "11 208.6 \n",
       "12 208.6 "
      ]
     },
     "metadata": {},
     "output_type": "display_data"
    }
   ],
   "source": [
    "subset(faturamento, InvoiceNo == 20010)"
   ]
  },
  {
   "cell_type": "markdown",
   "metadata": {},
   "source": [
    "Um procedimento mais geral para selecionarmos na base de dados de uma só vez tanto os valores “originais” quanto as repetições será apresentado a seguir:"
   ]
  },
  {
   "cell_type": "code",
   "execution_count": 3,
   "metadata": {
    "collapsed": false
   },
   "outputs": [
    {
     "data": {
      "text/html": [
       "20010"
      ],
      "text/latex": [
       "20010"
      ],
      "text/markdown": [
       "20010"
      ],
      "text/plain": [
       "[1] 20010"
      ]
     },
     "metadata": {},
     "output_type": "display_data"
    }
   ],
   "source": [
    "repetidos <- faturamento$InvoiceNo[duplicated(faturamento$InvoiceNo)]\n",
    "repetidos"
   ]
  },
  {
   "cell_type": "code",
   "execution_count": 4,
   "metadata": {
    "collapsed": false
   },
   "outputs": [
    {
     "data": {
      "text/html": [
       "<table>\n",
       "<thead><tr><th></th><th scope=col>Date</th><th scope=col>InvoiceNo</th><th scope=col>CustomerNo</th><th scope=col>SalesPerson</th><th scope=col>ProductNo</th><th scope=col>UnitPrice</th><th scope=col>Quantity</th><th scope=col>Amount</th></tr></thead>\n",
       "<tbody>\n",
       "\t<tr><th scope=row>11</th><td>14/01/2003</td><td>20010     </td><td>10439     </td><td>19        </td><td>38        </td><td>7.45      </td><td>28        </td><td>208.6     </td></tr>\n",
       "\t<tr><th scope=row>12</th><td>14/01/2003</td><td>20010     </td><td>10439     </td><td>99        </td><td>38        </td><td>7.45      </td><td>28        </td><td>208.6     </td></tr>\n",
       "</tbody>\n",
       "</table>\n"
      ],
      "text/latex": [
       "\\begin{tabular}{r|llllllll}\n",
       "  & Date & InvoiceNo & CustomerNo & SalesPerson & ProductNo & UnitPrice & Quantity & Amount\\\\\n",
       "\\hline\n",
       "\t11 & 14/01/2003 & 20010      & 10439      & 19         & 38         & 7.45       & 28         & 208.6     \\\\\n",
       "\t12 & 14/01/2003 & 20010      & 10439      & 99         & 38         & 7.45       & 28         & 208.6     \\\\\n",
       "\\end{tabular}\n"
      ],
      "text/markdown": [
       "\n",
       "| <!--/--> | Date | InvoiceNo | CustomerNo | SalesPerson | ProductNo | UnitPrice | Quantity | Amount | \n",
       "|---|---|\n",
       "| 11 | 14/01/2003 | 20010      | 10439      | 19         | 38         | 7.45       | 28         | 208.6      | \n",
       "| 12 | 14/01/2003 | 20010      | 10439      | 99         | 38         | 7.45       | 28         | 208.6      | \n",
       "\n",
       "\n"
      ],
      "text/plain": [
       "   Date       InvoiceNo CustomerNo SalesPerson ProductNo UnitPrice Quantity\n",
       "11 14/01/2003 20010     10439      19          38        7.45      28      \n",
       "12 14/01/2003 20010     10439      99          38        7.45      28      \n",
       "   Amount\n",
       "11 208.6 \n",
       "12 208.6 "
      ]
     },
     "metadata": {},
     "output_type": "display_data"
    }
   ],
   "source": [
    "subset(faturamento, InvoiceNo %in% repetidos)"
   ]
  },
  {
   "cell_type": "markdown",
   "metadata": {},
   "source": [
    "Neste exemplo existe apenas um valor repetido, mas caso houvesse mais, todos seriam listados."
   ]
  }
 ],
 "metadata": {
  "kernelspec": {
   "display_name": "R-3.3.1",
   "language": "",
   "name": "ir33"
  },
  "language_info": {
   "codemirror_mode": "r",
   "file_extension": ".r",
   "mimetype": "text/x-r-source",
   "name": "R",
   "pygments_lexer": "r",
   "version": "3.3.1"
  }
 },
 "nbformat": 4,
 "nbformat_minor": 0
}
