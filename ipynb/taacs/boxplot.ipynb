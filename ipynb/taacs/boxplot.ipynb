{
 "cells": [
  {
   "cell_type": "markdown",
   "metadata": {},
   "source": [
    "# Boxplot"
   ]
  },
  {
   "cell_type": "markdown",
   "metadata": {},
   "source": [
    "O `boxplot` é um gráfico que possibilita representar a distribuição de um conjunto de dados com base em alguns de seus parâmetros descritivos, quais sejam: a mediana ($Q_2$), o quartil inferior ($Q_1$), o quartil superior ($Q_3$) e do intervalo interquartil ($IQR = Q_3 - Q_1$).\n",
    "\n",
    "A figura a seguir apresenta o boxplot, destacando suas principaiscaracterísticas:"
   ]
  },
  {
   "cell_type": "markdown",
   "metadata": {},
   "source": [
    "![](figuras\\boxplot.png)"
   ]
  },
  {
   "cell_type": "markdown",
   "metadata": {},
   "source": [
    "A linha central da caixa marca a mediana do conjunto de dados. A parte inferior da caixa é delimitada pelo quartil inferior ($Q_1$) e a parte superior pelo quartil superior ($Q_3$). As hastes inferiores e superiores se estendem, respectivamente, do quartil inferior até o menor valor não inferior a $ Q_1 - 1.5 \\times IQR $ e do quartil superior até o maior valor não superior a $ Q_3 + 1.5 \\times IQR $.  Os valores inferiores a $ Q_1 - 1.5 \\times IQR $ e superiores a $ Q_3 + 1.5 \\times IQR $ são representados individualmente no gráfico sendo estes valores caracterizados como *outliers*.\n",
    "\n",
    "As quantidades $ Q_1 - 1.5 \\times IQR $ e $ Q_3 + 1.5 \\times IQR $ delimitam, respectivamente, as cercas inferior e superior e constituem limites para além dos quais, como visto, os dados passam a ser considerados *outliers*.\n",
    "\n",
    "O `boxplot` permite avaliar a simetria dos dados, sua dispersão e a existência ou não de *outliers* nos mesmos, sendo especialmente adequado para a comparação de dois ou mais conjuntos de dados correspondentes às categorias de uma variável qualitativa.\n",
    "\n",
    "Para a construção do `boxplot` será utilizado um conjunto de dados apresentado na página 233 do livro **Análise Financeira de Balanços - Abordagem Básica e Gerencial** (6a Edição) do Dante C. Matarazzo, relativo aos índices de liquidez corrente de empresas solventes e insolventes. O conjunto de dados chama-se `ilc.txt`.\n",
    "\n",
    "O boxplot é construído com a função `boxplot()` do R."
   ]
  },
  {
   "cell_type": "code",
   "execution_count": 2,
   "metadata": {
    "collapsed": false
   },
   "outputs": [
    {
     "name": "stdout",
     "output_type": "stream",
     "text": [
      "'data.frame':\t99 obs. of  2 variables:\n",
      " $ ilc     : num  1.86 1.89 1.93 1.94 1.97 2.85 2.02 2.1 3.02 1.43 ...\n",
      " $ situacao: Factor w/ 2 levels \"insolvente\",\"solvente\": 2 2 2 2 2 2 2 2 2 2 ...\n"
     ]
    }
   ],
   "source": [
    "setwd(\"C:\\\\Users\\\\Marcos\\\\Documents\\\\GitHub\\\\Usando-R-em-Auditoria\\\\dados\") \n",
    "empresas <- read.table(\"ilc.txt\", header=TRUE)\n",
    "str(empresas)"
   ]
  },
  {
   "cell_type": "markdown",
   "metadata": {},
   "source": [
    "Os dados possem duas variáveis (`ilc` e `situacao`) e 99 registros ou observações.\n",
    "\n",
    "A variável `ilc` registra os índices de liquidez corrente das empresas avaliadas.\n",
    "\n",
    "Os registros iniciais da base de dados podem ser visualizada da seguinte forma:"
   ]
  },
  {
   "cell_type": "code",
   "execution_count": 3,
   "metadata": {
    "collapsed": false
   },
   "outputs": [
    {
     "data": {
      "text/html": [
       "<table>\n",
       "<thead><tr><th scope=col>ilc</th><th scope=col>situacao</th></tr></thead>\n",
       "<tbody>\n",
       "\t<tr><td>1.86    </td><td>solvente</td></tr>\n",
       "\t<tr><td>1.89    </td><td>solvente</td></tr>\n",
       "\t<tr><td>1.93    </td><td>solvente</td></tr>\n",
       "\t<tr><td>1.94    </td><td>solvente</td></tr>\n",
       "\t<tr><td>1.97    </td><td>solvente</td></tr>\n",
       "\t<tr><td>2.85    </td><td>solvente</td></tr>\n",
       "</tbody>\n",
       "</table>\n"
      ],
      "text/latex": [
       "\\begin{tabular}{r|ll}\n",
       " ilc & situacao\\\\\n",
       "\\hline\n",
       "\t 1.86     & solvente\\\\\n",
       "\t 1.89     & solvente\\\\\n",
       "\t 1.93     & solvente\\\\\n",
       "\t 1.94     & solvente\\\\\n",
       "\t 1.97     & solvente\\\\\n",
       "\t 2.85     & solvente\\\\\n",
       "\\end{tabular}\n"
      ],
      "text/markdown": [
       "\n",
       "ilc | situacao | \n",
       "|---|---|---|---|---|---|\n",
       "| 1.86     | solvente | \n",
       "| 1.89     | solvente | \n",
       "| 1.93     | solvente | \n",
       "| 1.94     | solvente | \n",
       "| 1.97     | solvente | \n",
       "| 2.85     | solvente | \n",
       "\n",
       "\n"
      ],
      "text/plain": [
       "  ilc  situacao\n",
       "1 1.86 solvente\n",
       "2 1.89 solvente\n",
       "3 1.93 solvente\n",
       "4 1.94 solvente\n",
       "5 1.97 solvente\n",
       "6 2.85 solvente"
      ]
     },
     "metadata": {},
     "output_type": "display_data"
    }
   ],
   "source": [
    "head(empresas)"
   ]
  },
  {
   "cell_type": "markdown",
   "metadata": {},
   "source": [
    "Iremos agora construir um `boxplot` para comparar a distribuição dos índices de liquidez corrente das empresas solventes e insolventes. O `boxplot` pode ser feito da seguinte forma:"
   ]
  },
  {
   "cell_type": "code",
   "execution_count": 9,
   "metadata": {
    "collapsed": false
   },
   "outputs": [
    {
     "data": {
      "image/png": "[encoded data removed]",
      "text/plain": [
       "Plot with title \"Solventes vs. Insolventes\""
      ]
     },
     "metadata": {},
     "output_type": "display_data"
    }
   ],
   "source": [
    "options(repr.plot.width = 5, repr.plot.height = 5) # Alterar o tamanho do gráfico - 5 pol. de altura por 5 pol. de largura\n",
    "boxplot(ilc ~ situacao, data=empresas,\n",
    "        main=\"Solventes vs. Insolventes\",\n",
    "        xlab=\"Situação da Empresa\",\n",
    "        ylab=\"Índice de Liquidez Corrente\",\n",
    "        col='yellow')"
   ]
  },
  {
   "cell_type": "markdown",
   "metadata": {},
   "source": [
    "O gráfico acima apresenta a distribuição da variável `ilc` segundo as categorias da variável `situacao`. Observando o gráfico, verifica-se que as empresas classificadas como solventes possuem índices de liquidez corrente em geral maiores que os índices das empresas classificadas como insolventes."
   ]
  },
  {
   "cell_type": "markdown",
   "metadata": {},
   "source": [
    "**Marcos F Silva**"
   ]
  }
 ],
 "metadata": {
  "kernelspec": {
   "display_name": "R-3.3.1",
   "language": "",
   "name": "ir33"
  },
  "language_info": {
   "codemirror_mode": "r",
   "file_extension": ".r",
   "mimetype": "text/x-r-source",
   "name": "R",
   "pygments_lexer": "r",
   "version": "3.3.1"
  }
 },
 "nbformat": 4,
 "nbformat_minor": 0
}
