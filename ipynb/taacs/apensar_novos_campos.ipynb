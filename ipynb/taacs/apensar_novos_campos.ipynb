{
 "cells": [
  {
   "cell_type": "markdown",
   "metadata": {},
   "source": [
    "# Apensar Novos Campos"
   ]
  },
  {
   "cell_type": "markdown",
   "metadata": {},
   "source": [
    "Para realizar esta tarefa o R dispõe da função **`cbind()`**. Para ilustrar este procedimento serão criados os dados a serem utiliados. Serão criados 3 vetores que serão então combinados para formar um conjunto de dados único."
   ]
  },
  {
   "cell_type": "code",
   "execution_count": 1,
   "metadata": {
    "collapsed": true
   },
   "outputs": [],
   "source": [
    "Coluna1 <- rep(c(\"Marcos\", \"Maria\", \"Carla\"), 6) # 18 elementos\n",
    "Coluna2 <- rnorm(18) # 18 números aleatórios provenientes de uma normal padr?o\n",
    "Coluna3 <- sample(c(\"Jan\", \"Fev\", \"Mar\", \"Abr\", \"Mai\", \"Jun\", \"Jul\", \"Ago\", \"Set\", \"Out\", \"Nov\", \"Dez\"), 18, replace=TRUE)"
   ]
  },
  {
   "cell_type": "code",
   "execution_count": 2,
   "metadata": {
    "collapsed": false
   },
   "outputs": [
    {
     "data": {
      "text/html": [
       "<ol class=list-inline>\n",
       "\t<li>'Marcos'</li>\n",
       "\t<li>'Maria'</li>\n",
       "\t<li>'Carla'</li>\n",
       "\t<li>'Marcos'</li>\n",
       "\t<li>'Maria'</li>\n",
       "\t<li>'Carla'</li>\n",
       "\t<li>'Marcos'</li>\n",
       "\t<li>'Maria'</li>\n",
       "\t<li>'Carla'</li>\n",
       "\t<li>'Marcos'</li>\n",
       "\t<li>'Maria'</li>\n",
       "\t<li>'Carla'</li>\n",
       "\t<li>'Marcos'</li>\n",
       "\t<li>'Maria'</li>\n",
       "\t<li>'Carla'</li>\n",
       "\t<li>'Marcos'</li>\n",
       "\t<li>'Maria'</li>\n",
       "\t<li>'Carla'</li>\n",
       "</ol>\n"
      ],
      "text/latex": [
       "\\begin{enumerate*}\n",
       "\\item 'Marcos'\n",
       "\\item 'Maria'\n",
       "\\item 'Carla'\n",
       "\\item 'Marcos'\n",
       "\\item 'Maria'\n",
       "\\item 'Carla'\n",
       "\\item 'Marcos'\n",
       "\\item 'Maria'\n",
       "\\item 'Carla'\n",
       "\\item 'Marcos'\n",
       "\\item 'Maria'\n",
       "\\item 'Carla'\n",
       "\\item 'Marcos'\n",
       "\\item 'Maria'\n",
       "\\item 'Carla'\n",
       "\\item 'Marcos'\n",
       "\\item 'Maria'\n",
       "\\item 'Carla'\n",
       "\\end{enumerate*}\n"
      ],
      "text/markdown": [
       "1. 'Marcos'\n",
       "2. 'Maria'\n",
       "3. 'Carla'\n",
       "4. 'Marcos'\n",
       "5. 'Maria'\n",
       "6. 'Carla'\n",
       "7. 'Marcos'\n",
       "8. 'Maria'\n",
       "9. 'Carla'\n",
       "10. 'Marcos'\n",
       "11. 'Maria'\n",
       "12. 'Carla'\n",
       "13. 'Marcos'\n",
       "14. 'Maria'\n",
       "15. 'Carla'\n",
       "16. 'Marcos'\n",
       "17. 'Maria'\n",
       "18. 'Carla'\n",
       "\n",
       "\n"
      ],
      "text/plain": [
       " [1] \"Marcos\" \"Maria\"  \"Carla\"  \"Marcos\" \"Maria\"  \"Carla\"  \"Marcos\" \"Maria\" \n",
       " [9] \"Carla\"  \"Marcos\" \"Maria\"  \"Carla\"  \"Marcos\" \"Maria\"  \"Carla\"  \"Marcos\"\n",
       "[17] \"Maria\"  \"Carla\" "
      ]
     },
     "metadata": {},
     "output_type": "display_data"
    }
   ],
   "source": [
    "Coluna1"
   ]
  },
  {
   "cell_type": "code",
   "execution_count": 3,
   "metadata": {
    "collapsed": false
   },
   "outputs": [
    {
     "data": {
      "text/html": [
       "<ol class=list-inline>\n",
       "\t<li>-0.647669109383394</li>\n",
       "\t<li>0.331198308716988</li>\n",
       "\t<li>0.0416336729298363</li>\n",
       "\t<li>-2.03003240765505</li>\n",
       "\t<li>-0.220836940389205</li>\n",
       "\t<li>-0.510534163334804</li>\n",
       "\t<li>-2.29353358023935</li>\n",
       "\t<li>-1.34712576567782</li>\n",
       "\t<li>0.78759862337365</li>\n",
       "\t<li>-1.00674367191997</li>\n",
       "\t<li>-0.246289853890765</li>\n",
       "\t<li>0.243976028593256</li>\n",
       "\t<li>-1.08938560117935</li>\n",
       "\t<li>-0.29036629274328</li>\n",
       "\t<li>0.643079793474063</li>\n",
       "\t<li>0.548588189012203</li>\n",
       "\t<li>-0.0167935021095079</li>\n",
       "\t<li>-0.888560680373348</li>\n",
       "</ol>\n"
      ],
      "text/latex": [
       "\\begin{enumerate*}\n",
       "\\item -0.647669109383394\n",
       "\\item 0.331198308716988\n",
       "\\item 0.0416336729298363\n",
       "\\item -2.03003240765505\n",
       "\\item -0.220836940389205\n",
       "\\item -0.510534163334804\n",
       "\\item -2.29353358023935\n",
       "\\item -1.34712576567782\n",
       "\\item 0.78759862337365\n",
       "\\item -1.00674367191997\n",
       "\\item -0.246289853890765\n",
       "\\item 0.243976028593256\n",
       "\\item -1.08938560117935\n",
       "\\item -0.29036629274328\n",
       "\\item 0.643079793474063\n",
       "\\item 0.548588189012203\n",
       "\\item -0.0167935021095079\n",
       "\\item -0.888560680373348\n",
       "\\end{enumerate*}\n"
      ],
      "text/markdown": [
       "1. -0.647669109383394\n",
       "2. 0.331198308716988\n",
       "3. 0.0416336729298363\n",
       "4. -2.03003240765505\n",
       "5. -0.220836940389205\n",
       "6. -0.510534163334804\n",
       "7. -2.29353358023935\n",
       "8. -1.34712576567782\n",
       "9. 0.78759862337365\n",
       "10. -1.00674367191997\n",
       "11. -0.246289853890765\n",
       "12. 0.243976028593256\n",
       "13. -1.08938560117935\n",
       "14. -0.29036629274328\n",
       "15. 0.643079793474063\n",
       "16. 0.548588189012203\n",
       "17. -0.0167935021095079\n",
       "18. -0.888560680373348\n",
       "\n",
       "\n"
      ],
      "text/plain": [
       " [1] -0.64766911  0.33119831  0.04163367 -2.03003241 -0.22083694 -0.51053416\n",
       " [7] -2.29353358 -1.34712577  0.78759862 -1.00674367 -0.24628985  0.24397603\n",
       "[13] -1.08938560 -0.29036629  0.64307979  0.54858819 -0.01679350 -0.88856068"
      ]
     },
     "metadata": {},
     "output_type": "display_data"
    }
   ],
   "source": [
    "Coluna2"
   ]
  },
  {
   "cell_type": "code",
   "execution_count": 4,
   "metadata": {
    "collapsed": false
   },
   "outputs": [
    {
     "data": {
      "text/html": [
       "<ol class=list-inline>\n",
       "\t<li>'Dez'</li>\n",
       "\t<li>'Mai'</li>\n",
       "\t<li>'Jun'</li>\n",
       "\t<li>'Abr'</li>\n",
       "\t<li>'Mai'</li>\n",
       "\t<li>'Nov'</li>\n",
       "\t<li>'Fev'</li>\n",
       "\t<li>'Nov'</li>\n",
       "\t<li>'Jan'</li>\n",
       "\t<li>'Fev'</li>\n",
       "\t<li>'Abr'</li>\n",
       "\t<li>'Set'</li>\n",
       "\t<li>'Ago'</li>\n",
       "\t<li>'Mar'</li>\n",
       "\t<li>'Mai'</li>\n",
       "\t<li>'Abr'</li>\n",
       "\t<li>'Jul'</li>\n",
       "\t<li>'Nov'</li>\n",
       "</ol>\n"
      ],
      "text/latex": [
       "\\begin{enumerate*}\n",
       "\\item 'Dez'\n",
       "\\item 'Mai'\n",
       "\\item 'Jun'\n",
       "\\item 'Abr'\n",
       "\\item 'Mai'\n",
       "\\item 'Nov'\n",
       "\\item 'Fev'\n",
       "\\item 'Nov'\n",
       "\\item 'Jan'\n",
       "\\item 'Fev'\n",
       "\\item 'Abr'\n",
       "\\item 'Set'\n",
       "\\item 'Ago'\n",
       "\\item 'Mar'\n",
       "\\item 'Mai'\n",
       "\\item 'Abr'\n",
       "\\item 'Jul'\n",
       "\\item 'Nov'\n",
       "\\end{enumerate*}\n"
      ],
      "text/markdown": [
       "1. 'Dez'\n",
       "2. 'Mai'\n",
       "3. 'Jun'\n",
       "4. 'Abr'\n",
       "5. 'Mai'\n",
       "6. 'Nov'\n",
       "7. 'Fev'\n",
       "8. 'Nov'\n",
       "9. 'Jan'\n",
       "10. 'Fev'\n",
       "11. 'Abr'\n",
       "12. 'Set'\n",
       "13. 'Ago'\n",
       "14. 'Mar'\n",
       "15. 'Mai'\n",
       "16. 'Abr'\n",
       "17. 'Jul'\n",
       "18. 'Nov'\n",
       "\n",
       "\n"
      ],
      "text/plain": [
       " [1] \"Dez\" \"Mai\" \"Jun\" \"Abr\" \"Mai\" \"Nov\" \"Fev\" \"Nov\" \"Jan\" \"Fev\" \"Abr\" \"Set\"\n",
       "[13] \"Ago\" \"Mar\" \"Mai\" \"Abr\" \"Jul\" \"Nov\""
      ]
     },
     "metadata": {},
     "output_type": "display_data"
    }
   ],
   "source": [
    "Coluna3"
   ]
  },
  {
   "cell_type": "code",
   "execution_count": 5,
   "metadata": {
    "collapsed": false
   },
   "outputs": [
    {
     "data": {
      "text/html": [
       "<table>\n",
       "<thead><tr><th scope=col>Coluna1</th><th scope=col>Coluna2</th><th scope=col>Coluna3</th></tr></thead>\n",
       "<tbody>\n",
       "\t<tr><td>Marcos             </td><td>-0.647669109383394 </td><td>Dez                </td></tr>\n",
       "\t<tr><td>Maria              </td><td>0.331198308716988  </td><td>Mai                </td></tr>\n",
       "\t<tr><td>Carla              </td><td>0.0416336729298363 </td><td>Jun                </td></tr>\n",
       "\t<tr><td>Marcos             </td><td>-2.03003240765505  </td><td>Abr                </td></tr>\n",
       "\t<tr><td>Maria              </td><td>-0.220836940389205 </td><td>Mai                </td></tr>\n",
       "\t<tr><td>Carla              </td><td>-0.510534163334804 </td><td>Nov                </td></tr>\n",
       "\t<tr><td>Marcos             </td><td>-2.29353358023935  </td><td>Fev                </td></tr>\n",
       "\t<tr><td>Maria              </td><td>-1.34712576567782  </td><td>Nov                </td></tr>\n",
       "\t<tr><td>Carla              </td><td>0.78759862337365   </td><td>Jan                </td></tr>\n",
       "\t<tr><td>Marcos             </td><td>-1.00674367191997  </td><td>Fev                </td></tr>\n",
       "\t<tr><td>Maria              </td><td>-0.246289853890765 </td><td>Abr                </td></tr>\n",
       "\t<tr><td>Carla              </td><td>0.243976028593256  </td><td>Set                </td></tr>\n",
       "\t<tr><td>Marcos             </td><td>-1.08938560117935  </td><td>Ago                </td></tr>\n",
       "\t<tr><td>Maria              </td><td>-0.29036629274328  </td><td>Mar                </td></tr>\n",
       "\t<tr><td>Carla              </td><td>0.643079793474063  </td><td>Mai                </td></tr>\n",
       "\t<tr><td>Marcos             </td><td>0.548588189012203  </td><td>Abr                </td></tr>\n",
       "\t<tr><td>Maria              </td><td>-0.0167935021095079</td><td>Jul                </td></tr>\n",
       "\t<tr><td>Carla              </td><td>-0.888560680373348 </td><td>Nov                </td></tr>\n",
       "</tbody>\n",
       "</table>\n"
      ],
      "text/latex": [
       "\\begin{tabular}{lll}\n",
       " Coluna1 & Coluna2 & Coluna3\\\\\n",
       "\\hline\n",
       "\t Marcos              & -0.647669109383394  & Dez                \\\\\n",
       "\t Maria               & 0.331198308716988   & Mai                \\\\\n",
       "\t Carla               & 0.0416336729298363  & Jun                \\\\\n",
       "\t Marcos              & -2.03003240765505   & Abr                \\\\\n",
       "\t Maria               & -0.220836940389205  & Mai                \\\\\n",
       "\t Carla               & -0.510534163334804  & Nov                \\\\\n",
       "\t Marcos              & -2.29353358023935   & Fev                \\\\\n",
       "\t Maria               & -1.34712576567782   & Nov                \\\\\n",
       "\t Carla               & 0.78759862337365    & Jan                \\\\\n",
       "\t Marcos              & -1.00674367191997   & Fev                \\\\\n",
       "\t Maria               & -0.246289853890765  & Abr                \\\\\n",
       "\t Carla               & 0.243976028593256   & Set                \\\\\n",
       "\t Marcos              & -1.08938560117935   & Ago                \\\\\n",
       "\t Maria               & -0.29036629274328   & Mar                \\\\\n",
       "\t Carla               & 0.643079793474063   & Mai                \\\\\n",
       "\t Marcos              & 0.548588189012203   & Abr                \\\\\n",
       "\t Maria               & -0.0167935021095079 & Jul                \\\\\n",
       "\t Carla               & -0.888560680373348  & Nov                \\\\\n",
       "\\end{tabular}\n"
      ],
      "text/markdown": [
       "\n",
       "Coluna1 | Coluna2 | Coluna3 | \n",
       "|---|---|---|---|---|---|---|---|---|---|---|---|---|---|---|---|---|---|\n",
       "| Marcos              | -0.647669109383394  | Dez                 | \n",
       "| Maria               | 0.331198308716988   | Mai                 | \n",
       "| Carla               | 0.0416336729298363  | Jun                 | \n",
       "| Marcos              | -2.03003240765505   | Abr                 | \n",
       "| Maria               | -0.220836940389205  | Mai                 | \n",
       "| Carla               | -0.510534163334804  | Nov                 | \n",
       "| Marcos              | -2.29353358023935   | Fev                 | \n",
       "| Maria               | -1.34712576567782   | Nov                 | \n",
       "| Carla               | 0.78759862337365    | Jan                 | \n",
       "| Marcos              | -1.00674367191997   | Fev                 | \n",
       "| Maria               | -0.246289853890765  | Abr                 | \n",
       "| Carla               | 0.243976028593256   | Set                 | \n",
       "| Marcos              | -1.08938560117935   | Ago                 | \n",
       "| Maria               | -0.29036629274328   | Mar                 | \n",
       "| Carla               | 0.643079793474063   | Mai                 | \n",
       "| Marcos              | 0.548588189012203   | Abr                 | \n",
       "| Maria               | -0.0167935021095079 | Jul                 | \n",
       "| Carla               | -0.888560680373348  | Nov                 | \n",
       "\n",
       "\n"
      ],
      "text/plain": [
       "      Coluna1 Coluna2             Coluna3\n",
       " [1,] Marcos  -0.647669109383394  Dez    \n",
       " [2,] Maria   0.331198308716988   Mai    \n",
       " [3,] Carla   0.0416336729298363  Jun    \n",
       " [4,] Marcos  -2.03003240765505   Abr    \n",
       " [5,] Maria   -0.220836940389205  Mai    \n",
       " [6,] Carla   -0.510534163334804  Nov    \n",
       " [7,] Marcos  -2.29353358023935   Fev    \n",
       " [8,] Maria   -1.34712576567782   Nov    \n",
       " [9,] Carla   0.78759862337365    Jan    \n",
       "[10,] Marcos  -1.00674367191997   Fev    \n",
       "[11,] Maria   -0.246289853890765  Abr    \n",
       "[12,] Carla   0.243976028593256   Set    \n",
       "[13,] Marcos  -1.08938560117935   Ago    \n",
       "[14,] Maria   -0.29036629274328   Mar    \n",
       "[15,] Carla   0.643079793474063   Mai    \n",
       "[16,] Marcos  0.548588189012203   Abr    \n",
       "[17,] Maria   -0.0167935021095079 Jul    \n",
       "[18,] Carla   -0.888560680373348  Nov    "
      ]
     },
     "metadata": {},
     "output_type": "display_data"
    }
   ],
   "source": [
    "# Combinar as colunas\n",
    "Novo <- cbind(Coluna1, Coluna2, Coluna3)\n",
    "Novo"
   ]
  },
  {
   "cell_type": "markdown",
   "metadata": {},
   "source": [
    "A função **`cbind()`** retorna uma matriz, e no caso presente retornou uma matriz 18 x 3.\n",
    "\n",
    "Como pode ser visto, todas as colunas estão no formato de caractere, embora a `Coluna2` seja numérica.  Esta é uma característica das matrizes; todas as colunas devem ser do mesmo tipo.\n",
    "\n",
    "Uma outra forma de juntar as colunas é usando a função **`data.frame()`**."
   ]
  },
  {
   "cell_type": "code",
   "execution_count": 6,
   "metadata": {
    "collapsed": false
   },
   "outputs": [
    {
     "data": {
      "text/html": [
       "<table>\n",
       "<thead><tr><th scope=col>Nome</th><th scope=col>Valor</th><th scope=col>Mes</th></tr></thead>\n",
       "<tbody>\n",
       "\t<tr><td>Marcos     </td><td>-0.64766911</td><td>Dez        </td></tr>\n",
       "\t<tr><td>Maria      </td><td> 0.33119831</td><td>Mai        </td></tr>\n",
       "\t<tr><td>Carla      </td><td> 0.04163367</td><td>Jun        </td></tr>\n",
       "\t<tr><td>Marcos     </td><td>-2.03003241</td><td>Abr        </td></tr>\n",
       "\t<tr><td>Maria      </td><td>-0.22083694</td><td>Mai        </td></tr>\n",
       "\t<tr><td>Carla      </td><td>-0.51053416</td><td>Nov        </td></tr>\n",
       "\t<tr><td>Marcos     </td><td>-2.29353358</td><td>Fev        </td></tr>\n",
       "\t<tr><td>Maria      </td><td>-1.34712577</td><td>Nov        </td></tr>\n",
       "\t<tr><td>Carla      </td><td> 0.78759862</td><td>Jan        </td></tr>\n",
       "\t<tr><td>Marcos     </td><td>-1.00674367</td><td>Fev        </td></tr>\n",
       "\t<tr><td>Maria      </td><td>-0.24628985</td><td>Abr        </td></tr>\n",
       "\t<tr><td>Carla      </td><td> 0.24397603</td><td>Set        </td></tr>\n",
       "\t<tr><td>Marcos     </td><td>-1.08938560</td><td>Ago        </td></tr>\n",
       "\t<tr><td>Maria      </td><td>-0.29036629</td><td>Mar        </td></tr>\n",
       "\t<tr><td>Carla      </td><td> 0.64307979</td><td>Mai        </td></tr>\n",
       "\t<tr><td>Marcos     </td><td> 0.54858819</td><td>Abr        </td></tr>\n",
       "\t<tr><td>Maria      </td><td>-0.01679350</td><td>Jul        </td></tr>\n",
       "\t<tr><td>Carla      </td><td>-0.88856068</td><td>Nov        </td></tr>\n",
       "</tbody>\n",
       "</table>\n"
      ],
      "text/latex": [
       "\\begin{tabular}{r|lll}\n",
       " Nome & Valor & Mes\\\\\n",
       "\\hline\n",
       "\t Marcos      & -0.64766911 & Dez        \\\\\n",
       "\t Maria       &  0.33119831 & Mai        \\\\\n",
       "\t Carla       &  0.04163367 & Jun        \\\\\n",
       "\t Marcos      & -2.03003241 & Abr        \\\\\n",
       "\t Maria       & -0.22083694 & Mai        \\\\\n",
       "\t Carla       & -0.51053416 & Nov        \\\\\n",
       "\t Marcos      & -2.29353358 & Fev        \\\\\n",
       "\t Maria       & -1.34712577 & Nov        \\\\\n",
       "\t Carla       &  0.78759862 & Jan        \\\\\n",
       "\t Marcos      & -1.00674367 & Fev        \\\\\n",
       "\t Maria       & -0.24628985 & Abr        \\\\\n",
       "\t Carla       &  0.24397603 & Set        \\\\\n",
       "\t Marcos      & -1.08938560 & Ago        \\\\\n",
       "\t Maria       & -0.29036629 & Mar        \\\\\n",
       "\t Carla       &  0.64307979 & Mai        \\\\\n",
       "\t Marcos      &  0.54858819 & Abr        \\\\\n",
       "\t Maria       & -0.01679350 & Jul        \\\\\n",
       "\t Carla       & -0.88856068 & Nov        \\\\\n",
       "\\end{tabular}\n"
      ],
      "text/markdown": [
       "\n",
       "Nome | Valor | Mes | \n",
       "|---|---|---|---|---|---|---|---|---|---|---|---|---|---|---|---|---|---|\n",
       "| Marcos      | -0.64766911 | Dez         | \n",
       "| Maria       |  0.33119831 | Mai         | \n",
       "| Carla       |  0.04163367 | Jun         | \n",
       "| Marcos      | -2.03003241 | Abr         | \n",
       "| Maria       | -0.22083694 | Mai         | \n",
       "| Carla       | -0.51053416 | Nov         | \n",
       "| Marcos      | -2.29353358 | Fev         | \n",
       "| Maria       | -1.34712577 | Nov         | \n",
       "| Carla       |  0.78759862 | Jan         | \n",
       "| Marcos      | -1.00674367 | Fev         | \n",
       "| Maria       | -0.24628985 | Abr         | \n",
       "| Carla       |  0.24397603 | Set         | \n",
       "| Marcos      | -1.08938560 | Ago         | \n",
       "| Maria       | -0.29036629 | Mar         | \n",
       "| Carla       |  0.64307979 | Mai         | \n",
       "| Marcos      |  0.54858819 | Abr         | \n",
       "| Maria       | -0.01679350 | Jul         | \n",
       "| Carla       | -0.88856068 | Nov         | \n",
       "\n",
       "\n"
      ],
      "text/plain": [
       "   Nome   Valor       Mes\n",
       "1  Marcos -0.64766911 Dez\n",
       "2  Maria   0.33119831 Mai\n",
       "3  Carla   0.04163367 Jun\n",
       "4  Marcos -2.03003241 Abr\n",
       "5  Maria  -0.22083694 Mai\n",
       "6  Carla  -0.51053416 Nov\n",
       "7  Marcos -2.29353358 Fev\n",
       "8  Maria  -1.34712577 Nov\n",
       "9  Carla   0.78759862 Jan\n",
       "10 Marcos -1.00674367 Fev\n",
       "11 Maria  -0.24628985 Abr\n",
       "12 Carla   0.24397603 Set\n",
       "13 Marcos -1.08938560 Ago\n",
       "14 Maria  -0.29036629 Mar\n",
       "15 Carla   0.64307979 Mai\n",
       "16 Marcos  0.54858819 Abr\n",
       "17 Maria  -0.01679350 Jul\n",
       "18 Carla  -0.88856068 Nov"
      ]
     },
     "metadata": {},
     "output_type": "display_data"
    }
   ],
   "source": [
    "Novo2 <- data.frame(Nome=Coluna1, Valor=Coluna2, Mes=Coluna3)\n",
    "Novo2"
   ]
  },
  {
   "cell_type": "markdown",
   "metadata": {},
   "source": [
    "Para utilizarmos a função **`cbind()`** é necessário que a quantidade de registros seja a mesma nos arquivos a serem combinados."
   ]
  }
 ],
 "metadata": {
  "kernelspec": {
   "display_name": "R-3.3.1",
   "language": "",
   "name": "ir33"
  },
  "language_info": {
   "codemirror_mode": "r",
   "file_extension": ".r",
   "mimetype": "text/x-r-source",
   "name": "R",
   "pygments_lexer": "r",
   "version": "3.3.1"
  }
 },
 "nbformat": 4,
 "nbformat_minor": 0
}
