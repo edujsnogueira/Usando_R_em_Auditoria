{
 "cells": [
  {
   "cell_type": "markdown",
   "metadata": {},
   "source": [
    "# Gráfico de Mosaico"
   ]
  },
  {
   "cell_type": "markdown",
   "metadata": {},
   "source": [
    "O gráfico de mosaico é indicado para representar visualmente uma tabela de contingência. Vamos utilizar o conjunto de dados `rh.RData` para ilustrar seu uso. "
   ]
  },
  {
   "cell_type": "code",
   "execution_count": 1,
   "metadata": {
    "collapsed": false
   },
   "outputs": [
    {
     "name": "stdout",
     "output_type": "stream",
     "text": [
      "'data.frame':\t5000 obs. of  10 variables:\n",
      " $ Sexo            : chr  \"Masculino\" \"Masculino\" \"Feminino\" \"Feminino\" ...\n",
      " $ Estado.Civil    : chr  \"Casado\" \"Viúvo\" \"Casado\" \"Casado\" ...\n",
      " $ Anos.de.estudo  : int  14 19 18 16 15 18 18 12 14 12 ...\n",
      " $ Formação        : chr  \"SEC\" \"SEC\" \"SEC\" \"SEC\" ...\n",
      " $ Tempo.de.empresa: int  19 31 28 20 15 23 27 20 11 16 ...\n",
      " $ Unidade         : chr  \"Curitiba\" \"São Paulo\" \"Rio de Janeiro\" \"Rio de Janeiro\" ...\n",
      " $ Departamento    : chr  \"Produção\" \"Vendas\" \"Financeiro\" \"Vendas\" ...\n",
      " $ Cargo           : chr  \"Assistente\" \"Assistente\" \"Assistente\" \"Assistente\" ...\n",
      " $ Salário         : num  16.7 29.1 21.8 22.6 16.7 ...\n",
      " $ Bônus           : num  28.02 41.24 16.88 13.5 8.44 ...\n"
     ]
    },
    {
     "data": {
      "text/html": [
       "<table>\n",
       "<thead><tr><th scope=col>Sexo</th><th scope=col>Estado.Civil</th><th scope=col>Anos.de.estudo</th><th scope=col>Formação</th><th scope=col>Tempo.de.empresa</th><th scope=col>Unidade</th><th scope=col>Departamento</th><th scope=col>Cargo</th><th scope=col>Salário</th><th scope=col>Bônus</th></tr></thead>\n",
       "<tbody>\n",
       "\t<tr><td>Masculino     </td><td>Casado        </td><td>14            </td><td>SEC           </td><td>19            </td><td>Curitiba      </td><td>Produção      </td><td>Assistente    </td><td>16.67         </td><td>28.02         </td></tr>\n",
       "\t<tr><td>Masculino     </td><td>Viúvo         </td><td>19            </td><td>SEC           </td><td>31            </td><td>São Paulo     </td><td>Vendas        </td><td>Assistente    </td><td>29.13         </td><td>41.24         </td></tr>\n",
       "\t<tr><td>Feminino      </td><td>Casado        </td><td>18            </td><td>SEC           </td><td>28            </td><td>Rio de Janeiro</td><td>Financeiro    </td><td>Assistente    </td><td>21.80         </td><td>16.88         </td></tr>\n",
       "\t<tr><td>Feminino      </td><td>Casado        </td><td>16            </td><td>SEC           </td><td>20            </td><td>Rio de Janeiro</td><td>Vendas        </td><td>Assistente    </td><td>22.61         </td><td>13.50         </td></tr>\n",
       "\t<tr><td>Masculino     </td><td>Solteiro      </td><td>15            </td><td>SEC           </td><td>15            </td><td>Curitiba      </td><td>Vendas        </td><td>Auxiliar      </td><td>16.67         </td><td> 8.44         </td></tr>\n",
       "\t<tr><td>Masculino     </td><td>Casado        </td><td>18            </td><td>SEC           </td><td>23            </td><td>São Paulo     </td><td>Pessoal       </td><td>Assistente    </td><td> 8.34         </td><td>86.88         </td></tr>\n",
       "</tbody>\n",
       "</table>\n"
      ],
      "text/latex": [
       "\\begin{tabular}{r|llllllllll}\n",
       " Sexo & Estado.Civil & Anos.de.estudo & Formação & Tempo.de.empresa & Unidade & Departamento & Cargo & Salário & Bônus\\\\\n",
       "\\hline\n",
       "\t Masculino      & Casado         & 14             & SEC            & 19             & Curitiba       & Produção       & Assistente     & 16.67          & 28.02         \\\\\n",
       "\t Masculino      & Viúvo          & 19             & SEC            & 31             & São Paulo      & Vendas         & Assistente     & 29.13          & 41.24         \\\\\n",
       "\t Feminino       & Casado         & 18             & SEC            & 28             & Rio de Janeiro & Financeiro     & Assistente     & 21.80          & 16.88         \\\\\n",
       "\t Feminino       & Casado         & 16             & SEC            & 20             & Rio de Janeiro & Vendas         & Assistente     & 22.61          & 13.50         \\\\\n",
       "\t Masculino      & Solteiro       & 15             & SEC            & 15             & Curitiba       & Vendas         & Auxiliar       & 16.67          &  8.44         \\\\\n",
       "\t Masculino      & Casado         & 18             & SEC            & 23             & São Paulo      & Pessoal        & Assistente     &  8.34          & 86.88         \\\\\n",
       "\\end{tabular}\n"
      ],
      "text/markdown": [
       "\n",
       "Sexo | Estado.Civil | Anos.de.estudo | Formação | Tempo.de.empresa | Unidade | Departamento | Cargo | Salário | Bônus | \n",
       "|---|---|---|---|---|---|\n",
       "| Masculino      | Casado         | 14             | SEC            | 19             | Curitiba       | Produção       | Assistente     | 16.67          | 28.02          | \n",
       "| Masculino      | Viúvo          | 19             | SEC            | 31             | São Paulo      | Vendas         | Assistente     | 29.13          | 41.24          | \n",
       "| Feminino       | Casado         | 18             | SEC            | 28             | Rio de Janeiro | Financeiro     | Assistente     | 21.80          | 16.88          | \n",
       "| Feminino       | Casado         | 16             | SEC            | 20             | Rio de Janeiro | Vendas         | Assistente     | 22.61          | 13.50          | \n",
       "| Masculino      | Solteiro       | 15             | SEC            | 15             | Curitiba       | Vendas         | Auxiliar       | 16.67          |  8.44          | \n",
       "| Masculino      | Casado         | 18             | SEC            | 23             | São Paulo      | Pessoal        | Assistente     |  8.34          | 86.88          | \n",
       "\n",
       "\n"
      ],
      "text/plain": [
       "  Sexo      Estado.Civil Anos.de.estudo Formação Tempo.de.empresa\n",
       "1 Masculino Casado       14             SEC      19              \n",
       "2 Masculino Viúvo        19             SEC      31              \n",
       "3 Feminino  Casado       18             SEC      28              \n",
       "4 Feminino  Casado       16             SEC      20              \n",
       "5 Masculino Solteiro     15             SEC      15              \n",
       "6 Masculino Casado       18             SEC      23              \n",
       "  Unidade        Departamento Cargo      Salário Bônus\n",
       "1 Curitiba       Produção     Assistente 16.67   28.02\n",
       "2 São Paulo      Vendas       Assistente 29.13   41.24\n",
       "3 Rio de Janeiro Financeiro   Assistente 21.80   16.88\n",
       "4 Rio de Janeiro Vendas       Assistente 22.61   13.50\n",
       "5 Curitiba       Vendas       Auxiliar   16.67    8.44\n",
       "6 São Paulo      Pessoal      Assistente  8.34   86.88"
      ]
     },
     "metadata": {},
     "output_type": "display_data"
    }
   ],
   "source": [
    "setwd('C:\\\\Users\\\\Marcos\\\\Documents\\\\GitHub\\\\Usando-R-em-Auditoria\\\\dados')\n",
    "load('rh.RData')\n",
    "str(rh)\n",
    "head(rh)"
   ]
  },
  {
   "cell_type": "markdown",
   "metadata": {},
   "source": [
    "Nosso objetivo será visualizar a tabela de contingência resultante do cruzamento das variáveis `Sexo` e `Estado.Civil`.\n",
    "\n",
    "A tabulação destas variáveis pode ser feita conforme mostrado a seguir:"
   ]
  },
  {
   "cell_type": "code",
   "execution_count": 7,
   "metadata": {
    "collapsed": false
   },
   "outputs": [
    {
     "data": {
      "text/plain": [
       "           Estado.Civil\n",
       "Sexo        Casado Divorciado Solteiro Viúvo\n",
       "  Feminino    1367        181      371   135\n",
       "  Masculino   2080        238      419   198"
      ]
     },
     "metadata": {},
     "output_type": "display_data"
    },
    {
     "name": "stdout",
     "output_type": "stream",
     "text": [
      "Margins computed over dimensions\n",
      "in the following order:\n",
      "1: Sexo\n",
      "2: Estado.Civil\n"
     ]
    },
    {
     "data": {
      "text/html": [
       "<table>\n",
       "<thead><tr><th></th><th scope=col>Casado</th><th scope=col>Divorciado</th><th scope=col>Solteiro</th><th scope=col>Viúvo</th><th scope=col>Total</th></tr></thead>\n",
       "<tbody>\n",
       "\t<tr><th scope=row>Feminino</th><td>1367</td><td>181 </td><td>371 </td><td>135 </td><td>2054</td></tr>\n",
       "\t<tr><th scope=row>Masculino</th><td>2080</td><td>238 </td><td>419 </td><td>198 </td><td>2935</td></tr>\n",
       "\t<tr><th scope=row>Total</th><td>3447</td><td>419 </td><td>790 </td><td>333 </td><td>4989</td></tr>\n",
       "</tbody>\n",
       "</table>\n"
      ],
      "text/latex": [
       "\\begin{tabular}{r|lllll}\n",
       "  & Casado & Divorciado & Solteiro & Viúvo & Total\\\\\n",
       "\\hline\n",
       "\tFeminino & 1367 & 181  & 371  & 135  & 2054\\\\\n",
       "\tMasculino & 2080 & 238  & 419  & 198  & 2935\\\\\n",
       "\tTotal & 3447 & 419  & 790  & 333  & 4989\\\\\n",
       "\\end{tabular}\n"
      ],
      "text/markdown": [
       "\n",
       "| <!--/--> | Casado | Divorciado | Solteiro | Viúvo | Total | \n",
       "|---|---|---|\n",
       "| Feminino | 1367 | 181  | 371  | 135  | 2054 | \n",
       "| Masculino | 2080 | 238  | 419  | 198  | 2935 | \n",
       "| Total | 3447 | 419  | 790  | 333  | 4989 | \n",
       "\n",
       "\n"
      ],
      "text/plain": [
       "           Estado.Civil\n",
       "Sexo        Casado Divorciado Solteiro Viúvo Total\n",
       "  Feminino  1367   181        371      135   2054 \n",
       "  Masculino 2080   238        419      198   2935 \n",
       "  Total     3447   419        790      333   4989 "
      ]
     },
     "metadata": {},
     "output_type": "display_data"
    }
   ],
   "source": [
    "tab_sexo_estcivil <- with(rh, table(Sexo, Estado.Civil))\n",
    "tab_sexo_estcivil\n",
    "addmargins(tab_sexo_estcivil, FUN=list(Total=sum))"
   ]
  },
  {
   "cell_type": "markdown",
   "metadata": {},
   "source": [
    "O gráfico de mosaico é produzido com a função `mosaicplot()` conforme mostrado a seguir:"
   ]
  },
  {
   "cell_type": "code",
   "execution_count": 5,
   "metadata": {
    "collapsed": false
   },
   "outputs": [
    {
     "data": {
      "image/png": "[encoded data removed]",
      "text/plain": [
       "Plot with title \"\""
      ]
     },
     "metadata": {},
     "output_type": "display_data"
    }
   ],
   "source": [
    "mosaicplot(tab_sexo_estcivil, main='', las=1, color=TRUE)"
   ]
  }
 ],
 "metadata": {
  "kernelspec": {
   "display_name": "R-3.3.1",
   "language": "",
   "name": "ir33"
  },
  "language_info": {
   "codemirror_mode": "r",
   "file_extension": ".r",
   "mimetype": "text/x-r-source",
   "name": "R",
   "pygments_lexer": "r",
   "version": "3.3.1"
  }
 },
 "nbformat": 4,
 "nbformat_minor": 0
}
