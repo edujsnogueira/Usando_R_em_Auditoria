{
 "cells": [
  {
   "cell_type": "markdown",
   "metadata": {},
   "source": [
    "# Diagrama de dispersão"
   ]
  },
  {
   "cell_type": "markdown",
   "metadata": {},
   "source": [
    "Uma das atividades mais frequentes em análise de dados é a veriﬁcação da existência de relacionamento entre variáveis quantitativas. O diagrama de dispersão é o gráﬁco indicado para esta ﬁnalidade. Em geral, quando se utiliza um diagrama de dispersão, procura-se por padrões como os mostrados na figura a seguir:\n",
    "\n",
    "![](figuras/diag-dispersao.png)\n",
    "Fonte: Livro [**Data Points: Visualization That Means Something**](https://www.amazon.com/Data-Points-Visualization-Means-Something/dp/111846219X) de Natan Yau\n",
    "\n",
    "</br>\n",
    "\n",
    "Caso haja interese em se conhecer a relação entre o salário recebido por uma pessoa e a quantidade de anos de estudo que esta pessoa possui, um diagrama de dispersão mostrando a relação entre estas duas variáveis pode ser de grande ajuda. \n",
    "\n",
    "Considerando o conjunto de dados `rh.RData`,que contém dados relativos aos funcionários de uma empresa, as variáveis cujo relacionamento tem-se interesse em avaliara são `Anos.de.estudo` e `Salário`. \n",
    "\n",
    "A importação dos dados pode ser feita da seguint forma:"
   ]
  },
  {
   "cell_type": "code",
   "execution_count": 2,
   "metadata": {
    "collapsed": false
   },
   "outputs": [
    {
     "data": {
      "text/html": [
       "<table>\n",
       "<thead><tr><th scope=col>Sexo</th><th scope=col>Estado.Civil</th><th scope=col>Anos.de.estudo</th><th scope=col>Formação</th><th scope=col>Tempo.de.empresa</th><th scope=col>Unidade</th><th scope=col>Departamento</th><th scope=col>Cargo</th><th scope=col>Salário</th><th scope=col>Bônus</th></tr></thead>\n",
       "<tbody>\n",
       "\t<tr><td>Masculino     </td><td>Casado        </td><td>14            </td><td>SEC           </td><td>19            </td><td>Curitiba      </td><td>Produção      </td><td>Assistente    </td><td>16.67         </td><td>28.02         </td></tr>\n",
       "\t<tr><td>Masculino     </td><td>Viúvo         </td><td>19            </td><td>SEC           </td><td>31            </td><td>São Paulo     </td><td>Vendas        </td><td>Assistente    </td><td>29.13         </td><td>41.24         </td></tr>\n",
       "\t<tr><td>Feminino      </td><td>Casado        </td><td>18            </td><td>SEC           </td><td>28            </td><td>Rio de Janeiro</td><td>Financeiro    </td><td>Assistente    </td><td>21.80         </td><td>16.88         </td></tr>\n",
       "\t<tr><td>Feminino      </td><td>Casado        </td><td>16            </td><td>SEC           </td><td>20            </td><td>Rio de Janeiro</td><td>Vendas        </td><td>Assistente    </td><td>22.61         </td><td>13.50         </td></tr>\n",
       "\t<tr><td>Masculino     </td><td>Solteiro      </td><td>15            </td><td>SEC           </td><td>15            </td><td>Curitiba      </td><td>Vendas        </td><td>Auxiliar      </td><td>16.67         </td><td> 8.44         </td></tr>\n",
       "\t<tr><td>Masculino     </td><td>Casado        </td><td>18            </td><td>SEC           </td><td>23            </td><td>São Paulo     </td><td>Pessoal       </td><td>Assistente    </td><td> 8.34         </td><td>86.88         </td></tr>\n",
       "</tbody>\n",
       "</table>\n"
      ],
      "text/latex": [
       "\\begin{tabular}{r|llllllllll}\n",
       " Sexo & Estado.Civil & Anos.de.estudo & Formação & Tempo.de.empresa & Unidade & Departamento & Cargo & Salário & Bônus\\\\\n",
       "\\hline\n",
       "\t Masculino      & Casado         & 14             & SEC            & 19             & Curitiba       & Produção       & Assistente     & 16.67          & 28.02         \\\\\n",
       "\t Masculino      & Viúvo          & 19             & SEC            & 31             & São Paulo      & Vendas         & Assistente     & 29.13          & 41.24         \\\\\n",
       "\t Feminino       & Casado         & 18             & SEC            & 28             & Rio de Janeiro & Financeiro     & Assistente     & 21.80          & 16.88         \\\\\n",
       "\t Feminino       & Casado         & 16             & SEC            & 20             & Rio de Janeiro & Vendas         & Assistente     & 22.61          & 13.50         \\\\\n",
       "\t Masculino      & Solteiro       & 15             & SEC            & 15             & Curitiba       & Vendas         & Auxiliar       & 16.67          &  8.44         \\\\\n",
       "\t Masculino      & Casado         & 18             & SEC            & 23             & São Paulo      & Pessoal        & Assistente     &  8.34          & 86.88         \\\\\n",
       "\\end{tabular}\n"
      ],
      "text/markdown": [
       "\n",
       "Sexo | Estado.Civil | Anos.de.estudo | Formação | Tempo.de.empresa | Unidade | Departamento | Cargo | Salário | Bônus | \n",
       "|---|---|---|---|---|---|\n",
       "| Masculino      | Casado         | 14             | SEC            | 19             | Curitiba       | Produção       | Assistente     | 16.67          | 28.02          | \n",
       "| Masculino      | Viúvo          | 19             | SEC            | 31             | São Paulo      | Vendas         | Assistente     | 29.13          | 41.24          | \n",
       "| Feminino       | Casado         | 18             | SEC            | 28             | Rio de Janeiro | Financeiro     | Assistente     | 21.80          | 16.88          | \n",
       "| Feminino       | Casado         | 16             | SEC            | 20             | Rio de Janeiro | Vendas         | Assistente     | 22.61          | 13.50          | \n",
       "| Masculino      | Solteiro       | 15             | SEC            | 15             | Curitiba       | Vendas         | Auxiliar       | 16.67          |  8.44          | \n",
       "| Masculino      | Casado         | 18             | SEC            | 23             | São Paulo      | Pessoal        | Assistente     |  8.34          | 86.88          | \n",
       "\n",
       "\n"
      ],
      "text/plain": [
       "  Sexo      Estado.Civil Anos.de.estudo Formação Tempo.de.empresa\n",
       "1 Masculino Casado       14             SEC      19              \n",
       "2 Masculino Viúvo        19             SEC      31              \n",
       "3 Feminino  Casado       18             SEC      28              \n",
       "4 Feminino  Casado       16             SEC      20              \n",
       "5 Masculino Solteiro     15             SEC      15              \n",
       "6 Masculino Casado       18             SEC      23              \n",
       "  Unidade        Departamento Cargo      Salário Bônus\n",
       "1 Curitiba       Produção     Assistente 16.67   28.02\n",
       "2 São Paulo      Vendas       Assistente 29.13   41.24\n",
       "3 Rio de Janeiro Financeiro   Assistente 21.80   16.88\n",
       "4 Rio de Janeiro Vendas       Assistente 22.61   13.50\n",
       "5 Curitiba       Vendas       Auxiliar   16.67    8.44\n",
       "6 São Paulo      Pessoal      Assistente  8.34   86.88"
      ]
     },
     "metadata": {},
     "output_type": "display_data"
    }
   ],
   "source": [
    "setwd(\"C:\\\\Users\\\\Marcos\\\\Documents\\\\GitHub\\\\Usando-R-em-Auditoria\\\\dados\")\n",
    "load(\"rh.RData\")\n",
    "head(rh)"
   ]
  },
  {
   "cell_type": "markdown",
   "metadata": {},
   "source": [
    "Para a contrução do diagrama de dispersão utiliza-se a função `plot()`. Considerando que este conjunto de dados possui uma grande quantidade de observações (5.000) será retirada uma amostra de 100 observações para a elaboração do gráfico. \n",
    "\n"
   ]
  },
  {
   "cell_type": "code",
   "execution_count": 4,
   "metadata": {
    "collapsed": false
   },
   "outputs": [
    {
     "data": {
      "image/png": "[encoded data removed]",
      "text/plain": [
       "plot without title"
      ]
     },
     "metadata": {},
     "output_type": "display_data"
    }
   ],
   "source": [
    "# Sorteio da amostra\n",
    "set.seed(10)\n",
    "rh_amostra <- rh[sample(row.names(rh), 100),]\n",
    "\n",
    "# Elaboração do Gráfico\n",
    "options(repr.plot.width = 5, repr.plot.height = 5) \n",
    "plot(Salário ~ Anos.de.estudo, data=rh_amostra)"
   ]
  },
  {
   "cell_type": "markdown",
   "metadata": {},
   "source": [
    "O gráfico acima mostra a relação entre `Salário` e `Anos.de.estudo` para uma amostra dos funcionários da empresa. Mas será que o padrão evidenciado acima se repete se fossem considerados separadamente os dados dos funcionários do sexo masculino e feminino?\n",
    "\n",
    "Uma forma de tentar visualizar estas duas categorias no gráfico é atribuir cores diferentes aos pontos do gráfico que representam dados de funcionários do sexo masculino e feminino. Por exemplo, o gráfico a seguir utiliza cores (azul = homens, verde = mulheres) para evidenciar os sexos."
   ]
  },
  {
   "cell_type": "code",
   "execution_count": 5,
   "metadata": {
    "collapsed": false
   },
   "outputs": [
    {
     "data": {
      "image/png": "[encoded data removed]",
      "text/plain": [
       "plot without title"
      ]
     },
     "metadata": {},
     "output_type": "display_data"
    }
   ],
   "source": [
    "cores <- ifelse(rh_amostra$Sexo == 'Masculino', 'blue', 'red')\n",
    "plot(Salário ~ Anos.de.estudo, data=rh_amostra, col=cores, pch=16, cex=1.2)"
   ]
  },
  {
   "cell_type": "markdown",
   "metadata": {},
   "source": [
    "Também seria possível utilizar o formato do marcador (parâmetro **`pch=`**) para distinguir entre homens e mulheres."
   ]
  },
  {
   "cell_type": "code",
   "execution_count": 6,
   "metadata": {
    "collapsed": false
   },
   "outputs": [
    {
     "data": {
      "image/png": "[encoded data removed]",
      "text/plain": [
       "plot without title"
      ]
     },
     "metadata": {},
     "output_type": "display_data"
    }
   ],
   "source": [
    "simbolo <- ifelse(rh_amostra$Sexo == 'Masculino', 1, 3)\n",
    "plot(Salário ~ Anos.de.estudo, data=rh_amostra, pch=simbolo)"
   ]
  },
  {
   "cell_type": "markdown",
   "metadata": {},
   "source": [
    "As duas abordagens não parecem resolver de forma efetiva o problema. Em ambos os casos a sobreposição dos pontos no gráfico dificulta bastante a visualização. Em situações como essa, os **gráficos condicionados** podem ser bastante úteis. No exemplo a seguir utilizaremos o pacote `lattice` para realizar diagramas de dispersão **condiciondos** à variável `Sexo`."
   ]
  },
  {
   "cell_type": "code",
   "execution_count": 7,
   "metadata": {
    "collapsed": false
   },
   "outputs": [
    {
     "data": {},
     "metadata": {},
     "output_type": "display_data"
    },
    {
     "data": {
      "image/png": "[encoded data removed]",
      "text/plain": [
       "plot without title"
      ]
     },
     "metadata": {},
     "output_type": "display_data"
    }
   ],
   "source": [
    "library(lattice)\n",
    "xyplot(Salário ~ Anos.de.estudo | Sexo, data=rh_amostra)"
   ]
  },
  {
   "cell_type": "markdown",
   "metadata": {},
   "source": [
    "A abordagem acima é mais efetiva do que as que foram feitas anteriormente."
   ]
  },
  {
   "cell_type": "markdown",
   "metadata": {},
   "source": [
    "**Marcos F Silva**"
   ]
  }
 ],
 "metadata": {
  "kernelspec": {
   "display_name": "R",
   "language": "R",
   "name": "ir"
  },
  "language_info": {
   "codemirror_mode": "r",
   "file_extension": ".r",
   "mimetype": "text/x-r-source",
   "name": "R",
   "pygments_lexer": "r",
   "version": "3.4.1"
  }
 },
 "nbformat": 4,
 "nbformat_minor": 0
}
