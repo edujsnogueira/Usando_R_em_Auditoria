{
 "cells": [
  {
   "cell_type": "markdown",
   "metadata": {},
   "source": [
    "# Sumarização"
   ]
  },
  {
   "cell_type": "markdown",
   "metadata": {},
   "source": [
    "É relativamente freqüente a situação em que o auditor deseja obter um resumo dos dados (valor mínimo, valor máximo, média, medianas, totais, etc.) com base nos registros correspondentes a subconjuntos dos dados em exame.  Estes subconjuntos normalmente são definidos pelos valores assumidos por variáveis categóricas.\n",
    "\n",
    "Vejamos um exemplo.\n",
    "\n",
    "O conjunto de dados `Invoices.csv`, contém informações sobre o faturamento de uma empresa em todo o exercício de 2003. Dentre os campos existentes no conjunto de dados há o campo `Date`, que contém a data em que a nota fiscal foi emitida, a partir do qual podemos facilmente criar um novo campo na base de dados contendo o mês de emissão da NF.\n",
    "\n",
    "Observe que este campo terá doze valores distintos (\"Jan\", \"Fev\", ..., \"Dez\") e cada mês define um subconjunto dos dados, para os quais podemos estar interessados em calcular a média, o total , o valor mínimo, o valor máximo, a mediana, etc. dos valores faturados (coluna `Amount`).\n",
    "\n",
    "No caso específico do conjunto de dados `Invoices.csv`, pode ser de interesse do auditor verificar o faturamento médio em cada um dos doze meses do exercício financeiro ou qualquer outra medida resumo para cada mês.\n",
    "\n",
    "O R dispõe das funções **`tapply()`** e **`aggregate()`** que nos permitem realizar este procedimento. \n",
    "\n",
    "Os comandos a seguir ilustram como calcular algumas medidas resumos para o conjunto de dados `Invoices.csv` após criarmos uma nova coluna na base de dados para registrar o mês do faturamento. Utilizaremos inicialmente apenas a função `tapply()`. Posteriormente ilustraremos o uso das funções `by()` e `aggregate()`."
   ]
  },
  {
   "cell_type": "code",
   "execution_count": 1,
   "metadata": {
    "collapsed": false
   },
   "outputs": [
    {
     "data": {
      "text/html": [
       "<table>\n",
       "<thead><tr><th scope=col>Date</th><th scope=col>InvoiceNo</th><th scope=col>CustomerNo</th><th scope=col>SalesPerson</th><th scope=col>ProductNo</th><th scope=col>UnitPrice</th><th scope=col>Quantity</th><th scope=col>Amount</th><th scope=col>Mes</th></tr></thead>\n",
       "<tbody>\n",
       "\t<tr><td>2003-07-09</td><td>20000     </td><td>10220     </td><td> 8        </td><td> 8        </td><td> 9.2      </td><td>41        </td><td>377.2     </td><td>jul       </td></tr>\n",
       "\t<tr><td>2003-08-21</td><td>20001     </td><td>10491     </td><td> 4        </td><td>48        </td><td>14.0      </td><td>30        </td><td>420.0     </td><td>ago       </td></tr>\n",
       "\t<tr><td>2003-08-27</td><td>20002     </td><td>10704     </td><td> 3        </td><td>43        </td><td>15.0      </td><td>25        </td><td>375.0     </td><td>ago       </td></tr>\n",
       "\t<tr><td>2003-05-28</td><td>20003     </td><td>10430     </td><td> 5        </td><td>54        </td><td>24.0      </td><td>22        </td><td>528.0     </td><td>mai       </td></tr>\n",
       "\t<tr><td>2003-12-06</td><td>20004     </td><td>10841     </td><td>17        </td><td>11        </td><td>15.0      </td><td>21        </td><td>315.0     </td><td>dez       </td></tr>\n",
       "\t<tr><td>2003-05-24</td><td>20005     </td><td>10777     </td><td> 1        </td><td> 5        </td><td>12.5      </td><td>50        </td><td>625.0     </td><td>mai       </td></tr>\n",
       "</tbody>\n",
       "</table>\n"
      ],
      "text/latex": [
       "\\begin{tabular}{r|lllllllll}\n",
       " Date & InvoiceNo & CustomerNo & SalesPerson & ProductNo & UnitPrice & Quantity & Amount & Mes\\\\\n",
       "\\hline\n",
       "\t 2003-07-09 & 20000      & 10220      &  8         &  8         &  9.2       & 41         & 377.2      & jul       \\\\\n",
       "\t 2003-08-21 & 20001      & 10491      &  4         & 48         & 14.0       & 30         & 420.0      & ago       \\\\\n",
       "\t 2003-08-27 & 20002      & 10704      &  3         & 43         & 15.0       & 25         & 375.0      & ago       \\\\\n",
       "\t 2003-05-28 & 20003      & 10430      &  5         & 54         & 24.0       & 22         & 528.0      & mai       \\\\\n",
       "\t 2003-12-06 & 20004      & 10841      & 17         & 11         & 15.0       & 21         & 315.0      & dez       \\\\\n",
       "\t 2003-05-24 & 20005      & 10777      &  1         &  5         & 12.5       & 50         & 625.0      & mai       \\\\\n",
       "\\end{tabular}\n"
      ],
      "text/markdown": [
       "\n",
       "Date | InvoiceNo | CustomerNo | SalesPerson | ProductNo | UnitPrice | Quantity | Amount | Mes | \n",
       "|---|---|---|---|---|---|\n",
       "| 2003-07-09 | 20000      | 10220      |  8         |  8         |  9.2       | 41         | 377.2      | jul        | \n",
       "| 2003-08-21 | 20001      | 10491      |  4         | 48         | 14.0       | 30         | 420.0      | ago        | \n",
       "| 2003-08-27 | 20002      | 10704      |  3         | 43         | 15.0       | 25         | 375.0      | ago        | \n",
       "| 2003-05-28 | 20003      | 10430      |  5         | 54         | 24.0       | 22         | 528.0      | mai        | \n",
       "| 2003-12-06 | 20004      | 10841      | 17         | 11         | 15.0       | 21         | 315.0      | dez        | \n",
       "| 2003-05-24 | 20005      | 10777      |  1         |  5         | 12.5       | 50         | 625.0      | mai        | \n",
       "\n",
       "\n"
      ],
      "text/plain": [
       "  Date       InvoiceNo CustomerNo SalesPerson ProductNo UnitPrice Quantity\n",
       "1 2003-07-09 20000     10220       8           8         9.2      41      \n",
       "2 2003-08-21 20001     10491       4          48        14.0      30      \n",
       "3 2003-08-27 20002     10704       3          43        15.0      25      \n",
       "4 2003-05-28 20003     10430       5          54        24.0      22      \n",
       "5 2003-12-06 20004     10841      17          11        15.0      21      \n",
       "6 2003-05-24 20005     10777       1           5        12.5      50      \n",
       "  Amount Mes\n",
       "1 377.2  jul\n",
       "2 420.0  ago\n",
       "3 375.0  ago\n",
       "4 528.0  mai\n",
       "5 315.0  dez\n",
       "6 625.0  mai"
      ]
     },
     "metadata": {},
     "output_type": "display_data"
    }
   ],
   "source": [
    "setwd('C:\\\\Users\\\\Marcos\\\\Documents\\\\GitHub\\\\Usando-R-em-Auditoria\\\\dados')\n",
    "# Importação da base de dados\n",
    "faturamento <- read.csv2(\"Invoices.csv\")\n",
    "# Conversão da coluna Data para o formato de data\n",
    "faturamento$Date <- as.Date(faturamento$Date, \"%d/%m/%Y\")\n",
    "# Criação da coluna Mes na base de dados\n",
    "faturamento <- transform(faturamento, Mes = format(Date, \"%b\"))\n",
    "# Ordenção dos fatores\n",
    "faturamento$Mes <- ordered(faturamento$Mes,\n",
    "                           levels=c(\"jan\", \"fev\", \"mar\", \"abr\", \"mai\", \"jun\", \"jul\", \"ago\" ,\"set\", \"out\", \"nov\", \"dez\"))\n",
    "head(faturamento)"
   ]
  },
  {
   "cell_type": "markdown",
   "metadata": {},
   "source": [
    "## Cálculo do faturamento médio mensal usando a função `tapply()`"
   ]
  },
  {
   "cell_type": "code",
   "execution_count": 2,
   "metadata": {
    "collapsed": false
   },
   "outputs": [
    {
     "data": {
      "text/html": [
       "<dl class=dl-horizontal>\n",
       "\t<dt>jan</dt>\n",
       "\t\t<dd>771.873061728395</dd>\n",
       "\t<dt>fev</dt>\n",
       "\t\t<dd>850.285771276596</dd>\n",
       "\t<dt>mar</dt>\n",
       "\t\t<dd>656.205215311005</dd>\n",
       "\t<dt>abr</dt>\n",
       "\t\t<dd>853.586764705882</dd>\n",
       "\t<dt>mai</dt>\n",
       "\t\t<dd>895.15618226601</dd>\n",
       "\t<dt>jun</dt>\n",
       "\t\t<dd>833.371707317073</dd>\n",
       "\t<dt>jul</dt>\n",
       "\t\t<dd>826.80835443038</dd>\n",
       "\t<dt>ago</dt>\n",
       "\t\t<dd>743.664200913242</dd>\n",
       "\t<dt>set</dt>\n",
       "\t\t<dd>724.803613861386</dd>\n",
       "\t<dt>out</dt>\n",
       "\t\t<dd>735.279212410501</dd>\n",
       "\t<dt>nov</dt>\n",
       "\t\t<dd>764.670776699029</dd>\n",
       "\t<dt>dez</dt>\n",
       "\t\t<dd>783.237300215983</dd>\n",
       "</dl>\n"
      ],
      "text/plain": [
       "     jan      fev      mar      abr      mai      jun      jul      ago \n",
       "771.8731 850.2858 656.2052 853.5868 895.1562 833.3717 826.8084 743.6642 \n",
       "     set      out      nov      dez \n",
       "724.8036 735.2792 764.6708 783.2373 "
      ]
     },
     "metadata": {},
     "output_type": "display_data"
    }
   ],
   "source": [
    "# Faturamento médio mensal\n",
    "with(faturamento,\n",
    "     tapply(Amount, Mes, mean))"
   ]
  },
  {
   "cell_type": "markdown",
   "metadata": {},
   "source": [
    "Resumo mensal:"
   ]
  },
  {
   "cell_type": "code",
   "execution_count": 3,
   "metadata": {
    "collapsed": false
   },
   "outputs": [
    {
     "data": {
      "text/plain": [
       "$jan\n",
       "   Min. 1st Qu.  Median    Mean 3rd Qu.    Max. \n",
       "    5.0   207.1   418.0   771.9   798.0 10800.0 \n",
       "\n",
       "$fev\n",
       "   Min. 1st Qu.  Median    Mean 3rd Qu.    Max. \n",
       "    9.2   226.1   487.5   850.3   887.8 13440.0 \n",
       "\n",
       "$mar\n",
       "   Min. 1st Qu.  Median    Mean 3rd Qu.    Max. \n",
       "    5.0   231.0   460.5   656.2   778.0 11330.0 \n",
       "\n",
       "$abr\n",
       "   Min. 1st Qu.  Median    Mean 3rd Qu.    Max. \n",
       "   15.5   211.9   456.0   853.6   945.3 13440.0 \n",
       "\n",
       "$mai\n",
       "   Min. 1st Qu.  Median    Mean 3rd Qu.    Max. \n",
       "   10.0   234.9   451.2   895.2   798.7 12380.0 \n",
       "\n",
       "$jun\n",
       "   Min. 1st Qu.  Median    Mean 3rd Qu.    Max. \n",
       "    5.0   275.1   489.8   833.4   886.6 12910.0 \n",
       "\n",
       "$jul\n",
       "   Min. 1st Qu.  Median    Mean 3rd Qu.    Max. \n",
       "   12.0   246.5   464.0   826.8   879.5 12910.0 \n",
       "\n",
       "$ago\n",
       "   Min. 1st Qu.  Median    Mean 3rd Qu.    Max. \n",
       "    7.5   203.6   429.8   743.7   858.0  9222.0 \n",
       "\n",
       "$set\n",
       "   Min. 1st Qu.  Median    Mean 3rd Qu.    Max. \n",
       "    9.0   181.5   419.2   724.8   821.0  7378.0 \n",
       "\n",
       "$out\n",
       "   Min. 1st Qu.  Median    Mean 3rd Qu.    Max. \n",
       "    7.0   203.3   424.0   735.3   779.5 10540.0 \n",
       "\n",
       "$nov\n",
       "   Min. 1st Qu.  Median    Mean 3rd Qu.    Max. \n",
       "    9.5   231.0   456.0   764.7   836.0 12120.0 \n",
       "\n",
       "$dez\n",
       "   Min. 1st Qu.  Median    Mean 3rd Qu.    Max. \n",
       "    7.0   220.2   462.5   783.2   821.0 11590.0 \n"
      ]
     },
     "metadata": {},
     "output_type": "display_data"
    }
   ],
   "source": [
    "with(faturamento,\n",
    "     tapply(Amount, Mes, summary))"
   ]
  },
  {
   "cell_type": "markdown",
   "metadata": {},
   "source": [
    "Obs. A função **`with()`** é utilizada aqui apenas para evitarmos ter que escrever, `faturamento\\$Amount`,e `faturamento\\$Mes`, dentro da função `tapply()`. Preferimos usar a função `with()` à função `attach()` que tem a mesma finalidade."
   ]
  },
  {
   "cell_type": "markdown",
   "metadata": {},
   "source": [
    "## Cálculo do faturamento médio mensal usando a função `aggregate()`"
   ]
  },
  {
   "cell_type": "code",
   "execution_count": 11,
   "metadata": {
    "collapsed": false
   },
   "outputs": [
    {
     "data": {
      "text/html": [
       "<table>\n",
       "<thead><tr><th scope=col>Mes</th><th scope=col>x</th></tr></thead>\n",
       "<tbody>\n",
       "\t<tr><td>jan     </td><td>771.8731</td></tr>\n",
       "\t<tr><td>fev     </td><td>850.2858</td></tr>\n",
       "\t<tr><td>mar     </td><td>656.2052</td></tr>\n",
       "\t<tr><td>abr     </td><td>853.5868</td></tr>\n",
       "\t<tr><td>mai     </td><td>895.1562</td></tr>\n",
       "\t<tr><td>jun     </td><td>833.3717</td></tr>\n",
       "\t<tr><td>jul     </td><td>826.8084</td></tr>\n",
       "\t<tr><td>ago     </td><td>743.6642</td></tr>\n",
       "\t<tr><td>set     </td><td>724.8036</td></tr>\n",
       "\t<tr><td>out     </td><td>735.2792</td></tr>\n",
       "\t<tr><td>nov     </td><td>764.6708</td></tr>\n",
       "\t<tr><td>dez     </td><td>783.2373</td></tr>\n",
       "</tbody>\n",
       "</table>\n"
      ],
      "text/latex": [
       "\\begin{tabular}{r|ll}\n",
       " Mes & x\\\\\n",
       "\\hline\n",
       "\t jan      & 771.8731\\\\\n",
       "\t fev      & 850.2858\\\\\n",
       "\t mar      & 656.2052\\\\\n",
       "\t abr      & 853.5868\\\\\n",
       "\t mai      & 895.1562\\\\\n",
       "\t jun      & 833.3717\\\\\n",
       "\t jul      & 826.8084\\\\\n",
       "\t ago      & 743.6642\\\\\n",
       "\t set      & 724.8036\\\\\n",
       "\t out      & 735.2792\\\\\n",
       "\t nov      & 764.6708\\\\\n",
       "\t dez      & 783.2373\\\\\n",
       "\\end{tabular}\n"
      ],
      "text/markdown": [
       "\n",
       "Mes | x | \n",
       "|---|---|---|---|---|---|---|---|---|---|---|---|\n",
       "| jan      | 771.8731 | \n",
       "| fev      | 850.2858 | \n",
       "| mar      | 656.2052 | \n",
       "| abr      | 853.5868 | \n",
       "| mai      | 895.1562 | \n",
       "| jun      | 833.3717 | \n",
       "| jul      | 826.8084 | \n",
       "| ago      | 743.6642 | \n",
       "| set      | 724.8036 | \n",
       "| out      | 735.2792 | \n",
       "| nov      | 764.6708 | \n",
       "| dez      | 783.2373 | \n",
       "\n",
       "\n"
      ],
      "text/plain": [
       "   Mes x       \n",
       "1  jan 771.8731\n",
       "2  fev 850.2858\n",
       "3  mar 656.2052\n",
       "4  abr 853.5868\n",
       "5  mai 895.1562\n",
       "6  jun 833.3717\n",
       "7  jul 826.8084\n",
       "8  ago 743.6642\n",
       "9  set 724.8036\n",
       "10 out 735.2792\n",
       "11 nov 764.6708\n",
       "12 dez 783.2373"
      ]
     },
     "metadata": {},
     "output_type": "display_data"
    }
   ],
   "source": [
    "aggregate(faturamento$Amount, list(Mes=faturamento$Mes), mean)"
   ]
  },
  {
   "cell_type": "markdown",
   "metadata": {},
   "source": [
    "Resumo mensal:"
   ]
  },
  {
   "cell_type": "code",
   "execution_count": 16,
   "metadata": {
    "collapsed": false
   },
   "outputs": [
    {
     "name": "stdout",
     "output_type": "stream",
     "text": [
      "   Mes  x.Min. x.1st Qu. x.Median  x.Mean x.3rd Qu.  x.Max.\n",
      "1  jan     5.0     207.1    418.0   771.9     798.0 10800.0\n",
      "2  fev     9.2     226.1    487.5   850.3     887.8 13440.0\n",
      "3  mar     5.0     231.0    460.5   656.2     778.0 11330.0\n",
      "4  abr    15.5     211.9    456.0   853.6     945.3 13440.0\n",
      "5  mai    10.0     234.9    451.2   895.2     798.7 12380.0\n",
      "6  jun     5.0     275.1    489.8   833.4     886.6 12910.0\n",
      "7  jul    12.0     246.5    464.0   826.8     879.5 12910.0\n",
      "8  ago     7.5     203.6    429.8   743.7     858.0  9222.0\n",
      "9  set     9.0     181.5    419.2   724.8     821.0  7378.0\n",
      "10 out     7.0     203.3    424.0   735.3     779.5 10540.0\n",
      "11 nov     9.5     231.0    456.0   764.7     836.0 12120.0\n",
      "12 dez     7.0     220.2    462.5   783.2     821.0 11590.0\n"
     ]
    }
   ],
   "source": [
    "print(aggregate(faturamento$Amount, list(Mes=faturamento$Mes), summary))"
   ]
  },
  {
   "cell_type": "markdown",
   "metadata": {},
   "source": [
    "**Marcos F Silva**"
   ]
  }
 ],
 "metadata": {
  "kernelspec": {
   "display_name": "R-3.3.1",
   "language": "",
   "name": "ir33"
  },
  "language_info": {
   "codemirror_mode": "r",
   "file_extension": ".r",
   "mimetype": "text/x-r-source",
   "name": "R",
   "pygments_lexer": "r",
   "version": "3.3.1"
  }
 },
 "nbformat": 4,
 "nbformat_minor": 0
}
