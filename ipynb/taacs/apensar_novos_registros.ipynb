{
 "cells": [
  {
   "cell_type": "markdown",
   "metadata": {},
   "source": [
    "# Apensar Novos Registros"
   ]
  },
  {
   "cell_type": "markdown",
   "metadata": {},
   "source": [
    "Algumas vezes surge a necessidade de apensar novos registros (novas linhas) a um conjunto de dados.  Esta situação surge, por exemplo, quando temos arquivos mensais contendo dados de faturamento de uma empresa, ou mesmo arquivos contendo as transações realizadas em determinada conta contábil e desejamos juntar estes arquivos para fazer a análise de todo o exercício financeiro. O R dispõe da função **`rbind()`** que permite realizar este procedimento. Seu uso será ilustrado com os conjuntos de dados `Trans_Abril.xls` e `Trans_Maio.xls` disponíveis no repositório.\n",
    "\n",
    "A primeira coisa a ser feita é a importação do conjunto de dados. Para tanto será utilizado o pacote `readxl`, visto que o R não dispõe de funções nativas para a importação de dados armazenados em planilhas do Excel."
   ]
  },
  {
   "cell_type": "code",
   "execution_count": 1,
   "metadata": {
    "collapsed": false
   },
   "outputs": [
    {
     "name": "stderr",
     "output_type": "stream",
     "text": [
      "Warning message:\n",
      "\"package 'readxl' was built under R version 3.3.2\""
     ]
    }
   ],
   "source": [
    "# Importação dos dados \n",
    "library(readxl)\n",
    "setwd('C:\\\\Users\\\\Marcos\\\\Documents\\\\GitHub\\\\Usando-R-em-Auditoria\\\\dados') \n",
    "\n",
    "abril <- read_excel('Trans_Abril.xls')\n",
    "maio1 <- read_excel('Trans_Maio.xls', sheet='Trans1_Maio')\n",
    "maio2 <- read_excel('Trans_Maio.xls', sheet='Trans2_Maio')"
   ]
  },
  {
   "cell_type": "code",
   "execution_count": 7,
   "metadata": {
    "collapsed": false
   },
   "outputs": [
    {
     "data": {
      "text/html": [
       "<ol class=list-inline>\n",
       "\t<li>285</li>\n",
       "\t<li>6</li>\n",
       "</ol>\n"
      ],
      "text/latex": [
       "\\begin{enumerate*}\n",
       "\\item 285\n",
       "\\item 6\n",
       "\\end{enumerate*}\n"
      ],
      "text/markdown": [
       "1. 285\n",
       "2. 6\n",
       "\n",
       "\n"
      ],
      "text/plain": [
       "[1] 285   6"
      ]
     },
     "metadata": {},
     "output_type": "display_data"
    }
   ],
   "source": [
    "dim(abril)"
   ]
  },
  {
   "cell_type": "code",
   "execution_count": 8,
   "metadata": {
    "collapsed": false
   },
   "outputs": [
    {
     "data": {
      "text/html": [
       "<ol class=list-inline>\n",
       "\t<li>86</li>\n",
       "\t<li>6</li>\n",
       "</ol>\n"
      ],
      "text/latex": [
       "\\begin{enumerate*}\n",
       "\\item 86\n",
       "\\item 6\n",
       "\\end{enumerate*}\n"
      ],
      "text/markdown": [
       "1. 86\n",
       "2. 6\n",
       "\n",
       "\n"
      ],
      "text/plain": [
       "[1] 86  6"
      ]
     },
     "metadata": {},
     "output_type": "display_data"
    }
   ],
   "source": [
    "dim(maio1)"
   ]
  },
  {
   "cell_type": "code",
   "execution_count": 9,
   "metadata": {
    "collapsed": false
   },
   "outputs": [
    {
     "data": {
      "text/html": [
       "<ol class=list-inline>\n",
       "\t<li>114</li>\n",
       "\t<li>6</li>\n",
       "</ol>\n"
      ],
      "text/latex": [
       "\\begin{enumerate*}\n",
       "\\item 114\n",
       "\\item 6\n",
       "\\end{enumerate*}\n"
      ],
      "text/markdown": [
       "1. 114\n",
       "2. 6\n",
       "\n",
       "\n"
      ],
      "text/plain": [
       "[1] 114   6"
      ]
     },
     "metadata": {},
     "output_type": "display_data"
    }
   ],
   "source": [
    "dim(maio2)"
   ]
  },
  {
   "cell_type": "code",
   "execution_count": 4,
   "metadata": {
    "collapsed": false
   },
   "outputs": [
    {
     "data": {
      "text/html": [
       "<table>\n",
       "<thead><tr><th scope=col>Númcartão</th><th scope=col>Valor</th><th scope=col>Data_Trans</th><th scope=col>Códigos</th><th scope=col>Númclien</th><th scope=col>Descrição</th></tr></thead>\n",
       "<tbody>\n",
       "\t<tr><td>8.59012e+15               </td><td>270.63                    </td><td>2003-04-02                </td><td>1731                      </td><td>001000                    </td><td>Contratos de eletricidade </td></tr>\n",
       "\t<tr><td>8.59012e+15               </td><td>899.76                    </td><td>2003-04-02                </td><td>1731                      </td><td>002000                    </td><td>Contratos de eletricidade </td></tr>\n",
       "</tbody>\n",
       "</table>\n"
      ],
      "text/latex": [
       "\\begin{tabular}{r|llllll}\n",
       " Númcartão & Valor & Data\\_Trans & Códigos & Númclien & Descrição\\\\\n",
       "\\hline\n",
       "\t 8.59012e+15                & 270.63                     & 2003-04-02                 & 1731                       & 001000                     & Contratos de eletricidade \\\\\n",
       "\t 8.59012e+15                & 899.76                     & 2003-04-02                 & 1731                       & 002000                     & Contratos de eletricidade \\\\\n",
       "\\end{tabular}\n"
      ],
      "text/markdown": [
       "\n",
       "Númcartão | Valor | Data_Trans | Códigos | Númclien | Descrição | \n",
       "|---|---|\n",
       "| 8.59012e+15                | 270.63                     | 2003-04-02                 | 1731                       | 001000                     | Contratos de eletricidade  | \n",
       "| 8.59012e+15                | 899.76                     | 2003-04-02                 | 1731                       | 002000                     | Contratos de eletricidade  | \n",
       "\n",
       "\n"
      ],
      "text/plain": [
       "  Númcartão   Valor  Data_Trans Códigos Númclien Descrição                 \n",
       "1 8.59012e+15 270.63 2003-04-02 1731    001000   Contratos de eletricidade \n",
       "2 8.59012e+15 899.76 2003-04-02 1731    002000   Contratos de eletricidade "
      ]
     },
     "metadata": {},
     "output_type": "display_data"
    }
   ],
   "source": [
    "head(abril, 2)"
   ]
  },
  {
   "cell_type": "code",
   "execution_count": 5,
   "metadata": {
    "collapsed": false
   },
   "outputs": [
    {
     "data": {
      "text/html": [
       "<table>\n",
       "<thead><tr><th scope=col>Númcartão</th><th scope=col>Códigos</th><th scope=col>Data_Trans</th><th scope=col>Númclien</th><th scope=col>Descrição</th><th scope=col>Valor</th></tr></thead>\n",
       "<tbody>\n",
       "\t<tr><td>8590 1252 7244 7003                                    </td><td>4131                                                   </td><td>2003-05-27                                             </td><td>925007                                                 </td><td>Linhas de ônibus, incluindo charters, ônibus de turismo</td><td>$108.01                                                </td></tr>\n",
       "\t<tr><td>8590128346463420                                       </td><td>4214                                                   </td><td>2003-05-28                                             </td><td>051593                                                 </td><td>Serviços de entrega - Local                            </td><td>$71.57                                                 </td></tr>\n",
       "</tbody>\n",
       "</table>\n"
      ],
      "text/latex": [
       "\\begin{tabular}{r|llllll}\n",
       " Númcartão & Códigos & Data\\_Trans & Númclien & Descrição & Valor\\\\\n",
       "\\hline\n",
       "\t 8590 1252 7244 7003                                     & 4131                                                    & 2003-05-27                                              & 925007                                                  & Linhas de ônibus, incluindo charters, ônibus de turismo & \\$108.01                                              \\\\\n",
       "\t 8590128346463420                                        & 4214                                                    & 2003-05-28                                              & 051593                                                  & Serviços de entrega - Local                             & \\$71.57                                               \\\\\n",
       "\\end{tabular}\n"
      ],
      "text/markdown": [
       "\n",
       "Númcartão | Códigos | Data_Trans | Númclien | Descrição | Valor | \n",
       "|---|---|\n",
       "| 8590 1252 7244 7003                                     | 4131                                                    | 2003-05-27                                              | 925007                                                  | Linhas de ônibus, incluindo charters, ônibus de turismo | $108.01                                                 | \n",
       "| 8590128346463420                                        | 4214                                                    | 2003-05-28                                              | 051593                                                  | Serviços de entrega - Local                             | $71.57                                                  | \n",
       "\n",
       "\n"
      ],
      "text/plain": [
       "  Númcartão           Códigos Data_Trans Númclien\n",
       "1 8590 1252 7244 7003 4131    2003-05-27 925007  \n",
       "2 8590128346463420    4214    2003-05-28 051593  \n",
       "  Descrição                                               Valor  \n",
       "1 Linhas de ônibus, incluindo charters, ônibus de turismo $108.01\n",
       "2 Serviços de entrega - Local                             $71.57 "
      ]
     },
     "metadata": {},
     "output_type": "display_data"
    }
   ],
   "source": [
    "head(maio1, 2)"
   ]
  },
  {
   "cell_type": "code",
   "execution_count": 6,
   "metadata": {
    "collapsed": false
   },
   "outputs": [
    {
     "data": {
      "text/html": [
       "<table>\n",
       "<thead><tr><th scope=col>Númcartão</th><th scope=col>Códigos</th><th scope=col>Data_Trans</th><th scope=col>Númclien</th><th scope=col>Descrição</th><th scope=col>Valor</th></tr></thead>\n",
       "<tbody>\n",
       "\t<tr><td>8590-1224-9766-3807              </td><td>2741                             </td><td>2003-05-04                       </td><td>962353                           </td><td>Publicações e impressões diversas</td><td>$510.43                          </td></tr>\n",
       "\t<tr><td>8590122281964011                 </td><td>5021                             </td><td>2003-05-01                       </td><td>812465                           </td><td>Móveis de escritório e comerciais</td><td>$178.96                          </td></tr>\n",
       "</tbody>\n",
       "</table>\n"
      ],
      "text/latex": [
       "\\begin{tabular}{r|llllll}\n",
       " Númcartão & Códigos & Data\\_Trans & Númclien & Descrição & Valor\\\\\n",
       "\\hline\n",
       "\t 8590-1224-9766-3807               & 2741                              & 2003-05-04                        & 962353                            & Publicações e impressões diversas & \\$510.43                        \\\\\n",
       "\t 8590122281964011                  & 5021                              & 2003-05-01                        & 812465                            & Móveis de escritório e comerciais & \\$178.96                        \\\\\n",
       "\\end{tabular}\n"
      ],
      "text/markdown": [
       "\n",
       "Númcartão | Códigos | Data_Trans | Númclien | Descrição | Valor | \n",
       "|---|---|\n",
       "| 8590-1224-9766-3807               | 2741                              | 2003-05-04                        | 962353                            | Publicações e impressões diversas | $510.43                           | \n",
       "| 8590122281964011                  | 5021                              | 2003-05-01                        | 812465                            | Móveis de escritório e comerciais | $178.96                           | \n",
       "\n",
       "\n"
      ],
      "text/plain": [
       "  Númcartão           Códigos Data_Trans Númclien\n",
       "1 8590-1224-9766-3807 2741    2003-05-04 962353  \n",
       "2 8590122281964011    5021    2003-05-01 812465  \n",
       "  Descrição                         Valor  \n",
       "1 Publicações e impressões diversas $510.43\n",
       "2 Móveis de escritório e comerciais $178.96"
      ]
     },
     "metadata": {},
     "output_type": "display_data"
    }
   ],
   "source": [
    "head(maio2, 2)"
   ]
  },
  {
   "cell_type": "markdown",
   "metadata": {},
   "source": [
    "Examinando os nomes das colunas nas três bases de dados, verifica-se que a base de abril possui as colunas em posições diferentes das posições nas bases de maio1 e maio2. Para que a função `rbind()` possa juntar os arquivos é necessários que as colunas estejam nas mesmas posições em todas bases a serem juntadas. Um forma de organizar as colunas é a que se apresenta a seguir:"
   ]
  },
  {
   "cell_type": "code",
   "execution_count": 13,
   "metadata": {
    "collapsed": false
   },
   "outputs": [
    {
     "data": {
      "text/html": [
       "<ol class=list-inline>\n",
       "\t<li>'Númcartão'</li>\n",
       "\t<li>'Valor'</li>\n",
       "\t<li>'Data_Trans'</li>\n",
       "\t<li>'Códigos'</li>\n",
       "\t<li>'Númclien'</li>\n",
       "\t<li>'Descrição'</li>\n",
       "</ol>\n"
      ],
      "text/latex": [
       "\\begin{enumerate*}\n",
       "\\item 'Númcartão'\n",
       "\\item 'Valor'\n",
       "\\item 'Data\\_Trans'\n",
       "\\item 'Códigos'\n",
       "\\item 'Númclien'\n",
       "\\item 'Descrição'\n",
       "\\end{enumerate*}\n"
      ],
      "text/markdown": [
       "1. 'Númcartão'\n",
       "2. 'Valor'\n",
       "3. 'Data_Trans'\n",
       "4. 'Códigos'\n",
       "5. 'Númclien'\n",
       "6. 'Descrição'\n",
       "\n",
       "\n"
      ],
      "text/plain": [
       "[1] \"Númcartão\"  \"Valor\"      \"Data_Trans\" \"Códigos\"    \"Númclien\"  \n",
       "[6] \"Descrição\" "
      ]
     },
     "metadata": {},
     "output_type": "display_data"
    }
   ],
   "source": [
    "colunas <- intersect(names(abril), names(maio1))\n",
    "colunas <- intersect(colunas, names(maio2))\n",
    "colunas"
   ]
  },
  {
   "cell_type": "markdown",
   "metadata": {},
   "source": [
    "Para combinarmos estes 3 arquivos em um único, pode-se proceder da seguinte forma:"
   ]
  },
  {
   "cell_type": "code",
   "execution_count": 14,
   "metadata": {
    "collapsed": false
   },
   "outputs": [
    {
     "data": {
      "text/html": [
       "<table>\n",
       "<thead><tr><th scope=col>Númcartão</th><th scope=col>Valor</th><th scope=col>Data_Trans</th><th scope=col>Códigos</th><th scope=col>Númclien</th><th scope=col>Descrição</th></tr></thead>\n",
       "<tbody>\n",
       "\t<tr><td>8590120032047834                 </td><td>270.63                           </td><td>2003-04-02                       </td><td>1731                             </td><td>001000                           </td><td>Contratos de eletricidade        </td></tr>\n",
       "\t<tr><td>8590120092563655                 </td><td>899.76                           </td><td>2003-04-02                       </td><td>1731                             </td><td>002000                           </td><td>Contratos de eletricidade        </td></tr>\n",
       "\t<tr><td>8590120233319873                 </td><td>730.46                           </td><td>2003-04-04                       </td><td>1750                             </td><td>250402                           </td><td>Contratos de carpintaria         </td></tr>\n",
       "\t<tr><td>8590120534914664                 </td><td>106.01                           </td><td>2003-04-08                       </td><td>1750                             </td><td>003000                           </td><td>Contratos de carpintaria         </td></tr>\n",
       "\t<tr><td>8590120674263418                 </td><td>309.37                           </td><td>2003-04-08                       </td><td>2741                             </td><td>001000                           </td><td>Publicações e impressões diversas</td></tr>\n",
       "\t<tr><td>8590120716753180                 </td><td>534.14                           </td><td>2003-04-15                       </td><td>2741                             </td><td>002000                           </td><td>Publicações e impressões diversas</td></tr>\n",
       "</tbody>\n",
       "</table>\n"
      ],
      "text/latex": [
       "\\begin{tabular}{r|llllll}\n",
       " Númcartão & Valor & Data\\_Trans & Códigos & Númclien & Descrição\\\\\n",
       "\\hline\n",
       "\t 8590120032047834                  & 270.63                            & 2003-04-02                        & 1731                              & 001000                            & Contratos de eletricidade        \\\\\n",
       "\t 8590120092563655                  & 899.76                            & 2003-04-02                        & 1731                              & 002000                            & Contratos de eletricidade        \\\\\n",
       "\t 8590120233319873                  & 730.46                            & 2003-04-04                        & 1750                              & 250402                            & Contratos de carpintaria         \\\\\n",
       "\t 8590120534914664                  & 106.01                            & 2003-04-08                        & 1750                              & 003000                            & Contratos de carpintaria         \\\\\n",
       "\t 8590120674263418                  & 309.37                            & 2003-04-08                        & 2741                              & 001000                            & Publicações e impressões diversas\\\\\n",
       "\t 8590120716753180                  & 534.14                            & 2003-04-15                        & 2741                              & 002000                            & Publicações e impressões diversas\\\\\n",
       "\\end{tabular}\n"
      ],
      "text/markdown": [
       "\n",
       "Númcartão | Valor | Data_Trans | Códigos | Númclien | Descrição | \n",
       "|---|---|---|---|---|---|\n",
       "| 8590120032047834                  | 270.63                            | 2003-04-02                        | 1731                              | 001000                            | Contratos de eletricidade         | \n",
       "| 8590120092563655                  | 899.76                            | 2003-04-02                        | 1731                              | 002000                            | Contratos de eletricidade         | \n",
       "| 8590120233319873                  | 730.46                            | 2003-04-04                        | 1750                              | 250402                            | Contratos de carpintaria          | \n",
       "| 8590120534914664                  | 106.01                            | 2003-04-08                        | 1750                              | 003000                            | Contratos de carpintaria          | \n",
       "| 8590120674263418                  | 309.37                            | 2003-04-08                        | 2741                              | 001000                            | Publicações e impressões diversas | \n",
       "| 8590120716753180                  | 534.14                            | 2003-04-15                        | 2741                              | 002000                            | Publicações e impressões diversas | \n",
       "\n",
       "\n"
      ],
      "text/plain": [
       "  Númcartão        Valor  Data_Trans Códigos Númclien\n",
       "1 8590120032047834 270.63 2003-04-02 1731    001000  \n",
       "2 8590120092563655 899.76 2003-04-02 1731    002000  \n",
       "3 8590120233319873 730.46 2003-04-04 1750    250402  \n",
       "4 8590120534914664 106.01 2003-04-08 1750    003000  \n",
       "5 8590120674263418 309.37 2003-04-08 2741    001000  \n",
       "6 8590120716753180 534.14 2003-04-15 2741    002000  \n",
       "  Descrição                        \n",
       "1 Contratos de eletricidade        \n",
       "2 Contratos de eletricidade        \n",
       "3 Contratos de carpintaria         \n",
       "4 Contratos de carpintaria         \n",
       "5 Publicações e impressões diversas\n",
       "6 Publicações e impressões diversas"
      ]
     },
     "metadata": {},
     "output_type": "display_data"
    }
   ],
   "source": [
    "dados <- rbind(abril, maio1, maio2)\n",
    "head(dados)"
   ]
  },
  {
   "cell_type": "code",
   "execution_count": 15,
   "metadata": {
    "collapsed": false
   },
   "outputs": [
    {
     "data": {
      "text/html": [
       "<ol class=list-inline>\n",
       "\t<li>485</li>\n",
       "\t<li>6</li>\n",
       "</ol>\n"
      ],
      "text/latex": [
       "\\begin{enumerate*}\n",
       "\\item 485\n",
       "\\item 6\n",
       "\\end{enumerate*}\n"
      ],
      "text/markdown": [
       "1. 485\n",
       "2. 6\n",
       "\n",
       "\n"
      ],
      "text/plain": [
       "[1] 485   6"
      ]
     },
     "metadata": {},
     "output_type": "display_data"
    }
   ],
   "source": [
    "dim(dados)"
   ]
  },
  {
   "cell_type": "markdown",
   "metadata": {},
   "source": [
    "Como é possível ver, a quantidade de registros no conjunto de dados `dados` é igual a soma dos registros existentes em abril, maio1 e maio2."
   ]
  },
  {
   "cell_type": "code",
   "execution_count": 16,
   "metadata": {
    "collapsed": false
   },
   "outputs": [
    {
     "data": {
      "text/html": [
       "485"
      ],
      "text/latex": [
       "485"
      ],
      "text/markdown": [
       "485"
      ],
      "text/plain": [
       "[1] 485"
      ]
     },
     "metadata": {},
     "output_type": "display_data"
    }
   ],
   "source": [
    "nrow(abril) + nrow(maio1) + nrow(maio2)"
   ]
  }
 ],
 "metadata": {
  "kernelspec": {
   "display_name": "R-3.3.1",
   "language": "",
   "name": "ir33"
  },
  "language_info": {
   "codemirror_mode": "r",
   "file_extension": ".r",
   "mimetype": "text/x-r-source",
   "name": "R",
   "pygments_lexer": "r",
   "version": "3.3.1"
  }
 },
 "nbformat": 4,
 "nbformat_minor": 0
}
