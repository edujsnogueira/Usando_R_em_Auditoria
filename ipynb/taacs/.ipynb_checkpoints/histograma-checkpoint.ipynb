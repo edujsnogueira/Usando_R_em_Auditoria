{
 "cells": [
  {
   "cell_type": "markdown",
   "metadata": {},
   "source": [
    "# Histograma"
   ]
  },
  {
   "cell_type": "markdown",
   "metadata": {},
   "source": [
    "O histograma é um gráfico largamente utilizado para representar a distribuição de freqüências de variáveis quantitativas. Para a construção de histogramas o R dispõe da função **`hist()`** cuja utilização será ilustrada com o uso do conjunto de dados `ilc.txt`.\n",
    "\n",
    "Vamos elaborar o histograma da variável `ilc`, que contém o valor do índice de liquidez corrente para um conjunto de 99 empresas.\n",
    "\n",
    "A importação dos dados para o R é feita da seguinte forma:"
   ]
  },
  {
   "cell_type": "code",
   "execution_count": 1,
   "metadata": {
    "collapsed": true
   },
   "outputs": [],
   "source": [
    "setwd('C:\\\\Users\\\\Marcos\\\\Documents\\\\GitHub\\\\Usando-R-em-Auditoria\\\\dados')\n",
    "empresas <- read.table(\"ilc.txt\", header=TRUE)"
   ]
  },
  {
   "cell_type": "markdown",
   "metadata": {},
   "source": [
    "Para verificarmos o conteúdo do objeto `empresas`, utilizamos a função `str()`, que nos fornece a quantidade de linhas e colunas e o tipo das variáveis contidas no objeto `empresas`. "
   ]
  },
  {
   "cell_type": "code",
   "execution_count": 2,
   "metadata": {
    "collapsed": false
   },
   "outputs": [
    {
     "name": "stdout",
     "output_type": "stream",
     "text": [
      "'data.frame':\t99 obs. of  2 variables:\n",
      " $ ilc     : num  1.86 1.89 1.93 1.94 1.97 2.85 2.02 2.1 3.02 1.43 ...\n",
      " $ situacao: Factor w/ 2 levels \"insolvente\",\"solvente\": 2 2 2 2 2 2 2 2 2 2 ...\n"
     ]
    }
   ],
   "source": [
    "str(empresas)"
   ]
  },
  {
   "cell_type": "markdown",
   "metadata": {},
   "source": [
    "O histograma é produzido da seguinte forma:"
   ]
  },
  {
   "cell_type": "code",
   "execution_count": 4,
   "metadata": {
    "collapsed": false
   },
   "outputs": [
    {
     "data": {
      "image/png": "[encoded data removed]",
      "text/plain": [
       "Plot with title \"Histograma - ILC\""
      ]
     },
     "metadata": {},
     "output_type": "display_data"
    }
   ],
   "source": [
    "options(repr.plot.width = 5, repr.plot.height = 5) # Alterar o tamanho do gráfico - 5 pol. de altura por 5 pol. de largura\n",
    "hist(empresas$ilc,\n",
    "     main=\"Histograma - ILC\",\n",
    "     xlab=\"Intervalos de Classes\",\n",
    "     ylab=\"Freqüências Absolutas\",\n",
    "     col=\"yellow\")"
   ]
  },
  {
   "cell_type": "markdown",
   "metadata": {},
   "source": [
    "O histograma acima sugere uma leve assimetria positiva na distribuição dos dados. O histograma foi construído utilizando 7 intervalos de classe. A função `hist()` utiliza por *default* a regra de Sturges para o cálculo da quantidade de intervalos de classe a serem utilizados na construção do histograma.\n",
    "\n",
    "A função `hist()` permite que especifiquemos quantos intervalos de classe de igual amplitude desejamos utilizar. Vejamos um exemplo, onde definiremos 10 intervalos de classe:"
   ]
  },
  {
   "cell_type": "code",
   "execution_count": 5,
   "metadata": {
    "collapsed": false
   },
   "outputs": [
    {
     "data": {
      "image/png": "[encoded data removed]",
      "text/plain": [
       "Plot with title \"Histograma - ILC\""
      ]
     },
     "metadata": {},
     "output_type": "display_data"
    }
   ],
   "source": [
    "options(repr.plot.width = 5, repr.plot.height = 5) # Alterar o tamanho do gráfico - 5 pol. de altura por 5 pol. de largura\n",
    "hist(empresas$ilc, breaks=10,\n",
    "     main=\"Histograma - ILC\",\n",
    "     xlab=\"Intervalos de Classes\",\n",
    "     ylab=\"Freqüências Absolutas\",\n",
    "     col=\"yellow\")"
   ]
  },
  {
   "cell_type": "markdown",
   "metadata": {},
   "source": [
    "Com esta modificação na quantidade de intervalos de classe a distribuição aparenta ser simétrica com algumas observações mais afastadas.\n",
    "\n",
    "Os dois gráficos acima sugerem ser sempre uma boa idéia experimentar quantidades de intervalos de classe diferentes quando da elaboração de histogramas, visto que dependendo da quantidade de intervalos de classe ou dos limites utilizados para a construção dos mesmos, podemos ter uma ideia equivocada da forma da distribuição."
   ]
  }
 ],
 "metadata": {
  "kernelspec": {
   "display_name": "R-3.3.1",
   "language": "",
   "name": "ir33"
  },
  "language_info": {
   "codemirror_mode": "r",
   "file_extension": ".r",
   "mimetype": "text/x-r-source",
   "name": "R",
   "pygments_lexer": "r",
   "version": "3.3.1"
  }
 },
 "nbformat": 4,
 "nbformat_minor": 0
}
