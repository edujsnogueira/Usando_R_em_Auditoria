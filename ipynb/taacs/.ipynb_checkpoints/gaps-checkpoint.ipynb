{
 "cells": [
  {
   "cell_type": "markdown",
   "metadata": {},
   "source": [
    "# _Gaps_"
   ]
  },
  {
   "cell_type": "markdown",
   "metadata": {},
   "source": [
    "Diversos documentos são emitidos seguindo uma numeração sequencial; o que permite um maior controle sobre os mesmos. Exemplos disso são a numeração sequencial das notas fiscais emitidas por uma empresa, dos cheques emitidos, das notas de empenhos, dos contratos celebrados, etc.\n",
    "\n",
    "Um recurso muito útil e usualmente disponível nos softwares de auditoria de uso geral é a possibilidade de idenficar a existência de itens faltantes em um conjunto de dados, ou seja, verificar se existe algum *gap* (lacuna) na numeração sequencial.\n",
    "\n",
    "Vamos ilustrar como fazer isso usando o conjunto de dados `Invoices.csv`.\n",
    "\n",
    "A abordagem utilizada será descrita a seguir:"
   ]
  },
  {
   "cell_type": "code",
   "execution_count": 1,
   "metadata": {
    "collapsed": false
   },
   "outputs": [
    {
     "data": {
      "text/html": [
       "<table>\n",
       "<thead><tr><th scope=col>Date</th><th scope=col>InvoiceNo</th><th scope=col>CustomerNo</th><th scope=col>SalesPerson</th><th scope=col>ProductNo</th><th scope=col>UnitPrice</th><th scope=col>Quantity</th><th scope=col>Amount</th></tr></thead>\n",
       "<tbody>\n",
       "\t<tr><td>09/07/2003</td><td>20000     </td><td>10220     </td><td> 8        </td><td> 8        </td><td> 9.2      </td><td>41        </td><td>377.2     </td></tr>\n",
       "\t<tr><td>21/08/2003</td><td>20001     </td><td>10491     </td><td> 4        </td><td>48        </td><td>14.0      </td><td>30        </td><td>420.0     </td></tr>\n",
       "\t<tr><td>27/08/2003</td><td>20002     </td><td>10704     </td><td> 3        </td><td>43        </td><td>15.0      </td><td>25        </td><td>375.0     </td></tr>\n",
       "\t<tr><td>28/05/2003</td><td>20003     </td><td>10430     </td><td> 5        </td><td>54        </td><td>24.0      </td><td>22        </td><td>528.0     </td></tr>\n",
       "\t<tr><td>06/12/2003</td><td>20004     </td><td>10841     </td><td>17        </td><td>11        </td><td>15.0      </td><td>21        </td><td>315.0     </td></tr>\n",
       "\t<tr><td>24/05/2003</td><td>20005     </td><td>10777     </td><td> 1        </td><td> 5        </td><td>12.5      </td><td>50        </td><td>625.0     </td></tr>\n",
       "</tbody>\n",
       "</table>\n"
      ],
      "text/latex": [
       "\\begin{tabular}{r|llllllll}\n",
       " Date & InvoiceNo & CustomerNo & SalesPerson & ProductNo & UnitPrice & Quantity & Amount\\\\\n",
       "\\hline\n",
       "\t 09/07/2003 & 20000      & 10220      &  8         &  8         &  9.2       & 41         & 377.2     \\\\\n",
       "\t 21/08/2003 & 20001      & 10491      &  4         & 48         & 14.0       & 30         & 420.0     \\\\\n",
       "\t 27/08/2003 & 20002      & 10704      &  3         & 43         & 15.0       & 25         & 375.0     \\\\\n",
       "\t 28/05/2003 & 20003      & 10430      &  5         & 54         & 24.0       & 22         & 528.0     \\\\\n",
       "\t 06/12/2003 & 20004      & 10841      & 17         & 11         & 15.0       & 21         & 315.0     \\\\\n",
       "\t 24/05/2003 & 20005      & 10777      &  1         &  5         & 12.5       & 50         & 625.0     \\\\\n",
       "\\end{tabular}\n"
      ],
      "text/markdown": [
       "\n",
       "Date | InvoiceNo | CustomerNo | SalesPerson | ProductNo | UnitPrice | Quantity | Amount | \n",
       "|---|---|---|---|---|---|\n",
       "| 09/07/2003 | 20000      | 10220      |  8         |  8         |  9.2       | 41         | 377.2      | \n",
       "| 21/08/2003 | 20001      | 10491      |  4         | 48         | 14.0       | 30         | 420.0      | \n",
       "| 27/08/2003 | 20002      | 10704      |  3         | 43         | 15.0       | 25         | 375.0      | \n",
       "| 28/05/2003 | 20003      | 10430      |  5         | 54         | 24.0       | 22         | 528.0      | \n",
       "| 06/12/2003 | 20004      | 10841      | 17         | 11         | 15.0       | 21         | 315.0      | \n",
       "| 24/05/2003 | 20005      | 10777      |  1         |  5         | 12.5       | 50         | 625.0      | \n",
       "\n",
       "\n"
      ],
      "text/plain": [
       "  Date       InvoiceNo CustomerNo SalesPerson ProductNo UnitPrice Quantity\n",
       "1 09/07/2003 20000     10220       8           8         9.2      41      \n",
       "2 21/08/2003 20001     10491       4          48        14.0      30      \n",
       "3 27/08/2003 20002     10704       3          43        15.0      25      \n",
       "4 28/05/2003 20003     10430       5          54        24.0      22      \n",
       "5 06/12/2003 20004     10841      17          11        15.0      21      \n",
       "6 24/05/2003 20005     10777       1           5        12.5      50      \n",
       "  Amount\n",
       "1 377.2 \n",
       "2 420.0 \n",
       "3 375.0 \n",
       "4 528.0 \n",
       "5 315.0 \n",
       "6 625.0 "
      ]
     },
     "metadata": {},
     "output_type": "display_data"
    }
   ],
   "source": [
    "setwd('C:\\\\Users\\\\Marcos\\\\Documents\\\\GitHub\\\\Usando-R-em-Auditoria\\\\dados')\n",
    "faturas <- read.csv2(\"Invoices.csv\", as.is=TRUE)\n",
    "head(faturas)"
   ]
  },
  {
   "cell_type": "markdown",
   "metadata": {},
   "source": [
    "O conjunto de dados será ordenado com base na numeração sequencial das faturas e cada elemento será subtraído do seu antecessor. Se não houver falha na numeração sequencial, espera-se obter como resultado um vetor contendo apenas 1. Onde o resultado for diferente de 1 haverá uma falha. Vejamos como fazer isso na prática."
   ]
  },
  {
   "cell_type": "markdown",
   "metadata": {},
   "source": [
    "**1.** - Ordenação do conjunto de dados com base no número das faturas"
   ]
  },
  {
   "cell_type": "code",
   "execution_count": 2,
   "metadata": {
    "collapsed": true
   },
   "outputs": [],
   "source": [
    "faturas <- faturas[order(faturas$InvoiceNo),]"
   ]
  },
  {
   "cell_type": "markdown",
   "metadata": {},
   "source": [
    "**2.** - Cálculo das diferenças"
   ]
  },
  {
   "cell_type": "code",
   "execution_count": 3,
   "metadata": {
    "collapsed": true
   },
   "outputs": [],
   "source": [
    "diferencas <- diff(faturas$InvoiceNo)"
   ]
  },
  {
   "cell_type": "markdown",
   "metadata": {},
   "source": [
    "**3.** - Identificação dos registros onde há gaps"
   ]
  },
  {
   "cell_type": "code",
   "execution_count": 4,
   "metadata": {
    "collapsed": false
   },
   "outputs": [
    {
     "data": {
      "text/html": [
       "<ol class=list-inline>\n",
       "\t<li>11</li>\n",
       "\t<li>12</li>\n",
       "\t<li>23</li>\n",
       "</ol>\n"
      ],
      "text/latex": [
       "\\begin{enumerate*}\n",
       "\\item 11\n",
       "\\item 12\n",
       "\\item 23\n",
       "\\end{enumerate*}\n"
      ],
      "text/markdown": [
       "1. 11\n",
       "2. 12\n",
       "3. 23\n",
       "\n",
       "\n"
      ],
      "text/plain": [
       "[1] 11 12 23"
      ]
     },
     "metadata": {},
     "output_type": "display_data"
    }
   ],
   "source": [
    "which(diferencas != 1)"
   ]
  },
  {
   "cell_type": "markdown",
   "metadata": {},
   "source": [
    "O resultado acima mostra que há problema entre os itens mostrados e seus sucessores, ou seja, entre os itens 11 e 12, 12 e 13 e entre os itens 23 e 24.\n",
    "\n",
    "Agora é só inspecionar estes itens:"
   ]
  },
  {
   "cell_type": "code",
   "execution_count": 5,
   "metadata": {
    "collapsed": false
   },
   "outputs": [
    {
     "data": {
      "text/html": [
       "<table>\n",
       "<thead><tr><th></th><th scope=col>Date</th><th scope=col>InvoiceNo</th><th scope=col>CustomerNo</th><th scope=col>SalesPerson</th><th scope=col>ProductNo</th><th scope=col>UnitPrice</th><th scope=col>Quantity</th><th scope=col>Amount</th></tr></thead>\n",
       "<tbody>\n",
       "\t<tr><th scope=row>11</th><td>14/01/2003</td><td>20010     </td><td>10439     </td><td>19        </td><td>38        </td><td> 7.45     </td><td>28        </td><td> 208.6    </td></tr>\n",
       "\t<tr><th scope=row>12</th><td>14/01/2003</td><td>20010     </td><td>10439     </td><td>99        </td><td>38        </td><td> 7.45     </td><td>28        </td><td> 208.6    </td></tr>\n",
       "\t<tr><th scope=row>13</th><td>29/08/2003</td><td>20012     </td><td>10919     </td><td>11        </td><td>31        </td><td>21.05     </td><td>28        </td><td> 589.4    </td></tr>\n",
       "\t<tr><th scope=row>23</th><td>29/11/2003</td><td>20022     </td><td>10355     </td><td>15        </td><td>12        </td><td>46.00     </td><td>12        </td><td> 552.0    </td></tr>\n",
       "\t<tr><th scope=row>24</th><td>17/01/2003</td><td>20024     </td><td>10459     </td><td>24        </td><td>61        </td><td>31.00     </td><td>42        </td><td>1302.0    </td></tr>\n",
       "</tbody>\n",
       "</table>\n"
      ],
      "text/latex": [
       "\\begin{tabular}{r|llllllll}\n",
       "  & Date & InvoiceNo & CustomerNo & SalesPerson & ProductNo & UnitPrice & Quantity & Amount\\\\\n",
       "\\hline\n",
       "\t11 & 14/01/2003 & 20010      & 10439      & 19         & 38         &  7.45      & 28         &  208.6    \\\\\n",
       "\t12 & 14/01/2003 & 20010      & 10439      & 99         & 38         &  7.45      & 28         &  208.6    \\\\\n",
       "\t13 & 29/08/2003 & 20012      & 10919      & 11         & 31         & 21.05      & 28         &  589.4    \\\\\n",
       "\t23 & 29/11/2003 & 20022      & 10355      & 15         & 12         & 46.00      & 12         &  552.0    \\\\\n",
       "\t24 & 17/01/2003 & 20024      & 10459      & 24         & 61         & 31.00      & 42         & 1302.0    \\\\\n",
       "\\end{tabular}\n"
      ],
      "text/markdown": [
       "\n",
       "| <!--/--> | Date | InvoiceNo | CustomerNo | SalesPerson | ProductNo | UnitPrice | Quantity | Amount | \n",
       "|---|---|---|---|---|\n",
       "| 11 | 14/01/2003 | 20010      | 10439      | 19         | 38         |  7.45      | 28         |  208.6     | \n",
       "| 12 | 14/01/2003 | 20010      | 10439      | 99         | 38         |  7.45      | 28         |  208.6     | \n",
       "| 13 | 29/08/2003 | 20012      | 10919      | 11         | 31         | 21.05      | 28         |  589.4     | \n",
       "| 23 | 29/11/2003 | 20022      | 10355      | 15         | 12         | 46.00      | 12         |  552.0     | \n",
       "| 24 | 17/01/2003 | 20024      | 10459      | 24         | 61         | 31.00      | 42         | 1302.0     | \n",
       "\n",
       "\n"
      ],
      "text/plain": [
       "   Date       InvoiceNo CustomerNo SalesPerson ProductNo UnitPrice Quantity\n",
       "11 14/01/2003 20010     10439      19          38         7.45     28      \n",
       "12 14/01/2003 20010     10439      99          38         7.45     28      \n",
       "13 29/08/2003 20012     10919      11          31        21.05     28      \n",
       "23 29/11/2003 20022     10355      15          12        46.00     12      \n",
       "24 17/01/2003 20024     10459      24          61        31.00     42      \n",
       "   Amount\n",
       "11  208.6\n",
       "12  208.6\n",
       "13  589.4\n",
       "23  552.0\n",
       "24 1302.0"
      ]
     },
     "metadata": {},
     "output_type": "display_data"
    }
   ],
   "source": [
    "faturas[c(11,12, 13, 23, 24),]"
   ]
  },
  {
   "cell_type": "markdown",
   "metadata": {},
   "source": [
    "A análise do quadro acime evidencia as seguintes situações: a fatura 20010 está duplicada, faltam as faturas 20011 e 20023."
   ]
  }
 ],
 "metadata": {
  "kernelspec": {
   "display_name": "R-3.3.1",
   "language": "",
   "name": "ir33"
  },
  "language_info": {
   "codemirror_mode": "r",
   "file_extension": ".r",
   "mimetype": "text/x-r-source",
   "name": "R",
   "pygments_lexer": "r",
   "version": "3.3.1"
  }
 },
 "nbformat": 4,
 "nbformat_minor": 0
}
