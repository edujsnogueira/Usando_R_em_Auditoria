{
 "cells": [
  {
   "cell_type": "markdown",
   "metadata": {},
   "source": [
    "# Recodificação de Variáveis"
   ]
  },
  {
   "cell_type": "markdown",
   "metadata": {},
   "source": [
    "É comum que durante uma análise exploratória dos dados, o auditor se depare com a necessidade de corrigir valores inconsistentes em campos da base de dados que está a examinar.\n",
    "\n",
    "Por exemplo, pode ser que num campo relativo ao sexo de dos funcionários os valores da variável estejam grafados como: `Masculino`, `Masc`, `M`, `Masc.`, `masc.`, etc. As mesmas variações também podem existir para o sexo feminino. Assim, faz-se necessário corrigir os valores para que se possa prosseguir com a análise dos dados.\n",
    "\n",
    "A este procedimento de correção dos valores de um campo estamos chamando de `recodificação de variáveis`. \n",
    "\n",
    "A seguir ilustraremos como realizar este procedimento utilizando o conjunto de dados `RH.csv`."
   ]
  },
  {
   "cell_type": "code",
   "execution_count": 4,
   "metadata": {
    "collapsed": false
   },
   "outputs": [
    {
     "name": "stdout",
     "output_type": "stream",
     "text": [
      "'data.frame':\t5000 obs. of  10 variables:\n",
      " $ Sexo            : chr  \"Masculino\" \"Masculino\" \"Feminino\" \"Feminino\" ...\n",
      " $ Estado.Civil    : chr  \"Casado\" \"Viúvo\" \"Casado\" \"Casado\" ...\n",
      " $ Anos.de.estudo  : int  14 19 18 16 15 18 18 12 14 12 ...\n",
      " $ Formação        : chr  \"Sócio-econômicas\" \"Sócio-econômicas\" \"Sócio-econômicas\" \"Sócio-econômicas\" ...\n",
      " $ Tempo.de.empresa: int  19 31 28 20 15 23 27 20 11 16 ...\n",
      " $ Unidade         : chr  \"Curitiba\" \"São Paulo\" \"Rio de Janeiro\" \"Rio de Janeiro\" ...\n",
      " $ Departamento    : chr  \"Produção\" \"Vendas\" \"Financeiro\" \"Vendas\" ...\n",
      " $ Cargo           : chr  \"Assistente\" \"Assistente\" \"Assi \" \"Assistente\" ...\n",
      " $ Salário         : num  16.7 29.1 21.8 22.6 16.7 ...\n",
      " $ Bônus           : num  28.02 41.24 16.88 13.5 8.44 ...\n"
     ]
    },
    {
     "data": {
      "text/html": [
       "<table>\n",
       "<thead><tr><th scope=col>Sexo</th><th scope=col>Estado.Civil</th><th scope=col>Anos.de.estudo</th><th scope=col>Formação</th><th scope=col>Tempo.de.empresa</th><th scope=col>Unidade</th><th scope=col>Departamento</th><th scope=col>Cargo</th><th scope=col>Salário</th><th scope=col>Bônus</th></tr></thead>\n",
       "<tbody>\n",
       "\t<tr><td>Masculino       </td><td>Casado          </td><td>14              </td><td>Sócio-econômicas</td><td>19              </td><td>Curitiba        </td><td>Produção        </td><td>Assistente      </td><td>16.67           </td><td>28.02           </td></tr>\n",
       "\t<tr><td>Masculino       </td><td>Viúvo           </td><td>19              </td><td>Sócio-econômicas</td><td>31              </td><td>São Paulo       </td><td>Vendas          </td><td>Assistente      </td><td>29.13           </td><td>41.24           </td></tr>\n",
       "\t<tr><td>Feminino        </td><td>Casado          </td><td>18              </td><td>Sócio-econômicas</td><td>28              </td><td>Rio de Janeiro  </td><td>Financeiro      </td><td>Assi            </td><td>21.80           </td><td>16.88           </td></tr>\n",
       "\t<tr><td>Feminino        </td><td>Casado          </td><td>16              </td><td>Sócio-econômicas</td><td>20              </td><td>Rio de Janeiro  </td><td>Vendas          </td><td>Assistente      </td><td>22.61           </td><td>13.50           </td></tr>\n",
       "\t<tr><td>Masculino       </td><td>Solteiro        </td><td>15              </td><td>Sócio-econômicas</td><td>15              </td><td>Curitiba        </td><td>Vendas          </td><td>Auxiliar        </td><td>16.67           </td><td> 8.44           </td></tr>\n",
       "\t<tr><td>Masculino       </td><td>Casado          </td><td>18              </td><td>Sócio-econômicas</td><td>23              </td><td>São Paulo       </td><td>Pessoal         </td><td>Assistente      </td><td> 8.34           </td><td>86.88           </td></tr>\n",
       "</tbody>\n",
       "</table>\n"
      ],
      "text/latex": [
       "\\begin{tabular}{r|llllllllll}\n",
       " Sexo & Estado.Civil & Anos.de.estudo & Formação & Tempo.de.empresa & Unidade & Departamento & Cargo & Salário & Bônus\\\\\n",
       "\\hline\n",
       "\t Masculino        & Casado           & 14               & Sócio-econômicas & 19               & Curitiba         & Produção         & Assistente       & 16.67            & 28.02           \\\\\n",
       "\t Masculino        & Viúvo            & 19               & Sócio-econômicas & 31               & São Paulo        & Vendas           & Assistente       & 29.13            & 41.24           \\\\\n",
       "\t Feminino         & Casado           & 18               & Sócio-econômicas & 28               & Rio de Janeiro   & Financeiro       & Assi             & 21.80            & 16.88           \\\\\n",
       "\t Feminino         & Casado           & 16               & Sócio-econômicas & 20               & Rio de Janeiro   & Vendas           & Assistente       & 22.61            & 13.50           \\\\\n",
       "\t Masculino        & Solteiro         & 15               & Sócio-econômicas & 15               & Curitiba         & Vendas           & Auxiliar         & 16.67            &  8.44           \\\\\n",
       "\t Masculino        & Casado           & 18               & Sócio-econômicas & 23               & São Paulo        & Pessoal          & Assistente       &  8.34            & 86.88           \\\\\n",
       "\\end{tabular}\n"
      ],
      "text/markdown": [
       "\n",
       "Sexo | Estado.Civil | Anos.de.estudo | Formação | Tempo.de.empresa | Unidade | Departamento | Cargo | Salário | Bônus | \n",
       "|---|---|---|---|---|---|\n",
       "| Masculino        | Casado           | 14               | Sócio-econômicas | 19               | Curitiba         | Produção         | Assistente       | 16.67            | 28.02            | \n",
       "| Masculino        | Viúvo            | 19               | Sócio-econômicas | 31               | São Paulo        | Vendas           | Assistente       | 29.13            | 41.24            | \n",
       "| Feminino         | Casado           | 18               | Sócio-econômicas | 28               | Rio de Janeiro   | Financeiro       | Assi             | 21.80            | 16.88            | \n",
       "| Feminino         | Casado           | 16               | Sócio-econômicas | 20               | Rio de Janeiro   | Vendas           | Assistente       | 22.61            | 13.50            | \n",
       "| Masculino        | Solteiro         | 15               | Sócio-econômicas | 15               | Curitiba         | Vendas           | Auxiliar         | 16.67            |  8.44            | \n",
       "| Masculino        | Casado           | 18               | Sócio-econômicas | 23               | São Paulo        | Pessoal          | Assistente       |  8.34            | 86.88            | \n",
       "\n",
       "\n"
      ],
      "text/plain": [
       "  Sexo      Estado.Civil Anos.de.estudo Formação         Tempo.de.empresa\n",
       "1 Masculino Casado       14             Sócio-econômicas 19              \n",
       "2 Masculino Viúvo        19             Sócio-econômicas 31              \n",
       "3 Feminino  Casado       18             Sócio-econômicas 28              \n",
       "4 Feminino  Casado       16             Sócio-econômicas 20              \n",
       "5 Masculino Solteiro     15             Sócio-econômicas 15              \n",
       "6 Masculino Casado       18             Sócio-econômicas 23              \n",
       "  Unidade        Departamento Cargo      Salário Bônus\n",
       "1 Curitiba       Produção     Assistente 16.67   28.02\n",
       "2 São Paulo      Vendas       Assistente 29.13   41.24\n",
       "3 Rio de Janeiro Financeiro   Assi       21.80   16.88\n",
       "4 Rio de Janeiro Vendas       Assistente 22.61   13.50\n",
       "5 Curitiba       Vendas       Auxiliar   16.67    8.44\n",
       "6 São Paulo      Pessoal      Assistente  8.34   86.88"
      ]
     },
     "metadata": {},
     "output_type": "display_data"
    }
   ],
   "source": [
    "setwd('C:\\\\Users\\\\Marcos\\\\Documents\\\\GitHub\\\\Usando-R-em-Auditoria\\\\dados')\n",
    "rh <- read.csv2('RH.csv', as.is=TRUE)\n",
    "str(rh)\n",
    "head(rh)"
   ]
  },
  {
   "cell_type": "markdown",
   "metadata": {},
   "source": [
    "Vejamos quais valores distintos o campo `Cargo` possui:"
   ]
  },
  {
   "cell_type": "code",
   "execution_count": 5,
   "metadata": {
    "collapsed": false
   },
   "outputs": [
    {
     "data": {
      "text/html": [
       "<ol class=list-inline>\n",
       "\t<li>'Assistente'</li>\n",
       "\t<li>'Assi '</li>\n",
       "\t<li>'Auxiliar'</li>\n",
       "\t<li>'Gerente'</li>\n",
       "\t<li>'Vice-Presidente'</li>\n",
       "\t<li>'Auxi '</li>\n",
       "\t<li>'Gere '</li>\n",
       "\t<li>' '</li>\n",
       "</ol>\n"
      ],
      "text/latex": [
       "\\begin{enumerate*}\n",
       "\\item 'Assistente'\n",
       "\\item 'Assi '\n",
       "\\item 'Auxiliar'\n",
       "\\item 'Gerente'\n",
       "\\item 'Vice-Presidente'\n",
       "\\item 'Auxi '\n",
       "\\item 'Gere '\n",
       "\\item ' '\n",
       "\\end{enumerate*}\n"
      ],
      "text/markdown": [
       "1. 'Assistente'\n",
       "2. 'Assi '\n",
       "3. 'Auxiliar'\n",
       "4. 'Gerente'\n",
       "5. 'Vice-Presidente'\n",
       "6. 'Auxi '\n",
       "7. 'Gere '\n",
       "8. ' '\n",
       "\n",
       "\n"
      ],
      "text/plain": [
       "[1] \"Assistente\"      \"Assi \"           \"Auxiliar\"        \"Gerente\"        \n",
       "[5] \"Vice-Presidente\" \"Auxi \"           \"Gere \"           \" \"              "
      ]
     },
     "metadata": {},
     "output_type": "display_data"
    }
   ],
   "source": [
    "unique(rh$Cargo)"
   ]
  },
  {
   "cell_type": "markdown",
   "metadata": {},
   "source": [
    "O resultado da execução da função `unique()` no campo `Cargo` nos informa os valores distintos existentes no campo. É possível verificar a existência de inconsistências nos nomes de alguns cargos. Por exemplo, o cargo de `Assistente` grafado como `Assi `. Importante notar a existência de um caractere branco no nome. Também é possível ver a existência de células sem valores. A correção dessas inconsistência pode ser feita da seguinte forma:"
   ]
  },
  {
   "cell_type": "code",
   "execution_count": 6,
   "metadata": {
    "collapsed": false
   },
   "outputs": [
    {
     "data": {
      "text/html": [
       "<ol class=list-inline>\n",
       "\t<li>'Assistente'</li>\n",
       "\t<li>'Auxiliar'</li>\n",
       "\t<li>'Gerente'</li>\n",
       "\t<li>'Vice-Presidente'</li>\n",
       "\t<li>'Auxi '</li>\n",
       "\t<li>'Gere '</li>\n",
       "\t<li>' '</li>\n",
       "</ol>\n"
      ],
      "text/latex": [
       "\\begin{enumerate*}\n",
       "\\item 'Assistente'\n",
       "\\item 'Auxiliar'\n",
       "\\item 'Gerente'\n",
       "\\item 'Vice-Presidente'\n",
       "\\item 'Auxi '\n",
       "\\item 'Gere '\n",
       "\\item ' '\n",
       "\\end{enumerate*}\n"
      ],
      "text/markdown": [
       "1. 'Assistente'\n",
       "2. 'Auxiliar'\n",
       "3. 'Gerente'\n",
       "4. 'Vice-Presidente'\n",
       "5. 'Auxi '\n",
       "6. 'Gere '\n",
       "7. ' '\n",
       "\n",
       "\n"
      ],
      "text/plain": [
       "[1] \"Assistente\"      \"Auxiliar\"        \"Gerente\"         \"Vice-Presidente\"\n",
       "[5] \"Auxi \"           \"Gere \"           \" \"              "
      ]
     },
     "metadata": {},
     "output_type": "display_data"
    }
   ],
   "source": [
    "rh$Cargo[rh$Cargo == 'Assi '] <- 'Assistente'\n",
    "unique(rh$Cargo)"
   ]
  },
  {
   "cell_type": "code",
   "execution_count": 7,
   "metadata": {
    "collapsed": false
   },
   "outputs": [
    {
     "data": {
      "text/html": [
       "<ol class=list-inline>\n",
       "\t<li>'Assistente'</li>\n",
       "\t<li>'Auxiliar'</li>\n",
       "\t<li>'Gerente'</li>\n",
       "\t<li>'Vice-Presidente'</li>\n",
       "\t<li>'Gere '</li>\n",
       "\t<li>' '</li>\n",
       "</ol>\n"
      ],
      "text/latex": [
       "\\begin{enumerate*}\n",
       "\\item 'Assistente'\n",
       "\\item 'Auxiliar'\n",
       "\\item 'Gerente'\n",
       "\\item 'Vice-Presidente'\n",
       "\\item 'Gere '\n",
       "\\item ' '\n",
       "\\end{enumerate*}\n"
      ],
      "text/markdown": [
       "1. 'Assistente'\n",
       "2. 'Auxiliar'\n",
       "3. 'Gerente'\n",
       "4. 'Vice-Presidente'\n",
       "5. 'Gere '\n",
       "6. ' '\n",
       "\n",
       "\n"
      ],
      "text/plain": [
       "[1] \"Assistente\"      \"Auxiliar\"        \"Gerente\"         \"Vice-Presidente\"\n",
       "[5] \"Gere \"           \" \"              "
      ]
     },
     "metadata": {},
     "output_type": "display_data"
    }
   ],
   "source": [
    "rh$Cargo[rh$Cargo == 'Auxi '] <- 'Auxiliar'\n",
    "unique(rh$Cargo)"
   ]
  },
  {
   "cell_type": "code",
   "execution_count": 8,
   "metadata": {
    "collapsed": false
   },
   "outputs": [
    {
     "data": {
      "text/html": [
       "<ol class=list-inline>\n",
       "\t<li>'Assistente'</li>\n",
       "\t<li>'Auxiliar'</li>\n",
       "\t<li>'Gerente'</li>\n",
       "\t<li>'Vice-Presidente'</li>\n",
       "\t<li>' '</li>\n",
       "</ol>\n"
      ],
      "text/latex": [
       "\\begin{enumerate*}\n",
       "\\item 'Assistente'\n",
       "\\item 'Auxiliar'\n",
       "\\item 'Gerente'\n",
       "\\item 'Vice-Presidente'\n",
       "\\item ' '\n",
       "\\end{enumerate*}\n"
      ],
      "text/markdown": [
       "1. 'Assistente'\n",
       "2. 'Auxiliar'\n",
       "3. 'Gerente'\n",
       "4. 'Vice-Presidente'\n",
       "5. ' '\n",
       "\n",
       "\n"
      ],
      "text/plain": [
       "[1] \"Assistente\"      \"Auxiliar\"        \"Gerente\"         \"Vice-Presidente\"\n",
       "[5] \" \"              "
      ]
     },
     "metadata": {},
     "output_type": "display_data"
    }
   ],
   "source": [
    "rh$Cargo[rh$Cargo == 'Gere '] <- 'Gerente'\n",
    "unique(rh$Cargo)"
   ]
  },
  {
   "cell_type": "code",
   "execution_count": 10,
   "metadata": {
    "collapsed": false
   },
   "outputs": [
    {
     "data": {
      "text/html": [
       "<ol class=list-inline>\n",
       "\t<li>'Assistente'</li>\n",
       "\t<li>'Auxiliar'</li>\n",
       "\t<li>'Gerente'</li>\n",
       "\t<li>'Vice-Presidente'</li>\n",
       "\t<li>'NA'</li>\n",
       "</ol>\n"
      ],
      "text/latex": [
       "\\begin{enumerate*}\n",
       "\\item 'Assistente'\n",
       "\\item 'Auxiliar'\n",
       "\\item 'Gerente'\n",
       "\\item 'Vice-Presidente'\n",
       "\\item 'NA'\n",
       "\\end{enumerate*}\n"
      ],
      "text/markdown": [
       "1. 'Assistente'\n",
       "2. 'Auxiliar'\n",
       "3. 'Gerente'\n",
       "4. 'Vice-Presidente'\n",
       "5. 'NA'\n",
       "\n",
       "\n"
      ],
      "text/plain": [
       "[1] \"Assistente\"      \"Auxiliar\"        \"Gerente\"         \"Vice-Presidente\"\n",
       "[5] NA               "
      ]
     },
     "metadata": {},
     "output_type": "display_data"
    }
   ],
   "source": [
    "rh$Cargo[rh$Cargo == ' '] <- NA\n",
    "unique(rh$Cargo)"
   ]
  },
  {
   "cell_type": "markdown",
   "metadata": {},
   "source": [
    "Procedimento análogo poderia ser feito para outros campos da base de dados que tenham este tipo de problema.\n",
    "\n",
    "Existem outras formas de se realizar este procedimento, usando a função `ifelse()` ou a função `replace()` ou ainda a função `recode()` do pacote `car`."
   ]
  },
  {
   "cell_type": "markdown",
   "metadata": {},
   "source": [
    "**Marcos F Silva**"
   ]
  }
 ],
 "metadata": {
  "kernelspec": {
   "display_name": "R-3.3.1",
   "language": "",
   "name": "ir33"
  },
  "language_info": {
   "codemirror_mode": "r",
   "file_extension": ".r",
   "mimetype": "text/x-r-source",
   "name": "R",
   "pygments_lexer": "r",
   "version": "3.3.1"
  }
 },
 "nbformat": 4,
 "nbformat_minor": 0
}
