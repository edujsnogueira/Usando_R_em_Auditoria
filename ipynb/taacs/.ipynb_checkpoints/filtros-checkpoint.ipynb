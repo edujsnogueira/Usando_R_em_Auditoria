{
 "cells": [
  {
   "cell_type": "markdown",
   "metadata": {},
   "source": [
    "# Filtros"
   ]
  },
  {
   "cell_type": "markdown",
   "metadata": {},
   "source": [
    "Ao se examinar um conjunto de dados, é frequente a situação em que o auditor tem interesse em selecionar para exame apenas um subconjunto do mesmo, ou seja, selecionar os registros que atendam a determinados critérios por ele definidos.\n",
    "\n",
    "Assim o auditor pode desejar selecionar para análise, apenas os registros onde o valor das faturas, por exemplo, sejam superiores a determinado valor, ou faturas emitidas em um determinado período ou ainda registros relativos a funcionários de um determinado departamente de uma empresa.\n",
    "\n",
    "Para a aplicação de filtros aos dados, o R dispõe da função **`subset()`**. Além desta função, também pode-se usar o sistema de indexação do R.\n",
    "\n",
    "Para ilustrar o uso de filtros usarei o conjunto de dados `rh.RData` que contém informação relativa aos recursos humandos de uma empresa. Os dados estão armazenados no formato `.RData` que é o formato de dados do R.\n",
    "\n",
    "A importação dos dados pode ser feita da seguinte forma:"
   ]
  },
  {
   "cell_type": "code",
   "execution_count": 1,
   "metadata": {
    "collapsed": false
   },
   "outputs": [
    {
     "data": {
      "text/html": [
       "'rh'"
      ],
      "text/latex": [
       "'rh'"
      ],
      "text/markdown": [
       "'rh'"
      ],
      "text/plain": [
       "[1] \"rh\""
      ]
     },
     "metadata": {},
     "output_type": "display_data"
    }
   ],
   "source": [
    "setwd('C:\\\\Users\\\\Marcos\\\\Documents\\\\GitHub\\\\Usando-R-em-Auditoria\\\\dados')\n",
    "load('rh.RData')\n",
    "ls()"
   ]
  },
  {
   "cell_type": "code",
   "execution_count": 3,
   "metadata": {
    "collapsed": false
   },
   "outputs": [
    {
     "name": "stdout",
     "output_type": "stream",
     "text": [
      "'data.frame':\t5000 obs. of  10 variables:\n",
      " $ Sexo            : chr  \"Masculino\" \"Masculino\" \"Feminino\" \"Feminino\" ...\n",
      " $ Estado.Civil    : chr  \"Casado\" \"Viúvo\" \"Casado\" \"Casado\" ...\n",
      " $ Anos.de.estudo  : int  14 19 18 16 15 18 18 12 14 12 ...\n",
      " $ Formação        : chr  \"SEC\" \"SEC\" \"SEC\" \"SEC\" ...\n",
      " $ Tempo.de.empresa: int  19 31 28 20 15 23 27 20 11 16 ...\n",
      " $ Unidade         : chr  \"Curitiba\" \"São Paulo\" \"Rio de Janeiro\" \"Rio de Janeiro\" ...\n",
      " $ Departamento    : chr  \"Produção\" \"Vendas\" \"Financeiro\" \"Vendas\" ...\n",
      " $ Cargo           : chr  \"Assistente\" \"Assistente\" \"Assistente\" \"Assistente\" ...\n",
      " $ Salário         : num  16.7 29.1 21.8 22.6 16.7 ...\n",
      " $ Bônus           : num  28.02 41.24 16.88 13.5 8.44 ...\n"
     ]
    },
    {
     "data": {
      "text/html": [
       "<table>\n",
       "<thead><tr><th scope=col>Sexo</th><th scope=col>Estado.Civil</th><th scope=col>Anos.de.estudo</th><th scope=col>Formação</th><th scope=col>Tempo.de.empresa</th><th scope=col>Unidade</th><th scope=col>Departamento</th><th scope=col>Cargo</th><th scope=col>Salário</th><th scope=col>Bônus</th></tr></thead>\n",
       "<tbody>\n",
       "\t<tr><td>Masculino     </td><td>Casado        </td><td>14            </td><td>SEC           </td><td>19            </td><td>Curitiba      </td><td>Produção      </td><td>Assistente    </td><td>16.67         </td><td>28.02         </td></tr>\n",
       "\t<tr><td>Masculino     </td><td>Viúvo         </td><td>19            </td><td>SEC           </td><td>31            </td><td>São Paulo     </td><td>Vendas        </td><td>Assistente    </td><td>29.13         </td><td>41.24         </td></tr>\n",
       "\t<tr><td>Feminino      </td><td>Casado        </td><td>18            </td><td>SEC           </td><td>28            </td><td>Rio de Janeiro</td><td>Financeiro    </td><td>Assistente    </td><td>21.80         </td><td>16.88         </td></tr>\n",
       "\t<tr><td>Feminino      </td><td>Casado        </td><td>16            </td><td>SEC           </td><td>20            </td><td>Rio de Janeiro</td><td>Vendas        </td><td>Assistente    </td><td>22.61         </td><td>13.50         </td></tr>\n",
       "\t<tr><td>Masculino     </td><td>Solteiro      </td><td>15            </td><td>SEC           </td><td>15            </td><td>Curitiba      </td><td>Vendas        </td><td>Auxiliar      </td><td>16.67         </td><td> 8.44         </td></tr>\n",
       "\t<tr><td>Masculino     </td><td>Casado        </td><td>18            </td><td>SEC           </td><td>23            </td><td>São Paulo     </td><td>Pessoal       </td><td>Assistente    </td><td> 8.34         </td><td>86.88         </td></tr>\n",
       "</tbody>\n",
       "</table>\n"
      ],
      "text/latex": [
       "\\begin{tabular}{r|llllllllll}\n",
       " Sexo & Estado.Civil & Anos.de.estudo & Formação & Tempo.de.empresa & Unidade & Departamento & Cargo & Salário & Bônus\\\\\n",
       "\\hline\n",
       "\t Masculino      & Casado         & 14             & SEC            & 19             & Curitiba       & Produção       & Assistente     & 16.67          & 28.02         \\\\\n",
       "\t Masculino      & Viúvo          & 19             & SEC            & 31             & São Paulo      & Vendas         & Assistente     & 29.13          & 41.24         \\\\\n",
       "\t Feminino       & Casado         & 18             & SEC            & 28             & Rio de Janeiro & Financeiro     & Assistente     & 21.80          & 16.88         \\\\\n",
       "\t Feminino       & Casado         & 16             & SEC            & 20             & Rio de Janeiro & Vendas         & Assistente     & 22.61          & 13.50         \\\\\n",
       "\t Masculino      & Solteiro       & 15             & SEC            & 15             & Curitiba       & Vendas         & Auxiliar       & 16.67          &  8.44         \\\\\n",
       "\t Masculino      & Casado         & 18             & SEC            & 23             & São Paulo      & Pessoal        & Assistente     &  8.34          & 86.88         \\\\\n",
       "\\end{tabular}\n"
      ],
      "text/markdown": [
       "\n",
       "Sexo | Estado.Civil | Anos.de.estudo | Formação | Tempo.de.empresa | Unidade | Departamento | Cargo | Salário | Bônus | \n",
       "|---|---|---|---|---|---|\n",
       "| Masculino      | Casado         | 14             | SEC            | 19             | Curitiba       | Produção       | Assistente     | 16.67          | 28.02          | \n",
       "| Masculino      | Viúvo          | 19             | SEC            | 31             | São Paulo      | Vendas         | Assistente     | 29.13          | 41.24          | \n",
       "| Feminino       | Casado         | 18             | SEC            | 28             | Rio de Janeiro | Financeiro     | Assistente     | 21.80          | 16.88          | \n",
       "| Feminino       | Casado         | 16             | SEC            | 20             | Rio de Janeiro | Vendas         | Assistente     | 22.61          | 13.50          | \n",
       "| Masculino      | Solteiro       | 15             | SEC            | 15             | Curitiba       | Vendas         | Auxiliar       | 16.67          |  8.44          | \n",
       "| Masculino      | Casado         | 18             | SEC            | 23             | São Paulo      | Pessoal        | Assistente     |  8.34          | 86.88          | \n",
       "\n",
       "\n"
      ],
      "text/plain": [
       "  Sexo      Estado.Civil Anos.de.estudo Formação Tempo.de.empresa\n",
       "1 Masculino Casado       14             SEC      19              \n",
       "2 Masculino Viúvo        19             SEC      31              \n",
       "3 Feminino  Casado       18             SEC      28              \n",
       "4 Feminino  Casado       16             SEC      20              \n",
       "5 Masculino Solteiro     15             SEC      15              \n",
       "6 Masculino Casado       18             SEC      23              \n",
       "  Unidade        Departamento Cargo      Salário Bônus\n",
       "1 Curitiba       Produção     Assistente 16.67   28.02\n",
       "2 São Paulo      Vendas       Assistente 29.13   41.24\n",
       "3 Rio de Janeiro Financeiro   Assistente 21.80   16.88\n",
       "4 Rio de Janeiro Vendas       Assistente 22.61   13.50\n",
       "5 Curitiba       Vendas       Auxiliar   16.67    8.44\n",
       "6 São Paulo      Pessoal      Assistente  8.34   86.88"
      ]
     },
     "metadata": {},
     "output_type": "display_data"
    }
   ],
   "source": [
    "str(rh)\n",
    "head(rh)"
   ]
  },
  {
   "cell_type": "markdown",
   "metadata": {},
   "source": [
    "Supondo que se deseje selecionar apenas os registros relativos a funcionários do sexo feminino, pode-se fazer da seguinte forma:"
   ]
  },
  {
   "cell_type": "code",
   "execution_count": 8,
   "metadata": {
    "collapsed": false
   },
   "outputs": [
    {
     "data": {
      "text/html": [
       "<table>\n",
       "<thead><tr><th></th><th scope=col>Sexo</th><th scope=col>Estado.Civil</th><th scope=col>Anos.de.estudo</th><th scope=col>Formação</th><th scope=col>Tempo.de.empresa</th><th scope=col>Unidade</th><th scope=col>Departamento</th><th scope=col>Cargo</th><th scope=col>Salário</th><th scope=col>Bônus</th></tr></thead>\n",
       "<tbody>\n",
       "\t<tr><th scope=row>3</th><td>Feminino      </td><td>Casado        </td><td>18            </td><td>SEC           </td><td>28            </td><td>Rio de Janeiro</td><td>Financeiro    </td><td>Assistente    </td><td>21.80         </td><td>16.88         </td></tr>\n",
       "\t<tr><th scope=row>4</th><td>Feminino      </td><td>Casado        </td><td>16            </td><td>SEC           </td><td>20            </td><td>Rio de Janeiro</td><td>Vendas        </td><td>Assistente    </td><td>22.61         </td><td>13.50         </td></tr>\n",
       "\t<tr><th scope=row>10</th><td>Feminino      </td><td>Casado        </td><td>12            </td><td>HUM           </td><td>16            </td><td>Rio de Janeiro</td><td>Produção      </td><td>Assistente    </td><td> 5.78         </td><td>16.68         </td></tr>\n",
       "\t<tr><th scope=row>11</th><td>Feminino      </td><td>Solteiro      </td><td>13            </td><td>HUM           </td><td>20            </td><td>Florianópolis </td><td>Produção      </td><td>Auxiliar      </td><td> 1.08         </td><td>11.72         </td></tr>\n",
       "\t<tr><th scope=row>13</th><td>Feminino      </td><td>Casado        </td><td>13            </td><td>EXA           </td><td>23            </td><td>Rio de Janeiro</td><td>Pessoal       </td><td>Assistente    </td><td> 5.19         </td><td>16.48         </td></tr>\n",
       "\t<tr><th scope=row>14</th><td>Feminino      </td><td>Solteiro      </td><td> 8            </td><td>EXA           </td><td> 0            </td><td>Florianópolis </td><td>Produção      </td><td>Auxiliar      </td><td> 1.02         </td><td> 2.30         </td></tr>\n",
       "</tbody>\n",
       "</table>\n"
      ],
      "text/latex": [
       "\\begin{tabular}{r|llllllllll}\n",
       "  & Sexo & Estado.Civil & Anos.de.estudo & Formação & Tempo.de.empresa & Unidade & Departamento & Cargo & Salário & Bônus\\\\\n",
       "\\hline\n",
       "\t3 & Feminino       & Casado         & 18             & SEC            & 28             & Rio de Janeiro & Financeiro     & Assistente     & 21.80          & 16.88         \\\\\n",
       "\t4 & Feminino       & Casado         & 16             & SEC            & 20             & Rio de Janeiro & Vendas         & Assistente     & 22.61          & 13.50         \\\\\n",
       "\t10 & Feminino       & Casado         & 12             & HUM            & 16             & Rio de Janeiro & Produção       & Assistente     &  5.78          & 16.68         \\\\\n",
       "\t11 & Feminino       & Solteiro       & 13             & HUM            & 20             & Florianópolis  & Produção       & Auxiliar       &  1.08          & 11.72         \\\\\n",
       "\t13 & Feminino       & Casado         & 13             & EXA            & 23             & Rio de Janeiro & Pessoal        & Assistente     &  5.19          & 16.48         \\\\\n",
       "\t14 & Feminino       & Solteiro       &  8             & EXA            &  0             & Florianópolis  & Produção       & Auxiliar       &  1.02          &  2.30         \\\\\n",
       "\\end{tabular}\n"
      ],
      "text/markdown": [
       "\n",
       "| <!--/--> | Sexo | Estado.Civil | Anos.de.estudo | Formação | Tempo.de.empresa | Unidade | Departamento | Cargo | Salário | Bônus | \n",
       "|---|---|---|---|---|---|\n",
       "| 3 | Feminino       | Casado         | 18             | SEC            | 28             | Rio de Janeiro | Financeiro     | Assistente     | 21.80          | 16.88          | \n",
       "| 4 | Feminino       | Casado         | 16             | SEC            | 20             | Rio de Janeiro | Vendas         | Assistente     | 22.61          | 13.50          | \n",
       "| 10 | Feminino       | Casado         | 12             | HUM            | 16             | Rio de Janeiro | Produção       | Assistente     |  5.78          | 16.68          | \n",
       "| 11 | Feminino       | Solteiro       | 13             | HUM            | 20             | Florianópolis  | Produção       | Auxiliar       |  1.08          | 11.72          | \n",
       "| 13 | Feminino       | Casado         | 13             | EXA            | 23             | Rio de Janeiro | Pessoal        | Assistente     |  5.19          | 16.48          | \n",
       "| 14 | Feminino       | Solteiro       |  8             | EXA            |  0             | Florianópolis  | Produção       | Auxiliar       |  1.02          |  2.30          | \n",
       "\n",
       "\n"
      ],
      "text/plain": [
       "   Sexo     Estado.Civil Anos.de.estudo Formação Tempo.de.empresa\n",
       "3  Feminino Casado       18             SEC      28              \n",
       "4  Feminino Casado       16             SEC      20              \n",
       "10 Feminino Casado       12             HUM      16              \n",
       "11 Feminino Solteiro     13             HUM      20              \n",
       "13 Feminino Casado       13             EXA      23              \n",
       "14 Feminino Solteiro      8             EXA       0              \n",
       "   Unidade        Departamento Cargo      Salário Bônus\n",
       "3  Rio de Janeiro Financeiro   Assistente 21.80   16.88\n",
       "4  Rio de Janeiro Vendas       Assistente 22.61   13.50\n",
       "10 Rio de Janeiro Produção     Assistente  5.78   16.68\n",
       "11 Florianópolis  Produção     Auxiliar    1.08   11.72\n",
       "13 Rio de Janeiro Pessoal      Assistente  5.19   16.48\n",
       "14 Florianópolis  Produção     Auxiliar    1.02    2.30"
      ]
     },
     "metadata": {},
     "output_type": "display_data"
    }
   ],
   "source": [
    "rh_feminino <- subset(rh, Sexo == 'Feminino')\n",
    "head(rh_feminino)"
   ]
  },
  {
   "cell_type": "markdown",
   "metadata": {},
   "source": [
    "Bem, e se quisermos filtrar os registros relativos a funcionários do sexo masculino, da unidade do Rio de Janeiro, dos departamentos financeiro e de vendas e que possuam salário superior a $70,00?"
   ]
  },
  {
   "cell_type": "code",
   "execution_count": 12,
   "metadata": {
    "collapsed": false
   },
   "outputs": [
    {
     "data": {
      "text/html": [
       "<table>\n",
       "<thead><tr><th></th><th scope=col>Sexo</th><th scope=col>Estado.Civil</th><th scope=col>Anos.de.estudo</th><th scope=col>Formação</th><th scope=col>Tempo.de.empresa</th><th scope=col>Unidade</th><th scope=col>Departamento</th><th scope=col>Cargo</th><th scope=col>Salário</th><th scope=col>Bônus</th></tr></thead>\n",
       "<tbody>\n",
       "\t<tr><th scope=row>368</th><td>Masculino      </td><td>Viúvo          </td><td>22             </td><td>SEC            </td><td>50             </td><td>Rio de Janeiro </td><td>Vendas         </td><td>Vice-Presidente</td><td> 77.47         </td><td> 49.48         </td></tr>\n",
       "\t<tr><th scope=row>388</th><td>Masculino      </td><td>Casado         </td><td>23             </td><td>SEC            </td><td>42             </td><td>Rio de Janeiro </td><td>Vendas         </td><td>Gerente        </td><td> 88.93         </td><td>148.60         </td></tr>\n",
       "\t<tr><th scope=row>398</th><td>Masculino      </td><td>Casado         </td><td>19             </td><td>SEC            </td><td>45             </td><td>Rio de Janeiro </td><td>Vendas         </td><td>Vice-Presidente</td><td> 88.93         </td><td>110.26         </td></tr>\n",
       "\t<tr><th scope=row>409</th><td>Masculino      </td><td>Casado         </td><td>28             </td><td>SEC            </td><td>37             </td><td>Rio de Janeiro </td><td>Vendas         </td><td>Vice-Presidente</td><td>141.42         </td><td>341.18         </td></tr>\n",
       "\t<tr><th scope=row>608</th><td>Masculino      </td><td>Casado         </td><td>22             </td><td>SEC            </td><td>36             </td><td>Rio de Janeiro </td><td>Vendas         </td><td>Gerente        </td><td> 92.97         </td><td>127.32         </td></tr>\n",
       "\t<tr><th scope=row>761</th><td>Masculino      </td><td>Casado         </td><td>19             </td><td>SEC            </td><td>41             </td><td>Rio de Janeiro </td><td>Vendas         </td><td>Gerente        </td><td> 75.20         </td><td> 84.36         </td></tr>\n",
       "\t<tr><th scope=row>799</th><td>Masculino      </td><td>Casado         </td><td>21             </td><td>SEC            </td><td>39             </td><td>Rio de Janeiro </td><td>Vendas         </td><td>Gerente        </td><td> 81.65         </td><td>103.02         </td></tr>\n",
       "\t<tr><th scope=row>1317</th><td>Masculino      </td><td>Casado         </td><td>23             </td><td>SEC            </td><td>39             </td><td>Rio de Janeiro </td><td>Vendas         </td><td>Vice-Presidente</td><td> 79.31         </td><td>192.14         </td></tr>\n",
       "\t<tr><th scope=row>1436</th><td>Masculino      </td><td>Casado         </td><td>22             </td><td>SEC            </td><td>37             </td><td>Rio de Janeiro </td><td>Vendas         </td><td>Vice-Presidente</td><td> 99.77         </td><td>176.88         </td></tr>\n",
       "\t<tr><th scope=row>1568</th><td>Masculino      </td><td>Casado         </td><td>22             </td><td>SEC            </td><td>35             </td><td>Rio de Janeiro </td><td>Vendas         </td><td>Gerente        </td><td> 75.20         </td><td> 90.74         </td></tr>\n",
       "\t<tr><th scope=row>1697</th><td>Masculino      </td><td>Casado         </td><td>21             </td><td>SEC            </td><td>37             </td><td>Rio de Janeiro </td><td>Vendas         </td><td>Gerente        </td><td> 77.92         </td><td> 92.72         </td></tr>\n",
       "\t<tr><th scope=row>1828</th><td>Masculino      </td><td>Casado         </td><td>20             </td><td>SEC            </td><td>20             </td><td>Rio de Janeiro </td><td>Vendas         </td><td>Gerente        </td><td> 71.22         </td><td>146.82         </td></tr>\n",
       "\t<tr><th scope=row>2592</th><td>Masculino      </td><td>Casado         </td><td>22             </td><td>SEC            </td><td>41             </td><td>Rio de Janeiro </td><td>Vendas         </td><td>Gerente        </td><td> 87.45         </td><td>101.60         </td></tr>\n",
       "\t<tr><th scope=row>3014</th><td>Masculino      </td><td>Casado         </td><td>20             </td><td>SEC            </td><td>36             </td><td>Rio de Janeiro </td><td>Vendas         </td><td>Gerente        </td><td> 74.30         </td><td>181.88         </td></tr>\n",
       "\t<tr><th scope=row>3230</th><td>Masculino      </td><td>Casado         </td><td>20             </td><td>SEC            </td><td>29             </td><td>Rio de Janeiro </td><td>Vendas         </td><td>Gerente        </td><td> 70.35         </td><td>114.76         </td></tr>\n",
       "\t<tr><th scope=row>3521</th><td>Masculino      </td><td>Casado         </td><td>25             </td><td>SEC            </td><td>38             </td><td>Rio de Janeiro </td><td>Vendas         </td><td>Vice-Presidente</td><td>151.48         </td><td> 90.10         </td></tr>\n",
       "\t<tr><th scope=row>3697</th><td>Masculino      </td><td>Casado         </td><td>23             </td><td>SEC            </td><td>39             </td><td>Rio de Janeiro </td><td>Vendas         </td><td>Vice-Presidente</td><td>110.23         </td><td> 76.50         </td></tr>\n",
       "\t<tr><th scope=row>3778</th><td>Masculino      </td><td>Casado         </td><td>19             </td><td>SEC            </td><td>39             </td><td>Rio de Janeiro </td><td>Vendas         </td><td>Gerente        </td><td> 82.60         </td><td>158.62         </td></tr>\n",
       "\t<tr><th scope=row>4231</th><td>Masculino      </td><td>Casado         </td><td>21             </td><td>SEC            </td><td>23             </td><td>Rio de Janeiro </td><td>Vendas         </td><td>Gerente        </td><td> 73.41         </td><td> 56.82         </td></tr>\n",
       "\t<tr><th scope=row>4551</th><td>Masculino      </td><td>Casado         </td><td>22             </td><td>SEC            </td><td>30             </td><td>Rio de Janeiro </td><td>Vendas         </td><td>Gerente        </td><td> 74.75         </td><td>153.10         </td></tr>\n",
       "\t<tr><th scope=row>4652</th><td>Masculino      </td><td>Casado         </td><td>23             </td><td>SEC            </td><td>48             </td><td>Rio de Janeiro </td><td>Vendas         </td><td>Gerente        </td><td> 92.97         </td><td>137.28         </td></tr>\n",
       "\t<tr><th scope=row>4828</th><td>Masculino      </td><td>Casado         </td><td>24             </td><td>SEC            </td><td>36             </td><td>Rio de Janeiro </td><td>Vendas         </td><td>Vice-Presidente</td><td> 72.09         </td><td>174.90         </td></tr>\n",
       "</tbody>\n",
       "</table>\n"
      ],
      "text/latex": [
       "\\begin{tabular}{r|llllllllll}\n",
       "  & Sexo & Estado.Civil & Anos.de.estudo & Formação & Tempo.de.empresa & Unidade & Departamento & Cargo & Salário & Bônus\\\\\n",
       "\\hline\n",
       "\t368 & Masculino       & Viúvo           & 22              & SEC             & 50              & Rio de Janeiro  & Vendas          & Vice-Presidente &  77.47          &  49.48         \\\\\n",
       "\t388 & Masculino       & Casado          & 23              & SEC             & 42              & Rio de Janeiro  & Vendas          & Gerente         &  88.93          & 148.60         \\\\\n",
       "\t398 & Masculino       & Casado          & 19              & SEC             & 45              & Rio de Janeiro  & Vendas          & Vice-Presidente &  88.93          & 110.26         \\\\\n",
       "\t409 & Masculino       & Casado          & 28              & SEC             & 37              & Rio de Janeiro  & Vendas          & Vice-Presidente & 141.42          & 341.18         \\\\\n",
       "\t608 & Masculino       & Casado          & 22              & SEC             & 36              & Rio de Janeiro  & Vendas          & Gerente         &  92.97          & 127.32         \\\\\n",
       "\t761 & Masculino       & Casado          & 19              & SEC             & 41              & Rio de Janeiro  & Vendas          & Gerente         &  75.20          &  84.36         \\\\\n",
       "\t799 & Masculino       & Casado          & 21              & SEC             & 39              & Rio de Janeiro  & Vendas          & Gerente         &  81.65          & 103.02         \\\\\n",
       "\t1317 & Masculino       & Casado          & 23              & SEC             & 39              & Rio de Janeiro  & Vendas          & Vice-Presidente &  79.31          & 192.14         \\\\\n",
       "\t1436 & Masculino       & Casado          & 22              & SEC             & 37              & Rio de Janeiro  & Vendas          & Vice-Presidente &  99.77          & 176.88         \\\\\n",
       "\t1568 & Masculino       & Casado          & 22              & SEC             & 35              & Rio de Janeiro  & Vendas          & Gerente         &  75.20          &  90.74         \\\\\n",
       "\t1697 & Masculino       & Casado          & 21              & SEC             & 37              & Rio de Janeiro  & Vendas          & Gerente         &  77.92          &  92.72         \\\\\n",
       "\t1828 & Masculino       & Casado          & 20              & SEC             & 20              & Rio de Janeiro  & Vendas          & Gerente         &  71.22          & 146.82         \\\\\n",
       "\t2592 & Masculino       & Casado          & 22              & SEC             & 41              & Rio de Janeiro  & Vendas          & Gerente         &  87.45          & 101.60         \\\\\n",
       "\t3014 & Masculino       & Casado          & 20              & SEC             & 36              & Rio de Janeiro  & Vendas          & Gerente         &  74.30          & 181.88         \\\\\n",
       "\t3230 & Masculino       & Casado          & 20              & SEC             & 29              & Rio de Janeiro  & Vendas          & Gerente         &  70.35          & 114.76         \\\\\n",
       "\t3521 & Masculino       & Casado          & 25              & SEC             & 38              & Rio de Janeiro  & Vendas          & Vice-Presidente & 151.48          &  90.10         \\\\\n",
       "\t3697 & Masculino       & Casado          & 23              & SEC             & 39              & Rio de Janeiro  & Vendas          & Vice-Presidente & 110.23          &  76.50         \\\\\n",
       "\t3778 & Masculino       & Casado          & 19              & SEC             & 39              & Rio de Janeiro  & Vendas          & Gerente         &  82.60          & 158.62         \\\\\n",
       "\t4231 & Masculino       & Casado          & 21              & SEC             & 23              & Rio de Janeiro  & Vendas          & Gerente         &  73.41          &  56.82         \\\\\n",
       "\t4551 & Masculino       & Casado          & 22              & SEC             & 30              & Rio de Janeiro  & Vendas          & Gerente         &  74.75          & 153.10         \\\\\n",
       "\t4652 & Masculino       & Casado          & 23              & SEC             & 48              & Rio de Janeiro  & Vendas          & Gerente         &  92.97          & 137.28         \\\\\n",
       "\t4828 & Masculino       & Casado          & 24              & SEC             & 36              & Rio de Janeiro  & Vendas          & Vice-Presidente &  72.09          & 174.90         \\\\\n",
       "\\end{tabular}\n"
      ],
      "text/markdown": [
       "\n",
       "| <!--/--> | Sexo | Estado.Civil | Anos.de.estudo | Formação | Tempo.de.empresa | Unidade | Departamento | Cargo | Salário | Bônus | \n",
       "|---|---|---|---|---|---|---|---|---|---|---|---|---|---|---|---|---|---|---|---|---|---|\n",
       "| 368 | Masculino       | Viúvo           | 22              | SEC             | 50              | Rio de Janeiro  | Vendas          | Vice-Presidente |  77.47          |  49.48          | \n",
       "| 388 | Masculino       | Casado          | 23              | SEC             | 42              | Rio de Janeiro  | Vendas          | Gerente         |  88.93          | 148.60          | \n",
       "| 398 | Masculino       | Casado          | 19              | SEC             | 45              | Rio de Janeiro  | Vendas          | Vice-Presidente |  88.93          | 110.26          | \n",
       "| 409 | Masculino       | Casado          | 28              | SEC             | 37              | Rio de Janeiro  | Vendas          | Vice-Presidente | 141.42          | 341.18          | \n",
       "| 608 | Masculino       | Casado          | 22              | SEC             | 36              | Rio de Janeiro  | Vendas          | Gerente         |  92.97          | 127.32          | \n",
       "| 761 | Masculino       | Casado          | 19              | SEC             | 41              | Rio de Janeiro  | Vendas          | Gerente         |  75.20          |  84.36          | \n",
       "| 799 | Masculino       | Casado          | 21              | SEC             | 39              | Rio de Janeiro  | Vendas          | Gerente         |  81.65          | 103.02          | \n",
       "| 1317 | Masculino       | Casado          | 23              | SEC             | 39              | Rio de Janeiro  | Vendas          | Vice-Presidente |  79.31          | 192.14          | \n",
       "| 1436 | Masculino       | Casado          | 22              | SEC             | 37              | Rio de Janeiro  | Vendas          | Vice-Presidente |  99.77          | 176.88          | \n",
       "| 1568 | Masculino       | Casado          | 22              | SEC             | 35              | Rio de Janeiro  | Vendas          | Gerente         |  75.20          |  90.74          | \n",
       "| 1697 | Masculino       | Casado          | 21              | SEC             | 37              | Rio de Janeiro  | Vendas          | Gerente         |  77.92          |  92.72          | \n",
       "| 1828 | Masculino       | Casado          | 20              | SEC             | 20              | Rio de Janeiro  | Vendas          | Gerente         |  71.22          | 146.82          | \n",
       "| 2592 | Masculino       | Casado          | 22              | SEC             | 41              | Rio de Janeiro  | Vendas          | Gerente         |  87.45          | 101.60          | \n",
       "| 3014 | Masculino       | Casado          | 20              | SEC             | 36              | Rio de Janeiro  | Vendas          | Gerente         |  74.30          | 181.88          | \n",
       "| 3230 | Masculino       | Casado          | 20              | SEC             | 29              | Rio de Janeiro  | Vendas          | Gerente         |  70.35          | 114.76          | \n",
       "| 3521 | Masculino       | Casado          | 25              | SEC             | 38              | Rio de Janeiro  | Vendas          | Vice-Presidente | 151.48          |  90.10          | \n",
       "| 3697 | Masculino       | Casado          | 23              | SEC             | 39              | Rio de Janeiro  | Vendas          | Vice-Presidente | 110.23          |  76.50          | \n",
       "| 3778 | Masculino       | Casado          | 19              | SEC             | 39              | Rio de Janeiro  | Vendas          | Gerente         |  82.60          | 158.62          | \n",
       "| 4231 | Masculino       | Casado          | 21              | SEC             | 23              | Rio de Janeiro  | Vendas          | Gerente         |  73.41          |  56.82          | \n",
       "| 4551 | Masculino       | Casado          | 22              | SEC             | 30              | Rio de Janeiro  | Vendas          | Gerente         |  74.75          | 153.10          | \n",
       "| 4652 | Masculino       | Casado          | 23              | SEC             | 48              | Rio de Janeiro  | Vendas          | Gerente         |  92.97          | 137.28          | \n",
       "| 4828 | Masculino       | Casado          | 24              | SEC             | 36              | Rio de Janeiro  | Vendas          | Vice-Presidente |  72.09          | 174.90          | \n",
       "\n",
       "\n"
      ],
      "text/plain": [
       "     Sexo      Estado.Civil Anos.de.estudo Formação Tempo.de.empresa\n",
       "368  Masculino Viúvo        22             SEC      50              \n",
       "388  Masculino Casado       23             SEC      42              \n",
       "398  Masculino Casado       19             SEC      45              \n",
       "409  Masculino Casado       28             SEC      37              \n",
       "608  Masculino Casado       22             SEC      36              \n",
       "761  Masculino Casado       19             SEC      41              \n",
       "799  Masculino Casado       21             SEC      39              \n",
       "1317 Masculino Casado       23             SEC      39              \n",
       "1436 Masculino Casado       22             SEC      37              \n",
       "1568 Masculino Casado       22             SEC      35              \n",
       "1697 Masculino Casado       21             SEC      37              \n",
       "1828 Masculino Casado       20             SEC      20              \n",
       "2592 Masculino Casado       22             SEC      41              \n",
       "3014 Masculino Casado       20             SEC      36              \n",
       "3230 Masculino Casado       20             SEC      29              \n",
       "3521 Masculino Casado       25             SEC      38              \n",
       "3697 Masculino Casado       23             SEC      39              \n",
       "3778 Masculino Casado       19             SEC      39              \n",
       "4231 Masculino Casado       21             SEC      23              \n",
       "4551 Masculino Casado       22             SEC      30              \n",
       "4652 Masculino Casado       23             SEC      48              \n",
       "4828 Masculino Casado       24             SEC      36              \n",
       "     Unidade        Departamento Cargo           Salário Bônus \n",
       "368  Rio de Janeiro Vendas       Vice-Presidente  77.47   49.48\n",
       "388  Rio de Janeiro Vendas       Gerente          88.93  148.60\n",
       "398  Rio de Janeiro Vendas       Vice-Presidente  88.93  110.26\n",
       "409  Rio de Janeiro Vendas       Vice-Presidente 141.42  341.18\n",
       "608  Rio de Janeiro Vendas       Gerente          92.97  127.32\n",
       "761  Rio de Janeiro Vendas       Gerente          75.20   84.36\n",
       "799  Rio de Janeiro Vendas       Gerente          81.65  103.02\n",
       "1317 Rio de Janeiro Vendas       Vice-Presidente  79.31  192.14\n",
       "1436 Rio de Janeiro Vendas       Vice-Presidente  99.77  176.88\n",
       "1568 Rio de Janeiro Vendas       Gerente          75.20   90.74\n",
       "1697 Rio de Janeiro Vendas       Gerente          77.92   92.72\n",
       "1828 Rio de Janeiro Vendas       Gerente          71.22  146.82\n",
       "2592 Rio de Janeiro Vendas       Gerente          87.45  101.60\n",
       "3014 Rio de Janeiro Vendas       Gerente          74.30  181.88\n",
       "3230 Rio de Janeiro Vendas       Gerente          70.35  114.76\n",
       "3521 Rio de Janeiro Vendas       Vice-Presidente 151.48   90.10\n",
       "3697 Rio de Janeiro Vendas       Vice-Presidente 110.23   76.50\n",
       "3778 Rio de Janeiro Vendas       Gerente          82.60  158.62\n",
       "4231 Rio de Janeiro Vendas       Gerente          73.41   56.82\n",
       "4551 Rio de Janeiro Vendas       Gerente          74.75  153.10\n",
       "4652 Rio de Janeiro Vendas       Gerente          92.97  137.28\n",
       "4828 Rio de Janeiro Vendas       Vice-Presidente  72.09  174.90"
      ]
     },
     "metadata": {},
     "output_type": "display_data"
    }
   ],
   "source": [
    "subset(rh, Sexo == 'Masculino' &\n",
    "           Unidade == 'Rio de Janeiro' &\n",
    "           Departamento %in% c('Financeiro', 'Vendas') &\n",
    "           Salário > 70)"
   ]
  }
 ],
 "metadata": {
  "kernelspec": {
   "display_name": "R-3.3.1",
   "language": "",
   "name": "ir33"
  },
  "language_info": {
   "codemirror_mode": "r",
   "file_extension": ".r",
   "mimetype": "text/x-r-source",
   "name": "R",
   "pygments_lexer": "r",
   "version": "3.3.1"
  }
 },
 "nbformat": 4,
 "nbformat_minor": 0
}
