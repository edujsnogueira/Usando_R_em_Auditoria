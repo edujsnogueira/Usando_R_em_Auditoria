{
 "cells": [
  {
   "cell_type": "markdown",
   "metadata": {},
   "source": [
    "# Tabulação Cruzada"
   ]
  },
  {
   "cell_type": "markdown",
   "metadata": {},
   "source": [
    "A tabulação cruzada consiste normalmente em se determinar a distribuição de frequências de uma, duas ou mais variáveis categóricas. O R dispõe das funções `table()` e `xtabs()` que nos permitem implementar esta técnica.\n",
    "\n",
    "Utilizando o conjunto de dados `rh.RData` que contém informações sobre os os funcionários de uma empresa, suponha que se queira saber quantos funcionários de cada sexo existem na empresa. Com a função `table()` esta informação pode ser obtida da seguintes forama:"
   ]
  },
  {
   "cell_type": "code",
   "execution_count": 3,
   "metadata": {
    "collapsed": false
   },
   "outputs": [
    {
     "data": {
      "text/html": [
       "<table>\n",
       "<thead><tr><th scope=col>Sexo</th><th scope=col>Estado.Civil</th><th scope=col>Anos.de.estudo</th><th scope=col>Formação</th><th scope=col>Tempo.de.empresa</th><th scope=col>Unidade</th><th scope=col>Departamento</th><th scope=col>Cargo</th><th scope=col>Salário</th><th scope=col>Bônus</th></tr></thead>\n",
       "<tbody>\n",
       "\t<tr><td>Masculino     </td><td>Casado        </td><td>14            </td><td>SEC           </td><td>19            </td><td>Curitiba      </td><td>Produção      </td><td>Assistente    </td><td>16.67         </td><td>28.02         </td></tr>\n",
       "\t<tr><td>Masculino     </td><td>Viúvo         </td><td>19            </td><td>SEC           </td><td>31            </td><td>São Paulo     </td><td>Vendas        </td><td>Assistente    </td><td>29.13         </td><td>41.24         </td></tr>\n",
       "\t<tr><td>Feminino      </td><td>Casado        </td><td>18            </td><td>SEC           </td><td>28            </td><td>Rio de Janeiro</td><td>Financeiro    </td><td>Assistente    </td><td>21.80         </td><td>16.88         </td></tr>\n",
       "\t<tr><td>Feminino      </td><td>Casado        </td><td>16            </td><td>SEC           </td><td>20            </td><td>Rio de Janeiro</td><td>Vendas        </td><td>Assistente    </td><td>22.61         </td><td>13.50         </td></tr>\n",
       "\t<tr><td>Masculino     </td><td>Solteiro      </td><td>15            </td><td>SEC           </td><td>15            </td><td>Curitiba      </td><td>Vendas        </td><td>Auxiliar      </td><td>16.67         </td><td> 8.44         </td></tr>\n",
       "\t<tr><td>Masculino     </td><td>Casado        </td><td>18            </td><td>SEC           </td><td>23            </td><td>São Paulo     </td><td>Pessoal       </td><td>Assistente    </td><td> 8.34         </td><td>86.88         </td></tr>\n",
       "</tbody>\n",
       "</table>\n"
      ],
      "text/latex": [
       "\\begin{tabular}{r|llllllllll}\n",
       " Sexo & Estado.Civil & Anos.de.estudo & Formação & Tempo.de.empresa & Unidade & Departamento & Cargo & Salário & Bônus\\\\\n",
       "\\hline\n",
       "\t Masculino      & Casado         & 14             & SEC            & 19             & Curitiba       & Produção       & Assistente     & 16.67          & 28.02         \\\\\n",
       "\t Masculino      & Viúvo          & 19             & SEC            & 31             & São Paulo      & Vendas         & Assistente     & 29.13          & 41.24         \\\\\n",
       "\t Feminino       & Casado         & 18             & SEC            & 28             & Rio de Janeiro & Financeiro     & Assistente     & 21.80          & 16.88         \\\\\n",
       "\t Feminino       & Casado         & 16             & SEC            & 20             & Rio de Janeiro & Vendas         & Assistente     & 22.61          & 13.50         \\\\\n",
       "\t Masculino      & Solteiro       & 15             & SEC            & 15             & Curitiba       & Vendas         & Auxiliar       & 16.67          &  8.44         \\\\\n",
       "\t Masculino      & Casado         & 18             & SEC            & 23             & São Paulo      & Pessoal        & Assistente     &  8.34          & 86.88         \\\\\n",
       "\\end{tabular}\n"
      ],
      "text/markdown": [
       "\n",
       "Sexo | Estado.Civil | Anos.de.estudo | Formação | Tempo.de.empresa | Unidade | Departamento | Cargo | Salário | Bônus | \n",
       "|---|---|---|---|---|---|\n",
       "| Masculino      | Casado         | 14             | SEC            | 19             | Curitiba       | Produção       | Assistente     | 16.67          | 28.02          | \n",
       "| Masculino      | Viúvo          | 19             | SEC            | 31             | São Paulo      | Vendas         | Assistente     | 29.13          | 41.24          | \n",
       "| Feminino       | Casado         | 18             | SEC            | 28             | Rio de Janeiro | Financeiro     | Assistente     | 21.80          | 16.88          | \n",
       "| Feminino       | Casado         | 16             | SEC            | 20             | Rio de Janeiro | Vendas         | Assistente     | 22.61          | 13.50          | \n",
       "| Masculino      | Solteiro       | 15             | SEC            | 15             | Curitiba       | Vendas         | Auxiliar       | 16.67          |  8.44          | \n",
       "| Masculino      | Casado         | 18             | SEC            | 23             | São Paulo      | Pessoal        | Assistente     |  8.34          | 86.88          | \n",
       "\n",
       "\n"
      ],
      "text/plain": [
       "  Sexo      Estado.Civil Anos.de.estudo Formação Tempo.de.empresa\n",
       "1 Masculino Casado       14             SEC      19              \n",
       "2 Masculino Viúvo        19             SEC      31              \n",
       "3 Feminino  Casado       18             SEC      28              \n",
       "4 Feminino  Casado       16             SEC      20              \n",
       "5 Masculino Solteiro     15             SEC      15              \n",
       "6 Masculino Casado       18             SEC      23              \n",
       "  Unidade        Departamento Cargo      Salário Bônus\n",
       "1 Curitiba       Produção     Assistente 16.67   28.02\n",
       "2 São Paulo      Vendas       Assistente 29.13   41.24\n",
       "3 Rio de Janeiro Financeiro   Assistente 21.80   16.88\n",
       "4 Rio de Janeiro Vendas       Assistente 22.61   13.50\n",
       "5 Curitiba       Vendas       Auxiliar   16.67    8.44\n",
       "6 São Paulo      Pessoal      Assistente  8.34   86.88"
      ]
     },
     "metadata": {},
     "output_type": "display_data"
    }
   ],
   "source": [
    "setwd('C:\\\\Users\\\\Marcos\\\\Documents\\\\GitHub\\\\Usando-R-em-Auditoria\\\\dados')\n",
    "load('rh.RData')\n",
    "head(rh)"
   ]
  },
  {
   "cell_type": "code",
   "execution_count": 4,
   "metadata": {
    "collapsed": false
   },
   "outputs": [
    {
     "data": {
      "text/plain": [
       "\n",
       " Feminino Masculino \n",
       "     2058      2940 "
      ]
     },
     "metadata": {},
     "output_type": "display_data"
    }
   ],
   "source": [
    "table(rh$Sexo)"
   ]
  },
  {
   "cell_type": "markdown",
   "metadata": {},
   "source": [
    "O mesmo resultado poderia ser obtido com a função `xtabs()`, da seguinte forma:"
   ]
  },
  {
   "cell_type": "code",
   "execution_count": 2,
   "metadata": {
    "collapsed": false
   },
   "outputs": [
    {
     "data": {
      "text/plain": [
       "Sexo\n",
       " Feminino Masculino \n",
       "     2058      2940 "
      ]
     },
     "metadata": {},
     "output_type": "display_data"
    }
   ],
   "source": [
    "xtabs(~ Sexo, data=rh)"
   ]
  },
  {
   "cell_type": "markdown",
   "metadata": {},
   "source": [
    "Com os comandos acima, obteve-se a distribuição de frequência de uma única vaiável: `Sexo`. Caso se deseje obter a distribuição conjunta das variáveis `Sexo` e `Estado.Civil`, também conhecida como tabela de contingência, pode-se proceder da seguinte forma:"
   ]
  },
  {
   "cell_type": "code",
   "execution_count": 5,
   "metadata": {
    "collapsed": false
   },
   "outputs": [
    {
     "data": {
      "text/plain": [
       "           \n",
       "            Casado Divorciado Solteiro Viúvo\n",
       "  Feminino    1367        181      371   135\n",
       "  Masculino   2080        238      419   198"
      ]
     },
     "metadata": {},
     "output_type": "display_data"
    }
   ],
   "source": [
    "table(rh$Sexo, rh$Estado.Civil)"
   ]
  },
  {
   "cell_type": "markdown",
   "metadata": {},
   "source": [
    "Utilizando-se a função `xtabs()` o mesmo resultado poderia ser obtido da seguinte forma:"
   ]
  },
  {
   "cell_type": "code",
   "execution_count": 9,
   "metadata": {
    "collapsed": false
   },
   "outputs": [
    {
     "data": {
      "text/plain": [
       "           Estado.Civil\n",
       "Sexo        Casado Divorciado Solteiro Viúvo\n",
       "  Feminino    1367        181      371   135\n",
       "  Masculino   2080        238      419   198"
      ]
     },
     "metadata": {},
     "output_type": "display_data"
    }
   ],
   "source": [
    "xtabs( ~ Sexo + Estado.Civil, data=rh)\n"
   ]
  },
  {
   "cell_type": "markdown",
   "metadata": {},
   "source": [
    "Caso nosso interesse fosse totalizar os salários por `Sexo`, a função `xtabs()` nos permite esta operação da seguinte forma:"
   ]
  },
  {
   "cell_type": "code",
   "execution_count": 10,
   "metadata": {
    "collapsed": false
   },
   "outputs": [
    {
     "data": {
      "text/plain": [
       "Sexo\n",
       " Feminino Masculino \n",
       " 17858.10  46206.43 "
      ]
     },
     "metadata": {},
     "output_type": "display_data"
    }
   ],
   "source": [
    "xtabs(Salário ~ Sexo, data=rh)"
   ]
  }
 ],
 "metadata": {
  "kernelspec": {
   "display_name": "R-3.3.1",
   "language": "",
   "name": "ir33"
  },
  "language_info": {
   "codemirror_mode": "r",
   "file_extension": ".r",
   "mimetype": "text/x-r-source",
   "name": "R",
   "pygments_lexer": "r",
   "version": "3.3.1"
  }
 },
 "nbformat": 4,
 "nbformat_minor": 0
}
