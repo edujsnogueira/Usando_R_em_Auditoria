{
 "cells": [
  {
   "cell_type": "markdown",
   "metadata": {},
   "source": [
    "# Lei de Benford"
   ]
  },
  {
   "cell_type": "markdown",
   "metadata": {},
   "source": [
    "A lei de benford descreve a distribuição de probabilidades dos primeiros dígitos em um conjunto de dados. Entende-se por primeiro dígito o dígito mais à esquerda em um número.  Assim, o primeiro dígito no número 746 é 7, no número 32 é 3 e assim por diante.  O dígito zero não é um primeiro dígito válido. A distribuição dos primeiros dígitos é dada pela equação a seguir:"
   ]
  },
  {
   "cell_type": "markdown",
   "metadata": {},
   "source": [
    "$$P(D_i = d_i) = \\log( 1 + 1 / d_i )  \\quad d_i = 1, ..., 9$$"
   ]
  },
  {
   "cell_type": "markdown",
   "metadata": {},
   "source": [
    " $d_i$           | 1       | 2       | 3       | 4       | 5       | 6       | 7       | 8       | 9\n",
    "-----------------|:-------:-:-------:-:-------:-:-------------------------------------------------------------------\n",
    " $P(D_i = d_i)$  | 0.30103 | 0.17609 | 0.12494 | 0.09691 | 0.07918 | 0.06695 | 0.05799 | 0.05115 | 0.04576 "
   ]
  },
  {
   "cell_type": "markdown",
   "metadata": {},
   "source": [
    "A Lei de Benford aplica-se a conjuntos de números que expressem os \"tamanhos\" de fenômenos semelhantes, como por exemplo: relações de despesas em prestações de contas de aplicação de recursos, saldos de contas no razão contábil, valores de sinistros em seguros, etc . Não é aplicável, contudo, a conjuntos de números que apresentem alguma das seguintes características:\n",
    "\n",
    "* Conjuntos de números que estejam restritos a um limite superior ou inferior, como os que representam o quociente intelectual, altura de pessoas, etc.;   \n",
    "* Conjuntos de números que sirvam para identificação de objetos, tais como números de contas bancárias, números de telefone, números de CPF/CGC, etc.;   \n",
    "* Conjuntos de números que tenham sido gerados aleatoriamente, tais como os resultados de loterias, bingos, etc.   \n",
    "\n",
    "O uso da Lei de Benford como técnica de auditoria na detecção de erros ou fraudes ganhou notoriedade a partir do trabalho de Mark Nigrini, que em sua tese de doutoramento estendeu a aplicação da Lei de Benford a dados corporativos e tem sido um entusiasta da utilização da mesma como técnica de auditoria. Sua página na internet é uma boa fonte de informações sobre a Lei de Benford e sua aplicação em Auditoria.\n",
    "\n",
    "A Lei de Benford permite aos auditores comparar a freqüência observada de \"primeiros dígitos\" com a freqüência esperada sob a Lei de Benford nos dados auditados, chamando a atenção do auditor para quaisquer discrepâncias verificadas, levando-o a direcionar os trabalhos para onde forem verificadas não-conformidades com o comportamento esperado.\n",
    "\n",
    "Para ilustrar a implementação da Lei de Benford vamos usar dados do Censo Escolar 2005 (`Internet2005.zip`) disponível no site do INEP . Como se sabe, a quantidade de matrículas serve de base para a definição da participação de estados e municípios nos recursos do FUNDEF sendo, portanto, uma variável muito suscetível a manipulações.Vamos utilizar apenas parte dos dados,  ou seja, as colunas Unidade da Federação, Municipio, Dependência Administrativa, Número de Matrículas no Ensino Fundamental Regular na 1a a 4a séries, e 5a a 8a séries. Nosso objetivo será verificar se o número de matrículas na 1a a 4a séries e 5a a 8a séries nas escolas municipais se ajustam à Lei de Benford, o que nos dará uma indicação de que o a quantidade de matrículas informada não foi manipulada.\n",
    "\n",
    "Após eliminarmos algumas linhas iniciais do arquivo original e as colunas que não serão utilizadas, convertemos o arquivo xls para o formato csv(`CensoEscolar2005.csv`), que poderá ser importado pelo R com a função **`read.csv2()`**. Esta conversão é necessária em razão do R não possuir, até o momento, função nativa para a leitura de arquivos do Excel. \n",
    "\n",
    "Alguns pacotes, como o `readxl`, `openxlsx` e `xlsx` oferecem recursos para a importação de dados em planilhas Excel.\n",
    "\n",
    "A importação dos dados pode ser feita da seguinte forma:"
   ]
  },
  {
   "cell_type": "code",
   "execution_count": 1,
   "metadata": {
    "collapsed": false
   },
   "outputs": [
    {
     "name": "stdout",
     "output_type": "stream",
     "text": [
      "'data.frame':\t20220 obs. of  5 variables:\n",
      " $ UF           : chr  \"Brasil\" \"Brasil\" \"Brasil\" \"Brasil\" ...\n",
      " $ Municipio    : chr  \"Total\" \"Total\" \"Total\" \"Total\" ...\n",
      " $ DepAdm       : chr  \"Total\" \"Estadual\" \"Federal\" \"Municipal\" ...\n",
      " $ EnsinoFund1_4: chr  \"13.521.834\" \"3.103.985\" \"4.847\" \"8.684.296\" ...\n",
      " $ EnsinoFund5_8: chr  \"11.898.908\" \"6.292.068\" \"14.938\" \"4.075.338\" ...\n"
     ]
    },
    {
     "data": {
      "text/html": [
       "<table>\n",
       "<thead><tr><th scope=col>UF</th><th scope=col>Municipio</th><th scope=col>DepAdm</th><th scope=col>EnsinoFund1_4</th><th scope=col>EnsinoFund5_8</th></tr></thead>\n",
       "<tbody>\n",
       "\t<tr><td>Brasil    </td><td>Total     </td><td>Total     </td><td>13.521.834</td><td>11.898.908</td></tr>\n",
       "\t<tr><td>Brasil    </td><td>Total     </td><td>Estadual  </td><td>3.103.985 </td><td>6.292.068 </td></tr>\n",
       "\t<tr><td>Brasil    </td><td>Total     </td><td>Federal   </td><td>4.847     </td><td>14.938    </td></tr>\n",
       "\t<tr><td>Brasil    </td><td>Total     </td><td>Municipal </td><td>8.684.296 </td><td>4.075.338 </td></tr>\n",
       "\t<tr><td>Brasil    </td><td>Total     </td><td>Privada   </td><td>1.728.706 </td><td>1.516.564 </td></tr>\n",
       "\t<tr><td>Acre      </td><td>Total     </td><td>Total     </td><td>93.668    </td><td>53.720    </td></tr>\n",
       "</tbody>\n",
       "</table>\n"
      ],
      "text/latex": [
       "\\begin{tabular}{r|lllll}\n",
       " UF & Municipio & DepAdm & EnsinoFund1\\_4 & EnsinoFund5\\_8\\\\\n",
       "\\hline\n",
       "\t Brasil     & Total      & Total      & 13.521.834 & 11.898.908\\\\\n",
       "\t Brasil     & Total      & Estadual   & 3.103.985  & 6.292.068 \\\\\n",
       "\t Brasil     & Total      & Federal    & 4.847      & 14.938    \\\\\n",
       "\t Brasil     & Total      & Municipal  & 8.684.296  & 4.075.338 \\\\\n",
       "\t Brasil     & Total      & Privada    & 1.728.706  & 1.516.564 \\\\\n",
       "\t Acre       & Total      & Total      & 93.668     & 53.720    \\\\\n",
       "\\end{tabular}\n"
      ],
      "text/markdown": [
       "\n",
       "UF | Municipio | DepAdm | EnsinoFund1_4 | EnsinoFund5_8 | \n",
       "|---|---|---|---|---|---|\n",
       "| Brasil     | Total      | Total      | 13.521.834 | 11.898.908 | \n",
       "| Brasil     | Total      | Estadual   | 3.103.985  | 6.292.068  | \n",
       "| Brasil     | Total      | Federal    | 4.847      | 14.938     | \n",
       "| Brasil     | Total      | Municipal  | 8.684.296  | 4.075.338  | \n",
       "| Brasil     | Total      | Privada    | 1.728.706  | 1.516.564  | \n",
       "| Acre       | Total      | Total      | 93.668     | 53.720     | \n",
       "\n",
       "\n"
      ],
      "text/plain": [
       "  UF     Municipio DepAdm    EnsinoFund1_4 EnsinoFund5_8\n",
       "1 Brasil Total     Total     13.521.834    11.898.908   \n",
       "2 Brasil Total     Estadual  3.103.985     6.292.068    \n",
       "3 Brasil Total     Federal   4.847         14.938       \n",
       "4 Brasil Total     Municipal 8.684.296     4.075.338    \n",
       "5 Brasil Total     Privada   1.728.706     1.516.564    \n",
       "6 Acre   Total     Total     93.668        53.720       "
      ]
     },
     "metadata": {},
     "output_type": "display_data"
    }
   ],
   "source": [
    "setwd('C:\\\\Users\\\\Marcos\\\\Documents\\\\GitHub\\\\Usando-R-em-Auditoria\\\\dados')\n",
    "Censo2005 <- read.csv2(\"CensoEscolar2005.csv\", as.is=TRUE)\n",
    "str(Censo2005)\n",
    "head(Censo2005)"
   ]
  },
  {
   "cell_type": "markdown",
   "metadata": {
    "collapsed": true
   },
   "source": [
    "A função `str()` nos permite identificar o número de registros (linhas) e de variáveis (colunas) existentes no conjunto de dados importado. Também mostra os nomes nas variáveis e o tipo de cada uma delas.\n",
    "\n",
    "Observe que as variáveis `EnsinoFund1_4` e `EnsinoFund5_8` que representam o número de matrículas na 1a a 4a séries e 5a a 8a séries do ensino fundamental não são numéricas como seria de se esperar. Isto ocorre porque na planilha de onde importamos os dados os números estavam representados tendo o ponto por separador de milhar. Este problema pode ser contornado facilmente com os comandos a seguir:"
   ]
  },
  {
   "cell_type": "code",
   "execution_count": 3,
   "metadata": {
    "collapsed": false
   },
   "outputs": [
    {
     "name": "stdout",
     "output_type": "stream",
     "text": [
      "'data.frame':\t20220 obs. of  5 variables:\n",
      " $ UF           : chr  \"Brasil\" \"Brasil\" \"Brasil\" \"Brasil\" ...\n",
      " $ Municipio    : chr  \"Total\" \"Total\" \"Total\" \"Total\" ...\n",
      " $ DepAdm       : chr  \"Total\" \"Estadual\" \"Federal\" \"Municipal\" ...\n",
      " $ EnsinoFund1_4: num  13521834 3103985 4847 8684296 1728706 ...\n",
      " $ EnsinoFund5_8: num  11898908 6292068 14938 4075338 1516564 ...\n"
     ]
    }
   ],
   "source": [
    "Censo2005$EnsinoFund1_4 <- as.numeric(gsub('\\\\.', '', Censo2005$EnsinoFund1_4))\n",
    "Censo2005$EnsinoFund5_8 <- as.numeric(gsub('\\\\.', '', Censo2005$EnsinoFund5_8))\n",
    "str(Censo2005)"
   ]
  },
  {
   "cell_type": "markdown",
   "metadata": {},
   "source": [
    "Na base de dados, alguns registros referem-se a totalizações como pode ser visto a seguir:"
   ]
  },
  {
   "cell_type": "code",
   "execution_count": 4,
   "metadata": {
    "collapsed": false
   },
   "outputs": [
    {
     "data": {
      "text/html": [
       "<ol class=list-inline>\n",
       "\t<li>'Brasil'</li>\n",
       "\t<li>'Acre'</li>\n",
       "\t<li>'Alagoas'</li>\n",
       "\t<li>'Amapa'</li>\n",
       "\t<li>'Amazonas'</li>\n",
       "\t<li>'Bahia'</li>\n",
       "\t<li>'Ceara'</li>\n",
       "\t<li>'Distrito Federal'</li>\n",
       "\t<li>'Espirito Santo'</li>\n",
       "\t<li>'Goias'</li>\n",
       "\t<li>'Maranhao'</li>\n",
       "\t<li>'Mato Grosso'</li>\n",
       "\t<li>'Mato Grosso do Sul'</li>\n",
       "\t<li>'Minas Gerais'</li>\n",
       "\t<li>'Para'</li>\n",
       "\t<li>'Paraiba'</li>\n",
       "\t<li>'Paraná'</li>\n",
       "\t<li>'Pernambuco'</li>\n",
       "\t<li>'Piaui'</li>\n",
       "\t<li>'Rio Grande do Norte'</li>\n",
       "\t<li>'Rio Grande do Sul'</li>\n",
       "\t<li>'Rio de Janeiro'</li>\n",
       "\t<li>'Rondonia'</li>\n",
       "\t<li>'Roraima'</li>\n",
       "\t<li>'Santa Catarina'</li>\n",
       "\t<li>'Sergipe'</li>\n",
       "\t<li>'São Paulo'</li>\n",
       "\t<li>'Tocantins'</li>\n",
       "</ol>\n"
      ],
      "text/latex": [
       "\\begin{enumerate*}\n",
       "\\item 'Brasil'\n",
       "\\item 'Acre'\n",
       "\\item 'Alagoas'\n",
       "\\item 'Amapa'\n",
       "\\item 'Amazonas'\n",
       "\\item 'Bahia'\n",
       "\\item 'Ceara'\n",
       "\\item 'Distrito Federal'\n",
       "\\item 'Espirito Santo'\n",
       "\\item 'Goias'\n",
       "\\item 'Maranhao'\n",
       "\\item 'Mato Grosso'\n",
       "\\item 'Mato Grosso do Sul'\n",
       "\\item 'Minas Gerais'\n",
       "\\item 'Para'\n",
       "\\item 'Paraiba'\n",
       "\\item 'Paraná'\n",
       "\\item 'Pernambuco'\n",
       "\\item 'Piaui'\n",
       "\\item 'Rio Grande do Norte'\n",
       "\\item 'Rio Grande do Sul'\n",
       "\\item 'Rio de Janeiro'\n",
       "\\item 'Rondonia'\n",
       "\\item 'Roraima'\n",
       "\\item 'Santa Catarina'\n",
       "\\item 'Sergipe'\n",
       "\\item 'São Paulo'\n",
       "\\item 'Tocantins'\n",
       "\\end{enumerate*}\n"
      ],
      "text/markdown": [
       "1. 'Brasil'\n",
       "2. 'Acre'\n",
       "3. 'Alagoas'\n",
       "4. 'Amapa'\n",
       "5. 'Amazonas'\n",
       "6. 'Bahia'\n",
       "7. 'Ceara'\n",
       "8. 'Distrito Federal'\n",
       "9. 'Espirito Santo'\n",
       "10. 'Goias'\n",
       "11. 'Maranhao'\n",
       "12. 'Mato Grosso'\n",
       "13. 'Mato Grosso do Sul'\n",
       "14. 'Minas Gerais'\n",
       "15. 'Para'\n",
       "16. 'Paraiba'\n",
       "17. 'Paraná'\n",
       "18. 'Pernambuco'\n",
       "19. 'Piaui'\n",
       "20. 'Rio Grande do Norte'\n",
       "21. 'Rio Grande do Sul'\n",
       "22. 'Rio de Janeiro'\n",
       "23. 'Rondonia'\n",
       "24. 'Roraima'\n",
       "25. 'Santa Catarina'\n",
       "26. 'Sergipe'\n",
       "27. 'São Paulo'\n",
       "28. 'Tocantins'\n",
       "\n",
       "\n"
      ],
      "text/plain": [
       " [1] \"Brasil\"              \"Acre\"                \"Alagoas\"            \n",
       " [4] \"Amapa\"               \"Amazonas\"            \"Bahia\"              \n",
       " [7] \"Ceara\"               \"Distrito Federal\"    \"Espirito Santo\"     \n",
       "[10] \"Goias\"               \"Maranhao\"            \"Mato Grosso\"        \n",
       "[13] \"Mato Grosso do Sul\"  \"Minas Gerais\"        \"Para\"               \n",
       "[16] \"Paraiba\"             \"Paraná\"              \"Pernambuco\"         \n",
       "[19] \"Piaui\"               \"Rio Grande do Norte\" \"Rio Grande do Sul\"  \n",
       "[22] \"Rio de Janeiro\"      \"Rondonia\"            \"Roraima\"            \n",
       "[25] \"Santa Catarina\"      \"Sergipe\"             \"São Paulo\"          \n",
       "[28] \"Tocantins\"          "
      ]
     },
     "metadata": {},
     "output_type": "display_data"
    }
   ],
   "source": [
    "unique(Censo2005$UF)"
   ]
  },
  {
   "cell_type": "code",
   "execution_count": 5,
   "metadata": {
    "collapsed": false
   },
   "outputs": [
    {
     "data": {
      "text/html": [
       "<ol class=list-inline>\n",
       "\t<li>'Total'</li>\n",
       "\t<li>'Estadual'</li>\n",
       "\t<li>'Federal'</li>\n",
       "\t<li>'Municipal'</li>\n",
       "\t<li>'Privada'</li>\n",
       "</ol>\n"
      ],
      "text/latex": [
       "\\begin{enumerate*}\n",
       "\\item 'Total'\n",
       "\\item 'Estadual'\n",
       "\\item 'Federal'\n",
       "\\item 'Municipal'\n",
       "\\item 'Privada'\n",
       "\\end{enumerate*}\n"
      ],
      "text/markdown": [
       "1. 'Total'\n",
       "2. 'Estadual'\n",
       "3. 'Federal'\n",
       "4. 'Municipal'\n",
       "5. 'Privada'\n",
       "\n",
       "\n"
      ],
      "text/plain": [
       "[1] \"Total\"     \"Estadual\"  \"Federal\"   \"Municipal\" \"Privada\"  "
      ]
     },
     "metadata": {},
     "output_type": "display_data"
    }
   ],
   "source": [
    "unique(Censo2005$DepAdm)"
   ]
  },
  {
   "cell_type": "code",
   "execution_count": 6,
   "metadata": {
    "collapsed": false
   },
   "outputs": [
    {
     "data": {
      "text/html": [
       "<ol class=list-inline>\n",
       "\t<li>'Total'</li>\n",
       "\t<li>'ACRELANDIA'</li>\n",
       "\t<li>'ASSIS BRASIL'</li>\n",
       "\t<li>'BRASILEIA'</li>\n",
       "\t<li>'BUJARI'</li>\n",
       "\t<li>'CAPIXABA'</li>\n",
       "\t<li>'CRUZEIRO DO SUL'</li>\n",
       "\t<li>'EPITACIOLANDIA'</li>\n",
       "\t<li>'FEIJO'</li>\n",
       "\t<li>'JORDAO'</li>\n",
       "</ol>\n"
      ],
      "text/latex": [
       "\\begin{enumerate*}\n",
       "\\item 'Total'\n",
       "\\item 'ACRELANDIA'\n",
       "\\item 'ASSIS BRASIL'\n",
       "\\item 'BRASILEIA'\n",
       "\\item 'BUJARI'\n",
       "\\item 'CAPIXABA'\n",
       "\\item 'CRUZEIRO DO SUL'\n",
       "\\item 'EPITACIOLANDIA'\n",
       "\\item 'FEIJO'\n",
       "\\item 'JORDAO'\n",
       "\\end{enumerate*}\n"
      ],
      "text/markdown": [
       "1. 'Total'\n",
       "2. 'ACRELANDIA'\n",
       "3. 'ASSIS BRASIL'\n",
       "4. 'BRASILEIA'\n",
       "5. 'BUJARI'\n",
       "6. 'CAPIXABA'\n",
       "7. 'CRUZEIRO DO SUL'\n",
       "8. 'EPITACIOLANDIA'\n",
       "9. 'FEIJO'\n",
       "10. 'JORDAO'\n",
       "\n",
       "\n"
      ],
      "text/plain": [
       " [1] \"Total\"           \"ACRELANDIA\"      \"ASSIS BRASIL\"    \"BRASILEIA\"      \n",
       " [5] \"BUJARI\"          \"CAPIXABA\"        \"CRUZEIRO DO SUL\" \"EPITACIOLANDIA\" \n",
       " [9] \"FEIJO\"           \"JORDAO\"         "
      ]
     },
     "metadata": {},
     "output_type": "display_data"
    }
   ],
   "source": [
    "unique(Censo2005$Municipio)[1:10]"
   ]
  },
  {
   "cell_type": "markdown",
   "metadata": {},
   "source": [
    "Para ficarmos apenas com escolas da rede municipal e retirar as totalizações da base de dados, será necessário filtrá-la conforme mostrado a seguir:"
   ]
  },
  {
   "cell_type": "code",
   "execution_count": 7,
   "metadata": {
    "collapsed": false
   },
   "outputs": [
    {
     "name": "stdout",
     "output_type": "stream",
     "text": [
      "'data.frame':\t5559 obs. of  5 variables:\n",
      " $ UF           : chr  \"Acre\" \"Acre\" \"Acre\" \"Acre\" ...\n",
      " $ Municipio    : chr  \"ACRELANDIA\" \"ASSIS BRASIL\" \"BRASILEIA\" \"BUJARI\" ...\n",
      " $ DepAdm       : chr  \"Municipal\" \"Municipal\" \"Municipal\" \"Municipal\" ...\n",
      " $ EnsinoFund1_4: num  1424 699 1921 838 1194 ...\n",
      " $ EnsinoFund5_8: num  314 121 392 84 102 0 174 187 377 534 ...\n"
     ]
    }
   ],
   "source": [
    "Censo2005 <- subset(Censo2005, DepAdm == \"Municipal\" & Municipio != \"Total\" & UF != \"Brasil\")\n",
    "str(Censo2005)"
   ]
  },
  {
   "cell_type": "markdown",
   "metadata": {},
   "source": [
    "Agora os dados estão prontos para serem utilizados. Para implementar o teste dos primeiros dígitos será utilizado o pacote [`benford.analysis`](https://cran.rstudio.com/web/packages/benford.analysis/index.html). Caso não possua este pacote instalado, será necessário fazê-lo."
   ]
  },
  {
   "cell_type": "code",
   "execution_count": 13,
   "metadata": {
    "collapsed": false
   },
   "outputs": [
    {
     "data": {
      "image/png": "[encoded data removed]",
      "text/plain": [
       "Plot with title \"Legend \n",
       " Dataset: Censo2005$EnsinoFund1_4\""
      ]
     },
     "metadata": {},
     "output_type": "display_data"
    }
   ],
   "source": [
    "library(benford.analysis)\n",
    "benf <- benford(Censo2005$EnsinoFund1_4, number.of.digits = 1)\n",
    "plot(benf)"
   ]
  },
  {
   "cell_type": "markdown",
   "metadata": {},
   "source": [
    "Para termos acesso ao teste de ajustamento dos dados à distribuição de benford usando qui-quadrado, podemos acessar a componente `stats` do objeto `benf`."
   ]
  },
  {
   "cell_type": "code",
   "execution_count": 15,
   "metadata": {
    "collapsed": false
   },
   "outputs": [
    {
     "data": {
      "text/plain": [
       "\n",
       "\tPearson's Chi-squared test\n",
       "\n",
       "data:  Censo2005$EnsinoFund1_4\n",
       "X-squared = 13.966, df = 8, p-value = 0.08267\n"
      ]
     },
     "metadata": {},
     "output_type": "display_data"
    }
   ],
   "source": [
    "benf$stats$chisq"
   ]
  },
  {
   "cell_type": "code",
   "execution_count": null,
   "metadata": {
    "collapsed": false
   },
   "outputs": [],
   "source": [
    " "
   ]
  },
  {
   "cell_type": "markdown",
   "metadata": {},
   "source": [
    "**Marcos F. Silva**"
   ]
  }
 ],
 "metadata": {
  "kernelspec": {
   "display_name": "R-3.3.1",
   "language": "",
   "name": "ir33"
  },
  "language_info": {
   "codemirror_mode": "r",
   "file_extension": ".r",
   "mimetype": "text/x-r-source",
   "name": "R",
   "pygments_lexer": "r",
   "version": "3.3.1"
  }
 },
 "nbformat": 4,
 "nbformat_minor": 0
}
