{
 "cells": [
  {
   "cell_type": "markdown",
   "metadata": {},
   "source": [
    "# Estatística Descritiva"
   ]
  },
  {
   "cell_type": "markdown",
   "metadata": {},
   "source": [
    "O R dispõe de diversas funções para o cálculo de estatísticas descritivas, dentre as quais destacamos:\n",
    "\n",
    "* `max()` - retorna o valor máximo de um campo   \n",
    "* `min()` - retorna o valor mínimo de um campo    \n",
    "* `mean()` - retorna a média de um campo   \n",
    "* `median()` - retorna a mediana de um campo   \n",
    "* `sd()` - retorna o desvio padrão de um campo   \n",
    "* `var()` - retorna a variância de um campo   \n",
    "* `sum()` - retorna a soma (total) de um campo   \n",
    "* `length()` - retorna a quantidade de elementos em um campo   \n",
    "* `range()` - retorne os valores mínimo e máximo de um campo   \n",
    "* `quantile()` - retorna os quantis de um campo.   \n",
    "\n",
    "Para ilustrar o uso dessas funções vamos usar o conjunto de dados `Invoices.csv`."
   ]
  },
  {
   "cell_type": "code",
   "execution_count": 1,
   "metadata": {
    "collapsed": false
   },
   "outputs": [
    {
     "data": {
      "text/html": [
       "<table>\n",
       "<thead><tr><th scope=col>Date</th><th scope=col>InvoiceNo</th><th scope=col>CustomerNo</th><th scope=col>SalesPerson</th><th scope=col>ProductNo</th><th scope=col>UnitPrice</th><th scope=col>Quantity</th><th scope=col>Amount</th></tr></thead>\n",
       "<tbody>\n",
       "\t<tr><td>09/07/2003</td><td>20000     </td><td>10220     </td><td> 8        </td><td> 8        </td><td> 9.2      </td><td>41        </td><td>377.2     </td></tr>\n",
       "\t<tr><td>21/08/2003</td><td>20001     </td><td>10491     </td><td> 4        </td><td>48        </td><td>14.0      </td><td>30        </td><td>420.0     </td></tr>\n",
       "\t<tr><td>27/08/2003</td><td>20002     </td><td>10704     </td><td> 3        </td><td>43        </td><td>15.0      </td><td>25        </td><td>375.0     </td></tr>\n",
       "\t<tr><td>28/05/2003</td><td>20003     </td><td>10430     </td><td> 5        </td><td>54        </td><td>24.0      </td><td>22        </td><td>528.0     </td></tr>\n",
       "\t<tr><td>06/12/2003</td><td>20004     </td><td>10841     </td><td>17        </td><td>11        </td><td>15.0      </td><td>21        </td><td>315.0     </td></tr>\n",
       "\t<tr><td>24/05/2003</td><td>20005     </td><td>10777     </td><td> 1        </td><td> 5        </td><td>12.5      </td><td>50        </td><td>625.0     </td></tr>\n",
       "</tbody>\n",
       "</table>\n"
      ],
      "text/latex": [
       "\\begin{tabular}{r|llllllll}\n",
       " Date & InvoiceNo & CustomerNo & SalesPerson & ProductNo & UnitPrice & Quantity & Amount\\\\\n",
       "\\hline\n",
       "\t 09/07/2003 & 20000      & 10220      &  8         &  8         &  9.2       & 41         & 377.2     \\\\\n",
       "\t 21/08/2003 & 20001      & 10491      &  4         & 48         & 14.0       & 30         & 420.0     \\\\\n",
       "\t 27/08/2003 & 20002      & 10704      &  3         & 43         & 15.0       & 25         & 375.0     \\\\\n",
       "\t 28/05/2003 & 20003      & 10430      &  5         & 54         & 24.0       & 22         & 528.0     \\\\\n",
       "\t 06/12/2003 & 20004      & 10841      & 17         & 11         & 15.0       & 21         & 315.0     \\\\\n",
       "\t 24/05/2003 & 20005      & 10777      &  1         &  5         & 12.5       & 50         & 625.0     \\\\\n",
       "\\end{tabular}\n"
      ],
      "text/markdown": [
       "\n",
       "Date | InvoiceNo | CustomerNo | SalesPerson | ProductNo | UnitPrice | Quantity | Amount | \n",
       "|---|---|---|---|---|---|\n",
       "| 09/07/2003 | 20000      | 10220      |  8         |  8         |  9.2       | 41         | 377.2      | \n",
       "| 21/08/2003 | 20001      | 10491      |  4         | 48         | 14.0       | 30         | 420.0      | \n",
       "| 27/08/2003 | 20002      | 10704      |  3         | 43         | 15.0       | 25         | 375.0      | \n",
       "| 28/05/2003 | 20003      | 10430      |  5         | 54         | 24.0       | 22         | 528.0      | \n",
       "| 06/12/2003 | 20004      | 10841      | 17         | 11         | 15.0       | 21         | 315.0      | \n",
       "| 24/05/2003 | 20005      | 10777      |  1         |  5         | 12.5       | 50         | 625.0      | \n",
       "\n",
       "\n"
      ],
      "text/plain": [
       "  Date       InvoiceNo CustomerNo SalesPerson ProductNo UnitPrice Quantity\n",
       "1 09/07/2003 20000     10220       8           8         9.2      41      \n",
       "2 21/08/2003 20001     10491       4          48        14.0      30      \n",
       "3 27/08/2003 20002     10704       3          43        15.0      25      \n",
       "4 28/05/2003 20003     10430       5          54        24.0      22      \n",
       "5 06/12/2003 20004     10841      17          11        15.0      21      \n",
       "6 24/05/2003 20005     10777       1           5        12.5      50      \n",
       "  Amount\n",
       "1 377.2 \n",
       "2 420.0 \n",
       "3 375.0 \n",
       "4 528.0 \n",
       "5 315.0 \n",
       "6 625.0 "
      ]
     },
     "metadata": {},
     "output_type": "display_data"
    }
   ],
   "source": [
    "setwd('C:\\\\Users\\\\Marcos\\\\Documents\\\\GitHub\\\\Usando-R-em-Auditoria\\\\dados')\n",
    "faturas <- read.csv2(\"Invoices.csv\")\n",
    "head(faturas)"
   ]
  },
  {
   "cell_type": "code",
   "execution_count": 4,
   "metadata": {
    "collapsed": false
   },
   "outputs": [
    {
     "data": {
      "text/html": [
       "13438.5"
      ],
      "text/latex": [
       "13438.5"
      ],
      "text/markdown": [
       "13438.5"
      ],
      "text/plain": [
       "[1] 13438.5"
      ]
     },
     "metadata": {},
     "output_type": "display_data"
    }
   ],
   "source": [
    "max(faturas$Amount)"
   ]
  },
  {
   "cell_type": "code",
   "execution_count": 5,
   "metadata": {
    "collapsed": false
   },
   "outputs": [
    {
     "data": {
      "text/html": [
       "5"
      ],
      "text/latex": [
       "5"
      ],
      "text/markdown": [
       "5"
      ],
      "text/plain": [
       "[1] 5"
      ]
     },
     "metadata": {},
     "output_type": "display_data"
    }
   ],
   "source": [
    "min(faturas$Amount)"
   ]
  },
  {
   "cell_type": "code",
   "execution_count": 6,
   "metadata": {
    "collapsed": false
   },
   "outputs": [
    {
     "data": {
      "text/html": [
       "785.594126825365"
      ],
      "text/latex": [
       "785.594126825365"
      ],
      "text/markdown": [
       "785.594126825365"
      ],
      "text/plain": [
       "[1] 785.5941"
      ]
     },
     "metadata": {},
     "output_type": "display_data"
    }
   ],
   "source": [
    "mean(faturas$Amount)"
   ]
  },
  {
   "cell_type": "code",
   "execution_count": 7,
   "metadata": {
    "collapsed": false
   },
   "outputs": [
    {
     "data": {
      "text/html": [
       "450"
      ],
      "text/latex": [
       "450"
      ],
      "text/markdown": [
       "450"
      ],
      "text/plain": [
       "[1] 450"
      ]
     },
     "metadata": {},
     "output_type": "display_data"
    }
   ],
   "source": [
    "median(faturas$Amount)"
   ]
  },
  {
   "cell_type": "code",
   "execution_count": 8,
   "metadata": {
    "collapsed": false
   },
   "outputs": [
    {
     "data": {
      "text/html": [
       "1294.03384637205"
      ],
      "text/latex": [
       "1294.03384637205"
      ],
      "text/markdown": [
       "1294.03384637205"
      ],
      "text/plain": [
       "[1] 1294.034"
      ]
     },
     "metadata": {},
     "output_type": "display_data"
    }
   ],
   "source": [
    "sd(faturas$Amount)"
   ]
  },
  {
   "cell_type": "code",
   "execution_count": 9,
   "metadata": {
    "collapsed": false
   },
   "outputs": [
    {
     "data": {
      "text/html": [
       "1674523.59555646"
      ],
      "text/latex": [
       "1674523.59555646"
      ],
      "text/markdown": [
       "1674523.59555646"
      ],
      "text/plain": [
       "[1] 1674524"
      ]
     },
     "metadata": {},
     "output_type": "display_data"
    }
   ],
   "source": [
    "var(faturas$Amount)"
   ]
  },
  {
   "cell_type": "code",
   "execution_count": 10,
   "metadata": {
    "collapsed": false
   },
   "outputs": [
    {
     "data": {
      "text/html": [
       "3927185.04"
      ],
      "text/latex": [
       "3927185.04"
      ],
      "text/markdown": [
       "3927185.04"
      ],
      "text/plain": [
       "[1] 3927185"
      ]
     },
     "metadata": {},
     "output_type": "display_data"
    }
   ],
   "source": [
    "sum(faturas$Amount)"
   ]
  },
  {
   "cell_type": "code",
   "execution_count": 11,
   "metadata": {
    "collapsed": false
   },
   "outputs": [
    {
     "data": {
      "text/html": [
       "4999"
      ],
      "text/latex": [
       "4999"
      ],
      "text/markdown": [
       "4999"
      ],
      "text/plain": [
       "[1] 4999"
      ]
     },
     "metadata": {},
     "output_type": "display_data"
    }
   ],
   "source": [
    "length(faturas$Amount)"
   ]
  },
  {
   "cell_type": "code",
   "execution_count": 12,
   "metadata": {
    "collapsed": false
   },
   "outputs": [
    {
     "data": {
      "text/html": [
       "<ol class=list-inline>\n",
       "\t<li>5</li>\n",
       "\t<li>13438.5</li>\n",
       "</ol>\n"
      ],
      "text/latex": [
       "\\begin{enumerate*}\n",
       "\\item 5\n",
       "\\item 13438.5\n",
       "\\end{enumerate*}\n"
      ],
      "text/markdown": [
       "1. 5\n",
       "2. 13438.5\n",
       "\n",
       "\n"
      ],
      "text/plain": [
       "[1]     5.0 13438.5"
      ]
     },
     "metadata": {},
     "output_type": "display_data"
    }
   ],
   "source": [
    "range(faturas$Amount)"
   ]
  },
  {
   "cell_type": "code",
   "execution_count": 13,
   "metadata": {
    "collapsed": false
   },
   "outputs": [
    {
     "data": {
      "text/html": [
       "<dl class=dl-horizontal>\n",
       "\t<dt>25%</dt>\n",
       "\t\t<dd>218.5</dd>\n",
       "\t<dt>50%</dt>\n",
       "\t\t<dd>450</dd>\n",
       "\t<dt>75%</dt>\n",
       "\t\t<dd>837.3</dd>\n",
       "</dl>\n"
      ],
      "text/latex": [
       "\\begin{description*}\n",
       "\\item[25\\textbackslash{}\\%] 218.5\n",
       "\\item[50\\textbackslash{}\\%] 450\n",
       "\\item[75\\textbackslash{}\\%] 837.3\n",
       "\\end{description*}\n"
      ],
      "text/markdown": [
       "25%\n",
       ":   218.550%\n",
       ":   45075%\n",
       ":   837.3\n",
       "\n"
      ],
      "text/plain": [
       "  25%   50%   75% \n",
       "218.5 450.0 837.3 "
      ]
     },
     "metadata": {},
     "output_type": "display_data"
    }
   ],
   "source": [
    "quantile(faturas$Amount, probs=c(.25, .50, .75))"
   ]
  },
  {
   "cell_type": "code",
   "execution_count": 14,
   "metadata": {
    "collapsed": false
   },
   "outputs": [
    {
     "data": {
      "text/html": [
       "<dl class=dl-horizontal>\n",
       "\t<dt>0%</dt>\n",
       "\t\t<dd>5</dd>\n",
       "\t<dt>10%</dt>\n",
       "\t\t<dd>93</dd>\n",
       "\t<dt>20%</dt>\n",
       "\t\t<dd>180</dd>\n",
       "\t<dt>30%</dt>\n",
       "\t\t<dd>265.4</dd>\n",
       "\t<dt>40%</dt>\n",
       "\t\t<dd>352.5</dd>\n",
       "\t<dt>50%</dt>\n",
       "\t\t<dd>450</dd>\n",
       "\t<dt>60%</dt>\n",
       "\t\t<dd>573.7</dd>\n",
       "\t<dt>70%</dt>\n",
       "\t\t<dd>722</dd>\n",
       "\t<dt>80%</dt>\n",
       "\t\t<dd>986</dd>\n",
       "\t<dt>90%</dt>\n",
       "\t\t<dd>1548</dd>\n",
       "\t<dt>100%</dt>\n",
       "\t\t<dd>13438.5</dd>\n",
       "</dl>\n"
      ],
      "text/latex": [
       "\\begin{description*}\n",
       "\\item[0\\textbackslash{}\\%] 5\n",
       "\\item[10\\textbackslash{}\\%] 93\n",
       "\\item[20\\textbackslash{}\\%] 180\n",
       "\\item[30\\textbackslash{}\\%] 265.4\n",
       "\\item[40\\textbackslash{}\\%] 352.5\n",
       "\\item[50\\textbackslash{}\\%] 450\n",
       "\\item[60\\textbackslash{}\\%] 573.7\n",
       "\\item[70\\textbackslash{}\\%] 722\n",
       "\\item[80\\textbackslash{}\\%] 986\n",
       "\\item[90\\textbackslash{}\\%] 1548\n",
       "\\item[100\\textbackslash{}\\%] 13438.5\n",
       "\\end{description*}\n"
      ],
      "text/markdown": [
       "0%\n",
       ":   510%\n",
       ":   9320%\n",
       ":   18030%\n",
       ":   265.440%\n",
       ":   352.550%\n",
       ":   45060%\n",
       ":   573.770%\n",
       ":   72280%\n",
       ":   98690%\n",
       ":   1548100%\n",
       ":   13438.5\n",
       "\n"
      ],
      "text/plain": [
       "     0%     10%     20%     30%     40%     50%     60%     70%     80%     90% \n",
       "    5.0    93.0   180.0   265.4   352.5   450.0   573.7   722.0   986.0  1548.0 \n",
       "   100% \n",
       "13438.5 "
      ]
     },
     "metadata": {},
     "output_type": "display_data"
    }
   ],
   "source": [
    "quantile(faturas$Amount, probs=seq(0, 1, 0.1))"
   ]
  },
  {
   "cell_type": "markdown",
   "metadata": {},
   "source": [
    "Como pode ser visto, as funções acima operam sobre apenas um campo da base de dados e retornam apenas uma estatística. Pode ser desejável que uma função retorne mais de uma estatística para o mesmo campo. Para essa finalidade existe a função `summary()` que retorna as seguintes estatísticas: mínimo, primeiro quartil, mediana, média, terceiro quartil e máximo. Exemplo:"
   ]
  },
  {
   "cell_type": "code",
   "execution_count": 15,
   "metadata": {
    "collapsed": false
   },
   "outputs": [
    {
     "data": {
      "text/plain": [
       "   Min. 1st Qu.  Median    Mean 3rd Qu.    Max. \n",
       "    5.0   218.5   450.0   785.6   837.3 13440.0 "
      ]
     },
     "metadata": {},
     "output_type": "display_data"
    }
   ],
   "source": [
    "summary(faturas$Amount)"
   ]
  },
  {
   "cell_type": "code",
   "execution_count": 16,
   "metadata": {
    "collapsed": false
   },
   "outputs": [
    {
     "data": {
      "text/html": [
       "<dl class=dl-horizontal>\n",
       "\t<dt>Date</dt>\n",
       "\t\t<dd>'factor'</dd>\n",
       "\t<dt>InvoiceNo</dt>\n",
       "\t\t<dd>'integer'</dd>\n",
       "\t<dt>CustomerNo</dt>\n",
       "\t\t<dd>'integer'</dd>\n",
       "\t<dt>SalesPerson</dt>\n",
       "\t\t<dd>'integer'</dd>\n",
       "\t<dt>ProductNo</dt>\n",
       "\t\t<dd>'integer'</dd>\n",
       "\t<dt>UnitPrice</dt>\n",
       "\t\t<dd>'numeric'</dd>\n",
       "\t<dt>Quantity</dt>\n",
       "\t\t<dd>'integer'</dd>\n",
       "\t<dt>Amount</dt>\n",
       "\t\t<dd>'numeric'</dd>\n",
       "</dl>\n"
      ],
      "text/latex": [
       "\\begin{description*}\n",
       "\\item[Date] 'factor'\n",
       "\\item[InvoiceNo] 'integer'\n",
       "\\item[CustomerNo] 'integer'\n",
       "\\item[SalesPerson] 'integer'\n",
       "\\item[ProductNo] 'integer'\n",
       "\\item[UnitPrice] 'numeric'\n",
       "\\item[Quantity] 'integer'\n",
       "\\item[Amount] 'numeric'\n",
       "\\end{description*}\n"
      ],
      "text/markdown": [
       "Date\n",
       ":   'factor'InvoiceNo\n",
       ":   'integer'CustomerNo\n",
       ":   'integer'SalesPerson\n",
       ":   'integer'ProductNo\n",
       ":   'integer'UnitPrice\n",
       ":   'numeric'Quantity\n",
       ":   'integer'Amount\n",
       ":   'numeric'\n",
       "\n"
      ],
      "text/plain": [
       "       Date   InvoiceNo  CustomerNo SalesPerson   ProductNo   UnitPrice \n",
       "   \"factor\"   \"integer\"   \"integer\"   \"integer\"   \"integer\"   \"numeric\" \n",
       "   Quantity      Amount \n",
       "  \"integer\"   \"numeric\" "
      ]
     },
     "metadata": {},
     "output_type": "display_data"
    }
   ],
   "source": [
    "sapply(faturas, class)"
   ]
  },
  {
   "cell_type": "markdown",
   "metadata": {},
   "source": [
    "O campo `Date` foi \"lido\" pelo R como se fosse  um fator.  Para converver este campo para a classe `Date`, podemos fazer:"
   ]
  },
  {
   "cell_type": "code",
   "execution_count": 19,
   "metadata": {
    "collapsed": false
   },
   "outputs": [
    {
     "name": "stdout",
     "output_type": "stream",
     "text": [
      "'data.frame':\t4999 obs. of  8 variables:\n",
      " $ Date       : Date, format: \"2003-07-09\" \"2003-08-21\" ...\n",
      " $ InvoiceNo  : int  20000 20001 20002 20003 20004 20005 20006 20007 20008 20009 ...\n",
      " $ CustomerNo : int  10220 10491 10704 10430 10841 10777 10653 10413 10654 10300 ...\n",
      " $ SalesPerson: int  8 4 3 5 17 1 19 12 12 1 ...\n",
      " $ ProductNo  : int  8 48 43 54 11 5 58 61 4 10 ...\n",
      " $ UnitPrice  : num  9.2 14 15 24 15 12.5 24 31 34.8 49.3 ...\n",
      " $ Quantity   : int  41 30 25 22 21 50 2 51 21 5 ...\n",
      " $ Amount     : num  377 420 375 528 315 ...\n"
     ]
    }
   ],
   "source": [
    "faturas$Date <- as.Date(faturas$Date, \"%d/%m/%Y\")\n",
    "str(faturas)"
   ]
  },
  {
   "cell_type": "markdown",
   "metadata": {},
   "source": [
    "Para obtermos estatísticas descritivas de todos os campos do conjunto de dados também é possível utilizar a função `summary()`."
   ]
  },
  {
   "cell_type": "code",
   "execution_count": 18,
   "metadata": {
    "collapsed": false
   },
   "outputs": [
    {
     "data": {
      "text/plain": [
       "      Date              InvoiceNo       CustomerNo     SalesPerson   \n",
       " Min.   :2003-01-01   Min.   :20000   Min.   :10000   Min.   : 1.00  \n",
       " 1st Qu.:2003-04-05   1st Qu.:21251   1st Qu.:10276   1st Qu.: 7.00  \n",
       " Median :2003-07-07   Median :22500   Median :10515   Median :13.00  \n",
       " Mean   :2003-07-05   Mean   :22500   Mean   :10510   Mean   :13.54  \n",
       " 3rd Qu.:2003-10-04   3rd Qu.:23750   3rd Qu.:10752   3rd Qu.:20.00  \n",
       " Max.   :2003-12-31   Max.   :24999   Max.   :11000   Max.   :99.00  \n",
       "   ProductNo       UnitPrice         Quantity         Amount       \n",
       " Min.   : 1.00   Min.   :  2.50   Min.   : 1.00   Min.   :    5.0  \n",
       " 1st Qu.:20.00   1st Qu.: 12.50   1st Qu.:14.00   1st Qu.:  218.5  \n",
       " Median :39.00   Median : 19.00   Median :26.00   Median :  450.0  \n",
       " Mean   :38.99   Mean   : 30.27   Mean   :26.16   Mean   :  785.6  \n",
       " 3rd Qu.:58.00   3rd Qu.: 32.80   3rd Qu.:39.00   3rd Qu.:  837.3  \n",
       " Max.   :77.00   Max.   :263.50   Max.   :51.00   Max.   :13438.5  "
      ]
     },
     "metadata": {},
     "output_type": "display_data"
    }
   ],
   "source": [
    "summary(faturas)"
   ]
  },
  {
   "cell_type": "markdown",
   "metadata": {},
   "source": []
  },
  {
   "cell_type": "markdown",
   "metadata": {},
   "source": [
    "**Marcos F Silva**"
   ]
  }
 ],
 "metadata": {
  "kernelspec": {
   "display_name": "R-3.3.1",
   "language": "",
   "name": "ir33"
  },
  "language_info": {
   "codemirror_mode": "r",
   "file_extension": ".r",
   "mimetype": "text/x-r-source",
   "name": "R",
   "pygments_lexer": "r",
   "version": "3.3.1"
  }
 },
 "nbformat": 4,
 "nbformat_minor": 0
}
