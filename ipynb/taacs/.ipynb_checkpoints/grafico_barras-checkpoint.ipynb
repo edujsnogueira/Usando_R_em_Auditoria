{
 "cells": [
  {
   "cell_type": "markdown",
   "metadata": {},
   "source": [
    "# Gráfico de Barras"
   ]
  },
  {
   "cell_type": "markdown",
   "metadata": {},
   "source": [
    "O gráﬁco de barras é um gráfico encontrado com frequência em relatórios de auditoria. É um gráfico indicado para representar as frequências absolutas ou relativas de uma distribuição de frequências. No R, este gráfico pode ser elaborado com a função `barplot()`. \n",
    "\n",
    "A seguir apresenta-se o gráﬁco de barras correspondente à distribuição de frequências da variável `Estado.Civil` do conjunto de dados `rh.RData`."
   ]
  },
  {
   "cell_type": "code",
   "execution_count": 1,
   "metadata": {
    "collapsed": false
   },
   "outputs": [
    {
     "data": {
      "text/plain": [
       "\n",
       "    Casado Divorciado   Solteiro      Viúvo       <NA> \n",
       "      3449        419        790        333          9 "
      ]
     },
     "metadata": {},
     "output_type": "display_data"
    }
   ],
   "source": [
    "setwd('C:\\\\Users\\\\Marcos\\\\Documents\\\\GitHub\\\\Usando-R-em-Auditoria\\\\dados')\n",
    "load('rh.RData')\n",
    "\n",
    "distr_freq <- table(rh$Estado.Civil,useNA='ifany')\n",
    "distr_freq"
   ]
  },
  {
   "cell_type": "code",
   "execution_count": 8,
   "metadata": {
    "collapsed": false
   },
   "outputs": [
    {
     "data": {
      "image/png": "[encoded data removed]",
      "text/plain": [
       "plot without title"
      ]
     },
     "metadata": {},
     "output_type": "display_data"
    }
   ],
   "source": [
    "options(repr.plot.width = 5, repr.plot.height = 5) \n",
    "barplot(sort(distr_freq), cex.names=0.7, cex.axis=0.7)"
   ]
  },
  {
   "cell_type": "markdown",
   "metadata": {},
   "source": [
    "O gráfico acima é a versão mais comum do gráfico de barras. Também é possível realizar gráficos de barras justapostas e gráfico de barras empilhadas. A seguir, será apresentado um exemplo de gráfico de barras justapostas com legenda."
   ]
  },
  {
   "cell_type": "code",
   "execution_count": 18,
   "metadata": {
    "collapsed": false
   },
   "outputs": [
    {
     "data": {
      "text/plain": [
       "            Sexo\n",
       "Estado.Civil Feminino Masculino\n",
       "  Casado         1367      2080\n",
       "  Divorciado      181       238\n",
       "  Solteiro        371       419\n",
       "  Viúvo           135       198"
      ]
     },
     "metadata": {},
     "output_type": "display_data"
    }
   ],
   "source": [
    "tab1 <- with(rh, table(Estado.Civil, Sexo))\n",
    "tab1"
   ]
  },
  {
   "cell_type": "code",
   "execution_count": 19,
   "metadata": {
    "collapsed": false
   },
   "outputs": [
    {
     "data": {
      "image/png": "[encoded data removed]",
      "text/plain": [
       "plot without title"
      ]
     },
     "metadata": {},
     "output_type": "display_data"
    }
   ],
   "source": [
    "# Escolha das cores a serem utilizadas para as barras\n",
    "cores <- topo.colors(4)\n",
    "\n",
    "# Construção do gráfico\n",
    "barplot(tab1, beside=TRUE, col=cores, cex.names=0.8, cex.axis=0.7)\n",
    "\n",
    "# Criação da legenda\n",
    "legend('topleft', legend=row.names(tab1), bty = 'n', fill = cores, cex=0.9)"
   ]
  },
  {
   "cell_type": "markdown",
   "metadata": {},
   "source": [
    "Para produzir o gráfico de barras justapostas, é necessário definir o argumento `besides=TRUE`. O gráfico de barras empilhadas pode ser elaborado simplesmente deixando o argumento `beside=` com seu valor *default*. "
   ]
  },
  {
   "cell_type": "code",
   "execution_count": 24,
   "metadata": {
    "collapsed": false
   },
   "outputs": [
    {
     "data": {
      "image/png": "[encoded data removed]",
      "text/plain": [
       "plot without title"
      ]
     },
     "metadata": {},
     "output_type": "display_data"
    }
   ],
   "source": [
    "barplot(tab1, col=cores, cex.names=0.8, cex.axis=0.9)\n",
    "legend('topleft', legend=row.names(tab1), bty = 'n', fill = cores)"
   ]
  }
 ],
 "metadata": {
  "kernelspec": {
   "display_name": "R 3.3.1-alfa",
   "language": "R",
   "name": "ir33"
  },
  "language_info": {
   "codemirror_mode": "r",
   "file_extension": ".r",
   "mimetype": "text/x-r-source",
   "name": "R",
   "pygments_lexer": "r",
   "version": "3.3.1"
  }
 },
 "nbformat": 4,
 "nbformat_minor": 0
}
