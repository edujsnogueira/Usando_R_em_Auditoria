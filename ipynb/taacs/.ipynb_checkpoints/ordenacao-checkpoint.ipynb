{
 "cells": [
  {
   "cell_type": "markdown",
   "metadata": {},
   "source": [
    "# Ordenação"
   ]
  },
  {
   "cell_type": "markdown",
   "metadata": {},
   "source": [
    "A ordenação de um conjunto de dados com base nos valores de um determinado campo é uma tarefa comum quando se faz análise de dados.  Normalmente o auditor busca, com este procedimento, identificar os maiores valores lançados, as maiores despesas, etc.\n",
    "\n",
    "Para a execução desta técnica o R dispõe da função `order()`, cuja utilização será melhor apreendida com um exemplo. \n",
    "\n",
    "Utilizaremos o conjunto de dados `Invoices.csv` para exemplificar sua utilização na ordenação do conjunto de dados com base nos valores das faturas emitidas, o que permitirá identificar as de maior valor.\n",
    "\n",
    "Os comandos a seguir ilustram o procedimento:"
   ]
  },
  {
   "cell_type": "markdown",
   "metadata": {},
   "source": [
    "## Ordenamento com base em uma coluna"
   ]
  },
  {
   "cell_type": "code",
   "execution_count": 1,
   "metadata": {
    "collapsed": false
   },
   "outputs": [
    {
     "name": "stdout",
     "output_type": "stream",
     "text": [
      "'data.frame':\t4999 obs. of  8 variables:\n",
      " $ Date       : Factor w/ 365 levels \"01/01/2003\",\"01/02/2003\",..: 103 248 320 329 72 281 82 284 67 163 ...\n",
      " $ InvoiceNo  : int  20000 20001 20002 20003 20004 20005 20006 20007 20008 20009 ...\n",
      " $ CustomerNo : int  10220 10491 10704 10430 10841 10777 10653 10413 10654 10300 ...\n",
      " $ SalesPerson: int  8 4 3 5 17 1 19 12 12 1 ...\n",
      " $ ProductNo  : int  8 48 43 54 11 5 58 61 4 10 ...\n",
      " $ UnitPrice  : num  9.2 14 15 24 15 12.5 24 31 34.8 49.3 ...\n",
      " $ Quantity   : int  41 30 25 22 21 50 2 51 21 5 ...\n",
      " $ Amount     : num  377 420 375 528 315 ...\n"
     ]
    },
    {
     "data": {
      "text/html": [
       "<table>\n",
       "<thead><tr><th scope=col>Date</th><th scope=col>InvoiceNo</th><th scope=col>CustomerNo</th><th scope=col>SalesPerson</th><th scope=col>ProductNo</th><th scope=col>UnitPrice</th><th scope=col>Quantity</th><th scope=col>Amount</th></tr></thead>\n",
       "<tbody>\n",
       "\t<tr><td>09/07/2003</td><td>20000     </td><td>10220     </td><td> 8        </td><td> 8        </td><td> 9.2      </td><td>41        </td><td>377.2     </td></tr>\n",
       "\t<tr><td>21/08/2003</td><td>20001     </td><td>10491     </td><td> 4        </td><td>48        </td><td>14.0      </td><td>30        </td><td>420.0     </td></tr>\n",
       "\t<tr><td>27/08/2003</td><td>20002     </td><td>10704     </td><td> 3        </td><td>43        </td><td>15.0      </td><td>25        </td><td>375.0     </td></tr>\n",
       "\t<tr><td>28/05/2003</td><td>20003     </td><td>10430     </td><td> 5        </td><td>54        </td><td>24.0      </td><td>22        </td><td>528.0     </td></tr>\n",
       "\t<tr><td>06/12/2003</td><td>20004     </td><td>10841     </td><td>17        </td><td>11        </td><td>15.0      </td><td>21        </td><td>315.0     </td></tr>\n",
       "\t<tr><td>24/05/2003</td><td>20005     </td><td>10777     </td><td> 1        </td><td> 5        </td><td>12.5      </td><td>50        </td><td>625.0     </td></tr>\n",
       "</tbody>\n",
       "</table>\n"
      ],
      "text/latex": [
       "\\begin{tabular}{r|llllllll}\n",
       " Date & InvoiceNo & CustomerNo & SalesPerson & ProductNo & UnitPrice & Quantity & Amount\\\\\n",
       "\\hline\n",
       "\t 09/07/2003 & 20000      & 10220      &  8         &  8         &  9.2       & 41         & 377.2     \\\\\n",
       "\t 21/08/2003 & 20001      & 10491      &  4         & 48         & 14.0       & 30         & 420.0     \\\\\n",
       "\t 27/08/2003 & 20002      & 10704      &  3         & 43         & 15.0       & 25         & 375.0     \\\\\n",
       "\t 28/05/2003 & 20003      & 10430      &  5         & 54         & 24.0       & 22         & 528.0     \\\\\n",
       "\t 06/12/2003 & 20004      & 10841      & 17         & 11         & 15.0       & 21         & 315.0     \\\\\n",
       "\t 24/05/2003 & 20005      & 10777      &  1         &  5         & 12.5       & 50         & 625.0     \\\\\n",
       "\\end{tabular}\n"
      ],
      "text/markdown": [
       "\n",
       "Date | InvoiceNo | CustomerNo | SalesPerson | ProductNo | UnitPrice | Quantity | Amount | \n",
       "|---|---|---|---|---|---|\n",
       "| 09/07/2003 | 20000      | 10220      |  8         |  8         |  9.2       | 41         | 377.2      | \n",
       "| 21/08/2003 | 20001      | 10491      |  4         | 48         | 14.0       | 30         | 420.0      | \n",
       "| 27/08/2003 | 20002      | 10704      |  3         | 43         | 15.0       | 25         | 375.0      | \n",
       "| 28/05/2003 | 20003      | 10430      |  5         | 54         | 24.0       | 22         | 528.0      | \n",
       "| 06/12/2003 | 20004      | 10841      | 17         | 11         | 15.0       | 21         | 315.0      | \n",
       "| 24/05/2003 | 20005      | 10777      |  1         |  5         | 12.5       | 50         | 625.0      | \n",
       "\n",
       "\n"
      ],
      "text/plain": [
       "  Date       InvoiceNo CustomerNo SalesPerson ProductNo UnitPrice Quantity\n",
       "1 09/07/2003 20000     10220       8           8         9.2      41      \n",
       "2 21/08/2003 20001     10491       4          48        14.0      30      \n",
       "3 27/08/2003 20002     10704       3          43        15.0      25      \n",
       "4 28/05/2003 20003     10430       5          54        24.0      22      \n",
       "5 06/12/2003 20004     10841      17          11        15.0      21      \n",
       "6 24/05/2003 20005     10777       1           5        12.5      50      \n",
       "  Amount\n",
       "1 377.2 \n",
       "2 420.0 \n",
       "3 375.0 \n",
       "4 528.0 \n",
       "5 315.0 \n",
       "6 625.0 "
      ]
     },
     "metadata": {},
     "output_type": "display_data"
    }
   ],
   "source": [
    "setwd('C:\\\\Users\\\\Marcos\\\\Documents\\\\GitHub\\\\Usando-R-em-Auditoria\\\\dados')\n",
    "faturamento <- read.csv2(\"Invoices.csv\")\n",
    "str(faturamento)\n",
    "head(faturamento)"
   ]
  },
  {
   "cell_type": "markdown",
   "metadata": {},
   "source": [
    "A ordenação dessa base de dados com base nos valores das faturas (campo `Amount`) pode ser feita de forma crescente ou decrescente como ilustrado a seguir:"
   ]
  },
  {
   "cell_type": "code",
   "execution_count": 2,
   "metadata": {
    "collapsed": false
   },
   "outputs": [
    {
     "data": {
      "text/html": [
       "<table>\n",
       "<thead><tr><th></th><th scope=col>Date</th><th scope=col>InvoiceNo</th><th scope=col>CustomerNo</th><th scope=col>SalesPerson</th><th scope=col>ProductNo</th><th scope=col>UnitPrice</th><th scope=col>Quantity</th><th scope=col>Amount</th></tr></thead>\n",
       "<tbody>\n",
       "\t<tr><th scope=row>478</th><td>21/06/2003</td><td>20478     </td><td>10597     </td><td>16        </td><td>34        </td><td>2.5       </td><td>2         </td><td>5.0       </td></tr>\n",
       "\t<tr><th scope=row>2566</th><td>08/01/2003</td><td>22566     </td><td>10344     </td><td> 6        </td><td>34        </td><td>2.5       </td><td>2         </td><td>5.0       </td></tr>\n",
       "\t<tr><th scope=row>2693</th><td>25/03/2003</td><td>22693     </td><td>10666     </td><td>17        </td><td>34        </td><td>2.5       </td><td>2         </td><td>5.0       </td></tr>\n",
       "\t<tr><th scope=row>3026</th><td>14/03/2003</td><td>23026     </td><td>10487     </td><td>12        </td><td>34        </td><td>2.5       </td><td>2         </td><td>5.0       </td></tr>\n",
       "\t<tr><th scope=row>629</th><td>06/01/2003</td><td>20629     </td><td>10304     </td><td>25        </td><td>53        </td><td>6.0       </td><td>1         </td><td>6.0       </td></tr>\n",
       "\t<tr><th scope=row>494</th><td>27/12/2003</td><td>20494     </td><td>10354     </td><td>17        </td><td>47        </td><td>7.0       </td><td>1         </td><td>7.0       </td></tr>\n",
       "\t<tr><th scope=row>3721</th><td>13/10/2003</td><td>23721     </td><td>10325     </td><td>15        </td><td>42        </td><td>7.0       </td><td>1         </td><td>7.0       </td></tr>\n",
       "\t<tr><th scope=row>2372</th><td>22/08/2003</td><td>22372     </td><td>10617     </td><td>22        </td><td>34        </td><td>2.5       </td><td>3         </td><td>7.5       </td></tr>\n",
       "\t<tr><th scope=row>4362</th><td>01/06/2003</td><td>24362     </td><td>10987     </td><td>12        </td><td>34        </td><td>2.5       </td><td>3         </td><td>7.5       </td></tr>\n",
       "\t<tr><th scope=row>3743</th><td>03/09/2003</td><td>23743     </td><td>10338     </td><td>18        </td><td>55        </td><td>9.0       </td><td>1         </td><td>9.0       </td></tr>\n",
       "</tbody>\n",
       "</table>\n"
      ],
      "text/latex": [
       "\\begin{tabular}{r|llllllll}\n",
       "  & Date & InvoiceNo & CustomerNo & SalesPerson & ProductNo & UnitPrice & Quantity & Amount\\\\\n",
       "\\hline\n",
       "\t478 & 21/06/2003 & 20478      & 10597      & 16         & 34         & 2.5        & 2          & 5.0       \\\\\n",
       "\t2566 & 08/01/2003 & 22566      & 10344      &  6         & 34         & 2.5        & 2          & 5.0       \\\\\n",
       "\t2693 & 25/03/2003 & 22693      & 10666      & 17         & 34         & 2.5        & 2          & 5.0       \\\\\n",
       "\t3026 & 14/03/2003 & 23026      & 10487      & 12         & 34         & 2.5        & 2          & 5.0       \\\\\n",
       "\t629 & 06/01/2003 & 20629      & 10304      & 25         & 53         & 6.0        & 1          & 6.0       \\\\\n",
       "\t494 & 27/12/2003 & 20494      & 10354      & 17         & 47         & 7.0        & 1          & 7.0       \\\\\n",
       "\t3721 & 13/10/2003 & 23721      & 10325      & 15         & 42         & 7.0        & 1          & 7.0       \\\\\n",
       "\t2372 & 22/08/2003 & 22372      & 10617      & 22         & 34         & 2.5        & 3          & 7.5       \\\\\n",
       "\t4362 & 01/06/2003 & 24362      & 10987      & 12         & 34         & 2.5        & 3          & 7.5       \\\\\n",
       "\t3743 & 03/09/2003 & 23743      & 10338      & 18         & 55         & 9.0        & 1          & 9.0       \\\\\n",
       "\\end{tabular}\n"
      ],
      "text/markdown": [
       "\n",
       "| <!--/--> | Date | InvoiceNo | CustomerNo | SalesPerson | ProductNo | UnitPrice | Quantity | Amount | \n",
       "|---|---|---|---|---|---|---|---|---|---|\n",
       "| 478 | 21/06/2003 | 20478      | 10597      | 16         | 34         | 2.5        | 2          | 5.0        | \n",
       "| 2566 | 08/01/2003 | 22566      | 10344      |  6         | 34         | 2.5        | 2          | 5.0        | \n",
       "| 2693 | 25/03/2003 | 22693      | 10666      | 17         | 34         | 2.5        | 2          | 5.0        | \n",
       "| 3026 | 14/03/2003 | 23026      | 10487      | 12         | 34         | 2.5        | 2          | 5.0        | \n",
       "| 629 | 06/01/2003 | 20629      | 10304      | 25         | 53         | 6.0        | 1          | 6.0        | \n",
       "| 494 | 27/12/2003 | 20494      | 10354      | 17         | 47         | 7.0        | 1          | 7.0        | \n",
       "| 3721 | 13/10/2003 | 23721      | 10325      | 15         | 42         | 7.0        | 1          | 7.0        | \n",
       "| 2372 | 22/08/2003 | 22372      | 10617      | 22         | 34         | 2.5        | 3          | 7.5        | \n",
       "| 4362 | 01/06/2003 | 24362      | 10987      | 12         | 34         | 2.5        | 3          | 7.5        | \n",
       "| 3743 | 03/09/2003 | 23743      | 10338      | 18         | 55         | 9.0        | 1          | 9.0        | \n",
       "\n",
       "\n"
      ],
      "text/plain": [
       "     Date       InvoiceNo CustomerNo SalesPerson ProductNo UnitPrice Quantity\n",
       "478  21/06/2003 20478     10597      16          34        2.5       2       \n",
       "2566 08/01/2003 22566     10344       6          34        2.5       2       \n",
       "2693 25/03/2003 22693     10666      17          34        2.5       2       \n",
       "3026 14/03/2003 23026     10487      12          34        2.5       2       \n",
       "629  06/01/2003 20629     10304      25          53        6.0       1       \n",
       "494  27/12/2003 20494     10354      17          47        7.0       1       \n",
       "3721 13/10/2003 23721     10325      15          42        7.0       1       \n",
       "2372 22/08/2003 22372     10617      22          34        2.5       3       \n",
       "4362 01/06/2003 24362     10987      12          34        2.5       3       \n",
       "3743 03/09/2003 23743     10338      18          55        9.0       1       \n",
       "     Amount\n",
       "478  5.0   \n",
       "2566 5.0   \n",
       "2693 5.0   \n",
       "3026 5.0   \n",
       "629  6.0   \n",
       "494  7.0   \n",
       "3721 7.0   \n",
       "2372 7.5   \n",
       "4362 7.5   \n",
       "3743 9.0   "
      ]
     },
     "metadata": {},
     "output_type": "display_data"
    }
   ],
   "source": [
    "# Ordenação da base de dados - ordem crescente (default)\n",
    "faturamento <- faturamento[order(faturamento$Amount),]\n",
    "head(faturamento, 10)"
   ]
  },
  {
   "cell_type": "code",
   "execution_count": 4,
   "metadata": {
    "collapsed": false
   },
   "outputs": [
    {
     "data": {
      "text/html": [
       "<table>\n",
       "<thead><tr><th></th><th scope=col>Date</th><th scope=col>InvoiceNo</th><th scope=col>CustomerNo</th><th scope=col>SalesPerson</th><th scope=col>ProductNo</th><th scope=col>UnitPrice</th><th scope=col>Quantity</th><th scope=col>Amount</th></tr></thead>\n",
       "<tbody>\n",
       "\t<tr><th scope=row>3184</th><td>24/04/2003</td><td>23184     </td><td>10913     </td><td> 9        </td><td>14        </td><td>263.5     </td><td>51        </td><td>13438.5   </td></tr>\n",
       "\t<tr><th scope=row>4047</th><td>28/02/2003</td><td>24047     </td><td>10073     </td><td>22        </td><td>60        </td><td>263.5     </td><td>51        </td><td>13438.5   </td></tr>\n",
       "\t<tr><th scope=row>252</th><td>11/07/2003</td><td>20252     </td><td>10636     </td><td> 9        </td><td>60        </td><td>263.5     </td><td>49        </td><td>12911.5   </td></tr>\n",
       "\t<tr><th scope=row>1549</th><td>12/06/2003</td><td>21549     </td><td>10181     </td><td>12        </td><td>14        </td><td>263.5     </td><td>49        </td><td>12911.5   </td></tr>\n",
       "\t<tr><th scope=row>272</th><td>06/07/2003</td><td>20272     </td><td>10934     </td><td>15        </td><td>60        </td><td>263.5     </td><td>48        </td><td>12648.0   </td></tr>\n",
       "\t<tr><th scope=row>159</th><td>30/07/2003</td><td>20159     </td><td>10894     </td><td> 2        </td><td>60        </td><td>263.5     </td><td>47        </td><td>12384.5   </td></tr>\n",
       "\t<tr><th scope=row>4284</th><td>05/05/2003</td><td>24284     </td><td>10655     </td><td>23        </td><td>60        </td><td>263.5     </td><td>47        </td><td>12384.5   </td></tr>\n",
       "\t<tr><th scope=row>351</th><td>27/06/2003</td><td>20351     </td><td>10208     </td><td>10        </td><td>60        </td><td>263.5     </td><td>46        </td><td>12121.0   </td></tr>\n",
       "\t<tr><th scope=row>1461</th><td>19/04/2003</td><td>21461     </td><td>10473     </td><td>23        </td><td>14        </td><td>263.5     </td><td>46        </td><td>12121.0   </td></tr>\n",
       "\t<tr><th scope=row>2484</th><td>05/11/2003</td><td>22484     </td><td>10360     </td><td> 7        </td><td>14        </td><td>263.5     </td><td>46        </td><td>12121.0   </td></tr>\n",
       "</tbody>\n",
       "</table>\n"
      ],
      "text/latex": [
       "\\begin{tabular}{r|llllllll}\n",
       "  & Date & InvoiceNo & CustomerNo & SalesPerson & ProductNo & UnitPrice & Quantity & Amount\\\\\n",
       "\\hline\n",
       "\t3184 & 24/04/2003 & 23184      & 10913      &  9         & 14         & 263.5      & 51         & 13438.5   \\\\\n",
       "\t4047 & 28/02/2003 & 24047      & 10073      & 22         & 60         & 263.5      & 51         & 13438.5   \\\\\n",
       "\t252 & 11/07/2003 & 20252      & 10636      &  9         & 60         & 263.5      & 49         & 12911.5   \\\\\n",
       "\t1549 & 12/06/2003 & 21549      & 10181      & 12         & 14         & 263.5      & 49         & 12911.5   \\\\\n",
       "\t272 & 06/07/2003 & 20272      & 10934      & 15         & 60         & 263.5      & 48         & 12648.0   \\\\\n",
       "\t159 & 30/07/2003 & 20159      & 10894      &  2         & 60         & 263.5      & 47         & 12384.5   \\\\\n",
       "\t4284 & 05/05/2003 & 24284      & 10655      & 23         & 60         & 263.5      & 47         & 12384.5   \\\\\n",
       "\t351 & 27/06/2003 & 20351      & 10208      & 10         & 60         & 263.5      & 46         & 12121.0   \\\\\n",
       "\t1461 & 19/04/2003 & 21461      & 10473      & 23         & 14         & 263.5      & 46         & 12121.0   \\\\\n",
       "\t2484 & 05/11/2003 & 22484      & 10360      &  7         & 14         & 263.5      & 46         & 12121.0   \\\\\n",
       "\\end{tabular}\n"
      ],
      "text/markdown": [
       "\n",
       "| <!--/--> | Date | InvoiceNo | CustomerNo | SalesPerson | ProductNo | UnitPrice | Quantity | Amount | \n",
       "|---|---|---|---|---|---|---|---|---|---|\n",
       "| 3184 | 24/04/2003 | 23184      | 10913      |  9         | 14         | 263.5      | 51         | 13438.5    | \n",
       "| 4047 | 28/02/2003 | 24047      | 10073      | 22         | 60         | 263.5      | 51         | 13438.5    | \n",
       "| 252 | 11/07/2003 | 20252      | 10636      |  9         | 60         | 263.5      | 49         | 12911.5    | \n",
       "| 1549 | 12/06/2003 | 21549      | 10181      | 12         | 14         | 263.5      | 49         | 12911.5    | \n",
       "| 272 | 06/07/2003 | 20272      | 10934      | 15         | 60         | 263.5      | 48         | 12648.0    | \n",
       "| 159 | 30/07/2003 | 20159      | 10894      |  2         | 60         | 263.5      | 47         | 12384.5    | \n",
       "| 4284 | 05/05/2003 | 24284      | 10655      | 23         | 60         | 263.5      | 47         | 12384.5    | \n",
       "| 351 | 27/06/2003 | 20351      | 10208      | 10         | 60         | 263.5      | 46         | 12121.0    | \n",
       "| 1461 | 19/04/2003 | 21461      | 10473      | 23         | 14         | 263.5      | 46         | 12121.0    | \n",
       "| 2484 | 05/11/2003 | 22484      | 10360      |  7         | 14         | 263.5      | 46         | 12121.0    | \n",
       "\n",
       "\n"
      ],
      "text/plain": [
       "     Date       InvoiceNo CustomerNo SalesPerson ProductNo UnitPrice Quantity\n",
       "3184 24/04/2003 23184     10913       9          14        263.5     51      \n",
       "4047 28/02/2003 24047     10073      22          60        263.5     51      \n",
       "252  11/07/2003 20252     10636       9          60        263.5     49      \n",
       "1549 12/06/2003 21549     10181      12          14        263.5     49      \n",
       "272  06/07/2003 20272     10934      15          60        263.5     48      \n",
       "159  30/07/2003 20159     10894       2          60        263.5     47      \n",
       "4284 05/05/2003 24284     10655      23          60        263.5     47      \n",
       "351  27/06/2003 20351     10208      10          60        263.5     46      \n",
       "1461 19/04/2003 21461     10473      23          14        263.5     46      \n",
       "2484 05/11/2003 22484     10360       7          14        263.5     46      \n",
       "     Amount \n",
       "3184 13438.5\n",
       "4047 13438.5\n",
       "252  12911.5\n",
       "1549 12911.5\n",
       "272  12648.0\n",
       "159  12384.5\n",
       "4284 12384.5\n",
       "351  12121.0\n",
       "1461 12121.0\n",
       "2484 12121.0"
      ]
     },
     "metadata": {},
     "output_type": "display_data"
    }
   ],
   "source": [
    "# Ordenação da base de dados em ordem decrescente\n",
    "faturamento <- faturamento[order(faturamento$Amount, decreasing=TRUE),]\n",
    "head(faturamento, 10)"
   ]
  },
  {
   "cell_type": "markdown",
   "metadata": {},
   "source": [
    "## Ordenamento com base em duas colunas"
   ]
  },
  {
   "cell_type": "markdown",
   "metadata": {},
   "source": [
    "Caso nosso interesse fosse em ordenar a base de dados com base na coluna `SalesPerson` (ordem crescente) e na coluna `Amount` (ordem decrescente), podemos fazer da seguinte forma:"
   ]
  },
  {
   "cell_type": "code",
   "execution_count": 5,
   "metadata": {
    "collapsed": false
   },
   "outputs": [
    {
     "data": {
      "text/html": [
       "<table>\n",
       "<thead><tr><th></th><th scope=col>Date</th><th scope=col>InvoiceNo</th><th scope=col>CustomerNo</th><th scope=col>SalesPerson</th><th scope=col>ProductNo</th><th scope=col>UnitPrice</th><th scope=col>Quantity</th><th scope=col>Amount</th></tr></thead>\n",
       "<tbody>\n",
       "\t<tr><th scope=row>3503</th><td>18/02/2003</td><td>23503     </td><td>10363     </td><td>1         </td><td>65        </td><td>55.0      </td><td>48        </td><td>2640.0    </td></tr>\n",
       "\t<tr><th scope=row>2397</th><td>26/04/2003</td><td>22397     </td><td>10974     </td><td>1         </td><td>73        </td><td>49.3      </td><td>39        </td><td>1922.7    </td></tr>\n",
       "\t<tr><th scope=row>2516</th><td>04/10/2003</td><td>22516     </td><td>10220     </td><td>1         </td><td>63        </td><td>38.0      </td><td>45        </td><td>1710.0    </td></tr>\n",
       "\t<tr><th scope=row>2746</th><td>19/03/2003</td><td>22746     </td><td>10084     </td><td>1         </td><td>25        </td><td>36.0      </td><td>47        </td><td>1692.0    </td></tr>\n",
       "\t<tr><th scope=row>1022</th><td>21/01/2003</td><td>21022     </td><td>10463     </td><td>1         </td><td>29        </td><td>43.9      </td><td>35        </td><td>1536.5    </td></tr>\n",
       "\t<tr><th scope=row>2295</th><td>04/07/2003</td><td>22295     </td><td>10312     </td><td>1         </td><td>19        </td><td>30.0      </td><td>49        </td><td>1470.0    </td></tr>\n",
       "</tbody>\n",
       "</table>\n"
      ],
      "text/latex": [
       "\\begin{tabular}{r|llllllll}\n",
       "  & Date & InvoiceNo & CustomerNo & SalesPerson & ProductNo & UnitPrice & Quantity & Amount\\\\\n",
       "\\hline\n",
       "\t3503 & 18/02/2003 & 23503      & 10363      & 1          & 65         & 55.0       & 48         & 2640.0    \\\\\n",
       "\t2397 & 26/04/2003 & 22397      & 10974      & 1          & 73         & 49.3       & 39         & 1922.7    \\\\\n",
       "\t2516 & 04/10/2003 & 22516      & 10220      & 1          & 63         & 38.0       & 45         & 1710.0    \\\\\n",
       "\t2746 & 19/03/2003 & 22746      & 10084      & 1          & 25         & 36.0       & 47         & 1692.0    \\\\\n",
       "\t1022 & 21/01/2003 & 21022      & 10463      & 1          & 29         & 43.9       & 35         & 1536.5    \\\\\n",
       "\t2295 & 04/07/2003 & 22295      & 10312      & 1          & 19         & 30.0       & 49         & 1470.0    \\\\\n",
       "\\end{tabular}\n"
      ],
      "text/markdown": [
       "\n",
       "| <!--/--> | Date | InvoiceNo | CustomerNo | SalesPerson | ProductNo | UnitPrice | Quantity | Amount | \n",
       "|---|---|---|---|---|---|\n",
       "| 3503 | 18/02/2003 | 23503      | 10363      | 1          | 65         | 55.0       | 48         | 2640.0     | \n",
       "| 2397 | 26/04/2003 | 22397      | 10974      | 1          | 73         | 49.3       | 39         | 1922.7     | \n",
       "| 2516 | 04/10/2003 | 22516      | 10220      | 1          | 63         | 38.0       | 45         | 1710.0     | \n",
       "| 2746 | 19/03/2003 | 22746      | 10084      | 1          | 25         | 36.0       | 47         | 1692.0     | \n",
       "| 1022 | 21/01/2003 | 21022      | 10463      | 1          | 29         | 43.9       | 35         | 1536.5     | \n",
       "| 2295 | 04/07/2003 | 22295      | 10312      | 1          | 19         | 30.0       | 49         | 1470.0     | \n",
       "\n",
       "\n"
      ],
      "text/plain": [
       "     Date       InvoiceNo CustomerNo SalesPerson ProductNo UnitPrice Quantity\n",
       "3503 18/02/2003 23503     10363      1           65        55.0      48      \n",
       "2397 26/04/2003 22397     10974      1           73        49.3      39      \n",
       "2516 04/10/2003 22516     10220      1           63        38.0      45      \n",
       "2746 19/03/2003 22746     10084      1           25        36.0      47      \n",
       "1022 21/01/2003 21022     10463      1           29        43.9      35      \n",
       "2295 04/07/2003 22295     10312      1           19        30.0      49      \n",
       "     Amount\n",
       "3503 2640.0\n",
       "2397 1922.7\n",
       "2516 1710.0\n",
       "2746 1692.0\n",
       "1022 1536.5\n",
       "2295 1470.0"
      ]
     },
     "metadata": {},
     "output_type": "display_data"
    },
    {
     "data": {
      "text/html": [
       "<table>\n",
       "<thead><tr><th></th><th scope=col>Date</th><th scope=col>InvoiceNo</th><th scope=col>CustomerNo</th><th scope=col>SalesPerson</th><th scope=col>ProductNo</th><th scope=col>UnitPrice</th><th scope=col>Quantity</th><th scope=col>Amount</th></tr></thead>\n",
       "<tbody>\n",
       "\t<tr><th scope=row>1784</th><td>05/03/2003</td><td>21784     </td><td>10464     </td><td>26        </td><td>72        </td><td> 7.75     </td><td> 7        </td><td> 54.25    </td></tr>\n",
       "\t<tr><th scope=row>2958</th><td>30/07/2003</td><td>22958     </td><td>10858     </td><td>26        </td><td>64        </td><td> 9.00     </td><td> 5        </td><td> 45.00    </td></tr>\n",
       "\t<tr><th scope=row>3795</th><td>28/06/2003</td><td>23795     </td><td>10256     </td><td>26        </td><td> 1        </td><td>14.00     </td><td> 2        </td><td> 28.00    </td></tr>\n",
       "\t<tr><th scope=row>964</th><td>16/11/2003</td><td>20964     </td><td>10976     </td><td>26        </td><td>77        </td><td> 9.65     </td><td> 2        </td><td> 19.30    </td></tr>\n",
       "\t<tr><th scope=row>3580</th><td>30/05/2003</td><td>23580     </td><td>10324     </td><td>26        </td><td>67        </td><td> 9.50     </td><td> 2        </td><td> 19.00    </td></tr>\n",
       "\t<tr><th scope=row>12</th><td>14/01/2003</td><td>20010     </td><td>10439     </td><td>99        </td><td>38        </td><td> 7.45     </td><td>28        </td><td>208.60    </td></tr>\n",
       "</tbody>\n",
       "</table>\n"
      ],
      "text/latex": [
       "\\begin{tabular}{r|llllllll}\n",
       "  & Date & InvoiceNo & CustomerNo & SalesPerson & ProductNo & UnitPrice & Quantity & Amount\\\\\n",
       "\\hline\n",
       "\t1784 & 05/03/2003 & 21784      & 10464      & 26         & 72         &  7.75      &  7         &  54.25    \\\\\n",
       "\t2958 & 30/07/2003 & 22958      & 10858      & 26         & 64         &  9.00      &  5         &  45.00    \\\\\n",
       "\t3795 & 28/06/2003 & 23795      & 10256      & 26         &  1         & 14.00      &  2         &  28.00    \\\\\n",
       "\t964 & 16/11/2003 & 20964      & 10976      & 26         & 77         &  9.65      &  2         &  19.30    \\\\\n",
       "\t3580 & 30/05/2003 & 23580      & 10324      & 26         & 67         &  9.50      &  2         &  19.00    \\\\\n",
       "\t12 & 14/01/2003 & 20010      & 10439      & 99         & 38         &  7.45      & 28         & 208.60    \\\\\n",
       "\\end{tabular}\n"
      ],
      "text/markdown": [
       "\n",
       "| <!--/--> | Date | InvoiceNo | CustomerNo | SalesPerson | ProductNo | UnitPrice | Quantity | Amount | \n",
       "|---|---|---|---|---|---|\n",
       "| 1784 | 05/03/2003 | 21784      | 10464      | 26         | 72         |  7.75      |  7         |  54.25     | \n",
       "| 2958 | 30/07/2003 | 22958      | 10858      | 26         | 64         |  9.00      |  5         |  45.00     | \n",
       "| 3795 | 28/06/2003 | 23795      | 10256      | 26         |  1         | 14.00      |  2         |  28.00     | \n",
       "| 964 | 16/11/2003 | 20964      | 10976      | 26         | 77         |  9.65      |  2         |  19.30     | \n",
       "| 3580 | 30/05/2003 | 23580      | 10324      | 26         | 67         |  9.50      |  2         |  19.00     | \n",
       "| 12 | 14/01/2003 | 20010      | 10439      | 99         | 38         |  7.45      | 28         | 208.60     | \n",
       "\n",
       "\n"
      ],
      "text/plain": [
       "     Date       InvoiceNo CustomerNo SalesPerson ProductNo UnitPrice Quantity\n",
       "1784 05/03/2003 21784     10464      26          72         7.75      7      \n",
       "2958 30/07/2003 22958     10858      26          64         9.00      5      \n",
       "3795 28/06/2003 23795     10256      26           1        14.00      2      \n",
       "964  16/11/2003 20964     10976      26          77         9.65      2      \n",
       "3580 30/05/2003 23580     10324      26          67         9.50      2      \n",
       "12   14/01/2003 20010     10439      99          38         7.45     28      \n",
       "     Amount\n",
       "1784  54.25\n",
       "2958  45.00\n",
       "3795  28.00\n",
       "964   19.30\n",
       "3580  19.00\n",
       "12   208.60"
      ]
     },
     "metadata": {},
     "output_type": "display_data"
    }
   ],
   "source": [
    "faturamento <- faturamento[order(faturamento$SalesPerson, -faturamento$Amount),]\n",
    "head(faturamento)\n",
    "tail(faturamento)"
   ]
  },
  {
   "cell_type": "markdown",
   "metadata": {},
   "source": [
    "Observe que, como a opção *default* é a ordenação crescente, o sinal de menos vaí à frente do campo onde se deseja uma ordenação no setido oposto à determinada pelo argumento `decresing=`."
   ]
  }
 ],
 "metadata": {
  "kernelspec": {
   "display_name": "R-3.3.1",
   "language": "",
   "name": "ir33"
  },
  "language_info": {
   "codemirror_mode": "r",
   "file_extension": ".r",
   "mimetype": "text/x-r-source",
   "name": "R",
   "pygments_lexer": "r",
   "version": "3.3.1"
  }
 },
 "nbformat": 4,
 "nbformat_minor": 0
}
