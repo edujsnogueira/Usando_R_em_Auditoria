{
 "cells": [
  {
   "cell_type": "markdown",
   "metadata": {},
   "source": [
    "# Gráfico de linhas"
   ]
  },
  {
   "cell_type": "markdown",
   "metadata": {},
   "source": [
    "O gráfico de linhas é o gráfico indicado para representar dados de séries temporais. No R a função **`plot()`** nos permite produzir este gráfico.  Os gráficos de linha nos permitem visualizar se existe alguma tendência na série ou sazonalidade.\n",
    "\n",
    "Para a construção deste gráfico, usaremos o conjunto de dados `Invoices.csv`.\n",
    "\n",
    "A importação da base de dados é feita da seguinte forma:"
   ]
  },
  {
   "cell_type": "code",
   "execution_count": 4,
   "metadata": {
    "collapsed": false
   },
   "outputs": [],
   "source": [
    "setwd('C:\\\\Users\\\\Marcos\\\\Documents\\\\GitHub\\\\Usando-R-em-Auditoria\\\\dados')\n",
    "faturas <- read.csv2(\"Invoices.csv\")"
   ]
  },
  {
   "cell_type": "markdown",
   "metadata": {},
   "source": [
    "Importada a base de dados, é sempre uma boa idéia inspecionar se correu tudo bem neste processo, o que pode ser feito com a função `str()`."
   ]
  },
  {
   "cell_type": "code",
   "execution_count": 5,
   "metadata": {
    "collapsed": false
   },
   "outputs": [
    {
     "name": "stdout",
     "output_type": "stream",
     "text": [
      "'data.frame':\t4999 obs. of  8 variables:\n",
      " $ Date       : Factor w/ 365 levels \"01/01/2003\",\"01/02/2003\",..: 103 248 320 329 72 281 82 284 67 163 ...\n",
      " $ InvoiceNo  : int  20000 20001 20002 20003 20004 20005 20006 20007 20008 20009 ...\n",
      " $ CustomerNo : int  10220 10491 10704 10430 10841 10777 10653 10413 10654 10300 ...\n",
      " $ SalesPerson: int  8 4 3 5 17 1 19 12 12 1 ...\n",
      " $ ProductNo  : int  8 48 43 54 11 5 58 61 4 10 ...\n",
      " $ UnitPrice  : num  9.2 14 15 24 15 12.5 24 31 34.8 49.3 ...\n",
      " $ Quantity   : int  41 30 25 22 21 50 2 51 21 5 ...\n",
      " $ Amount     : num  377 420 375 528 315 ...\n"
     ]
    },
    {
     "data": {
      "text/html": [
       "<table>\n",
       "<thead><tr><th scope=col>Date</th><th scope=col>InvoiceNo</th><th scope=col>CustomerNo</th><th scope=col>SalesPerson</th><th scope=col>ProductNo</th><th scope=col>UnitPrice</th><th scope=col>Quantity</th><th scope=col>Amount</th></tr></thead>\n",
       "<tbody>\n",
       "\t<tr><td>09/07/2003</td><td>20000     </td><td>10220     </td><td> 8        </td><td> 8        </td><td> 9.2      </td><td>41        </td><td>377.2     </td></tr>\n",
       "\t<tr><td>21/08/2003</td><td>20001     </td><td>10491     </td><td> 4        </td><td>48        </td><td>14.0      </td><td>30        </td><td>420.0     </td></tr>\n",
       "\t<tr><td>27/08/2003</td><td>20002     </td><td>10704     </td><td> 3        </td><td>43        </td><td>15.0      </td><td>25        </td><td>375.0     </td></tr>\n",
       "\t<tr><td>28/05/2003</td><td>20003     </td><td>10430     </td><td> 5        </td><td>54        </td><td>24.0      </td><td>22        </td><td>528.0     </td></tr>\n",
       "\t<tr><td>06/12/2003</td><td>20004     </td><td>10841     </td><td>17        </td><td>11        </td><td>15.0      </td><td>21        </td><td>315.0     </td></tr>\n",
       "\t<tr><td>24/05/2003</td><td>20005     </td><td>10777     </td><td> 1        </td><td> 5        </td><td>12.5      </td><td>50        </td><td>625.0     </td></tr>\n",
       "</tbody>\n",
       "</table>\n"
      ],
      "text/latex": [
       "\\begin{tabular}{r|llllllll}\n",
       " Date & InvoiceNo & CustomerNo & SalesPerson & ProductNo & UnitPrice & Quantity & Amount\\\\\n",
       "\\hline\n",
       "\t 09/07/2003 & 20000      & 10220      &  8         &  8         &  9.2       & 41         & 377.2     \\\\\n",
       "\t 21/08/2003 & 20001      & 10491      &  4         & 48         & 14.0       & 30         & 420.0     \\\\\n",
       "\t 27/08/2003 & 20002      & 10704      &  3         & 43         & 15.0       & 25         & 375.0     \\\\\n",
       "\t 28/05/2003 & 20003      & 10430      &  5         & 54         & 24.0       & 22         & 528.0     \\\\\n",
       "\t 06/12/2003 & 20004      & 10841      & 17         & 11         & 15.0       & 21         & 315.0     \\\\\n",
       "\t 24/05/2003 & 20005      & 10777      &  1         &  5         & 12.5       & 50         & 625.0     \\\\\n",
       "\\end{tabular}\n"
      ],
      "text/markdown": [
       "\n",
       "Date | InvoiceNo | CustomerNo | SalesPerson | ProductNo | UnitPrice | Quantity | Amount | \n",
       "|---|---|---|---|---|---|\n",
       "| 09/07/2003 | 20000      | 10220      |  8         |  8         |  9.2       | 41         | 377.2      | \n",
       "| 21/08/2003 | 20001      | 10491      |  4         | 48         | 14.0       | 30         | 420.0      | \n",
       "| 27/08/2003 | 20002      | 10704      |  3         | 43         | 15.0       | 25         | 375.0      | \n",
       "| 28/05/2003 | 20003      | 10430      |  5         | 54         | 24.0       | 22         | 528.0      | \n",
       "| 06/12/2003 | 20004      | 10841      | 17         | 11         | 15.0       | 21         | 315.0      | \n",
       "| 24/05/2003 | 20005      | 10777      |  1         |  5         | 12.5       | 50         | 625.0      | \n",
       "\n",
       "\n"
      ],
      "text/plain": [
       "  Date       InvoiceNo CustomerNo SalesPerson ProductNo UnitPrice Quantity\n",
       "1 09/07/2003 20000     10220       8           8         9.2      41      \n",
       "2 21/08/2003 20001     10491       4          48        14.0      30      \n",
       "3 27/08/2003 20002     10704       3          43        15.0      25      \n",
       "4 28/05/2003 20003     10430       5          54        24.0      22      \n",
       "5 06/12/2003 20004     10841      17          11        15.0      21      \n",
       "6 24/05/2003 20005     10777       1           5        12.5      50      \n",
       "  Amount\n",
       "1 377.2 \n",
       "2 420.0 \n",
       "3 375.0 \n",
       "4 528.0 \n",
       "5 315.0 \n",
       "6 625.0 "
      ]
     },
     "metadata": {},
     "output_type": "display_data"
    }
   ],
   "source": [
    "str(faturas)\n",
    "head(faturas)"
   ]
  },
  {
   "cell_type": "markdown",
   "metadata": {},
   "source": [
    "Como pode ser visto, a base de dados possui 4.999 registros, indicando a existência de mais de uma fatura emitida em cada dia, e se tivermos interesse em fazer um gráfico do faturamento diário ou mensal será necessário realizar uma agregação dos dados. Antes, contudo, será necessário converter a coluna `Date` para um formato de data, já que, conforme pode ser visto acima, ela está representada como um fator."
   ]
  },
  {
   "cell_type": "code",
   "execution_count": 9,
   "metadata": {
    "collapsed": false
   },
   "outputs": [
    {
     "name": "stdout",
     "output_type": "stream",
     "text": [
      "'data.frame':\t4999 obs. of  8 variables:\n",
      " $ Date       : Date, format: \"2003-07-09\" \"2003-08-21\" ...\n",
      " $ InvoiceNo  : int  20000 20001 20002 20003 20004 20005 20006 20007 20008 20009 ...\n",
      " $ CustomerNo : int  10220 10491 10704 10430 10841 10777 10653 10413 10654 10300 ...\n",
      " $ SalesPerson: int  8 4 3 5 17 1 19 12 12 1 ...\n",
      " $ ProductNo  : int  8 48 43 54 11 5 58 61 4 10 ...\n",
      " $ UnitPrice  : num  9.2 14 15 24 15 12.5 24 31 34.8 49.3 ...\n",
      " $ Quantity   : int  41 30 25 22 21 50 2 51 21 5 ...\n",
      " $ Amount     : num  377 420 375 528 315 ...\n"
     ]
    }
   ],
   "source": [
    "faturas$Date <- as.Date(faturas$Date, \"%d/%m/%Y\")\n",
    "str(faturas)"
   ]
  },
  {
   "cell_type": "markdown",
   "metadata": {},
   "source": [
    "Ok. Feita a conversão para que seja possível mostrar a evolução do faturamento mensal, será necessário realizar a agregação mensal dos valores faturados. Para isso, será necessário criar uma coluna que indique a que mês e ano o valor faturado pertence. Isso pode ser feito da seguinte forma:"
   ]
  },
  {
   "cell_type": "code",
   "execution_count": 12,
   "metadata": {
    "collapsed": false
   },
   "outputs": [
    {
     "data": {
      "text/html": [
       "<table>\n",
       "<thead><tr><th scope=col>Date</th><th scope=col>InvoiceNo</th><th scope=col>CustomerNo</th><th scope=col>SalesPerson</th><th scope=col>ProductNo</th><th scope=col>UnitPrice</th><th scope=col>Quantity</th><th scope=col>Amount</th><th scope=col>Ano_Mes</th></tr></thead>\n",
       "<tbody>\n",
       "\t<tr><td>2003-07-09</td><td>20000     </td><td>10220     </td><td> 8        </td><td> 8        </td><td> 9.2      </td><td>41        </td><td>377.2     </td><td>2003-07   </td></tr>\n",
       "\t<tr><td>2003-08-21</td><td>20001     </td><td>10491     </td><td> 4        </td><td>48        </td><td>14.0      </td><td>30        </td><td>420.0     </td><td>2003-08   </td></tr>\n",
       "\t<tr><td>2003-08-27</td><td>20002     </td><td>10704     </td><td> 3        </td><td>43        </td><td>15.0      </td><td>25        </td><td>375.0     </td><td>2003-08   </td></tr>\n",
       "\t<tr><td>2003-05-28</td><td>20003     </td><td>10430     </td><td> 5        </td><td>54        </td><td>24.0      </td><td>22        </td><td>528.0     </td><td>2003-05   </td></tr>\n",
       "\t<tr><td>2003-12-06</td><td>20004     </td><td>10841     </td><td>17        </td><td>11        </td><td>15.0      </td><td>21        </td><td>315.0     </td><td>2003-12   </td></tr>\n",
       "\t<tr><td>2003-05-24</td><td>20005     </td><td>10777     </td><td> 1        </td><td> 5        </td><td>12.5      </td><td>50        </td><td>625.0     </td><td>2003-05   </td></tr>\n",
       "</tbody>\n",
       "</table>\n"
      ],
      "text/latex": [
       "\\begin{tabular}{r|lllllllll}\n",
       " Date & InvoiceNo & CustomerNo & SalesPerson & ProductNo & UnitPrice & Quantity & Amount & Ano\\_Mes\\\\\n",
       "\\hline\n",
       "\t 2003-07-09 & 20000      & 10220      &  8         &  8         &  9.2       & 41         & 377.2      & 2003-07   \\\\\n",
       "\t 2003-08-21 & 20001      & 10491      &  4         & 48         & 14.0       & 30         & 420.0      & 2003-08   \\\\\n",
       "\t 2003-08-27 & 20002      & 10704      &  3         & 43         & 15.0       & 25         & 375.0      & 2003-08   \\\\\n",
       "\t 2003-05-28 & 20003      & 10430      &  5         & 54         & 24.0       & 22         & 528.0      & 2003-05   \\\\\n",
       "\t 2003-12-06 & 20004      & 10841      & 17         & 11         & 15.0       & 21         & 315.0      & 2003-12   \\\\\n",
       "\t 2003-05-24 & 20005      & 10777      &  1         &  5         & 12.5       & 50         & 625.0      & 2003-05   \\\\\n",
       "\\end{tabular}\n"
      ],
      "text/markdown": [
       "\n",
       "Date | InvoiceNo | CustomerNo | SalesPerson | ProductNo | UnitPrice | Quantity | Amount | Ano_Mes | \n",
       "|---|---|---|---|---|---|\n",
       "| 2003-07-09 | 20000      | 10220      |  8         |  8         |  9.2       | 41         | 377.2      | 2003-07    | \n",
       "| 2003-08-21 | 20001      | 10491      |  4         | 48         | 14.0       | 30         | 420.0      | 2003-08    | \n",
       "| 2003-08-27 | 20002      | 10704      |  3         | 43         | 15.0       | 25         | 375.0      | 2003-08    | \n",
       "| 2003-05-28 | 20003      | 10430      |  5         | 54         | 24.0       | 22         | 528.0      | 2003-05    | \n",
       "| 2003-12-06 | 20004      | 10841      | 17         | 11         | 15.0       | 21         | 315.0      | 2003-12    | \n",
       "| 2003-05-24 | 20005      | 10777      |  1         |  5         | 12.5       | 50         | 625.0      | 2003-05    | \n",
       "\n",
       "\n"
      ],
      "text/plain": [
       "  Date       InvoiceNo CustomerNo SalesPerson ProductNo UnitPrice Quantity\n",
       "1 2003-07-09 20000     10220       8           8         9.2      41      \n",
       "2 2003-08-21 20001     10491       4          48        14.0      30      \n",
       "3 2003-08-27 20002     10704       3          43        15.0      25      \n",
       "4 2003-05-28 20003     10430       5          54        24.0      22      \n",
       "5 2003-12-06 20004     10841      17          11        15.0      21      \n",
       "6 2003-05-24 20005     10777       1           5        12.5      50      \n",
       "  Amount Ano_Mes\n",
       "1 377.2  2003-07\n",
       "2 420.0  2003-08\n",
       "3 375.0  2003-08\n",
       "4 528.0  2003-05\n",
       "5 315.0  2003-12\n",
       "6 625.0  2003-05"
      ]
     },
     "metadata": {},
     "output_type": "display_data"
    }
   ],
   "source": [
    "faturas$Ano_Mes <- format(faturas$Date, '%Y-%m')\n",
    "head(faturas)"
   ]
  },
  {
   "cell_type": "markdown",
   "metadata": {},
   "source": [
    "Agora é possível utilizar está coluna recêm criada para realizar a agregação do valor faturado por mês, para então elaborar o gráfico."
   ]
  },
  {
   "cell_type": "code",
   "execution_count": 15,
   "metadata": {
    "collapsed": false
   },
   "outputs": [
    {
     "data": {
      "text/html": [
       "<table>\n",
       "<thead><tr><th scope=col>Ano_Mes</th><th scope=col>x</th></tr></thead>\n",
       "<tbody>\n",
       "\t<tr><td>2003-01 </td><td>312608.6</td></tr>\n",
       "\t<tr><td>2003-02 </td><td>319707.5</td></tr>\n",
       "\t<tr><td>2003-03 </td><td>274293.8</td></tr>\n",
       "\t<tr><td>2003-04 </td><td>319241.5</td></tr>\n",
       "\t<tr><td>2003-05 </td><td>363433.4</td></tr>\n",
       "\t<tr><td>2003-06 </td><td>341682.4</td></tr>\n",
       "\t<tr><td>2003-07 </td><td>391907.2</td></tr>\n",
       "\t<tr><td>2003-08 </td><td>325724.9</td></tr>\n",
       "\t<tr><td>2003-09 </td><td>292820.7</td></tr>\n",
       "\t<tr><td>2003-10 </td><td>308082.0</td></tr>\n",
       "\t<tr><td>2003-11 </td><td>315044.4</td></tr>\n",
       "\t<tr><td>2003-12 </td><td>362638.9</td></tr>\n",
       "</tbody>\n",
       "</table>\n"
      ],
      "text/latex": [
       "\\begin{tabular}{r|ll}\n",
       " Ano\\_Mes & x\\\\\n",
       "\\hline\n",
       "\t 2003-01  & 312608.6\\\\\n",
       "\t 2003-02  & 319707.5\\\\\n",
       "\t 2003-03  & 274293.8\\\\\n",
       "\t 2003-04  & 319241.5\\\\\n",
       "\t 2003-05  & 363433.4\\\\\n",
       "\t 2003-06  & 341682.4\\\\\n",
       "\t 2003-07  & 391907.2\\\\\n",
       "\t 2003-08  & 325724.9\\\\\n",
       "\t 2003-09  & 292820.7\\\\\n",
       "\t 2003-10  & 308082.0\\\\\n",
       "\t 2003-11  & 315044.4\\\\\n",
       "\t 2003-12  & 362638.9\\\\\n",
       "\\end{tabular}\n"
      ],
      "text/markdown": [
       "\n",
       "Ano_Mes | x | \n",
       "|---|---|---|---|---|---|---|---|---|---|---|---|\n",
       "| 2003-01  | 312608.6 | \n",
       "| 2003-02  | 319707.5 | \n",
       "| 2003-03  | 274293.8 | \n",
       "| 2003-04  | 319241.5 | \n",
       "| 2003-05  | 363433.4 | \n",
       "| 2003-06  | 341682.4 | \n",
       "| 2003-07  | 391907.2 | \n",
       "| 2003-08  | 325724.9 | \n",
       "| 2003-09  | 292820.7 | \n",
       "| 2003-10  | 308082.0 | \n",
       "| 2003-11  | 315044.4 | \n",
       "| 2003-12  | 362638.9 | \n",
       "\n",
       "\n"
      ],
      "text/plain": [
       "   Ano_Mes x       \n",
       "1  2003-01 312608.6\n",
       "2  2003-02 319707.5\n",
       "3  2003-03 274293.8\n",
       "4  2003-04 319241.5\n",
       "5  2003-05 363433.4\n",
       "6  2003-06 341682.4\n",
       "7  2003-07 391907.2\n",
       "8  2003-08 325724.9\n",
       "9  2003-09 292820.7\n",
       "10 2003-10 308082.0\n",
       "11 2003-11 315044.4\n",
       "12 2003-12 362638.9"
      ]
     },
     "metadata": {},
     "output_type": "display_data"
    }
   ],
   "source": [
    "faturamento_mensal <- aggregate(faturas$Amount, by=list(Ano_Mes = faturas$Ano_Mes), sum)\n",
    "faturamento_mensal"
   ]
  },
  {
   "cell_type": "markdown",
   "metadata": {},
   "source": [
    "Bem, agora já podemos plotar os dados."
   ]
  },
  {
   "cell_type": "code",
   "execution_count": 21,
   "metadata": {
    "collapsed": false
   },
   "outputs": [
    {
     "data": {
      "image/png": "[encoded data removed]",
      "text/plain": [
       "Plot with title \"Faturamento Mensal\""
      ]
     },
     "metadata": {},
     "output_type": "display_data"
    }
   ],
   "source": [
    "options(repr.plot.width = 5, repr.plot.height = 5)\n",
    "plot(faturamento_mensal$x / 1e3, type=\"b\",\n",
    "     main=\"Faturamento Mensal\",\n",
    "     ylab=\"Valor Faturado (Em milhares)\", cex.lab=0.7, cex.axis=0.7,\n",
    "     xlab=\"Meses\")"
   ]
  }
 ],
 "metadata": {
  "kernelspec": {
   "display_name": "R-3.3.1",
   "language": "",
   "name": "ir33"
  },
  "language_info": {
   "codemirror_mode": "r",
   "file_extension": ".r",
   "mimetype": "text/x-r-source",
   "name": "R",
   "pygments_lexer": "r",
   "version": "3.3.1"
  }
 },
 "nbformat": 4,
 "nbformat_minor": 0
}
