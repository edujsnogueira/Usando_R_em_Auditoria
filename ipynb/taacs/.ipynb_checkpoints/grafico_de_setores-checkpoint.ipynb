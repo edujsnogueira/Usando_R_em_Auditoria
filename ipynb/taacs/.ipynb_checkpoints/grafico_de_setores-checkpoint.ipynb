{
 "cells": [
  {
   "cell_type": "markdown",
   "metadata": {},
   "source": [
    "# Gráfico de Setores"
   ]
  },
  {
   "cell_type": "markdown",
   "metadata": {},
   "source": [
    "Embora o uso deste gráfico seja objeto de críticas por especialistas em visualização de dados, é muito utilizado em relatórios gerenciais e na mídia. Ao utilizar este gráfico o auditor deve evitar usar versões tridimensionais bem como destacar os setores ou usá-lo em perspectiva de forma que pareça uma elipse.\n",
    "\n",
    "Para a construção de gráficos de setores no R, utilizamos a função **`pie()`**.\n",
    "\n",
    "Os dados que utilizaremos são provenientes do livro Análise Financeira de Balanços: Uma Abordagem Básica e Gerencial do Dante C. Matarazzo e referem-se ao balanço patrimonial levantados em três exercícios. Os dados estão no arquivo `balanco.csv`.\n",
    "\n",
    "Suponha que desejemos construir um gráfico de setores para representar a composição do ativo circulante de uma empresa que tenha seu balanço estruturado da seguinte forma:"
   ]
  },
  {
   "cell_type": "code",
   "execution_count": 1,
   "metadata": {
    "collapsed": false
   },
   "outputs": [
    {
     "data": {
      "text/html": [
       "<table>\n",
       "<thead><tr><th scope=col>Conta</th><th scope=col>Classe</th><th scope=col>Subclasse</th><th scope=col>x31.12.01</th><th scope=col>x31.12.02</th><th scope=col>x31.12.03</th></tr></thead>\n",
       "<tbody>\n",
       "\t<tr><td>Disponivel        </td><td>A                 </td><td>ACIRC             </td><td>  34665           </td><td>  26309           </td><td>  25000           </td></tr>\n",
       "\t<tr><td>Aplic. Fin.       </td><td>A                 </td><td>ACIRC             </td><td> 128969           </td><td>  80915           </td><td>  62000           </td></tr>\n",
       "\t<tr><td>Clientes          </td><td>A                 </td><td>ACIRC             </td><td>1045640           </td><td>1122512           </td><td>1529061           </td></tr>\n",
       "\t<tr><td>Estoques          </td><td>A                 </td><td>ACIRC             </td><td> 751206           </td><td>1039435           </td><td>1317514           </td></tr>\n",
       "\t<tr><td>Investimentos     </td><td>A                 </td><td>APERMAN           </td><td>  72250           </td><td> 156475           </td><td> 228075           </td></tr>\n",
       "\t<tr><td>Imobilizado       </td><td>A                 </td><td>APERMAN           </td><td> 693448           </td><td>1517508           </td><td>2401648           </td></tr>\n",
       "\t<tr><td>Diferido          </td><td>A                 </td><td>APERMAN           </td><td>     NA           </td><td>  40896           </td><td>  90037           </td></tr>\n",
       "\t<tr><td>Fornecedores      </td><td>P                 </td><td>PCIRC             </td><td> 708536           </td><td> 639065           </td><td> 688791           </td></tr>\n",
       "\t<tr><td>Outras Obrig.     </td><td>P                 </td><td>PCIRC             </td><td> 275623           </td><td> 289698           </td><td> 433743           </td></tr>\n",
       "\t<tr><td>Emprest. Banc.    </td><td>P                 </td><td>PCIRC             </td><td>  66165           </td><td>  83429           </td><td> 158044           </td></tr>\n",
       "\t<tr><td>Duplic. Desc.     </td><td>P                 </td><td>PCIRC             </td><td> 290633           </td><td> 393885           </td><td> 676699           </td></tr>\n",
       "\t<tr><td>Emprestimos       </td><td>P                 </td><td>PELP              </td><td> 314360           </td><td> 792716           </td><td>1494240           </td></tr>\n",
       "\t<tr><td>Financiamentos    </td><td>P                 </td><td>PELP              </td><td>     NA           </td><td> 378072           </td><td> 533991           </td></tr>\n",
       "\t<tr><td>Capital e Reservas</td><td>P                 </td><td>PL                </td><td> 657083           </td><td>1194157           </td><td>1350830           </td></tr>\n",
       "\t<tr><td>Lucros Acum.      </td><td>P                 </td><td>PL                </td><td> 413778           </td><td> 213028           </td><td> 316997           </td></tr>\n",
       "</tbody>\n",
       "</table>\n"
      ],
      "text/latex": [
       "\\begin{tabular}{r|llllll}\n",
       " Conta & Classe & Subclasse & x31.12.01 & x31.12.02 & x31.12.03\\\\\n",
       "\\hline\n",
       "\t Disponivel         & A                  & ACIRC              &   34665            &   26309            &   25000           \\\\\n",
       "\t Aplic. Fin.        & A                  & ACIRC              &  128969            &   80915            &   62000           \\\\\n",
       "\t Clientes           & A                  & ACIRC              & 1045640            & 1122512            & 1529061           \\\\\n",
       "\t Estoques           & A                  & ACIRC              &  751206            & 1039435            & 1317514           \\\\\n",
       "\t Investimentos      & A                  & APERMAN            &   72250            &  156475            &  228075           \\\\\n",
       "\t Imobilizado        & A                  & APERMAN            &  693448            & 1517508            & 2401648           \\\\\n",
       "\t Diferido           & A                  & APERMAN            &      NA            &   40896            &   90037           \\\\\n",
       "\t Fornecedores       & P                  & PCIRC              &  708536            &  639065            &  688791           \\\\\n",
       "\t Outras Obrig.      & P                  & PCIRC              &  275623            &  289698            &  433743           \\\\\n",
       "\t Emprest. Banc.     & P                  & PCIRC              &   66165            &   83429            &  158044           \\\\\n",
       "\t Duplic. Desc.      & P                  & PCIRC              &  290633            &  393885            &  676699           \\\\\n",
       "\t Emprestimos        & P                  & PELP               &  314360            &  792716            & 1494240           \\\\\n",
       "\t Financiamentos     & P                  & PELP               &      NA            &  378072            &  533991           \\\\\n",
       "\t Capital e Reservas & P                  & PL                 &  657083            & 1194157            & 1350830           \\\\\n",
       "\t Lucros Acum.       & P                  & PL                 &  413778            &  213028            &  316997           \\\\\n",
       "\\end{tabular}\n"
      ],
      "text/markdown": [
       "\n",
       "Conta | Classe | Subclasse | x31.12.01 | x31.12.02 | x31.12.03 | \n",
       "|---|---|---|---|---|---|---|---|---|---|---|---|---|---|---|\n",
       "| Disponivel         | A                  | ACIRC              |   34665            |   26309            |   25000            | \n",
       "| Aplic. Fin.        | A                  | ACIRC              |  128969            |   80915            |   62000            | \n",
       "| Clientes           | A                  | ACIRC              | 1045640            | 1122512            | 1529061            | \n",
       "| Estoques           | A                  | ACIRC              |  751206            | 1039435            | 1317514            | \n",
       "| Investimentos      | A                  | APERMAN            |   72250            |  156475            |  228075            | \n",
       "| Imobilizado        | A                  | APERMAN            |  693448            | 1517508            | 2401648            | \n",
       "| Diferido           | A                  | APERMAN            |      NA            |   40896            |   90037            | \n",
       "| Fornecedores       | P                  | PCIRC              |  708536            |  639065            |  688791            | \n",
       "| Outras Obrig.      | P                  | PCIRC              |  275623            |  289698            |  433743            | \n",
       "| Emprest. Banc.     | P                  | PCIRC              |   66165            |   83429            |  158044            | \n",
       "| Duplic. Desc.      | P                  | PCIRC              |  290633            |  393885            |  676699            | \n",
       "| Emprestimos        | P                  | PELP               |  314360            |  792716            | 1494240            | \n",
       "| Financiamentos     | P                  | PELP               |      NA            |  378072            |  533991            | \n",
       "| Capital e Reservas | P                  | PL                 |  657083            | 1194157            | 1350830            | \n",
       "| Lucros Acum.       | P                  | PL                 |  413778            |  213028            |  316997            | \n",
       "\n",
       "\n"
      ],
      "text/plain": [
       "   Conta              Classe Subclasse x31.12.01 x31.12.02 x31.12.03\n",
       "1  Disponivel         A      ACIRC       34665     26309     25000  \n",
       "2  Aplic. Fin.        A      ACIRC      128969     80915     62000  \n",
       "3  Clientes           A      ACIRC     1045640   1122512   1529061  \n",
       "4  Estoques           A      ACIRC      751206   1039435   1317514  \n",
       "5  Investimentos      A      APERMAN     72250    156475    228075  \n",
       "6  Imobilizado        A      APERMAN    693448   1517508   2401648  \n",
       "7  Diferido           A      APERMAN        NA     40896     90037  \n",
       "8  Fornecedores       P      PCIRC      708536    639065    688791  \n",
       "9  Outras Obrig.      P      PCIRC      275623    289698    433743  \n",
       "10 Emprest. Banc.     P      PCIRC       66165     83429    158044  \n",
       "11 Duplic. Desc.      P      PCIRC      290633    393885    676699  \n",
       "12 Emprestimos        P      PELP       314360    792716   1494240  \n",
       "13 Financiamentos     P      PELP           NA    378072    533991  \n",
       "14 Capital e Reservas P      PL         657083   1194157   1350830  \n",
       "15 Lucros Acum.       P      PL         413778    213028    316997  "
      ]
     },
     "metadata": {},
     "output_type": "display_data"
    }
   ],
   "source": [
    "setwd('C:\\\\Users\\\\Marcos\\\\Documents\\\\GitHub\\\\Usando-R-em-Auditoria\\\\dados')\n",
    "balanco <- read.csv2(\"balanco.csv\")\n",
    "balanco"
   ]
  },
  {
   "cell_type": "markdown",
   "metadata": {},
   "source": [
    "A construção do gráfico é feita da seguinte forma:"
   ]
  },
  {
   "cell_type": "code",
   "execution_count": 4,
   "metadata": {
    "collapsed": false
   },
   "outputs": [
    {
     "data": {
      "image/png": "[encoded data removed]",
      "text/plain": [
       "Plot with title \"Composição do Ativo Circulante\n",
       "em 31.12.01\""
      ]
     },
     "metadata": {},
     "output_type": "display_data"
    }
   ],
   "source": [
    "options(repr.plot.width = 5, repr.plot.height = 5) \n",
    "ativo_circ <- subset(balanco, Subclasse == \"ACIRC\")\n",
    "pie(ativo_circ$x31.12.01,\n",
    "   labels=ativo_circ$Conta,\n",
    "   main=\"Composição do Ativo Circulante\\nem 31.12.01\")"
   ]
  },
  {
   "cell_type": "markdown",
   "metadata": {},
   "source": [
    "Talvez o leitor a esta altura se pergunte: mas qual é a participação de cada conta no grupo? Porquê não consta do gráfico? A resposta a esta pergunta é que os gráficos não se destinam, a princípio, a apresentar detalhes numéricos. Estes, o leitor poderá sempre consultar em uma tabela ou mesmo calculá-los. No nosso caso, para o exercício de 2001:"
   ]
  },
  {
   "cell_type": "code",
   "execution_count": 7,
   "metadata": {
    "collapsed": false
   },
   "outputs": [
    {
     "data": {
      "text/html": [
       "<ol class=list-inline>\n",
       "\t<li>1.77</li>\n",
       "\t<li>6.58</li>\n",
       "\t<li>53.34</li>\n",
       "\t<li>38.32</li>\n",
       "</ol>\n"
      ],
      "text/latex": [
       "\\begin{enumerate*}\n",
       "\\item 1.77\n",
       "\\item 6.58\n",
       "\\item 53.34\n",
       "\\item 38.32\n",
       "\\end{enumerate*}\n"
      ],
      "text/markdown": [
       "1. 1.77\n",
       "2. 6.58\n",
       "3. 53.34\n",
       "4. 38.32\n",
       "\n",
       "\n"
      ],
      "text/plain": [
       "[1]  1.77  6.58 53.34 38.32"
      ]
     },
     "metadata": {},
     "output_type": "display_data"
    }
   ],
   "source": [
    "round(ativo_circ$x31.12.01 / sum(ativo_circ$x31.12.01) * 100, 2)"
   ]
  },
  {
   "cell_type": "markdown",
   "metadata": {},
   "source": [
    "Indicando que o Disponível corresponde a 1,77% do Ativo Circulante, as Aplic. Financeiras correspondem a 6,58%, Clientes correspondem a 53,34% e Estoques a 38,32%.\n",
    "\n",
    "Mas, caso seja absolutamente necessário mostrar os percentuais nos gráficos, isto pode ser feito da seguinte maneira:"
   ]
  },
  {
   "cell_type": "code",
   "execution_count": 10,
   "metadata": {
    "collapsed": false
   },
   "outputs": [
    {
     "data": {
      "image/png": "[encoded data removed]",
      "text/plain": [
       "Plot with title \"Composição do Ativo Circulante\n",
       "em 31.12.01\""
      ]
     },
     "metadata": {},
     "output_type": "display_data"
    }
   ],
   "source": [
    "options(repr.plot.width = 5, repr.plot.height = 5) \n",
    "ativo_circ <- subset(balanco, Subclasse == \"ACIRC\")\n",
    "participacao<- round(ativo_circ$x31.12.01 / sum(ativo_circ$x31.12.01) * 100, 2)\n",
    "\n",
    "pie(ativo_circ$x31.12.01,\n",
    "   labels=paste(ativo_circ$Conta,'\\n', '(', participacao, '%', ')', sep=''),\n",
    "   main=\"Composição do Ativo Circulante\\nem 31.12.01\",\n",
    "   cex=0.8)"
   ]
  },
  {
   "cell_type": "markdown",
   "metadata": {},
   "source": [
    "Um gráfico objetiva transmitir uma idéia geral dos dados, comparar os valores apresentados, verificar o relacionamento entre os dados, verificar a existência de valores discrepantes, de simetria, tendência, etc.\n",
    "\n",
    "É importante frisar que sempre existirá uma alternativa melhor que apresentar dados utilizando gráficos de setores. Assim, sempre que possível os evite! Recomendo a leitura do texto [*Save the Pies for Dessert*](http://www.perceptualedge.com/articles/visual_business_intelligence/save_the_pies_for_dessert.pdf) do Stephen Few, sobre os gráficos de setores. Para uma opinião em contrário consultar o artigo do Robert Kosara [*In Defense of Pie Charts*](https://eagereyes.org/criticism/in-defense-of-pie-charts)."
   ]
  }
 ],
 "metadata": {
  "kernelspec": {
   "display_name": "R-3.3.1",
   "language": "",
   "name": "ir33"
  },
  "language_info": {
   "codemirror_mode": "r",
   "file_extension": ".r",
   "mimetype": "text/x-r-source",
   "name": "R",
   "pygments_lexer": "r",
   "version": "3.3.1"
  }
 },
 "nbformat": 4,
 "nbformat_minor": 0
}
