{
 "cells": [
  {
   "cell_type": "markdown",
   "metadata": {},
   "source": [
    "# Combinar Arquivos ( *merging* )"
   ]
  },
  {
   "cell_type": "markdown",
   "metadata": {},
   "source": [
    "Em determinadas situações ocorre de os dados necessários à execução de uma tarefa estarem em arquivos diferentes e é necessário reuní-los em um único conjunto de dados.\n",
    "\n",
    "Para exemplificar, considere o caso em que o auditor necessite confirmar com terceiros os valores que compõem o saldo da conta  `Clientes`, por exemplo.\n",
    "\n",
    "Os dados cadastrais, como endereço, código de identificação do cliente, CEP, etc, constam de um arquivo e os valores devidos pelos clientes, em outro. Ocorre que o auditor necessita do endereço e dos valores devidos para elaborar uma carta de circularização. Para isso, é indispensável que em ambos os arquivos exista um campo que identifique o cliente de forma única. Para a execução deste procedimento o R dispõe da função `merge()`, cuja utilização será mostrada mais adiante. \n",
    "\n",
    "Para ilustra este procedimento serão utilizados os conjuntos de dados `Arfile.ASC` e `Address.ASC` que possuem, respectivamente, informações sobre o contas a receber de uma empresa e o endereço dos clientes. O objetivo é combinar estes arquivos para que se disponha de apenas um com os dados contidos em ambos."
   ]
  },
  {
   "cell_type": "markdown",
   "metadata": {},
   "source": [
    "Estes dois conjuntos de dados são arquivos texto de formato fixo e, dessa forma, sua importação depende de conhecermos o *layout* dos arquivos, o que consta do documento `Descricao Arquivos Dados_v3.doc` que acompanha os conjuntos de dados utilizados.\n",
    "\n",
    "Com base nas informações contidas naquele documento, a importação dos dados pode ser feita da seguinte forma:"
   ]
  },
  {
   "cell_type": "code",
   "execution_count": 1,
   "metadata": {
    "collapsed": true
   },
   "outputs": [],
   "source": [
    "setwd('C:\\\\Users\\\\Marcos\\\\Documents\\\\GitHub\\\\Usando-R-em-Auditoria\\\\dados')\n",
    "\n",
    "contas_receber <- read.fwf('Arfile.ASC',\n",
    "                           widths = c(11, 4, 4, 15, 8),\n",
    "                           col.names = c('account', 'division', 'store', 'balance', 'duedate'), \n",
    "                           strip.white = TRUE)\n",
    "\n",
    "endereco <- read.fwf('Address.ASC',\n",
    "                     widths = c(11, 33, 33, 30, 25, 5),\n",
    "                     col.names = c('account', 'name1', 'name2', 'street', 'cityst', 'zip'),\n",
    "                     comment.char='',\n",
    "                     strip.white = TRUE)\n",
    "\n",
    "\n"
   ]
  },
  {
   "cell_type": "markdown",
   "metadata": {},
   "source": [
    "Importados os conjuntos de dados, é sempre uma boa prática verficar se tudo correu bem no processo de importação.  "
   ]
  },
  {
   "cell_type": "code",
   "execution_count": 2,
   "metadata": {
    "collapsed": false
   },
   "outputs": [
    {
     "name": "stdout",
     "output_type": "stream",
     "text": [
      "'data.frame':\t989 obs. of  5 variables:\n",
      " $ account : Factor w/ 981 levels \"S0000000003\",..: 601 359 460 789 198 59 565 454 319 56 ...\n",
      " $ division: int  246 87 87 9045 139 28 87 87 139 28 ...\n",
      " $ store   : int  20 3 20 20 4 9 7 20 4 5 ...\n",
      " $ balance : num  13192 261 9541 2254 2287 ...\n",
      " $ duedate : int  20010101 20010103 20010106 20010110 20010110 20010111 20010113 20010113 20010113 20010114 ...\n"
     ]
    },
    {
     "data": {
      "text/html": [
       "<table>\n",
       "<thead><tr><th scope=col>account</th><th scope=col>division</th><th scope=col>store</th><th scope=col>balance</th><th scope=col>duedate</th></tr></thead>\n",
       "<tbody>\n",
       "\t<tr><td>S0000309077</td><td> 246       </td><td>20         </td><td>13192.42   </td><td>20010101   </td></tr>\n",
       "\t<tr><td>S0000041943</td><td>  87       </td><td> 3         </td><td>  260.97   </td><td>20010103   </td></tr>\n",
       "\t<tr><td>S0000143191</td><td>  87       </td><td>20         </td><td> 9541.28   </td><td>20010106   </td></tr>\n",
       "\t<tr><td>S0000459709</td><td>9045       </td><td>20         </td><td> 2254.19   </td><td>20010110   </td></tr>\n",
       "\t<tr><td>S0000030187</td><td> 139       </td><td> 4         </td><td> 2286.84   </td><td>20010110   </td></tr>\n",
       "\t<tr><td>S0000002624</td><td>  28       </td><td> 9         </td><td> 3993.90   </td><td>20010111   </td></tr>\n",
       "</tbody>\n",
       "</table>\n"
      ],
      "text/latex": [
       "\\begin{tabular}{r|lllll}\n",
       " account & division & store & balance & duedate\\\\\n",
       "\\hline\n",
       "\t S0000309077 &  246        & 20          & 13192.42    & 20010101   \\\\\n",
       "\t S0000041943 &   87        &  3          &   260.97    & 20010103   \\\\\n",
       "\t S0000143191 &   87        & 20          &  9541.28    & 20010106   \\\\\n",
       "\t S0000459709 & 9045        & 20          &  2254.19    & 20010110   \\\\\n",
       "\t S0000030187 &  139        &  4          &  2286.84    & 20010110   \\\\\n",
       "\t S0000002624 &   28        &  9          &  3993.90    & 20010111   \\\\\n",
       "\\end{tabular}\n"
      ],
      "text/markdown": [
       "\n",
       "account | division | store | balance | duedate | \n",
       "|---|---|---|---|---|---|\n",
       "| S0000309077 |  246        | 20          | 13192.42    | 20010101    | \n",
       "| S0000041943 |   87        |  3          |   260.97    | 20010103    | \n",
       "| S0000143191 |   87        | 20          |  9541.28    | 20010106    | \n",
       "| S0000459709 | 9045        | 20          |  2254.19    | 20010110    | \n",
       "| S0000030187 |  139        |  4          |  2286.84    | 20010110    | \n",
       "| S0000002624 |   28        |  9          |  3993.90    | 20010111    | \n",
       "\n",
       "\n"
      ],
      "text/plain": [
       "  account     division store balance  duedate \n",
       "1 S0000309077  246     20    13192.42 20010101\n",
       "2 S0000041943   87      3      260.97 20010103\n",
       "3 S0000143191   87     20     9541.28 20010106\n",
       "4 S0000459709 9045     20     2254.19 20010110\n",
       "5 S0000030187  139      4     2286.84 20010110\n",
       "6 S0000002624   28      9     3993.90 20010111"
      ]
     },
     "metadata": {},
     "output_type": "display_data"
    }
   ],
   "source": [
    "str(contas_receber)\n",
    "head(contas_receber)"
   ]
  },
  {
   "cell_type": "code",
   "execution_count": 3,
   "metadata": {
    "collapsed": false
   },
   "outputs": [
    {
     "name": "stdout",
     "output_type": "stream",
     "text": [
      "'data.frame':\t981 obs. of  6 variables:\n",
      " $ account: Factor w/ 981 levels \"S0000000003\",..: 222 568 241 897 21 671 526 643 775 666 ...\n",
      " $ name1  : Factor w/ 974 levels \"& SAUNDRA FAHRING\",..: 656 888 727 592 554 265 308 26 509 167 ...\n",
      " $ name2  : Factor w/ 560 levels \"\",\"% WILLIAM T ARCHER JR\",..: 1 1 1 1 1 426 1 1 1 1 ...\n",
      " $ street : Factor w/ 960 levels \"1 CHARLOTTE LANE\",..: 1 2 3 4 5 6 7 8 9 10 ...\n",
      " $ cityst : Factor w/ 121 levels \"4700 BRAGA  PORTUGAL\",..: 29 86 118 107 84 63 99 29 99 79 ...\n",
      " $ zip    : int  72134 6850 72185 72174 72160 72945 72166 72134 72166 72178 ...\n"
     ]
    },
    {
     "data": {
      "text/html": [
       "<table>\n",
       "<thead><tr><th scope=col>account</th><th scope=col>name1</th><th scope=col>name2</th><th scope=col>street</th><th scope=col>cityst</th><th scope=col>zip</th></tr></thead>\n",
       "<tbody>\n",
       "\t<tr><td>S0000031637                   </td><td>LYNDA RANSEGNOLA              </td><td>                              </td><td>1 CHARLOTTE LANE              </td><td>DENVILLE, AZ                  </td><td>72134                         </td></tr>\n",
       "\t<tr><td>S0000249225                   </td><td>SOPHIE F. NATHAN              </td><td>                              </td><td>1 COOLIDGE ST.                </td><td>NORWALK, CT                   </td><td> 6850                         </td></tr>\n",
       "\t<tr><td>S0000032500                   </td><td>MERLE DEL POLITO              </td><td>                              </td><td>1 EAST SHAWNEE TRAIL          </td><td>WHARTON, AZ                   </td><td>72185                         </td></tr>\n",
       "\t<tr><td>S0000800468                   </td><td>KERRI STRACCO                 </td><td>                              </td><td>1 FRANCIS TERRACE P. O. BOX 68</td><td>STANHOPE, AZ                  </td><td>72174                         </td></tr>\n",
       "\t<tr><td>S0000001037                   </td><td>JULIE ANN LAMPE               </td><td>                              </td><td>1 NEWHAMPSHIRE STREET         </td><td>NEWTON, AZ                    </td><td>72160                         </td></tr>\n",
       "\t<tr><td>S0000452339                   </td><td>FREDERICK G. KARASEK          </td><td>OR MARYANN KARASEK            </td><td>1 OAK KNOLL ROAD              </td><td>MENDHAM, AZ                   </td><td>72945                         </td></tr>\n",
       "</tbody>\n",
       "</table>\n"
      ],
      "text/latex": [
       "\\begin{tabular}{r|llllll}\n",
       " account & name1 & name2 & street & cityst & zip\\\\\n",
       "\\hline\n",
       "\t S0000031637                    & LYNDA RANSEGNOLA               &                                & 1 CHARLOTTE LANE               & DENVILLE, AZ                   & 72134                         \\\\\n",
       "\t S0000249225                    & SOPHIE F. NATHAN               &                                & 1 COOLIDGE ST.                 & NORWALK, CT                    &  6850                         \\\\\n",
       "\t S0000032500                    & MERLE DEL POLITO               &                                & 1 EAST SHAWNEE TRAIL           & WHARTON, AZ                    & 72185                         \\\\\n",
       "\t S0000800468                    & KERRI STRACCO                  &                                & 1 FRANCIS TERRACE P. O. BOX 68 & STANHOPE, AZ                   & 72174                         \\\\\n",
       "\t S0000001037                    & JULIE ANN LAMPE                &                                & 1 NEWHAMPSHIRE STREET          & NEWTON, AZ                     & 72160                         \\\\\n",
       "\t S0000452339                    & FREDERICK G. KARASEK           & OR MARYANN KARASEK             & 1 OAK KNOLL ROAD               & MENDHAM, AZ                    & 72945                         \\\\\n",
       "\\end{tabular}\n"
      ],
      "text/markdown": [
       "\n",
       "account | name1 | name2 | street | cityst | zip | \n",
       "|---|---|---|---|---|---|\n",
       "| S0000031637                    | LYNDA RANSEGNOLA               |                                | 1 CHARLOTTE LANE               | DENVILLE, AZ                   | 72134                          | \n",
       "| S0000249225                    | SOPHIE F. NATHAN               |                                | 1 COOLIDGE ST.                 | NORWALK, CT                    |  6850                          | \n",
       "| S0000032500                    | MERLE DEL POLITO               |                                | 1 EAST SHAWNEE TRAIL           | WHARTON, AZ                    | 72185                          | \n",
       "| S0000800468                    | KERRI STRACCO                  |                                | 1 FRANCIS TERRACE P. O. BOX 68 | STANHOPE, AZ                   | 72174                          | \n",
       "| S0000001037                    | JULIE ANN LAMPE                |                                | 1 NEWHAMPSHIRE STREET          | NEWTON, AZ                     | 72160                          | \n",
       "| S0000452339                    | FREDERICK G. KARASEK           | OR MARYANN KARASEK             | 1 OAK KNOLL ROAD               | MENDHAM, AZ                    | 72945                          | \n",
       "\n",
       "\n"
      ],
      "text/plain": [
       "  account     name1                name2             \n",
       "1 S0000031637 LYNDA RANSEGNOLA                       \n",
       "2 S0000249225 SOPHIE F. NATHAN                       \n",
       "3 S0000032500 MERLE DEL POLITO                       \n",
       "4 S0000800468 KERRI STRACCO                          \n",
       "5 S0000001037 JULIE ANN LAMPE                        \n",
       "6 S0000452339 FREDERICK G. KARASEK OR MARYANN KARASEK\n",
       "  street                         cityst       zip  \n",
       "1 1 CHARLOTTE LANE               DENVILLE, AZ 72134\n",
       "2 1 COOLIDGE ST.                 NORWALK, CT   6850\n",
       "3 1 EAST SHAWNEE TRAIL           WHARTON, AZ  72185\n",
       "4 1 FRANCIS TERRACE P. O. BOX 68 STANHOPE, AZ 72174\n",
       "5 1 NEWHAMPSHIRE STREET          NEWTON, AZ   72160\n",
       "6 1 OAK KNOLL ROAD               MENDHAM, AZ  72945"
      ]
     },
     "metadata": {},
     "output_type": "display_data"
    }
   ],
   "source": [
    "str(endereco)\n",
    "head(endereco)"
   ]
  },
  {
   "cell_type": "markdown",
   "metadata": {},
   "source": [
    "Importados os dados, estamos agora em condições de efetivamente realizar a combinação das duas bases de dados. Para tanto, é necessário que em ambos os conjuntos de dados exista uma coluna que identifique os registros (linhas) de forma única, um campo de identificação dos registros. No nosso exemplo, óe possível verificar que a coluna `account`, que identifica o cliente, consta dos dois conjuntos de dados e será o campo utilizado para realizar a junção dos arquivos."
   ]
  },
  {
   "cell_type": "code",
   "execution_count": 4,
   "metadata": {
    "collapsed": false
   },
   "outputs": [
    {
     "data": {
      "text/html": [
       "<table>\n",
       "<thead><tr><th scope=col>account</th><th scope=col>division</th><th scope=col>store</th><th scope=col>balance</th><th scope=col>duedate</th><th scope=col>name1</th><th scope=col>name2</th><th scope=col>street</th><th scope=col>cityst</th><th scope=col>zip</th></tr></thead>\n",
       "<tbody>\n",
       "\t<tr><td>S0000000003                      </td><td>28                               </td><td> 5                               </td><td>9609.75                          </td><td>20010227                         </td><td>ITF CHURCH CEMETERY PERPETUITY AS</td><td>TRUSTEES BERKSHIRE VALLEY PRESB. </td><td>10 HOLLY DRIVE                   </td><td>DENVILLE, AZ                     </td><td>72134                            </td></tr>\n",
       "\t<tr><td>S0000000036                      </td><td>28                               </td><td>40                               </td><td> 120.98                          </td><td>20011129                         </td><td>JONES/SHEPARD                    </td><td>                                 </td><td>81 MAIN ST                       </td><td>HACKETTSTOWN, AZ                 </td><td>72140                            </td></tr>\n",
       "\t<tr><td>S0000000140                      </td><td>28                               </td><td> 8                               </td><td>3092.04                          </td><td>20011226                         </td><td>LESLIE E OR ROY S LARSEN         </td><td>                                 </td><td>3 ROSEVILLE ROAD                 </td><td>STANHOPE, AZ                     </td><td>72174                            </td></tr>\n",
       "</tbody>\n",
       "</table>\n"
      ],
      "text/latex": [
       "\\begin{tabular}{r|llllllllll}\n",
       " account & division & store & balance & duedate & name1 & name2 & street & cityst & zip\\\\\n",
       "\\hline\n",
       "\t S0000000003                       & 28                                &  5                                & 9609.75                           & 20010227                          & ITF CHURCH CEMETERY PERPETUITY AS & TRUSTEES BERKSHIRE VALLEY PRESB.  & 10 HOLLY DRIVE                    & DENVILLE, AZ                      & 72134                            \\\\\n",
       "\t S0000000036                       & 28                                & 40                                &  120.98                           & 20011129                          & JONES/SHEPARD                     &                                   & 81 MAIN ST                        & HACKETTSTOWN, AZ                  & 72140                            \\\\\n",
       "\t S0000000140                       & 28                                &  8                                & 3092.04                           & 20011226                          & LESLIE E OR ROY S LARSEN          &                                   & 3 ROSEVILLE ROAD                  & STANHOPE, AZ                      & 72174                            \\\\\n",
       "\\end{tabular}\n"
      ],
      "text/markdown": [
       "\n",
       "account | division | store | balance | duedate | name1 | name2 | street | cityst | zip | \n",
       "|---|---|---|\n",
       "| S0000000003                       | 28                                |  5                                | 9609.75                           | 20010227                          | ITF CHURCH CEMETERY PERPETUITY AS | TRUSTEES BERKSHIRE VALLEY PRESB.  | 10 HOLLY DRIVE                    | DENVILLE, AZ                      | 72134                             | \n",
       "| S0000000036                       | 28                                | 40                                |  120.98                           | 20011129                          | JONES/SHEPARD                     |                                   | 81 MAIN ST                        | HACKETTSTOWN, AZ                  | 72140                             | \n",
       "| S0000000140                       | 28                                |  8                                | 3092.04                           | 20011226                          | LESLIE E OR ROY S LARSEN          |                                   | 3 ROSEVILLE ROAD                  | STANHOPE, AZ                      | 72174                             | \n",
       "\n",
       "\n"
      ],
      "text/plain": [
       "  account     division store balance duedate  name1                            \n",
       "1 S0000000003 28        5    9609.75 20010227 ITF CHURCH CEMETERY PERPETUITY AS\n",
       "2 S0000000036 28       40     120.98 20011129 JONES/SHEPARD                    \n",
       "3 S0000000140 28        8    3092.04 20011226 LESLIE E OR ROY S LARSEN         \n",
       "  name2                            street           cityst           zip  \n",
       "1 TRUSTEES BERKSHIRE VALLEY PRESB. 10 HOLLY DRIVE   DENVILLE, AZ     72134\n",
       "2                                  81 MAIN ST       HACKETTSTOWN, AZ 72140\n",
       "3                                  3 ROSEVILLE ROAD STANHOPE, AZ     72174"
      ]
     },
     "metadata": {},
     "output_type": "display_data"
    }
   ],
   "source": [
    "nova_base <- merge(contas_receber, endereco, by='account')\n",
    "head(nova_base, 3)\n"
   ]
  },
  {
   "cell_type": "code",
   "execution_count": null,
   "metadata": {
    "collapsed": true
   },
   "outputs": [],
   "source": [
    "nrow(nova_base)"
   ]
  },
  {
   "cell_type": "markdown",
   "metadata": {},
   "source": [
    "Agora dispomos de um conjunto de dados com os campos existentes nos dois conjuntos de dados iniciais.\n",
    "\n",
    "Com relação a este procedimento, ainda cabem alguns comentários.\n",
    "\n",
    "No procedimento realizado acima, também conhecido como `inner join`, o conjunto de dados resultante (no nosso caso `nova_base`) conterá apenas as informações relativas às contas que existirem em ambos os cojuntos de dados. As contas que estiverem no conjunto de dados `contas_receber` e não estiverem em `endereco` não constarão da base de dados resultante. O mesmo ocorrendo ao contrário, ou seja, as contas que estiverem no conjunto de dados `endereco` mas não estiverem em `contas_receber` também não serão apresentados. O `inner join` mostrará a interseção das duas bases.\n",
    "\n",
    "Os argumentos `all=`, `all.x=` e `all.y=` da função `merge()` permitem controlar quais registros incluir no resultado, possibilitando a realização de `right joins`, `left joins` e `full joins`.\n",
    "\n",
    "Para uma melhor compreensão dos argumentos `all.x=` e `all.y=` é necessário frisar que os conjuntos de dados fornecidos à função `merge()` são considerados como `x` (primeiro conjunto de dados) e `y` (segundo conjunto de dados). No exemplo acima, o conjunto de dados `contas_receber` é o `x` e `endereco` é `y`.\n",
    "\n",
    "Assim, o argumento `all.x=TRUE` indica que desejamos que a combinação dos arquivos seja do tipo `right join`, no qual todos os registros de `x` são incluídos na base de de dados resultante, independentemente de estare ou não em `y`. Utilizando-se `all.y=TRUE` obtemos o `left join`. O `full join` é obtido com `all=TRUE`."
   ]
  },
  {
   "cell_type": "code",
   "execution_count": null,
   "metadata": {
    "collapsed": true
   },
   "outputs": [],
   "source": []
  }
 ],
 "metadata": {
  "kernelspec": {
   "display_name": "R-3.3.1",
   "language": "",
   "name": "ir33"
  },
  "language_info": {
   "codemirror_mode": "r",
   "file_extension": ".r",
   "mimetype": "text/x-r-source",
   "name": "R",
   "pygments_lexer": "r",
   "version": "3.3.1"
  }
 },
 "nbformat": 4,
 "nbformat_minor": 0
}
