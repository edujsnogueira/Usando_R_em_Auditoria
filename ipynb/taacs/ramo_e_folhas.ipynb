{
 "cells": [
  {
   "cell_type": "markdown",
   "metadata": {},
   "source": [
    "# Ramo e Folhas"
   ]
  },
  {
   "cell_type": "markdown",
   "metadata": {},
   "source": [
    "O `ramo-e-folhas` é uma representação gráfica dos números que permite organizar os dados de forma a chamar a atenção para algumas características do conjunto de dados, tais como:\n",
    "\n",
    "* Forma da destribuição(simetria/assimetria)   \n",
    "* Dispersão   \n",
    "* Existência de _outliers_   \n",
    "* Existência de lacunas entre os dados.   \n",
    "\n",
    "Pode-se ainda mencionar como características do `ramo-e-folhas` o fato de possuir muita semelhança com o histograma, tendo porém a vantagem de exibir o formato da distribuição sem que haja perda de informação. A desvantagem do `ramo-e-folhas` está no fato de ser um gráfico que deve ser utilizado com conjuntos daddos de pequena dimensão.\n",
    "\n",
    "Para a construção do `ramo-e-folhas`, será utilizada a função **`stem()`**.\n",
    "\n",
    "Para a construção do `ramo-e-folhas` será utilizado um conjunto de dados apresentado na página 233 do livro Análise Financeira de Balanços - Abordagem Básica e Gerencial (6a Edição) do Dante C. Matarazzo, relativo aos índices de liquidez corrente de empresas solventes e insolventes. O conjunto de dados chama-se `ilc.txt`.\n",
    "\n",
    "O `ramo-e-folhas` para este conjunto de dados é apresentado a seguir:"
   ]
  },
  {
   "cell_type": "code",
   "execution_count": 1,
   "metadata": {
    "collapsed": false
   },
   "outputs": [
    {
     "name": "stdout",
     "output_type": "stream",
     "text": [
      "\n",
      "  The decimal point is at the |\n",
      "\n",
      "  0 | 3\n",
      "  0 | 555666777788888889999999\n",
      "  1 | 0000000011111111111111111222222223333333334444444\n",
      "  1 | 55556666667778899999\n",
      "  2 | 001\n",
      "  2 | 9\n",
      "  3 | 0\n",
      "\n"
     ]
    }
   ],
   "source": [
    "setwd('C:\\\\Users\\\\Marcos\\\\Documents\\\\GitHub\\\\Usando-R-em-Auditoria\\\\dados')\n",
    "empresas <- read.table(\"ilc.txt\", header=TRUE)\n",
    "stem(empresas$ilc)"
   ]
  },
  {
   "cell_type": "markdown",
   "metadata": {},
   "source": [
    "Modificando o argumento `scale=` da função para 2 (a opção padrão é 1), obtém-se o seguinte resultado:"
   ]
  },
  {
   "cell_type": "code",
   "execution_count": 3,
   "metadata": {
    "collapsed": false
   },
   "outputs": [
    {
     "name": "stdout",
     "output_type": "stream",
     "text": [
      "\n",
      "  The decimal point is 1 digit(s) to the left of the |\n",
      "\n",
      "   2 | 2\n",
      "   4 | 89479\n",
      "   6 | 45793599\n",
      "   8 | 03446799003789\n",
      "  10 | 00234556678899001222456678\n",
      "  12 | 01135778901346679\n",
      "  14 | 00369135678\n",
      "  16 | 146029\n",
      "  18 | 4699347\n",
      "  20 | 20\n",
      "  22 | \n",
      "  24 | \n",
      "  26 | \n",
      "  28 | 5\n",
      "  30 | 2\n",
      "\n"
     ]
    }
   ],
   "source": [
    "stem(empresas$ilc, scale=2)"
   ]
  },
  {
   "cell_type": "markdown",
   "metadata": {},
   "source": [
    "A mudança de escala mostra a existência de duas observaçõs que parecem *outliers*. O restante dos dados apresenta uma distribuição que se aproxima muito de uma distribuição normal."
   ]
  }
 ],
 "metadata": {
  "kernelspec": {
   "display_name": "R-3.3.1",
   "language": "",
   "name": "ir33"
  },
  "language_info": {
   "codemirror_mode": "r",
   "file_extension": ".r",
   "mimetype": "text/x-r-source",
   "name": "R",
   "pygments_lexer": "r",
   "version": "3.3.1"
  }
 },
 "nbformat": 4,
 "nbformat_minor": 0
}
