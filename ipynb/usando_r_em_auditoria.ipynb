{
 "cells": [
  {
   "cell_type": "markdown",
   "metadata": {},
   "source": [
    "![](Rlogo.png)"
   ]
  },
  {
   "cell_type": "markdown",
   "metadata": {
    "collapsed": true
   },
   "source": [
    "# <center><font color='red'>USANDO R EM AUDITORIA</font></center>\n",
    "\n",
    "<center>Marcos F Silva ( *marcosfs2006@gmail.com* ) </center>"
   ]
  },
  {
   "cell_type": "markdown",
   "metadata": {},
   "source": [
    "\n",
    "# <center> Técnicas de Auditoria Assistidas por Computador - TAAC </center> \n",
    "\n",
    "Este pequeno tutorial tem por objetivo ilustrar como implementar no R técnicas de análise de dados simples usualmente utilizadas em auditorias financeiras e implementadas em softwares como [ACL](https://www.acl.com/), [IDEA](https://www.casewareanalytics.com), [Arbutus](http://arbutussoftware.com/), [Lavastorm](http://www.lavastorm.com/), [ActiveData](http://informationactive.com/), [Team Mate Analytics](http://www.topcaats.com/) entre outros, bem como técnicas mais avançadas que ainda não são de uso difundido em auditoria financeira como as técnicas utilizadas em mineração de dados, mas que aos poucos vêm ganhando mais visibilidade entre os profissionais de auditoria."
   ]
  },
  {
   "cell_type": "markdown",
   "metadata": {},
   "source": [
    "## O que são Técnicas de Auditoria Assistidas por Computador?\n",
    "\n",
    "De uma forma bem geral, pode-se dizer que Técnicas de Auditoria Assistidas por Computador relaciona-se com o uso do computador para auxiliar na execução de auditoria. Atualmente, o uso de computadores na execução dos trabalhos de auditoria é prática corrente e com o aumento do volume de dados gerado nas empresas e a facilidade de acesso a estes dados, hoje o que se discute na área são tópicos como **[auditoria preditiva](https://rucore.libraries.rutgers.edu/rutgers-lib/41494/)**, **[auditoria contínua](https://en.wikipedia.org/wiki/Continuous_auditing)**, **monitoramento contínuo** e o uso de **análise de dados (_analytics_)**.\n",
    "\n",
    "Neste documento tratar-se-á do uso da **análise de dados** em auditoria.\n",
    "\n",
    "Dentro do arcabouço de auditoria, o uso de análise de dados está associado à utilização de procedimentos de revisão analítica, que segundo Eija Koskivaara (2007) poderiam ser classificados em: **(1)** não quantitativos ou subjetivos, **(2)** quantitativos simples e **(3)** quantitativos avançados.\n",
    "\n",
    "Dentro da categoria 3 (quantitativos avançados) estariam, por exemplo, o uso de regressão liner e de redes neurais artificiais, que estão entre as técnicas de mineração de dados, dentre diversas outras. \n",
    "\n",
    "Joshua Imoniana observa que *\"A auditoria em ambiente de tecnologia de informação não muda a formação exigida para a profissão de auditor, apenas percebe que as informações até então disponíveis e forma de papel são agora guardadas em forma eletrônica e que o enfoEija que de auditoria teria que mudar para se assegurar de que essas informações em forma eletrônica sejam confiáveis antes de emitir sua opinião\"*.\n",
    "\n",
    "Conquanto isto seja verdade não é incomum, ainda hoje, encontrar-se bastante resistência ao uso de ferramentas computacionais para a execução da atividade de auditoria. E não parece descabida a hipótese de que essa resistência possa ser maior entre os auditores do setor público.\n",
    "\n",
    "Este fato reflete um fenômeno que já vem sendo estudado pela academia. Veja-se, a exemplo, a tese de doutoramento de Isabel Pedrosa \"[COMPUTER-ASSISTED AUDIT TOOLS AND TECHNIQUES USE: DETERMINANTS FOR INDIVIDUAL ACCEPTANCE](https://repositorio.iscte-iul.pt/handle/10071/10017)\"\n",
    "\n"
   ]
  },
  {
   "cell_type": "markdown",
   "metadata": {},
   "source": [
    "## Importação de Dados\n",
    "\n",
    "Antes que o auditor possa realizar qualquer análise nos dados disponíveis, será necessário realizar a importação dos dados para o aplicativo que irá utilizar para realizar a análise.\n",
    "\n",
    "O R dispõe de um conjunto de funções nativas para a importação de dados. Outras funções estão disponíveis em pacotes.\n",
    "\n",
    "É importante que o auditor tenha algum conhecimento dos diversos tipos de arquivos nos quais os dados podem estar armazenados para que possa utilizar a função adequada para sua importação.\n",
    "\n",
    "Os tipos de arquivo mais comumente encontrados na prática são os seguintes:\n",
    "\n",
    "* Arquivos texto com delimitadores (.csv); \n",
    "* Arquivos texto de formato fixo;  \n",
    "* Arquivos texto com marcações de tags (html, xml);  \n",
    "* Arquivos da planilha eletrônica Excel;  \n",
    "* Arquivos json;  \n",
    "\n",
    "Com vistas a ilustrar como os dados armazenados nestes tipos de arquivo podem ser importados com o R, o leitor pode consultar o seguinte documento:\n",
    "\n",
    "Importação de dados com R\n"
   ]
  },
  {
   "cell_type": "markdown",
   "metadata": {},
   "source": [
    "## Técnicas de Limpeza de Dados\n",
    "\n",
    "Importadas as bases de dados, normalmente ainda há a necessidade de realizar um trabalho de limpeza da base de dados de forma a colocá-la num formato que esteja adequado à realização da análise. Esta é uma etapa que normalmente consome um tempo considerável e não deve ser negligenciado. Muitas das técnicas mostradas no tópico de *Técnicas Básicas de Análise de Dados* poderão ser utilizadas com esta finalidade."
   ]
  },
  {
   "cell_type": "markdown",
   "metadata": {
    "collapsed": true
   },
   "source": [
    "## Técnicas Básicas de Análise de Dados\n",
    "\n",
    "Apresentamos a seguir, como implementar no R algumas das técnicas de auditoria assistidas por computador mais comuns. São técnicas básicas que não fazem uso de métodos estatísticos mais sofisticados mas que na prática se mostram extremamente úteis.\n",
    "\n",
    "* [Cálculo de Novos Campos](taacs\\calculo_novos_campos.ipynb)  \n",
    "* [Apensar Novos Registros](taacs\\apensar_novos_registros.ipynb)   \n",
    "* [Apensar Novos Campos](taacs\\apensar_novos_campos.ipynb)  \n",
    "* [Tabulação Cruzada](taacs\\tabulacao_cruzada.ipynb)  \n",
    "* [Lei de Benford](taacs\\lei_benford.ipynb)  \n",
    "* [Valores Duplicados](taacs\\duplicidade.ipynb)  \n",
    "* [Filtros](taacs\\filtros.ipynb)  \n",
    "* [Sorteio de Amostras Aleatórias](taacs\\selecao_amostras_aleatorias.ipynb)  \n",
    "* [_Aging_](taacs\\aging.ipynb)  \n",
    "* [_Gaps_](taacs\\gaps.ipynb)  \n",
    "* [Ordenação](taacs\\ordenacao.ipynb)  \n",
    "* [Combinar Arquivos](taacs\\combinar_arquivos.ipynb)  \n",
    "* [Estatística Descritiva](taacs\\estatistica_descritiva.ipynb)  \n",
    "* [Estratificação](taacs\\estratificacao.ipynb)  \n",
    "* [Sumarização](taacs\\sumarizacao.ipynb)  \n",
    "* _Reshaping_\n",
    "* Acesso a Banco de Dados  \n",
    "* Registros de Log   \n",
    "* ...\n",
    " \n"
   ]
  },
  {
   "cell_type": "markdown",
   "metadata": {},
   "source": [
    "## Visualização de Dados\n",
    "\n",
    "Embora não seja um tópico usual na literatura sobre análise de dados em auditoria, os gráficos  podem ser uma ferramenta extremamente útil nesta atividade.  Assim, apresentaremos alguns recursos do R para a produção de gráficos utilizando, sempre que possível, os recursos do pacote básico do R.\n",
    "\n",
    "* [Gráfico de Setores](taacs\\grafico_de_setores.ipynb)  \n",
    "* [Gráfico de Barras](taacs\\grafico_barras.ipynb)  \n",
    "* [Gráfico de Linhas](taacs\\grafico_de_linhas.ipynb)  \n",
    "* [Diagrama de Dispersão](taacs\\diagrama_dispersao.ipynb)  \n",
    "* [Ramo-e-Folhas](taacs\\ramo_e_folhas.ipynb)  \n",
    "* [Boxplot](taacs\\boxplot.ipynb)  \n",
    "* [Histograma](taacs\\histograma.ipynb)  \n",
    "* Gráfico de Pareto  \n",
    "* Gráfico de Pontos  \n",
    "* [Gráfico de Mosaico](taacs\\grafico_mosaico.ipynb)  \n",
    "* Gráfico de Quantis  \n",
    "* Gráfico de Coordenadas Paralelas  \n",
    "* Stars  \n",
    "* Faces de Chernoff  \n",
    "* Calendar Plot  \n",
    "* Heatmap  \n",
    "* [Waterfall](http://www.rpubs.com/marcosfs2006/waterfall)   \n",
    "* Gráficos Condicionados   \n",
    "* ..."
   ]
  },
  {
   "cell_type": "markdown",
   "metadata": {},
   "source": [
    "## Tópicos Especiais\n",
    "\n",
    "Além das funcionalidades acima elencadas, serão apresentados alguns recursos do R para a manipulação de datas em razão da grande importância deste tipo de dados em auditoria.  Também apresentarei algumas das funções do R que utilizam expressões regulares como um de seus argumentos, dado o potencial que o uso das expressões regulares têm na análise de dados em auditoria.\n",
    " \n",
    "* Data e hora  \n",
    "* Expressões Regulares  \n",
    "* [Pacote _dplyr_](http://www.rpubs.com/marcosfs2006/dplyr)  \n",
    "* Pacote _ggplot2_   \n",
    "* Pacotes _openxlsx_ e _readxl_     \n",
    "* Mapas e Georreferenciamento\n",
    "* Web scraping\n",
    "* ..."
   ]
  },
  {
   "cell_type": "markdown",
   "metadata": {
    "collapsed": true
   },
   "source": [
    "## Técnicas Avançadas de Análise de Dados\n",
    "\n",
    "As técnicas avançadas de análise de dados consistem nas técnicas de mineração de dados.\n",
    "\n",
    "* Análise de Agrupamentos   \n",
    "* Análise de Componentes Principais  \n",
    "* Análise Discriminante  \n",
    "* [Regras de Associação](tutoriais\\regras-associacao.ipynb)  \n",
    "* [Análise de Redes Sociais](http://www.rpubs.com/marcosfs2006/redes-sociais-rpps)  \n",
    "* Regressão Logística   \n",
    "* ..."
   ]
  },
  {
   "cell_type": "markdown",
   "metadata": {},
   "source": [
    "## Tutoriais\n",
    "\n",
    "Neste tópico mostraremos algumas aplicações do R com o objetivo de que sirvam de inspiração para a resolução de problemas semelhantes que os leitores possam ter.\n",
    "\n",
    "[*Web scraping* de dados do Extrato Previdenciário](tutoriais\\captura_crp.ipynb)   \n",
    "[Importação de dados em múltiplas planilhas do Excel](tutoriais\\importa_dados_multiplas_planilhas_excel.ipynb)    \n",
    "[Análise de dados do Demonstrativo das Aplicações e Investimentos dos Recursos - DAIR](tutoriais\\analise dados dair.ipynb)   \n",
    "[Regras de Associação no R](tutoriais\\regras-associacao.ipynb)   \n",
    "[Importação de Relatórios com R](http://rpubs.com/marcosfs2006/importa_relatorios)   \n",
    "Introdução à Amostragem de Unidades Monetárias\n"
   ]
  },
  {
   "cell_type": "markdown",
   "metadata": {},
   "source": [
    "# Artigos de interesse\n",
    "Seguem alguns artigos que podem ser de interesse a todos que queiram utilizar o R como ferramenta de análise de dados em auditoria.\n",
    "\n",
    "[Basic Audit Data Analytics with R](https://papers.ssrn.com/sol3/papers.cfm?abstract_id=3142207)   \n"
   ]
  },
  {
   "cell_type": "markdown",
   "metadata": {},
   "source": [
    "# Referências bibliográficas\n",
    "\n",
    "*Imoniana, Joshua Onome* - **Auditoria de Sistemas de Informação**, São Paulo, Atlas, 2005     \n",
    "\n",
    "*Koskivaara, Eija * - [**Integrating Analytical Procedures into the Continuous Audit Environment**](http://www.jistem.fea.usp.br/index.php/jistem/article/view/62/0), Journal of Information Systems and Technology Management - Vol. 3, No. 3, 2007, p. 331-346 \n",
    "\n",
    "*American Institute of Certified Public Accountants - AICPA* - [**Audit Analytics and Continuous Audit: Looking Toward the Future**](https://www.aicpa.org/content/dam/aicpa/interestareas/frc/assuranceadvisoryservices/downloadabledocuments/auditanalytics-lookingtowardfuture.pdf)\n",
    "\n",
    "*American Institute of Certified Public Accountants - AICPA* - [**Guide to Audit Data Analytics**](https://www.aicpastore.com/AuditAttest/Standards/guide-to-audit-data-analytics/PRDOVR~PC-ADATA/PC-ADATA.jsp)\n",
    "\n"
   ]
  }
 ],
 "metadata": {
  "kernelspec": {
   "display_name": "R 3.3.1-alfa",
   "language": "R",
   "name": "ir33"
  },
  "language_info": {
   "codemirror_mode": "r",
   "file_extension": ".r",
   "mimetype": "text/x-r-source",
   "name": "R",
   "pygments_lexer": "r",
   "version": "3.3.1"
  }
 },
 "nbformat": 4,
 "nbformat_minor": 0
}
