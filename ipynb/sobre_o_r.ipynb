{
 "cells": [
  {
   "cell_type": "markdown",
   "metadata": {},
   "source": [
    "### O que o R?\n",
    "\n",
    "O R é, ao mesmo tempo, uma linguagem de programação e um ambiente para computação estatística e produção de gráficos. É software livre e está disponível para diversos sistemas operacionais (Windows, UNIX/Linux, MacOS). R é a versão *open source* do software comercial S-Plus.\n",
    "\n",
    "Uma das principais características do R é a possibilidade de se extender suas funcionalidades mediante a criação de pacotes. A distribuição padrão do R vem com diversos pacotes, sendo possível adicionar novos pacotes para finalidades específicas sempre que se fizer necessário.\n",
    "\n",
    "A página do R na internet é http://www.r-project.org onde poderão ser encontradas mais informações sobre o programa bem como vasta documentação sobre o mesmo.\n",
    "\n",
    "### Razões para se Considerar o uso do R em Auditoria\n",
    "\n",
    "A principal razão é, certamente, o fato do R ser um software gratuito e de ser suficientemente flexível para permitir a implementação de diversas técnicas de análise de dados utilizadas em auditoria\n",
    "\n",
    "Embora o R não seja um software familiar aos profissionais de auditoria, é bastante conhecido e utilizado entre os profissionais de estatística, sendo versátil o suficiente para que possa ser utilizado em qualquer área onde seja necessário analisar dados e sendo a Auditoria, em última instância, análise de dados, o R pode ser bastante efetivo nessa área. Isso é particularmente verdadeiro quando se trata de auditorias de natureza operacional, nas quais são largamente utilizadas diversas técnicas estatísticas, como estatística descritiva, séries temporais, regressão, análise de variância, planejamento de experimentos, amostragem e técnicas de visualização de dados.\n",
    "\n",
    "### Vantagens e Desvantagens do R\n",
    " \n",
    "A principal vantagem é, certamente, o fato dele ser um software gratuito. Outra vantagem é a flexibilidade no gerenciamento de grandes quantidades de dados.\n",
    "\n",
    "Comparado aos softwares de auditoria de uso geral acima mencionados, o R tem a desvantagem de não possuir uma interface gráfica suficientemente elaborada que permita uma interação amigável com o usuário, o que pode, de início, desestimular sua utilização, já que o seu aprendizado pode tornar-se um pouco mais lento que o aprendizado de outros programas. No R o usuário deve digitar na linha de comando as funções necessárias à realização das análises, fato que se de um lado lhe confere a flexibilidade mencionada, de outro torna seu aprendizado mais difícil. Outra restrição é que a documentação do programa está em inglês, o que pode ser um sério problema para quem não tenha familiaridade com o idioma.\n",
    "\n",
    "### Necessidade do Uso de Softwares de Auditoria\n",
    "\n",
    "O crescente volume de dados gerados pelos sistemas de informação das empresas vem tornando impraticável o manuseio dos mesmos sem o auxílio de softwares adequados.\n",
    "\n",
    "Os profissionais de auditoria já vêm utilizando há algum tempo softwares de auditoria de uso geral como o Audit Command Language (ACL) e o Interactive Data Extraction & Analysis (IDEA) para analisar dados extraídos dos sistemas de informação das empresas auditadas.\n",
    "\n",
    "Embora existam no mercado ferramentas desenvolvidas especificamente para serem utilizadas em auditoria e detecção de fraudes, como as duas citadas acima, diversos softwares vêm sendo utilizados com esta finalidade, sendo possível citar como exemplos as planilhas eletrônicas como o Excel, softwares de Business Inteligence, como Business Objects softwares de gerenciamento de banco de dados, como Access, softwares estatísticos como SAS e SPSS, entre outros.\n"
   ]
  },
  {
   "cell_type": "markdown",
   "metadata": {},
   "source": [
    "**Marcos F Silva**"
   ]
  }
 ],
 "metadata": {
  "kernelspec": {
   "display_name": "R-3.3.1",
   "language": "",
   "name": "ir33"
  },
  "language_info": {
   "codemirror_mode": "r",
   "file_extension": ".r",
   "mimetype": "text/x-r-source",
   "name": "R",
   "pygments_lexer": "r",
   "version": "3.3.1"
  }
 },
 "nbformat": 4,
 "nbformat_minor": 0
}
