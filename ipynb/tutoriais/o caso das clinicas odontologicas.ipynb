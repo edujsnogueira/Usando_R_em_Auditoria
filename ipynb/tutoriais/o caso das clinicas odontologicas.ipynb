{
 "cells": [
  {
   "cell_type": "markdown",
   "metadata": {},
   "source": [
    "# Estudo de Caso - Clínicas Odontológicas\n",
    "\n",
    "Este estudo de caso foi extraído do capítulo 8 (pág. 249 - Case Study 2) do Livro [*Fraud Examination*](https://www.amazon.com/Fraud-Examination-W-Steve-Albrecht/dp/0538470844), 4a Edição, de autoria de W. Steve Albrecht, Chad O. Albrecht, Conan C. Albrecht e Mark F. Zimbelman.\n"
   ]
  },
  {
   "cell_type": "markdown",
   "metadata": {},
   "source": [
    "## Descrição do Caso\n",
    "\n",
    "Você conseguiu um estágio em uma empresa que faz o processamento de cobranças por serviços odontológicos prestados por clínicas conveniadas a empresas que operam planos odontológicos.\n",
    "\n",
    "A companhia recebe as cobranças de clinicas odontológicas, obtém autorização do operador do plano correspondente e faz os pagamentos.\n",
    "\n",
    "Você não lida com os clientes das clinicas odontológicas diretamente, lida apenas com as operadoras de um lado e as clínicas odontológicas conveniadas, de outro.\n",
    "\n",
    "Depois de dois meses trabalhando na empresa, você percebe que algumas fraudes podem estar ocorrendo e que a melhor forma de identificar estas possíveis fraudes é analisar as evidencias documentais.\n",
    "\n",
    "Visto que centenas de clínicas odontológicas encaminham cobranças à empresa, existe a possibilidade de que algumas clinicas, de fato, não existam. Você contacta o departamento de TI da empresa e solicita um conjunto de arquivos que representam os documentos relativos a transações efetuadas nos últimos três meses. Os arquivos recebidos foram os seguintes: `ch08_dentists.csv`, `ch08_claims.csv` e  `ch08_patients.csv`.\n",
    "\n",
    "\n",
    "## Questões\n",
    "\n",
    "**( 1 )** Algumas clínicas odontológicas podem ser só de fachada e estarem cobrando por serviços não prestados. Uma clínica que efetivamente exista possui endereço onde funcione fisicamente. Existe alguma clinica usando caixa postal em seu endereço?\n",
    "\n",
    "**( 2 )** As clinicas devem encaminhar cobranças a mais de uma operadora, visto que seus clientes podem possuir planos ofertados pelas diversas operadoras existentes. Visto que sua empresa trabalha apenas com poucas das operadoras existentes, a numeração sequencial das cobranças oriundas de uma dada clínica estará distribuída entre as operadoras de planos com as quais a clinica trabalha. Se a numeração das cobranças encaminhadas a sua empresa por uma dada clínica é sequencial, você sabe que a referida clinica está encaminhando cobranças apenas à sua empresa. Pesquise o arquivo contendo as cobranças (`ch08_claims.csv`) em busca de cobranças com numeração sequencial oriundas de uma única clinica. Existe alguma clínica encaminhando cobranças com numeração sequencial?\n",
    "\n",
    "**( 3 )** Um adulto possui 32 dentes permanentes. Sua empresa exige que cada pedido de cobrança identifique o paciente tratado (identificado pelo *patient id*) o dente tratado e o tipo de trabalho realizado. Em razão de limitações naturais na quantidade de cáries que podem ser tratadas em uma pessoa, é raro que uma pessoa possua mais do que algumas poucas cáries no período de três meses de sua auditoria (é possível que um dente possua mais de uma cárie). Usando este campo, calcule o número total de cáries tratadas em cada paciente. Existe algum paciente que parece estar visitando o dentista com frequencia acima do que seria esperado?\n",
    "\n",
    "**( 4 )** Pacientes normalmente moram próximos a seus dentistas, visto que para receberem o serviço precisam se deslocar até a clínica. Uma boa pesquisa consiste em calcular a distância entre o endereço do paciente e o endereço da clínica, utilizando um sistema de informações geográficas como Google Maps ou MapQuest. Para esta questão, simplesmente determine se algum paciente mora estado diferente do da clínica utilizada. Há algum paciente nesta condição?\n",
    "\n",
    "Os arquivos de dados, compactados em um arquivo zip, estão disponívies no GitHub.\n",
    "\n",
    "Fique á vontade para submeter sua solução utilizando qualquer aplicativo de análise de dados.\n",
    "\n",
    "Numa escala de de zero a cinco, qual o grau de dificuldade que você atribui a este exercício? \n"
   ]
  }
 ],
 "metadata": {
  "kernelspec": {
   "display_name": "R",
   "language": "R",
   "name": "ir"
  },
  "language_info": {
   "codemirror_mode": "r",
   "file_extension": ".r",
   "mimetype": "text/x-r-source",
   "name": "R",
   "pygments_lexer": "r",
   "version": "3.4.1"
  }
 },
 "nbformat": 4,
 "nbformat_minor": 2
}
