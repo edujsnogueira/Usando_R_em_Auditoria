{
 "cells": [
  {
   "cell_type": "markdown",
   "metadata": {},
   "source": [
    "# Extração de dados de arquivos xml\n",
    "\n",
    "**Marcos F Silva - Dez/2016**"
   ]
  },
  {
   "cell_type": "markdown",
   "metadata": {},
   "source": [
    "## Introdução\n",
    "\n",
    "Este tutoria tem por objetivo ilustrar como realizar a extração de dados de arquivos xml. Especificamente, será mostrado como realizar a extração de dados de arquivos xml relativos ao Demonstrativo de Aplicações e Investimento de Recursos - DAIR.\n",
    "\n",
    "O DAIR é um demonstrativos que os Regimes Próprios de Previdência Social - RPPS devem encaminhar ao Ministério da Fazenda e contém informações sobre a carteira de ativos nos quais o RPPS investe seus recursos financeiros.\n",
    "\n",
    "Os investimentos dos recursos dos RPPS são regulados pela Resolução CMN 3922/10."
   ]
  }
 ],
 "metadata": {
  "kernelspec": {
   "display_name": "R",
   "language": "R",
   "name": "ir"
  },
  "language_info": {
   "codemirror_mode": "r",
   "file_extension": ".r",
   "mimetype": "text/x-r-source",
   "name": "R",
   "pygments_lexer": "r",
   "version": "3.4.1"
  }
 },
 "nbformat": 4,
 "nbformat_minor": 2
}
