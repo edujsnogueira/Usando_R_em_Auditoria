{
 "cells": [
  {
   "cell_type": "markdown",
   "metadata": {},
   "source": [
    "## Teste\n",
    "\n",
    "Utilizar o pacote reticulate para chamar funções em python e inserir um iframe com uma aplicação shiny rodando..."
   ]
  },
  {
   "cell_type": "code",
   "execution_count": 4,
   "metadata": {
    "collapsed": false
   },
   "outputs": [],
   "source": [
    "library(reticulate)\n",
    "IPython.display.HTML(data=None, url=None, filename=None, metadata=None)\n",
    "IPython.display.IFrame(src, width, height, **kwargs)"
   ]
  },
  {
   "cell_type": "code",
   "execution_count": 42,
   "metadata": {
    "collapsed": false
   },
   "outputs": [
    {
     "data": {
      "text/plain": [
       "<IPython.lib.display.IFrame>"
      ]
     },
     "metadata": {},
     "output_type": "display_data"
    }
   ],
   "source": [
    "ipy <- import(\"IPython.display\")\n",
    "#url = 'https://sites.google.com/site/marcosfs2006/'\n",
    "#iframe  <-  paste('<iframe src=\"', url,'\" width=700 height=350></iframe>')\n",
    "#ipy$IPython.display.HTML(iframe)\n",
    "ipy$IFrame(\"https://sites.google.com/site/marcosfs2006/\", 700, 350)"
   ]
  },
  {
   "cell_type": "code",
   "execution_count": null,
   "metadata": {
    "collapsed": false
   },
   "outputs": [],
   "source": []
  },
  {
   "cell_type": "code",
   "execution_count": null,
   "metadata": {
    "collapsed": false
   },
   "outputs": [],
   "source": []
  },
  {
   "cell_type": "markdown",
   "metadata": {},
   "source": [
    "Notebook sobre Lei de Benford   \n",
    "Notebook sobre extração dos dados do DAIR de arquivos pdf   \n"
   ]
  }
 ],
 "metadata": {
  "kernelspec": {
   "display_name": "R",
   "language": "R",
   "name": "ir"
  },
  "language_info": {
   "codemirror_mode": "r",
   "file_extension": ".r",
   "mimetype": "text/x-r-source",
   "name": "R",
   "pygments_lexer": "r",
   "version": "3.4.1"
  }
 },
 "nbformat": 4,
 "nbformat_minor": 2
}
