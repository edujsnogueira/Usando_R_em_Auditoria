{
 "cells": [
  {
   "cell_type": "markdown",
   "metadata": {},
   "source": [
    "# Construção e Análise de Escalas de Likert ( em elaboração... )"
   ]
  },
  {
   "cell_type": "markdown",
   "metadata": {},
   "source": [
    "## Escala de Likert - Construção\n",
    "\n",
    "Passos para a elaboração de uma escala de Likert:\n",
    "\n",
    "* Passo 1 - Geração dos Itens  \n",
    "* Passo 2 - Avaliação da Adequação do Conteúdo   \n",
    "* Passo 3 - Aplicação do Questionário   \n",
    "* Passo 4 - Análise Fatorial   \n",
    "* Passo 5 - Avaliação da Consistência Interna   \n",
    "* Passo 6 - Validade de Contruto   \n",
    "* Passo 7 - Replicação   \n",
    "\n",
    "Uma vez gerados os itens é necessário xxx\n",
    "\n",
    "Dois atributos relevantes em uma boa escala de Likert são a **consistência interna** e o **balanceamento de itens**.\n",
    "\n",
    "A Consistência interna diz respeito a xxx\n",
    "\n",
    "O balanceamento de itens significa...  \n",
    "\n",
    "\n",
    "## Escala de Likert - Análise\n",
    "\n",
    "Para ilustrar como realizar a análise dos dados será o utilizado do conjunto de dados `Pesquisa.xls` que acompanhada o livro [**Análise Fatorial em Administração**](http://www.cengage.com.br/ls/analise-fatorial-em-administracao/) de Franciso Aranha e Felipe Zambaldi.\n",
    "\n",
    "O conjunto de dados contém a resposta de 875 pessoas a um questionário tipo Likert que tem por objetivo avaliar uma empresa de telefonia móvel (Telco) a partir de três fatores: marca, valor e relacionamento.\n",
    "\n",
    "Os itens contidos no questionário são os seguintes:\n",
    "\n",
    "Id | Questão  \n",
    "---|-----------------------------------------------------------------\n",
    "X1 | Qual nota você daria para a *intensidade do sinal* de linha telefônica oferecido pela Telco (para responder, leve em conta a intensidade do sinal de empresas concorrentes)?  \n",
    "X2 | Dê uma nota para a *distribuição geográfica do sinal* de linha telefônica oferecido pela Telco (considere na sua resposta a distribuição geográfica do sinal oferecido por outras empresas)  \n",
    "X3 | Atribua uma nota para a *tecnologia* adotada pela Telco (leve em conta as tecnologias ofetadas pelas empresas concorrentes)\n",
    "X4 | Qual nota você daria ao *atendimento* proporcionado aos clientes da Telco como um todo?\n",
    "X5 | Na sua percepção, qual é o grau de *injustiça nas tarifas* cobradas pela Telco (notas altas correspondem a tarifas muito injustas; notas baixas correspondem a pouca injustiça)?\n",
    "X6 | Avalie, de forma geral, o *plano de serviços* telefônicos que você mantém com a Telco (ao atribuir sua nota, compare seu plano com alternativas disponíveis no mercado).\n",
    "X7 | Qual nota você daria para a *qualidade das informações* que a Telco fornece aos seus clientes?\n",
    "X8 | Qual nota você atribuiria ao *serviço* que a empresa presta a você *particularmente* (avalie o quanto ela supre sua suas necessidades especificas como cliente)?\n",
    "X9 | Qual é o seu grau de *desconfiança* em relação à Telco e seus funcionários (notas altas representam muita desconfiança; notas baixas representam pouca desconfiança)?\n",
    "X10| Qual nota você daria para a *atenção* que a empresa dedica *unicamente* a você como cliente?\n",
    "\n",
    "A importação do conjundo de dados pode ser feita da seguinte forma:"
   ]
  },
  {
   "cell_type": "code",
   "execution_count": 2,
   "metadata": {
    "collapsed": false
   },
   "outputs": [
    {
     "data": {
      "text/html": [
       "<ol class=list-inline>\n",
       "\t<li>875</li>\n",
       "\t<li>10</li>\n",
       "</ol>\n"
      ],
      "text/latex": [
       "\\begin{enumerate*}\n",
       "\\item 875\n",
       "\\item 10\n",
       "\\end{enumerate*}\n"
      ],
      "text/markdown": [
       "1. 875\n",
       "2. 10\n",
       "\n",
       "\n"
      ],
      "text/plain": [
       "[1] 875  10"
      ]
     },
     "metadata": {},
     "output_type": "display_data"
    },
    {
     "data": {
      "text/html": [
       "<table>\n",
       "<thead><tr><th scope=col>X1</th><th scope=col>X2</th><th scope=col>X3</th><th scope=col>X4</th><th scope=col>X5</th><th scope=col>X6</th><th scope=col>X7</th><th scope=col>X8</th><th scope=col>X9</th><th scope=col>X10</th></tr></thead>\n",
       "<tbody>\n",
       "\t<tr><td>2.021634</td><td>3.417002</td><td>3.203575</td><td>4.674381</td><td>7.845196</td><td>4.474652</td><td>1.652540</td><td>3.192175</td><td>7.092796</td><td>2.882242</td></tr>\n",
       "\t<tr><td>2.634654</td><td>4.989637</td><td>3.548522</td><td>5.167249</td><td>7.527241</td><td>5.155799</td><td>2.303569</td><td>3.652853</td><td>7.518412</td><td>3.046624</td></tr>\n",
       "\t<tr><td>2.161853</td><td>4.369748</td><td>3.423754</td><td>5.076795</td><td>7.432190</td><td>4.955571</td><td>3.000841</td><td>4.442697</td><td>6.690318</td><td>3.350822</td></tr>\n",
       "\t<tr><td>2.611833</td><td>5.058855</td><td>3.438870</td><td>5.145240</td><td>7.381899</td><td>5.005566</td><td>3.084402</td><td>4.541976</td><td>6.761366</td><td>3.388591</td></tr>\n",
       "\t<tr><td>2.296529</td><td>2.652786</td><td>3.394790</td><td>4.935702</td><td>7.572431</td><td>4.857968</td><td>2.834656</td><td>4.221692</td><td>6.098145</td><td>3.197836</td></tr>\n",
       "\t<tr><td>2.265094</td><td>4.401388</td><td>3.446864</td><td>4.960152</td><td>7.401869</td><td>4.987190</td><td>4.363538</td><td>4.371027</td><td>6.766362</td><td>3.273597</td></tr>\n",
       "</tbody>\n",
       "</table>\n"
      ],
      "text/latex": [
       "\\begin{tabular}{r|llllllllll}\n",
       " X1 & X2 & X3 & X4 & X5 & X6 & X7 & X8 & X9 & X10\\\\\n",
       "\\hline\n",
       "\t 2.021634 & 3.417002 & 3.203575 & 4.674381 & 7.845196 & 4.474652 & 1.652540 & 3.192175 & 7.092796 & 2.882242\\\\\n",
       "\t 2.634654 & 4.989637 & 3.548522 & 5.167249 & 7.527241 & 5.155799 & 2.303569 & 3.652853 & 7.518412 & 3.046624\\\\\n",
       "\t 2.161853 & 4.369748 & 3.423754 & 5.076795 & 7.432190 & 4.955571 & 3.000841 & 4.442697 & 6.690318 & 3.350822\\\\\n",
       "\t 2.611833 & 5.058855 & 3.438870 & 5.145240 & 7.381899 & 5.005566 & 3.084402 & 4.541976 & 6.761366 & 3.388591\\\\\n",
       "\t 2.296529 & 2.652786 & 3.394790 & 4.935702 & 7.572431 & 4.857968 & 2.834656 & 4.221692 & 6.098145 & 3.197836\\\\\n",
       "\t 2.265094 & 4.401388 & 3.446864 & 4.960152 & 7.401869 & 4.987190 & 4.363538 & 4.371027 & 6.766362 & 3.273597\\\\\n",
       "\\end{tabular}\n"
      ],
      "text/markdown": [
       "\n",
       "X1 | X2 | X3 | X4 | X5 | X6 | X7 | X8 | X9 | X10 | \n",
       "|---|---|---|---|---|---|\n",
       "| 2.021634 | 3.417002 | 3.203575 | 4.674381 | 7.845196 | 4.474652 | 1.652540 | 3.192175 | 7.092796 | 2.882242 | \n",
       "| 2.634654 | 4.989637 | 3.548522 | 5.167249 | 7.527241 | 5.155799 | 2.303569 | 3.652853 | 7.518412 | 3.046624 | \n",
       "| 2.161853 | 4.369748 | 3.423754 | 5.076795 | 7.432190 | 4.955571 | 3.000841 | 4.442697 | 6.690318 | 3.350822 | \n",
       "| 2.611833 | 5.058855 | 3.438870 | 5.145240 | 7.381899 | 5.005566 | 3.084402 | 4.541976 | 6.761366 | 3.388591 | \n",
       "| 2.296529 | 2.652786 | 3.394790 | 4.935702 | 7.572431 | 4.857968 | 2.834656 | 4.221692 | 6.098145 | 3.197836 | \n",
       "| 2.265094 | 4.401388 | 3.446864 | 4.960152 | 7.401869 | 4.987190 | 4.363538 | 4.371027 | 6.766362 | 3.273597 | \n",
       "\n",
       "\n"
      ],
      "text/plain": [
       "  X1       X2       X3       X4       X5       X6       X7       X8      \n",
       "1 2.021634 3.417002 3.203575 4.674381 7.845196 4.474652 1.652540 3.192175\n",
       "2 2.634654 4.989637 3.548522 5.167249 7.527241 5.155799 2.303569 3.652853\n",
       "3 2.161853 4.369748 3.423754 5.076795 7.432190 4.955571 3.000841 4.442697\n",
       "4 2.611833 5.058855 3.438870 5.145240 7.381899 5.005566 3.084402 4.541976\n",
       "5 2.296529 2.652786 3.394790 4.935702 7.572431 4.857968 2.834656 4.221692\n",
       "6 2.265094 4.401388 3.446864 4.960152 7.401869 4.987190 4.363538 4.371027\n",
       "  X9       X10     \n",
       "1 7.092796 2.882242\n",
       "2 7.518412 3.046624\n",
       "3 6.690318 3.350822\n",
       "4 6.761366 3.388591\n",
       "5 6.098145 3.197836\n",
       "6 6.766362 3.273597"
      ]
     },
     "metadata": {},
     "output_type": "display_data"
    }
   ],
   "source": [
    "library(readxl)\n",
    "setwd('C:\\\\Users\\\\Marcos\\\\Documents\\\\GitHub\\\\Usando-R-em-Auditoria\\\\dados\\\\analise_fatorial')\n",
    "pesquisa <- read_excel('Pesquisa.xls')\n",
    "dim(pesquisa)"
   ]
  },
  {
   "cell_type": "code",
   "execution_count": null,
   "metadata": {
    "collapsed": true
   },
   "outputs": [],
   "source": [
    "head(pesquisa)"
   ]
  },
  {
   "cell_type": "markdown",
   "metadata": {},
   "source": [
    "Para uma análise descritiva preliminar, o pacote `Likert` oferece um conjunto de funções bem interessantes para visualização e sumarização."
   ]
  },
  {
   "cell_type": "code",
   "execution_count": null,
   "metadata": {
    "collapsed": true
   },
   "outputs": [],
   "source": [
    "library(likert)"
   ]
  },
  {
   "cell_type": "markdown",
   "metadata": {},
   "source": [
    "Feita uma anális exploratória preliminar, é necessário verificar a consistência do questionário. Usualmente a consistência é aferida por uma medida denominada *alfa de cronbach*. O pacote **`psych`** dispõe da função `xxx` que calcula esta quantidade."
   ]
  },
  {
   "cell_type": "markdown",
   "metadata": {},
   "source": [
    "## Análise Fatorial"
   ]
  },
  {
   "cell_type": "markdown",
   "metadata": {},
   "source": [
    "## Teoria da Resposta ao Item - TRI"
   ]
  },
  {
   "cell_type": "markdown",
   "metadata": {},
   "source": [
    "## Bibliografia"
   ]
  }
 ],
 "metadata": {
  "kernelspec": {
   "display_name": "R-3.3.1",
   "language": "",
   "name": "ir33"
  },
  "language_info": {
   "codemirror_mode": "r",
   "file_extension": ".r",
   "mimetype": "text/x-r-source",
   "name": "R",
   "pygments_lexer": "r",
   "version": "3.3.1"
  }
 },
 "nbformat": 4,
 "nbformat_minor": 0
}
