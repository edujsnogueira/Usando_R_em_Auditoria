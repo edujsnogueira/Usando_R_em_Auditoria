{
 "cells": [
  {
   "cell_type": "markdown",
   "metadata": {},
   "source": [
    "# Extração e análise de dados do extrato previdenciário usando R"
   ]
  },
  {
   "cell_type": "markdown",
   "metadata": {},
   "source": [
    "## Introdução\n",
    "\n",
    "Este tutorial tem por objetivo ilustrar como os dados dos Extratos Previdenciários podem ser obtidos, de forma automatizada, diretamenta da página do Ministério da Previdência.\n",
    "\n",
    "Os CRPs dos diversos Regimes Próprios de Previdência podem ser consultados no site da Ministério da Previdência Social, no seguinte endereço: http://www1.previdencia.gov.br/sps/app/crp/CRPpesquisaEnte.asp\n",
    "\n",
    "O interesse é colher os dados contidos no denominado EXTRATO EXTERNO DOS REGIMES PREVIDENCIÁRIOS cujo exemplar para o município de Itaperuna do Estado do Rio de Janeiro pode ser visualizado no seguinte endereço: http://www1.previdencia.gov.br/sps/app/crp/ExtratoRegularidadeRegimes.asp?CD_CNPJ=28916716000152&time=11:22:09&Rel=N-L-R-D-S-E-P.\n",
    "\n",
    "Este tutorial mostra como capturar automaticamente as informações contidas na coluna **Situação**, para todos os municípios do Estado do Rio de Janeiro que possuam Regime Próprio de Previdência Social.\n",
    "\n",
    "No Estado do Rio de Janeiro 73 municípios (excluindo o município do Rio de Janeiro) instituíram RPPS.\n",
    "\n",
    "\n",
    "\n",
    "## Metodologia\n",
    "\n",
    "Para fazer a extraçao dos dados iniciou-se por verificar a estrutura da URL que leva ao Extrato Previdenciário. Tomando por exemplo a URL do extrato previdenciário do município de Itaperuna, percebe-se a existência de 4 componentes:\n",
    "\n",
    "```\n",
    "http://www1.previdencia.gov.br/sps/app/crp/ExtratoRegularidadeRegimes.asp?   \n",
    "CD_CNPJ=28916716000152   \n",
    "&time=11:22:09   \n",
    "&Rel=N-L-R-D-S-E-P    \n",
    "```\n",
    "\n",
    "As duas componentes variáveis são o CNPJ do município, que é uma informação que pode ser armazenada em um arquivo, e a hora em que a consulta à página é feita.\n",
    "\n",
    "Com estas informações, é possível criar uma função que acessa a página do extrato previdenciário e faz a leitura do conteúdo. Esta função é `captura_pagina()`.\n",
    "\n",
    "Esta função recebe como argumento o CNPJ do município e retorna o conteúdo da página html contendo o Extrato Previdenciário do município consultado.\n",
    "\n",
    "Tendo obtido o conteúdo da página podemos extrair os dados de interesse. Para tanto foi necessário definir outra função que irá capturar o número do CRP, a data de emissão e a data de validade. Esta função é a `capturaCRP()`.\n",
    "\n",
    "A função acima recebe como argumento o conteúdo da página extraído pela função anterior e retorna um vetor contendo o número do CRP, a data de emissão e a data de validade do mesmo.\n",
    "\n",
    "Para extrair o conteúdo do campo Situação do extrato previdenciário, que nos informará a situação do Regime Próprio de Previdência Social em relação a cada uma das 34 exigênciais legais (critérios) que o Regime Próprio deve atender, tem-se a função `extrai_dados_extrato()` que, como a função anterior, recebe como argumento o conteúdo da página html e retorna um vetor contendo o conteúdo do campo Situação.\n",
    "\n",
    "Estas três funções estão definidas no arquivo `crp_RPPS.R` disponível no repositório do GitHub.\n",
    "\n",
    "\n",
    "## Aplicação Prática - Importação dos dados\n",
    "\n",
    "Para utilizar as funções acima, é necessário que se disponha de um arquivo contendo os números dos CNPJ dos municípios para os quais se deseja extrair os dados do Extrato Previdenciário.\n",
    "\n",
    "Estes dados para os municípios do Estado do Rio de Janeiro, estão contidos no arquivo `cnpj_municipios2.csv`.\n",
    "\n",
    "O Ministério da Previdência [disponibiliza uma relação dos CNPJ](http://www.previdencia.gov.br/regimes-proprios/estatsticas-2/) de todos os entes que possuem regime próprio de previdência social. (link *Relação dos entes com RPPS*)\n",
    "\n",
    "A primeira coisa a ser feita é importar os dados deste arquivo:"
   ]
  },
  {
   "cell_type": "code",
   "execution_count": 2,
   "metadata": {
    "collapsed": false
   },
   "outputs": [
    {
     "data": {
      "text/html": [
       "<table>\n",
       "<thead><tr><th scope=col>COD_IBGE</th><th scope=col>MUNICIPIO</th><th scope=col>CNPJ</th></tr></thead>\n",
       "<tbody>\n",
       "\t<tr><td>3300100          </td><td>ANGRA DOS REIS   </td><td>29172467000109   </td></tr>\n",
       "\t<tr><td>3300159          </td><td>APERIBE          </td><td>36288900000123   </td></tr>\n",
       "\t<tr><td>3300209          </td><td>ARARUAMA         </td><td>28531762000133   </td></tr>\n",
       "\t<tr><td>3300225          </td><td>AREAL            </td><td>39554605000160   </td></tr>\n",
       "\t<tr><td>3300233          </td><td>ARMACAO DE BUZIOS</td><td>01616171000102   </td></tr>\n",
       "\t<tr><td>3300308          </td><td>BARRA DO PIRAI   </td><td>28576080000147   </td></tr>\n",
       "</tbody>\n",
       "</table>\n"
      ],
      "text/latex": [
       "\\begin{tabular}{r|lll}\n",
       " COD\\_IBGE & MUNICIPIO & CNPJ\\\\\n",
       "\\hline\n",
       "\t 3300100           & ANGRA DOS REIS    & 29172467000109   \\\\\n",
       "\t 3300159           & APERIBE           & 36288900000123   \\\\\n",
       "\t 3300209           & ARARUAMA          & 28531762000133   \\\\\n",
       "\t 3300225           & AREAL             & 39554605000160   \\\\\n",
       "\t 3300233           & ARMACAO DE BUZIOS & 01616171000102   \\\\\n",
       "\t 3300308           & BARRA DO PIRAI    & 28576080000147   \\\\\n",
       "\\end{tabular}\n"
      ],
      "text/markdown": [
       "\n",
       "COD_IBGE | MUNICIPIO | CNPJ | \n",
       "|---|---|---|---|---|---|\n",
       "| 3300100           | ANGRA DOS REIS    | 29172467000109    | \n",
       "| 3300159           | APERIBE           | 36288900000123    | \n",
       "| 3300209           | ARARUAMA          | 28531762000133    | \n",
       "| 3300225           | AREAL             | 39554605000160    | \n",
       "| 3300233           | ARMACAO DE BUZIOS | 01616171000102    | \n",
       "| 3300308           | BARRA DO PIRAI    | 28576080000147    | \n",
       "\n",
       "\n"
      ],
      "text/plain": [
       "  COD_IBGE MUNICIPIO         CNPJ          \n",
       "1 3300100  ANGRA DOS REIS    29172467000109\n",
       "2 3300159  APERIBE           36288900000123\n",
       "3 3300209  ARARUAMA          28531762000133\n",
       "4 3300225  AREAL             39554605000160\n",
       "5 3300233  ARMACAO DE BUZIOS 01616171000102\n",
       "6 3300308  BARRA DO PIRAI    28576080000147"
      ]
     },
     "metadata": {},
     "output_type": "display_data"
    }
   ],
   "source": [
    "# define o diretório de trabalho\n",
    "setwd(\"C:\\\\Users\\\\Marcos\\\\Documents\\\\GitHub\\\\Usando-R-em-Auditoria\\\\dados\\\\extracao_crp\") \n",
    "\n",
    "# Carrega arquivo contendo os CNPJ dos municípios\n",
    "cnpj <- read.csv2(\"cnpj_municipios2.csv\", colClasses='character')\n",
    "\n",
    "# Exibe o conteúdo do arquivo (seis primeiros registros)\n",
    "head(cnpj)"
   ]
  },
  {
   "cell_type": "markdown",
   "metadata": {},
   "source": [
    "Importados os CNPJ dos municípios, o próximo passo é carregar para o R as funções mencionadas acima. Isso é feito da seguinte forma:"
   ]
  },
  {
   "cell_type": "code",
   "execution_count": 3,
   "metadata": {
    "collapsed": false
   },
   "outputs": [
    {
     "data": {
      "text/html": [
       "<ol class=list-inline>\n",
       "\t<li>'captura_pagina'</li>\n",
       "\t<li>'capturaCRP'</li>\n",
       "\t<li>'cnpj'</li>\n",
       "\t<li>'extrai_dados_extrato'</li>\n",
       "</ol>\n"
      ],
      "text/latex": [
       "\\begin{enumerate*}\n",
       "\\item 'captura\\_pagina'\n",
       "\\item 'capturaCRP'\n",
       "\\item 'cnpj'\n",
       "\\item 'extrai\\_dados\\_extrato'\n",
       "\\end{enumerate*}\n"
      ],
      "text/markdown": [
       "1. 'captura_pagina'\n",
       "2. 'capturaCRP'\n",
       "3. 'cnpj'\n",
       "4. 'extrai_dados_extrato'\n",
       "\n",
       "\n"
      ],
      "text/plain": [
       "[1] \"captura_pagina\"       \"capturaCRP\"           \"cnpj\"                \n",
       "[4] \"extrai_dados_extrato\""
      ]
     },
     "metadata": {},
     "output_type": "display_data"
    }
   ],
   "source": [
    "setwd('C:\\\\Users\\\\Marcos\\\\Documents\\\\GitHub\\\\Usando-R-em-Auditoria\\\\R')\n",
    "\n",
    "# Carregando as funções para o R\n",
    "source(\"crp_RPPS.R\")\n",
    "\n",
    "# Verificando a disponibilidade das funções\n",
    "ls()"
   ]
  },
  {
   "cell_type": "markdown",
   "metadata": {},
   "source": [
    "Agora que as funções estão disponíveis para serem utilizadas, a extração dos dados é feita da seguinte forma:"
   ]
  },
  {
   "cell_type": "code",
   "execution_count": 4,
   "metadata": {
    "collapsed": false
   },
   "outputs": [
    {
     "name": "stderr",
     "output_type": "stream",
     "text": [
      "Loading required package: XML\n",
      "Warning message:\n",
      "\"package 'XML' was built under R version 3.3.2\""
     ]
    },
    {
     "data": {
      "text/html": [
       "<table>\n",
       "<thead><tr><th scope=col>Municipio</th><th scope=col>CRP</th><th scope=col>DtEmissao</th><th scope=col>DtValidade</th><th scope=col>V1</th><th scope=col>V2</th><th scope=col>V3</th><th scope=col>V4</th><th scope=col>V5</th><th scope=col>V6</th><th scope=col>...</th><th scope=col>V25</th><th scope=col>V26</th><th scope=col>V27</th><th scope=col>V28</th><th scope=col>V29</th><th scope=col>V30</th><th scope=col>V31</th><th scope=col>V32</th><th scope=col>V33</th><th scope=col>V34</th></tr></thead>\n",
       "<tbody>\n",
       "\t<tr><td>Município de Angra dos Reis - RJ    </td><td>985801-123896                       </td><td>30/06/2014                          </td><td>27/12/2014                          </td><td>Regular                             </td><td>Regular                             </td><td>Regular                             </td><td>Regular                             </td><td>Irregular                           </td><td>Regular                             </td><td>...                                 </td><td>Irregular                           </td><td>Regular                             </td><td>Regular                             </td><td>Regular                             </td><td>Regular                             </td><td>Regular                             </td><td>Regular                             </td><td>Regular                             </td><td>Regular                             </td><td>Regular                             </td></tr>\n",
       "\t<tr><td>Município de Aperibé - RJ           </td><td>982919-143608                       </td><td>28/07/2016                          </td><td>24/01/2017                          </td><td>Decisão Judicial                    </td><td>Decisão Judicial                    </td><td>Decisão Judicial                    </td><td>Decisão Judicial                    </td><td>Decisão Judicial                    </td><td>Decisão Judicial                    </td><td>...                                 </td><td>Decisão Judicial                    </td><td>Decisão Judicial                    </td><td>Decisão Judicial                    </td><td>Decisão Judicial                    </td><td>Decisão Judicial                    </td><td>Decisão Judicial                    </td><td>Decisão Judicial                    </td><td>Decisão Judicial                    </td><td>Decisão Judicial                    </td><td>Decisão Judicial                    </td></tr>\n",
       "\t<tr><td>Município de Araruama - RJ          </td><td>985803-28572                        </td><td>23/12/2004                          </td><td>21/02/2005                          </td><td>Regular                             </td><td>Regular                             </td><td>Regular                             </td><td>Regular                             </td><td>Regular                             </td><td>Regular                             </td><td>...                                 </td><td>Irregular                           </td><td>Regular                             </td><td>Regular                             </td><td>Regular                             </td><td>Regular                             </td><td>Regular                             </td><td>Regular                             </td><td>Regular                             </td><td>Irregular                           </td><td>Regular                             </td></tr>\n",
       "\t<tr><td>Município de Areal - RJ             </td><td>982925-141921                       </td><td>20/05/2016                          </td><td>16/11/2016                          </td><td>Regular                             </td><td>Regular                             </td><td>Regular                             </td><td>Regular                             </td><td>Irregular                           </td><td>Regular                             </td><td>...                                 </td><td>Regular                             </td><td>Regular                             </td><td>Regular                             </td><td>Regular                             </td><td>Regular                             </td><td>Regular                             </td><td>Regular                             </td><td>Regular                             </td><td>Regular                             </td><td>Regular                             </td></tr>\n",
       "\t<tr><td>Município de Armação dos Búzios - RJ</td><td>980770-134445                       </td><td>22/08/2015                          </td><td>18/02/2016                          </td><td>Regular                             </td><td>Regular                             </td><td>Regular                             </td><td>Regular                             </td><td>Em análise                          </td><td>Regular                             </td><td>...                                 </td><td>Irregular                           </td><td>Regular                             </td><td>Regular                             </td><td>Regular                             </td><td>Regular                             </td><td>Regular                             </td><td>Regular                             </td><td>Regular                             </td><td>Regular                             </td><td>Regular                             </td></tr>\n",
       "\t<tr><td>Município de Barra do Piraí - RJ    </td><td>985805-122786                       </td><td>17/05/2014                          </td><td>13/11/2014                          </td><td>Regular                             </td><td>Regular                             </td><td>Regular                             </td><td>Regular                             </td><td>Regular                             </td><td>Regular                             </td><td>...                                 </td><td>Irregular                           </td><td>Regular                             </td><td>Regular                             </td><td>Regular                             </td><td>Regular                             </td><td>Regular                             </td><td>Regular                             </td><td>Regular                             </td><td>Regular                             </td><td>Regular                             </td></tr>\n",
       "</tbody>\n",
       "</table>\n"
      ],
      "text/latex": [
       "\\begin{tabular}{r|llllllllllllllllllllllllllllllllllllll}\n",
       " Municipio & CRP & DtEmissao & DtValidade & V1 & V2 & V3 & V4 & V5 & V6 & ... & V25 & V26 & V27 & V28 & V29 & V30 & V31 & V32 & V33 & V34\\\\\n",
       "\\hline\n",
       "\t Município de Angra dos Reis - RJ     & 985801-123896                        & 30/06/2014                           & 27/12/2014                           & Regular                              & Regular                              & Regular                              & Regular                              & Irregular                            & Regular                              & ...                                  & Irregular                            & Regular                              & Regular                              & Regular                              & Regular                              & Regular                              & Regular                              & Regular                              & Regular                              & Regular                             \\\\\n",
       "\t Município de Aperibé - RJ            & 982919-143608                        & 28/07/2016                           & 24/01/2017                           & Decisão Judicial                     & Decisão Judicial                     & Decisão Judicial                     & Decisão Judicial                     & Decisão Judicial                     & Decisão Judicial                     & ...                                  & Decisão Judicial                     & Decisão Judicial                     & Decisão Judicial                     & Decisão Judicial                     & Decisão Judicial                     & Decisão Judicial                     & Decisão Judicial                     & Decisão Judicial                     & Decisão Judicial                     & Decisão Judicial                    \\\\\n",
       "\t Município de Araruama - RJ           & 985803-28572                         & 23/12/2004                           & 21/02/2005                           & Regular                              & Regular                              & Regular                              & Regular                              & Regular                              & Regular                              & ...                                  & Irregular                            & Regular                              & Regular                              & Regular                              & Regular                              & Regular                              & Regular                              & Regular                              & Irregular                            & Regular                             \\\\\n",
       "\t Município de Areal - RJ              & 982925-141921                        & 20/05/2016                           & 16/11/2016                           & Regular                              & Regular                              & Regular                              & Regular                              & Irregular                            & Regular                              & ...                                  & Regular                              & Regular                              & Regular                              & Regular                              & Regular                              & Regular                              & Regular                              & Regular                              & Regular                              & Regular                             \\\\\n",
       "\t Município de Armação dos Búzios - RJ & 980770-134445                        & 22/08/2015                           & 18/02/2016                           & Regular                              & Regular                              & Regular                              & Regular                              & Em análise                           & Regular                              & ...                                  & Irregular                            & Regular                              & Regular                              & Regular                              & Regular                              & Regular                              & Regular                              & Regular                              & Regular                              & Regular                             \\\\\n",
       "\t Município de Barra do Piraí - RJ     & 985805-122786                        & 17/05/2014                           & 13/11/2014                           & Regular                              & Regular                              & Regular                              & Regular                              & Regular                              & Regular                              & ...                                  & Irregular                            & Regular                              & Regular                              & Regular                              & Regular                              & Regular                              & Regular                              & Regular                              & Regular                              & Regular                             \\\\\n",
       "\\end{tabular}\n"
      ],
      "text/markdown": [
       "\n",
       "Municipio | CRP | DtEmissao | DtValidade | V1 | V2 | V3 | V4 | V5 | V6 | ... | V25 | V26 | V27 | V28 | V29 | V30 | V31 | V32 | V33 | V34 | \n",
       "|---|---|---|---|---|---|\n",
       "| Município de Angra dos Reis - RJ     | 985801-123896                        | 30/06/2014                           | 27/12/2014                           | Regular                              | Regular                              | Regular                              | Regular                              | Irregular                            | Regular                              | ...                                  | Irregular                            | Regular                              | Regular                              | Regular                              | Regular                              | Regular                              | Regular                              | Regular                              | Regular                              | Regular                              | \n",
       "| Município de Aperibé - RJ            | 982919-143608                        | 28/07/2016                           | 24/01/2017                           | Decisão Judicial                     | Decisão Judicial                     | Decisão Judicial                     | Decisão Judicial                     | Decisão Judicial                     | Decisão Judicial                     | ...                                  | Decisão Judicial                     | Decisão Judicial                     | Decisão Judicial                     | Decisão Judicial                     | Decisão Judicial                     | Decisão Judicial                     | Decisão Judicial                     | Decisão Judicial                     | Decisão Judicial                     | Decisão Judicial                     | \n",
       "| Município de Araruama - RJ           | 985803-28572                         | 23/12/2004                           | 21/02/2005                           | Regular                              | Regular                              | Regular                              | Regular                              | Regular                              | Regular                              | ...                                  | Irregular                            | Regular                              | Regular                              | Regular                              | Regular                              | Regular                              | Regular                              | Regular                              | Irregular                            | Regular                              | \n",
       "| Município de Areal - RJ              | 982925-141921                        | 20/05/2016                           | 16/11/2016                           | Regular                              | Regular                              | Regular                              | Regular                              | Irregular                            | Regular                              | ...                                  | Regular                              | Regular                              | Regular                              | Regular                              | Regular                              | Regular                              | Regular                              | Regular                              | Regular                              | Regular                              | \n",
       "| Município de Armação dos Búzios - RJ | 980770-134445                        | 22/08/2015                           | 18/02/2016                           | Regular                              | Regular                              | Regular                              | Regular                              | Em análise                           | Regular                              | ...                                  | Irregular                            | Regular                              | Regular                              | Regular                              | Regular                              | Regular                              | Regular                              | Regular                              | Regular                              | Regular                              | \n",
       "| Município de Barra do Piraí - RJ     | 985805-122786                        | 17/05/2014                           | 13/11/2014                           | Regular                              | Regular                              | Regular                              | Regular                              | Regular                              | Regular                              | ...                                  | Irregular                            | Regular                              | Regular                              | Regular                              | Regular                              | Regular                              | Regular                              | Regular                              | Regular                              | Regular                              | \n",
       "\n",
       "\n"
      ],
      "text/plain": [
       "  Municipio                            CRP           DtEmissao  DtValidade\n",
       "1 Município de Angra dos Reis - RJ     985801-123896 30/06/2014 27/12/2014\n",
       "2 Município de Aperibé - RJ            982919-143608 28/07/2016 24/01/2017\n",
       "3 Município de Araruama - RJ           985803-28572  23/12/2004 21/02/2005\n",
       "4 Município de Areal - RJ              982925-141921 20/05/2016 16/11/2016\n",
       "5 Município de Armação dos Búzios - RJ 980770-134445 22/08/2015 18/02/2016\n",
       "6 Município de Barra do Piraí - RJ     985805-122786 17/05/2014 13/11/2014\n",
       "  V1               V2               V3               V4              \n",
       "1 Regular          Regular          Regular          Regular         \n",
       "2 Decisão Judicial Decisão Judicial Decisão Judicial Decisão Judicial\n",
       "3 Regular          Regular          Regular          Regular         \n",
       "4 Regular          Regular          Regular          Regular         \n",
       "5 Regular          Regular          Regular          Regular         \n",
       "6 Regular          Regular          Regular          Regular         \n",
       "  V5               V6               ... V25              V26             \n",
       "1 Irregular        Regular          ... Irregular        Regular         \n",
       "2 Decisão Judicial Decisão Judicial ... Decisão Judicial Decisão Judicial\n",
       "3 Regular          Regular          ... Irregular        Regular         \n",
       "4 Irregular        Regular          ... Regular          Regular         \n",
       "5 Em análise       Regular          ... Irregular        Regular         \n",
       "6 Regular          Regular          ... Irregular        Regular         \n",
       "  V27              V28              V29              V30             \n",
       "1 Regular          Regular          Regular          Regular         \n",
       "2 Decisão Judicial Decisão Judicial Decisão Judicial Decisão Judicial\n",
       "3 Regular          Regular          Regular          Regular         \n",
       "4 Regular          Regular          Regular          Regular         \n",
       "5 Regular          Regular          Regular          Regular         \n",
       "6 Regular          Regular          Regular          Regular         \n",
       "  V31              V32              V33              V34             \n",
       "1 Regular          Regular          Regular          Regular         \n",
       "2 Decisão Judicial Decisão Judicial Decisão Judicial Decisão Judicial\n",
       "3 Regular          Regular          Irregular        Regular         \n",
       "4 Regular          Regular          Regular          Regular         \n",
       "5 Regular          Regular          Regular          Regular         \n",
       "6 Regular          Regular          Regular          Regular         "
      ]
     },
     "metadata": {},
     "output_type": "display_data"
    }
   ],
   "source": [
    "dados <- lapply(cnpj$CNPJ, function(x) extrai_dados_extrato(captura_pagina(x)))\n",
    "dados <- as.data.frame(do.call('rbind', dados))\n",
    "dados <- as.data.frame(sapply(dados, as.character))\n",
    "head(dados)    "
   ]
  },
  {
   "cell_type": "markdown",
   "metadata": {},
   "source": [
    "Cada variável `V1`, `V2`, etc, corresponde a um critério do extrato previdenciário. Por exemplo, a variável `V1` corresponde ao critério  `Acesso dos segurados às informações do regime`, a variável `V2`, ao critério  `Aplicações financeiras de acordo com Resolução do CMN - Decisão Administrativa` e assim por diante.\n",
    "\n",
    "A descrição das variáveis consta da tabela a seguir:\n",
    "\n",
    "Variável    |  Descrição  \n",
    "------------|------------  \n",
    "V1          |Acesso dos segurados às informações do regime (acess_seg_inf)  \n",
    "V2          |Aplicações financeiras de acordo com Resolução do CMN - Decisão Administrativa (afin_decadm)     \n",
    "V3          |Aplicações financeiras de acordo com Resolução do CMN - previsão legal (afin_prevleg)   \n",
    "V4          |Atendimento ao Auditor Fiscal em auditoria direta no prazo (atend_audfisc)    \n",
    "V5          |Atendimento ao MPS em auditoria indireta no prazo (atend_mps)    \n",
    "V6          |Caráter contributivo (Ente e Ativos - Alíquotas) (aliq_ente_ativos)    \n",
    "V7          |Caráter contributivo (Ente e Ativos - Repasse) (repasses_ente_ativos)    \n",
    "V8          |Caráter contributivo (Inativos e Pensionistas- Alíquotas) (aliq_inat_pens)    \n",
    "V9          |Caráter contributivo (Inativos e Pensionistas-Repasse)    \n",
    "V10         |Caráter contributivo (pagamento de contribuições parceladas)    \n",
    "V11         |Caráter contributivo (Repasse) - Decisão Administrativa    \n",
    "V12         |Cobertura exclusiva a servidores efetivos    \n",
    "V13         |Concessão de benefícios não distintos do RGPS - previsão legal    \n",
    "V14         |Contas bancárias distintas para os recursos previdenciários      \n",
    "V15         |Convênio ou consórcio para pagamento de benefícios    \n",
    "V16         |Demonstrativo da Política de Investimentos - DPIN    \n",
    "V17         |Demonstrativo das Aplicações e Investimentos dos Recursos - DAIR - Consistência das Informações    \n",
    "V18         |Demonstrativo das Aplicações e Investimentos dos Recursos - DAIR - Encaminhamento à SPS    \n",
    "V19         |Demonstrativo de Informações Previdenciárias e Repasses - DIPR - Consistência e Caráter Contributivo    \n",
    "V20         |Demonstrativo de Informações Previdenciárias e Repasses - DIPR - Encaminhamento à SPPS    \n",
    "V21         |Demonstrativo Previdenciário - Consistência das Informações (demprev_consist)    \n",
    "V22         |Demonstrativo Previdenciário - Encaminhamento à SPS (demprev_encam)    \n",
    "V23         |Demonstrativos Contábeis (contabil)    \n",
    "V24         |Encaminhamento da legislação à SPS (encam_legis)    \n",
    "V25         |Equilíbrio Financeiro e Atuarial - Encaminhamento NTA, DRAA e resultados das análises (encam_draa)    \n",
    "V26         |Equilíbrio Financeiro e Atuarial - Pendências análises DRAA anteriores a 2015 (pend_analise_draa)    \n",
    "V27         |Escrituração de acordo com Plano de Contas (escrituracao)    \n",
    "V28         |Existencia de colegiado ou instância de decisão em que seja garantida a participação dos segurados (colegiado)    \n",
    "V29         |Inclusão de parcelas remuneratórias temporárias nos benefícios (inclus_parc_rem_temp_benef)    \n",
    "V30         |Observância dos limites de contribuição do ente (lim_contr_ente)    \n",
    "V31         |Observância dos limites de contribuição dos segurados e pensionistas (lim_contr_segpens)     \n",
    "V32         |Regras de concessão, cálculo e reajustamento de benefícios (regras_benef)    \n",
    "V33         |Unidade gestora e regime próprio únicos (ug_rpps)  \n",
    "V34         |Utilização dos recursos previdenciários - Decisão Administrativa (util_recprev_decadm)  \n",
    "V35         |Utilização dos recursos previdenciários - Previsão legal (util_recprev_prevleg)    \n",
    "\n",
    "\n"
   ]
  },
  {
   "cell_type": "markdown",
   "metadata": {},
   "source": [
    "Agora é possível identificar, por exemplo, quem está com o CRP vencido, considerando a data atual:"
   ]
  },
  {
   "cell_type": "code",
   "execution_count": 5,
   "metadata": {
    "collapsed": false
   },
   "outputs": [
    {
     "data": {
      "text/html": [
       "48"
      ],
      "text/latex": [
       "48"
      ],
      "text/markdown": [
       "48"
      ],
      "text/plain": [
       "[1] 48"
      ]
     },
     "metadata": {},
     "output_type": "display_data"
    }
   ],
   "source": [
    "qtd_crp_vencidos <- subset(dados, as.Date(DtValidade, '%d/%m/%Y') - as.Date(Sys.time()) < 0 )[,1:4]\n",
    "nrow(qtd_crp_vencidos)"
   ]
  },
  {
   "cell_type": "markdown",
   "metadata": {},
   "source": [
    "Para saber o percentual de RPPS com CRP vencidos, fazemos:"
   ]
  },
  {
   "cell_type": "code",
   "execution_count": 6,
   "metadata": {
    "collapsed": false
   },
   "outputs": [
    {
     "data": {
      "text/html": [
       "'65.75 %'"
      ],
      "text/latex": [
       "'65.75 \\%'"
      ],
      "text/markdown": [
       "'65.75 %'"
      ],
      "text/plain": [
       "[1] \"65.75 %\""
      ]
     },
     "metadata": {},
     "output_type": "display_data"
    }
   ],
   "source": [
    "paste(round(nrow(qtd_crp_vencidos) / nrow(dados) * 100, 2), '%')"
   ]
  },
  {
   "cell_type": "markdown",
   "metadata": {},
   "source": [
    "Para uma listagem dos municípios com Regimes Próprios com o CRP vencido fazemos:"
   ]
  },
  {
   "cell_type": "code",
   "execution_count": 7,
   "metadata": {
    "collapsed": false
   },
   "outputs": [
    {
     "data": {
      "text/html": [
       "<table>\n",
       "<thead><tr><th></th><th scope=col>Municipio</th><th scope=col>CRP</th><th scope=col>DtEmissao</th><th scope=col>DtValidade</th></tr></thead>\n",
       "<tbody>\n",
       "\t<tr><th scope=row>1</th><td>Município de Angra dos Reis - RJ       </td><td>985801-123896                          </td><td>30/06/2014                             </td><td>27/12/2014                             </td></tr>\n",
       "\t<tr><th scope=row>3</th><td>Município de Araruama - RJ             </td><td>985803-28572                           </td><td>23/12/2004                             </td><td>21/02/2005                             </td></tr>\n",
       "\t<tr><th scope=row>4</th><td>Município de Areal - RJ                </td><td>982925-141921                          </td><td>20/05/2016                             </td><td>16/11/2016                             </td></tr>\n",
       "\t<tr><th scope=row>5</th><td>Município de Armação dos Búzios - RJ   </td><td>980770-134445                          </td><td>22/08/2015                             </td><td>18/02/2016                             </td></tr>\n",
       "\t<tr><th scope=row>6</th><td>Município de Barra do Piraí - RJ       </td><td>985805-122786                          </td><td>17/05/2014                             </td><td>13/11/2014                             </td></tr>\n",
       "\t<tr><th scope=row>8</th><td>Município de Belford Roxo - RJ         </td><td>982909-99748                           </td><td>27/09/2011                             </td><td>25/03/2012                             </td></tr>\n",
       "\t<tr><th scope=row>11</th><td>Município de Cachoeiras de Macacu - RJ </td><td>985815-127876                          </td><td>11/12/2014                             </td><td>09/06/2015                             </td></tr>\n",
       "\t<tr><th scope=row>12</th><td>Município de Cambuci - RJ              </td><td>985817-129368                          </td><td>09/02/2015                             </td><td>08/08/2015                             </td></tr>\n",
       "\t<tr><th scope=row>13</th><td>Município de Campos dos Goytacazes - RJ</td><td>985819-127414                          </td><td>25/11/2014                             </td><td>24/05/2015                             </td></tr>\n",
       "\t<tr><th scope=row>15</th><td>Município de Cardoso Moreira - RJ      </td><td>982915-132052                          </td><td>18/05/2015                             </td><td>14/11/2015                             </td></tr>\n",
       "\t<tr><th scope=row>16</th><td>Município de Carmo - RJ                </td><td>985823-142195                          </td><td>30/05/2016                             </td><td>26/11/2016                             </td></tr>\n",
       "\t<tr><th scope=row>19</th><td>Município de Cordeiro - RJ             </td><td>985829-125533                          </td><td>03/09/2014                             </td><td>02/03/2015                             </td></tr>\n",
       "\t<tr><th scope=row>21</th><td>Município de Duque de Caxias - RJ      </td><td>985833-138140                          </td><td>30/12/2015                             </td><td>27/06/2016                             </td></tr>\n",
       "\t<tr><th scope=row>22</th><td>Município de Iguaba Grande - RJ        </td><td>980774-47771                           </td><td>18/05/2007                             </td><td>16/08/2007                             </td></tr>\n",
       "\t<tr><th scope=row>23</th><td>Município de Itaboraí - RJ             </td><td>985837-138113                          </td><td>28/12/2015                             </td><td>25/06/2016                             </td></tr>\n",
       "\t<tr><th scope=row>24</th><td>Município de Itaguaí - RJ              </td><td>985839-132178                          </td><td>20/05/2015                             </td><td>16/11/2015                             </td></tr>\n",
       "\t<tr><th scope=row>26</th><td>Município de Itaocara - RJ             </td><td>985841-88200                           </td><td>28/07/2010                             </td><td>24/01/2011                             </td></tr>\n",
       "\t<tr><th scope=row>27</th><td>Município de Itaperuna - RJ            </td><td>985843-124648                          </td><td>28/07/2014                             </td><td>24/01/2015                             </td></tr>\n",
       "\t<tr><th scope=row>28</th><td>Município de Itatiaia - RJ             </td><td>986003-120207                          </td><td>31/01/2014                             </td><td>30/07/2014                             </td></tr>\n",
       "\t<tr><th scope=row>29</th><td>Município de Japeri - RJ               </td><td>982913-130551                          </td><td>30/03/2015                             </td><td>26/09/2015                             </td></tr>\n",
       "\t<tr><th scope=row>30</th><td>Município de Laje do Muriaé - RJ       </td><td>985845-134921                          </td><td>10/09/2015                             </td><td>08/03/2016                             </td></tr>\n",
       "\t<tr><th scope=row>32</th><td>Município de Magé - RJ                 </td><td>985849-30352                           </td><td>02/03/2005                             </td><td>01/05/2005                             </td></tr>\n",
       "\t<tr><th scope=row>35</th><td>Município de Mendes - RJ               </td><td>985855-135974                          </td><td>21/10/2015                             </td><td>18/04/2016                             </td></tr>\n",
       "\t<tr><th scope=row>36</th><td>Município de Mesquita - RJ             </td><td>981116-133965                          </td><td>28/07/2015                             </td><td>24/01/2016                             </td></tr>\n",
       "\t<tr><th scope=row>37</th><td>Município de Miguel Pereira - RJ       </td><td>985857-134187                          </td><td>10/08/2015                             </td><td>06/02/2016                             </td></tr>\n",
       "\t<tr><th scope=row>38</th><td>Município de Miracema - RJ             </td><td>985859-119074                          </td><td>18/12/2013                             </td><td>16/06/2014                             </td></tr>\n",
       "\t<tr><th scope=row>39</th><td>Município de Natividade - RJ           </td><td>985861-127117                          </td><td>12/11/2014                             </td><td>11/05/2015                             </td></tr>\n",
       "\t<tr><th scope=row>40</th><td>Município de Nilópolis - RJ            </td><td>985863-139553                          </td><td>29/02/2016                             </td><td>27/08/2016                             </td></tr>\n",
       "\t<tr><th scope=row>44</th><td>Município de Paraíba do Sul - RJ       </td><td>985873-138490                          </td><td>13/01/2016                             </td><td>11/07/2016                             </td></tr>\n",
       "\t<tr><th scope=row>45</th><td>Município de Paty do Alferes - RJ      </td><td>986005-134303                          </td><td>12/08/2015                             </td><td>08/02/2016                             </td></tr>\n",
       "\t<tr><th scope=row>46</th><td>Município de Petrópolis - RJ           </td><td>985877-141891                          </td><td>19/05/2016                             </td><td>15/11/2016                             </td></tr>\n",
       "\t<tr><th scope=row>48</th><td>Município de Piraí - RJ                </td><td>985879-142059                          </td><td>26/05/2016                             </td><td>22/11/2016                             </td></tr>\n",
       "\t<tr><th scope=row>49</th><td>Município de Porciúncula - RJ          </td><td>985881-142600                          </td><td>16/06/2016                             </td><td>13/12/2016                             </td></tr>\n",
       "\t<tr><th scope=row>50</th><td>Município de Quatis - RJ               </td><td>982923-125256                          </td><td>25/08/2014                             </td><td>21/02/2015                             </td></tr>\n",
       "\t<tr><th scope=row>54</th><td>Município de Rio Claro - RJ            </td><td>985887-127923                          </td><td>15/12/2014                             </td><td>13/06/2015                             </td></tr>\n",
       "\t<tr><th scope=row>57</th><td>Município de São Fidélis - RJ          </td><td>985895-123975                          </td><td>02/07/2014                             </td><td>29/12/2014                             </td></tr>\n",
       "\t<tr><th scope=row>58</th><td>Município de São Gonçalo - RJ          </td><td>985897-114709                          </td><td>08/07/2013                             </td><td>04/01/2014                             </td></tr>\n",
       "\t<tr><th scope=row>59</th><td>Município de São João de Meriti - RJ   </td><td>985901-133318                          </td><td>30/06/2015                             </td><td>27/12/2015                             </td></tr>\n",
       "\t<tr><th scope=row>61</th><td>Município de São Pedro da Aldeia - RJ  </td><td>985903-122379                          </td><td>29/04/2014                             </td><td>26/10/2014                             </td></tr>\n",
       "\t<tr><th scope=row>62</th><td>Município de São Sebastião do Alto - RJ</td><td>985905-133815                          </td><td>20/07/2015                             </td><td>16/01/2016                             </td></tr>\n",
       "\t<tr><th scope=row>63</th><td>Município de Sapucaia - RJ             </td><td>985907-130449                          </td><td>26/03/2015                             </td><td>22/09/2015                             </td></tr>\n",
       "\t<tr><th scope=row>64</th><td>Município de Saquarema - RJ            </td><td>985909-128153                          </td><td>22/12/2014                             </td><td>20/06/2015                             </td></tr>\n",
       "\t<tr><th scope=row>66</th><td>Município de Silva Jardim - RJ         </td><td>985911-135198                          </td><td>21/09/2015                             </td><td>19/03/2016                             </td></tr>\n",
       "\t<tr><th scope=row>67</th><td>Município de Sumidouro - RJ            </td><td>985913-133836                          </td><td>21/07/2015                             </td><td>17/01/2016                             </td></tr>\n",
       "\t<tr><th scope=row>68</th><td>Município de Teresópolis - RJ          </td><td>985915-110144                          </td><td>21/12/2012                             </td><td>19/06/2013                             </td></tr>\n",
       "\t<tr><th scope=row>69</th><td>Município de Trajano de Moraes - RJ    </td><td>985917-133476                          </td><td>07/07/2015                             </td><td>03/01/2016                             </td></tr>\n",
       "\t<tr><th scope=row>70</th><td>Município de Valença - RJ              </td><td>985921-98141                           </td><td>11/08/2011                             </td><td>07/02/2012                             </td></tr>\n",
       "\t<tr><th scope=row>72</th><td>Município de Vassouras - RJ            </td><td>985923-135110                          </td><td>14/09/2015                             </td><td>12/03/2016                             </td></tr>\n",
       "</tbody>\n",
       "</table>\n"
      ],
      "text/latex": [
       "\\begin{tabular}{r|llll}\n",
       "  & Municipio & CRP & DtEmissao & DtValidade\\\\\n",
       "\\hline\n",
       "\t1 & Município de Angra dos Reis - RJ        & 985801-123896                           & 30/06/2014                              & 27/12/2014                             \\\\\n",
       "\t3 & Município de Araruama - RJ              & 985803-28572                            & 23/12/2004                              & 21/02/2005                             \\\\\n",
       "\t4 & Município de Areal - RJ                 & 982925-141921                           & 20/05/2016                              & 16/11/2016                             \\\\\n",
       "\t5 & Município de Armação dos Búzios - RJ    & 980770-134445                           & 22/08/2015                              & 18/02/2016                             \\\\\n",
       "\t6 & Município de Barra do Piraí - RJ        & 985805-122786                           & 17/05/2014                              & 13/11/2014                             \\\\\n",
       "\t8 & Município de Belford Roxo - RJ          & 982909-99748                            & 27/09/2011                              & 25/03/2012                             \\\\\n",
       "\t11 & Município de Cachoeiras de Macacu - RJ  & 985815-127876                           & 11/12/2014                              & 09/06/2015                             \\\\\n",
       "\t12 & Município de Cambuci - RJ               & 985817-129368                           & 09/02/2015                              & 08/08/2015                             \\\\\n",
       "\t13 & Município de Campos dos Goytacazes - RJ & 985819-127414                           & 25/11/2014                              & 24/05/2015                             \\\\\n",
       "\t15 & Município de Cardoso Moreira - RJ       & 982915-132052                           & 18/05/2015                              & 14/11/2015                             \\\\\n",
       "\t16 & Município de Carmo - RJ                 & 985823-142195                           & 30/05/2016                              & 26/11/2016                             \\\\\n",
       "\t19 & Município de Cordeiro - RJ              & 985829-125533                           & 03/09/2014                              & 02/03/2015                             \\\\\n",
       "\t21 & Município de Duque de Caxias - RJ       & 985833-138140                           & 30/12/2015                              & 27/06/2016                             \\\\\n",
       "\t22 & Município de Iguaba Grande - RJ         & 980774-47771                            & 18/05/2007                              & 16/08/2007                             \\\\\n",
       "\t23 & Município de Itaboraí - RJ              & 985837-138113                           & 28/12/2015                              & 25/06/2016                             \\\\\n",
       "\t24 & Município de Itaguaí - RJ               & 985839-132178                           & 20/05/2015                              & 16/11/2015                             \\\\\n",
       "\t26 & Município de Itaocara - RJ              & 985841-88200                            & 28/07/2010                              & 24/01/2011                             \\\\\n",
       "\t27 & Município de Itaperuna - RJ             & 985843-124648                           & 28/07/2014                              & 24/01/2015                             \\\\\n",
       "\t28 & Município de Itatiaia - RJ              & 986003-120207                           & 31/01/2014                              & 30/07/2014                             \\\\\n",
       "\t29 & Município de Japeri - RJ                & 982913-130551                           & 30/03/2015                              & 26/09/2015                             \\\\\n",
       "\t30 & Município de Laje do Muriaé - RJ        & 985845-134921                           & 10/09/2015                              & 08/03/2016                             \\\\\n",
       "\t32 & Município de Magé - RJ                  & 985849-30352                            & 02/03/2005                              & 01/05/2005                             \\\\\n",
       "\t35 & Município de Mendes - RJ                & 985855-135974                           & 21/10/2015                              & 18/04/2016                             \\\\\n",
       "\t36 & Município de Mesquita - RJ              & 981116-133965                           & 28/07/2015                              & 24/01/2016                             \\\\\n",
       "\t37 & Município de Miguel Pereira - RJ        & 985857-134187                           & 10/08/2015                              & 06/02/2016                             \\\\\n",
       "\t38 & Município de Miracema - RJ              & 985859-119074                           & 18/12/2013                              & 16/06/2014                             \\\\\n",
       "\t39 & Município de Natividade - RJ            & 985861-127117                           & 12/11/2014                              & 11/05/2015                             \\\\\n",
       "\t40 & Município de Nilópolis - RJ             & 985863-139553                           & 29/02/2016                              & 27/08/2016                             \\\\\n",
       "\t44 & Município de Paraíba do Sul - RJ        & 985873-138490                           & 13/01/2016                              & 11/07/2016                             \\\\\n",
       "\t45 & Município de Paty do Alferes - RJ       & 986005-134303                           & 12/08/2015                              & 08/02/2016                             \\\\\n",
       "\t46 & Município de Petrópolis - RJ            & 985877-141891                           & 19/05/2016                              & 15/11/2016                             \\\\\n",
       "\t48 & Município de Piraí - RJ                 & 985879-142059                           & 26/05/2016                              & 22/11/2016                             \\\\\n",
       "\t49 & Município de Porciúncula - RJ           & 985881-142600                           & 16/06/2016                              & 13/12/2016                             \\\\\n",
       "\t50 & Município de Quatis - RJ                & 982923-125256                           & 25/08/2014                              & 21/02/2015                             \\\\\n",
       "\t54 & Município de Rio Claro - RJ             & 985887-127923                           & 15/12/2014                              & 13/06/2015                             \\\\\n",
       "\t57 & Município de São Fidélis - RJ           & 985895-123975                           & 02/07/2014                              & 29/12/2014                             \\\\\n",
       "\t58 & Município de São Gonçalo - RJ           & 985897-114709                           & 08/07/2013                              & 04/01/2014                             \\\\\n",
       "\t59 & Município de São João de Meriti - RJ    & 985901-133318                           & 30/06/2015                              & 27/12/2015                             \\\\\n",
       "\t61 & Município de São Pedro da Aldeia - RJ   & 985903-122379                           & 29/04/2014                              & 26/10/2014                             \\\\\n",
       "\t62 & Município de São Sebastião do Alto - RJ & 985905-133815                           & 20/07/2015                              & 16/01/2016                             \\\\\n",
       "\t63 & Município de Sapucaia - RJ              & 985907-130449                           & 26/03/2015                              & 22/09/2015                             \\\\\n",
       "\t64 & Município de Saquarema - RJ             & 985909-128153                           & 22/12/2014                              & 20/06/2015                             \\\\\n",
       "\t66 & Município de Silva Jardim - RJ          & 985911-135198                           & 21/09/2015                              & 19/03/2016                             \\\\\n",
       "\t67 & Município de Sumidouro - RJ             & 985913-133836                           & 21/07/2015                              & 17/01/2016                             \\\\\n",
       "\t68 & Município de Teresópolis - RJ           & 985915-110144                           & 21/12/2012                              & 19/06/2013                             \\\\\n",
       "\t69 & Município de Trajano de Moraes - RJ     & 985917-133476                           & 07/07/2015                              & 03/01/2016                             \\\\\n",
       "\t70 & Município de Valença - RJ               & 985921-98141                            & 11/08/2011                              & 07/02/2012                             \\\\\n",
       "\t72 & Município de Vassouras - RJ             & 985923-135110                           & 14/09/2015                              & 12/03/2016                             \\\\\n",
       "\\end{tabular}\n"
      ],
      "text/markdown": [
       "\n",
       "| <!--/--> | Municipio | CRP | DtEmissao | DtValidade | \n",
       "|---|---|---|---|---|---|---|---|---|---|---|---|---|---|---|---|---|---|---|---|---|---|---|---|---|---|---|---|---|---|---|---|---|---|---|---|---|---|---|---|---|---|---|---|---|---|---|---|\n",
       "| 1 | Município de Angra dos Reis - RJ        | 985801-123896                           | 30/06/2014                              | 27/12/2014                              | \n",
       "| 3 | Município de Araruama - RJ              | 985803-28572                            | 23/12/2004                              | 21/02/2005                              | \n",
       "| 4 | Município de Areal - RJ                 | 982925-141921                           | 20/05/2016                              | 16/11/2016                              | \n",
       "| 5 | Município de Armação dos Búzios - RJ    | 980770-134445                           | 22/08/2015                              | 18/02/2016                              | \n",
       "| 6 | Município de Barra do Piraí - RJ        | 985805-122786                           | 17/05/2014                              | 13/11/2014                              | \n",
       "| 8 | Município de Belford Roxo - RJ          | 982909-99748                            | 27/09/2011                              | 25/03/2012                              | \n",
       "| 11 | Município de Cachoeiras de Macacu - RJ  | 985815-127876                           | 11/12/2014                              | 09/06/2015                              | \n",
       "| 12 | Município de Cambuci - RJ               | 985817-129368                           | 09/02/2015                              | 08/08/2015                              | \n",
       "| 13 | Município de Campos dos Goytacazes - RJ | 985819-127414                           | 25/11/2014                              | 24/05/2015                              | \n",
       "| 15 | Município de Cardoso Moreira - RJ       | 982915-132052                           | 18/05/2015                              | 14/11/2015                              | \n",
       "| 16 | Município de Carmo - RJ                 | 985823-142195                           | 30/05/2016                              | 26/11/2016                              | \n",
       "| 19 | Município de Cordeiro - RJ              | 985829-125533                           | 03/09/2014                              | 02/03/2015                              | \n",
       "| 21 | Município de Duque de Caxias - RJ       | 985833-138140                           | 30/12/2015                              | 27/06/2016                              | \n",
       "| 22 | Município de Iguaba Grande - RJ         | 980774-47771                            | 18/05/2007                              | 16/08/2007                              | \n",
       "| 23 | Município de Itaboraí - RJ              | 985837-138113                           | 28/12/2015                              | 25/06/2016                              | \n",
       "| 24 | Município de Itaguaí - RJ               | 985839-132178                           | 20/05/2015                              | 16/11/2015                              | \n",
       "| 26 | Município de Itaocara - RJ              | 985841-88200                            | 28/07/2010                              | 24/01/2011                              | \n",
       "| 27 | Município de Itaperuna - RJ             | 985843-124648                           | 28/07/2014                              | 24/01/2015                              | \n",
       "| 28 | Município de Itatiaia - RJ              | 986003-120207                           | 31/01/2014                              | 30/07/2014                              | \n",
       "| 29 | Município de Japeri - RJ                | 982913-130551                           | 30/03/2015                              | 26/09/2015                              | \n",
       "| 30 | Município de Laje do Muriaé - RJ        | 985845-134921                           | 10/09/2015                              | 08/03/2016                              | \n",
       "| 32 | Município de Magé - RJ                  | 985849-30352                            | 02/03/2005                              | 01/05/2005                              | \n",
       "| 35 | Município de Mendes - RJ                | 985855-135974                           | 21/10/2015                              | 18/04/2016                              | \n",
       "| 36 | Município de Mesquita - RJ              | 981116-133965                           | 28/07/2015                              | 24/01/2016                              | \n",
       "| 37 | Município de Miguel Pereira - RJ        | 985857-134187                           | 10/08/2015                              | 06/02/2016                              | \n",
       "| 38 | Município de Miracema - RJ              | 985859-119074                           | 18/12/2013                              | 16/06/2014                              | \n",
       "| 39 | Município de Natividade - RJ            | 985861-127117                           | 12/11/2014                              | 11/05/2015                              | \n",
       "| 40 | Município de Nilópolis - RJ             | 985863-139553                           | 29/02/2016                              | 27/08/2016                              | \n",
       "| 44 | Município de Paraíba do Sul - RJ        | 985873-138490                           | 13/01/2016                              | 11/07/2016                              | \n",
       "| 45 | Município de Paty do Alferes - RJ       | 986005-134303                           | 12/08/2015                              | 08/02/2016                              | \n",
       "| 46 | Município de Petrópolis - RJ            | 985877-141891                           | 19/05/2016                              | 15/11/2016                              | \n",
       "| 48 | Município de Piraí - RJ                 | 985879-142059                           | 26/05/2016                              | 22/11/2016                              | \n",
       "| 49 | Município de Porciúncula - RJ           | 985881-142600                           | 16/06/2016                              | 13/12/2016                              | \n",
       "| 50 | Município de Quatis - RJ                | 982923-125256                           | 25/08/2014                              | 21/02/2015                              | \n",
       "| 54 | Município de Rio Claro - RJ             | 985887-127923                           | 15/12/2014                              | 13/06/2015                              | \n",
       "| 57 | Município de São Fidélis - RJ           | 985895-123975                           | 02/07/2014                              | 29/12/2014                              | \n",
       "| 58 | Município de São Gonçalo - RJ           | 985897-114709                           | 08/07/2013                              | 04/01/2014                              | \n",
       "| 59 | Município de São João de Meriti - RJ    | 985901-133318                           | 30/06/2015                              | 27/12/2015                              | \n",
       "| 61 | Município de São Pedro da Aldeia - RJ   | 985903-122379                           | 29/04/2014                              | 26/10/2014                              | \n",
       "| 62 | Município de São Sebastião do Alto - RJ | 985905-133815                           | 20/07/2015                              | 16/01/2016                              | \n",
       "| 63 | Município de Sapucaia - RJ              | 985907-130449                           | 26/03/2015                              | 22/09/2015                              | \n",
       "| 64 | Município de Saquarema - RJ             | 985909-128153                           | 22/12/2014                              | 20/06/2015                              | \n",
       "| 66 | Município de Silva Jardim - RJ          | 985911-135198                           | 21/09/2015                              | 19/03/2016                              | \n",
       "| 67 | Município de Sumidouro - RJ             | 985913-133836                           | 21/07/2015                              | 17/01/2016                              | \n",
       "| 68 | Município de Teresópolis - RJ           | 985915-110144                           | 21/12/2012                              | 19/06/2013                              | \n",
       "| 69 | Município de Trajano de Moraes - RJ     | 985917-133476                           | 07/07/2015                              | 03/01/2016                              | \n",
       "| 70 | Município de Valença - RJ               | 985921-98141                            | 11/08/2011                              | 07/02/2012                              | \n",
       "| 72 | Município de Vassouras - RJ             | 985923-135110                           | 14/09/2015                              | 12/03/2016                              | \n",
       "\n",
       "\n"
      ],
      "text/plain": [
       "   Municipio                               CRP           DtEmissao  DtValidade\n",
       "1  Município de Angra dos Reis - RJ        985801-123896 30/06/2014 27/12/2014\n",
       "3  Município de Araruama - RJ              985803-28572  23/12/2004 21/02/2005\n",
       "4  Município de Areal - RJ                 982925-141921 20/05/2016 16/11/2016\n",
       "5  Município de Armação dos Búzios - RJ    980770-134445 22/08/2015 18/02/2016\n",
       "6  Município de Barra do Piraí - RJ        985805-122786 17/05/2014 13/11/2014\n",
       "8  Município de Belford Roxo - RJ          982909-99748  27/09/2011 25/03/2012\n",
       "11 Município de Cachoeiras de Macacu - RJ  985815-127876 11/12/2014 09/06/2015\n",
       "12 Município de Cambuci - RJ               985817-129368 09/02/2015 08/08/2015\n",
       "13 Município de Campos dos Goytacazes - RJ 985819-127414 25/11/2014 24/05/2015\n",
       "15 Município de Cardoso Moreira - RJ       982915-132052 18/05/2015 14/11/2015\n",
       "16 Município de Carmo - RJ                 985823-142195 30/05/2016 26/11/2016\n",
       "19 Município de Cordeiro - RJ              985829-125533 03/09/2014 02/03/2015\n",
       "21 Município de Duque de Caxias - RJ       985833-138140 30/12/2015 27/06/2016\n",
       "22 Município de Iguaba Grande - RJ         980774-47771  18/05/2007 16/08/2007\n",
       "23 Município de Itaboraí - RJ              985837-138113 28/12/2015 25/06/2016\n",
       "24 Município de Itaguaí - RJ               985839-132178 20/05/2015 16/11/2015\n",
       "26 Município de Itaocara - RJ              985841-88200  28/07/2010 24/01/2011\n",
       "27 Município de Itaperuna - RJ             985843-124648 28/07/2014 24/01/2015\n",
       "28 Município de Itatiaia - RJ              986003-120207 31/01/2014 30/07/2014\n",
       "29 Município de Japeri - RJ                982913-130551 30/03/2015 26/09/2015\n",
       "30 Município de Laje do Muriaé - RJ        985845-134921 10/09/2015 08/03/2016\n",
       "32 Município de Magé - RJ                  985849-30352  02/03/2005 01/05/2005\n",
       "35 Município de Mendes - RJ                985855-135974 21/10/2015 18/04/2016\n",
       "36 Município de Mesquita - RJ              981116-133965 28/07/2015 24/01/2016\n",
       "37 Município de Miguel Pereira - RJ        985857-134187 10/08/2015 06/02/2016\n",
       "38 Município de Miracema - RJ              985859-119074 18/12/2013 16/06/2014\n",
       "39 Município de Natividade - RJ            985861-127117 12/11/2014 11/05/2015\n",
       "40 Município de Nilópolis - RJ             985863-139553 29/02/2016 27/08/2016\n",
       "44 Município de Paraíba do Sul - RJ        985873-138490 13/01/2016 11/07/2016\n",
       "45 Município de Paty do Alferes - RJ       986005-134303 12/08/2015 08/02/2016\n",
       "46 Município de Petrópolis - RJ            985877-141891 19/05/2016 15/11/2016\n",
       "48 Município de Piraí - RJ                 985879-142059 26/05/2016 22/11/2016\n",
       "49 Município de Porciúncula - RJ           985881-142600 16/06/2016 13/12/2016\n",
       "50 Município de Quatis - RJ                982923-125256 25/08/2014 21/02/2015\n",
       "54 Município de Rio Claro - RJ             985887-127923 15/12/2014 13/06/2015\n",
       "57 Município de São Fidélis - RJ           985895-123975 02/07/2014 29/12/2014\n",
       "58 Município de São Gonçalo - RJ           985897-114709 08/07/2013 04/01/2014\n",
       "59 Município de São João de Meriti - RJ    985901-133318 30/06/2015 27/12/2015\n",
       "61 Município de São Pedro da Aldeia - RJ   985903-122379 29/04/2014 26/10/2014\n",
       "62 Município de São Sebastião do Alto - RJ 985905-133815 20/07/2015 16/01/2016\n",
       "63 Município de Sapucaia - RJ              985907-130449 26/03/2015 22/09/2015\n",
       "64 Município de Saquarema - RJ             985909-128153 22/12/2014 20/06/2015\n",
       "66 Município de Silva Jardim - RJ          985911-135198 21/09/2015 19/03/2016\n",
       "67 Município de Sumidouro - RJ             985913-133836 21/07/2015 17/01/2016\n",
       "68 Município de Teresópolis - RJ           985915-110144 21/12/2012 19/06/2013\n",
       "69 Município de Trajano de Moraes - RJ     985917-133476 07/07/2015 03/01/2016\n",
       "70 Município de Valença - RJ               985921-98141  11/08/2011 07/02/2012\n",
       "72 Município de Vassouras - RJ             985923-135110 14/09/2015 12/03/2016"
      ]
     },
     "metadata": {},
     "output_type": "display_data"
    }
   ],
   "source": [
    "subset(dados, as.Date(DtValidade, '%d/%m/%Y') - as.Date(Sys.time()) < 0 )[,1:4]"
   ]
  },
  {
   "cell_type": "markdown",
   "metadata": {},
   "source": [
    "Obtida a base de dados, podemos salvá-la para uso posterior. Isso pode ser feito da seguinte forma:"
   ]
  },
  {
   "cell_type": "code",
   "execution_count": 8,
   "metadata": {
    "collapsed": true
   },
   "outputs": [],
   "source": [
    "save(dados, file=paste(\"CRP_DtGer_\", format(Sys.time(), \"%d-%m-%Y\"), \".RData\", sep=\"\"))"
   ]
  },
  {
   "cell_type": "markdown",
   "metadata": {},
   "source": [
    "O comando acima salva a base de dados com o nome `CRP_DtGer_dd-mm-yyyy.RData` no formato do R, onde `dd`, `mm` e `yyyy` representam, respectivamente o dia, mês e ano em que o comando foi executado. \n",
    "\n",
    "Caso se deseje utilizar este conjunto de dados novamente é só carregá-lo no R, sem precisar fazer a extração novamente.\n",
    "\n",
    "A extração pode ser feita periodicamente com o objetivo de monitorar os municípios com relação a situação dos CRP."
   ]
  },
  {
   "cell_type": "markdown",
   "metadata": {},
   "source": [
    "## Estratificação"
   ]
  },
  {
   "cell_type": "markdown",
   "metadata": {},
   "source": [
    "Vamos criar uma nova coluna na base de dados que indique a quantidade de dias decorridos entre a data de validade do CRP e a data atual. Valores negativos indicarão CRP vencidos e valores positivos CRP a vencer. Isso pode ser feito da seguinte forma:"
   ]
  },
  {
   "cell_type": "code",
   "execution_count": 9,
   "metadata": {
    "collapsed": false
   },
   "outputs": [
    {
     "data": {
      "text/html": [
       "<table>\n",
       "<thead><tr><th scope=col>Municipio</th><th scope=col>CRP</th><th scope=col>DtEmissao</th><th scope=col>DtValidade</th><th scope=col>dias</th></tr></thead>\n",
       "<tbody>\n",
       "\t<tr><td>Município de Angra dos Reis - RJ    </td><td>985801-123896                       </td><td>2014-06-30                          </td><td>2014-12-27                          </td><td> -739                               </td></tr>\n",
       "\t<tr><td>Município de Aperibé - RJ           </td><td>982919-143608                       </td><td>2016-07-28                          </td><td>2017-01-24                          </td><td>   20                               </td></tr>\n",
       "\t<tr><td>Município de Araruama - RJ          </td><td>985803-28572                        </td><td>2004-12-23                          </td><td>2005-02-21                          </td><td>-4335                               </td></tr>\n",
       "\t<tr><td>Município de Areal - RJ             </td><td>982925-141921                       </td><td>2016-05-20                          </td><td>2016-11-16                          </td><td>  -49                               </td></tr>\n",
       "\t<tr><td>Município de Armação dos Búzios - RJ</td><td>980770-134445                       </td><td>2015-08-22                          </td><td>2016-02-18                          </td><td> -321                               </td></tr>\n",
       "\t<tr><td>Município de Barra do Piraí - RJ    </td><td>985805-122786                       </td><td>2014-05-17                          </td><td>2014-11-13                          </td><td> -783                               </td></tr>\n",
       "</tbody>\n",
       "</table>\n"
      ],
      "text/latex": [
       "\\begin{tabular}{r|lllll}\n",
       " Municipio & CRP & DtEmissao & DtValidade & dias\\\\\n",
       "\\hline\n",
       "\t Município de Angra dos Reis - RJ     & 985801-123896                        & 2014-06-30                           & 2014-12-27                           &  -739                               \\\\\n",
       "\t Município de Aperibé - RJ            & 982919-143608                        & 2016-07-28                           & 2017-01-24                           &    20                               \\\\\n",
       "\t Município de Araruama - RJ           & 985803-28572                         & 2004-12-23                           & 2005-02-21                           & -4335                               \\\\\n",
       "\t Município de Areal - RJ              & 982925-141921                        & 2016-05-20                           & 2016-11-16                           &   -49                               \\\\\n",
       "\t Município de Armação dos Búzios - RJ & 980770-134445                        & 2015-08-22                           & 2016-02-18                           &  -321                               \\\\\n",
       "\t Município de Barra do Piraí - RJ     & 985805-122786                        & 2014-05-17                           & 2014-11-13                           &  -783                               \\\\\n",
       "\\end{tabular}\n"
      ],
      "text/markdown": [
       "\n",
       "Municipio | CRP | DtEmissao | DtValidade | dias | \n",
       "|---|---|---|---|---|---|\n",
       "| Município de Angra dos Reis - RJ     | 985801-123896                        | 2014-06-30                           | 2014-12-27                           |  -739                                | \n",
       "| Município de Aperibé - RJ            | 982919-143608                        | 2016-07-28                           | 2017-01-24                           |    20                                | \n",
       "| Município de Araruama - RJ           | 985803-28572                         | 2004-12-23                           | 2005-02-21                           | -4335                                | \n",
       "| Município de Areal - RJ              | 982925-141921                        | 2016-05-20                           | 2016-11-16                           |   -49                                | \n",
       "| Município de Armação dos Búzios - RJ | 980770-134445                        | 2015-08-22                           | 2016-02-18                           |  -321                                | \n",
       "| Município de Barra do Piraí - RJ     | 985805-122786                        | 2014-05-17                           | 2014-11-13                           |  -783                                | \n",
       "\n",
       "\n"
      ],
      "text/plain": [
       "  Municipio                            CRP           DtEmissao  DtValidade\n",
       "1 Município de Angra dos Reis - RJ     985801-123896 2014-06-30 2014-12-27\n",
       "2 Município de Aperibé - RJ            982919-143608 2016-07-28 2017-01-24\n",
       "3 Município de Araruama - RJ           985803-28572  2004-12-23 2005-02-21\n",
       "4 Município de Areal - RJ              982925-141921 2016-05-20 2016-11-16\n",
       "5 Município de Armação dos Búzios - RJ 980770-134445 2015-08-22 2016-02-18\n",
       "6 Município de Barra do Piraí - RJ     985805-122786 2014-05-17 2014-11-13\n",
       "  dias \n",
       "1  -739\n",
       "2    20\n",
       "3 -4335\n",
       "4   -49\n",
       "5  -321\n",
       "6  -783"
      ]
     },
     "metadata": {},
     "output_type": "display_data"
    }
   ],
   "source": [
    "dados$DtEmissao  <- as.Date(dados$DtEmissao,  '%d/%m/%Y')\n",
    "dados$DtValidade <- as.Date(dados$DtValidade, '%d/%m/%Y')\n",
    "dados$dias <- as.numeric(dados$DtValidade - as.Date(Sys.time()))\n",
    "head(dados[,c(1:4, ncol(dados))])"
   ]
  },
  {
   "cell_type": "markdown",
   "metadata": {},
   "source": [
    "Criada esta nova coluna, podemos agora criar uma nova coluna contendo a seguinte categorização dos dados:\n",
    "\n",
    "- Vencido_Mais_1_ano (> 365 dias)  \n",
    "- Vencido_181_365_dias   \n",
    "- Vencido_ate_180_dias\n",
    "- A_vencer_30_dias   \n",
    "- A_vencer_31_60_dias   \n",
    "- A_vencer_61_90_dias   \n",
    "- A_vencer_91_180_dias   \n",
    "- A_vencer_Mais_180_dias   \n",
    "\n",
    "Isto pode ser feito da seguinte forma:"
   ]
  },
  {
   "cell_type": "code",
   "execution_count": 35,
   "metadata": {
    "collapsed": true
   },
   "outputs": [],
   "source": [
    "dados$faixas <- cut(dados$dias,\n",
    "                    breaks=c(-Inf, -366, -181, 0, 30, 60, 90, 180, +Inf),\n",
    "                    labels=c('Vencido_mais_1_ano', 'Vencido_181_365_dias', 'Vencido_ate_180_dias', 'A_vencer_30_dias',\n",
    "                             'A_vencer_31_60_dias', 'A_vencer_61_90_dias', 'A_vencer_91_180_dias', 'A_vencer_mais_180_dias'))\n"
   ]
  },
  {
   "cell_type": "code",
   "execution_count": 36,
   "metadata": {
    "collapsed": false
   },
   "outputs": [
    {
     "data": {
      "text/html": [
       "<table>\n",
       "<thead><tr><th scope=col>Municipio</th><th scope=col>CRP</th><th scope=col>DtEmissao</th><th scope=col>DtValidade</th><th scope=col>faixas</th></tr></thead>\n",
       "<tbody>\n",
       "\t<tr><td>Município de Angra dos Reis - RJ    </td><td>985801-123896                       </td><td>2014-06-30                          </td><td>2014-12-27                          </td><td>Vencido_mais_1_ano                  </td></tr>\n",
       "\t<tr><td>Município de Aperibé - RJ           </td><td>982919-143608                       </td><td>2016-07-28                          </td><td>2017-01-24                          </td><td>A_vencer_30_dias                    </td></tr>\n",
       "\t<tr><td>Município de Araruama - RJ          </td><td>985803-28572                        </td><td>2004-12-23                          </td><td>2005-02-21                          </td><td>Vencido_mais_1_ano                  </td></tr>\n",
       "\t<tr><td>Município de Areal - RJ             </td><td>982925-141921                       </td><td>2016-05-20                          </td><td>2016-11-16                          </td><td>Vencido_ate_180_dias                </td></tr>\n",
       "\t<tr><td>Município de Armação dos Búzios - RJ</td><td>980770-134445                       </td><td>2015-08-22                          </td><td>2016-02-18                          </td><td>Vencido_181_365_dias                </td></tr>\n",
       "\t<tr><td>Município de Barra do Piraí - RJ    </td><td>985805-122786                       </td><td>2014-05-17                          </td><td>2014-11-13                          </td><td>Vencido_mais_1_ano                  </td></tr>\n",
       "</tbody>\n",
       "</table>\n"
      ],
      "text/latex": [
       "\\begin{tabular}{r|lllll}\n",
       " Municipio & CRP & DtEmissao & DtValidade & faixas\\\\\n",
       "\\hline\n",
       "\t Município de Angra dos Reis - RJ     & 985801-123896                        & 2014-06-30                           & 2014-12-27                           & Vencido\\_mais\\_1\\_ano            \\\\\n",
       "\t Município de Aperibé - RJ            & 982919-143608                        & 2016-07-28                           & 2017-01-24                           & A\\_vencer\\_30\\_dias              \\\\\n",
       "\t Município de Araruama - RJ           & 985803-28572                         & 2004-12-23                           & 2005-02-21                           & Vencido\\_mais\\_1\\_ano            \\\\\n",
       "\t Município de Areal - RJ              & 982925-141921                        & 2016-05-20                           & 2016-11-16                           & Vencido\\_ate\\_180\\_dias          \\\\\n",
       "\t Município de Armação dos Búzios - RJ & 980770-134445                        & 2015-08-22                           & 2016-02-18                           & Vencido\\_181\\_365\\_dias          \\\\\n",
       "\t Município de Barra do Piraí - RJ     & 985805-122786                        & 2014-05-17                           & 2014-11-13                           & Vencido\\_mais\\_1\\_ano            \\\\\n",
       "\\end{tabular}\n"
      ],
      "text/markdown": [
       "\n",
       "Municipio | CRP | DtEmissao | DtValidade | faixas | \n",
       "|---|---|---|---|---|---|\n",
       "| Município de Angra dos Reis - RJ     | 985801-123896                        | 2014-06-30                           | 2014-12-27                           | Vencido_mais_1_ano                   | \n",
       "| Município de Aperibé - RJ            | 982919-143608                        | 2016-07-28                           | 2017-01-24                           | A_vencer_30_dias                     | \n",
       "| Município de Araruama - RJ           | 985803-28572                         | 2004-12-23                           | 2005-02-21                           | Vencido_mais_1_ano                   | \n",
       "| Município de Areal - RJ              | 982925-141921                        | 2016-05-20                           | 2016-11-16                           | Vencido_ate_180_dias                 | \n",
       "| Município de Armação dos Búzios - RJ | 980770-134445                        | 2015-08-22                           | 2016-02-18                           | Vencido_181_365_dias                 | \n",
       "| Município de Barra do Piraí - RJ     | 985805-122786                        | 2014-05-17                           | 2014-11-13                           | Vencido_mais_1_ano                   | \n",
       "\n",
       "\n"
      ],
      "text/plain": [
       "  Municipio                            CRP           DtEmissao  DtValidade\n",
       "1 Município de Angra dos Reis - RJ     985801-123896 2014-06-30 2014-12-27\n",
       "2 Município de Aperibé - RJ            982919-143608 2016-07-28 2017-01-24\n",
       "3 Município de Araruama - RJ           985803-28572  2004-12-23 2005-02-21\n",
       "4 Município de Areal - RJ              982925-141921 2016-05-20 2016-11-16\n",
       "5 Município de Armação dos Búzios - RJ 980770-134445 2015-08-22 2016-02-18\n",
       "6 Município de Barra do Piraí - RJ     985805-122786 2014-05-17 2014-11-13\n",
       "  faixas              \n",
       "1 Vencido_mais_1_ano  \n",
       "2 A_vencer_30_dias    \n",
       "3 Vencido_mais_1_ano  \n",
       "4 Vencido_ate_180_dias\n",
       "5 Vencido_181_365_dias\n",
       "6 Vencido_mais_1_ano  "
      ]
     },
     "metadata": {},
     "output_type": "display_data"
    }
   ],
   "source": [
    "head(dados[,c(1:4, ncol(dados))])"
   ]
  },
  {
   "cell_type": "markdown",
   "metadata": {},
   "source": [
    "Feita a estratificação, o passo seguinte é calcular quantos RPPS estão em cada uma das categorias definidas. Para tanto vamos utilizar o pacote **`dplyr`**. "
   ]
  },
  {
   "cell_type": "code",
   "execution_count": 37,
   "metadata": {
    "collapsed": false
   },
   "outputs": [
    {
     "data": {
      "text/html": [
       "<table>\n",
       "<thead><tr><th scope=col>faixas</th><th scope=col>Qtd_RPPS</th></tr></thead>\n",
       "<tbody>\n",
       "\t<tr><td>Vencido_mais_1_ano  </td><td>29                  </td></tr>\n",
       "\t<tr><td>Vencido_181_365_dias</td><td>12                  </td></tr>\n",
       "\t<tr><td>Vencido_ate_180_dias</td><td> 7                  </td></tr>\n",
       "\t<tr><td>A_vencer_30_dias    </td><td> 3                  </td></tr>\n",
       "\t<tr><td>A_vencer_31_60_dias </td><td> 4                  </td></tr>\n",
       "\t<tr><td>A_vencer_61_90_dias </td><td> 5                  </td></tr>\n",
       "\t<tr><td>A_vencer_91_180_dias</td><td>11                  </td></tr>\n",
       "\t<tr><td>NA                  </td><td> 2                  </td></tr>\n",
       "</tbody>\n",
       "</table>\n"
      ],
      "text/latex": [
       "\\begin{tabular}{r|ll}\n",
       " faixas & Qtd\\_RPPS\\\\\n",
       "\\hline\n",
       "\t Vencido\\_mais\\_1\\_ano   & 29                        \\\\\n",
       "\t Vencido\\_181\\_365\\_dias & 12                        \\\\\n",
       "\t Vencido\\_ate\\_180\\_dias &  7                        \\\\\n",
       "\t A\\_vencer\\_30\\_dias     &  3                        \\\\\n",
       "\t A\\_vencer\\_31\\_60\\_dias  &  4                          \\\\\n",
       "\t A\\_vencer\\_61\\_90\\_dias  &  5                          \\\\\n",
       "\t A\\_vencer\\_91\\_180\\_dias & 11                          \\\\\n",
       "\t NA                   &  2                  \\\\\n",
       "\\end{tabular}\n"
      ],
      "text/markdown": [
       "\n",
       "faixas | Qtd_RPPS | \n",
       "|---|---|---|---|---|---|---|---|\n",
       "| Vencido_mais_1_ano   | 29                   | \n",
       "| Vencido_181_365_dias | 12                   | \n",
       "| Vencido_ate_180_dias |  7                   | \n",
       "| A_vencer_30_dias     |  3                   | \n",
       "| A_vencer_31_60_dias  |  4                   | \n",
       "| A_vencer_61_90_dias  |  5                   | \n",
       "| A_vencer_91_180_dias | 11                   | \n",
       "| NA                   |  2                   | \n",
       "\n",
       "\n"
      ],
      "text/plain": [
       "  faixas               Qtd_RPPS\n",
       "1 Vencido_mais_1_ano   29      \n",
       "2 Vencido_181_365_dias 12      \n",
       "3 Vencido_ate_180_dias  7      \n",
       "4 A_vencer_30_dias      3      \n",
       "5 A_vencer_31_60_dias   4      \n",
       "6 A_vencer_61_90_dias   5      \n",
       "7 A_vencer_91_180_dias 11      \n",
       "8 NA                    2      "
      ]
     },
     "metadata": {},
     "output_type": "display_data"
    }
   ],
   "source": [
    "library(dplyr)\n",
    "tab <- dados %>%\n",
    "         group_by(faixas) %>%\n",
    "         summarize(Qtd_RPPS = n())\n",
    "\n",
    "tab"
   ]
  },
  {
   "cell_type": "markdown",
   "metadata": {},
   "source": [
    "Uma visualização dos dados contidos na tabela acima pode ser vista a seguir:"
   ]
  },
  {
   "cell_type": "code",
   "execution_count": 38,
   "metadata": {
    "collapsed": false
   },
   "outputs": [
    {
     "data": {},
     "metadata": {},
     "output_type": "display_data"
    },
    {
     "data": {
      "image/png": "[encoded data removed]",
      "text/plain": [
       "plot without title"
      ]
     },
     "metadata": {},
     "output_type": "display_data"
    }
   ],
   "source": [
    "options(repr.plot.width = 5, repr.plot.height = 3) \n",
    "library(ggplot2)\n",
    "ggplot(tab, aes(x=faixas, y=Qtd_RPPS)) + \n",
    "   geom_bar(stat='identity', fill='lightgreen') + \n",
    "   coord_flip()\n",
    "\n"
   ]
  },
  {
   "cell_type": "markdown",
   "metadata": {},
   "source": [
    "A data de referência para a execução da estratificação é:"
   ]
  },
  {
   "cell_type": "code",
   "execution_count": 33,
   "metadata": {
    "collapsed": false
   },
   "outputs": [
    {
     "data": {
      "text/plain": [
       "[1] \"2017-01-04 20:55:21 BRST\""
      ]
     },
     "metadata": {},
     "output_type": "display_data"
    }
   ],
   "source": [
    "Sys.time()"
   ]
  },
  {
   "cell_type": "markdown",
   "metadata": {},
   "source": [
    "Temos dois NAs. Vamos identificá-los:"
   ]
  },
  {
   "cell_type": "code",
   "execution_count": 34,
   "metadata": {
    "collapsed": false,
    "scrolled": true
   },
   "outputs": [
    {
     "data": {
      "text/html": [
       "<table>\n",
       "<thead><tr><th></th><th scope=col>Municipio</th><th scope=col>CRP</th><th scope=col>DtEmissao</th><th scope=col>DtValidade</th></tr></thead>\n",
       "<tbody>\n",
       "\t<tr><th scope=row>9</th><td>Município de Bom Jardim - RJ</td><td>985809-137945               </td><td>NA                          </td><td>NA                          </td></tr>\n",
       "\t<tr><th scope=row>53</th><td>Município de Rio Bonito - RJ</td><td>985885-117820               </td><td>NA                          </td><td>NA                          </td></tr>\n",
       "</tbody>\n",
       "</table>\n"
      ],
      "text/latex": [
       "\\begin{tabular}{r|llll}\n",
       "  & Municipio & CRP & DtEmissao & DtValidade\\\\\n",
       "\\hline\n",
       "\t9 & Município de Bom Jardim - RJ & 985809-137945                & NA                           & NA                          \\\\\n",
       "\t53 & Município de Rio Bonito - RJ & 985885-117820                & NA                           & NA                          \\\\\n",
       "\\end{tabular}\n"
      ],
      "text/markdown": [
       "\n",
       "| <!--/--> | Municipio | CRP | DtEmissao | DtValidade | \n",
       "|---|---|\n",
       "| 9 | Município de Bom Jardim - RJ | 985809-137945                | NA                           | NA                           | \n",
       "| 53 | Município de Rio Bonito - RJ | 985885-117820                | NA                           | NA                           | \n",
       "\n",
       "\n"
      ],
      "text/plain": [
       "   Municipio                    CRP           DtEmissao DtValidade\n",
       "9  Município de Bom Jardim - RJ 985809-137945 <NA>      <NA>      \n",
       "53 Município de Rio Bonito - RJ 985885-117820 <NA>      <NA>      "
      ]
     },
     "metadata": {},
     "output_type": "display_data"
    }
   ],
   "source": [
    "subset(dados, is.na(faixas))[,1:4]"
   ]
  },
  {
   "cell_type": "markdown",
   "metadata": {},
   "source": [
    "   "
   ]
  },
  {
   "cell_type": "markdown",
   "metadata": {},
   "source": [
    "**Marcos F Silva**"
   ]
  }
 ],
 "metadata": {
  "kernelspec": {
   "display_name": "R-3.3.1",
   "language": "",
   "name": "ir33"
  },
  "language_info": {
   "codemirror_mode": "r",
   "file_extension": ".r",
   "mimetype": "text/x-r-source",
   "name": "R",
   "pygments_lexer": "r",
   "version": "3.3.1"
  }
 },
 "nbformat": 4,
 "nbformat_minor": 0
}
