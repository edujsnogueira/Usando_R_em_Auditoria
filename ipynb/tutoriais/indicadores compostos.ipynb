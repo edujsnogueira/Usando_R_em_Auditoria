{
 "cells": [
  {
   "cell_type": "markdown",
   "metadata": {},
   "source": [
    "# Ponderação de Indicadores Compostos\n",
    "\n",
    "**Marcos F Silva - Dez/2017**"
   ]
  },
  {
   "cell_type": "markdown",
   "metadata": {},
   "source": [
    "Este tutorial tem por objetivo ilustrar como calcular pesos para a criação de indicadores compostos utilizando **análise fatorial** e reproduz o exemplo apresentado no [*Handbook on Constructing Composite Indicators - Methodology and User Guide*](http://www.oecd.org/els/soc/handbookonconstructingcompositeindicatorsmethodologyanduserguide.htm) da OECD.\n",
    "\n",
    "De acordo com o referido manual, um **indicador** é uma medida quantitativa ou qualitativa obtida a partir da observação de uma série de fatos e que podem revelar posições relativas dos objetos mensurados em uma dada área.\n",
    "\n",
    "Um **indicador composto**, ainda de acordo com o referido manual, é obtido a partir da compilação de indicadores individuais em um índice a partir de um <u>modelo subjacente</u>. Idealmente, um indicador composto deve mensuarar conceitos multidimensionais que não podem ser capturados com um único indicador.\n",
    "\n",
    "Para ilustrar o cálculo dos pesos a serem atribuídos aos indicadores que comporão o indicador composto, será utilizado o conjunto de dados `dados_oecd.xlsx` que contém dados para 23 países relativos a oito variáveis que compõem o Índice de Aquisição de Tecnologia (*Technology Achievement Index*). O conjunto de dados em questão consta da tabela A.2 do Apêndice do referido manual. \n",
    "\n",
    "A importação do conjunto de dados pode ser feita da seguinte forma:"
   ]
  },
  {
   "cell_type": "code",
   "execution_count": 3,
   "metadata": {
    "collapsed": false
   },
   "outputs": [],
   "source": [
    "library(readxl)\n",
    "setwd(\"..\\\\..\\\\dados\\\\indicador_composto\")\n",
    "dados <- read_excel(\"dados_oecd.xlsx\")"
   ]
  },
  {
   "cell_type": "code",
   "execution_count": 4,
   "metadata": {
    "collapsed": false
   },
   "outputs": [
    {
     "data": {
      "text/html": [
       "<table>\n",
       "<thead><tr><th scope=col>PAIS</th><th scope=col>PATENTS</th><th scope=col>ROYALTIES</th><th scope=col>INTERNET</th><th scope=col>EXPORTS</th><th scope=col>LOG_TELEPHONES</th><th scope=col>LOG_ELECTRICITY</th><th scope=col>SCHOOLING</th><th scope=col>UNIVERSITY</th></tr></thead>\n",
       "<tbody>\n",
       "\t<tr><td>FINLAND       </td><td>187           </td><td>125.6         </td><td>200.2         </td><td>50.7          </td><td>3.08          </td><td>4.15          </td><td>10.0          </td><td>27.4          </td></tr>\n",
       "\t<tr><td>UNITES STATES </td><td>289           </td><td>130.0         </td><td>179.1         </td><td>66.2          </td><td>3.00          </td><td>4.07          </td><td>12.0          </td><td>13.9          </td></tr>\n",
       "\t<tr><td>SWEDEN        </td><td>271           </td><td>156.6         </td><td>125.8         </td><td>59.7          </td><td>3.10          </td><td>4.14          </td><td>11.4          </td><td>15.3          </td></tr>\n",
       "\t<tr><td>JAPAN         </td><td>994           </td><td> 64.6         </td><td> 49.0         </td><td>80.8          </td><td>3.00          </td><td>3.86          </td><td> 9.5          </td><td>10.0          </td></tr>\n",
       "\t<tr><td>KOREA         </td><td>779           </td><td>  9.8         </td><td>  4.8         </td><td>66.7          </td><td>2.97          </td><td>3.65          </td><td>10.8          </td><td>23.2          </td></tr>\n",
       "\t<tr><td>NETHERLANDS   </td><td>189           </td><td>151.2         </td><td>136.0         </td><td>50.9          </td><td>3.02          </td><td>3.77          </td><td> 9.4          </td><td> 9.5          </td></tr>\n",
       "\t<tr><td>UNITED KINGDOM</td><td> 82           </td><td>134.0         </td><td> 57.4         </td><td>61.9          </td><td>3.02          </td><td>3.73          </td><td> 9.4          </td><td>14.9          </td></tr>\n",
       "\t<tr><td>CANADA        </td><td> 31           </td><td> 38.6         </td><td>108.0         </td><td>48.7          </td><td>2.94          </td><td>4.18          </td><td>11.6          </td><td>14.2          </td></tr>\n",
       "\t<tr><td>AUSTRALIA     </td><td> 75           </td><td> 18.2         </td><td>125.9         </td><td>16.2          </td><td>2.94          </td><td>3.94          </td><td>10.9          </td><td>25.3          </td></tr>\n",
       "\t<tr><td>SINGAPORE     </td><td>  8           </td><td> 25.5         </td><td> 72.3         </td><td>74.9          </td><td>2.95          </td><td>3.83          </td><td> 7.1          </td><td>24.2          </td></tr>\n",
       "\t<tr><td>GERMANY       </td><td>235           </td><td> 36.8         </td><td> 41.2         </td><td>64.2          </td><td>2.94          </td><td>3.75          </td><td>10.2          </td><td>14.4          </td></tr>\n",
       "\t<tr><td>NORWAY        </td><td>103           </td><td> 20.2         </td><td>193.6         </td><td>19.0          </td><td>3.12          </td><td>4.39          </td><td>11.9          </td><td>11.2          </td></tr>\n",
       "\t<tr><td>IRELAND       </td><td>106           </td><td>110.3         </td><td> 48.6         </td><td>53.6          </td><td>2.97          </td><td>3.68          </td><td> 9.4          </td><td>12.3          </td></tr>\n",
       "\t<tr><td>BELGIUM       </td><td> 72           </td><td> 73.9         </td><td> 58.9         </td><td>47.6          </td><td>2.91          </td><td>3.86          </td><td> 9.3          </td><td>13.6          </td></tr>\n",
       "\t<tr><td>NEW ZEALAND   </td><td>103           </td><td> 13.0         </td><td>146.7         </td><td>15.4          </td><td>2.86          </td><td>3.91          </td><td>11.7          </td><td>13.1          </td></tr>\n",
       "\t<tr><td>AUSTRIA       </td><td>165           </td><td> 14.8         </td><td> 84.2         </td><td>50.3          </td><td>2.99          </td><td>3.79          </td><td> 8.4          </td><td>13.6          </td></tr>\n",
       "\t<tr><td>FRANCE        </td><td>205           </td><td> 33.6         </td><td> 36.4         </td><td>58.9          </td><td>2.97          </td><td>3.80          </td><td> 7.9          </td><td>12.6          </td></tr>\n",
       "\t<tr><td>ISRAEL        </td><td> 74           </td><td> 43.6         </td><td> 43.2         </td><td>45.0          </td><td>2.96          </td><td>3.74          </td><td> 9.6          </td><td>11.0          </td></tr>\n",
       "\t<tr><td>SPAIN         </td><td> 42           </td><td>  8.6         </td><td> 21.0         </td><td>53.4          </td><td>2.86          </td><td>2.62          </td><td> 7.3          </td><td>15.6          </td></tr>\n",
       "\t<tr><td>ITALY         </td><td> 13           </td><td>  9.8         </td><td> 30.4         </td><td>51.0          </td><td>3.00          </td><td>3.65          </td><td> 7.2          </td><td>13.0          </td></tr>\n",
       "\t<tr><td>CZECH REPUBLIC</td><td> 28           </td><td>  4.2         </td><td> 25.0         </td><td>51.7          </td><td>2.75          </td><td>3.68          </td><td> 9.5          </td><td> 8.2          </td></tr>\n",
       "\t<tr><td>HUNGARY       </td><td> 26           </td><td>  6.2         </td><td> 21.6         </td><td>63.5          </td><td>2.73          </td><td>3.46          </td><td> 9.1          </td><td> 7.7          </td></tr>\n",
       "\t<tr><td>SLOVENIA      </td><td>105           </td><td>  4.0         </td><td> 20.3         </td><td>49.5          </td><td>2.84          </td><td>3.71          </td><td> 7.1          </td><td>10.6          </td></tr>\n",
       "</tbody>\n",
       "</table>\n"
      ],
      "text/latex": [
       "\\begin{tabular}{r|lllllllll}\n",
       " PAIS & PATENTS & ROYALTIES & INTERNET & EXPORTS & LOG\\_TELEPHONES & LOG\\_ELECTRICITY & SCHOOLING & UNIVERSITY\\\\\n",
       "\\hline\n",
       "\t FINLAND        & 187            & 125.6          & 200.2          & 50.7           & 3.08           & 4.15           & 10.0           & 27.4          \\\\\n",
       "\t UNITES STATES  & 289            & 130.0          & 179.1          & 66.2           & 3.00           & 4.07           & 12.0           & 13.9          \\\\\n",
       "\t SWEDEN         & 271            & 156.6          & 125.8          & 59.7           & 3.10           & 4.14           & 11.4           & 15.3          \\\\\n",
       "\t JAPAN          & 994            &  64.6          &  49.0          & 80.8           & 3.00           & 3.86           &  9.5           & 10.0          \\\\\n",
       "\t KOREA          & 779            &   9.8          &   4.8          & 66.7           & 2.97           & 3.65           & 10.8           & 23.2          \\\\\n",
       "\t NETHERLANDS    & 189            & 151.2          & 136.0          & 50.9           & 3.02           & 3.77           &  9.4           &  9.5          \\\\\n",
       "\t UNITED KINGDOM &  82            & 134.0          &  57.4          & 61.9           & 3.02           & 3.73           &  9.4           & 14.9          \\\\\n",
       "\t CANADA         &  31            &  38.6          & 108.0          & 48.7           & 2.94           & 4.18           & 11.6           & 14.2          \\\\\n",
       "\t AUSTRALIA      &  75            &  18.2          & 125.9          & 16.2           & 2.94           & 3.94           & 10.9           & 25.3          \\\\\n",
       "\t SINGAPORE      &   8            &  25.5          &  72.3          & 74.9           & 2.95           & 3.83           &  7.1           & 24.2          \\\\\n",
       "\t GERMANY        & 235            &  36.8          &  41.2          & 64.2           & 2.94           & 3.75           & 10.2           & 14.4          \\\\\n",
       "\t NORWAY         & 103            &  20.2          & 193.6          & 19.0           & 3.12           & 4.39           & 11.9           & 11.2          \\\\\n",
       "\t IRELAND        & 106            & 110.3          &  48.6          & 53.6           & 2.97           & 3.68           &  9.4           & 12.3          \\\\\n",
       "\t BELGIUM        &  72            &  73.9          &  58.9          & 47.6           & 2.91           & 3.86           &  9.3           & 13.6          \\\\\n",
       "\t NEW ZEALAND    & 103            &  13.0          & 146.7          & 15.4           & 2.86           & 3.91           & 11.7           & 13.1          \\\\\n",
       "\t AUSTRIA        & 165            &  14.8          &  84.2          & 50.3           & 2.99           & 3.79           &  8.4           & 13.6          \\\\\n",
       "\t FRANCE         & 205            &  33.6          &  36.4          & 58.9           & 2.97           & 3.80           &  7.9           & 12.6          \\\\\n",
       "\t ISRAEL         &  74            &  43.6          &  43.2          & 45.0           & 2.96           & 3.74           &  9.6           & 11.0          \\\\\n",
       "\t SPAIN          &  42            &   8.6          &  21.0          & 53.4           & 2.86           & 2.62           &  7.3           & 15.6          \\\\\n",
       "\t ITALY          &  13            &   9.8          &  30.4          & 51.0           & 3.00           & 3.65           &  7.2           & 13.0          \\\\\n",
       "\t CZECH REPUBLIC &  28            &   4.2          &  25.0          & 51.7           & 2.75           & 3.68           &  9.5           &  8.2          \\\\\n",
       "\t HUNGARY        &  26            &   6.2          &  21.6          & 63.5           & 2.73           & 3.46           &  9.1           &  7.7          \\\\\n",
       "\t SLOVENIA       & 105            &   4.0          &  20.3          & 49.5           & 2.84           & 3.71           &  7.1           & 10.6          \\\\\n",
       "\\end{tabular}\n"
      ],
      "text/markdown": [
       "\n",
       "PAIS | PATENTS | ROYALTIES | INTERNET | EXPORTS | LOG_TELEPHONES | LOG_ELECTRICITY | SCHOOLING | UNIVERSITY | \n",
       "|---|---|---|---|---|---|---|---|---|---|---|---|---|---|---|---|---|---|---|---|---|---|---|\n",
       "| FINLAND        | 187            | 125.6          | 200.2          | 50.7           | 3.08           | 4.15           | 10.0           | 27.4           | \n",
       "| UNITES STATES  | 289            | 130.0          | 179.1          | 66.2           | 3.00           | 4.07           | 12.0           | 13.9           | \n",
       "| SWEDEN         | 271            | 156.6          | 125.8          | 59.7           | 3.10           | 4.14           | 11.4           | 15.3           | \n",
       "| JAPAN          | 994            |  64.6          |  49.0          | 80.8           | 3.00           | 3.86           |  9.5           | 10.0           | \n",
       "| KOREA          | 779            |   9.8          |   4.8          | 66.7           | 2.97           | 3.65           | 10.8           | 23.2           | \n",
       "| NETHERLANDS    | 189            | 151.2          | 136.0          | 50.9           | 3.02           | 3.77           |  9.4           |  9.5           | \n",
       "| UNITED KINGDOM |  82            | 134.0          |  57.4          | 61.9           | 3.02           | 3.73           |  9.4           | 14.9           | \n",
       "| CANADA         |  31            |  38.6          | 108.0          | 48.7           | 2.94           | 4.18           | 11.6           | 14.2           | \n",
       "| AUSTRALIA      |  75            |  18.2          | 125.9          | 16.2           | 2.94           | 3.94           | 10.9           | 25.3           | \n",
       "| SINGAPORE      |   8            |  25.5          |  72.3          | 74.9           | 2.95           | 3.83           |  7.1           | 24.2           | \n",
       "| GERMANY        | 235            |  36.8          |  41.2          | 64.2           | 2.94           | 3.75           | 10.2           | 14.4           | \n",
       "| NORWAY         | 103            |  20.2          | 193.6          | 19.0           | 3.12           | 4.39           | 11.9           | 11.2           | \n",
       "| IRELAND        | 106            | 110.3          |  48.6          | 53.6           | 2.97           | 3.68           |  9.4           | 12.3           | \n",
       "| BELGIUM        |  72            |  73.9          |  58.9          | 47.6           | 2.91           | 3.86           |  9.3           | 13.6           | \n",
       "| NEW ZEALAND    | 103            |  13.0          | 146.7          | 15.4           | 2.86           | 3.91           | 11.7           | 13.1           | \n",
       "| AUSTRIA        | 165            |  14.8          |  84.2          | 50.3           | 2.99           | 3.79           |  8.4           | 13.6           | \n",
       "| FRANCE         | 205            |  33.6          |  36.4          | 58.9           | 2.97           | 3.80           |  7.9           | 12.6           | \n",
       "| ISRAEL         |  74            |  43.6          |  43.2          | 45.0           | 2.96           | 3.74           |  9.6           | 11.0           | \n",
       "| SPAIN          |  42            |   8.6          |  21.0          | 53.4           | 2.86           | 2.62           |  7.3           | 15.6           | \n",
       "| ITALY          |  13            |   9.8          |  30.4          | 51.0           | 3.00           | 3.65           |  7.2           | 13.0           | \n",
       "| CZECH REPUBLIC |  28            |   4.2          |  25.0          | 51.7           | 2.75           | 3.68           |  9.5           |  8.2           | \n",
       "| HUNGARY        |  26            |   6.2          |  21.6          | 63.5           | 2.73           | 3.46           |  9.1           |  7.7           | \n",
       "| SLOVENIA       | 105            |   4.0          |  20.3          | 49.5           | 2.84           | 3.71           |  7.1           | 10.6           | \n",
       "\n",
       "\n"
      ],
      "text/plain": [
       "   PAIS           PATENTS ROYALTIES INTERNET EXPORTS LOG_TELEPHONES\n",
       "1  FINLAND        187     125.6     200.2    50.7    3.08          \n",
       "2  UNITES STATES  289     130.0     179.1    66.2    3.00          \n",
       "3  SWEDEN         271     156.6     125.8    59.7    3.10          \n",
       "4  JAPAN          994      64.6      49.0    80.8    3.00          \n",
       "5  KOREA          779       9.8       4.8    66.7    2.97          \n",
       "6  NETHERLANDS    189     151.2     136.0    50.9    3.02          \n",
       "7  UNITED KINGDOM  82     134.0      57.4    61.9    3.02          \n",
       "8  CANADA          31      38.6     108.0    48.7    2.94          \n",
       "9  AUSTRALIA       75      18.2     125.9    16.2    2.94          \n",
       "10 SINGAPORE        8      25.5      72.3    74.9    2.95          \n",
       "11 GERMANY        235      36.8      41.2    64.2    2.94          \n",
       "12 NORWAY         103      20.2     193.6    19.0    3.12          \n",
       "13 IRELAND        106     110.3      48.6    53.6    2.97          \n",
       "14 BELGIUM         72      73.9      58.9    47.6    2.91          \n",
       "15 NEW ZEALAND    103      13.0     146.7    15.4    2.86          \n",
       "16 AUSTRIA        165      14.8      84.2    50.3    2.99          \n",
       "17 FRANCE         205      33.6      36.4    58.9    2.97          \n",
       "18 ISRAEL          74      43.6      43.2    45.0    2.96          \n",
       "19 SPAIN           42       8.6      21.0    53.4    2.86          \n",
       "20 ITALY           13       9.8      30.4    51.0    3.00          \n",
       "21 CZECH REPUBLIC  28       4.2      25.0    51.7    2.75          \n",
       "22 HUNGARY         26       6.2      21.6    63.5    2.73          \n",
       "23 SLOVENIA       105       4.0      20.3    49.5    2.84          \n",
       "   LOG_ELECTRICITY SCHOOLING UNIVERSITY\n",
       "1  4.15            10.0      27.4      \n",
       "2  4.07            12.0      13.9      \n",
       "3  4.14            11.4      15.3      \n",
       "4  3.86             9.5      10.0      \n",
       "5  3.65            10.8      23.2      \n",
       "6  3.77             9.4       9.5      \n",
       "7  3.73             9.4      14.9      \n",
       "8  4.18            11.6      14.2      \n",
       "9  3.94            10.9      25.3      \n",
       "10 3.83             7.1      24.2      \n",
       "11 3.75            10.2      14.4      \n",
       "12 4.39            11.9      11.2      \n",
       "13 3.68             9.4      12.3      \n",
       "14 3.86             9.3      13.6      \n",
       "15 3.91            11.7      13.1      \n",
       "16 3.79             8.4      13.6      \n",
       "17 3.80             7.9      12.6      \n",
       "18 3.74             9.6      11.0      \n",
       "19 2.62             7.3      15.6      \n",
       "20 3.65             7.2      13.0      \n",
       "21 3.68             9.5       8.2      \n",
       "22 3.46             9.1       7.7      \n",
       "23 3.71             7.1      10.6      "
      ]
     },
     "metadata": {},
     "output_type": "display_data"
    }
   ],
   "source": [
    "head(dados)"
   ]
  },
  {
   "cell_type": "code",
   "execution_count": null,
   "metadata": {
    "collapsed": true
   },
   "outputs": [],
   "source": [
    "sapply(dados, class)"
   ]
  },
  {
   "cell_type": "markdown",
   "metadata": {},
   "source": [
    "Feita a importação dos dados, o passo seguinte é realizar a análise fatorial dos dados. Para tanto será utilizada a função `fa()` do pacote `psych`. A razão de escolhermos esta função em vez da função `factanal()` do R, é que está última realiza a extração de fatores apenas pelo método de máxima verossimilhança, ao passo que a função `fa()` disponbiliza a extração via componentes principais.\n",
    "\n",
    "Uma etapa importante na realização da análise fatorial consiste em identificar se as variáveis possuem uma estrutura de correlação passível de decomposição em fatores. Esta análise é usualmete feita com o uso do teste de esfericidade de Bartlett. A função *`cortest.bartlett()`* do pacote `psich` nos permite realizar esta verificação."
   ]
  },
  {
   "cell_type": "code",
   "execution_count": null,
   "metadata": {
    "collapsed": true
   },
   "outputs": [],
   "source": [
    "library(psych)\n",
    "cortest.bartlett(dados[, -1])"
   ]
  },
  {
   "cell_type": "markdown",
   "metadata": {
    "collapsed": false
   },
   "source": [
    "Para verificar se o tamanho de amostra é adequado para a realização da análise fatorial, utiliza-se a estatística **KMO**."
   ]
  },
  {
   "cell_type": "code",
   "execution_count": 7,
   "metadata": {
    "collapsed": false
   },
   "outputs": [
    {
     "data": {
      "text/plain": [
       "Kaiser-Meyer-Olkin factor adequacy\n",
       "Call: KMO(r = dados[, -1])\n",
       "Overall MSA =  0.55\n",
       "MSA for each item = \n",
       "        PATENTS       ROYALTIES        INTERNET         EXPORTS  LOG_TELEPHONES \n",
       "           0.29            0.44            0.74            0.38            0.58 \n",
       "LOG_ELECTRICITY       SCHOOLING      UNIVERSITY \n",
       "           0.71            0.55            0.47 "
      ]
     },
     "metadata": {},
     "output_type": "display_data"
    }
   ],
   "source": [
    "library(psych)\n",
    "\n",
    "KMO(dados[,-1])"
   ]
  },
  {
   "cell_type": "markdown",
   "metadata": {},
   "source": [
    "Feitas estas verificações preliminares, passa-se à elaboração da análise fatorial propriamente dita. Como já mencionado anteriormente, utilizaresmos a função *`fa()`* do pacote `psych`."
   ]
  },
  {
   "cell_type": "code",
   "execution_count": null,
   "metadata": {
    "collapsed": true
   },
   "outputs": [],
   "source": [
    "fa1 <- fa(dados[, -1], )"
   ]
  }
 ],
 "metadata": {
  "kernelspec": {
   "display_name": "R",
   "language": "R",
   "name": "ir"
  },
  "language_info": {
   "codemirror_mode": "r",
   "file_extension": ".r",
   "mimetype": "text/x-r-source",
   "name": "R",
   "pygments_lexer": "r",
   "version": "3.4.1"
  }
 },
 "nbformat": 4,
 "nbformat_minor": 2
}
