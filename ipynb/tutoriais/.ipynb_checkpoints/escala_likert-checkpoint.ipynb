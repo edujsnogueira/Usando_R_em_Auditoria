{
 "cells": [
  {
   "cell_type": "markdown",
   "metadata": {},
   "source": [
    "# Construção e Análise de Escalas de Likert ( em elaboração... )"
   ]
  },
  {
   "cell_type": "markdown",
   "metadata": {},
   "source": [
    "## O que é uma escala de Likert?\n",
    "\n"
   ]
  },
  {
   "cell_type": "markdown",
   "metadata": {},
   "source": [
    "Posto de uma forma simples, uma escala de Likert consiste de uma coleção de itens Likert. \n",
    "Um item likert consiste de uma assertiva e uma escala de resposta, isto é, um conjunto de opções de respostas oferecido aos respondentes. Um exemplo de um item likert seria:\n",
    "\n",
    "Assertiva (Item)                                |\tOpções de Resposta\n",
    "------------------------------------------------|-------------------------\n",
    "As iniciativas de análise de dados são isoladas.|\t[   ] Discordo completamente\n",
    "                                                |   [   ] Discordo\n",
    "                                                |   [   ] Não concordo nem discordo\n",
    "                                                |   [   ] Concordo\n",
    "                                                |   [   ] Concordo completamente\n",
    "\n",
    "De acordo com (Cunha, 2007) \"*Uma escala tipo Likert é composta por um conjunto de frases (itens) em relação a cada uma das quais se pede ao sujeito que está a ser avaliado para manifestar o grau de concordância desde o discordo totalmente (nível 1), até ao concordo totalmente (nível 5, 7 ou 11)*”.\n"
   ]
  },
  {
   "cell_type": "markdown",
   "metadata": {},
   "source": [
    "## Escala de Likert - Análise\n",
    "\n",
    "Para ilustrar como realizar a análise dos dados será o utilizado do conjunto de dados `Pesquisa.xls` que acompanhada o livro [**Análise Fatorial em Administração**](http://www.cengage.com.br/ls/analise-fatorial-em-administracao/) de Franciso Aranha e Felipe Zambaldi.\n",
    "\n",
    "O conjunto de dados contém a resposta de 875 pessoas a um questionário tipo Likert que tem por objetivo avaliar uma empresa de telefonia móvel (Telco) a partir de três fatores: marca, valor e relacionamento.\n",
    "\n",
    "Os itens contidos no questionário são os seguintes:\n",
    "\n",
    "Id | Questão  \n",
    "---|-----------------------------------------------------------------\n",
    "X1 | Qual nota você daria para a *intensidade do sinal* de linha telefônica oferecido pela Telco (para responder, leve em conta a intensidade do sinal de empresas concorrentes)?  \n",
    "X2 | Dê uma nota para a *distribuição geográfica do sinal* de linha telefônica oferecido pela Telco (considere na sua resposta a distribuição geográfica do sinal oferecido por outras empresas)  \n",
    "X3 | Atribua uma nota para a *tecnologia* adotada pela Telco (leve em conta as tecnologias ofetadas pelas empresas concorrentes)\n",
    "X4 | Qual nota você daria ao *atendimento* proporcionado aos clientes da Telco como um todo?\n",
    "X5 | Na sua percepção, qual é o grau de *injustiça nas tarifas* cobradas pela Telco (notas altas correspondem a tarifas muito injustas; notas baixas correspondem a pouca injustiça)?\n",
    "X6 | Avalie, de forma geral, o *plano de serviços* telefônicos que você mantém com a Telco (ao atribuir sua nota, compare seu plano com alternativas disponíveis no mercado).\n",
    "X7 | Qual nota você daria para a *qualidade das informações* que a Telco fornece aos seus clientes?\n",
    "X8 | Qual nota você atribuiria ao *serviço* que a empresa presta a você *particularmente* (avalie o quanto ela supre sua suas necessidades especificas como cliente)?\n",
    "X9 | Qual é o seu grau de *desconfiança* em relação à Telco e seus funcionários (notas altas representam muita desconfiança; notas baixas representam pouca desconfiança)?\n",
    "X10| Qual nota você daria para a *atenção* que a empresa dedica *unicamente* a você como cliente?\n",
    "\n",
    "A importação do conjundo de dados pode ser feita da seguinte forma:"
   ]
  },
  {
   "cell_type": "code",
   "execution_count": 28,
   "metadata": {
    "collapsed": false
   },
   "outputs": [
    {
     "data": {
      "text/html": [
       "<ol class=list-inline>\n",
       "\t<li>875</li>\n",
       "\t<li>10</li>\n",
       "</ol>\n"
      ],
      "text/latex": [
       "\\begin{enumerate*}\n",
       "\\item 875\n",
       "\\item 10\n",
       "\\end{enumerate*}\n"
      ],
      "text/markdown": [
       "1. 875\n",
       "2. 10\n",
       "\n",
       "\n"
      ],
      "text/plain": [
       "[1] 875  10"
      ]
     },
     "metadata": {},
     "output_type": "display_data"
    }
   ],
   "source": [
    "options(warn = -1)\n",
    "library(readxl)\n",
    "setwd('C:\\\\Users\\\\Marcos\\\\Documents\\\\GitHub\\\\Usando-R-em-Auditoria\\\\dados\\\\analise_fatorial')\n",
    "pesquisa <- read_excel('pesquisa_telco.xls')\n",
    "dim(pesquisa)"
   ]
  },
  {
   "cell_type": "code",
   "execution_count": 3,
   "metadata": {
    "collapsed": false
   },
   "outputs": [
    {
     "data": {
      "text/html": [
       "<table>\n",
       "<thead><tr><th scope=col>X1</th><th scope=col>X2</th><th scope=col>X3</th><th scope=col>X4</th><th scope=col>X5</th><th scope=col>X6</th><th scope=col>X7</th><th scope=col>X8</th><th scope=col>X9</th><th scope=col>X10</th></tr></thead>\n",
       "<tbody>\n",
       "\t<tr><td>2.021634</td><td>3.417002</td><td>3.203575</td><td>4.674381</td><td>7.845196</td><td>4.474652</td><td>1.652540</td><td>3.192175</td><td>7.092796</td><td>2.882242</td></tr>\n",
       "\t<tr><td>2.634654</td><td>4.989637</td><td>3.548522</td><td>5.167249</td><td>7.527241</td><td>5.155799</td><td>2.303569</td><td>3.652853</td><td>7.518412</td><td>3.046624</td></tr>\n",
       "\t<tr><td>2.161853</td><td>4.369748</td><td>3.423754</td><td>5.076795</td><td>7.432190</td><td>4.955571</td><td>3.000841</td><td>4.442697</td><td>6.690318</td><td>3.350822</td></tr>\n",
       "</tbody>\n",
       "</table>\n"
      ],
      "text/latex": [
       "\\begin{tabular}{r|llllllllll}\n",
       " X1 & X2 & X3 & X4 & X5 & X6 & X7 & X8 & X9 & X10\\\\\n",
       "\\hline\n",
       "\t 2.021634 & 3.417002 & 3.203575 & 4.674381 & 7.845196 & 4.474652 & 1.652540 & 3.192175 & 7.092796 & 2.882242\\\\\n",
       "\t 2.634654 & 4.989637 & 3.548522 & 5.167249 & 7.527241 & 5.155799 & 2.303569 & 3.652853 & 7.518412 & 3.046624\\\\\n",
       "\t 2.161853 & 4.369748 & 3.423754 & 5.076795 & 7.432190 & 4.955571 & 3.000841 & 4.442697 & 6.690318 & 3.350822\\\\\n",
       "\\end{tabular}\n"
      ],
      "text/markdown": [
       "\n",
       "X1 | X2 | X3 | X4 | X5 | X6 | X7 | X8 | X9 | X10 | \n",
       "|---|---|---|\n",
       "| 2.021634 | 3.417002 | 3.203575 | 4.674381 | 7.845196 | 4.474652 | 1.652540 | 3.192175 | 7.092796 | 2.882242 | \n",
       "| 2.634654 | 4.989637 | 3.548522 | 5.167249 | 7.527241 | 5.155799 | 2.303569 | 3.652853 | 7.518412 | 3.046624 | \n",
       "| 2.161853 | 4.369748 | 3.423754 | 5.076795 | 7.432190 | 4.955571 | 3.000841 | 4.442697 | 6.690318 | 3.350822 | \n",
       "\n",
       "\n"
      ],
      "text/plain": [
       "  X1       X2       X3       X4       X5       X6       X7       X8      \n",
       "1 2.021634 3.417002 3.203575 4.674381 7.845196 4.474652 1.652540 3.192175\n",
       "2 2.634654 4.989637 3.548522 5.167249 7.527241 5.155799 2.303569 3.652853\n",
       "3 2.161853 4.369748 3.423754 5.076795 7.432190 4.955571 3.000841 4.442697\n",
       "  X9       X10     \n",
       "1 7.092796 2.882242\n",
       "2 7.518412 3.046624\n",
       "3 6.690318 3.350822"
      ]
     },
     "metadata": {},
     "output_type": "display_data"
    }
   ],
   "source": [
    "head(pesquisa, 3)"
   ]
  },
  {
   "cell_type": "markdown",
   "metadata": {},
   "source": [
    "## Estatística descritiva"
   ]
  },
  {
   "cell_type": "markdown",
   "metadata": {},
   "source": [
    "No livro em referência os autores apresentam à página 6 a Tabela 1.1 contendo estatísticas descritivas (média, desvio padrão e quantidade de questionários) dos resultados da pesquisa. Iremos reproduzir os resultados apresentados na tabela em questão."
   ]
  },
  {
   "cell_type": "code",
   "execution_count": 4,
   "metadata": {
    "collapsed": false
   },
   "outputs": [
    {
     "data": {
      "text/html": [
       "<table>\n",
       "<thead><tr><th></th><th scope=col>X1</th><th scope=col>X2</th><th scope=col>X3</th><th scope=col>X4</th><th scope=col>X5</th><th scope=col>X6</th><th scope=col>X7</th><th scope=col>X8</th><th scope=col>X9</th><th scope=col>X10</th></tr></thead>\n",
       "<tbody>\n",
       "\t<tr><th scope=row>Media</th><td>  2.42</td><td>  3.83</td><td>  3.45</td><td>  4.99</td><td>  7.41</td><td>  5.00</td><td>  4.01</td><td>  4.34</td><td>  6.78</td><td>  3.57</td></tr>\n",
       "\t<tr><th scope=row>DP</th><td>  0.69</td><td>  1.21</td><td>  0.13</td><td>  0.52</td><td>  0.49</td><td>  0.26</td><td>  1.23</td><td>  0.63</td><td>  0.69</td><td>  0.43</td></tr>\n",
       "\t<tr><th scope=row>Qtd_Quest</th><td>875.00</td><td>875.00</td><td>875.00</td><td>875.00</td><td>875.00</td><td>875.00</td><td>875.00</td><td>875.00</td><td>875.00</td><td>875.00</td></tr>\n",
       "</tbody>\n",
       "</table>\n"
      ],
      "text/latex": [
       "\\begin{tabular}{r|llllllllll}\n",
       "  & X1 & X2 & X3 & X4 & X5 & X6 & X7 & X8 & X9 & X10\\\\\n",
       "\\hline\n",
       "\tMedia &   2.42 &   3.83 &   3.45 &   4.99 &   7.41 &   5.00 &   4.01 &   4.34 &   6.78 &   3.57\\\\\n",
       "\tDP &   0.69 &   1.21 &   0.13 &   0.52 &   0.49 &   0.26 &   1.23 &   0.63 &   0.69 &   0.43\\\\\n",
       "\tQtd\\_Quest & 875.00 & 875.00 & 875.00 & 875.00 & 875.00 & 875.00 & 875.00 & 875.00 & 875.00 & 875.00\\\\\n",
       "\\end{tabular}\n"
      ],
      "text/markdown": [
       "\n",
       "| <!--/--> | X1 | X2 | X3 | X4 | X5 | X6 | X7 | X8 | X9 | X10 | \n",
       "|---|---|---|\n",
       "| Media |   2.42 |   3.83 |   3.45 |   4.99 |   7.41 |   5.00 |   4.01 |   4.34 |   6.78 |   3.57 | \n",
       "| DP |   0.69 |   1.21 |   0.13 |   0.52 |   0.49 |   0.26 |   1.23 |   0.63 |   0.69 |   0.43 | \n",
       "| Qtd_Quest | 875.00 | 875.00 | 875.00 | 875.00 | 875.00 | 875.00 | 875.00 | 875.00 | 875.00 | 875.00 | \n",
       "\n",
       "\n"
      ],
      "text/plain": [
       "          X1     X2     X3     X4     X5     X6     X7     X8     X9     X10   \n",
       "Media       2.42   3.83   3.45   4.99   7.41   5.00   4.01   4.34   6.78   3.57\n",
       "DP          0.69   1.21   0.13   0.52   0.49   0.26   1.23   0.63   0.69   0.43\n",
       "Qtd_Quest 875.00 875.00 875.00 875.00 875.00 875.00 875.00 875.00 875.00 875.00"
      ]
     },
     "metadata": {},
     "output_type": "display_data"
    }
   ],
   "source": [
    "# Média, desvio padrão e quantidade de questionários\n",
    "sapply(pesquisa, function(x) c(Media=round(mean(x), 2), DP=round(sd(x), 2), Qtd_Quest=length(x)))    "
   ]
  },
  {
   "cell_type": "markdown",
   "metadata": {},
   "source": [
    "Muito melhor que olhar para estatísticas descritivas simples, é visualizar todo o conjunto de dados. Um *boxplot* dos dados irá fornecer uma visão muito mais abrangente da distribuição dos dados."
   ]
  },
  {
   "cell_type": "code",
   "execution_count": 5,
   "metadata": {
    "collapsed": false
   },
   "outputs": [
    {
     "data": {
      "text/html": [
       "<table>\n",
       "<thead><tr><th scope=col>Itens</th><th scope=col>Notas</th></tr></thead>\n",
       "<tbody>\n",
       "\t<tr><td>X1      </td><td>2.021634</td></tr>\n",
       "\t<tr><td>X1      </td><td>2.634654</td></tr>\n",
       "\t<tr><td>X1      </td><td>2.161853</td></tr>\n",
       "\t<tr><td>X1      </td><td>2.611833</td></tr>\n",
       "\t<tr><td>X1      </td><td>2.296529</td></tr>\n",
       "\t<tr><td>X1      </td><td>2.265094</td></tr>\n",
       "\t<tr><td>X1      </td><td>2.778944</td></tr>\n",
       "\t<tr><td>X1      </td><td>2.144292</td></tr>\n",
       "\t<tr><td>X1      </td><td>2.327629</td></tr>\n",
       "\t<tr><td>X1      </td><td>2.580068</td></tr>\n",
       "</tbody>\n",
       "</table>\n"
      ],
      "text/latex": [
       "\\begin{tabular}{r|ll}\n",
       " Itens & Notas\\\\\n",
       "\\hline\n",
       "\t X1       & 2.021634\\\\\n",
       "\t X1       & 2.634654\\\\\n",
       "\t X1       & 2.161853\\\\\n",
       "\t X1       & 2.611833\\\\\n",
       "\t X1       & 2.296529\\\\\n",
       "\t X1       & 2.265094\\\\\n",
       "\t X1       & 2.778944\\\\\n",
       "\t X1       & 2.144292\\\\\n",
       "\t X1       & 2.327629\\\\\n",
       "\t X1       & 2.580068\\\\\n",
       "\\end{tabular}\n"
      ],
      "text/markdown": [
       "\n",
       "Itens | Notas | \n",
       "|---|---|---|---|---|---|---|---|---|---|\n",
       "| X1       | 2.021634 | \n",
       "| X1       | 2.634654 | \n",
       "| X1       | 2.161853 | \n",
       "| X1       | 2.611833 | \n",
       "| X1       | 2.296529 | \n",
       "| X1       | 2.265094 | \n",
       "| X1       | 2.778944 | \n",
       "| X1       | 2.144292 | \n",
       "| X1       | 2.327629 | \n",
       "| X1       | 2.580068 | \n",
       "\n",
       "\n"
      ],
      "text/plain": [
       "   Itens Notas   \n",
       "1  X1    2.021634\n",
       "2  X1    2.634654\n",
       "3  X1    2.161853\n",
       "4  X1    2.611833\n",
       "5  X1    2.296529\n",
       "6  X1    2.265094\n",
       "7  X1    2.778944\n",
       "8  X1    2.144292\n",
       "9  X1    2.327629\n",
       "10 X1    2.580068"
      ]
     },
     "metadata": {},
     "output_type": "display_data"
    }
   ],
   "source": [
    "library(tidyr)\n",
    "# Preparo dos dados para uso no pacote ggplot2\n",
    "pesquisa2 <- gather(pesquisa, key=\"Itens\", value=\"Notas\")\n",
    "head(pesquisa2, 10)"
   ]
  },
  {
   "cell_type": "code",
   "execution_count": 7,
   "metadata": {
    "collapsed": false
   },
   "outputs": [
    {
     "data": {},
     "metadata": {},
     "output_type": "display_data"
    },
    {
     "data": {
      "image/png": "[encoded data removed]",
      "text/plain": [
       "plot without title"
      ]
     },
     "metadata": {},
     "output_type": "display_data"
    }
   ],
   "source": [
    "library(ggplot2)\n",
    "ggplot(pesquisa2, aes(x=Itens, y=Notas)) + \n",
    "    geom_boxplot() + \n",
    "    xlab(\"Variáveis\")"
   ]
  },
  {
   "cell_type": "markdown",
   "metadata": {},
   "source": [
    "Para uma análise descritiva preliminar, o pacote `likert` oferece um conjunto de funções bem interessantes para visualização e sumarização do resultado da pesquisa.\n",
    "\n",
    "Para o uso do pacote likert, será necessário arredondar os valores das variáveis para valores inteiros, visto que em regra, numa escala de likert de 5 pontos, os valores assumidos pelas variáveis variam de 1 a 5 em valores inteiros. A conversão dos dados para valores inteiros seguirá a regra usual de arredondamento.  "
   ]
  },
  {
   "cell_type": "code",
   "execution_count": 29,
   "metadata": {
    "collapsed": false
   },
   "outputs": [
    {
     "data": {
      "text/html": [
       "<table>\n",
       "<thead><tr><th scope=col>X1</th><th scope=col>X2</th><th scope=col>X3</th><th scope=col>X4</th><th scope=col>X5</th><th scope=col>X6</th><th scope=col>X7</th><th scope=col>X8</th><th scope=col>X9</th><th scope=col>X10</th></tr></thead>\n",
       "<tbody>\n",
       "\t<tr><td>2</td><td>3</td><td>3</td><td>5</td><td>8</td><td>4</td><td>2</td><td>3</td><td>7</td><td>3</td></tr>\n",
       "\t<tr><td>3</td><td>5</td><td>4</td><td>5</td><td>8</td><td>5</td><td>2</td><td>4</td><td>8</td><td>3</td></tr>\n",
       "\t<tr><td>2</td><td>4</td><td>3</td><td>5</td><td>7</td><td>5</td><td>3</td><td>4</td><td>7</td><td>3</td></tr>\n",
       "\t<tr><td>3</td><td>5</td><td>3</td><td>5</td><td>7</td><td>5</td><td>3</td><td>5</td><td>7</td><td>3</td></tr>\n",
       "\t<tr><td>2</td><td>3</td><td>3</td><td>5</td><td>8</td><td>5</td><td>3</td><td>4</td><td>6</td><td>3</td></tr>\n",
       "\t<tr><td>2</td><td>4</td><td>3</td><td>5</td><td>7</td><td>5</td><td>4</td><td>4</td><td>7</td><td>3</td></tr>\n",
       "</tbody>\n",
       "</table>\n"
      ],
      "text/latex": [
       "\\begin{tabular}{r|llllllllll}\n",
       " X1 & X2 & X3 & X4 & X5 & X6 & X7 & X8 & X9 & X10\\\\\n",
       "\\hline\n",
       "\t 2 & 3 & 3 & 5 & 8 & 4 & 2 & 3 & 7 & 3\\\\\n",
       "\t 3 & 5 & 4 & 5 & 8 & 5 & 2 & 4 & 8 & 3\\\\\n",
       "\t 2 & 4 & 3 & 5 & 7 & 5 & 3 & 4 & 7 & 3\\\\\n",
       "\t 3 & 5 & 3 & 5 & 7 & 5 & 3 & 5 & 7 & 3\\\\\n",
       "\t 2 & 3 & 3 & 5 & 8 & 5 & 3 & 4 & 6 & 3\\\\\n",
       "\t 2 & 4 & 3 & 5 & 7 & 5 & 4 & 4 & 7 & 3\\\\\n",
       "\\end{tabular}\n"
      ],
      "text/markdown": [
       "\n",
       "X1 | X2 | X3 | X4 | X5 | X6 | X7 | X8 | X9 | X10 | \n",
       "|---|---|---|---|---|---|\n",
       "| 2 | 3 | 3 | 5 | 8 | 4 | 2 | 3 | 7 | 3 | \n",
       "| 3 | 5 | 4 | 5 | 8 | 5 | 2 | 4 | 8 | 3 | \n",
       "| 2 | 4 | 3 | 5 | 7 | 5 | 3 | 4 | 7 | 3 | \n",
       "| 3 | 5 | 3 | 5 | 7 | 5 | 3 | 5 | 7 | 3 | \n",
       "| 2 | 3 | 3 | 5 | 8 | 5 | 3 | 4 | 6 | 3 | \n",
       "| 2 | 4 | 3 | 5 | 7 | 5 | 4 | 4 | 7 | 3 | \n",
       "\n",
       "\n"
      ],
      "text/plain": [
       "  X1 X2 X3 X4 X5 X6 X7 X8 X9 X10\n",
       "1 2  3  3  5  8  4  2  3  7  3  \n",
       "2 3  5  4  5  8  5  2  4  8  3  \n",
       "3 2  4  3  5  7  5  3  4  7  3  \n",
       "4 3  5  3  5  7  5  3  5  7  3  \n",
       "5 2  3  3  5  8  5  3  4  6  3  \n",
       "6 2  4  3  5  7  5  4  4  7  3  "
      ]
     },
     "metadata": {},
     "output_type": "display_data"
    }
   ],
   "source": [
    "pesquisa[] <- sapply(pesquisa, function(x) factor(round(x), levels=0:10))\n",
    "head(pesquisa)"
   ]
  },
  {
   "cell_type": "code",
   "execution_count": 25,
   "metadata": {
    "collapsed": false
   },
   "outputs": [
    {
     "name": "stderr",
     "output_type": "stream",
     "text": [
      "Loading required package: xtable\n"
     ]
    }
   ],
   "source": [
    "library(likert)"
   ]
  },
  {
   "cell_type": "code",
   "execution_count": 33,
   "metadata": {
    "collapsed": false
   },
   "outputs": [
    {
     "data": {
      "text/plain": [
       "NULL"
      ]
     },
     "metadata": {},
     "output_type": "display_data"
    }
   ],
   "source": [
    "#lkt <- likert(pesquisa)\n",
    "#plot(lkt)\n",
    "apply(pesquisa, 2, levels)"
   ]
  },
  {
   "cell_type": "markdown",
   "metadata": {},
   "source": [
    "## Análise Fatorial"
   ]
  },
  {
   "cell_type": "markdown",
   "metadata": {},
   "source": [
    "Feita uma anális exploratória preliminar, é necessário verificar a consistência do questionário. Usualmente a consistência é aferida por uma medida denominada *alfa de cronbach*. O pacote **`psych`** dispõe da função `xxx` que calcula esta quantidade."
   ]
  },
  {
   "cell_type": "markdown",
   "metadata": {},
   "source": [
    "## Bibliografia\n",
    "\n",
    "**Dwight Barry** - [Do not use averages with Likert scale data with examples using R](https://bookdown.org/Rmadillo/likert/)   \n",
    "\n",
    "**Rob Johns** - [Likert items and scales](https://www.ukdataservice.ac.uk/media/262829/discover_likertfactsheet.pdf)\n",
    "\n",
    "** Francisco Aranha, Felipe zambaldi** - Análise Fatorial em Administração\n",
    "\n",
    "\n"
   ]
  }
 ],
 "metadata": {
  "kernelspec": {
   "display_name": "R 3.3.1-alfa",
   "language": "R",
   "name": "ir33"
  },
  "language_info": {
   "codemirror_mode": "r",
   "file_extension": ".r",
   "mimetype": "text/x-r-source",
   "name": "R",
   "pygments_lexer": "r",
   "version": "3.3.1"
  }
 },
 "nbformat": 4,
 "nbformat_minor": 0
}
