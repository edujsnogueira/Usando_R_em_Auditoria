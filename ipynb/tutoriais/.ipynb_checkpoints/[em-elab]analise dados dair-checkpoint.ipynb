{
 "cells": [
  {
   "cell_type": "markdown",
   "metadata": {},
   "source": [
    "# Análise de dados do DAIR\n",
    "\n",
    "**Marcos F Silva - 30.12.17** (Versão Preliminar)"
   ]
  },
  {
   "cell_type": "markdown",
   "metadata": {},
   "source": [
    "## 1. Introdução\n",
    "\n",
    "O **Demonstrativo das Aplicações e Investimentos dos Recursos** (DAIR) é um demonstrativo que os Regimes Próprios de Previdência Social (RPPS) devem elaborar e encaminhar ao Ministério da Fazenda. Este demonstrativo explicita a carteira de ativos do RPPS, detalhando não só as aplicações financeiras dos RPPS como também outros ativos de propriedade dos RPPS. \n",
    "\n",
    "Este demonstrativo, cuja elaboração era bimestral, passou a ser mensal a partir de 2017. Os RPPS elaboram este demonstrativo em um aplicativo disponibilizado pelo Minstério da Fazenda denominado CADPREV - Ente Local. Após a inserção dos dados no aplicativo, este permite a geração de um arquivo xml contendo os dados das aplicações.\n",
    "\n",
    "O encaminhamento do demonstrativo ao Ministério da Fazenda consiste em inserir este arquivo xml (gerado localmente no CADPREV - Ente Local) numa aplicação web denominada CADPREV - Web. \n",
    "\n",
    "Os dados do DAIR de qualquer ente pode ser consultado no CADPREV - Web, que disponibiliza um arquivo pdf com este demonstrativo.\n",
    "\n",
    "Embora seja possível realizar a extração dos dados a partir do arquivo pdf disponibilizado, é mais conveniente solicitar aos RPPS os arquivos xml relativos aos DAIR. Assim, os dados que serão utilizados neste tutorial (**`dados_dair_DtGer_12-12-2017.rds`**) contem os dados relativos ao período de janeiro a agosto de 2017 (alguns RPPS encaminharam arquivos de setembro e outubro) dos RPPS que atenderam à solicitação de documentos realizada.\n",
    "\n",
    "A aplicação dos recursos financeiros pelos RPPS é regulada pela Resolução CMN 3.922/10, com as recentíssimas alterações introduzidas pela Resolução CMN 4.604/2017. Em linhas gerais estes normativos impõem restrições aos tipos de ativos nos quais os RPPS podem realizar investimentos, bem como ao montante de recursos do RPPS que podem ser aplicados em cada tipo de ativo.\n",
    "\n",
    "Um dos principais ativos em que os RPPS investem seus recursos são os denominados [**Fundos de Investimento**](http://www.cvm.gov.br/menu/regulados/fundos/sobre.html). \n",
    "\n",
    "O investimento de recursos no mercado financeiro é uma área de grande risco e constante fonte de problemas, razão pela qual deve estar sob constante acompanhamento.\n",
    "\n",
    ">**NOTA:** Os dados utilizados, e por conseguinte as análises realizadas, não contém os efeitos das alterações introduzidas pela [Resolução CMN 4.604/2017](http://www.bcb.gov.br/pre/normativos/busca/normativo.asp?tipo=Resolu%C3%A7%C3%A3o&data=2017&numero=4604), publicada em **20.10.17**, em especial a alteração dos limites de investimento permitidos em cada ativo.\n",
    "\n",
    ">Até que o Ministério da Fazenda promova alterações no CADPREV para se adequar às alterações promovidas, fato que ocorrerá em meados do primeiro trimestre de 2018, os RPPS deverá informar no DAIR as suas aplicações sem considerar as alterações advindas da Resolução  CMN n. 4.604/17."
   ]
  },
  {
   "cell_type": "markdown",
   "metadata": {},
   "source": [
    "## 2. Análise dos dados\n",
    "\n",
    "A análise de dados terá por objetivo:\n",
    "\n",
    "**(1)** explorar a composição e evolução temporal dos ativos dos RPPS;\n",
    "\n",
    "**(2)** verificar o enquadramento dos Fundos de Investimentos;\n",
    "\n",
    "**(3)** verificar cumprimento dos limites de aplicação impostos pela Resolução CMN 3922/10.\n",
    "\n",
    "Qualquer análise de dados tem início com a importação dos mesmos para o aplicativo que será utilizado para análise. A importação dos dados é feita da seguinte forma:"
   ]
  },
  {
   "cell_type": "code",
   "execution_count": null,
   "metadata": {
    "collapsed": true
   },
   "outputs": [],
   "source": [
    "options(scipen = 20)\n",
    "library(dplyr)\n",
    "library(ggplot2)\n",
    "library(tidyr)\n",
    "library(scales)\n",
    "library(readxl)"
   ]
  },
  {
   "cell_type": "code",
   "execution_count": 1,
   "metadata": {
    "collapsed": false
   },
   "outputs": [
    {
     "data": {
      "text/html": [
       "<table>\n",
       "<thead><tr><th scope=col>ente</th><th scope=col>ano</th><th scope=col>mes</th><th scope=col>identificacaoDoAtivo</th><th scope=col>nome</th><th scope=col>textoFundamentoLegal</th><th scope=col>quantidade</th><th scope=col>valorAtualAtivo</th><th scope=col>valorTotalAtual</th><th scope=col>pctTotalRecursosSPPS</th><th scope=col>valorAtualPatrimonioLiquidoFundo</th><th scope=col>pctPatrimonioLiquidoFundo</th><th scope=col>cnpj_fi</th><th scope=col>data</th></tr></thead>\n",
       "<tbody>\n",
       "\t<tr><td>Pinheiral                                                                   </td><td>2017                                                                        </td><td>1                                                                           </td><td>14.386.926/0001-71 - CAIXA BRASIL IDKA 2 A TITULOS PUBLICOS FI RENDA FIXA LP</td><td>FI 100% títulos TN                                                          </td><td>Art. 7º, I, \"b\"                                                             </td><td>2996315                                                                     </td><td>1.642524                                                                    </td><td>4921518.8                                                                   </td><td>14.79                                                                       </td><td>3664210527                                                                  </td><td>0.13                                                                        </td><td>14.386.926/0001-71                                                          </td><td>2017-01-01                                                                  </td></tr>\n",
       "\t<tr><td>Pinheiral                                                                   </td><td>2017                                                                        </td><td>1                                                                           </td><td>18.598.288/0001-03 - CAIXA BRASIL2024I TITULOS PUBLICOS  FI RENDA FIXA      </td><td>FI 100% títulos TN                                                          </td><td>Art. 7º, I, \"b\"                                                             </td><td> 300000                                                                     </td><td>1.356602                                                                    </td><td> 406980.6                                                                   </td><td> 1.22                                                                       </td><td> 362551374                                                                  </td><td>0.11                                                                        </td><td>18.598.288/0001-03                                                          </td><td>2017-01-01                                                                  </td></tr>\n",
       "\t<tr><td>Pinheiral                                                                   </td><td>2017                                                                        </td><td>1                                                                           </td><td>11.060.913/0001-10 - CAIXA BRASIL IMA B 5 TITULOS PUBLICOS FI RENDA FIXA LP </td><td>FI 100% títulos TN                                                          </td><td>Art. 7º, I, \"b\"                                                             </td><td>1793118                                                                     </td><td>2.179012                                                                    </td><td>3907225.2                                                                   </td><td>11.74                                                                       </td><td>5503989685                                                                  </td><td>0.07                                                                        </td><td>11.060.913/0001-10                                                          </td><td>2017-01-01                                                                  </td></tr>\n",
       "</tbody>\n",
       "</table>\n"
      ],
      "text/latex": [
       "\\begin{tabular}{r|llllllllllllll}\n",
       " ente & ano & mes & identificacaoDoAtivo & nome & textoFundamentoLegal & quantidade & valorAtualAtivo & valorTotalAtual & pctTotalRecursosSPPS & valorAtualPatrimonioLiquidoFundo & pctPatrimonioLiquidoFundo & cnpj\\_fi & data\\\\\n",
       "\\hline\n",
       "\t Pinheiral                                                                    & 2017                                                                         & 1                                                                            & 14.386.926/0001-71 - CAIXA BRASIL IDKA 2 A TITULOS PUBLICOS FI RENDA FIXA LP & FI 100\\% títulos TN                                                         & Art. 7º, I, \"b\"                                                              & 2996315                                                                      & 1.642524                                                                     & 4921518.8                                                                    & 14.79                                                                        & 3664210527                                                                   & 0.13                                                                         & 14.386.926/0001-71                                                           & 2017-01-01                                                                  \\\\\n",
       "\t Pinheiral                                                                    & 2017                                                                         & 1                                                                            & 18.598.288/0001-03 - CAIXA BRASIL2024I TITULOS PUBLICOS  FI RENDA FIXA       & FI 100\\% títulos TN                                                         & Art. 7º, I, \"b\"                                                              &  300000                                                                      & 1.356602                                                                     &  406980.6                                                                    &  1.22                                                                        &  362551374                                                                   & 0.11                                                                         & 18.598.288/0001-03                                                           & 2017-01-01                                                                  \\\\\n",
       "\t Pinheiral                                                                    & 2017                                                                         & 1                                                                            & 11.060.913/0001-10 - CAIXA BRASIL IMA B 5 TITULOS PUBLICOS FI RENDA FIXA LP  & FI 100\\% títulos TN                                                         & Art. 7º, I, \"b\"                                                              & 1793118                                                                      & 2.179012                                                                     & 3907225.2                                                                    & 11.74                                                                        & 5503989685                                                                   & 0.07                                                                         & 11.060.913/0001-10                                                           & 2017-01-01                                                                  \\\\\n",
       "\\end{tabular}\n"
      ],
      "text/markdown": [
       "\n",
       "ente | ano | mes | identificacaoDoAtivo | nome | textoFundamentoLegal | quantidade | valorAtualAtivo | valorTotalAtual | pctTotalRecursosSPPS | valorAtualPatrimonioLiquidoFundo | pctPatrimonioLiquidoFundo | cnpj_fi | data | \n",
       "|---|---|---|\n",
       "| Pinheiral                                                                    | 2017                                                                         | 1                                                                            | 14.386.926/0001-71 - CAIXA BRASIL IDKA 2 A TITULOS PUBLICOS FI RENDA FIXA LP | FI 100% títulos TN                                                           | Art. 7º, I, \"b\"                                                              | 2996315                                                                      | 1.642524                                                                     | 4921518.8                                                                    | 14.79                                                                        | 3664210527                                                                   | 0.13                                                                         | 14.386.926/0001-71                                                           | 2017-01-01                                                                   | \n",
       "| Pinheiral                                                                    | 2017                                                                         | 1                                                                            | 18.598.288/0001-03 - CAIXA BRASIL2024I TITULOS PUBLICOS  FI RENDA FIXA       | FI 100% títulos TN                                                           | Art. 7º, I, \"b\"                                                              |  300000                                                                      | 1.356602                                                                     |  406980.6                                                                    |  1.22                                                                        |  362551374                                                                   | 0.11                                                                         | 18.598.288/0001-03                                                           | 2017-01-01                                                                   | \n",
       "| Pinheiral                                                                    | 2017                                                                         | 1                                                                            | 11.060.913/0001-10 - CAIXA BRASIL IMA B 5 TITULOS PUBLICOS FI RENDA FIXA LP  | FI 100% títulos TN                                                           | Art. 7º, I, \"b\"                                                              | 1793118                                                                      | 2.179012                                                                     | 3907225.2                                                                    | 11.74                                                                        | 5503989685                                                                   | 0.07                                                                         | 11.060.913/0001-10                                                           | 2017-01-01                                                                   | \n",
       "\n",
       "\n"
      ],
      "text/plain": [
       "  ente      ano  mes\n",
       "1 Pinheiral 2017 1  \n",
       "2 Pinheiral 2017 1  \n",
       "3 Pinheiral 2017 1  \n",
       "  identificacaoDoAtivo                                                        \n",
       "1 14.386.926/0001-71 - CAIXA BRASIL IDKA 2 A TITULOS PUBLICOS FI RENDA FIXA LP\n",
       "2 18.598.288/0001-03 - CAIXA BRASIL2024I TITULOS PUBLICOS  FI RENDA FIXA      \n",
       "3 11.060.913/0001-10 - CAIXA BRASIL IMA B 5 TITULOS PUBLICOS FI RENDA FIXA LP \n",
       "  nome               textoFundamentoLegal quantidade valorAtualAtivo\n",
       "1 FI 100% títulos TN Art. 7º, I, \"b\"      2996315    1.642524       \n",
       "2 FI 100% títulos TN Art. 7º, I, \"b\"       300000    1.356602       \n",
       "3 FI 100% títulos TN Art. 7º, I, \"b\"      1793118    2.179012       \n",
       "  valorTotalAtual pctTotalRecursosSPPS valorAtualPatrimonioLiquidoFundo\n",
       "1 4921518.8       14.79                3664210527                      \n",
       "2  406980.6        1.22                 362551374                      \n",
       "3 3907225.2       11.74                5503989685                      \n",
       "  pctPatrimonioLiquidoFundo cnpj_fi            data      \n",
       "1 0.13                      14.386.926/0001-71 2017-01-01\n",
       "2 0.11                      18.598.288/0001-03 2017-01-01\n",
       "3 0.07                      11.060.913/0001-10 2017-01-01"
      ]
     },
     "metadata": {},
     "output_type": "display_data"
    }
   ],
   "source": [
    "setwd(\"C:\\\\Users\\\\Marcos\\\\Documents\\\\GitHub\\\\Usando-R-em-Auditoria\\\\dados\\\\analise-dados-dair\")\n",
    "dair <- readRDS(\"dados_dair_DtGer_12-12-2017.rds\")\n",
    "\n",
    "# Criar uma coluna de data\n",
    "dair$data <- as.Date(paste(dair$ano, dair$mes, \"01\", sep=\"-\"))\n",
    "\n",
    "# Converver dados numéricos para números...\n",
    "col_vlrnum <- c(\"quantidade\", \"valorAtualAtivo\", \"valorTotalAtual\", \"pctTotalRecursosSPPS\", \"valorAtualPatrimonioLiquidoFundo\", \"pctPatrimonioLiquidoFundo\")\n",
    "dair[, col_vlrnum] <- sapply(dair[, col_vlrnum], as.numeric)\n",
    "\n",
    "head(dair, 3)"
   ]
  },
  {
   "cell_type": "markdown",
   "metadata": {},
   "source": [
    "## 2.1 - Explorar a composição dos ativos dos RPPS\n",
    "\n",
    "Importados os dados, a realização de uma análise exploratória com vistas a obter uma compreensão geral dos dados é sempre recomendável. As possibilidades de análise do conjunto de dados são grandes. Não obstante, tertar-se-á responder às seguintes questões:\n",
    "\n",
    "* Em quais ativos os RPPS estão investindo?   \n",
    "* Como os recursos dos RPPS estão distribuídos entre os ativos?   \n",
    "* Como o valor investido em um ativo evoluiu ao longo do período?\n",
    "\n",
    "Um ponto importante para o qual se deve chamar a atenção é para o fato de que as perguntas a serem respondidas dependem da disponibilidade de variávei na base de dados. Algumas perguntas interessantes podem não ser possíveis de responder em razão da inexistência, na base de dados, de variável relevante para a referida questão.\n"
   ]
  },
  {
   "cell_type": "markdown",
   "metadata": {},
   "source": [
    "### 2.1.1 - Em quais ativos os RPPS estão investindo?\n",
    "\n",
    "As informações sobre os tipos de ativos estão na variável `nome`. Para uma visão geral, pode-se simplesmente, listar os ativos existentes na base de dados. Isso pode ser feito da seguinte forma:"
   ]
  },
  {
   "cell_type": "code",
   "execution_count": 48,
   "metadata": {
    "collapsed": false
   },
   "outputs": [
    {
     "data": {
      "text/html": [
       "<table>\n",
       "<tbody>\n",
       "\t<tr><td>FI 100% títulos TN                                 </td></tr>\n",
       "\t<tr><td>FI em Direitos Creditórios - Fechado - Cota Sênior </td></tr>\n",
       "\t<tr><td>FI Renda Fixa/Referenciados RF                     </td></tr>\n",
       "\t<tr><td>FI de Renda Fixa                                   </td></tr>\n",
       "\t<tr><td>FI em Ações                                        </td></tr>\n",
       "\t<tr><td>FI Multimercado - Aberto                           </td></tr>\n",
       "\t<tr><td>Disponibilidade                                    </td></tr>\n",
       "\t<tr><td>FI Renda Fixa \"Crédito Privado\"                    </td></tr>\n",
       "\t<tr><td>FI Ações referenciados                             </td></tr>\n",
       "\t<tr><td>FI em Direitos Creditórios - Aberto - Cota Sênior  </td></tr>\n",
       "\t<tr><td>FI Imobiliários                                    </td></tr>\n",
       "\t<tr><td>Terreno                                            </td></tr>\n",
       "\t<tr><td>Prédio Comercial                                   </td></tr>\n",
       "\t<tr><td>FI em Participações - Fechado                      </td></tr>\n",
       "\t<tr><td>FI de Índices Referenciados em Renda Fixa          </td></tr>\n",
       "\t<tr><td>Poupança                                           </td></tr>\n",
       "\t<tr><td>Títulos de Renda Fixa                              </td></tr>\n",
       "\t<tr><td>Outros - Imóveis                                   </td></tr>\n",
       "\t<tr><td>Títulos Tesouro Nacional                           </td></tr>\n",
       "\t<tr><td>FI de Índices Referenciados em RF Subíndices Anbima</td></tr>\n",
       "\t<tr><td>Outros Bens, Direitos e Ativos                     </td></tr>\n",
       "\t<tr><td>Loja                                               </td></tr>\n",
       "\t<tr><td>Casa                                               </td></tr>\n",
       "\t<tr><td>Apartamento                                        </td></tr>\n",
       "</tbody>\n",
       "</table>\n"
      ],
      "text/latex": [
       "\\begin{tabular}{l}\n",
       "\t FI 100\\% títulos TN                                 \\\\\n",
       "\t FI em Direitos Creditórios - Fechado - Cota Sênior \\\\\n",
       "\t FI Renda Fixa/Referenciados RF                     \\\\\n",
       "\t FI de Renda Fixa                                   \\\\\n",
       "\t FI em Ações                                        \\\\\n",
       "\t FI Multimercado - Aberto                           \\\\\n",
       "\t Disponibilidade                                    \\\\\n",
       "\t FI Renda Fixa \"Crédito Privado\"                    \\\\\n",
       "\t FI Ações referenciados                             \\\\\n",
       "\t FI em Direitos Creditórios - Aberto - Cota Sênior  \\\\\n",
       "\t FI Imobiliários                                    \\\\\n",
       "\t Terreno                                            \\\\\n",
       "\t Prédio Comercial                                   \\\\\n",
       "\t FI em Participações - Fechado                      \\\\\n",
       "\t FI de Índices Referenciados em Renda Fixa          \\\\\n",
       "\t Poupança                                           \\\\\n",
       "\t Títulos de Renda Fixa                              \\\\\n",
       "\t Outros - Imóveis                                   \\\\\n",
       "\t Títulos Tesouro Nacional                           \\\\\n",
       "\t FI de Índices Referenciados em RF Subíndices Anbima\\\\\n",
       "\t Outros Bens, Direitos e Ativos                     \\\\\n",
       "\t Loja                                               \\\\\n",
       "\t Casa                                               \\\\\n",
       "\t Apartamento                                        \\\\\n",
       "\\end{tabular}\n"
      ],
      "text/markdown": [
       "\n",
       "| FI 100% títulos TN                                  | \n",
       "| FI em Direitos Creditórios - Fechado - Cota Sênior  | \n",
       "| FI Renda Fixa/Referenciados RF                      | \n",
       "| FI de Renda Fixa                                    | \n",
       "| FI em Ações                                         | \n",
       "| FI Multimercado - Aberto                            | \n",
       "| Disponibilidade                                     | \n",
       "| FI Renda Fixa \"Crédito Privado\"                     | \n",
       "| FI Ações referenciados                              | \n",
       "| FI em Direitos Creditórios - Aberto - Cota Sênior   | \n",
       "| FI Imobiliários                                     | \n",
       "| Terreno                                             | \n",
       "| Prédio Comercial                                    | \n",
       "| FI em Participações - Fechado                       | \n",
       "| FI de Índices Referenciados em Renda Fixa           | \n",
       "| Poupança                                            | \n",
       "| Títulos de Renda Fixa                               | \n",
       "| Outros - Imóveis                                    | \n",
       "| Títulos Tesouro Nacional                            | \n",
       "| FI de Índices Referenciados em RF Subíndices Anbima | \n",
       "| Outros Bens, Direitos e Ativos                      | \n",
       "| Loja                                                | \n",
       "| Casa                                                | \n",
       "| Apartamento                                         | \n",
       "\n",
       "\n"
      ],
      "text/plain": [
       "      [,1]                                               \n",
       " [1,] FI 100% títulos TN                                 \n",
       " [2,] FI em Direitos Creditórios - Fechado - Cota Sênior \n",
       " [3,] FI Renda Fixa/Referenciados RF                     \n",
       " [4,] FI de Renda Fixa                                   \n",
       " [5,] FI em Ações                                        \n",
       " [6,] FI Multimercado - Aberto                           \n",
       " [7,] Disponibilidade                                    \n",
       " [8,] FI Renda Fixa \"Crédito Privado\"                    \n",
       " [9,] FI Ações referenciados                             \n",
       "[10,] FI em Direitos Creditórios - Aberto - Cota Sênior  \n",
       "[11,] FI Imobiliários                                    \n",
       "[12,] Terreno                                            \n",
       "[13,] Prédio Comercial                                   \n",
       "[14,] FI em Participações - Fechado                      \n",
       "[15,] FI de Índices Referenciados em Renda Fixa          \n",
       "[16,] Poupança                                           \n",
       "[17,] Títulos de Renda Fixa                              \n",
       "[18,] Outros - Imóveis                                   \n",
       "[19,] Títulos Tesouro Nacional                           \n",
       "[20,] FI de Índices Referenciados em RF Subíndices Anbima\n",
       "[21,] Outros Bens, Direitos e Ativos                     \n",
       "[22,] Loja                                               \n",
       "[23,] Casa                                               \n",
       "[24,] Apartamento                                        "
      ]
     },
     "metadata": {},
     "output_type": "display_data"
    }
   ],
   "source": [
    "as.matrix(unique(dair$nome))"
   ]
  },
  {
   "cell_type": "markdown",
   "metadata": {},
   "source": [
    "Existem valores faltantes nesta variável?"
   ]
  },
  {
   "cell_type": "code",
   "execution_count": 5,
   "metadata": {
    "collapsed": false
   },
   "outputs": [
    {
     "data": {
      "text/html": [
       "FALSE"
      ],
      "text/latex": [
       "FALSE"
      ],
      "text/markdown": [
       "FALSE"
      ],
      "text/plain": [
       "[1] FALSE"
      ]
     },
     "metadata": {},
     "output_type": "display_data"
    }
   ],
   "source": [
    "any(is.na(dair$nome))"
   ]
  },
  {
   "cell_type": "markdown",
   "metadata": {},
   "source": [
    "Não existem valores faltantes, o que indica que os ativos nos quais os RPPS (ao menos aqueles para os quais conseguimos os dados) estão listados acima.\n",
    "\n",
    "Mas como saber em quais ativos um determinado RPPS está investindo? Para se calcular o pencentual de recursos que cada RPPS investiu em cada ativo, mês a mês, pode-se proceder da seguinte forma:"
   ]
  },
  {
   "cell_type": "code",
   "execution_count": 2,
   "metadata": {
    "collapsed": false
   },
   "outputs": [
    {
     "name": "stderr",
     "output_type": "stream",
     "text": [
      "Warning message:\n",
      "\"package 'dplyr' was built under R version 3.4.2\"\n",
      "Attaching package: 'dplyr'\n",
      "\n",
      "The following objects are masked from 'package:stats':\n",
      "\n",
      "    filter, lag\n",
      "\n",
      "The following objects are masked from 'package:base':\n",
      "\n",
      "    intersect, setdiff, setequal, union\n",
      "\n",
      "Warning message:\n",
      "\"package 'tidyr' was built under R version 3.4.2\"Warning message:\n",
      "\"package 'scales' was built under R version 3.4.2\""
     ]
    },
    {
     "data": {
      "text/html": [
       "<table>\n",
       "<thead><tr><th scope=col>ente</th><th scope=col>data</th><th scope=col>nome</th><th scope=col>textoFundamentoLegal</th><th scope=col>vlrAtivo</th><th scope=col>pctVlrAtivo</th></tr></thead>\n",
       "<tbody>\n",
       "\t<tr><td>Angra dos Reis                                    </td><td>2017-01-01                                        </td><td>Disponibilidade                                   </td><td>Disp.                                             </td><td>    19909.5                                       </td><td> 0.00                                             </td></tr>\n",
       "\t<tr><td>Angra dos Reis                                    </td><td>2017-01-01                                        </td><td>FI 100% títulos TN                                </td><td>Art. 7º, I, \"b\"                                   </td><td>163926006.6                                       </td><td>33.15                                             </td></tr>\n",
       "\t<tr><td>Angra dos Reis                                    </td><td>2017-01-01                                        </td><td>FI Ações referenciados                            </td><td>Art. 8º, I                                        </td><td>  8476668.6                                       </td><td> 1.71                                             </td></tr>\n",
       "\t<tr><td>Angra dos Reis                                    </td><td>2017-01-01                                        </td><td>FI de Renda Fixa                                  </td><td>Art. 7º, IV, \"a\"                                  </td><td> 39376255.9                                       </td><td> 7.96                                             </td></tr>\n",
       "\t<tr><td>Angra dos Reis                                    </td><td>2017-01-01                                        </td><td>FI em Ações                                       </td><td>Art. 8º, III                                      </td><td> 33773543.4                                       </td><td> 6.83                                             </td></tr>\n",
       "\t<tr><td>Angra dos Reis                                    </td><td>2017-01-01                                        </td><td>FI em Direitos Creditórios - Fechado - Cota Sênior</td><td>Art. 7º, VII, \"a\"                                 </td><td>    77723.5                                       </td><td> 0.02                                             </td></tr>\n",
       "\t<tr><td>Angra dos Reis                                    </td><td>2017-01-01                                        </td><td>FI Imobiliários                                   </td><td>Art. 8º, VI                                       </td><td> 15500006.8                                       </td><td> 3.13                                             </td></tr>\n",
       "\t<tr><td>Angra dos Reis                                    </td><td>2017-01-01                                        </td><td>FI Renda Fixa \"Crédito Privado\"                   </td><td>Art. 7º, VII, \"b\"                                 </td><td>  5123732.0                                       </td><td> 1.04                                             </td></tr>\n",
       "\t<tr><td>Angra dos Reis                                    </td><td>2017-01-01                                        </td><td>Títulos Tesouro Nacional                          </td><td>Art. 7º, I, \"a\"                                   </td><td>228166927.3                                       </td><td>46.15                                             </td></tr>\n",
       "\t<tr><td>Angra dos Reis                                    </td><td>2017-02-01                                        </td><td>Disponibilidade                                   </td><td>Disp.                                             </td><td>   563158.8                                       </td><td> 0.11                                             </td></tr>\n",
       "</tbody>\n",
       "</table>\n"
      ],
      "text/latex": [
       "\\begin{tabular}{r|llllll}\n",
       " ente & data & nome & textoFundamentoLegal & vlrAtivo & pctVlrAtivo\\\\\n",
       "\\hline\n",
       "\t Angra dos Reis                                     & 2017-01-01                                         & Disponibilidade                                    & Disp.                                              &     19909.5                                        &  0.00                                             \\\\\n",
       "\t Angra dos Reis                                       & 2017-01-01                                           & FI 100\\% títulos TN                                 & Art. 7º, I, \"b\"                                      & 163926006.6                                          & 33.15                                               \\\\\n",
       "\t Angra dos Reis                                     & 2017-01-01                                         & FI Ações referenciados                             & Art. 8º, I                                         &   8476668.6                                        &  1.71                                             \\\\\n",
       "\t Angra dos Reis                                     & 2017-01-01                                         & FI de Renda Fixa                                   & Art. 7º, IV, \"a\"                                   &  39376255.9                                        &  7.96                                             \\\\\n",
       "\t Angra dos Reis                                     & 2017-01-01                                         & FI em Ações                                        & Art. 8º, III                                       &  33773543.4                                        &  6.83                                             \\\\\n",
       "\t Angra dos Reis                                     & 2017-01-01                                         & FI em Direitos Creditórios - Fechado - Cota Sênior & Art. 7º, VII, \"a\"                                  &     77723.5                                        &  0.02                                             \\\\\n",
       "\t Angra dos Reis                                     & 2017-01-01                                         & FI Imobiliários                                    & Art. 8º, VI                                        &  15500006.8                                        &  3.13                                             \\\\\n",
       "\t Angra dos Reis                                     & 2017-01-01                                         & FI Renda Fixa \"Crédito Privado\"                    & Art. 7º, VII, \"b\"                                  &   5123732.0                                        &  1.04                                             \\\\\n",
       "\t Angra dos Reis                                     & 2017-01-01                                         & Títulos Tesouro Nacional                           & Art. 7º, I, \"a\"                                    & 228166927.3                                        & 46.15                                             \\\\\n",
       "\t Angra dos Reis                                     & 2017-02-01                                         & Disponibilidade                                    & Disp.                                              &    563158.8                                        &  0.11                                             \\\\\n",
       "\\end{tabular}\n"
      ],
      "text/markdown": [
       "\n",
       "ente | data | nome | textoFundamentoLegal | vlrAtivo | pctVlrAtivo | \n",
       "|---|---|---|---|---|---|---|---|---|---|\n",
       "| Angra dos Reis                                     | 2017-01-01                                         | Disponibilidade                                    | Disp.                                              |     19909.5                                        |  0.00                                              | \n",
       "| Angra dos Reis                                     | 2017-01-01                                         | FI 100% títulos TN                                 | Art. 7º, I, \"b\"                                    | 163926006.6                                        | 33.15                                              | \n",
       "| Angra dos Reis                                     | 2017-01-01                                         | FI Ações referenciados                             | Art. 8º, I                                         |   8476668.6                                        |  1.71                                              | \n",
       "| Angra dos Reis                                     | 2017-01-01                                         | FI de Renda Fixa                                   | Art. 7º, IV, \"a\"                                   |  39376255.9                                        |  7.96                                              | \n",
       "| Angra dos Reis                                     | 2017-01-01                                         | FI em Ações                                        | Art. 8º, III                                       |  33773543.4                                        |  6.83                                              | \n",
       "| Angra dos Reis                                     | 2017-01-01                                         | FI em Direitos Creditórios - Fechado - Cota Sênior | Art. 7º, VII, \"a\"                                  |     77723.5                                        |  0.02                                              | \n",
       "| Angra dos Reis                                     | 2017-01-01                                         | FI Imobiliários                                    | Art. 8º, VI                                        |  15500006.8                                        |  3.13                                              | \n",
       "| Angra dos Reis                                     | 2017-01-01                                         | FI Renda Fixa \"Crédito Privado\"                    | Art. 7º, VII, \"b\"                                  |   5123732.0                                        |  1.04                                              | \n",
       "| Angra dos Reis                                     | 2017-01-01                                         | Títulos Tesouro Nacional                           | Art. 7º, I, \"a\"                                    | 228166927.3                                        | 46.15                                              | \n",
       "| Angra dos Reis                                     | 2017-02-01                                         | Disponibilidade                                    | Disp.                                              |    563158.8                                        |  0.11                                              | \n",
       "\n",
       "\n"
      ],
      "text/plain": [
       "   ente           data       nome                                              \n",
       "1  Angra dos Reis 2017-01-01 Disponibilidade                                   \n",
       "2  Angra dos Reis 2017-01-01 FI 100% títulos TN                                \n",
       "3  Angra dos Reis 2017-01-01 FI Ações referenciados                            \n",
       "4  Angra dos Reis 2017-01-01 FI de Renda Fixa                                  \n",
       "5  Angra dos Reis 2017-01-01 FI em Ações                                       \n",
       "6  Angra dos Reis 2017-01-01 FI em Direitos Creditórios - Fechado - Cota Sênior\n",
       "7  Angra dos Reis 2017-01-01 FI Imobiliários                                   \n",
       "8  Angra dos Reis 2017-01-01 FI Renda Fixa \"Crédito Privado\"                   \n",
       "9  Angra dos Reis 2017-01-01 Títulos Tesouro Nacional                          \n",
       "10 Angra dos Reis 2017-02-01 Disponibilidade                                   \n",
       "   textoFundamentoLegal vlrAtivo    pctVlrAtivo\n",
       "1  Disp.                    19909.5  0.00      \n",
       "2  Art. 7º, I, \"b\"      163926006.6 33.15      \n",
       "3  Art. 8º, I             8476668.6  1.71      \n",
       "4  Art. 7º, IV, \"a\"      39376255.9  7.96      \n",
       "5  Art. 8º, III          33773543.4  6.83      \n",
       "6  Art. 7º, VII, \"a\"        77723.5  0.02      \n",
       "7  Art. 8º, VI           15500006.8  3.13      \n",
       "8  Art. 7º, VII, \"b\"      5123732.0  1.04      \n",
       "9  Art. 7º, I, \"a\"      228166927.3 46.15      \n",
       "10 Disp.                   563158.8  0.11      "
      ]
     },
     "metadata": {},
     "output_type": "display_data"
    }
   ],
   "source": [
    "dairAtivoTipo <- dair %>%\n",
    "                 group_by(ente, data, nome, textoFundamentoLegal) %>%\n",
    "                 summarize(vlrAtivo = sum(valorTotalAtual, na.rm=TRUE)) %>%\n",
    "                 ungroup() %>%\n",
    "                 group_by(ente, data) %>%\n",
    "                 mutate(pctVlrAtivo = round(vlrAtivo / sum(vlrAtivo, na.rm=TRUE) * 100, 2))  \n",
    "\n",
    "head(dairAtivoTipo, 10)"
   ]
  },
  {
   "cell_type": "markdown",
   "metadata": {},
   "source": [
    "Agora é possível verificar, para cada RPPS, qual o percentual de seus recursos estão investidos em cada tipo de ativo, mês a més. Por exemplo, supondo que se deseja verificar em quais ativos o RPPS de **Petrópolis** está investindo seus recursos, basta fazer um filtro na variável `ente` e selecionar **`Petrópolis`**. "
   ]
  },
  {
   "cell_type": "code",
   "execution_count": 3,
   "metadata": {
    "collapsed": false
   },
   "outputs": [],
   "source": [
    "# Selecione o Ente para analisar...\n",
    "nm_ente <- \"Petrópolis\""
   ]
  },
  {
   "cell_type": "code",
   "execution_count": 4,
   "metadata": {
    "collapsed": false
   },
   "outputs": [
    {
     "data": {
      "text/html": [
       "<table>\n",
       "<thead><tr><th scope=col>ente</th><th scope=col>nome</th><th scope=col>2017-01-01</th><th scope=col>2017-02-01</th><th scope=col>2017-03-01</th><th scope=col>2017-04-01</th><th scope=col>2017-05-01</th><th scope=col>2017-06-01</th><th scope=col>2017-07-01</th><th scope=col>2017-08-01</th></tr></thead>\n",
       "<tbody>\n",
       "\t<tr><td>Petrópolis        </td><td>Disponibilidade   </td><td>64.76             </td><td>10.11             </td><td>36.61             </td><td>11                </td><td> 4.1              </td><td> 7.36             </td><td>27.3              </td><td>39.13             </td></tr>\n",
       "\t<tr><td>Petrópolis        </td><td>FI 100% títulos TN</td><td>31.01             </td><td>84.98             </td><td>63.39             </td><td>89                </td><td>95.9              </td><td>92.64             </td><td>72.7              </td><td>60.87             </td></tr>\n",
       "\t<tr><td>Petrópolis        </td><td>FI de Renda Fixa  </td><td> 4.23             </td><td> 4.90             </td><td> 0.00             </td><td>NA                </td><td>  NA              </td><td>   NA             </td><td>  NA              </td><td>   NA             </td></tr>\n",
       "</tbody>\n",
       "</table>\n"
      ],
      "text/latex": [
       "\\begin{tabular}{r|llllllllll}\n",
       " ente & nome & 2017-01-01 & 2017-02-01 & 2017-03-01 & 2017-04-01 & 2017-05-01 & 2017-06-01 & 2017-07-01 & 2017-08-01\\\\\n",
       "\\hline\n",
       "\t Petrópolis         & Disponibilidade    & 64.76              & 10.11              & 36.61              & 11                 &  4.1               &  7.36              & 27.3               & 39.13             \\\\\n",
       "\t Petrópolis           & FI 100\\% títulos TN & 31.01                & 84.98                & 63.39                & 89                   & 95.9                 & 92.64                & 72.7                 & 60.87               \\\\\n",
       "\t Petrópolis         & FI de Renda Fixa   &  4.23              &  4.90              &  0.00              & NA                 &   NA               &    NA              &   NA               &    NA             \\\\\n",
       "\\end{tabular}\n"
      ],
      "text/markdown": [
       "\n",
       "ente | nome | 2017-01-01 | 2017-02-01 | 2017-03-01 | 2017-04-01 | 2017-05-01 | 2017-06-01 | 2017-07-01 | 2017-08-01 | \n",
       "|---|---|---|\n",
       "| Petrópolis         | Disponibilidade    | 64.76              | 10.11              | 36.61              | 11                 |  4.1               |  7.36              | 27.3               | 39.13              | \n",
       "| Petrópolis         | FI 100% títulos TN | 31.01              | 84.98              | 63.39              | 89                 | 95.9               | 92.64              | 72.7               | 60.87              | \n",
       "| Petrópolis         | FI de Renda Fixa   |  4.23              |  4.90              |  0.00              | NA                 |   NA               |    NA              |   NA               |    NA              | \n",
       "\n",
       "\n"
      ],
      "text/plain": [
       "  ente       nome               2017-01-01 2017-02-01 2017-03-01 2017-04-01\n",
       "1 Petrópolis Disponibilidade    64.76      10.11      36.61      11        \n",
       "2 Petrópolis FI 100% títulos TN 31.01      84.98      63.39      89        \n",
       "3 Petrópolis FI de Renda Fixa    4.23       4.90       0.00      NA        \n",
       "  2017-05-01 2017-06-01 2017-07-01 2017-08-01\n",
       "1  4.1        7.36      27.3       39.13     \n",
       "2 95.9       92.64      72.7       60.87     \n",
       "3   NA          NA        NA          NA     "
      ]
     },
     "metadata": {},
     "output_type": "display_data"
    }
   ],
   "source": [
    "# Tabela com a composição do ativo\n",
    "# Identifica, para cada Ente qual a composição, mes a mes, da carteira...\n",
    "dairAtivoTipo %>%\n",
    "     filter(ente == nm_ente) %>%\n",
    "     select(-vlrAtivo, -textoFundamentoLegal) %>%\n",
    "     spread(key=data, value=pctVlrAtivo)\n"
   ]
  },
  {
   "cell_type": "markdown",
   "metadata": {},
   "source": [
    "Para uma visualização da evolução temporal das aplicações:"
   ]
  },
  {
   "cell_type": "code",
   "execution_count": 31,
   "metadata": {
    "collapsed": false
   },
   "outputs": [
    {
     "data": {},
     "metadata": {},
     "output_type": "display_data"
    },
    {
     "data": {
      "image/png": "[encoded data removed]",
      "text/plain": [
       "plot without title"
      ]
     },
     "metadata": {},
     "output_type": "display_data"
    }
   ],
   "source": [
    "# Gráfico da evolução de cada tipo de ativo...\n",
    "options(repr.plot.width = 7, repr.plot.height = 3) \n",
    "\n",
    "ggplot(filter(dairAtivoTipo, ente == nm_ente),\n",
    "       aes(x = format(data, \"%Y-%m\"),\n",
    "           y = pctVlrAtivo,\n",
    "           group=nome)) +\n",
    "  geom_line(aes(color=nome), size=1) +\n",
    "  geom_point(aes(color=nome), size=2) +\n",
    "  xlab(\"Meses\") + ylab(\"Participação dos Ativos (%)\") +\n",
    "  ggtitle(paste(\"Evolução dos Ativos de\", nm_ente))"
   ]
  },
  {
   "cell_type": "markdown",
   "metadata": {},
   "source": [
    "O exame da composição dos investimentos dos RPPS seria muito facilitada se houvesse uma forma de selecionar o Ente a partir de um menu *dropdown*. Infelizmente, ainda não é possível inserir uma aplicação shiny em um notebook Jupyter. "
   ]
  },
  {
   "cell_type": "markdown",
   "metadata": {},
   "source": [
    "## 2.2 - Enquadramento dos Fundos de Investimento\n",
    "\n",
    "Neste tópico, o objetivo é verificar se o enquadramento dos Fundos de Investimentos nos quais o RPPS investe seus recursos está em conformidade com o enquadramento proposto pelo Ministério da Fazenda.\n",
    "\n",
    "Como já mencionado anteriormente, existe restrições quanto ao montante de recursos que o RPPS pode aplicar em determinados instrumetnos financeiros. Por exemplo, a Resolução 3.922/10 estabelece que o RPPS pode investir no máximo 5%de seus recursos em Operações Compromissadas (Art. 7^o^, II). Assim, os RPPS podem se sentir tentados a informar no DAIR um enquadramento diferente para um determinado fundo com o objetivo de fugir dos limites impostos pela Resolução. \n",
    "\n",
    "O Minstério da Fazenda disponibiliza uma planilha em excel contendo o que entende ser o correto enquadramento de diversos Fundos de Investimento.\n",
    "\n",
    "O objetivo será então cruzar os dados do DAIR relativos às aplicações em fundos de investimento e cruzar com os dados da planilha fornecida pelo Ministério da Fazenda e verificar se os enquadramentos estão coincidindo."
   ]
  },
  {
   "cell_type": "code",
   "execution_count": 5,
   "metadata": {
    "collapsed": false
   },
   "outputs": [
    {
     "data": {
      "text/html": [
       "<table>\n",
       "<thead><tr><th scope=col>CNPJ</th><th scope=col>Nome do Fundo</th><th scope=col>Classificação Padronizada</th><th scope=col>Nome Administrador</th><th scope=col>CNPJ Administrador</th></tr></thead>\n",
       "<tbody>\n",
       "\t<tr><td>00.068.305/0001-35                                  </td><td>FIC CAIXA AZULFIC RF LP                             </td><td>Art. 7º, IV, \"a\"                                    </td><td>CAIXA ECONÔMICA FEDERAL\r\n",
       "                         </td><td>00.360.305/0001-04                                  </td></tr>\n",
       "\t<tr><td>00.180.995/0001-10                                  </td><td>SAFRA MAX RF FIC                                    </td><td>Art. 7º, IV, \"a\"                                    </td><td>JS ADMINISTRAÇÃO DE RECURSOS S.A.                   </td><td>43.826.833/0001-19                                  </td></tr>\n",
       "\t<tr><td>00.322.699/0001-06                                  </td><td>HSBC FI REFERENCIADO DI CREDITO PRIVADO LP EXECUTIVO</td><td>Art. 7º, VII, \"b\"                                   </td><td>HSBC BANK BRASIL S.A. – BANCO MÚLTIPLO              </td><td>01.701.201/0001-89                                  </td></tr>\n",
       "</tbody>\n",
       "</table>\n"
      ],
      "text/latex": [
       "\\begin{tabular}{r|lllll}\n",
       " CNPJ & Nome do Fundo & Classificação Padronizada & Nome Administrador & CNPJ Administrador\\\\\n",
       "\\hline\n",
       "\t 00.068.305/0001-35                                   & FIC CAIXA AZULFIC RF LP                              & Art. 7º, IV, \"a\"                                     & CAIXA ECONÔMICA FEDERAL\r\n",
       "                          & 00.360.305/0001-04                                  \\\\\n",
       "\t 00.180.995/0001-10                                   & SAFRA MAX RF FIC                                     & Art. 7º, IV, \"a\"                                     & JS ADMINISTRAÇÃO DE RECURSOS S.A.                    & 43.826.833/0001-19                                  \\\\\n",
       "\t 00.322.699/0001-06                                   & HSBC FI REFERENCIADO DI CREDITO PRIVADO LP EXECUTIVO & Art. 7º, VII, \"b\"                                    & HSBC BANK BRASIL S.A. – BANCO MÚLTIPLO               & 01.701.201/0001-89                                  \\\\\n",
       "\\end{tabular}\n"
      ],
      "text/markdown": [
       "\n",
       "CNPJ | Nome do Fundo | Classificação Padronizada | Nome Administrador | CNPJ Administrador | \n",
       "|---|---|---|\n",
       "| 00.068.305/0001-35                                   | FIC CAIXA AZULFIC RF LP                              | Art. 7º, IV, \"a\"                                     | CAIXA ECONÔMICA FEDERAL\r\n",
       "                          | 00.360.305/0001-04                                   | \n",
       "| 00.180.995/0001-10                                   | SAFRA MAX RF FIC                                     | Art. 7º, IV, \"a\"                                     | JS ADMINISTRAÇÃO DE RECURSOS S.A.                    | 43.826.833/0001-19                                   | \n",
       "| 00.322.699/0001-06                                   | HSBC FI REFERENCIADO DI CREDITO PRIVADO LP EXECUTIVO | Art. 7º, VII, \"b\"                                    | HSBC BANK BRASIL S.A. – BANCO MÚLTIPLO               | 01.701.201/0001-89                                   | \n",
       "\n",
       "\n"
      ],
      "text/plain": [
       "  CNPJ               Nome do Fundo                                       \n",
       "1 00.068.305/0001-35 FIC CAIXA AZULFIC RF LP                             \n",
       "2 00.180.995/0001-10 SAFRA MAX RF FIC                                    \n",
       "3 00.322.699/0001-06 HSBC FI REFERENCIADO DI CREDITO PRIVADO LP EXECUTIVO\n",
       "  Classificação Padronizada Nome Administrador                    \n",
       "1 Art. 7º, IV, \"a\"          CAIXA ECONÔMICA FEDERAL\\r\\n           \n",
       "2 Art. 7º, IV, \"a\"          JS ADMINISTRAÇÃO DE RECURSOS S.A.     \n",
       "3 Art. 7º, VII, \"b\"         HSBC BANK BRASIL S.A.  BANCO MÚLTIPLO\n",
       "  CNPJ Administrador\n",
       "1 00.360.305/0001-04\n",
       "2 43.826.833/0001-19\n",
       "3 01.701.201/0001-89"
      ]
     },
     "metadata": {},
     "output_type": "display_data"
    }
   ],
   "source": [
    "setwd(\"C:\\\\Users\\\\Marcos\\\\Documents\\\\GitHub\\\\Usando-R-em-Auditoria\\\\dados\\\\analise-dados-dair\")\n",
    "\n",
    "classif_fundos <- read_excel('2017_10-16-Planilha-de-enquadramento-dos-Fundos-SRPPS-CGACI-DIINV.xlsx',\n",
    "                             sheet = 'Enquadramento dos fundos')\n",
    "\n",
    "head(classif_fundos, 3)"
   ]
  },
  {
   "cell_type": "markdown",
   "metadata": {},
   "source": [
    "Como se pode observar, a planilha fornece, dentre outras variáveis, os CNPJ dos Fundos de Investimento (coluna **CNPJ**), os nomes dos Fundos de Investimento (coluna **Nome do Fundo**) e também o enquadramento de cada Fundo de Investimento em conformidade com a Resolução 3922/10 (coluna **Classificação Padronizada**).\n",
    "\n",
    "Tendo já importado os dados do DAIR (`dair`) e os dados da planilha de enquadramento (`classif_fundos`) o passo seguinte é juntar as duas bases de dados tomando como chave o CNPJ dos Fundos de Investimento.  \n",
    "\n",
    "Na base de dados do DAIR, esta informação está na coluna `cnpj_fi` e na base de dados do Ministério da Fazenda (planilha de enquadramento - `classif_fundos`) esta informação está na coluna `CNPJ`.\n",
    "\n",
    "Uma rápida inspeção dos dados permite concluir que os valores destas duas variáveis estão com a mesma formatação, não havendo pois necessidade de nenhum pré-prossessamento antes de juntar as duas bases. Isto pode ser feito da seguinte forma: "
   ]
  },
  {
   "cell_type": "code",
   "execution_count": 6,
   "metadata": {
    "collapsed": false
   },
   "outputs": [
    {
     "data": {
      "text/html": [
       "8973"
      ],
      "text/latex": [
       "8973"
      ],
      "text/markdown": [
       "8973"
      ],
      "text/plain": [
       "[1] 8973"
      ]
     },
     "metadata": {},
     "output_type": "display_data"
    }
   ],
   "source": [
    "# Quantidade de observações na base de dados do dair\n",
    "nrow(dair)"
   ]
  },
  {
   "cell_type": "code",
   "execution_count": 7,
   "metadata": {
    "collapsed": true
   },
   "outputs": [],
   "source": [
    "dair2 <- merge(dair, classif_fundos[,c(\"CNPJ\", \"Nome do Fundo\", \"Classificação Padronizada\")],\n",
    "              by.x=\"cnpj_fi\",\n",
    "              by.y=\"CNPJ\",\n",
    "              all.x=TRUE)"
   ]
  },
  {
   "cell_type": "code",
   "execution_count": 8,
   "metadata": {
    "collapsed": false
   },
   "outputs": [
    {
     "data": {
      "text/html": [
       "9019"
      ],
      "text/latex": [
       "9019"
      ],
      "text/markdown": [
       "9019"
      ],
      "text/plain": [
       "[1] 9019"
      ]
     },
     "metadata": {},
     "output_type": "display_data"
    },
    {
     "data": {
      "text/html": [
       "<table>\n",
       "<thead><tr><th scope=col>cnpj_fi</th><th scope=col>ente</th><th scope=col>ano</th><th scope=col>mes</th><th scope=col>identificacaoDoAtivo</th><th scope=col>nome</th><th scope=col>textoFundamentoLegal</th><th scope=col>quantidade</th><th scope=col>valorAtualAtivo</th><th scope=col>valorTotalAtual</th><th scope=col>pctTotalRecursosSPPS</th><th scope=col>valorAtualPatrimonioLiquidoFundo</th><th scope=col>pctPatrimonioLiquidoFundo</th><th scope=col>data</th><th scope=col>Nome do Fundo</th><th scope=col>Classificação Padronizada</th></tr></thead>\n",
       "<tbody>\n",
       "\t<tr><td>00.832.435/0001-00                                                                        </td><td>Varre-Sai                                                                                 </td><td>2017                                                                                      </td><td>4                                                                                         </td><td>00.832.435/0001-00 - ITAÚ INSTITUCIONAL RF REF DI - FI                                    </td><td>FI de Renda Fixa                                                                          </td><td>Art. 7º, IV, \"a\"                                                                          </td><td>105.3158                                                                                  </td><td>2616.893                                                                                  </td><td> 275600.3                                                                                 </td><td>0.63                                                                                      </td><td>1240882585                                                                                </td><td>0.02                                                                                      </td><td>2017-04-01                                                                                </td><td>ITAÚ INSTITUCIONAL REFERENCIADO DI                                                        </td><td>Art. 7º, IV, \"a\"                                                                          </td></tr>\n",
       "\t<tr><td>00.832.435/0001-00                                                                        </td><td>Rio de Janeiro                                                                            </td><td>2017                                                                                      </td><td>6                                                                                         </td><td>00.832.435/0001-00 - ITAÚ INSTITUCIONAL RENDA FIXA REFERENCIADO DI - FUNDO DE INVESTIMENTO</td><td>FI de Renda Fixa                                                                          </td><td>Art. 7º, IV, \"a\"                                                                          </td><td>756.2296                                                                                  </td><td>2662.509                                                                                  </td><td>2013468.5                                                                                 </td><td>0.00                                                                                      </td><td>1300843462                                                                                </td><td>0.15                                                                                      </td><td>2017-06-01                                                                                </td><td>ITAÚ INSTITUCIONAL REFERENCIADO DI                                                        </td><td>Art. 7º, IV, \"a\"                                                                          </td></tr>\n",
       "\t<tr><td>00.832.435/0001-00                                                                        </td><td>Rio de Janeiro                                                                            </td><td>2017                                                                                      </td><td>3                                                                                         </td><td>00.832.435/0001-00 - ITAÚ INSTITUCIONAL RENDA FIXA REFERENCIADO DI - FUNDO DE INVESTIMENTO</td><td>FI de Renda Fixa                                                                          </td><td>Art. 7º, IV, \"a\"                                                                          </td><td>352.8812                                                                                  </td><td>2596.509                                                                                  </td><td> 916259.2                                                                                 </td><td>0.00                                                                                      </td><td>1354867802                                                                                </td><td>0.07                                                                                      </td><td>2017-03-01                                                                                </td><td>ITAÚ INSTITUCIONAL REFERENCIADO DI                                                        </td><td>Art. 7º, IV, \"a\"                                                                          </td></tr>\n",
       "</tbody>\n",
       "</table>\n"
      ],
      "text/latex": [
       "\\begin{tabular}{r|llllllllllllllll}\n",
       " cnpj\\_fi & ente & ano & mes & identificacaoDoAtivo & nome & textoFundamentoLegal & quantidade & valorAtualAtivo & valorTotalAtual & pctTotalRecursosSPPS & valorAtualPatrimonioLiquidoFundo & pctPatrimonioLiquidoFundo & data & Nome do Fundo & Classificação Padronizada\\\\\n",
       "\\hline\n",
       "\t 00.832.435/0001-00                                                                         & Varre-Sai                                                                                  & 2017                                                                                       & 4                                                                                          & 00.832.435/0001-00 - ITAÚ INSTITUCIONAL RF REF DI - FI                                     & FI de Renda Fixa                                                                           & Art. 7º, IV, \"a\"                                                                           & 105.3158                                                                                   & 2616.893                                                                                   &  275600.3                                                                                  & 0.63                                                                                       & 1240882585                                                                                 & 0.02                                                                                       & 2017-04-01                                                                                 & ITAÚ INSTITUCIONAL REFERENCIADO DI                                                         & Art. 7º, IV, \"a\"                                                                          \\\\\n",
       "\t 00.832.435/0001-00                                                                         & Rio de Janeiro                                                                             & 2017                                                                                       & 6                                                                                          & 00.832.435/0001-00 - ITAÚ INSTITUCIONAL RENDA FIXA REFERENCIADO DI - FUNDO DE INVESTIMENTO & FI de Renda Fixa                                                                           & Art. 7º, IV, \"a\"                                                                           & 756.2296                                                                                   & 2662.509                                                                                   & 2013468.5                                                                                  & 0.00                                                                                       & 1300843462                                                                                 & 0.15                                                                                       & 2017-06-01                                                                                 & ITAÚ INSTITUCIONAL REFERENCIADO DI                                                         & Art. 7º, IV, \"a\"                                                                          \\\\\n",
       "\t 00.832.435/0001-00                                                                         & Rio de Janeiro                                                                             & 2017                                                                                       & 3                                                                                          & 00.832.435/0001-00 - ITAÚ INSTITUCIONAL RENDA FIXA REFERENCIADO DI - FUNDO DE INVESTIMENTO & FI de Renda Fixa                                                                           & Art. 7º, IV, \"a\"                                                                           & 352.8812                                                                                   & 2596.509                                                                                   &  916259.2                                                                                  & 0.00                                                                                       & 1354867802                                                                                 & 0.07                                                                                       & 2017-03-01                                                                                 & ITAÚ INSTITUCIONAL REFERENCIADO DI                                                         & Art. 7º, IV, \"a\"                                                                          \\\\\n",
       "\\end{tabular}\n"
      ],
      "text/markdown": [
       "\n",
       "cnpj_fi | ente | ano | mes | identificacaoDoAtivo | nome | textoFundamentoLegal | quantidade | valorAtualAtivo | valorTotalAtual | pctTotalRecursosSPPS | valorAtualPatrimonioLiquidoFundo | pctPatrimonioLiquidoFundo | data | Nome do Fundo | Classificação Padronizada | \n",
       "|---|---|---|\n",
       "| 00.832.435/0001-00                                                                         | Varre-Sai                                                                                  | 2017                                                                                       | 4                                                                                          | 00.832.435/0001-00 - ITAÚ INSTITUCIONAL RF REF DI - FI                                     | FI de Renda Fixa                                                                           | Art. 7º, IV, \"a\"                                                                           | 105.3158                                                                                   | 2616.893                                                                                   |  275600.3                                                                                  | 0.63                                                                                       | 1240882585                                                                                 | 0.02                                                                                       | 2017-04-01                                                                                 | ITAÚ INSTITUCIONAL REFERENCIADO DI                                                         | Art. 7º, IV, \"a\"                                                                           | \n",
       "| 00.832.435/0001-00                                                                         | Rio de Janeiro                                                                             | 2017                                                                                       | 6                                                                                          | 00.832.435/0001-00 - ITAÚ INSTITUCIONAL RENDA FIXA REFERENCIADO DI - FUNDO DE INVESTIMENTO | FI de Renda Fixa                                                                           | Art. 7º, IV, \"a\"                                                                           | 756.2296                                                                                   | 2662.509                                                                                   | 2013468.5                                                                                  | 0.00                                                                                       | 1300843462                                                                                 | 0.15                                                                                       | 2017-06-01                                                                                 | ITAÚ INSTITUCIONAL REFERENCIADO DI                                                         | Art. 7º, IV, \"a\"                                                                           | \n",
       "| 00.832.435/0001-00                                                                         | Rio de Janeiro                                                                             | 2017                                                                                       | 3                                                                                          | 00.832.435/0001-00 - ITAÚ INSTITUCIONAL RENDA FIXA REFERENCIADO DI - FUNDO DE INVESTIMENTO | FI de Renda Fixa                                                                           | Art. 7º, IV, \"a\"                                                                           | 352.8812                                                                                   | 2596.509                                                                                   |  916259.2                                                                                  | 0.00                                                                                       | 1354867802                                                                                 | 0.07                                                                                       | 2017-03-01                                                                                 | ITAÚ INSTITUCIONAL REFERENCIADO DI                                                         | Art. 7º, IV, \"a\"                                                                           | \n",
       "\n",
       "\n"
      ],
      "text/plain": [
       "  cnpj_fi            ente           ano  mes\n",
       "1 00.832.435/0001-00 Varre-Sai      2017 4  \n",
       "2 00.832.435/0001-00 Rio de Janeiro 2017 6  \n",
       "3 00.832.435/0001-00 Rio de Janeiro 2017 3  \n",
       "  identificacaoDoAtivo                                                                      \n",
       "1 00.832.435/0001-00 - ITAÚ INSTITUCIONAL RF REF DI - FI                                    \n",
       "2 00.832.435/0001-00 - ITAÚ INSTITUCIONAL RENDA FIXA REFERENCIADO DI - FUNDO DE INVESTIMENTO\n",
       "3 00.832.435/0001-00 - ITAÚ INSTITUCIONAL RENDA FIXA REFERENCIADO DI - FUNDO DE INVESTIMENTO\n",
       "  nome             textoFundamentoLegal quantidade valorAtualAtivo\n",
       "1 FI de Renda Fixa Art. 7º, IV, \"a\"     105.3158   2616.893       \n",
       "2 FI de Renda Fixa Art. 7º, IV, \"a\"     756.2296   2662.509       \n",
       "3 FI de Renda Fixa Art. 7º, IV, \"a\"     352.8812   2596.509       \n",
       "  valorTotalAtual pctTotalRecursosSPPS valorAtualPatrimonioLiquidoFundo\n",
       "1  275600.3       0.63                 1240882585                      \n",
       "2 2013468.5       0.00                 1300843462                      \n",
       "3  916259.2       0.00                 1354867802                      \n",
       "  pctPatrimonioLiquidoFundo data       Nome do Fundo                     \n",
       "1 0.02                      2017-04-01 ITAÚ INSTITUCIONAL REFERENCIADO DI\n",
       "2 0.15                      2017-06-01 ITAÚ INSTITUCIONAL REFERENCIADO DI\n",
       "3 0.07                      2017-03-01 ITAÚ INSTITUCIONAL REFERENCIADO DI\n",
       "  Classificação Padronizada\n",
       "1 Art. 7º, IV, \"a\"         \n",
       "2 Art. 7º, IV, \"a\"         \n",
       "3 Art. 7º, IV, \"a\"         "
      ]
     },
     "metadata": {},
     "output_type": "display_data"
    }
   ],
   "source": [
    "nrow(dair2)\n",
    "head(dair2, 3)"
   ]
  },
  {
   "cell_type": "markdown",
   "metadata": {},
   "source": [
    "Após a reunião das duas bases de dados, é possível verificar que a base original aumentou a quantidade de registros. Tal fato ocorreu em razão de existir registros duplicados na base de dados `classif_fundos`, como mostrado a seguir:"
   ]
  },
  {
   "cell_type": "code",
   "execution_count": 9,
   "metadata": {
    "collapsed": false
   },
   "outputs": [
    {
     "data": {
      "text/html": [
       "<table>\n",
       "<thead><tr><th scope=col>CNPJ</th><th scope=col>Nome do Fundo</th><th scope=col>Classificação Padronizada</th><th scope=col>Nome Administrador</th><th scope=col>CNPJ Administrador</th></tr></thead>\n",
       "<tbody>\n",
       "\t<tr><td>19.638.649/0001-60                                                        </td><td>BB PREVIDENCIÁRIO RENDA FIXA TP VIII FI                                   </td><td>Art. 7º, IV, \"a\"                                                          </td><td>BB GESTÃO DE RECURSOS - DISTRIBUIDORA DE TÍTULOS E VALORES MOBILIÁRIOS S.A</td><td>30.822.936/0001-69                                                        </td></tr>\n",
       "\t<tr><td>19.638.649/0001-60                                                        </td><td>BB TITULOS PÚBLICOS VII FI RENDA FIXA PREVIDENCIÁRIO                      </td><td>Art. 7º, IV, \"a\"                                                          </td><td>BB GESTÃO DE RECURSOS - DISTRIBUIDORA DE TÍTULOS E VALORES MOBILIÁRIOS S.A</td><td>30.822.936/0001-69                                                        </td></tr>\n",
       "\t<tr><td>21.918.896/0001-62                                                        </td><td>FI CAIXA BRASIL IPCA XVI RF CREDITO PRIVADO                               </td><td>Art. 7º, VII, \"b\"                                                         </td><td>CAIXA ECONÔMICA FEDERAL\r\n",
       "                                               </td><td>00.360.305/0001-04                                                        </td></tr>\n",
       "\t<tr><td>21.918.896/0001-62                                                        </td><td>FUNDO CAIXA FI BRASIL IPCA XVI REF CRED PRIVADO                           </td><td>Art. 7º, VII, \"b\"                                                         </td><td>CAIXA ECONÔMICA FEDERAL\r\n",
       "                                               </td><td>00.360.305/0001-04                                                        </td></tr>\n",
       "\t<tr><td>09.412.687/0001-47                                                        </td><td>CAPITÂNIA MULTI CRÉDITO PRIVADO FIC FI MULTIMERCADO                       </td><td>Art. 8º, IV                                                               </td><td>BNY MELLON SERVIÇOS FINANCEIROS DTVM S.A                                  </td><td>02.201.501/0001-61                                                        </td></tr>\n",
       "\t<tr><td>16.501.705/0001-22                                                        </td><td>FLIT FUNDO DE INVESTIMENTO EM AÇÕES LONG STOCKS                           </td><td>Art. 8º, III                                                              </td><td>PLANNER CORRETORA DE VALORES S.A.                                         </td><td>00.806.535/0001-54                                                        </td></tr>\n",
       "\t<tr><td>16.501.705/0001-22                                                        </td><td>FLIT FUNDO DE INVESTIMENTO EM AÇÕES LONG STOCKS                           </td><td>Art. 8º, III                                                              </td><td>PLANNER CORRETORA DE VALORES S.A.                                         </td><td>00.806.535/0001-54                                                        </td></tr>\n",
       "\t<tr><td>09.412.687/0001-47                                                        </td><td>CAPITÂNIA MULTI CRÉDITO PRIVADO FIC FI MULTIMERCADO                       </td><td>Art. 8º, IV                                                               </td><td>BNY MELLON SERVIÇOS FINANCEIROS DTVM S.A                                  </td><td>02.201.501/0001-61                                                        </td></tr>\n",
       "</tbody>\n",
       "</table>\n"
      ],
      "text/latex": [
       "\\begin{tabular}{r|lllll}\n",
       " CNPJ & Nome do Fundo & Classificação Padronizada & Nome Administrador & CNPJ Administrador\\\\\n",
       "\\hline\n",
       "\t 19.638.649/0001-60                                                         & BB PREVIDENCIÁRIO RENDA FIXA TP VIII FI                                    & Art. 7º, IV, \"a\"                                                           & BB GESTÃO DE RECURSOS - DISTRIBUIDORA DE TÍTULOS E VALORES MOBILIÁRIOS S.A & 30.822.936/0001-69                                                        \\\\\n",
       "\t 19.638.649/0001-60                                                         & BB TITULOS PÚBLICOS VII FI RENDA FIXA PREVIDENCIÁRIO                       & Art. 7º, IV, \"a\"                                                           & BB GESTÃO DE RECURSOS - DISTRIBUIDORA DE TÍTULOS E VALORES MOBILIÁRIOS S.A & 30.822.936/0001-69                                                        \\\\\n",
       "\t 21.918.896/0001-62                                                         & FI CAIXA BRASIL IPCA XVI RF CREDITO PRIVADO                                & Art. 7º, VII, \"b\"                                                          & CAIXA ECONÔMICA FEDERAL\r\n",
       "                                                & 00.360.305/0001-04                                                        \\\\\n",
       "\t 21.918.896/0001-62                                                         & FUNDO CAIXA FI BRASIL IPCA XVI REF CRED PRIVADO                            & Art. 7º, VII, \"b\"                                                          & CAIXA ECONÔMICA FEDERAL\r\n",
       "                                                & 00.360.305/0001-04                                                        \\\\\n",
       "\t 09.412.687/0001-47                                                         & CAPITÂNIA MULTI CRÉDITO PRIVADO FIC FI MULTIMERCADO                        & Art. 8º, IV                                                                & BNY MELLON SERVIÇOS FINANCEIROS DTVM S.A                                   & 02.201.501/0001-61                                                        \\\\\n",
       "\t 16.501.705/0001-22                                                         & FLIT FUNDO DE INVESTIMENTO EM AÇÕES LONG STOCKS                            & Art. 8º, III                                                               & PLANNER CORRETORA DE VALORES S.A.                                          & 00.806.535/0001-54                                                        \\\\\n",
       "\t 16.501.705/0001-22                                                         & FLIT FUNDO DE INVESTIMENTO EM AÇÕES LONG STOCKS                            & Art. 8º, III                                                               & PLANNER CORRETORA DE VALORES S.A.                                          & 00.806.535/0001-54                                                        \\\\\n",
       "\t 09.412.687/0001-47                                                         & CAPITÂNIA MULTI CRÉDITO PRIVADO FIC FI MULTIMERCADO                        & Art. 8º, IV                                                                & BNY MELLON SERVIÇOS FINANCEIROS DTVM S.A                                   & 02.201.501/0001-61                                                        \\\\\n",
       "\\end{tabular}\n"
      ],
      "text/markdown": [
       "\n",
       "CNPJ | Nome do Fundo | Classificação Padronizada | Nome Administrador | CNPJ Administrador | \n",
       "|---|---|---|---|---|---|---|---|\n",
       "| 19.638.649/0001-60                                                         | BB PREVIDENCIÁRIO RENDA FIXA TP VIII FI                                    | Art. 7º, IV, \"a\"                                                           | BB GESTÃO DE RECURSOS - DISTRIBUIDORA DE TÍTULOS E VALORES MOBILIÁRIOS S.A | 30.822.936/0001-69                                                         | \n",
       "| 19.638.649/0001-60                                                         | BB TITULOS PÚBLICOS VII FI RENDA FIXA PREVIDENCIÁRIO                       | Art. 7º, IV, \"a\"                                                           | BB GESTÃO DE RECURSOS - DISTRIBUIDORA DE TÍTULOS E VALORES MOBILIÁRIOS S.A | 30.822.936/0001-69                                                         | \n",
       "| 21.918.896/0001-62                                                         | FI CAIXA BRASIL IPCA XVI RF CREDITO PRIVADO                                | Art. 7º, VII, \"b\"                                                          | CAIXA ECONÔMICA FEDERAL\r\n",
       "                                                | 00.360.305/0001-04                                                         | \n",
       "| 21.918.896/0001-62                                                         | FUNDO CAIXA FI BRASIL IPCA XVI REF CRED PRIVADO                            | Art. 7º, VII, \"b\"                                                          | CAIXA ECONÔMICA FEDERAL\r\n",
       "                                                | 00.360.305/0001-04                                                         | \n",
       "| 09.412.687/0001-47                                                         | CAPITÂNIA MULTI CRÉDITO PRIVADO FIC FI MULTIMERCADO                        | Art. 8º, IV                                                                | BNY MELLON SERVIÇOS FINANCEIROS DTVM S.A                                   | 02.201.501/0001-61                                                         | \n",
       "| 16.501.705/0001-22                                                         | FLIT FUNDO DE INVESTIMENTO EM AÇÕES LONG STOCKS                            | Art. 8º, III                                                               | PLANNER CORRETORA DE VALORES S.A.                                          | 00.806.535/0001-54                                                         | \n",
       "| 16.501.705/0001-22                                                         | FLIT FUNDO DE INVESTIMENTO EM AÇÕES LONG STOCKS                            | Art. 8º, III                                                               | PLANNER CORRETORA DE VALORES S.A.                                          | 00.806.535/0001-54                                                         | \n",
       "| 09.412.687/0001-47                                                         | CAPITÂNIA MULTI CRÉDITO PRIVADO FIC FI MULTIMERCADO                        | Art. 8º, IV                                                                | BNY MELLON SERVIÇOS FINANCEIROS DTVM S.A                                   | 02.201.501/0001-61                                                         | \n",
       "\n",
       "\n"
      ],
      "text/plain": [
       "  CNPJ               Nome do Fundo                                       \n",
       "1 19.638.649/0001-60 BB PREVIDENCIÁRIO RENDA FIXA TP VIII FI             \n",
       "2 19.638.649/0001-60 BB TITULOS PÚBLICOS VII FI RENDA FIXA PREVIDENCIÁRIO\n",
       "3 21.918.896/0001-62 FI CAIXA BRASIL IPCA XVI RF CREDITO PRIVADO         \n",
       "4 21.918.896/0001-62 FUNDO CAIXA FI BRASIL IPCA XVI REF CRED PRIVADO     \n",
       "5 09.412.687/0001-47 CAPITÂNIA MULTI CRÉDITO PRIVADO FIC FI MULTIMERCADO \n",
       "6 16.501.705/0001-22 FLIT FUNDO DE INVESTIMENTO EM AÇÕES LONG STOCKS     \n",
       "7 16.501.705/0001-22 FLIT FUNDO DE INVESTIMENTO EM AÇÕES LONG STOCKS     \n",
       "8 09.412.687/0001-47 CAPITÂNIA MULTI CRÉDITO PRIVADO FIC FI MULTIMERCADO \n",
       "  Classificação Padronizada\n",
       "1 Art. 7º, IV, \"a\"         \n",
       "2 Art. 7º, IV, \"a\"         \n",
       "3 Art. 7º, VII, \"b\"        \n",
       "4 Art. 7º, VII, \"b\"        \n",
       "5 Art. 8º, IV              \n",
       "6 Art. 8º, III             \n",
       "7 Art. 8º, III             \n",
       "8 Art. 8º, IV              \n",
       "  Nome Administrador                                                        \n",
       "1 BB GESTÃO DE RECURSOS - DISTRIBUIDORA DE TÍTULOS E VALORES MOBILIÁRIOS S.A\n",
       "2 BB GESTÃO DE RECURSOS - DISTRIBUIDORA DE TÍTULOS E VALORES MOBILIÁRIOS S.A\n",
       "3 CAIXA ECONÔMICA FEDERAL\\r\\n                                               \n",
       "4 CAIXA ECONÔMICA FEDERAL\\r\\n                                               \n",
       "5 BNY MELLON SERVIÇOS FINANCEIROS DTVM S.A                                  \n",
       "6 PLANNER CORRETORA DE VALORES S.A.                                         \n",
       "7 PLANNER CORRETORA DE VALORES S.A.                                         \n",
       "8 BNY MELLON SERVIÇOS FINANCEIROS DTVM S.A                                  \n",
       "  CNPJ Administrador\n",
       "1 30.822.936/0001-69\n",
       "2 30.822.936/0001-69\n",
       "3 00.360.305/0001-04\n",
       "4 00.360.305/0001-04\n",
       "5 02.201.501/0001-61\n",
       "6 00.806.535/0001-54\n",
       "7 00.806.535/0001-54\n",
       "8 02.201.501/0001-61"
      ]
     },
     "metadata": {},
     "output_type": "display_data"
    }
   ],
   "source": [
    "fi_duplic <- subset(classif_fundos, duplicated(CNPJ))$CNPJ\n",
    "subset(classif_fundos, CNPJ %in% fi_duplic)"
   ]
  },
  {
   "cell_type": "markdown",
   "metadata": {},
   "source": [
    "O próximo passo é realizar, para cada Fundo de Investimento, a comparação dos valores das colunas `textoFundamentoLegal` e `Classificação Padronizada`. Se os valores destas variáveis divergirem para algum fundo de investimento, estes devem ser objeto de uma análise mais cuidadosa. Antes, porém, de se realizar a a comparação, é necessário conferir se os valores das variáveis estão grafados da mesma forma."
   ]
  },
  {
   "cell_type": "code",
   "execution_count": 35,
   "metadata": {
    "collapsed": false
   },
   "outputs": [
    {
     "data": {
      "text/html": [
       "<ol class=list-inline>\n",
       "\t<li>'Art. 7º, I, \"b\"'</li>\n",
       "\t<li>'Art. 7º, VII, \"a\"'</li>\n",
       "\t<li>'Art. 7º, III, \"a\"'</li>\n",
       "\t<li>'Art. 7º, IV, \"a\"'</li>\n",
       "\t<li>'Art. 8º, III'</li>\n",
       "\t<li>'Art. 8º, IV'</li>\n",
       "\t<li>'Disp.'</li>\n",
       "\t<li>'Art. 7º, VII, \"b\"'</li>\n",
       "\t<li>'Art. 8º, I'</li>\n",
       "\t<li>'Art. 7º, VI'</li>\n",
       "\t<li>'Art. 8º, VI'</li>\n",
       "\t<li>'Art. 9º'</li>\n",
       "\t<li>'Art. 8º, V'</li>\n",
       "\t<li>'Art. 7º, IV, \"b\"'</li>\n",
       "\t<li>'Art. 7º, V, \"a\"'</li>\n",
       "\t<li>NA</li>\n",
       "\t<li>'Art. 7º, I, \"a\"'</li>\n",
       "\t<li>'Art. 7º, III, \"b\"'</li>\n",
       "</ol>\n"
      ],
      "text/latex": [
       "\\begin{enumerate*}\n",
       "\\item 'Art. 7º, I, \"b\"'\n",
       "\\item 'Art. 7º, VII, \"a\"'\n",
       "\\item 'Art. 7º, III, \"a\"'\n",
       "\\item 'Art. 7º, IV, \"a\"'\n",
       "\\item 'Art. 8º, III'\n",
       "\\item 'Art. 8º, IV'\n",
       "\\item 'Disp.'\n",
       "\\item 'Art. 7º, VII, \"b\"'\n",
       "\\item 'Art. 8º, I'\n",
       "\\item 'Art. 7º, VI'\n",
       "\\item 'Art. 8º, VI'\n",
       "\\item 'Art. 9º'\n",
       "\\item 'Art. 8º, V'\n",
       "\\item 'Art. 7º, IV, \"b\"'\n",
       "\\item 'Art. 7º, V, \"a\"'\n",
       "\\item NA\n",
       "\\item 'Art. 7º, I, \"a\"'\n",
       "\\item 'Art. 7º, III, \"b\"'\n",
       "\\end{enumerate*}\n"
      ],
      "text/markdown": [
       "1. 'Art. 7º, I, \"b\"'\n",
       "2. 'Art. 7º, VII, \"a\"'\n",
       "3. 'Art. 7º, III, \"a\"'\n",
       "4. 'Art. 7º, IV, \"a\"'\n",
       "5. 'Art. 8º, III'\n",
       "6. 'Art. 8º, IV'\n",
       "7. 'Disp.'\n",
       "8. 'Art. 7º, VII, \"b\"'\n",
       "9. 'Art. 8º, I'\n",
       "10. 'Art. 7º, VI'\n",
       "11. 'Art. 8º, VI'\n",
       "12. 'Art. 9º'\n",
       "13. 'Art. 8º, V'\n",
       "14. 'Art. 7º, IV, \"b\"'\n",
       "15. 'Art. 7º, V, \"a\"'\n",
       "16. NA\n",
       "17. 'Art. 7º, I, \"a\"'\n",
       "18. 'Art. 7º, III, \"b\"'\n",
       "\n",
       "\n"
      ],
      "text/plain": [
       " [1] \"Art. 7º, I, \\\"b\\\"\"   \"Art. 7º, VII, \\\"a\\\"\" \"Art. 7º, III, \\\"a\\\"\"\n",
       " [4] \"Art. 7º, IV, \\\"a\\\"\"  \"Art. 8º, III\"        \"Art. 8º, IV\"        \n",
       " [7] \"Disp.\"               \"Art. 7º, VII, \\\"b\\\"\" \"Art. 8º, I\"         \n",
       "[10] \"Art. 7º, VI\"         \"Art. 8º, VI\"         \"Art. 9º\"            \n",
       "[13] \"Art. 8º, V\"          \"Art. 7º, IV, \\\"b\\\"\"  \"Art. 7º, V, \\\"a\\\"\"  \n",
       "[16] NA                    \"Art. 7º, I, \\\"a\\\"\"   \"Art. 7º, III, \\\"b\\\"\""
      ]
     },
     "metadata": {},
     "output_type": "display_data"
    },
    {
     "data": {
      "text/html": [
       "<ol class=list-inline>\n",
       "\t<li>'Art. 7º, IV, \"a\"'</li>\n",
       "\t<li>'Art. 7º, VII, \"b\"'</li>\n",
       "\t<li>'Art. 8º, III'</li>\n",
       "\t<li>'Art. 8º, I'</li>\n",
       "\t<li>'Art. 8º, IV'</li>\n",
       "\t<li>'Art. 7º, III, \"a\"'</li>\n",
       "\t<li>'Art. 8º, VI'</li>\n",
       "\t<li>'Art. 7º, I, \"b\"'</li>\n",
       "\t<li>'Art. 7º, VII, \"a\"'</li>\n",
       "\t<li>'Art. 7º, VI'</li>\n",
       "\t<li>'Art. 8º, V'</li>\n",
       "\t<li>'Art. 8º, II'</li>\n",
       "</ol>\n"
      ],
      "text/latex": [
       "\\begin{enumerate*}\n",
       "\\item 'Art. 7º, IV, \"a\"'\n",
       "\\item 'Art. 7º, VII, \"b\"'\n",
       "\\item 'Art. 8º, III'\n",
       "\\item 'Art. 8º, I'\n",
       "\\item 'Art. 8º, IV'\n",
       "\\item 'Art. 7º, III, \"a\"'\n",
       "\\item 'Art. 8º, VI'\n",
       "\\item 'Art. 7º, I, \"b\"'\n",
       "\\item 'Art. 7º, VII, \"a\"'\n",
       "\\item 'Art. 7º, VI'\n",
       "\\item 'Art. 8º, V'\n",
       "\\item 'Art. 8º, II'\n",
       "\\end{enumerate*}\n"
      ],
      "text/markdown": [
       "1. 'Art. 7º, IV, \"a\"'\n",
       "2. 'Art. 7º, VII, \"b\"'\n",
       "3. 'Art. 8º, III'\n",
       "4. 'Art. 8º, I'\n",
       "5. 'Art. 8º, IV'\n",
       "6. 'Art. 7º, III, \"a\"'\n",
       "7. 'Art. 8º, VI'\n",
       "8. 'Art. 7º, I, \"b\"'\n",
       "9. 'Art. 7º, VII, \"a\"'\n",
       "10. 'Art. 7º, VI'\n",
       "11. 'Art. 8º, V'\n",
       "12. 'Art. 8º, II'\n",
       "\n",
       "\n"
      ],
      "text/plain": [
       " [1] \"Art. 7º, IV, \\\"a\\\"\"  \"Art. 7º, VII, \\\"b\\\"\" \"Art. 8º, III\"       \n",
       " [4] \"Art. 8º, I\"          \"Art. 8º, IV\"         \"Art. 7º, III, \\\"a\\\"\"\n",
       " [7] \"Art. 8º, VI\"         \"Art. 7º, I, \\\"b\\\"\"   \"Art. 7º, VII, \\\"a\\\"\"\n",
       "[10] \"Art. 7º, VI\"         \"Art. 8º, V\"          \"Art. 8º, II\"        "
      ]
     },
     "metadata": {},
     "output_type": "display_data"
    }
   ],
   "source": [
    "unique(dair$textoFundamentoLegal)\n",
    "unique(classif_fundos$`Classificação Padronizada`)"
   ]
  },
  {
   "cell_type": "markdown",
   "metadata": {},
   "source": [
    "Aparentemente os valores das variáveis estão expressos da mesma forma, sendo possível a comparação dos mesmos. Não obstante, objetivando evitar qualquer possível divergência dos valores por falta de uma vírgula ou mesmo um espaço em branco, será feita a padronização das variáveis, que consistirá em remover todos os sinais de pontuação e de colocar o texto em caixa alta. Isto pode ser feito da seguinte forma: "
   ]
  },
  {
   "cell_type": "code",
   "execution_count": 10,
   "metadata": {
    "collapsed": false
   },
   "outputs": [
    {
     "data": {
      "text/html": [
       "<ol class=list-inline>\n",
       "\t<li>'ART7IVA'</li>\n",
       "\t<li>'ART8IV'</li>\n",
       "\t<li>'ART8I'</li>\n",
       "\t<li>'ART8III'</li>\n",
       "\t<li>'ART7IIIA'</li>\n",
       "\t<li>'ART7VIIB'</li>\n",
       "\t<li>'ART7IB'</li>\n",
       "\t<li>'ART7IVB'</li>\n",
       "\t<li>'ART7VIIA'</li>\n",
       "\t<li>'ART7VI'</li>\n",
       "\t<li>'ART8V'</li>\n",
       "\t<li>'ART7IIIB'</li>\n",
       "\t<li>'ART8VI'</li>\n",
       "\t<li>NA</li>\n",
       "\t<li>'DISP'</li>\n",
       "\t<li>'ART9'</li>\n",
       "\t<li>'ART7VA'</li>\n",
       "\t<li>'ART7IA'</li>\n",
       "</ol>\n"
      ],
      "text/latex": [
       "\\begin{enumerate*}\n",
       "\\item 'ART7IVA'\n",
       "\\item 'ART8IV'\n",
       "\\item 'ART8I'\n",
       "\\item 'ART8III'\n",
       "\\item 'ART7IIIA'\n",
       "\\item 'ART7VIIB'\n",
       "\\item 'ART7IB'\n",
       "\\item 'ART7IVB'\n",
       "\\item 'ART7VIIA'\n",
       "\\item 'ART7VI'\n",
       "\\item 'ART8V'\n",
       "\\item 'ART7IIIB'\n",
       "\\item 'ART8VI'\n",
       "\\item NA\n",
       "\\item 'DISP'\n",
       "\\item 'ART9'\n",
       "\\item 'ART7VA'\n",
       "\\item 'ART7IA'\n",
       "\\end{enumerate*}\n"
      ],
      "text/markdown": [
       "1. 'ART7IVA'\n",
       "2. 'ART8IV'\n",
       "3. 'ART8I'\n",
       "4. 'ART8III'\n",
       "5. 'ART7IIIA'\n",
       "6. 'ART7VIIB'\n",
       "7. 'ART7IB'\n",
       "8. 'ART7IVB'\n",
       "9. 'ART7VIIA'\n",
       "10. 'ART7VI'\n",
       "11. 'ART8V'\n",
       "12. 'ART7IIIB'\n",
       "13. 'ART8VI'\n",
       "14. NA\n",
       "15. 'DISP'\n",
       "16. 'ART9'\n",
       "17. 'ART7VA'\n",
       "18. 'ART7IA'\n",
       "\n",
       "\n"
      ],
      "text/plain": [
       " [1] \"ART7IVA\"  \"ART8IV\"   \"ART8I\"    \"ART8III\"  \"ART7IIIA\" \"ART7VIIB\"\n",
       " [7] \"ART7IB\"   \"ART7IVB\"  \"ART7VIIA\" \"ART7VI\"   \"ART8V\"    \"ART7IIIB\"\n",
       "[13] \"ART8VI\"   NA         \"DISP\"     \"ART9\"     \"ART7VA\"   \"ART7IA\"  "
      ]
     },
     "metadata": {},
     "output_type": "display_data"
    },
    {
     "data": {
      "text/html": [
       "<ol class=list-inline>\n",
       "\t<li>'ART7IVA'</li>\n",
       "\t<li>'ART7VIIB'</li>\n",
       "\t<li>'ART8IV'</li>\n",
       "\t<li>'ART8I'</li>\n",
       "\t<li>'ART8III'</li>\n",
       "\t<li>'ART7IIIA'</li>\n",
       "\t<li>'ART7VIIA'</li>\n",
       "\t<li>'ART7IB'</li>\n",
       "\t<li>'ART7VI'</li>\n",
       "\t<li>NA</li>\n",
       "\t<li>'ART8V'</li>\n",
       "\t<li>'ART8VI'</li>\n",
       "</ol>\n"
      ],
      "text/latex": [
       "\\begin{enumerate*}\n",
       "\\item 'ART7IVA'\n",
       "\\item 'ART7VIIB'\n",
       "\\item 'ART8IV'\n",
       "\\item 'ART8I'\n",
       "\\item 'ART8III'\n",
       "\\item 'ART7IIIA'\n",
       "\\item 'ART7VIIA'\n",
       "\\item 'ART7IB'\n",
       "\\item 'ART7VI'\n",
       "\\item NA\n",
       "\\item 'ART8V'\n",
       "\\item 'ART8VI'\n",
       "\\end{enumerate*}\n"
      ],
      "text/markdown": [
       "1. 'ART7IVA'\n",
       "2. 'ART7VIIB'\n",
       "3. 'ART8IV'\n",
       "4. 'ART8I'\n",
       "5. 'ART8III'\n",
       "6. 'ART7IIIA'\n",
       "7. 'ART7VIIA'\n",
       "8. 'ART7IB'\n",
       "9. 'ART7VI'\n",
       "10. NA\n",
       "11. 'ART8V'\n",
       "12. 'ART8VI'\n",
       "\n",
       "\n"
      ],
      "text/plain": [
       " [1] \"ART7IVA\"  \"ART7VIIB\" \"ART8IV\"   \"ART8I\"    \"ART8III\"  \"ART7IIIA\"\n",
       " [7] \"ART7VIIA\" \"ART7IB\"   \"ART7VI\"   NA         \"ART8V\"    \"ART8VI\"  "
      ]
     },
     "metadata": {},
     "output_type": "display_data"
    }
   ],
   "source": [
    "# Modifica valores da variável textoFundamentoLegal\n",
    "dair2$ENQUAD_RPPS <- toupper(gsub('[[:punct:]]| |o', '', dair2$textoFundamentoLegal))\n",
    "\n",
    "# Modifica valores da variável Classificação Padronizada\n",
    "dair2$ENQUAD_MF <- toupper(gsub('[[:punct:]]| |o', '', dair2$`Classificação Padronizada`))\n",
    "\n",
    "# Verificação dos valores padronizados\n",
    "unique(dair2$ENQUAD_RPPS)\n",
    "unique(dair2$ENQUAD_MF)"
   ]
  },
  {
   "cell_type": "markdown",
   "metadata": {},
   "source": [
    "Feita a padronização das variáveis, o código a seguir cria uma nova variável denominada `DIVERGENCIA` que receberá o valor 0 se o valor da variável `ENQUAD_RPPS` foi igual ao da variável `ENQUAD_MF` e 1 caso contrário. Depois, realiza um filtro na base de dados para mostrar apenas os registros em que os valores forem divergentes."
   ]
  },
  {
   "cell_type": "code",
   "execution_count": 13,
   "metadata": {
    "collapsed": false
   },
   "outputs": [
    {
     "data": {
      "text/html": [
       "<table>\n",
       "<thead><tr><th></th><th scope=col>cnpj_fi</th><th scope=col>ente</th><th scope=col>ano</th><th scope=col>mes</th><th scope=col>identificacaoDoAtivo</th><th scope=col>nome</th><th scope=col>textoFundamentoLegal</th><th scope=col>quantidade</th><th scope=col>valorAtualAtivo</th><th scope=col>valorTotalAtual</th><th scope=col>pctTotalRecursosSPPS</th><th scope=col>valorAtualPatrimonioLiquidoFundo</th><th scope=col>pctPatrimonioLiquidoFundo</th><th scope=col>data</th><th scope=col>Nome do Fundo</th><th scope=col>Classificação Padronizada</th><th scope=col>ENQUAD_RPPS</th><th scope=col>ENQUAD_MF</th><th scope=col>DIVERGENCIA</th></tr></thead>\n",
       "<tbody>\n",
       "\t<tr><th scope=row>74</th><td>00.840.011/0001-80                                        </td><td>Rio das Ostras                                            </td><td>2017                                                      </td><td>4                                                         </td><td>00.840.011/0001-80 - BTG Pactual Yield DI Ref. Cred. Priv.</td><td>FI de Renda Fixa                                          </td><td>Art. 7º, IV, \"a\"                                          </td><td> 37312.37                                                 </td><td>26.905068                                                 </td><td>1003892.0                                                 </td><td>0.27                                                      </td><td>  1997617727                                              </td><td>0.05                                                      </td><td>2017-04-01                                                </td><td>BTG PACTUAL YIELD DI FI REFERENCIADO CRÉDITO PRIVADO      </td><td>Art. 7º, VII, \"b\"                                         </td><td>ART7IVA                                                   </td><td>ART7VIIB                                                  </td><td>1                                                         </td></tr>\n",
       "\t<tr><th scope=row>75</th><td>00.840.011/0001-80                                        </td><td>Rio das Ostras                                            </td><td>2017                                                      </td><td>7                                                         </td><td>00.840.011/0001-80 - BTG Pactual Yield DI Ref. Cred. Priv.</td><td>FI de Renda Fixa                                          </td><td>Art. 7º, IV, \"a\"                                          </td><td> 11510.79                                                 </td><td>27.604298                                                 </td><td> 317747.4                                                 </td><td>0.08                                                      </td><td>  2262729759                                              </td><td>0.01                                                      </td><td>2017-07-01                                                </td><td>BTG PACTUAL YIELD DI FI REFERENCIADO CRÉDITO PRIVADO      </td><td>Art. 7º, VII, \"b\"                                         </td><td>ART7IVA                                                   </td><td>ART7VIIB                                                  </td><td>1                                                         </td></tr>\n",
       "\t<tr><th scope=row>76</th><td>00.840.011/0001-80                                        </td><td>Rio das Ostras                                            </td><td>2017                                                      </td><td>5                                                         </td><td>00.840.011/0001-80 - BTG Pactual Yield DI Ref. Cred. Priv.</td><td>FI de Renda Fixa                                          </td><td>Art. 7º, IV, \"a\"                                          </td><td> 26204.59                                                 </td><td>27.156662                                                 </td><td> 711629.3                                                 </td><td>0.19                                                      </td><td>202132438944                                              </td><td>0.00                                                      </td><td>2017-05-01                                                </td><td>BTG PACTUAL YIELD DI FI REFERENCIADO CRÉDITO PRIVADO      </td><td>Art. 7º, VII, \"b\"                                         </td><td>ART7IVA                                                   </td><td>ART7VIIB                                                  </td><td>1                                                         </td></tr>\n",
       "\t<tr><th scope=row>77</th><td>00.840.011/0001-80                                        </td><td>Rio das Ostras                                            </td><td>2017                                                      </td><td>6                                                         </td><td>00.840.011/0001-80 - BTG Pactual Yield DI Ref. Cred. Priv.</td><td>FI de Renda Fixa                                          </td><td>Art. 7º, IV, \"a\"                                          </td><td> 11510.79                                                 </td><td>27.382344                                                 </td><td> 315192.5                                                 </td><td>0.08                                                      </td><td>  2225672203                                              </td><td>0.01                                                      </td><td>2017-06-01                                                </td><td>BTG PACTUAL YIELD DI FI REFERENCIADO CRÉDITO PRIVADO      </td><td>Art. 7º, VII, \"b\"                                         </td><td>ART7IVA                                                   </td><td>ART7VIIB                                                  </td><td>1                                                         </td></tr>\n",
       "\t<tr><th scope=row>78</th><td>00.840.011/0001-80                                        </td><td>Rio das Ostras                                            </td><td>2017                                                      </td><td>8                                                         </td><td>00.840.011/0001-80 - BTG Pactual Yield DI Ref. Cred. Priv.</td><td>FI de Renda Fixa                                          </td><td>Art. 7º, IV, \"a\"                                          </td><td> 10198.96                                                 </td><td>27.827407                                                 </td><td> 283810.7                                                 </td><td>0.07                                                      </td><td>  2358758923                                              </td><td>0.01                                                      </td><td>2017-08-01                                                </td><td>BTG PACTUAL YIELD DI FI REFERENCIADO CRÉDITO PRIVADO      </td><td>Art. 7º, VII, \"b\"                                         </td><td>ART7IVA                                                   </td><td>ART7VIIB                                                  </td><td>1                                                         </td></tr>\n",
       "\t<tr><th scope=row>705</th><td>05.164.356/0001-84                                        </td><td>Japeri                                                    </td><td>2017                                                      </td><td>2                                                         </td><td>05.164.356/0001-84 - CAIXA FI BRASIL TITULOS PÚBLICOS RF  </td><td>FI 100% títulos TN                                        </td><td>Art. 7º, I, \"b\"                                           </td><td>186361.32                                                 </td><td> 3.262422                                                 </td><td> 607989.3                                                 </td><td>0.89                                                      </td><td>  1869748077                                              </td><td>0.03                                                      </td><td>2017-02-01                                                </td><td>CAIXA FI BRASIL TP RF LP                                  </td><td>Art. 7º, IV, \"a\"                                          </td><td>ART7IB                                                    </td><td>ART7IVA                                                   </td><td>1                                                         </td></tr>\n",
       "</tbody>\n",
       "</table>\n"
      ],
      "text/latex": [
       "\\begin{tabular}{r|lllllllllllllllllll}\n",
       "  & cnpj\\_fi & ente & ano & mes & identificacaoDoAtivo & nome & textoFundamentoLegal & quantidade & valorAtualAtivo & valorTotalAtual & pctTotalRecursosSPPS & valorAtualPatrimonioLiquidoFundo & pctPatrimonioLiquidoFundo & data & Nome do Fundo & Classificação Padronizada & ENQUAD\\_RPPS & ENQUAD\\_MF & DIVERGENCIA\\\\\n",
       "\\hline\n",
       "\t74 & 00.840.011/0001-80                                         & Rio das Ostras                                             & 2017                                                       & 4                                                          & 00.840.011/0001-80 - BTG Pactual Yield DI Ref. Cred. Priv. & FI de Renda Fixa                                           & Art. 7º, IV, \"a\"                                           &  37312.37                                                  & 26.905068                                                  & 1003892.0                                                  & 0.27                                                       &   1997617727                                               & 0.05                                                       & 2017-04-01                                                 & BTG PACTUAL YIELD DI FI REFERENCIADO CRÉDITO PRIVADO       & Art. 7º, VII, \"b\"                                          & ART7IVA                                                    & ART7VIIB                                                   & 1                                                         \\\\\n",
       "\t75 & 00.840.011/0001-80                                         & Rio das Ostras                                             & 2017                                                       & 7                                                          & 00.840.011/0001-80 - BTG Pactual Yield DI Ref. Cred. Priv. & FI de Renda Fixa                                           & Art. 7º, IV, \"a\"                                           &  11510.79                                                  & 27.604298                                                  &  317747.4                                                  & 0.08                                                       &   2262729759                                               & 0.01                                                       & 2017-07-01                                                 & BTG PACTUAL YIELD DI FI REFERENCIADO CRÉDITO PRIVADO       & Art. 7º, VII, \"b\"                                          & ART7IVA                                                    & ART7VIIB                                                   & 1                                                         \\\\\n",
       "\t76 & 00.840.011/0001-80                                         & Rio das Ostras                                             & 2017                                                       & 5                                                          & 00.840.011/0001-80 - BTG Pactual Yield DI Ref. Cred. Priv. & FI de Renda Fixa                                           & Art. 7º, IV, \"a\"                                           &  26204.59                                                  & 27.156662                                                  &  711629.3                                                  & 0.19                                                       & 202132438944                                               & 0.00                                                       & 2017-05-01                                                 & BTG PACTUAL YIELD DI FI REFERENCIADO CRÉDITO PRIVADO       & Art. 7º, VII, \"b\"                                          & ART7IVA                                                    & ART7VIIB                                                   & 1                                                         \\\\\n",
       "\t77 & 00.840.011/0001-80                                         & Rio das Ostras                                             & 2017                                                       & 6                                                          & 00.840.011/0001-80 - BTG Pactual Yield DI Ref. Cred. Priv. & FI de Renda Fixa                                           & Art. 7º, IV, \"a\"                                           &  11510.79                                                  & 27.382344                                                  &  315192.5                                                  & 0.08                                                       &   2225672203                                               & 0.01                                                       & 2017-06-01                                                 & BTG PACTUAL YIELD DI FI REFERENCIADO CRÉDITO PRIVADO       & Art. 7º, VII, \"b\"                                          & ART7IVA                                                    & ART7VIIB                                                   & 1                                                         \\\\\n",
       "\t78 & 00.840.011/0001-80                                         & Rio das Ostras                                             & 2017                                                       & 8                                                          & 00.840.011/0001-80 - BTG Pactual Yield DI Ref. Cred. Priv. & FI de Renda Fixa                                           & Art. 7º, IV, \"a\"                                           &  10198.96                                                  & 27.827407                                                  &  283810.7                                                  & 0.07                                                       &   2358758923                                               & 0.01                                                       & 2017-08-01                                                 & BTG PACTUAL YIELD DI FI REFERENCIADO CRÉDITO PRIVADO       & Art. 7º, VII, \"b\"                                          & ART7IVA                                                    & ART7VIIB                                                   & 1                                                         \\\\\n",
       "\t705 & 05.164.356/0001-84                                         & Japeri                                                     & 2017                                                       & 2                                                          & 05.164.356/0001-84 - CAIXA FI BRASIL TITULOS PÚBLICOS RF   & FI 100\\% títulos TN                                       & Art. 7º, I, \"b\"                                            & 186361.32                                                  &  3.262422                                                  &  607989.3                                                  & 0.89                                                       &   1869748077                                               & 0.03                                                       & 2017-02-01                                                 & CAIXA FI BRASIL TP RF LP                                   & Art. 7º, IV, \"a\"                                           & ART7IB                                                     & ART7IVA                                                    & 1                                                         \\\\\n",
       "\\end{tabular}\n"
      ],
      "text/markdown": [
       "\n",
       "| <!--/--> | cnpj_fi | ente | ano | mes | identificacaoDoAtivo | nome | textoFundamentoLegal | quantidade | valorAtualAtivo | valorTotalAtual | pctTotalRecursosSPPS | valorAtualPatrimonioLiquidoFundo | pctPatrimonioLiquidoFundo | data | Nome do Fundo | Classificação Padronizada | ENQUAD_RPPS | ENQUAD_MF | DIVERGENCIA | \n",
       "|---|---|---|---|---|---|\n",
       "| 74 | 00.840.011/0001-80                                         | Rio das Ostras                                             | 2017                                                       | 4                                                          | 00.840.011/0001-80 - BTG Pactual Yield DI Ref. Cred. Priv. | FI de Renda Fixa                                           | Art. 7º, IV, \"a\"                                           |  37312.37                                                  | 26.905068                                                  | 1003892.0                                                  | 0.27                                                       |   1997617727                                               | 0.05                                                       | 2017-04-01                                                 | BTG PACTUAL YIELD DI FI REFERENCIADO CRÉDITO PRIVADO       | Art. 7º, VII, \"b\"                                          | ART7IVA                                                    | ART7VIIB                                                   | 1                                                          | \n",
       "| 75 | 00.840.011/0001-80                                         | Rio das Ostras                                             | 2017                                                       | 7                                                          | 00.840.011/0001-80 - BTG Pactual Yield DI Ref. Cred. Priv. | FI de Renda Fixa                                           | Art. 7º, IV, \"a\"                                           |  11510.79                                                  | 27.604298                                                  |  317747.4                                                  | 0.08                                                       |   2262729759                                               | 0.01                                                       | 2017-07-01                                                 | BTG PACTUAL YIELD DI FI REFERENCIADO CRÉDITO PRIVADO       | Art. 7º, VII, \"b\"                                          | ART7IVA                                                    | ART7VIIB                                                   | 1                                                          | \n",
       "| 76 | 00.840.011/0001-80                                         | Rio das Ostras                                             | 2017                                                       | 5                                                          | 00.840.011/0001-80 - BTG Pactual Yield DI Ref. Cred. Priv. | FI de Renda Fixa                                           | Art. 7º, IV, \"a\"                                           |  26204.59                                                  | 27.156662                                                  |  711629.3                                                  | 0.19                                                       | 202132438944                                               | 0.00                                                       | 2017-05-01                                                 | BTG PACTUAL YIELD DI FI REFERENCIADO CRÉDITO PRIVADO       | Art. 7º, VII, \"b\"                                          | ART7IVA                                                    | ART7VIIB                                                   | 1                                                          | \n",
       "| 77 | 00.840.011/0001-80                                         | Rio das Ostras                                             | 2017                                                       | 6                                                          | 00.840.011/0001-80 - BTG Pactual Yield DI Ref. Cred. Priv. | FI de Renda Fixa                                           | Art. 7º, IV, \"a\"                                           |  11510.79                                                  | 27.382344                                                  |  315192.5                                                  | 0.08                                                       |   2225672203                                               | 0.01                                                       | 2017-06-01                                                 | BTG PACTUAL YIELD DI FI REFERENCIADO CRÉDITO PRIVADO       | Art. 7º, VII, \"b\"                                          | ART7IVA                                                    | ART7VIIB                                                   | 1                                                          | \n",
       "| 78 | 00.840.011/0001-80                                         | Rio das Ostras                                             | 2017                                                       | 8                                                          | 00.840.011/0001-80 - BTG Pactual Yield DI Ref. Cred. Priv. | FI de Renda Fixa                                           | Art. 7º, IV, \"a\"                                           |  10198.96                                                  | 27.827407                                                  |  283810.7                                                  | 0.07                                                       |   2358758923                                               | 0.01                                                       | 2017-08-01                                                 | BTG PACTUAL YIELD DI FI REFERENCIADO CRÉDITO PRIVADO       | Art. 7º, VII, \"b\"                                          | ART7IVA                                                    | ART7VIIB                                                   | 1                                                          | \n",
       "| 705 | 05.164.356/0001-84                                         | Japeri                                                     | 2017                                                       | 2                                                          | 05.164.356/0001-84 - CAIXA FI BRASIL TITULOS PÚBLICOS RF   | FI 100% títulos TN                                         | Art. 7º, I, \"b\"                                            | 186361.32                                                  |  3.262422                                                  |  607989.3                                                  | 0.89                                                       |   1869748077                                               | 0.03                                                       | 2017-02-01                                                 | CAIXA FI BRASIL TP RF LP                                   | Art. 7º, IV, \"a\"                                           | ART7IB                                                     | ART7IVA                                                    | 1                                                          | \n",
       "\n",
       "\n"
      ],
      "text/plain": [
       "    cnpj_fi            ente           ano  mes\n",
       "74  00.840.011/0001-80 Rio das Ostras 2017 4  \n",
       "75  00.840.011/0001-80 Rio das Ostras 2017 7  \n",
       "76  00.840.011/0001-80 Rio das Ostras 2017 5  \n",
       "77  00.840.011/0001-80 Rio das Ostras 2017 6  \n",
       "78  00.840.011/0001-80 Rio das Ostras 2017 8  \n",
       "705 05.164.356/0001-84 Japeri         2017 2  \n",
       "    identificacaoDoAtivo                                      \n",
       "74  00.840.011/0001-80 - BTG Pactual Yield DI Ref. Cred. Priv.\n",
       "75  00.840.011/0001-80 - BTG Pactual Yield DI Ref. Cred. Priv.\n",
       "76  00.840.011/0001-80 - BTG Pactual Yield DI Ref. Cred. Priv.\n",
       "77  00.840.011/0001-80 - BTG Pactual Yield DI Ref. Cred. Priv.\n",
       "78  00.840.011/0001-80 - BTG Pactual Yield DI Ref. Cred. Priv.\n",
       "705 05.164.356/0001-84 - CAIXA FI BRASIL TITULOS PÚBLICOS RF  \n",
       "    nome               textoFundamentoLegal quantidade valorAtualAtivo\n",
       "74  FI de Renda Fixa   Art. 7º, IV, \"a\"      37312.37  26.905068      \n",
       "75  FI de Renda Fixa   Art. 7º, IV, \"a\"      11510.79  27.604298      \n",
       "76  FI de Renda Fixa   Art. 7º, IV, \"a\"      26204.59  27.156662      \n",
       "77  FI de Renda Fixa   Art. 7º, IV, \"a\"      11510.79  27.382344      \n",
       "78  FI de Renda Fixa   Art. 7º, IV, \"a\"      10198.96  27.827407      \n",
       "705 FI 100% títulos TN Art. 7º, I, \"b\"      186361.32   3.262422      \n",
       "    valorTotalAtual pctTotalRecursosSPPS valorAtualPatrimonioLiquidoFundo\n",
       "74  1003892.0       0.27                   1997617727                    \n",
       "75   317747.4       0.08                   2262729759                    \n",
       "76   711629.3       0.19                 202132438944                    \n",
       "77   315192.5       0.08                   2225672203                    \n",
       "78   283810.7       0.07                   2358758923                    \n",
       "705  607989.3       0.89                   1869748077                    \n",
       "    pctPatrimonioLiquidoFundo data      \n",
       "74  0.05                      2017-04-01\n",
       "75  0.01                      2017-07-01\n",
       "76  0.00                      2017-05-01\n",
       "77  0.01                      2017-06-01\n",
       "78  0.01                      2017-08-01\n",
       "705 0.03                      2017-02-01\n",
       "    Nome do Fundo                                       \n",
       "74  BTG PACTUAL YIELD DI FI REFERENCIADO CRÉDITO PRIVADO\n",
       "75  BTG PACTUAL YIELD DI FI REFERENCIADO CRÉDITO PRIVADO\n",
       "76  BTG PACTUAL YIELD DI FI REFERENCIADO CRÉDITO PRIVADO\n",
       "77  BTG PACTUAL YIELD DI FI REFERENCIADO CRÉDITO PRIVADO\n",
       "78  BTG PACTUAL YIELD DI FI REFERENCIADO CRÉDITO PRIVADO\n",
       "705 CAIXA FI BRASIL TP RF LP                            \n",
       "    Classificação Padronizada ENQUAD_RPPS ENQUAD_MF DIVERGENCIA\n",
       "74  Art. 7º, VII, \"b\"         ART7IVA     ART7VIIB  1          \n",
       "75  Art. 7º, VII, \"b\"         ART7IVA     ART7VIIB  1          \n",
       "76  Art. 7º, VII, \"b\"         ART7IVA     ART7VIIB  1          \n",
       "77  Art. 7º, VII, \"b\"         ART7IVA     ART7VIIB  1          \n",
       "78  Art. 7º, VII, \"b\"         ART7IVA     ART7VIIB  1          \n",
       "705 Art. 7º, IV, \"a\"          ART7IB      ART7IVA   1          "
      ]
     },
     "metadata": {},
     "output_type": "display_data"
    }
   ],
   "source": [
    "dair2$DIVERGENCIA <- ifelse(dair2$ENQUAD_RPPS == dair2$ENQUAD_MF, \"0\", \"1\")\n",
    "head(subset(dair2, DIVERGENCIA == 1))"
   ]
  },
  {
   "cell_type": "markdown",
   "metadata": {},
   "source": [
    "O resultado acima mostra os registros para os quais houve divergência de enquadramento. Mas como o enquadramento feito pelo RPPS pode ter perdurado por todos os meses, o resultado acima tem muita repetição, ou seja, o mesmo Fundo de Investimento pode aparecer várias vezes. O código a seguir elimina essa redundância e indica os meses (coluna `OCORRENCIAS`) em que o enquadramento divergente ocorreu."
   ]
  },
  {
   "cell_type": "code",
   "execution_count": 14,
   "metadata": {
    "collapsed": false
   },
   "outputs": [
    {
     "data": {
      "text/html": [
       "<table>\n",
       "<thead><tr><th scope=col>ente</th><th scope=col>cnpj_fi</th><th scope=col>identificacaoDoAtivo</th><th scope=col>QTD_OCORRENCIAS</th><th scope=col>OCORRENCIAS</th><th scope=col>ENQUAD_RPPS</th><th scope=col>ENQUAD_MF</th></tr></thead>\n",
       "<tbody>\n",
       "\t<tr><td>Rio das Ostras                                                                                       </td><td>00.840.011/0001-80                                                                                   </td><td>00.840.011/0001-80 - BTG Pactual Yield DI Ref. Cred. Priv.                                           </td><td>5                                                                                                    </td><td>2017-04-01 | 2017-05-01 | 2017-06-01 | 2017-07-01 | 2017-08-01                                       </td><td>ART7IVA                                                                                              </td><td>ART7VIIB                                                                                             </td></tr>\n",
       "\t<tr><td>Japeri                                                                                               </td><td>05.164.356/0001-84                                                                                   </td><td>05.164.356/0001-84 - CAIXA FI BRASIL TITULOS PÚBLICOS RF                                             </td><td>8                                                                                                    </td><td>2017-01-01 | 2017-02-01 | 2017-03-01 | 2017-04-01 | 2017-05-01 | 2017-06-01 | 2017-07-01 | 2017-08-01</td><td>ART7IB                                                                                               </td><td>ART7IVA                                                                                              </td></tr>\n",
       "\t<tr><td>Barra Mansa                                                                                          </td><td>05.164.358/0001-73                                                                                   </td><td>05.164.358/0001-73 - CAIXA ALIANÇA TÍTULOS PÚBLICOS FI RENDA FIXA                                    </td><td>8                                                                                                    </td><td>2017-01-01 | 2017-02-01 | 2017-03-01 | 2017-04-01 | 2017-05-01 | 2017-06-01 | 2017-07-01 | 2017-08-01</td><td>ART7IVB                                                                                              </td><td>ART7IVA                                                                                              </td></tr>\n",
       "\t<tr><td>Japeri                                                                                               </td><td>07.187.570/0001-81                                                                                   </td><td>07.187.570/0001-81 - BRADESCO FICFI RF REFERENCIADO DI PODER PUBLICO                                 </td><td>8                                                                                                    </td><td>2017-01-01 | 2017-02-01 | 2017-03-01 | 2017-04-01 | 2017-05-01 | 2017-06-01 | 2017-07-01 | 2017-08-01</td><td>ART7IIIA                                                                                             </td><td>ART7IVA                                                                                              </td></tr>\n",
       "\t<tr><td>Paty do Alferes                                                                                      </td><td>10.418.362/0001-50                                                                                   </td><td>10.418.362/0001-50 - BB FI MULTIMERCADO PREVIDENCIÁRIO LP                                            </td><td>1                                                                                                    </td><td>2017-10-01                                                                                           </td><td>ART8III                                                                                              </td><td>ART8IV                                                                                               </td></tr>\n",
       "\t<tr><td>Japeri                                                                                               </td><td>12.845.801/0001-37                                                                                   </td><td>12.845.801/0001-37 - TOWER BRIDGE FI RF IMAB 5                                                       </td><td>8                                                                                                    </td><td>2017-01-01 | 2017-02-01 | 2017-03-01 | 2017-04-01 | 2017-05-01 | 2017-06-01 | 2017-07-01 | 2017-08-01</td><td>ART7IIIB                                                                                             </td><td>ART7IIIA                                                                                             </td></tr>\n",
       "</tbody>\n",
       "</table>\n"
      ],
      "text/latex": [
       "\\begin{tabular}{r|lllllll}\n",
       " ente & cnpj\\_fi & identificacaoDoAtivo & QTD\\_OCORRENCIAS & OCORRENCIAS & ENQUAD\\_RPPS & ENQUAD\\_MF\\\\\n",
       "\\hline\n",
       "\t Rio das Ostras                                                                                                                                & 00.840.011/0001-80                                                                                                                            & 00.840.011/0001-80 - BTG Pactual Yield DI Ref. Cred. Priv.                                                                                    & 5                                                                                                                                             & 2017-04-01 \\textbar{} 2017-05-01 \\textbar{} 2017-06-01 \\textbar{} 2017-07-01 \\textbar{} 2017-08-01                                        & ART7IVA                                                                                                                                       & ART7VIIB                                                                                                                                     \\\\\n",
       "\t Japeri                                                                                                                                                                      & 05.164.356/0001-84                                                                                                                                                          & 05.164.356/0001-84 - CAIXA FI BRASIL TITULOS PÚBLICOS RF                                                                                                                    & 8                                                                                                                                                                           & 2017-01-01 \\textbar{} 2017-02-01 \\textbar{} 2017-03-01 \\textbar{} 2017-04-01 \\textbar{} 2017-05-01 \\textbar{} 2017-06-01 \\textbar{} 2017-07-01 \\textbar{} 2017-08-01 & ART7IB                                                                                                                                                                      & ART7IVA                                                                                                                                                                    \\\\\n",
       "\t Barra Mansa                                                                                                                                                                 & 05.164.358/0001-73                                                                                                                                                          & 05.164.358/0001-73 - CAIXA ALIANÇA TÍTULOS PÚBLICOS FI RENDA FIXA                                                                                                           & 8                                                                                                                                                                           & 2017-01-01 \\textbar{} 2017-02-01 \\textbar{} 2017-03-01 \\textbar{} 2017-04-01 \\textbar{} 2017-05-01 \\textbar{} 2017-06-01 \\textbar{} 2017-07-01 \\textbar{} 2017-08-01 & ART7IVB                                                                                                                                                                     & ART7IVA                                                                                                                                                                    \\\\\n",
       "\t Japeri                                                                                                                                                                      & 07.187.570/0001-81                                                                                                                                                          & 07.187.570/0001-81 - BRADESCO FICFI RF REFERENCIADO DI PODER PUBLICO                                                                                                        & 8                                                                                                                                                                           & 2017-01-01 \\textbar{} 2017-02-01 \\textbar{} 2017-03-01 \\textbar{} 2017-04-01 \\textbar{} 2017-05-01 \\textbar{} 2017-06-01 \\textbar{} 2017-07-01 \\textbar{} 2017-08-01 & ART7IIIA                                                                                                                                                                    & ART7IVA                                                                                                                                                                    \\\\\n",
       "\t Paty do Alferes                                                                                       & 10.418.362/0001-50                                                                                    & 10.418.362/0001-50 - BB FI MULTIMERCADO PREVIDENCIÁRIO LP                                             & 1                                                                                                     & 2017-10-01                                                                                            & ART8III                                                                                               & ART8IV                                                                                               \\\\\n",
       "\t Japeri                                                                                                                                                                      & 12.845.801/0001-37                                                                                                                                                          & 12.845.801/0001-37 - TOWER BRIDGE FI RF IMAB 5                                                                                                                              & 8                                                                                                                                                                           & 2017-01-01 \\textbar{} 2017-02-01 \\textbar{} 2017-03-01 \\textbar{} 2017-04-01 \\textbar{} 2017-05-01 \\textbar{} 2017-06-01 \\textbar{} 2017-07-01 \\textbar{} 2017-08-01 & ART7IIIB                                                                                                                                                                    & ART7IIIA                                                                                                                                                                   \\\\\n",
       "\\end{tabular}\n"
      ],
      "text/markdown": [
       "\n",
       "ente | cnpj_fi | identificacaoDoAtivo | QTD_OCORRENCIAS | OCORRENCIAS | ENQUAD_RPPS | ENQUAD_MF | \n",
       "|---|---|---|---|---|---|\n",
       "| Rio das Ostras                                                                                        | 00.840.011/0001-80                                                                                    | 00.840.011/0001-80 - BTG Pactual Yield DI Ref. Cred. Priv.                                            | 5                                                                                                     | 2017-04-01 | 2017-05-01 | 2017-06-01 | 2017-07-01 | 2017-08-01                                        | ART7IVA                                                                                               | ART7VIIB                                                                                              | \n",
       "| Japeri                                                                                                | 05.164.356/0001-84                                                                                    | 05.164.356/0001-84 - CAIXA FI BRASIL TITULOS PÚBLICOS RF                                              | 8                                                                                                     | 2017-01-01 | 2017-02-01 | 2017-03-01 | 2017-04-01 | 2017-05-01 | 2017-06-01 | 2017-07-01 | 2017-08-01 | ART7IB                                                                                                | ART7IVA                                                                                               | \n",
       "| Barra Mansa                                                                                           | 05.164.358/0001-73                                                                                    | 05.164.358/0001-73 - CAIXA ALIANÇA TÍTULOS PÚBLICOS FI RENDA FIXA                                     | 8                                                                                                     | 2017-01-01 | 2017-02-01 | 2017-03-01 | 2017-04-01 | 2017-05-01 | 2017-06-01 | 2017-07-01 | 2017-08-01 | ART7IVB                                                                                               | ART7IVA                                                                                               | \n",
       "| Japeri                                                                                                | 07.187.570/0001-81                                                                                    | 07.187.570/0001-81 - BRADESCO FICFI RF REFERENCIADO DI PODER PUBLICO                                  | 8                                                                                                     | 2017-01-01 | 2017-02-01 | 2017-03-01 | 2017-04-01 | 2017-05-01 | 2017-06-01 | 2017-07-01 | 2017-08-01 | ART7IIIA                                                                                              | ART7IVA                                                                                               | \n",
       "| Paty do Alferes                                                                                       | 10.418.362/0001-50                                                                                    | 10.418.362/0001-50 - BB FI MULTIMERCADO PREVIDENCIÁRIO LP                                             | 1                                                                                                     | 2017-10-01                                                                                            | ART8III                                                                                               | ART8IV                                                                                                | \n",
       "| Japeri                                                                                                | 12.845.801/0001-37                                                                                    | 12.845.801/0001-37 - TOWER BRIDGE FI RF IMAB 5                                                        | 8                                                                                                     | 2017-01-01 | 2017-02-01 | 2017-03-01 | 2017-04-01 | 2017-05-01 | 2017-06-01 | 2017-07-01 | 2017-08-01 | ART7IIIB                                                                                              | ART7IIIA                                                                                              | \n",
       "\n",
       "\n"
      ],
      "text/plain": [
       "  ente            cnpj_fi           \n",
       "1 Rio das Ostras  00.840.011/0001-80\n",
       "2 Japeri          05.164.356/0001-84\n",
       "3 Barra Mansa     05.164.358/0001-73\n",
       "4 Japeri          07.187.570/0001-81\n",
       "5 Paty do Alferes 10.418.362/0001-50\n",
       "6 Japeri          12.845.801/0001-37\n",
       "  identificacaoDoAtivo                                                \n",
       "1 00.840.011/0001-80 - BTG Pactual Yield DI Ref. Cred. Priv.          \n",
       "2 05.164.356/0001-84 - CAIXA FI BRASIL TITULOS PÚBLICOS RF            \n",
       "3 05.164.358/0001-73 - CAIXA ALIANÇA TÍTULOS PÚBLICOS FI RENDA FIXA   \n",
       "4 07.187.570/0001-81 - BRADESCO FICFI RF REFERENCIADO DI PODER PUBLICO\n",
       "5 10.418.362/0001-50 - BB FI MULTIMERCADO PREVIDENCIÁRIO LP           \n",
       "6 12.845.801/0001-37 - TOWER BRIDGE FI RF IMAB 5                      \n",
       "  QTD_OCORRENCIAS\n",
       "1 5              \n",
       "2 8              \n",
       "3 8              \n",
       "4 8              \n",
       "5 1              \n",
       "6 8              \n",
       "  OCORRENCIAS                                                                                          \n",
       "1 2017-04-01 | 2017-05-01 | 2017-06-01 | 2017-07-01 | 2017-08-01                                       \n",
       "2 2017-01-01 | 2017-02-01 | 2017-03-01 | 2017-04-01 | 2017-05-01 | 2017-06-01 | 2017-07-01 | 2017-08-01\n",
       "3 2017-01-01 | 2017-02-01 | 2017-03-01 | 2017-04-01 | 2017-05-01 | 2017-06-01 | 2017-07-01 | 2017-08-01\n",
       "4 2017-01-01 | 2017-02-01 | 2017-03-01 | 2017-04-01 | 2017-05-01 | 2017-06-01 | 2017-07-01 | 2017-08-01\n",
       "5 2017-10-01                                                                                           \n",
       "6 2017-01-01 | 2017-02-01 | 2017-03-01 | 2017-04-01 | 2017-05-01 | 2017-06-01 | 2017-07-01 | 2017-08-01\n",
       "  ENQUAD_RPPS ENQUAD_MF\n",
       "1 ART7IVA     ART7VIIB \n",
       "2 ART7IB      ART7IVA  \n",
       "3 ART7IVB     ART7IVA  \n",
       "4 ART7IIIA    ART7IVA  \n",
       "5 ART8III     ART8IV   \n",
       "6 ART7IIIB    ART7IIIA "
      ]
     },
     "metadata": {},
     "output_type": "display_data"
    }
   ],
   "source": [
    "resumo <- dair2 %>%\n",
    "            filter(DIVERGENCIA == 1) %>%\n",
    "            group_by(ente) %>%\n",
    "            mutate(OCORRENCIAS     = paste(sort(unique(data)), collapse=\" | \"),\n",
    "                   QTD_OCORRENCIAS = length(unique(data))) %>%\n",
    "            filter(!duplicated(cnpj_fi)) %>%\n",
    "            select(ente, cnpj_fi, identificacaoDoAtivo, QTD_OCORRENCIAS, OCORRENCIAS,  ENQUAD_RPPS, ENQUAD_MF) %>%\n",
    "            ungroup()\n",
    "head(resumo)"
   ]
  },
  {
   "cell_type": "code",
   "execution_count": 15,
   "metadata": {
    "collapsed": false
   },
   "outputs": [
    {
     "data": {
      "text/html": [
       "10"
      ],
      "text/latex": [
       "10"
      ],
      "text/markdown": [
       "10"
      ],
      "text/plain": [
       "[1] 10"
      ]
     },
     "metadata": {},
     "output_type": "display_data"
    }
   ],
   "source": [
    "nrow(resumo)"
   ]
  },
  {
   "cell_type": "code",
   "execution_count": 20,
   "metadata": {
    "collapsed": false
   },
   "outputs": [
    {
     "data": {
      "text/html": [
       "<table>\n",
       "<tbody>\n",
       "\t<tr><th scope=row>Barra Mansa</th><td>1</td></tr>\n",
       "\t<tr><th scope=row>Japeri</th><td>6</td></tr>\n",
       "\t<tr><th scope=row>Miguel Pereira</th><td>1</td></tr>\n",
       "\t<tr><th scope=row>Paty do Alferes</th><td>1</td></tr>\n",
       "\t<tr><th scope=row>Rio das Ostras</th><td>1</td></tr>\n",
       "</tbody>\n",
       "</table>\n"
      ],
      "text/latex": [
       "\\begin{tabular}{r|l}\n",
       "\tBarra Mansa & 1\\\\\n",
       "\tJaperi & 6\\\\\n",
       "\tMiguel Pereira & 1\\\\\n",
       "\tPaty do Alferes & 1\\\\\n",
       "\tRio das Ostras & 1\\\\\n",
       "\\end{tabular}\n"
      ],
      "text/markdown": [
       "\n",
       "| Barra Mansa | 1 | \n",
       "| Japeri | 6 | \n",
       "| Miguel Pereira | 1 | \n",
       "| Paty do Alferes | 1 | \n",
       "| Rio das Ostras | 1 | \n",
       "\n",
       "\n"
      ],
      "text/plain": [
       "                [,1]\n",
       "Barra Mansa     1   \n",
       "Japeri          6   \n",
       "Miguel Pereira  1   \n",
       "Paty do Alferes 1   \n",
       "Rio das Ostras  1   "
      ]
     },
     "metadata": {},
     "output_type": "display_data"
    }
   ],
   "source": [
    "as.matrix(table(resumo$ente))"
   ]
  },
  {
   "cell_type": "markdown",
   "metadata": {
    "collapsed": true
   },
   "source": [
    "O resultado evidencia que 10 Fundos de Investimento, dos municípios de Japeri (6), Rio das Ostras (1), Barra Mansa (1), Miguel Pereira (1) e Paty do Alferes (1) estão com divergência no enquadramento devendo, assim, serem objeto de uma análise mais detalhada."
   ]
  },
  {
   "cell_type": "markdown",
   "metadata": {},
   "source": [
    "## 2.3 - Limites de aplicações"
   ]
  },
  {
   "cell_type": "markdown",
   "metadata": {
    "collapsed": true
   },
   "source": [
    "Neste tópico o objetivo será verificar se os RPPS estão realizando suas aplicações respeitando os limites definidos pela Resolução CMN 3922/10.\n",
    "\n",
    "Deve-se observar, que estas limitações são de duas naturezas: o valor dos recursos do RPPS aplicados em cada tipo de ativo não podem ser superiores a determinados percentuais, a depender do tipo de ativo. Basicamente, estes percentuais estão definidos nos artigos 7o e 8o da Resolução CMN n. 3.922/10. Uma outra restrição é que os valores aplicados em Fundos de investimento, não podem ser superior a determinado percentual do patrimônio líquido do fundo.\n",
    "\n",
    "> **NOTA**. Até a alteração introduzida pela Resolução CMN 4.604/17, este percentual era de 25%, sendo alterado pela Resolução em consideração."
   ]
  },
  {
   "cell_type": "markdown",
   "metadata": {},
   "source": [
    "### 2.3.1 -  Limites de aplicações"
   ]
  },
  {
   "cell_type": "markdown",
   "metadata": {},
   "source": [
    "Para verificar se os valores aplicados em cada ativo estão de acordo com as determinações da Resolução CMN n. 3.922/10 será necessário importar estes valores. A planilha `limites_cvm.xlsx` contém esta informação:"
   ]
  },
  {
   "cell_type": "code",
   "execution_count": 22,
   "metadata": {
    "collapsed": false
   },
   "outputs": [
    {
     "data": {
      "text/html": [
       "<table>\n",
       "<thead><tr><th scope=col>ativo</th><th scope=col>limite_cvm</th><th scope=col>limite_pl_fundo</th><th scope=col>padroniza</th></tr></thead>\n",
       "<tbody>\n",
       "\t<tr><td>Art 7o, I, a  </td><td>100           </td><td>NA            </td><td>ART7IA        </td></tr>\n",
       "\t<tr><td>Art 7o, I, b  </td><td>100           </td><td>25            </td><td>ART7IB        </td></tr>\n",
       "\t<tr><td>Art 7o, II    </td><td> 15           </td><td>NA            </td><td>ART7II        </td></tr>\n",
       "\t<tr><td>Art 7o, III, a</td><td> 80           </td><td>25            </td><td>ART7IIIA      </td></tr>\n",
       "\t<tr><td>Art 7o, III, b</td><td> 80           </td><td>25            </td><td>ART7IIIB      </td></tr>\n",
       "\t<tr><td>Art 7o, IV, a </td><td> 30           </td><td>25            </td><td>ART7IVA       </td></tr>\n",
       "\t<tr><td>Art 7o, IV, b </td><td> 30           </td><td>25            </td><td>ART7IVB       </td></tr>\n",
       "\t<tr><td>Art 7o, V, a  </td><td> 20           </td><td>NA            </td><td>ART7VA        </td></tr>\n",
       "\t<tr><td>Art 7o, V, b  </td><td> 20           </td><td>NA            </td><td>ART7VB        </td></tr>\n",
       "\t<tr><td>Art 7o, VI    </td><td> 15           </td><td>25            </td><td>ART7VI        </td></tr>\n",
       "\t<tr><td>Art 7o, VII, a</td><td>  5           </td><td>25            </td><td>ART7VIIA      </td></tr>\n",
       "\t<tr><td>Art 7o, VII, b</td><td>  5           </td><td>25            </td><td>ART7VIIB      </td></tr>\n",
       "\t<tr><td>Art 8o, I, a  </td><td> 30           </td><td>25            </td><td>ART8IA        </td></tr>\n",
       "\t<tr><td>Art 8o, I, b  </td><td> 20           </td><td>25            </td><td>ART8IB        </td></tr>\n",
       "\t<tr><td>Art 8o, II    </td><td> 20           </td><td>25            </td><td>ART8II        </td></tr>\n",
       "\t<tr><td>Art 8o, III   </td><td> 15           </td><td>NA            </td><td>ART8III       </td></tr>\n",
       "\t<tr><td>Art 8o, IV    </td><td>  5           </td><td>25            </td><td>ART8IV        </td></tr>\n",
       "\t<tr><td>Art 8o, V     </td><td>  5           </td><td>25            </td><td>ART8V         </td></tr>\n",
       "\t<tr><td>Art 8o, VI    </td><td>  5           </td><td>NA            </td><td>ART8VI        </td></tr>\n",
       "</tbody>\n",
       "</table>\n"
      ],
      "text/latex": [
       "\\begin{tabular}{r|llll}\n",
       " ativo & limite\\_cvm & limite\\_pl\\_fundo & padroniza\\\\\n",
       "\\hline\n",
       "\t Art 7o, I, a   & 100            & NA             & ART7IA        \\\\\n",
       "\t Art 7o, I, b   & 100            & 25             & ART7IB        \\\\\n",
       "\t Art 7o, II     &  15            & NA             & ART7II        \\\\\n",
       "\t Art 7o, III, a &  80            & 25             & ART7IIIA      \\\\\n",
       "\t Art 7o, III, b &  80            & 25             & ART7IIIB      \\\\\n",
       "\t Art 7o, IV, a  &  30            & 25             & ART7IVA       \\\\\n",
       "\t Art 7o, IV, b  &  30            & 25             & ART7IVB       \\\\\n",
       "\t Art 7o, V, a   &  20            & NA             & ART7VA        \\\\\n",
       "\t Art 7o, V, b   &  20            & NA             & ART7VB        \\\\\n",
       "\t Art 7o, VI     &  15            & 25             & ART7VI        \\\\\n",
       "\t Art 7o, VII, a &   5            & 25             & ART7VIIA      \\\\\n",
       "\t Art 7o, VII, b &   5            & 25             & ART7VIIB      \\\\\n",
       "\t Art 8o, I, a   &  30            & 25             & ART8IA        \\\\\n",
       "\t Art 8o, I, b   &  20            & 25             & ART8IB        \\\\\n",
       "\t Art 8o, II     &  20            & 25             & ART8II        \\\\\n",
       "\t Art 8o, III    &  15            & NA             & ART8III       \\\\\n",
       "\t Art 8o, IV     &   5            & 25             & ART8IV        \\\\\n",
       "\t Art 8o, V      &   5            & 25             & ART8V         \\\\\n",
       "\t Art 8o, VI     &   5            & NA             & ART8VI        \\\\\n",
       "\\end{tabular}\n"
      ],
      "text/markdown": [
       "\n",
       "ativo | limite_cvm | limite_pl_fundo | padroniza | \n",
       "|---|---|---|---|---|---|---|---|---|---|---|---|---|---|---|---|---|---|---|\n",
       "| Art 7o, I, a   | 100            | NA             | ART7IA         | \n",
       "| Art 7o, I, b   | 100            | 25             | ART7IB         | \n",
       "| Art 7o, II     |  15            | NA             | ART7II         | \n",
       "| Art 7o, III, a |  80            | 25             | ART7IIIA       | \n",
       "| Art 7o, III, b |  80            | 25             | ART7IIIB       | \n",
       "| Art 7o, IV, a  |  30            | 25             | ART7IVA        | \n",
       "| Art 7o, IV, b  |  30            | 25             | ART7IVB        | \n",
       "| Art 7o, V, a   |  20            | NA             | ART7VA         | \n",
       "| Art 7o, V, b   |  20            | NA             | ART7VB         | \n",
       "| Art 7o, VI     |  15            | 25             | ART7VI         | \n",
       "| Art 7o, VII, a |   5            | 25             | ART7VIIA       | \n",
       "| Art 7o, VII, b |   5            | 25             | ART7VIIB       | \n",
       "| Art 8o, I, a   |  30            | 25             | ART8IA         | \n",
       "| Art 8o, I, b   |  20            | 25             | ART8IB         | \n",
       "| Art 8o, II     |  20            | 25             | ART8II         | \n",
       "| Art 8o, III    |  15            | NA             | ART8III        | \n",
       "| Art 8o, IV     |   5            | 25             | ART8IV         | \n",
       "| Art 8o, V      |   5            | 25             | ART8V          | \n",
       "| Art 8o, VI     |   5            | NA             | ART8VI         | \n",
       "\n",
       "\n"
      ],
      "text/plain": [
       "   ativo          limite_cvm limite_pl_fundo padroniza\n",
       "1  Art 7o, I, a   100        NA              ART7IA   \n",
       "2  Art 7o, I, b   100        25              ART7IB   \n",
       "3  Art 7o, II      15        NA              ART7II   \n",
       "4  Art 7o, III, a  80        25              ART7IIIA \n",
       "5  Art 7o, III, b  80        25              ART7IIIB \n",
       "6  Art 7o, IV, a   30        25              ART7IVA  \n",
       "7  Art 7o, IV, b   30        25              ART7IVB  \n",
       "8  Art 7o, V, a    20        NA              ART7VA   \n",
       "9  Art 7o, V, b    20        NA              ART7VB   \n",
       "10 Art 7o, VI      15        25              ART7VI   \n",
       "11 Art 7o, VII, a   5        25              ART7VIIA \n",
       "12 Art 7o, VII, b   5        25              ART7VIIB \n",
       "13 Art 8o, I, a    30        25              ART8IA   \n",
       "14 Art 8o, I, b    20        25              ART8IB   \n",
       "15 Art 8o, II      20        25              ART8II   \n",
       "16 Art 8o, III     15        NA              ART8III  \n",
       "17 Art 8o, IV       5        25              ART8IV   \n",
       "18 Art 8o, V        5        25              ART8V    \n",
       "19 Art 8o, VI       5        NA              ART8VI   "
      ]
     },
     "metadata": {},
     "output_type": "display_data"
    }
   ],
   "source": [
    "limites <- read_excel(\"limites_cvm.xlsx\", sheet=\"limites_cvm\")\n",
    "limites$padroniza <- toupper(gsub('[[:punct:]]| |o', '', limites$ativo))\n",
    "limites"
   ]
  },
  {
   "cell_type": "markdown",
   "metadata": {},
   "source": [
    "Como pode ser visto acima, o tipo de ativo é identificado pelo dispositivo legal da Resolução CMN n. 3.922/10 que define o ativo e os limites de investimento. Assim, por exemplo, o percentual máximo dos recursos do RPPS que podem ser aplicado no ativo definido no **`Art 7o,VII,a`** é 5%.\n",
    "\n",
    "O data frame `dairAtivoTipo` calculo acima, possui uma variável (**`pctVlrAtivo`**) contendo o percentual dos recursos que o RPPS aplicou em cada tipo de ativo. Veja que as restrições são aplicadas apenas aos ativos financeiros objeto dos artigos 7o e 8o da Resolução.    "
   ]
  },
  {
   "cell_type": "code",
   "execution_count": 23,
   "metadata": {
    "collapsed": false
   },
   "outputs": [
    {
     "data": {
      "text/html": [
       "<table>\n",
       "<thead><tr><th scope=col>ente</th><th scope=col>data</th><th scope=col>nome</th><th scope=col>textoFundamentoLegal</th><th scope=col>vlrAtivo</th><th scope=col>pctVlrAtivo</th></tr></thead>\n",
       "<tbody>\n",
       "\t<tr><td>Angra dos Reis                                    </td><td>2017-01-01                                        </td><td>Disponibilidade                                   </td><td>Disp.                                             </td><td>    19909.5                                       </td><td> 0.00                                             </td></tr>\n",
       "\t<tr><td>Angra dos Reis                                    </td><td>2017-01-01                                        </td><td>FI 100% títulos TN                                </td><td>Art. 7º, I, \"b\"                                   </td><td>163926006.6                                       </td><td>33.15                                             </td></tr>\n",
       "\t<tr><td>Angra dos Reis                                    </td><td>2017-01-01                                        </td><td>FI Ações referenciados                            </td><td>Art. 8º, I                                        </td><td>  8476668.6                                       </td><td> 1.71                                             </td></tr>\n",
       "\t<tr><td>Angra dos Reis                                    </td><td>2017-01-01                                        </td><td>FI de Renda Fixa                                  </td><td>Art. 7º, IV, \"a\"                                  </td><td> 39376255.9                                       </td><td> 7.96                                             </td></tr>\n",
       "\t<tr><td>Angra dos Reis                                    </td><td>2017-01-01                                        </td><td>FI em Ações                                       </td><td>Art. 8º, III                                      </td><td> 33773543.4                                       </td><td> 6.83                                             </td></tr>\n",
       "\t<tr><td>Angra dos Reis                                    </td><td>2017-01-01                                        </td><td>FI em Direitos Creditórios - Fechado - Cota Sênior</td><td>Art. 7º, VII, \"a\"                                 </td><td>    77723.5                                       </td><td> 0.02                                             </td></tr>\n",
       "</tbody>\n",
       "</table>\n"
      ],
      "text/latex": [
       "\\begin{tabular}{r|llllll}\n",
       " ente & data & nome & textoFundamentoLegal & vlrAtivo & pctVlrAtivo\\\\\n",
       "\\hline\n",
       "\t Angra dos Reis                                     & 2017-01-01                                         & Disponibilidade                                    & Disp.                                              &     19909.5                                        &  0.00                                             \\\\\n",
       "\t Angra dos Reis                                       & 2017-01-01                                           & FI 100\\% títulos TN                                 & Art. 7º, I, \"b\"                                      & 163926006.6                                          & 33.15                                               \\\\\n",
       "\t Angra dos Reis                                     & 2017-01-01                                         & FI Ações referenciados                             & Art. 8º, I                                         &   8476668.6                                        &  1.71                                             \\\\\n",
       "\t Angra dos Reis                                     & 2017-01-01                                         & FI de Renda Fixa                                   & Art. 7º, IV, \"a\"                                   &  39376255.9                                        &  7.96                                             \\\\\n",
       "\t Angra dos Reis                                     & 2017-01-01                                         & FI em Ações                                        & Art. 8º, III                                       &  33773543.4                                        &  6.83                                             \\\\\n",
       "\t Angra dos Reis                                     & 2017-01-01                                         & FI em Direitos Creditórios - Fechado - Cota Sênior & Art. 7º, VII, \"a\"                                  &     77723.5                                        &  0.02                                             \\\\\n",
       "\\end{tabular}\n"
      ],
      "text/markdown": [
       "\n",
       "ente | data | nome | textoFundamentoLegal | vlrAtivo | pctVlrAtivo | \n",
       "|---|---|---|---|---|---|\n",
       "| Angra dos Reis                                     | 2017-01-01                                         | Disponibilidade                                    | Disp.                                              |     19909.5                                        |  0.00                                              | \n",
       "| Angra dos Reis                                     | 2017-01-01                                         | FI 100% títulos TN                                 | Art. 7º, I, \"b\"                                    | 163926006.6                                        | 33.15                                              | \n",
       "| Angra dos Reis                                     | 2017-01-01                                         | FI Ações referenciados                             | Art. 8º, I                                         |   8476668.6                                        |  1.71                                              | \n",
       "| Angra dos Reis                                     | 2017-01-01                                         | FI de Renda Fixa                                   | Art. 7º, IV, \"a\"                                   |  39376255.9                                        |  7.96                                              | \n",
       "| Angra dos Reis                                     | 2017-01-01                                         | FI em Ações                                        | Art. 8º, III                                       |  33773543.4                                        |  6.83                                              | \n",
       "| Angra dos Reis                                     | 2017-01-01                                         | FI em Direitos Creditórios - Fechado - Cota Sênior | Art. 7º, VII, \"a\"                                  |     77723.5                                        |  0.02                                              | \n",
       "\n",
       "\n"
      ],
      "text/plain": [
       "  ente           data       nome                                              \n",
       "1 Angra dos Reis 2017-01-01 Disponibilidade                                   \n",
       "2 Angra dos Reis 2017-01-01 FI 100% títulos TN                                \n",
       "3 Angra dos Reis 2017-01-01 FI Ações referenciados                            \n",
       "4 Angra dos Reis 2017-01-01 FI de Renda Fixa                                  \n",
       "5 Angra dos Reis 2017-01-01 FI em Ações                                       \n",
       "6 Angra dos Reis 2017-01-01 FI em Direitos Creditórios - Fechado - Cota Sênior\n",
       "  textoFundamentoLegal vlrAtivo    pctVlrAtivo\n",
       "1 Disp.                    19909.5  0.00      \n",
       "2 Art. 7º, I, \"b\"      163926006.6 33.15      \n",
       "3 Art. 8º, I             8476668.6  1.71      \n",
       "4 Art. 7º, IV, \"a\"      39376255.9  7.96      \n",
       "5 Art. 8º, III          33773543.4  6.83      \n",
       "6 Art. 7º, VII, \"a\"        77723.5  0.02      "
      ]
     },
     "metadata": {},
     "output_type": "display_data"
    }
   ],
   "source": [
    "head(dairAtivoTipo)"
   ]
  },
  {
   "cell_type": "markdown",
   "metadata": {},
   "source": [
    "A estratégia a ser utilizada será incluir uma nova coluna na base de dados acima contendo os limites permitidos para cada tipo de ativo. A inclusão dessa nova coluna será feita ao se juntar esta base de dados com a base de dados `limites` que contém os limites de aplicação de cada ativo. \n",
    "\n",
    "Para juntas as duas bases de dados, será necessário, antes, padronizar a variável `textoFundamentoLegal` para utilizá-la como chave para a junção dos arquivos."
   ]
  },
  {
   "cell_type": "code",
   "execution_count": 24,
   "metadata": {
    "collapsed": true
   },
   "outputs": [],
   "source": [
    "dairAtivoTipo$textoFundamentoLegal <- toupper(gsub('[[:punct:]]| |o', '', dairAtivoTipo$textoFundamentoLegal)) "
   ]
  },
  {
   "cell_type": "code",
   "execution_count": 25,
   "metadata": {
    "collapsed": false
   },
   "outputs": [
    {
     "data": {
      "text/html": [
       "<table>\n",
       "<thead><tr><th scope=col>ente</th><th scope=col>data</th><th scope=col>nome</th><th scope=col>textoFundamentoLegal</th><th scope=col>vlrAtivo</th><th scope=col>pctVlrAtivo</th></tr></thead>\n",
       "<tbody>\n",
       "\t<tr><td>Angra dos Reis                                    </td><td>2017-01-01                                        </td><td>Disponibilidade                                   </td><td>DISP                                              </td><td>    19909.5                                       </td><td> 0.00                                             </td></tr>\n",
       "\t<tr><td>Angra dos Reis                                    </td><td>2017-01-01                                        </td><td>FI 100% títulos TN                                </td><td>ART7IB                                            </td><td>163926006.6                                       </td><td>33.15                                             </td></tr>\n",
       "\t<tr><td>Angra dos Reis                                    </td><td>2017-01-01                                        </td><td>FI Ações referenciados                            </td><td>ART8I                                             </td><td>  8476668.6                                       </td><td> 1.71                                             </td></tr>\n",
       "\t<tr><td>Angra dos Reis                                    </td><td>2017-01-01                                        </td><td>FI de Renda Fixa                                  </td><td>ART7IVA                                           </td><td> 39376255.9                                       </td><td> 7.96                                             </td></tr>\n",
       "\t<tr><td>Angra dos Reis                                    </td><td>2017-01-01                                        </td><td>FI em Ações                                       </td><td>ART8III                                           </td><td> 33773543.4                                       </td><td> 6.83                                             </td></tr>\n",
       "\t<tr><td>Angra dos Reis                                    </td><td>2017-01-01                                        </td><td>FI em Direitos Creditórios - Fechado - Cota Sênior</td><td>ART7VIIA                                          </td><td>    77723.5                                       </td><td> 0.02                                             </td></tr>\n",
       "</tbody>\n",
       "</table>\n"
      ],
      "text/latex": [
       "\\begin{tabular}{r|llllll}\n",
       " ente & data & nome & textoFundamentoLegal & vlrAtivo & pctVlrAtivo\\\\\n",
       "\\hline\n",
       "\t Angra dos Reis                                     & 2017-01-01                                         & Disponibilidade                                    & DISP                                               &     19909.5                                        &  0.00                                             \\\\\n",
       "\t Angra dos Reis                                       & 2017-01-01                                           & FI 100\\% títulos TN                                 & ART7IB                                               & 163926006.6                                          & 33.15                                               \\\\\n",
       "\t Angra dos Reis                                     & 2017-01-01                                         & FI Ações referenciados                             & ART8I                                              &   8476668.6                                        &  1.71                                             \\\\\n",
       "\t Angra dos Reis                                     & 2017-01-01                                         & FI de Renda Fixa                                   & ART7IVA                                            &  39376255.9                                        &  7.96                                             \\\\\n",
       "\t Angra dos Reis                                     & 2017-01-01                                         & FI em Ações                                        & ART8III                                            &  33773543.4                                        &  6.83                                             \\\\\n",
       "\t Angra dos Reis                                     & 2017-01-01                                         & FI em Direitos Creditórios - Fechado - Cota Sênior & ART7VIIA                                           &     77723.5                                        &  0.02                                             \\\\\n",
       "\\end{tabular}\n"
      ],
      "text/markdown": [
       "\n",
       "ente | data | nome | textoFundamentoLegal | vlrAtivo | pctVlrAtivo | \n",
       "|---|---|---|---|---|---|\n",
       "| Angra dos Reis                                     | 2017-01-01                                         | Disponibilidade                                    | DISP                                               |     19909.5                                        |  0.00                                              | \n",
       "| Angra dos Reis                                     | 2017-01-01                                         | FI 100% títulos TN                                 | ART7IB                                             | 163926006.6                                        | 33.15                                              | \n",
       "| Angra dos Reis                                     | 2017-01-01                                         | FI Ações referenciados                             | ART8I                                              |   8476668.6                                        |  1.71                                              | \n",
       "| Angra dos Reis                                     | 2017-01-01                                         | FI de Renda Fixa                                   | ART7IVA                                            |  39376255.9                                        |  7.96                                              | \n",
       "| Angra dos Reis                                     | 2017-01-01                                         | FI em Ações                                        | ART8III                                            |  33773543.4                                        |  6.83                                              | \n",
       "| Angra dos Reis                                     | 2017-01-01                                         | FI em Direitos Creditórios - Fechado - Cota Sênior | ART7VIIA                                           |     77723.5                                        |  0.02                                              | \n",
       "\n",
       "\n"
      ],
      "text/plain": [
       "  ente           data       nome                                              \n",
       "1 Angra dos Reis 2017-01-01 Disponibilidade                                   \n",
       "2 Angra dos Reis 2017-01-01 FI 100% títulos TN                                \n",
       "3 Angra dos Reis 2017-01-01 FI Ações referenciados                            \n",
       "4 Angra dos Reis 2017-01-01 FI de Renda Fixa                                  \n",
       "5 Angra dos Reis 2017-01-01 FI em Ações                                       \n",
       "6 Angra dos Reis 2017-01-01 FI em Direitos Creditórios - Fechado - Cota Sênior\n",
       "  textoFundamentoLegal vlrAtivo    pctVlrAtivo\n",
       "1 DISP                     19909.5  0.00      \n",
       "2 ART7IB               163926006.6 33.15      \n",
       "3 ART8I                  8476668.6  1.71      \n",
       "4 ART7IVA               39376255.9  7.96      \n",
       "5 ART8III               33773543.4  6.83      \n",
       "6 ART7VIIA                 77723.5  0.02      "
      ]
     },
     "metadata": {},
     "output_type": "display_data"
    }
   ],
   "source": [
    "head(dairAtivoTipo)"
   ]
  },
  {
   "cell_type": "markdown",
   "metadata": {},
   "source": [
    "Feita a padronização da variável, é possivel agora juntar as duas bases: `dairAtivoTipo` e `limites`. "
   ]
  },
  {
   "cell_type": "code",
   "execution_count": 26,
   "metadata": {
    "collapsed": true
   },
   "outputs": [],
   "source": [
    "limites_ativos <- merge(dairAtivoTipo, limites,\n",
    "                        by.x=\"textoFundamentoLegal\",\n",
    "                        by.y=\"padroniza\")"
   ]
  },
  {
   "cell_type": "code",
   "execution_count": 28,
   "metadata": {
    "collapsed": false
   },
   "outputs": [
    {
     "data": {
      "text/html": [
       "<table>\n",
       "<thead><tr><th scope=col>textoFundamentoLegal</th><th scope=col>ente</th><th scope=col>data</th><th scope=col>nome</th><th scope=col>vlrAtivo</th><th scope=col>pctVlrAtivo</th><th scope=col>ativo</th><th scope=col>limite_cvm</th><th scope=col>limite_pl_fundo</th></tr></thead>\n",
       "<tbody>\n",
       "\t<tr><td>ART7IA                  </td><td>Angra dos Reis          </td><td>2017-03-01              </td><td>Títulos Tesouro Nacional</td><td>233590888.9             </td><td>45.21                   </td><td>Art 7o, I, a            </td><td>100                     </td><td>NA                      </td></tr>\n",
       "\t<tr><td>ART7IA                  </td><td>Areal                   </td><td>2017-04-01              </td><td>Títulos Tesouro Nacional</td><td>   763691.6             </td><td> 2.71                   </td><td>Art 7o, I, a            </td><td>100                     </td><td>NA                      </td></tr>\n",
       "\t<tr><td>ART7IA                  </td><td>Angra dos Reis          </td><td>2017-04-01              </td><td>Títulos Tesouro Nacional</td><td>234175092.5             </td><td>44.95                   </td><td>Art 7o, I, a            </td><td>100                     </td><td>NA                      </td></tr>\n",
       "\t<tr><td>ART7IA                  </td><td>Areal                   </td><td>2017-02-01              </td><td>Títulos Tesouro Nacional</td><td>   763691.6             </td><td> 2.73                   </td><td>Art 7o, I, a            </td><td>100                     </td><td>NA                      </td></tr>\n",
       "\t<tr><td>ART7IA                  </td><td>Areal                   </td><td>2017-07-01              </td><td>Títulos Tesouro Nacional</td><td>   763691.6             </td><td> 2.78                   </td><td>Art 7o, I, a            </td><td>100                     </td><td>NA                      </td></tr>\n",
       "\t<tr><td>ART7IA                  </td><td>Areal                   </td><td>2017-05-01              </td><td>Títulos Tesouro Nacional</td><td>   763691.6             </td><td> 2.72                   </td><td>Art 7o, I, a            </td><td>100                     </td><td>NA                      </td></tr>\n",
       "</tbody>\n",
       "</table>\n"
      ],
      "text/latex": [
       "\\begin{tabular}{r|lllllllll}\n",
       " textoFundamentoLegal & ente & data & nome & vlrAtivo & pctVlrAtivo & ativo & limite\\_cvm & limite\\_pl\\_fundo\\\\\n",
       "\\hline\n",
       "\t ART7IA                   & Angra dos Reis           & 2017-03-01               & Títulos Tesouro Nacional & 233590888.9              & 45.21                    & Art 7o, I, a             & 100                      & NA                      \\\\\n",
       "\t ART7IA                   & Areal                    & 2017-04-01               & Títulos Tesouro Nacional &    763691.6              &  2.71                    & Art 7o, I, a             & 100                      & NA                      \\\\\n",
       "\t ART7IA                   & Angra dos Reis           & 2017-04-01               & Títulos Tesouro Nacional & 234175092.5              & 44.95                    & Art 7o, I, a             & 100                      & NA                      \\\\\n",
       "\t ART7IA                   & Areal                    & 2017-02-01               & Títulos Tesouro Nacional &    763691.6              &  2.73                    & Art 7o, I, a             & 100                      & NA                      \\\\\n",
       "\t ART7IA                   & Areal                    & 2017-07-01               & Títulos Tesouro Nacional &    763691.6              &  2.78                    & Art 7o, I, a             & 100                      & NA                      \\\\\n",
       "\t ART7IA                   & Areal                    & 2017-05-01               & Títulos Tesouro Nacional &    763691.6              &  2.72                    & Art 7o, I, a             & 100                      & NA                      \\\\\n",
       "\\end{tabular}\n"
      ],
      "text/markdown": [
       "\n",
       "textoFundamentoLegal | ente | data | nome | vlrAtivo | pctVlrAtivo | ativo | limite_cvm | limite_pl_fundo | \n",
       "|---|---|---|---|---|---|\n",
       "| ART7IA                   | Angra dos Reis           | 2017-03-01               | Títulos Tesouro Nacional | 233590888.9              | 45.21                    | Art 7o, I, a             | 100                      | NA                       | \n",
       "| ART7IA                   | Areal                    | 2017-04-01               | Títulos Tesouro Nacional |    763691.6              |  2.71                    | Art 7o, I, a             | 100                      | NA                       | \n",
       "| ART7IA                   | Angra dos Reis           | 2017-04-01               | Títulos Tesouro Nacional | 234175092.5              | 44.95                    | Art 7o, I, a             | 100                      | NA                       | \n",
       "| ART7IA                   | Areal                    | 2017-02-01               | Títulos Tesouro Nacional |    763691.6              |  2.73                    | Art 7o, I, a             | 100                      | NA                       | \n",
       "| ART7IA                   | Areal                    | 2017-07-01               | Títulos Tesouro Nacional |    763691.6              |  2.78                    | Art 7o, I, a             | 100                      | NA                       | \n",
       "| ART7IA                   | Areal                    | 2017-05-01               | Títulos Tesouro Nacional |    763691.6              |  2.72                    | Art 7o, I, a             | 100                      | NA                       | \n",
       "\n",
       "\n"
      ],
      "text/plain": [
       "  textoFundamentoLegal ente           data       nome                    \n",
       "1 ART7IA               Angra dos Reis 2017-03-01 Títulos Tesouro Nacional\n",
       "2 ART7IA               Areal          2017-04-01 Títulos Tesouro Nacional\n",
       "3 ART7IA               Angra dos Reis 2017-04-01 Títulos Tesouro Nacional\n",
       "4 ART7IA               Areal          2017-02-01 Títulos Tesouro Nacional\n",
       "5 ART7IA               Areal          2017-07-01 Títulos Tesouro Nacional\n",
       "6 ART7IA               Areal          2017-05-01 Títulos Tesouro Nacional\n",
       "  vlrAtivo    pctVlrAtivo ativo        limite_cvm limite_pl_fundo\n",
       "1 233590888.9 45.21       Art 7o, I, a 100        NA             \n",
       "2    763691.6  2.71       Art 7o, I, a 100        NA             \n",
       "3 234175092.5 44.95       Art 7o, I, a 100        NA             \n",
       "4    763691.6  2.73       Art 7o, I, a 100        NA             \n",
       "5    763691.6  2.78       Art 7o, I, a 100        NA             \n",
       "6    763691.6  2.72       Art 7o, I, a 100        NA             "
      ]
     },
     "metadata": {},
     "output_type": "display_data"
    }
   ],
   "source": [
    "head(limites_ativos)"
   ]
  },
  {
   "cell_type": "markdown",
   "metadata": {},
   "source": [
    "Com a base de dados `limites_ativos` contendo informações sobre os percentuais investidos em cada tipo de ativo (`pctVlrAtivo`) e o correspondente limite de aplicação permitido (`limite_cvm`) a identificação dos casos em que o percentual aplicado supera o limite permitido é só uma questão de compara as duas colunas e aplicar um filtro para selecionar os registros em que a condição `pctVlrAtivo` > `limite_cvm` se mostra verdadira."
   ]
  },
  {
   "cell_type": "code",
   "execution_count": 53,
   "metadata": {
    "collapsed": false
   },
   "outputs": [
    {
     "data": {
      "text/html": [
       "<table>\n",
       "<thead><tr><th scope=col>ente</th><th scope=col>data</th><th scope=col>nome</th><th scope=col>textoFundamentoLegal</th><th scope=col>pctVlrAtivo</th><th scope=col>limite_cvm</th></tr></thead>\n",
       "<tbody>\n",
       "\t<tr><td>Areal                          </td><td>2017-01-01                     </td><td>FI Renda Fixa \"Crédito Privado\"</td><td>ART7VIIB                       </td><td>7.93                           </td><td>5                              </td></tr>\n",
       "\t<tr><td>Areal                          </td><td>2017-02-01                     </td><td>FI Renda Fixa \"Crédito Privado\"</td><td>ART7VIIB                       </td><td>7.86                           </td><td>5                              </td></tr>\n",
       "\t<tr><td>Areal                          </td><td>2017-03-01                     </td><td>FI Renda Fixa \"Crédito Privado\"</td><td>ART7VIIB                       </td><td>7.75                           </td><td>5                              </td></tr>\n",
       "\t<tr><td>Areal                          </td><td>2017-04-01                     </td><td>FI Renda Fixa \"Crédito Privado\"</td><td>ART7VIIB                       </td><td>7.22                           </td><td>5                              </td></tr>\n",
       "\t<tr><td>Areal                          </td><td>2017-05-01                     </td><td>FI Renda Fixa \"Crédito Privado\"</td><td>ART7VIIB                       </td><td>7.24                           </td><td>5                              </td></tr>\n",
       "\t<tr><td>Areal                          </td><td>2017-06-01                     </td><td>FI Renda Fixa \"Crédito Privado\"</td><td>ART7VIIB                       </td><td>7.16                           </td><td>5                              </td></tr>\n",
       "</tbody>\n",
       "</table>\n"
      ],
      "text/latex": [
       "\\begin{tabular}{r|llllll}\n",
       " ente & data & nome & textoFundamentoLegal & pctVlrAtivo & limite\\_cvm\\\\\n",
       "\\hline\n",
       "\t Areal                           & 2017-01-01                      & FI Renda Fixa \"Crédito Privado\" & ART7VIIB                        & 7.93                            & 5                              \\\\\n",
       "\t Areal                           & 2017-02-01                      & FI Renda Fixa \"Crédito Privado\" & ART7VIIB                        & 7.86                            & 5                              \\\\\n",
       "\t Areal                           & 2017-03-01                      & FI Renda Fixa \"Crédito Privado\" & ART7VIIB                        & 7.75                            & 5                              \\\\\n",
       "\t Areal                           & 2017-04-01                      & FI Renda Fixa \"Crédito Privado\" & ART7VIIB                        & 7.22                            & 5                              \\\\\n",
       "\t Areal                           & 2017-05-01                      & FI Renda Fixa \"Crédito Privado\" & ART7VIIB                        & 7.24                            & 5                              \\\\\n",
       "\t Areal                           & 2017-06-01                      & FI Renda Fixa \"Crédito Privado\" & ART7VIIB                        & 7.16                            & 5                              \\\\\n",
       "\\end{tabular}\n"
      ],
      "text/markdown": [
       "\n",
       "ente | data | nome | textoFundamentoLegal | pctVlrAtivo | limite_cvm | \n",
       "|---|---|---|---|---|---|\n",
       "| Areal                           | 2017-01-01                      | FI Renda Fixa \"Crédito Privado\" | ART7VIIB                        | 7.93                            | 5                               | \n",
       "| Areal                           | 2017-02-01                      | FI Renda Fixa \"Crédito Privado\" | ART7VIIB                        | 7.86                            | 5                               | \n",
       "| Areal                           | 2017-03-01                      | FI Renda Fixa \"Crédito Privado\" | ART7VIIB                        | 7.75                            | 5                               | \n",
       "| Areal                           | 2017-04-01                      | FI Renda Fixa \"Crédito Privado\" | ART7VIIB                        | 7.22                            | 5                               | \n",
       "| Areal                           | 2017-05-01                      | FI Renda Fixa \"Crédito Privado\" | ART7VIIB                        | 7.24                            | 5                               | \n",
       "| Areal                           | 2017-06-01                      | FI Renda Fixa \"Crédito Privado\" | ART7VIIB                        | 7.16                            | 5                               | \n",
       "\n",
       "\n"
      ],
      "text/plain": [
       "  ente  data       nome                            textoFundamentoLegal\n",
       "1 Areal 2017-01-01 FI Renda Fixa \"Crédito Privado\" ART7VIIB            \n",
       "2 Areal 2017-02-01 FI Renda Fixa \"Crédito Privado\" ART7VIIB            \n",
       "3 Areal 2017-03-01 FI Renda Fixa \"Crédito Privado\" ART7VIIB            \n",
       "4 Areal 2017-04-01 FI Renda Fixa \"Crédito Privado\" ART7VIIB            \n",
       "5 Areal 2017-05-01 FI Renda Fixa \"Crédito Privado\" ART7VIIB            \n",
       "6 Areal 2017-06-01 FI Renda Fixa \"Crédito Privado\" ART7VIIB            \n",
       "  pctVlrAtivo limite_cvm\n",
       "1 7.93        5         \n",
       "2 7.86        5         \n",
       "3 7.75        5         \n",
       "4 7.22        5         \n",
       "5 7.24        5         \n",
       "6 7.16        5         "
      ]
     },
     "metadata": {},
     "output_type": "display_data"
    }
   ],
   "source": [
    "estouro_limite <- subset(limites_ativos, pctVlrAtivo > limite_cvm, c(\"ente\", \"data\", \"nome\", \"textoFundamentoLegal\", \"pctVlrAtivo\", \"limite_cvm\"))\n",
    "\n",
    "# Ordenar os dados\n",
    "estouro_limite <- estouro_limite %>%\n",
    "                    arrange(ente, data, limite_cvm)\n",
    "\n",
    "head(estouro_limite)"
   ]
  },
  {
   "cell_type": "markdown",
   "metadata": {},
   "source": [
    "O conjunto de dados acima mostra os registros da base de dados em que o percentual dos recursos do RPPS aplicados em um determinado ativo financeiro extrapolou os limites fixados na Resolução CMN n. 3.922/10.\n",
    "\n",
    "Um fato para o qual deve-se chamar a atenção é que a análise realizada acima considera o enquadramento do ativo informado pelo RPPS, e como já visto acima, alguns RPPS informam no DAIR um enquadramento que diverge do enquadramento proposto pelo Minstério da Fazenda. Assim, via de regra, esta análise deveria ser feita após a substituição do enquadramento indevido feita pelo RPPS pelo enquadramento sugerido pelo Minstério da Fazenda.\n",
    "\n",
    "Uma análise visual, poderia ser feita, ente a ente, da seguinte forma:"
   ]
  },
  {
   "cell_type": "code",
   "execution_count": 47,
   "metadata": {
    "collapsed": false
   },
   "outputs": [
    {
     "data": {},
     "metadata": {},
     "output_type": "display_data"
    },
    {
     "data": {
      "image/png": "[encoded data removed]",
      "text/plain": [
       "plot without title"
      ]
     },
     "metadata": {},
     "output_type": "display_data"
    }
   ],
   "source": [
    "options(repr.plot.width = 7, repr.plot.height = 5) \n",
    "\n",
    "nm_ente <- \"Cabo Frio\"\n",
    "dados <- filter(limites_ativos, ente == nm_ente)   \n",
    "\n",
    "ggplot(dados, aes(x=data, y=pctVlrAtivo)) + \n",
    "  geom_point() +\n",
    "  facet_wrap(~ textoFundamentoLegal) + \n",
    "  geom_hline(aes(yintercept = limite_cvm), data=dados, color='red') + \n",
    "  labs(title = paste('Evolucao do Percentual Aplicado por Tipo de Ativo', nm_ente, sep=\" - \"),\n",
    "           y = '% Aplicado', x=\"Mês\") + \n",
    "  theme(axis.text.x = element_text(angle = 90, vjust=0.5)) +\n",
    "  scale_x_date(date_breaks=\"1 month\", labels = date_format(\"%Y-%m\"))\n",
    "\n"
   ]
  },
  {
   "cell_type": "markdown",
   "metadata": {},
   "source": [
    "As linhas vermelhas nos gráficos acima, indicam os limites de aplicação permitidos pela Resolução CMN n. 3.922/10."
   ]
  },
  {
   "cell_type": "markdown",
   "metadata": {},
   "source": [
    "**Marcos F Silva**"
   ]
  }
 ],
 "metadata": {
  "kernelspec": {
   "display_name": "R",
   "language": "R",
   "name": "ir"
  },
  "language_info": {
   "codemirror_mode": "r",
   "file_extension": ".r",
   "mimetype": "text/x-r-source",
   "name": "R",
   "pygments_lexer": "r",
   "version": "3.4.1"
  }
 },
 "nbformat": 4,
 "nbformat_minor": 2
}
