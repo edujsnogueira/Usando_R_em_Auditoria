{
 "cells": [
  {
   "cell_type": "markdown",
   "metadata": {},
   "source": [
    "# Análise de dados do DAIR\n",
    "\n",
    "**Marcos F Silva - 23.12.17** "
   ]
  },
  {
   "cell_type": "markdown",
   "metadata": {},
   "source": [
    "## 1. Introdução\n",
    "\n",
    "O Demonstrativo das Aplicações e Investimentos dos Recursos (DAIR) é um demonstrativo que os Regimes Próprios de Previdência Social (RPPS) devem elaborar e encaminhar ao Ministério da Fazenda. Este demonstrativo explicita a carteira de ativos do RPPS, explicitando de forma detalhada todas as aplicações financeiras dos RPPS. \n",
    "\n",
    "Este demonstrativo, cuja elaboração era bimestral, passou a ser mensal a partir de 2017. Os RPPS elaboram este demonstrativo em um aplicativo disponibilizado pelo Minstério da Fazenda denominado CADPREV - Ente Local. Após a inserção dos dados no aplicativo, este permite a geração de um arquivo xml contendo os dados das aplicações.\n",
    "\n",
    "O encaminhamento do demonstrativo ao Ministério da Fazenda consiste em inserir este arquivo xml (gerado localmente no CADPREV - Ente Local) numa aplicação web denominada CADPREV - Web. \n",
    "\n",
    "Os dados do DAIR de qualquer ente pode ser consultado no CADPREV - Web, que disponibiliza um arquivo pdf com este demonstrativo.\n",
    "\n",
    "Embora seja possível realizar a extração dos dados a partir do arquivo pdf disponibilizado, é mais conveniente solicitar aos RPPS os arquivos xml relativos aos DAIR. Assim, os dados que serão utilizados neste tutorial (**`dados_dair_DtGer_12-12-2017.rds`**) contem os dados relativos ao período de janeiro a agosto de 2017 (alguns RPPS encaminharam meses mais recentes) dos RPPS que atenderam à solicitação de documentos realizada.\n",
    "\n",
    "A aplicação dos recursos financeiros pelos RPPS é regulada pela Resolução CMN 3.922/10, com as recentíssimas alterações introduzidas pela Resolução CMN 4.604/2017. Em linhas gerais estes normativos impõem restrições aos tipos de ativos nos quais os RPPS podem realizar investimentos, bem como ao montante de recursos do RPPS que podem ser aplicados em cada tipo de ativo.\n",
    "\n",
    "Um dos principais ativos em que os RPPS investem seus recursos são os denominados [**Fundos de Investimento**](http://www.cvm.gov.br/menu/regulados/fundos/sobre.html). \n",
    "\n",
    "O investimento de recursos no mercado financeiro é uma área de grande risco e constante fonte de problemas, razão pela qual deve estar sob constante acompanhamento.\n",
    "\n",
    ">**NOTA:** Os dados utilizados, e por conseguinte as análises realizadas, não contém os efeitos das alterações introduzidas pela Resolução CMN 4.604/2017, publicada em **20.10.17**, em especial a alteração dos limites de investimento permitidos em cada ativo. "
   ]
  },
  {
   "cell_type": "markdown",
   "metadata": {},
   "source": [
    "## 2. Análise dos dados\n",
    "\n",
    "A análise de dados terá por objetivo: **(1)** explorar a composição dos ativos dos RPPS; **(2)** verificar o enquadramento dos Fundos de Investimentos; **(3)** verificar cumprimento dos limites de aplicação.\n",
    "\n",
    "Qualquer análisse de dados tem início com a importação dos mesmos para o aplicativo que será utilizado para análise. A importação dos dados é feita da seguinte forma:\n"
   ]
  },
  {
   "cell_type": "code",
   "execution_count": 1,
   "metadata": {
    "collapsed": false
   },
   "outputs": [
    {
     "data": {
      "text/html": [
       "<table>\n",
       "<thead><tr><th scope=col>ente</th><th scope=col>ano</th><th scope=col>mes</th><th scope=col>identificacaoDoAtivo</th><th scope=col>nome</th><th scope=col>textoFundamentoLegal</th><th scope=col>quantidade</th><th scope=col>valorAtualAtivo</th><th scope=col>valorTotalAtual</th><th scope=col>pctTotalRecursosSPPS</th><th scope=col>valorAtualPatrimonioLiquidoFundo</th><th scope=col>pctPatrimonioLiquidoFundo</th><th scope=col>cnpj_fi</th></tr></thead>\n",
       "<tbody>\n",
       "\t<tr><td>Pinheiral                                                                   </td><td>2017                                                                        </td><td>1                                                                           </td><td>14.386.926/0001-71 - CAIXA BRASIL IDKA 2 A TITULOS PUBLICOS FI RENDA FIXA LP</td><td>FI 100% títulos TN                                                          </td><td>Art. 7º, I, \"b\"                                                             </td><td>2996314.7144273080                                                          </td><td>1.6425240000                                                                </td><td>4921518.83                                                                  </td><td>14.79                                                                       </td><td>3664210527.36                                                               </td><td>0.13                                                                        </td><td>14.386.926/0001-71                                                          </td></tr>\n",
       "\t<tr><td>Pinheiral                                                                   </td><td>2017                                                                        </td><td>1                                                                           </td><td>18.598.288/0001-03 - CAIXA BRASIL2024I TITULOS PUBLICOS  FI RENDA FIXA      </td><td>FI 100% títulos TN                                                          </td><td>Art. 7º, I, \"b\"                                                             </td><td>300000.0000000000                                                           </td><td>1.3566020000                                                                </td><td>406980.60                                                                   </td><td>1.22                                                                        </td><td>362551374.08                                                                </td><td>0.11                                                                        </td><td>18.598.288/0001-03                                                          </td></tr>\n",
       "\t<tr><td>Pinheiral                                                                   </td><td>2017                                                                        </td><td>1                                                                           </td><td>11.060.913/0001-10 - CAIXA BRASIL IMA B 5 TITULOS PUBLICOS FI RENDA FIXA LP </td><td>FI 100% títulos TN                                                          </td><td>Art. 7º, I, \"b\"                                                             </td><td>1793117.7799846900                                                          </td><td>2.1790120000                                                                </td><td>3907225.16                                                                  </td><td>11.74                                                                       </td><td>5503989684.97                                                               </td><td>0.07                                                                        </td><td>11.060.913/0001-10                                                          </td></tr>\n",
       "\t<tr><td>Pinheiral                                                                   </td><td>2017                                                                        </td><td>1                                                                           </td><td>10.740.658/0001-93 - CAIXA BRASIL IMA B TITULOS PUBLICOS FI RENDA FIXA LP   </td><td>FI 100% títulos TN                                                          </td><td>Art. 7º, I, \"b\"                                                             </td><td>4552179.1893383010                                                          </td><td>2.2783610000                                                                </td><td>10371507.53                                                                 </td><td>31.16                                                                       </td><td>5218065279.62                                                               </td><td>0.20                                                                        </td><td>10.740.658/0001-93                                                          </td></tr>\n",
       "\t<tr><td>Pinheiral                                                                   </td><td>2017                                                                        </td><td>1                                                                           </td><td>10.740.670/0001-06 - CAIXA BRASIL IRFM 1 TITULOS PUBLICOS FI RENDA FIXA     </td><td>FI 100% títulos TN                                                          </td><td>Art. 7º, I, \"b\"                                                             </td><td>1220056.0519934650                                                          </td><td>2.0224080000                                                                </td><td>2467451.12                                                                  </td><td>7.41                                                                        </td><td>12019833813.48                                                              </td><td>0.02                                                                        </td><td>10.740.670/0001-06                                                          </td></tr>\n",
       "\t<tr><td>Pinheiral                                                                   </td><td>2017                                                                        </td><td>1                                                                           </td><td>06.018.364/0001-85 - FIDC PREMIUN                                           </td><td>FI em Direitos Creditórios - Fechado - Cota Sênior                          </td><td>Art. 7º, VII, \"a\"                                                           </td><td>348603.6921858870                                                           </td><td>1.6350342100                                                                </td><td>569978.96                                                                   </td><td>1.71                                                                        </td><td>103913356.10                                                                </td><td>0.55                                                                        </td><td>06.018.364/0001-85                                                          </td></tr>\n",
       "</tbody>\n",
       "</table>\n"
      ],
      "text/latex": [
       "\\begin{tabular}{r|lllllllllllll}\n",
       " ente & ano & mes & identificacaoDoAtivo & nome & textoFundamentoLegal & quantidade & valorAtualAtivo & valorTotalAtual & pctTotalRecursosSPPS & valorAtualPatrimonioLiquidoFundo & pctPatrimonioLiquidoFundo & cnpj\\_fi\\\\\n",
       "\\hline\n",
       "\t Pinheiral                                                                    & 2017                                                                         & 1                                                                            & 14.386.926/0001-71 - CAIXA BRASIL IDKA 2 A TITULOS PUBLICOS FI RENDA FIXA LP & FI 100\\% títulos TN                                                         & Art. 7º, I, \"b\"                                                              & 2996314.7144273080                                                           & 1.6425240000                                                                 & 4921518.83                                                                   & 14.79                                                                        & 3664210527.36                                                                & 0.13                                                                         & 14.386.926/0001-71                                                          \\\\\n",
       "\t Pinheiral                                                                    & 2017                                                                         & 1                                                                            & 18.598.288/0001-03 - CAIXA BRASIL2024I TITULOS PUBLICOS  FI RENDA FIXA       & FI 100\\% títulos TN                                                         & Art. 7º, I, \"b\"                                                              & 300000.0000000000                                                            & 1.3566020000                                                                 & 406980.60                                                                    & 1.22                                                                         & 362551374.08                                                                 & 0.11                                                                         & 18.598.288/0001-03                                                          \\\\\n",
       "\t Pinheiral                                                                    & 2017                                                                         & 1                                                                            & 11.060.913/0001-10 - CAIXA BRASIL IMA B 5 TITULOS PUBLICOS FI RENDA FIXA LP  & FI 100\\% títulos TN                                                         & Art. 7º, I, \"b\"                                                              & 1793117.7799846900                                                           & 2.1790120000                                                                 & 3907225.16                                                                   & 11.74                                                                        & 5503989684.97                                                                & 0.07                                                                         & 11.060.913/0001-10                                                          \\\\\n",
       "\t Pinheiral                                                                    & 2017                                                                         & 1                                                                            & 10.740.658/0001-93 - CAIXA BRASIL IMA B TITULOS PUBLICOS FI RENDA FIXA LP    & FI 100\\% títulos TN                                                         & Art. 7º, I, \"b\"                                                              & 4552179.1893383010                                                           & 2.2783610000                                                                 & 10371507.53                                                                  & 31.16                                                                        & 5218065279.62                                                                & 0.20                                                                         & 10.740.658/0001-93                                                          \\\\\n",
       "\t Pinheiral                                                                    & 2017                                                                         & 1                                                                            & 10.740.670/0001-06 - CAIXA BRASIL IRFM 1 TITULOS PUBLICOS FI RENDA FIXA      & FI 100\\% títulos TN                                                         & Art. 7º, I, \"b\"                                                              & 1220056.0519934650                                                           & 2.0224080000                                                                 & 2467451.12                                                                   & 7.41                                                                         & 12019833813.48                                                               & 0.02                                                                         & 10.740.670/0001-06                                                          \\\\\n",
       "\t Pinheiral                                                                    & 2017                                                                         & 1                                                                            & 06.018.364/0001-85 - FIDC PREMIUN                                            & FI em Direitos Creditórios - Fechado - Cota Sênior                           & Art. 7º, VII, \"a\"                                                            & 348603.6921858870                                                            & 1.6350342100                                                                 & 569978.96                                                                    & 1.71                                                                         & 103913356.10                                                                 & 0.55                                                                         & 06.018.364/0001-85                                                          \\\\\n",
       "\\end{tabular}\n"
      ],
      "text/markdown": [
       "\n",
       "ente | ano | mes | identificacaoDoAtivo | nome | textoFundamentoLegal | quantidade | valorAtualAtivo | valorTotalAtual | pctTotalRecursosSPPS | valorAtualPatrimonioLiquidoFundo | pctPatrimonioLiquidoFundo | cnpj_fi | \n",
       "|---|---|---|---|---|---|\n",
       "| Pinheiral                                                                    | 2017                                                                         | 1                                                                            | 14.386.926/0001-71 - CAIXA BRASIL IDKA 2 A TITULOS PUBLICOS FI RENDA FIXA LP | FI 100% títulos TN                                                           | Art. 7º, I, \"b\"                                                              | 2996314.7144273080                                                           | 1.6425240000                                                                 | 4921518.83                                                                   | 14.79                                                                        | 3664210527.36                                                                | 0.13                                                                         | 14.386.926/0001-71                                                           | \n",
       "| Pinheiral                                                                    | 2017                                                                         | 1                                                                            | 18.598.288/0001-03 - CAIXA BRASIL2024I TITULOS PUBLICOS  FI RENDA FIXA       | FI 100% títulos TN                                                           | Art. 7º, I, \"b\"                                                              | 300000.0000000000                                                            | 1.3566020000                                                                 | 406980.60                                                                    | 1.22                                                                         | 362551374.08                                                                 | 0.11                                                                         | 18.598.288/0001-03                                                           | \n",
       "| Pinheiral                                                                    | 2017                                                                         | 1                                                                            | 11.060.913/0001-10 - CAIXA BRASIL IMA B 5 TITULOS PUBLICOS FI RENDA FIXA LP  | FI 100% títulos TN                                                           | Art. 7º, I, \"b\"                                                              | 1793117.7799846900                                                           | 2.1790120000                                                                 | 3907225.16                                                                   | 11.74                                                                        | 5503989684.97                                                                | 0.07                                                                         | 11.060.913/0001-10                                                           | \n",
       "| Pinheiral                                                                    | 2017                                                                         | 1                                                                            | 10.740.658/0001-93 - CAIXA BRASIL IMA B TITULOS PUBLICOS FI RENDA FIXA LP    | FI 100% títulos TN                                                           | Art. 7º, I, \"b\"                                                              | 4552179.1893383010                                                           | 2.2783610000                                                                 | 10371507.53                                                                  | 31.16                                                                        | 5218065279.62                                                                | 0.20                                                                         | 10.740.658/0001-93                                                           | \n",
       "| Pinheiral                                                                    | 2017                                                                         | 1                                                                            | 10.740.670/0001-06 - CAIXA BRASIL IRFM 1 TITULOS PUBLICOS FI RENDA FIXA      | FI 100% títulos TN                                                           | Art. 7º, I, \"b\"                                                              | 1220056.0519934650                                                           | 2.0224080000                                                                 | 2467451.12                                                                   | 7.41                                                                         | 12019833813.48                                                               | 0.02                                                                         | 10.740.670/0001-06                                                           | \n",
       "| Pinheiral                                                                    | 2017                                                                         | 1                                                                            | 06.018.364/0001-85 - FIDC PREMIUN                                            | FI em Direitos Creditórios - Fechado - Cota Sênior                           | Art. 7º, VII, \"a\"                                                            | 348603.6921858870                                                            | 1.6350342100                                                                 | 569978.96                                                                    | 1.71                                                                         | 103913356.10                                                                 | 0.55                                                                         | 06.018.364/0001-85                                                           | \n",
       "\n",
       "\n"
      ],
      "text/plain": [
       "  ente      ano  mes\n",
       "1 Pinheiral 2017 1  \n",
       "2 Pinheiral 2017 1  \n",
       "3 Pinheiral 2017 1  \n",
       "4 Pinheiral 2017 1  \n",
       "5 Pinheiral 2017 1  \n",
       "6 Pinheiral 2017 1  \n",
       "  identificacaoDoAtivo                                                        \n",
       "1 14.386.926/0001-71 - CAIXA BRASIL IDKA 2 A TITULOS PUBLICOS FI RENDA FIXA LP\n",
       "2 18.598.288/0001-03 - CAIXA BRASIL2024I TITULOS PUBLICOS  FI RENDA FIXA      \n",
       "3 11.060.913/0001-10 - CAIXA BRASIL IMA B 5 TITULOS PUBLICOS FI RENDA FIXA LP \n",
       "4 10.740.658/0001-93 - CAIXA BRASIL IMA B TITULOS PUBLICOS FI RENDA FIXA LP   \n",
       "5 10.740.670/0001-06 - CAIXA BRASIL IRFM 1 TITULOS PUBLICOS FI RENDA FIXA     \n",
       "6 06.018.364/0001-85 - FIDC PREMIUN                                           \n",
       "  nome                                               textoFundamentoLegal\n",
       "1 FI 100% títulos TN                                 Art. 7º, I, \"b\"     \n",
       "2 FI 100% títulos TN                                 Art. 7º, I, \"b\"     \n",
       "3 FI 100% títulos TN                                 Art. 7º, I, \"b\"     \n",
       "4 FI 100% títulos TN                                 Art. 7º, I, \"b\"     \n",
       "5 FI 100% títulos TN                                 Art. 7º, I, \"b\"     \n",
       "6 FI em Direitos Creditórios - Fechado - Cota Sênior Art. 7º, VII, \"a\"   \n",
       "  quantidade         valorAtualAtivo valorTotalAtual pctTotalRecursosSPPS\n",
       "1 2996314.7144273080 1.6425240000    4921518.83      14.79               \n",
       "2 300000.0000000000  1.3566020000    406980.60       1.22                \n",
       "3 1793117.7799846900 2.1790120000    3907225.16      11.74               \n",
       "4 4552179.1893383010 2.2783610000    10371507.53     31.16               \n",
       "5 1220056.0519934650 2.0224080000    2467451.12      7.41                \n",
       "6 348603.6921858870  1.6350342100    569978.96       1.71                \n",
       "  valorAtualPatrimonioLiquidoFundo pctPatrimonioLiquidoFundo cnpj_fi           \n",
       "1 3664210527.36                    0.13                      14.386.926/0001-71\n",
       "2 362551374.08                     0.11                      18.598.288/0001-03\n",
       "3 5503989684.97                    0.07                      11.060.913/0001-10\n",
       "4 5218065279.62                    0.20                      10.740.658/0001-93\n",
       "5 12019833813.48                   0.02                      10.740.670/0001-06\n",
       "6 103913356.10                     0.55                      06.018.364/0001-85"
      ]
     },
     "metadata": {},
     "output_type": "display_data"
    }
   ],
   "source": [
    "setwd(\"C:\\\\Users\\\\Marcos\\\\Documents\\\\GitHub\\\\Usando-R-em-Auditoria\\\\dados\\\\analise-dados-dair\")\n",
    "dair <- readRDS(\"dados_dair_DtGer_12-12-2017.rds\")\n",
    "head(dair)"
   ]
  },
  {
   "cell_type": "markdown",
   "metadata": {},
   "source": [
    "## 2.1 - Explorar a composição dos ativos dos RPPS\n",
    "\n",
    "Importados os dados, a realização de uma análise exploratória com vistas a obter uma compreensão geral dos dados é sempre recomendável. As possibilidades de análise do conjunto de dados são grandes. Não obstante, tertar-se-á responder às seguintes questões:\n",
    "\n",
    "* Em quais ativos os RPPS estão investindo?   \n",
    "* Como os recursos dos RPPS estão distribuídos entre os ativos?   \n",
    "* Como o valor investido em um ativo evoluiu ao longo do período?\n",
    "\n",
    "Um ponto importante para o qual se deve chamar a atenção é para o fato de que as perguntas a serem respondidas dependem da disponibilidade de variávei na base de dados. Algumas perguntas interessantes podem não ser possíveis de responder em razão da inexistência, na base de dados, de variável relevante para a referida questão.\n"
   ]
  },
  {
   "cell_type": "markdown",
   "metadata": {},
   "source": [
    "### 2.1.1 - Em quais ativos os RPPS estão investindo?\n",
    "\n",
    "As informações sobre os tipos de ativos estão na variável `nome`. Para uma visão geral, pode-se simplesmente, listar os ativos existentes na base de dados. Isso pode ser feito da seguinte forma:"
   ]
  },
  {
   "cell_type": "code",
   "execution_count": 4,
   "metadata": {
    "collapsed": false
   },
   "outputs": [
    {
     "data": {
      "text/html": [
       "<ol class=list-inline>\n",
       "\t<li>'FI 100% títulos TN'</li>\n",
       "\t<li>'FI em Direitos Creditórios - Fechado - Cota Sênior'</li>\n",
       "\t<li>'FI Renda Fixa/Referenciados RF'</li>\n",
       "\t<li>'FI de Renda Fixa'</li>\n",
       "\t<li>'FI em Ações'</li>\n",
       "\t<li>'FI Multimercado - Aberto'</li>\n",
       "\t<li>'Disponibilidade'</li>\n",
       "\t<li>'FI Renda Fixa \"Crédito Privado\"'</li>\n",
       "\t<li>'FI Ações referenciados'</li>\n",
       "\t<li>'FI em Direitos Creditórios - Aberto - Cota Sênior'</li>\n",
       "\t<li>'FI Imobiliários'</li>\n",
       "\t<li>'Terreno'</li>\n",
       "\t<li>'Prédio Comercial'</li>\n",
       "\t<li>'FI em Participações - Fechado'</li>\n",
       "\t<li>'FI de Índices Referenciados em Renda Fixa'</li>\n",
       "\t<li>'Poupança'</li>\n",
       "\t<li>'Títulos de Renda Fixa'</li>\n",
       "\t<li>'Outros - Imóveis'</li>\n",
       "\t<li>'Títulos Tesouro Nacional'</li>\n",
       "\t<li>'FI de Índices Referenciados em RF Subíndices Anbima'</li>\n",
       "\t<li>'Outros Bens, Direitos e Ativos'</li>\n",
       "\t<li>'Loja'</li>\n",
       "\t<li>'Casa'</li>\n",
       "\t<li>'Apartamento'</li>\n",
       "</ol>\n"
      ],
      "text/latex": [
       "\\begin{enumerate*}\n",
       "\\item 'FI 100\\% títulos TN'\n",
       "\\item 'FI em Direitos Creditórios - Fechado - Cota Sênior'\n",
       "\\item 'FI Renda Fixa/Referenciados RF'\n",
       "\\item 'FI de Renda Fixa'\n",
       "\\item 'FI em Ações'\n",
       "\\item 'FI Multimercado - Aberto'\n",
       "\\item 'Disponibilidade'\n",
       "\\item 'FI Renda Fixa \"Crédito Privado\"'\n",
       "\\item 'FI Ações referenciados'\n",
       "\\item 'FI em Direitos Creditórios - Aberto - Cota Sênior'\n",
       "\\item 'FI Imobiliários'\n",
       "\\item 'Terreno'\n",
       "\\item 'Prédio Comercial'\n",
       "\\item 'FI em Participações - Fechado'\n",
       "\\item 'FI de Índices Referenciados em Renda Fixa'\n",
       "\\item 'Poupança'\n",
       "\\item 'Títulos de Renda Fixa'\n",
       "\\item 'Outros - Imóveis'\n",
       "\\item 'Títulos Tesouro Nacional'\n",
       "\\item 'FI de Índices Referenciados em RF Subíndices Anbima'\n",
       "\\item 'Outros Bens, Direitos e Ativos'\n",
       "\\item 'Loja'\n",
       "\\item 'Casa'\n",
       "\\item 'Apartamento'\n",
       "\\end{enumerate*}\n"
      ],
      "text/markdown": [
       "1. 'FI 100% títulos TN'\n",
       "2. 'FI em Direitos Creditórios - Fechado - Cota Sênior'\n",
       "3. 'FI Renda Fixa/Referenciados RF'\n",
       "4. 'FI de Renda Fixa'\n",
       "5. 'FI em Ações'\n",
       "6. 'FI Multimercado - Aberto'\n",
       "7. 'Disponibilidade'\n",
       "8. 'FI Renda Fixa \"Crédito Privado\"'\n",
       "9. 'FI Ações referenciados'\n",
       "10. 'FI em Direitos Creditórios - Aberto - Cota Sênior'\n",
       "11. 'FI Imobiliários'\n",
       "12. 'Terreno'\n",
       "13. 'Prédio Comercial'\n",
       "14. 'FI em Participações - Fechado'\n",
       "15. 'FI de Índices Referenciados em Renda Fixa'\n",
       "16. 'Poupança'\n",
       "17. 'Títulos de Renda Fixa'\n",
       "18. 'Outros - Imóveis'\n",
       "19. 'Títulos Tesouro Nacional'\n",
       "20. 'FI de Índices Referenciados em RF Subíndices Anbima'\n",
       "21. 'Outros Bens, Direitos e Ativos'\n",
       "22. 'Loja'\n",
       "23. 'Casa'\n",
       "24. 'Apartamento'\n",
       "\n",
       "\n"
      ],
      "text/plain": [
       " [1] \"FI 100% títulos TN\"                                 \n",
       " [2] \"FI em Direitos Creditórios - Fechado - Cota Sênior\" \n",
       " [3] \"FI Renda Fixa/Referenciados RF\"                     \n",
       " [4] \"FI de Renda Fixa\"                                   \n",
       " [5] \"FI em Ações\"                                        \n",
       " [6] \"FI Multimercado - Aberto\"                           \n",
       " [7] \"Disponibilidade\"                                    \n",
       " [8] \"FI Renda Fixa \\\"Crédito Privado\\\"\"                  \n",
       " [9] \"FI Ações referenciados\"                             \n",
       "[10] \"FI em Direitos Creditórios - Aberto - Cota Sênior\"  \n",
       "[11] \"FI Imobiliários\"                                    \n",
       "[12] \"Terreno\"                                            \n",
       "[13] \"Prédio Comercial\"                                   \n",
       "[14] \"FI em Participações - Fechado\"                      \n",
       "[15] \"FI de Índices Referenciados em Renda Fixa\"          \n",
       "[16] \"Poupança\"                                           \n",
       "[17] \"Títulos de Renda Fixa\"                              \n",
       "[18] \"Outros - Imóveis\"                                   \n",
       "[19] \"Títulos Tesouro Nacional\"                           \n",
       "[20] \"FI de Índices Referenciados em RF Subíndices Anbima\"\n",
       "[21] \"Outros Bens, Direitos e Ativos\"                     \n",
       "[22] \"Loja\"                                               \n",
       "[23] \"Casa\"                                               \n",
       "[24] \"Apartamento\"                                        "
      ]
     },
     "metadata": {},
     "output_type": "display_data"
    }
   ],
   "source": [
    "unique(dair$nome)"
   ]
  },
  {
   "cell_type": "markdown",
   "metadata": {},
   "source": [
    "Existem valores faltantes nesta variável?"
   ]
  },
  {
   "cell_type": "code",
   "execution_count": 9,
   "metadata": {
    "collapsed": false
   },
   "outputs": [
    {
     "data": {
      "text/html": [
       "FALSE"
      ],
      "text/latex": [
       "FALSE"
      ],
      "text/markdown": [
       "FALSE"
      ],
      "text/plain": [
       "[1] FALSE"
      ]
     },
     "metadata": {},
     "output_type": "display_data"
    }
   ],
   "source": [
    "any(is.na(dair$nome))"
   ]
  },
  {
   "cell_type": "markdown",
   "metadata": {},
   "source": [
    "Não existem valores faltantes, o que indica que os ativos nos quais os RPPS (ao menos aqueles para os quais conseguimos os dados) estão listados acima.\n",
    "\n",
    "Mas como saber em quais ativos um determinado RPPS está investindo. Basta fazermos o mesmo que foi feito para toda a base de dados para o subconjunto dos registros relativos ao RPPS que se deseja examinar. Exemplo: supondo que se deseja verificar em quais ativos o RIOPREVIDENCIA aplica seus recursos, basta que se faça:"
   ]
  },
  {
   "cell_type": "code",
   "execution_count": 11,
   "metadata": {
    "collapsed": false
   },
   "outputs": [
    {
     "data": {
      "text/html": [
       "<ol class=list-inline>\n",
       "\t<li>'Angra dos Reis'</li>\n",
       "\t<li>'Areal'</li>\n",
       "\t<li>'Armação dos Búzios'</li>\n",
       "\t<li>'Barra Mansa'</li>\n",
       "\t<li>'Belford Roxo'</li>\n",
       "\t<li>'Bom Jardim'</li>\n",
       "\t<li>'Cabo Frio'</li>\n",
       "\t<li>'Cambuci'</li>\n",
       "\t<li>'Cantagalo'</li>\n",
       "\t<li>'Cardoso Moreira'</li>\n",
       "\t<li>'Carmo'</li>\n",
       "\t<li>'Casimiro de Abreu'</li>\n",
       "\t<li>'Comendador Levy Gasparian'</li>\n",
       "\t<li>'Conceição de Macabu'</li>\n",
       "\t<li>'Duas Barras'</li>\n",
       "\t<li>'Italva'</li>\n",
       "\t<li>'Itaocara'</li>\n",
       "\t<li>'Itaperuna'</li>\n",
       "\t<li>'Itatiaia'</li>\n",
       "\t<li>'Japeri'</li>\n",
       "\t<li>'Macaé'</li>\n",
       "\t<li>'Maricá'</li>\n",
       "\t<li>'Mesquita'</li>\n",
       "\t<li>'Miguel Pereira'</li>\n",
       "\t<li>'Natividade'</li>\n",
       "\t<li>'Nilópolis'</li>\n",
       "\t<li>'Niterói'</li>\n",
       "\t<li>'Nova Friburgo'</li>\n",
       "\t<li>'Nova Iguaçu'</li>\n",
       "\t<li>'Paty do Alferes'</li>\n",
       "\t<li>'Petrópolis'</li>\n",
       "\t<li>'Pinheiral'</li>\n",
       "\t<li>'Piraí'</li>\n",
       "\t<li>'Porciúncula'</li>\n",
       "\t<li>'Quatis'</li>\n",
       "\t<li>'Queimados'</li>\n",
       "\t<li>'Resende'</li>\n",
       "\t<li>'Rio Claro'</li>\n",
       "\t<li>'Rio das Ostras'</li>\n",
       "\t<li>'Rio de Janeiro'</li>\n",
       "\t<li>'São Gonçalo'</li>\n",
       "\t<li>'São João da Barra'</li>\n",
       "\t<li>'São Pedro da Aldeia'</li>\n",
       "\t<li>'São Sebastião do Alto'</li>\n",
       "\t<li>'Sapucaia'</li>\n",
       "\t<li>'Saquarema'</li>\n",
       "\t<li>'Silva Jardim'</li>\n",
       "\t<li>'Sumidouro'</li>\n",
       "\t<li>'Trajano de Moraes'</li>\n",
       "\t<li>'Valença'</li>\n",
       "\t<li>'Varre-Sai'</li>\n",
       "\t<li>'Vassouras'</li>\n",
       "</ol>\n"
      ],
      "text/latex": [
       "\\begin{enumerate*}\n",
       "\\item 'Angra dos Reis'\n",
       "\\item 'Areal'\n",
       "\\item 'Armação dos Búzios'\n",
       "\\item 'Barra Mansa'\n",
       "\\item 'Belford Roxo'\n",
       "\\item 'Bom Jardim'\n",
       "\\item 'Cabo Frio'\n",
       "\\item 'Cambuci'\n",
       "\\item 'Cantagalo'\n",
       "\\item 'Cardoso Moreira'\n",
       "\\item 'Carmo'\n",
       "\\item 'Casimiro de Abreu'\n",
       "\\item 'Comendador Levy Gasparian'\n",
       "\\item 'Conceição de Macabu'\n",
       "\\item 'Duas Barras'\n",
       "\\item 'Italva'\n",
       "\\item 'Itaocara'\n",
       "\\item 'Itaperuna'\n",
       "\\item 'Itatiaia'\n",
       "\\item 'Japeri'\n",
       "\\item 'Macaé'\n",
       "\\item 'Maricá'\n",
       "\\item 'Mesquita'\n",
       "\\item 'Miguel Pereira'\n",
       "\\item 'Natividade'\n",
       "\\item 'Nilópolis'\n",
       "\\item 'Niterói'\n",
       "\\item 'Nova Friburgo'\n",
       "\\item 'Nova Iguaçu'\n",
       "\\item 'Paty do Alferes'\n",
       "\\item 'Petrópolis'\n",
       "\\item 'Pinheiral'\n",
       "\\item 'Piraí'\n",
       "\\item 'Porciúncula'\n",
       "\\item 'Quatis'\n",
       "\\item 'Queimados'\n",
       "\\item 'Resende'\n",
       "\\item 'Rio Claro'\n",
       "\\item 'Rio das Ostras'\n",
       "\\item 'Rio de Janeiro'\n",
       "\\item 'São Gonçalo'\n",
       "\\item 'São João da Barra'\n",
       "\\item 'São Pedro da Aldeia'\n",
       "\\item 'São Sebastião do Alto'\n",
       "\\item 'Sapucaia'\n",
       "\\item 'Saquarema'\n",
       "\\item 'Silva Jardim'\n",
       "\\item 'Sumidouro'\n",
       "\\item 'Trajano de Moraes'\n",
       "\\item 'Valença'\n",
       "\\item 'Varre-Sai'\n",
       "\\item 'Vassouras'\n",
       "\\end{enumerate*}\n"
      ],
      "text/markdown": [
       "1. 'Angra dos Reis'\n",
       "2. 'Areal'\n",
       "3. 'Armação dos Búzios'\n",
       "4. 'Barra Mansa'\n",
       "5. 'Belford Roxo'\n",
       "6. 'Bom Jardim'\n",
       "7. 'Cabo Frio'\n",
       "8. 'Cambuci'\n",
       "9. 'Cantagalo'\n",
       "10. 'Cardoso Moreira'\n",
       "11. 'Carmo'\n",
       "12. 'Casimiro de Abreu'\n",
       "13. 'Comendador Levy Gasparian'\n",
       "14. 'Conceição de Macabu'\n",
       "15. 'Duas Barras'\n",
       "16. 'Italva'\n",
       "17. 'Itaocara'\n",
       "18. 'Itaperuna'\n",
       "19. 'Itatiaia'\n",
       "20. 'Japeri'\n",
       "21. 'Macaé'\n",
       "22. 'Maricá'\n",
       "23. 'Mesquita'\n",
       "24. 'Miguel Pereira'\n",
       "25. 'Natividade'\n",
       "26. 'Nilópolis'\n",
       "27. 'Niterói'\n",
       "28. 'Nova Friburgo'\n",
       "29. 'Nova Iguaçu'\n",
       "30. 'Paty do Alferes'\n",
       "31. 'Petrópolis'\n",
       "32. 'Pinheiral'\n",
       "33. 'Piraí'\n",
       "34. 'Porciúncula'\n",
       "35. 'Quatis'\n",
       "36. 'Queimados'\n",
       "37. 'Resende'\n",
       "38. 'Rio Claro'\n",
       "39. 'Rio das Ostras'\n",
       "40. 'Rio de Janeiro'\n",
       "41. 'São Gonçalo'\n",
       "42. 'São João da Barra'\n",
       "43. 'São Pedro da Aldeia'\n",
       "44. 'São Sebastião do Alto'\n",
       "45. 'Sapucaia'\n",
       "46. 'Saquarema'\n",
       "47. 'Silva Jardim'\n",
       "48. 'Sumidouro'\n",
       "49. 'Trajano de Moraes'\n",
       "50. 'Valença'\n",
       "51. 'Varre-Sai'\n",
       "52. 'Vassouras'\n",
       "\n",
       "\n"
      ],
      "text/plain": [
       " [1] \"Angra dos Reis\"            \"Areal\"                    \n",
       " [3] \"Armação dos Búzios\"        \"Barra Mansa\"              \n",
       " [5] \"Belford Roxo\"              \"Bom Jardim\"               \n",
       " [7] \"Cabo Frio\"                 \"Cambuci\"                  \n",
       " [9] \"Cantagalo\"                 \"Cardoso Moreira\"          \n",
       "[11] \"Carmo\"                     \"Casimiro de Abreu\"        \n",
       "[13] \"Comendador Levy Gasparian\" \"Conceição de Macabu\"      \n",
       "[15] \"Duas Barras\"               \"Italva\"                   \n",
       "[17] \"Itaocara\"                  \"Itaperuna\"                \n",
       "[19] \"Itatiaia\"                  \"Japeri\"                   \n",
       "[21] \"Macaé\"                     \"Maricá\"                   \n",
       "[23] \"Mesquita\"                  \"Miguel Pereira\"           \n",
       "[25] \"Natividade\"                \"Nilópolis\"                \n",
       "[27] \"Niterói\"                   \"Nova Friburgo\"            \n",
       "[29] \"Nova Iguaçu\"               \"Paty do Alferes\"          \n",
       "[31] \"Petrópolis\"                \"Pinheiral\"                \n",
       "[33] \"Piraí\"                     \"Porciúncula\"              \n",
       "[35] \"Quatis\"                    \"Queimados\"                \n",
       "[37] \"Resende\"                   \"Rio Claro\"                \n",
       "[39] \"Rio das Ostras\"            \"Rio de Janeiro\"           \n",
       "[41] \"São Gonçalo\"               \"São João da Barra\"        \n",
       "[43] \"São Pedro da Aldeia\"       \"São Sebastião do Alto\"    \n",
       "[45] \"Sapucaia\"                  \"Saquarema\"                \n",
       "[47] \"Silva Jardim\"              \"Sumidouro\"                \n",
       "[49] \"Trajano de Moraes\"         \"Valença\"                  \n",
       "[51] \"Varre-Sai\"                 \"Vassouras\"                "
      ]
     },
     "metadata": {},
     "output_type": "display_data"
    }
   ],
   "source": [
    "# Identificar os entes\n",
    "sort(unique(dair$ente))"
   ]
  },
  {
   "cell_type": "code",
   "execution_count": 20,
   "metadata": {
    "collapsed": false
   },
   "outputs": [
    {
     "data": {
      "text/html": [
       "<ol class=list-inline>\n",
       "\t<li>'FI 100% títulos TN'</li>\n",
       "\t<li>'FI de Renda Fixa'</li>\n",
       "\t<li>'Outros Bens, Direitos e Ativos'</li>\n",
       "\t<li>'Terreno'</li>\n",
       "\t<li>'Prédio Comercial'</li>\n",
       "\t<li>'Loja'</li>\n",
       "\t<li>'Casa'</li>\n",
       "\t<li>'Apartamento'</li>\n",
       "\t<li>'Disponibilidade'</li>\n",
       "\t<li>'FI Renda Fixa/Referenciados RF'</li>\n",
       "</ol>\n"
      ],
      "text/latex": [
       "\\begin{enumerate*}\n",
       "\\item 'FI 100\\% títulos TN'\n",
       "\\item 'FI de Renda Fixa'\n",
       "\\item 'Outros Bens, Direitos e Ativos'\n",
       "\\item 'Terreno'\n",
       "\\item 'Prédio Comercial'\n",
       "\\item 'Loja'\n",
       "\\item 'Casa'\n",
       "\\item 'Apartamento'\n",
       "\\item 'Disponibilidade'\n",
       "\\item 'FI Renda Fixa/Referenciados RF'\n",
       "\\end{enumerate*}\n"
      ],
      "text/markdown": [
       "1. 'FI 100% títulos TN'\n",
       "2. 'FI de Renda Fixa'\n",
       "3. 'Outros Bens, Direitos e Ativos'\n",
       "4. 'Terreno'\n",
       "5. 'Prédio Comercial'\n",
       "6. 'Loja'\n",
       "7. 'Casa'\n",
       "8. 'Apartamento'\n",
       "9. 'Disponibilidade'\n",
       "10. 'FI Renda Fixa/Referenciados RF'\n",
       "\n",
       "\n"
      ],
      "text/plain": [
       " [1] \"FI 100% títulos TN\"             \"FI de Renda Fixa\"              \n",
       " [3] \"Outros Bens, Direitos e Ativos\" \"Terreno\"                       \n",
       " [5] \"Prédio Comercial\"               \"Loja\"                          \n",
       " [7] \"Casa\"                           \"Apartamento\"                   \n",
       " [9] \"Disponibilidade\"                \"FI Renda Fixa/Referenciados RF\""
      ]
     },
     "metadata": {},
     "output_type": "display_data"
    }
   ],
   "source": [
    "library(dplyr)\n",
    "dair_rj <- dair %>% \n",
    "              filter(ente == 'Rio de Janeiro')\n",
    "\n",
    "unique(dair_rj$nome)"
   ]
  },
  {
   "cell_type": "markdown",
   "metadata": {},
   "source": [
    "Quanto está investido em cada um desses tipos de ativos?"
   ]
  },
  {
   "cell_type": "code",
   "execution_count": null,
   "metadata": {
    "collapsed": true
   },
   "outputs": [],
   "source": [
    "ativos <- dair_rj %>%\n",
    "            group_by(nome) %>%\n",
    "            summarise(vlrAplicAtivo = sum(valorTotalAtual))\n",
    "\n",
    "ativos"
   ]
  },
  {
   "cell_type": "markdown",
   "metadata": {},
   "source": [
    "## 2.2 - Enquadramento dos Fundos de Investimento\n",
    "\n",
    "Neste tópico, nosso objetivo é verificar a adequação do enquadramento dos Fundos de Investimentos informado pelos RPPS ao Ministério da Fazenda.\n",
    "\n",
    "Como já mencionado anteriormente, existe restrições quanto ao montante de recursos que o RPPS pode aplicar em determinados instrumetnos financeiros. Por exemplo, a Resolução 3.922/10 "
   ]
  },
  {
   "cell_type": "code",
   "execution_count": null,
   "metadata": {
    "collapsed": true
   },
   "outputs": [],
   "source": [
    "library(readxl)\n",
    "setwd(\"C:\\\\Users\\\\Marcos\\\\Dropbox\\\\InfoContas\\\\tipologias\")\n",
    "\n",
    "classif_fundos <- read_excel('2017_04-05-Planilha-de-enquadramento-dos-Fundos-SRPPS-CGACI-DIINV.xlsx',\n",
    "                             sheet = 'Enquadramento dos fundos')\n",
    "\n",
    "head(classif_fundos)\n",
    "\n",
    "\n",
    "\n"
   ]
  },
  {
   "cell_type": "code",
   "execution_count": null,
   "metadata": {
    "collapsed": true
   },
   "outputs": [],
   "source": [
    "# Modifica valores da variável TIPO_ATIVO\n",
    "dair$ENQUAD_RPPS <- toupper(gsub('[[:punct:]]| |o', '', sub('.*-(.*)', '\\\\1', dair$TIPO_ATIVO)))\n",
    "\n",
    "# Modifica valores da variável Classificação Padronizada\n",
    "dair$ENQUAD_MF <- toupper(gsub('[[:punct:]]| ', '', dair$`Classificação Padronizada`))\n",
    "\n",
    "# Inspeção dos novos valores\n",
    "head(dair[, c(\"ENQUAD_RPPS\", \"TIPO_ATIVO\", \"ENQUAD_MF\", \"Classificação Padronizada\")])\n",
    "\n",
    "dair$DIVERGENCIA <- ifelse(dair$ENQUAD_RPPS == dair$ENQUAD_MF, \"0\", \"1\")\n",
    "head(subset(dair, DIVERGENCIA == 1))\n",
    "\n",
    "\n",
    "\n",
    "library(dplyr)\n",
    "resumo <- dair %>%\n",
    "            filter(DIVERGENCIA == 1) %>%\n",
    "            group_by(ENTE) %>%\n",
    "            mutate(OCORRENCIAS=paste(sort(unique(BIMESTRE)), collapse=\" | \"),\n",
    "                   QTD_OCORRENCIAS=length(unique(BIMESTRE))) %>%\n",
    "            filter(!duplicated(CNPJ_FUNDO)) %>%\n",
    "            select(ENTE, CNPJ_FUNDO, FUNDO, QTD_OCORRENCIAS, OCORRENCIAS,  ENQUAD_RPPS, ENQUAD_MF) %>%\n",
    "            ungroup()\n",
    "head(resumo)\n",
    "nrow(resumo)\n",
    "\n",
    "# To do: verificar se o mesmo enquadramento equivocado ocorre em\n",
    "# todos os períodos (bimestres e meses). O código utilizado neste \n",
    "# tutorial pega apenas as classificações da 1a ocorrência do Fundo no Ente.\n",
    "\n"
   ]
  },
  {
   "cell_type": "markdown",
   "metadata": {},
   "source": [
    "## 2.3 - Limites de aplicações"
   ]
  },
  {
   "cell_type": "code",
   "execution_count": null,
   "metadata": {
    "collapsed": true
   },
   "outputs": [],
   "source": []
  },
  {
   "cell_type": "markdown",
   "metadata": {},
   "source": [
    "`2017_10-16-Planilha-de-enquadramento-dos-Fundos-SRPPS-CGACI-DIINV.xlsx`"
   ]
  }
 ],
 "metadata": {
  "kernelspec": {
   "display_name": "R",
   "language": "R",
   "name": "ir"
  },
  "language_info": {
   "codemirror_mode": "r",
   "file_extension": ".r",
   "mimetype": "text/x-r-source",
   "name": "R",
   "pygments_lexer": "r",
   "version": "3.4.1"
  }
 },
 "nbformat": 4,
 "nbformat_minor": 2
}
