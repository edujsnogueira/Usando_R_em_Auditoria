{
 "cells": [
  {
   "cell_type": "markdown",
   "metadata": {
    "collapsed": true
   },
   "source": [
    "# Regras de Associação\n",
    "\n",
    "### *Marcos F Silva*   \n",
    "\n",
    "Janeiro de 2018 (Versão Preliminar)"
   ]
  },
  {
   "cell_type": "markdown",
   "metadata": {},
   "source": [
    "## 1. O que são regras de associação?\n",
    "\n",
    "Algoritmos de regras de associação buscam identificar, dentro de um conjunto de itens, aqueles que frequentemente ocorrem juntos  em transações.\n",
    "\n",
    "Para tornar as coisas um pouco mais claras, vamos a um exemplo prático. Vamos pensar no clássico exemplo dos carrinhos de compra. Podemos imaginar que cada compra realizada por um cliente constitui uma **transação**, e que o conjunto de mercadorias compradas pelo cliente são os itens associados a esta transação. As mercadorias disponíveis no mercado para venda constitui nosso conjunto de itens, dos quais, os itens que compõem cada transação (compras de cada clente) constituem um pequeno subconjunto do conjunto total de itens.\n",
    "\n",
    "O objetivo das regras de associação é identificar quais produtos do mercado são comprados juntos com frequência pelos clientes do mercado. \n",
    "\n",
    "Um exemplo mais próximo da area de controle no setor público são as licitações públicas. Podemos considerar cada licitação como uma transação e os itens associados a uma transação são os licitantes que dela participam. Estes constituem um subconjunto de todas as empresas que participam de licitações na administração pública. Neste contexto, o interesse está em identificar quais licitantes participam juntos em licitações com frequencia.\n",
    "\n",
    "Uma maneira mais formal de expressar esse conceito é da seguinte forma: uma regra de associação é uma implicação da forma $X \\to Y$ onde $X$ e $Y$ são conjuntos disjuntos, isto é $X \\bigcap Y = \\emptyset$. (TAN at all, 2006)\n",
    "\n",
    "A força de uma regra de associação pode ser medida em termos de seu **suporte** e **confiança**.\n",
    "\n",
    "O **suporte** de uma regra determina o quão frequentemente uma regra é encontrada em um determinado conjunto de dados enquanto a **confiança** determina o quão frequentemente os itens em $Y$ ocorrem em transações que contenham $X$. Estas quantidades são definidas da seguinte forma:\n",
    "\n",
    "$$Suporte: s(X \\to Y) = \\frac{\\sigma(X \\bigcup Y)}{N}$$ \n",
    "\n",
    "$$Confiança: c(X \\to Y) = \\frac{\\sigma(X \\bigcup Y)}{\\sigma(X)}$$\n",
    "\n",
    "Além do suporte e confiança, o **lift** é uma outra medida útil para auxiliar na avaliação quanto a relevância de uma regra.\n",
    "\n",
    "</br>\n"
   ]
  },
  {
   "cell_type": "markdown",
   "metadata": {},
   "source": [
    "## 2. Uma aplicação prática\n",
    "\n",
    "Para ilustrar como implementar na prática as regras de associação utilizando o R, vamos realizar uma aplicação na área de licitações públicas. Utilizaremos uma base de dados denominada `licit` que contém informações sobre as licitações realizadas.\n",
    "\n",
    "Os pacotes necessários são os seguintes:"
   ]
  },
  {
   "cell_type": "code",
   "execution_count": 1,
   "metadata": {
    "collapsed": false
   },
   "outputs": [],
   "source": [
    "options(warn = -1)\n",
    "suppressMessages(library(dplyr))\n",
    "suppressMessages(library(arules))\n",
    "suppressMessages(library(arulesViz))\n",
    "suppressMessages(library(readxl))"
   ]
  },
  {
   "cell_type": "markdown",
   "metadata": {},
   "source": [
    "O conjunto de dados necessário para o desemvolvimento do exemplo chamase `licit_base_completa.RData` e está disponível para *download* no GitHub. A importação dos dados pode ser feita da seguinte forma:"
   ]
  },
  {
   "cell_type": "code",
   "execution_count": 2,
   "metadata": {
    "collapsed": false
   },
   "outputs": [
    {
     "data": {
      "text/html": [
       "<table>\n",
       "<thead><tr><th scope=col>COD_LICITACAO</th><th scope=col>LICITACAO</th><th scope=col>RESUMO_OBJETO</th><th scope=col>DESC_MODALIDADE</th><th scope=col>STATUS_LICITACAO</th><th scope=col>DATA_ABERTURA_SESSAO</th><th scope=col>DESCR_UGR</th><th scope=col>ID_ITEM</th><th scope=col>CNPJ.CPF_FORNECEDORES</th><th scope=col>NOME_FORNECEDORES</th><th scope=col>TIPO_PESSOA</th><th scope=col>VALOR_FINAL</th><th scope=col>VENCEDOR</th><th scope=col>MICRO_PEQUENA_EMPRESA</th></tr></thead>\n",
       "<tbody>\n",
       "\t<tr><td>4594                                                                                      </td><td>PE-009/12                                                                                 </td><td>Registro de Preço para mat. elétrico                                                      </td><td>Pregão Eletrônico                                                                         </td><td>Homologado Total                                                                          </td><td>26/04/2012 14:23:09                                                                       </td><td>SECRETARIA DE ESTADO DE FAZENDA                                                           </td><td>16                                                                                        </td><td>04.960.002/0001-83                                                                        </td><td>DIBOA COMERCIAL LTDA                                                                      </td><td>Jurídica                                                                                  </td><td> 76.50                                                                                    </td><td>S                                                                                         </td><td>N                                                                                         </td></tr>\n",
       "\t<tr><td>4594                                                                                      </td><td>PE-009/12                                                                                 </td><td>Registro de Preço para mat. elétrico                                                      </td><td>Pregão Eletrônico                                                                         </td><td>Homologado Total                                                                          </td><td>26/04/2012 14:23:09                                                                       </td><td>SECRETARIA DE ESTADO DE FAZENDA                                                           </td><td>16                                                                                        </td><td>07.946.118/0001-56                                                                        </td><td>MACHFUSO COMERCIAL E SERVIÇOS LTDA                                                        </td><td>Jurídica                                                                                  </td><td> 60.00                                                                                    </td><td>N                                                                                         </td><td>S                                                                                         </td></tr>\n",
       "\t<tr><td>4594                                                                                      </td><td>PE-009/12                                                                                 </td><td>Registro de Preço para mat. elétrico                                                      </td><td>Pregão Eletrônico                                                                         </td><td>Homologado Total                                                                          </td><td>26/04/2012 14:23:09                                                                       </td><td>SECRETARIA DE ESTADO DE FAZENDA                                                           </td><td>16                                                                                        </td><td>07.324.021/0001-01                                                                        </td><td>ROS RIO MATERIAIS E COMÉRCIO LTDA-EPP (ANTIGA ROS RIO MATERIAIS E REPRESENTAÇÕES LTDA EPP)</td><td>Jurídica                                                                                  </td><td>214.65                                                                                    </td><td>N                                                                                         </td><td>S                                                                                         </td></tr>\n",
       "</tbody>\n",
       "</table>\n"
      ],
      "text/latex": [
       "\\begin{tabular}{r|llllllllllllll}\n",
       " COD\\_LICITACAO & LICITACAO & RESUMO\\_OBJETO & DESC\\_MODALIDADE & STATUS\\_LICITACAO & DATA\\_ABERTURA\\_SESSAO & DESCR\\_UGR & ID\\_ITEM & CNPJ.CPF\\_FORNECEDORES & NOME\\_FORNECEDORES & TIPO\\_PESSOA & VALOR\\_FINAL & VENCEDOR & MICRO\\_PEQUENA\\_EMPRESA\\\\\n",
       "\\hline\n",
       "\t 4594                                                                                       & PE-009/12                                                                                  & Registro de Preço para mat. elétrico                                                       & Pregão Eletrônico                                                                          & Homologado Total                                                                           & 26/04/2012 14:23:09                                                                        & SECRETARIA DE ESTADO DE FAZENDA                                                            & 16                                                                                         & 04.960.002/0001-83                                                                         & DIBOA COMERCIAL LTDA                                                                       & Jurídica                                                                                   &  76.50                                                                                     & S                                                                                          & N                                                                                         \\\\\n",
       "\t 4594                                                                                       & PE-009/12                                                                                  & Registro de Preço para mat. elétrico                                                       & Pregão Eletrônico                                                                          & Homologado Total                                                                           & 26/04/2012 14:23:09                                                                        & SECRETARIA DE ESTADO DE FAZENDA                                                            & 16                                                                                         & 07.946.118/0001-56                                                                         & MACHFUSO COMERCIAL E SERVIÇOS LTDA                                                         & Jurídica                                                                                   &  60.00                                                                                     & N                                                                                          & S                                                                                         \\\\\n",
       "\t 4594                                                                                       & PE-009/12                                                                                  & Registro de Preço para mat. elétrico                                                       & Pregão Eletrônico                                                                          & Homologado Total                                                                           & 26/04/2012 14:23:09                                                                        & SECRETARIA DE ESTADO DE FAZENDA                                                            & 16                                                                                         & 07.324.021/0001-01                                                                         & ROS RIO MATERIAIS E COMÉRCIO LTDA-EPP (ANTIGA ROS RIO MATERIAIS E REPRESENTAÇÕES LTDA EPP) & Jurídica                                                                                   & 214.65                                                                                     & N                                                                                          & S                                                                                         \\\\\n",
       "\\end{tabular}\n"
      ],
      "text/markdown": [
       "\n",
       "COD_LICITACAO | LICITACAO | RESUMO_OBJETO | DESC_MODALIDADE | STATUS_LICITACAO | DATA_ABERTURA_SESSAO | DESCR_UGR | ID_ITEM | CNPJ.CPF_FORNECEDORES | NOME_FORNECEDORES | TIPO_PESSOA | VALOR_FINAL | VENCEDOR | MICRO_PEQUENA_EMPRESA | \n",
       "|---|---|---|\n",
       "| 4594                                                                                       | PE-009/12                                                                                  | Registro de Preço para mat. elétrico                                                       | Pregão Eletrônico                                                                          | Homologado Total                                                                           | 26/04/2012 14:23:09                                                                        | SECRETARIA DE ESTADO DE FAZENDA                                                            | 16                                                                                         | 04.960.002/0001-83                                                                         | DIBOA COMERCIAL LTDA                                                                       | Jurídica                                                                                   |  76.50                                                                                     | S                                                                                          | N                                                                                          | \n",
       "| 4594                                                                                       | PE-009/12                                                                                  | Registro de Preço para mat. elétrico                                                       | Pregão Eletrônico                                                                          | Homologado Total                                                                           | 26/04/2012 14:23:09                                                                        | SECRETARIA DE ESTADO DE FAZENDA                                                            | 16                                                                                         | 07.946.118/0001-56                                                                         | MACHFUSO COMERCIAL E SERVIÇOS LTDA                                                         | Jurídica                                                                                   |  60.00                                                                                     | N                                                                                          | S                                                                                          | \n",
       "| 4594                                                                                       | PE-009/12                                                                                  | Registro de Preço para mat. elétrico                                                       | Pregão Eletrônico                                                                          | Homologado Total                                                                           | 26/04/2012 14:23:09                                                                        | SECRETARIA DE ESTADO DE FAZENDA                                                            | 16                                                                                         | 07.324.021/0001-01                                                                         | ROS RIO MATERIAIS E COMÉRCIO LTDA-EPP (ANTIGA ROS RIO MATERIAIS E REPRESENTAÇÕES LTDA EPP) | Jurídica                                                                                   | 214.65                                                                                     | N                                                                                          | S                                                                                          | \n",
       "\n",
       "\n"
      ],
      "text/plain": [
       "  COD_LICITACAO LICITACAO RESUMO_OBJETO                       \n",
       "1 4594          PE-009/12 Registro de Preço para mat. elétrico\n",
       "2 4594          PE-009/12 Registro de Preço para mat. elétrico\n",
       "3 4594          PE-009/12 Registro de Preço para mat. elétrico\n",
       "  DESC_MODALIDADE   STATUS_LICITACAO DATA_ABERTURA_SESSAO\n",
       "1 Pregão Eletrônico Homologado Total 26/04/2012 14:23:09 \n",
       "2 Pregão Eletrônico Homologado Total 26/04/2012 14:23:09 \n",
       "3 Pregão Eletrônico Homologado Total 26/04/2012 14:23:09 \n",
       "  DESCR_UGR                       ID_ITEM CNPJ.CPF_FORNECEDORES\n",
       "1 SECRETARIA DE ESTADO DE FAZENDA 16      04.960.002/0001-83   \n",
       "2 SECRETARIA DE ESTADO DE FAZENDA 16      07.946.118/0001-56   \n",
       "3 SECRETARIA DE ESTADO DE FAZENDA 16      07.324.021/0001-01   \n",
       "  NOME_FORNECEDORES                                                                         \n",
       "1 DIBOA COMERCIAL LTDA                                                                      \n",
       "2 MACHFUSO COMERCIAL E SERVIÇOS LTDA                                                        \n",
       "3 ROS RIO MATERIAIS E COMÉRCIO LTDA-EPP (ANTIGA ROS RIO MATERIAIS E REPRESENTAÇÕES LTDA EPP)\n",
       "  TIPO_PESSOA VALOR_FINAL VENCEDOR MICRO_PEQUENA_EMPRESA\n",
       "1 Jurídica     76.50      S        N                    \n",
       "2 Jurídica     60.00      N        S                    \n",
       "3 Jurídica    214.65      N        S                    "
      ]
     },
     "metadata": {},
     "output_type": "display_data"
    }
   ],
   "source": [
    "setwd('C:\\\\Users\\\\Marcos\\\\Documents\\\\GitHub\\\\Usando-R-em-Auditoria\\\\dados\\\\regras-associacao\\\\Ex_1')\n",
    "load(\"licit_base_completa.RData\")\n",
    "head(licit, 3)"
   ]
  },
  {
   "cell_type": "markdown",
   "metadata": {},
   "source": [
    "Como pode ser visto acima, cada licitação pode ser identificada por um código, a variável `COD_LICITACAO`, a modalidade da licitação, o status da licitação, o item da licitação, o valor final ofertado por cada licitatne para o item, etc.\n",
    "\n",
    "Embora o connjuto de dados possua vairáveis bem interessantes para análise, para o uso de regras de associação somente os licitantes que participaram de cada licitação é o que interessa.\n",
    "\n",
    "Vamos olhar para algumas estatísticas associadas a este conjunto de dados:"
   ]
  },
  {
   "cell_type": "code",
   "execution_count": 4,
   "metadata": {
    "collapsed": false
   },
   "outputs": [
    {
     "data": {
      "text/html": [
       "88304"
      ],
      "text/latex": [
       "88304"
      ],
      "text/markdown": [
       "88304"
      ],
      "text/plain": [
       "[1] 88304"
      ]
     },
     "metadata": {},
     "output_type": "display_data"
    },
    {
     "data": {
      "text/html": [
       "2599"
      ],
      "text/latex": [
       "2599"
      ],
      "text/markdown": [
       "2599"
      ],
      "text/plain": [
       "[1] 2599"
      ]
     },
     "metadata": {},
     "output_type": "display_data"
    },
    {
     "data": {
      "text/html": [
       "3188"
      ],
      "text/latex": [
       "3188"
      ],
      "text/markdown": [
       "3188"
      ],
      "text/plain": [
       "[1] 3188"
      ]
     },
     "metadata": {},
     "output_type": "display_data"
    }
   ],
   "source": [
    "nrow(licit)                                 # Quantidade de registros na base de dados\n",
    "length(unique(licit$COD_LICITACAO))         # Quantidade de licitações na base de dados\n",
    "length(unique(licit$CNPJ.CPF_FORNECEDORES)) # Quantidade de licitantes na base de dados"
   ]
  },
  {
   "cell_type": "markdown",
   "metadata": {},
   "source": [
    "Para a realização da regra de associção é necessário que se disponha, para cada licitação, apenas de quais fornecedores participaram da mesma. O código a seguir irá fazer este filtro. O primeiro comando irá dividir os registros da base de dados de acordo com a licitação a que se referem, e o segundo comando ira remover os licitantes que apareçam em duplicidade em cada licitação. Isso pode ocorrer porque, como visto acima, mais de um item pode ser licitação em cada licitação e um mesmo fornecedor pode apresentar propostas para mais de um item na licitação."
   ]
  },
  {
   "cell_type": "code",
   "execution_count": 5,
   "metadata": {
    "collapsed": true
   },
   "outputs": [],
   "source": [
    "licit_lista <- split(licit[, 'CNPJ.CPF_FORNECEDORES'], f=factor(licit$COD_LICITACAO))\n",
    "licit_lista <- lapply(licit_lista, unique)"
   ]
  },
  {
   "cell_type": "code",
   "execution_count": 6,
   "metadata": {
    "collapsed": false
   },
   "outputs": [
    {
     "data": {
      "text/html": [
       "<dl>\n",
       "\t<dt>$`218`</dt>\n",
       "\t\t<dd>05.111.550/0001-00</dd>\n",
       "\t<dt>$`375`</dt>\n",
       "\t\t<dd><ol class=list-inline>\n",
       "\t<li>11.738.006/0001-87</li>\n",
       "\t<li>09.439.345/0001-10</li>\n",
       "</ol>\n",
       "</dd>\n",
       "\t<dt>$`381`</dt>\n",
       "\t\t<dd><ol class=list-inline>\n",
       "\t<li>02.768.278/0001-39</li>\n",
       "\t<li>09.102.265/0001-75</li>\n",
       "\t<li>07.214.916/0001-93</li>\n",
       "</ol>\n",
       "</dd>\n",
       "\t<dt>$`929`</dt>\n",
       "\t\t<dd><ol class=list-inline>\n",
       "\t<li>39.537.063/0001-17</li>\n",
       "\t<li>06.141.118/0001-16</li>\n",
       "\t<li>01.301.890/0001-34</li>\n",
       "\t<li>02.606.943/0001-98</li>\n",
       "\t<li>02.841.990/0001-16</li>\n",
       "</ol>\n",
       "</dd>\n",
       "\t<dt>$`1132`</dt>\n",
       "\t\t<dd><ol class=list-inline>\n",
       "\t<li>05.831.350/0001-13</li>\n",
       "\t<li>00.277.106/0001-37</li>\n",
       "\t<li>03.545.815/0001-44</li>\n",
       "\t<li>29.212.545/0001-43</li>\n",
       "\t<li>10.346.870/0001-70</li>\n",
       "\t<li>01.047.682/0001-50</li>\n",
       "</ol>\n",
       "</dd>\n",
       "\t<dt>$`1169`</dt>\n",
       "\t\t<dd><ol class=list-inline>\n",
       "\t<li>93.969.707/0001-91</li>\n",
       "\t<li>09.632.388/0001-18</li>\n",
       "\t<li>11.836.399/0001-61</li>\n",
       "\t<li>08.311.662/0001-94</li>\n",
       "</ol>\n",
       "</dd>\n",
       "</dl>\n"
      ],
      "text/latex": [
       "\\begin{description}\n",
       "\\item[\\$`218`] 05.111.550/0001-00\n",
       "\\item[\\$`375`] \\begin{enumerate*}\n",
       "\\item 11.738.006/0001-87\n",
       "\\item 09.439.345/0001-10\n",
       "\\end{enumerate*}\n",
       "\n",
       "\\item[\\$`381`] \\begin{enumerate*}\n",
       "\\item 02.768.278/0001-39\n",
       "\\item 09.102.265/0001-75\n",
       "\\item 07.214.916/0001-93\n",
       "\\end{enumerate*}\n",
       "\n",
       "\\item[\\$`929`] \\begin{enumerate*}\n",
       "\\item 39.537.063/0001-17\n",
       "\\item 06.141.118/0001-16\n",
       "\\item 01.301.890/0001-34\n",
       "\\item 02.606.943/0001-98\n",
       "\\item 02.841.990/0001-16\n",
       "\\end{enumerate*}\n",
       "\n",
       "\\item[\\$`1132`] \\begin{enumerate*}\n",
       "\\item 05.831.350/0001-13\n",
       "\\item 00.277.106/0001-37\n",
       "\\item 03.545.815/0001-44\n",
       "\\item 29.212.545/0001-43\n",
       "\\item 10.346.870/0001-70\n",
       "\\item 01.047.682/0001-50\n",
       "\\end{enumerate*}\n",
       "\n",
       "\\item[\\$`1169`] \\begin{enumerate*}\n",
       "\\item 93.969.707/0001-91\n",
       "\\item 09.632.388/0001-18\n",
       "\\item 11.836.399/0001-61\n",
       "\\item 08.311.662/0001-94\n",
       "\\end{enumerate*}\n",
       "\n",
       "\\end{description}\n"
      ],
      "text/markdown": [
       "$`218`\n",
       ":   05.111.550/0001-00\n",
       "$`375`\n",
       ":   1. 11.738.006/0001-87\n",
       "2. 09.439.345/0001-10\n",
       "\n",
       "\n",
       "\n",
       "$`381`\n",
       ":   1. 02.768.278/0001-39\n",
       "2. 09.102.265/0001-75\n",
       "3. 07.214.916/0001-93\n",
       "\n",
       "\n",
       "\n",
       "$`929`\n",
       ":   1. 39.537.063/0001-17\n",
       "2. 06.141.118/0001-16\n",
       "3. 01.301.890/0001-34\n",
       "4. 02.606.943/0001-98\n",
       "5. 02.841.990/0001-16\n",
       "\n",
       "\n",
       "\n",
       "$`1132`\n",
       ":   1. 05.831.350/0001-13\n",
       "2. 00.277.106/0001-37\n",
       "3. 03.545.815/0001-44\n",
       "4. 29.212.545/0001-43\n",
       "5. 10.346.870/0001-70\n",
       "6. 01.047.682/0001-50\n",
       "\n",
       "\n",
       "\n",
       "$`1169`\n",
       ":   1. 93.969.707/0001-91\n",
       "2. 09.632.388/0001-18\n",
       "3. 11.836.399/0001-61\n",
       "4. 08.311.662/0001-94\n",
       "\n",
       "\n",
       "\n",
       "\n",
       "\n"
      ],
      "text/plain": [
       "$`218`\n",
       "[1] 05.111.550/0001-00\n",
       "5795 Levels: 00.000.000/0000-00 00.008.354/0001-82 ... 97.552.129/0001-44\n",
       "\n",
       "$`375`\n",
       "[1] 11.738.006/0001-87 09.439.345/0001-10\n",
       "5795 Levels: 00.000.000/0000-00 00.008.354/0001-82 ... 97.552.129/0001-44\n",
       "\n",
       "$`381`\n",
       "[1] 02.768.278/0001-39 09.102.265/0001-75 07.214.916/0001-93\n",
       "5795 Levels: 00.000.000/0000-00 00.008.354/0001-82 ... 97.552.129/0001-44\n",
       "\n",
       "$`929`\n",
       "[1] 39.537.063/0001-17 06.141.118/0001-16 01.301.890/0001-34 02.606.943/0001-98\n",
       "[5] 02.841.990/0001-16\n",
       "5795 Levels: 00.000.000/0000-00 00.008.354/0001-82 ... 97.552.129/0001-44\n",
       "\n",
       "$`1132`\n",
       "[1] 05.831.350/0001-13 00.277.106/0001-37 03.545.815/0001-44 29.212.545/0001-43\n",
       "[5] 10.346.870/0001-70 01.047.682/0001-50\n",
       "5795 Levels: 00.000.000/0000-00 00.008.354/0001-82 ... 97.552.129/0001-44\n",
       "\n",
       "$`1169`\n",
       "[1] 93.969.707/0001-91 09.632.388/0001-18 11.836.399/0001-61 08.311.662/0001-94\n",
       "5795 Levels: 00.000.000/0000-00 00.008.354/0001-82 ... 97.552.129/0001-44\n"
      ]
     },
     "metadata": {},
     "output_type": "display_data"
    }
   ],
   "source": [
    "head(licit_lista)"
   ]
  },
  {
   "cell_type": "markdown",
   "metadata": {},
   "source": [
    "A partir da base de dados criou-se uma lista na qual cada componente (que representa uma licitação) é composta por um vetor contendo os CNPJ das empresas que participaram da licitação cujo código de identificação dá nome aos componentes da lista.\n",
    "\n",
    "Agora é possível converter os dados para uma estrutura com a qual o pacote `arules` possa trabalhar. A conversão da lista `licit_lista` para um objeto da classe `transactions` e, depois, o uso da função `apriori()` neste conjunto de dados é mostrado a seguir:"
   ]
  },
  {
   "cell_type": "code",
   "execution_count": 7,
   "metadata": {
    "collapsed": false
   },
   "outputs": [
    {
     "name": "stdout",
     "output_type": "stream",
     "text": [
      "Apriori\n",
      "\n",
      "Parameter specification:\n",
      " confidence minval smax arem  aval originalSupport maxtime support minlen\n",
      "        0.7    0.1    1 none FALSE            TRUE       5    0.01      1\n",
      " maxlen target   ext\n",
      "     10  rules FALSE\n",
      "\n",
      "Algorithmic control:\n",
      " filter tree heap memopt load sort verbose\n",
      "    0.1 TRUE TRUE  FALSE TRUE    2    TRUE\n",
      "\n",
      "Absolute minimum support count: 25 \n",
      "\n",
      "set item appearances ...[0 item(s)] done [0.00s].\n",
      "set transactions ...[3188 item(s), 2599 transaction(s)] done [0.00s].\n",
      "sorting and recoding items ... [110 item(s)] done [0.00s].\n",
      "creating transaction tree ... done [0.00s].\n",
      "checking subsets of size 1 2 3 done [0.00s].\n",
      "writing ... [21 rule(s)] done [0.00s].\n",
      "creating S4 object  ... done [0.01s].\n"
     ]
    }
   ],
   "source": [
    "transacoes_cnpj <- as(licit_lista, \"transactions\")\n",
    "regras <- apriori(transacoes_cnpj, parameter=list(support=0.01, confidence=0.7))"
   ]
  },
  {
   "cell_type": "markdown",
   "metadata": {},
   "source": [
    "Como pode ser visto, os valores do suporte e confiança desejados são passados à função pelo argumento `parameter=` que recebe uma lista com os valores desejados desses parâmetros.\n",
    "\n",
    "No caso acima a escolha dos parâmetros foi feita de forma empírica, via tentativa e erro, até se chegar a um conjunto de valores que retornasse uma quantidade razoável de regras.\n",
    "\n",
    "Um resumo das regras criadas e de seus atributos, pode ser obtido com a função `summary()`"
   ]
  },
  {
   "cell_type": "code",
   "execution_count": 8,
   "metadata": {
    "collapsed": false
   },
   "outputs": [
    {
     "data": {
      "text/plain": [
       "set of 21 rules\n",
       "\n",
       "rule length distribution (lhs + rhs):sizes\n",
       " 2  3 \n",
       "11 10 \n",
       "\n",
       "   Min. 1st Qu.  Median    Mean 3rd Qu.    Max. \n",
       "  2.000   2.000   2.000   2.476   3.000   3.000 \n",
       "\n",
       "summary of quality measures:\n",
       "    support          confidence          lift            count       \n",
       " Min.   :0.01000   Min.   :0.7027   Min.   : 5.534   Min.   : 26.00  \n",
       " 1st Qu.:0.01077   1st Qu.:0.7200   1st Qu.: 6.304   1st Qu.: 28.00  \n",
       " Median :0.01270   Median :0.7333   Median : 7.737   Median : 33.00  \n",
       " Mean   :0.01502   Mean   :0.7533   Mean   :10.329   Mean   : 39.05  \n",
       " 3rd Qu.:0.01385   3rd Qu.:0.7778   3rd Qu.: 8.556   3rd Qu.: 36.00  \n",
       " Max.   :0.05079   Max.   :0.8750   Max.   :28.292   Max.   :132.00  \n",
       "\n",
       "mining info:\n",
       "            data ntransactions support confidence\n",
       " transacoes_cnpj          2599    0.01        0.7"
      ]
     },
     "metadata": {},
     "output_type": "display_data"
    }
   ],
   "source": [
    "summary(regras)"
   ]
  },
  {
   "cell_type": "markdown",
   "metadata": {},
   "source": [
    "O resumo nos fornece a quantidade de regras criadas (21), nos informa também que dessas 21 regras, 11 possuem tamanho 2 e 10 possuem tamanho 3. O tamanho de uma regra é dado pela quantidade de itens na regra. Também é fornecido um sumário estatístico dos tamanhos das regras (valor mínimo, 1^o^ quartil, mediana, média, 3^o^ quartil,  e valor máximo).\n",
    "\n",
    "Um sumário das medidas de qualidade das regras (suporte, confiança, lift, contagem) também é apresentado, juntamente com informações sobre o conjunto de dados: nome do conjunto de dados (`transacoes_cnpj`), quantidade de transações (2599), valor do suporte e confiança mínimos para a geração das regras (0.01 e 0.7 respectivamente)."
   ]
  },
  {
   "cell_type": "markdown",
   "metadata": {},
   "source": [
    "As regras criadas pelo algoritmo com os parâmetros forncecidos podem ser consultados com a função `inspect()`:"
   ]
  },
  {
   "cell_type": "code",
   "execution_count": 5,
   "metadata": {
    "collapsed": false
   },
   "outputs": [
    {
     "name": "stdout",
     "output_type": "stream",
     "text": [
      "Apriori\n",
      "\n",
      "Parameter specification:\n",
      " confidence minval smax arem  aval originalSupport maxtime support minlen\n",
      "        0.7    0.1    1 none FALSE            TRUE       5    0.01      1\n",
      " maxlen target   ext\n",
      "     10  rules FALSE\n",
      "\n",
      "Algorithmic control:\n",
      " filter tree heap memopt load sort verbose\n",
      "    0.1 TRUE TRUE  FALSE TRUE    2    TRUE\n",
      "\n",
      "Absolute minimum support count: 25 \n",
      "\n",
      "set item appearances ...[0 item(s)] done [0.00s].\n",
      "set transactions ...[3188 item(s), 2599 transaction(s)] done [0.01s].\n",
      "sorting and recoding items ... [110 item(s)] done [0.00s].\n",
      "creating transaction tree ... done [0.00s].\n",
      "checking subsets of size 1 2 3 done [0.00s].\n",
      "writing ... [21 rule(s)] done [0.00s].\n",
      "creating S4 object  ... done [0.00s].\n",
      "     lhs                     rhs                     support confidence      lift count\n",
      "[1]  {61.418.042/0001-31} => {01.012.073/0001-66} 0.01115814  0.7250000  7.754218    29\n",
      "[2]  {04.521.468/0001-82} => {06.788.843/0001-80} 0.01115814  0.8055556 28.292417    29\n",
      "[3]  {04.521.468/0001-82} => {12.890.886/0001-75} 0.01077337  0.7777778  6.125589    28\n",
      "[4]  {03.951.140/0001-33} => {01.012.073/0001-66} 0.01308195  0.7234043  7.737151    34\n",
      "[5]  {04.344.630/0001-34} => {01.012.073/0001-66} 0.01269719  0.7333333  7.843347    33\n",
      "[6]  {32.573.503/0001-42} => {01.012.073/0001-66} 0.01385148  0.7200000  7.700741    36\n",
      "[7]  {07.848.715/0001-48} => {12.032.238/0001-88} 0.01385148  0.7058824  6.304427    36\n",
      "[8]  {05.396.069/0001-08} => {12.890.886/0001-75} 0.01539053  0.8163265  6.429190    40\n",
      "[9]  {48.791.685/0001-68} => {01.012.073/0001-66} 0.01923817  0.7575758  8.102631    50\n",
      "[10] {06.788.843/0001-80} => {12.890.886/0001-75} 0.02000770  0.7027027  5.534316    52\n",
      "[11] {00.710.985/0001-49} => {12.890.886/0001-75} 0.05078876  0.7374302  5.807821   132\n",
      "[12] {07.070.062/0001-19,                                                              \n",
      "      26.921.908/0001-21} => {09.660.958/0001-83} 0.01000385  0.7647059 22.584893    26\n",
      "[13] {07.070.062/0001-19,                                                              \n",
      "      09.660.958/0001-83} => {26.921.908/0001-21} 0.01000385  0.7027027 23.414414    26\n",
      "[14] {00.304.559/0001-05,                                                              \n",
      "      48.791.685/0001-68} => {01.012.073/0001-66} 0.01154290  0.7317073  7.825956    30\n",
      "[15] {00.085.822/0001-12,                                                              \n",
      "      26.921.908/0001-21} => {09.660.958/0001-83} 0.01038861  0.7105263 20.984749    27\n",
      "[16] {00.710.985/0001-49,                                                              \n",
      "      06.210.076/0001-28} => {12.890.886/0001-75} 0.01077337  0.8235294  6.485918    28\n",
      "[17] {06.788.843/0001-80,                                                              \n",
      "      12.488.669/0001-53} => {12.890.886/0001-75} 0.01000385  0.7222222  5.688047    26\n",
      "[18] {00.710.985/0001-49,                                                              \n",
      "      15.064.340/0001-53} => {12.890.886/0001-75} 0.01346672  0.8750000  6.891288    35\n",
      "[19] {12.890.886/0001-75,                                                              \n",
      "      15.064.340/0001-53} => {00.710.985/0001-49} 0.01346672  0.7777778 11.292986    35\n",
      "[20] {00.085.822/0001-12,                                                              \n",
      "      00.304.559/0001-05} => {01.012.073/0001-66} 0.01077337  0.8000000  8.556379    28\n",
      "[21] {00.710.985/0001-49,                                                              \n",
      "      12.032.238/0001-88} => {12.890.886/0001-75} 0.02308580  0.7058824  5.559358    60\n"
     ]
    }
   ],
   "source": [
    "inspect(regras) "
   ]
  },
  {
   "cell_type": "markdown",
   "metadata": {},
   "source": [
    "O resultado elenca todas as regras identificadas a partir dos dados e parâmetros utilizados.\n",
    "\n",
    "As regras são apresentadas no formato `{lhs}` $\\Rightarrow$ `{rhs}` seguidas do suporte, confiança e lift associado à cada regra. O resultado também informa a quantidade de transações em que a regra foi observada. \n",
    "\n",
    "As siglas `lhs` e `rhs` significam, respectivamente, `right hand side` e `left hand side` e indicam os lados em que os itens da regra estão.  \n",
    "\n",
    "Da forma como estão apresentadas acima as regras obtidas são difíceis de serem interpretadas. Para facilitar a análise e interpretação dos resultados obtidos o pacote `arulesViz` oferece um conjunto de funções que possibilitam visualizações das regras obtidas com o pacote `arules`. Vamos olhar alguns dos recursos disponíveis neste pacote.  "
   ]
  },
  {
   "cell_type": "code",
   "execution_count": 12,
   "metadata": {
    "collapsed": false
   },
   "outputs": [
    {
     "data": {
      "image/png": "[encoded data removed]",
      "text/plain": [
       "plot without title"
      ]
     },
     "metadata": {},
     "output_type": "display_data"
    }
   ],
   "source": [
    "options(repr.plot.width = 6, repr.plot.height = 5.5) \n",
    "plot(regras, control=list(cex=1.2))"
   ]
  },
  {
   "cell_type": "code",
   "execution_count": 7,
   "metadata": {
    "collapsed": false
   },
   "outputs": [
    {
     "data": {
      "image/png": "[encoded data removed]",
      "text/plain": [
       "Plot with title \"Graph for 21 rules\""
      ]
     },
     "metadata": {},
     "output_type": "display_data"
    }
   ],
   "source": [
    "plot(regras, 'graph', control=list(cex = 0.6))"
   ]
  },
  {
   "cell_type": "code",
   "execution_count": 12,
   "metadata": {
    "collapsed": false,
    "scrolled": true
   },
   "outputs": [
    {
     "data": {
      "image/png": "[encoded data removed]",
      "text/plain": [
       "plot without title"
      ]
     },
     "metadata": {},
     "output_type": "display_data"
    }
   ],
   "source": [
    "plot(regras, 'grouped')"
   ]
  },
  {
   "cell_type": "code",
   "execution_count": 13,
   "metadata": {
    "collapsed": false
   },
   "outputs": [
    {
     "data": {
      "image/png": "[encoded data removed]",
      "text/plain": [
       "plot without title"
      ]
     },
     "metadata": {},
     "output_type": "display_data"
    }
   ],
   "source": [
    "suppressMessages(plot(regras, 'paracoord'))"
   ]
  },
  {
   "cell_type": "markdown",
   "metadata": {},
   "source": [
    "## 3. Referências bibliográficas\n",
    "\n",
    "* **_Introduction to Data Mining_**. Pang-Ning Tan, Michael Steinbach, Vipin Kumar   \n",
    "* **_Introdução à Mineração de Dados com Aplicações em R_**. Leandro Augusto da Silva, Sarajane Marques Peres e Clodis Boscarioli   \n",
    "* **_R and Data Mining: Examples and Case Studies_**. Yanchang Zhao  \n",
    "\n"
   ]
  }
 ],
 "metadata": {
  "kernelspec": {
   "display_name": "R",
   "language": "R",
   "name": "ir"
  },
  "language_info": {
   "codemirror_mode": "r",
   "file_extension": ".r",
   "mimetype": "text/x-r-source",
   "name": "R",
   "pygments_lexer": "r",
   "version": "3.4.1"
  }
 },
 "nbformat": 4,
 "nbformat_minor": 2
}
