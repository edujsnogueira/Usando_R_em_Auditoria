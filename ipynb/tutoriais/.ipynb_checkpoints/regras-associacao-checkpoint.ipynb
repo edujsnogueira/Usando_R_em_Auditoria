{
 "cells": [
  {
   "cell_type": "markdown",
   "metadata": {
    "collapsed": true
   },
   "source": [
    "![](http://infocontas.atricon.org.br/wp-content/uploads/2015/04/logosmall-1.png)\n",
    "\n",
    "# Regras de Associação\n",
    "\n",
    "### *Marcos F Silva*   \n",
    "Novembro de 2017 - v0.1"
   ]
  },
  {
   "cell_type": "markdown",
   "metadata": {},
   "source": [
    "## 1. O que são regras de associação?\n",
    "\n",
    "Algoritmos de regras de associação buscam identificar dentro de um conjunto de itens, aqueles que frequentemente ocorrem juntos  em transações.\n",
    "\n",
    "Para tornar as coisas um pouco mais claras, vamos a um exemplo prático. Vamos pensar no clássico exemplo dos carrinhos de compra. Podemos imaginar que cada conjunto de produtos que passe pela caixa registradora constitui uma transação (compra de um cliente) e que as mercadorias disponíveis no mercado constitui nosso conjunto de itens. Os itens que compõem a transação constituem um pequeno subconjunto do conjunto total de itens. \n",
    "\n",
    "O objetivo da regra de associação é identificar quais produtos do mercado são comprados juntos com frequência pelos clientes do supermercado. \n",
    "\n",
    "Uma maneira mais formal de expressar esse conceito é da seguinte forma: uma regra de associação é uma implicação da forma $X \\to Y$ onde $X$ e $Y$ são conjuntos disjuntos, isto é $X \\bigcap Y = \\emptyset$. (TAN at all, 2006)\n",
    "\n",
    "A força de uma regra de associação pode ser medida em termos de seu **suporte** e **confiança**. O suporte de uma regra determina o quão frequentemente uma regra é encontrada em um determinado conjunto de dados enquanto a confiança determina o quão frequentemente os itens em $Y$ ocorrem em transações que contenham $X$. Estas quantidades são definidas da seguinte forma:\n",
    "\n",
    "$$Suporte: s(X \\to Y) = \\frac{\\sigma(X \\bigcup Y)}{N}$$ \n",
    "\n",
    "$$Confiança: c(X \\to Y) = \\frac{\\sigma(X \\bigcup Y)}{\\sigma(X)}$$\n",
    "\n",
    "</br>\n",
    "\n",
    "## 2. Uma aplicação prática\n",
    "\n",
    "</br>\n",
    "\n",
    "## 3. Referências bibliográficas\n",
    "\n",
    "* **_Introduction to Data Mining_**. Pang-Ning Tan, Michael Steinbach, Vipin Kumar   \n",
    "* **_Introdução à Mineração de Dados com Aplicações em R_**. Leandro Augusto da Silva, Sarajane Marques Peres e Clodis Boscarioli   \n",
    "* **_R and Data Mining: Examples and Case Studies_**. Yanchang Zhao  \n",
    "\n"
   ]
  }
 ],
 "metadata": {
  "kernelspec": {
   "display_name": "R 3.3.1-alfa",
   "language": "R",
   "name": "ir33"
  },
  "language_info": {
   "codemirror_mode": "r",
   "file_extension": ".r",
   "mimetype": "text/x-r-source",
   "name": "R",
   "pygments_lexer": "r",
   "version": "3.3.1"
  }
 },
 "nbformat": 4,
 "nbformat_minor": 2
}
