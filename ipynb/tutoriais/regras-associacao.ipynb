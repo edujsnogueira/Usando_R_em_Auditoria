{
 "cells": [
  {
   "cell_type": "markdown",
   "metadata": {
    "collapsed": true
   },
   "source": [
    "![](http://infocontas.atricon.org.br/wp-content/uploads/2015/04/logosmall-1.png)\n",
    "\n",
    "# Regras de Associação\n",
    "\n",
    "### *Marcos F Silva*   \n",
    "Novembro de 2017 - v0.1"
   ]
  },
  {
   "cell_type": "markdown",
   "metadata": {},
   "source": [
    "## 1. O que são regras de associação?\n",
    "\n",
    "Algoritmos de regras de associação buscam identificar dentro de um conjunto de itens, aqueles que frequentemente ocorrem juntos  em transações.\n",
    "\n",
    "Para tornar as coisas um pouco mais claras, vamos a um exemplo prático. Vamos pensar no clássico exemplo dos carrinhos de compra. Podemos imaginar que cada conjunto de produtos que passe pela caixa registradora constitui uma transação (compra de um cliente) e que as mercadorias disponíveis no mercado constitui nosso conjunto de itens. Os itens que compõem a transação constituem um pequeno subconjunto do conjunto total de itens. \n",
    "\n",
    "O objetivo da regra de associação é identificar quais produtos do mercado são comprados juntos com frequência pelos clientes do supermercado. \n",
    "\n",
    "Uma maneira mais formal de expressar esse conceito é da seguinte forma: uma regra de associação é uma implicação da forma $X \\to Y$ onde $X$ e $Y$ são conjuntos disjuntos, isto é $X \\bigcap Y = \\emptyset$. (TAN at all, 2006)\n",
    "\n",
    "A força de uma regra de associação pode ser medida em termos de seu **suporte** e **confiança**. O suporte de uma regra determina o quão frequentemente uma regra é encontrada em um determinado conjunto de dados enquanto a confiança determina o quão frequentemente os itens em $Y$ ocorrem em transações que contenham $X$. Estas quantidades são definidas da seguinte forma:\n",
    "\n",
    "$$Suporte: s(X \\to Y) = \\frac{\\sigma(X \\bigcup Y)}{N}$$ \n",
    "\n",
    "$$Confiança: c(X \\to Y) = \\frac{\\sigma(X \\bigcup Y)}{\\sigma(X)}$$\n",
    "\n",
    "</br>\n",
    "\n"
   ]
  },
  {
   "cell_type": "markdown",
   "metadata": {},
   "source": [
    "## 2. Uma aplicação prática\n",
    "\n",
    "Para ilustrar o uso prático das regras de associação vamos realizar uma aplicação na área de licitações públicas. Utilizaremos uma base de dados denominada `licit` que contém informações sobre as licitações realizadas.\n",
    "\n",
    "Os pacotes necessários são os seguintes:"
   ]
  },
  {
   "cell_type": "code",
   "execution_count": null,
   "metadata": {
    "collapsed": true
   },
   "outputs": [],
   "source": [
    "#options(warn = -1) \n",
    "suppressMessages(library(dplyr))\n",
    "suppressMessages(library(arules))\n",
    "suppressMessages(library(arulesViz))\n",
    "suppressMessages(library(readxl))"
   ]
  },
  {
   "cell_type": "code",
   "execution_count": 10,
   "metadata": {
    "collapsed": false
   },
   "outputs": [
    {
     "data": {
      "text/html": [
       "<table>\n",
       "<thead><tr><th scope=col>COD_LICITACAO</th><th scope=col>LICITACAO</th><th scope=col>RESUMO_OBJETO</th><th scope=col>DESC_MODALIDADE</th><th scope=col>STATUS_LICITACAO</th><th scope=col>DATA_ABERTURA_SESSAO</th><th scope=col>DESCR_UGR</th><th scope=col>ID_ITEM</th><th scope=col>CNPJ.CPF_FORNECEDORES</th><th scope=col>NOME_FORNECEDORES</th><th scope=col>TIPO_PESSOA</th><th scope=col>VALOR_FINAL</th><th scope=col>VENCEDOR</th><th scope=col>MICRO_PEQUENA_EMPRESA</th></tr></thead>\n",
       "<tbody>\n",
       "\t<tr><td>4594                                                                                      </td><td>PE-009/12                                                                                 </td><td>Registro de Preço para mat. elétrico                                                      </td><td>Pregão Eletrônico                                                                         </td><td>Homologado Total                                                                          </td><td>26/04/2012 14:23:09                                                                       </td><td>SECRETARIA DE ESTADO DE FAZENDA                                                           </td><td>16                                                                                        </td><td>04.960.002/0001-83                                                                        </td><td>DIBOA COMERCIAL LTDA                                                                      </td><td>Jurídica                                                                                  </td><td> 76.50                                                                                    </td><td>S                                                                                         </td><td>N                                                                                         </td></tr>\n",
       "\t<tr><td>4594                                                                                      </td><td>PE-009/12                                                                                 </td><td>Registro de Preço para mat. elétrico                                                      </td><td>Pregão Eletrônico                                                                         </td><td>Homologado Total                                                                          </td><td>26/04/2012 14:23:09                                                                       </td><td>SECRETARIA DE ESTADO DE FAZENDA                                                           </td><td>16                                                                                        </td><td>07.946.118/0001-56                                                                        </td><td>MACHFUSO COMERCIAL E SERVIÇOS LTDA                                                        </td><td>Jurídica                                                                                  </td><td> 60.00                                                                                    </td><td>N                                                                                         </td><td>S                                                                                         </td></tr>\n",
       "\t<tr><td>4594                                                                                      </td><td>PE-009/12                                                                                 </td><td>Registro de Preço para mat. elétrico                                                      </td><td>Pregão Eletrônico                                                                         </td><td>Homologado Total                                                                          </td><td>26/04/2012 14:23:09                                                                       </td><td>SECRETARIA DE ESTADO DE FAZENDA                                                           </td><td>16                                                                                        </td><td>07.324.021/0001-01                                                                        </td><td>ROS RIO MATERIAIS E COMÉRCIO LTDA-EPP (ANTIGA ROS RIO MATERIAIS E REPRESENTAÇÕES LTDA EPP)</td><td>Jurídica                                                                                  </td><td>214.65                                                                                    </td><td>N                                                                                         </td><td>S                                                                                         </td></tr>\n",
       "</tbody>\n",
       "</table>\n"
      ],
      "text/latex": [
       "\\begin{tabular}{r|llllllllllllll}\n",
       " COD\\_LICITACAO & LICITACAO & RESUMO\\_OBJETO & DESC\\_MODALIDADE & STATUS\\_LICITACAO & DATA\\_ABERTURA\\_SESSAO & DESCR\\_UGR & ID\\_ITEM & CNPJ.CPF\\_FORNECEDORES & NOME\\_FORNECEDORES & TIPO\\_PESSOA & VALOR\\_FINAL & VENCEDOR & MICRO\\_PEQUENA\\_EMPRESA\\\\\n",
       "\\hline\n",
       "\t 4594                                                                                       & PE-009/12                                                                                  & Registro de Preço para mat. elétrico                                                       & Pregão Eletrônico                                                                          & Homologado Total                                                                           & 26/04/2012 14:23:09                                                                        & SECRETARIA DE ESTADO DE FAZENDA                                                            & 16                                                                                         & 04.960.002/0001-83                                                                         & DIBOA COMERCIAL LTDA                                                                       & Jurídica                                                                                   &  76.50                                                                                     & S                                                                                          & N                                                                                         \\\\\n",
       "\t 4594                                                                                       & PE-009/12                                                                                  & Registro de Preço para mat. elétrico                                                       & Pregão Eletrônico                                                                          & Homologado Total                                                                           & 26/04/2012 14:23:09                                                                        & SECRETARIA DE ESTADO DE FAZENDA                                                            & 16                                                                                         & 07.946.118/0001-56                                                                         & MACHFUSO COMERCIAL E SERVIÇOS LTDA                                                         & Jurídica                                                                                   &  60.00                                                                                     & N                                                                                          & S                                                                                         \\\\\n",
       "\t 4594                                                                                       & PE-009/12                                                                                  & Registro de Preço para mat. elétrico                                                       & Pregão Eletrônico                                                                          & Homologado Total                                                                           & 26/04/2012 14:23:09                                                                        & SECRETARIA DE ESTADO DE FAZENDA                                                            & 16                                                                                         & 07.324.021/0001-01                                                                         & ROS RIO MATERIAIS E COMÉRCIO LTDA-EPP (ANTIGA ROS RIO MATERIAIS E REPRESENTAÇÕES LTDA EPP) & Jurídica                                                                                   & 214.65                                                                                     & N                                                                                          & S                                                                                         \\\\\n",
       "\\end{tabular}\n"
      ],
      "text/markdown": [
       "\n",
       "COD_LICITACAO | LICITACAO | RESUMO_OBJETO | DESC_MODALIDADE | STATUS_LICITACAO | DATA_ABERTURA_SESSAO | DESCR_UGR | ID_ITEM | CNPJ.CPF_FORNECEDORES | NOME_FORNECEDORES | TIPO_PESSOA | VALOR_FINAL | VENCEDOR | MICRO_PEQUENA_EMPRESA | \n",
       "|---|---|---|\n",
       "| 4594                                                                                       | PE-009/12                                                                                  | Registro de Preço para mat. elétrico                                                       | Pregão Eletrônico                                                                          | Homologado Total                                                                           | 26/04/2012 14:23:09                                                                        | SECRETARIA DE ESTADO DE FAZENDA                                                            | 16                                                                                         | 04.960.002/0001-83                                                                         | DIBOA COMERCIAL LTDA                                                                       | Jurídica                                                                                   |  76.50                                                                                     | S                                                                                          | N                                                                                          | \n",
       "| 4594                                                                                       | PE-009/12                                                                                  | Registro de Preço para mat. elétrico                                                       | Pregão Eletrônico                                                                          | Homologado Total                                                                           | 26/04/2012 14:23:09                                                                        | SECRETARIA DE ESTADO DE FAZENDA                                                            | 16                                                                                         | 07.946.118/0001-56                                                                         | MACHFUSO COMERCIAL E SERVIÇOS LTDA                                                         | Jurídica                                                                                   |  60.00                                                                                     | N                                                                                          | S                                                                                          | \n",
       "| 4594                                                                                       | PE-009/12                                                                                  | Registro de Preço para mat. elétrico                                                       | Pregão Eletrônico                                                                          | Homologado Total                                                                           | 26/04/2012 14:23:09                                                                        | SECRETARIA DE ESTADO DE FAZENDA                                                            | 16                                                                                         | 07.324.021/0001-01                                                                         | ROS RIO MATERIAIS E COMÉRCIO LTDA-EPP (ANTIGA ROS RIO MATERIAIS E REPRESENTAÇÕES LTDA EPP) | Jurídica                                                                                   | 214.65                                                                                     | N                                                                                          | S                                                                                          | \n",
       "\n",
       "\n"
      ],
      "text/plain": [
       "  COD_LICITACAO LICITACAO RESUMO_OBJETO                       \n",
       "1 4594          PE-009/12 Registro de Preço para mat. elétrico\n",
       "2 4594          PE-009/12 Registro de Preço para mat. elétrico\n",
       "3 4594          PE-009/12 Registro de Preço para mat. elétrico\n",
       "  DESC_MODALIDADE   STATUS_LICITACAO DATA_ABERTURA_SESSAO\n",
       "1 Pregão Eletrônico Homologado Total 26/04/2012 14:23:09 \n",
       "2 Pregão Eletrônico Homologado Total 26/04/2012 14:23:09 \n",
       "3 Pregão Eletrônico Homologado Total 26/04/2012 14:23:09 \n",
       "  DESCR_UGR                       ID_ITEM CNPJ.CPF_FORNECEDORES\n",
       "1 SECRETARIA DE ESTADO DE FAZENDA 16      04.960.002/0001-83   \n",
       "2 SECRETARIA DE ESTADO DE FAZENDA 16      07.946.118/0001-56   \n",
       "3 SECRETARIA DE ESTADO DE FAZENDA 16      07.324.021/0001-01   \n",
       "  NOME_FORNECEDORES                                                                         \n",
       "1 DIBOA COMERCIAL LTDA                                                                      \n",
       "2 MACHFUSO COMERCIAL E SERVIÇOS LTDA                                                        \n",
       "3 ROS RIO MATERIAIS E COMÉRCIO LTDA-EPP (ANTIGA ROS RIO MATERIAIS E REPRESENTAÇÕES LTDA EPP)\n",
       "  TIPO_PESSOA VALOR_FINAL VENCEDOR MICRO_PEQUENA_EMPRESA\n",
       "1 Jurídica     76.50      S        N                    \n",
       "2 Jurídica     60.00      N        S                    \n",
       "3 Jurídica    214.65      N        S                    "
      ]
     },
     "metadata": {},
     "output_type": "display_data"
    }
   ],
   "source": [
    "setwd('C:\\\\Users\\\\Marcos\\\\Documents\\\\GitHub\\\\Usando-R-em-Auditoria\\\\dados\\\\regras-associacao')\n",
    "load(\"licit_base_completa.RData\")\n",
    "head(licit, 3)"
   ]
  },
  {
   "cell_type": "code",
   "execution_count": null,
   "metadata": {
    "collapsed": true
   },
   "outputs": [],
   "source": [
    "## REGRAS CONSIDERANDO APENAS OS FORNECEDORES - BASE COMPLETA...\n",
    "licit_lista <- split(licit[, 'CNPJ.CPF_FORNECEDORES'], f=factor(licit$COD_LICITACAO))\n",
    "licit_lista <- lapply(licit_lista, unique) \n",
    "transacoes_cnpj <- as(licit_lista, \"transactions\")\n",
    "regras <- apriori(transacoes_cnpj, parameter=list(support=0.01, confidence=0.7))\n",
    "#inspect(regras) ## ok aperfeiçoar...\n"
   ]
  },
  {
   "cell_type": "code",
   "execution_count": null,
   "metadata": {
    "collapsed": true
   },
   "outputs": [],
   "source": [
    "## Visualização com arules\n",
    "plot(regras, control=list(cex=1.2))\n",
    "plot(regras, 'graph', control=list(cex = 0.6))\n",
    "plot(regras, 'grouped')\n",
    "suppressMessages(plot(regras, 'paracoord'))"
   ]
  },
  {
   "cell_type": "markdown",
   "metadata": {},
   "source": [
    "## 3. Referências bibliográficas\n",
    "\n",
    "* **_Introduction to Data Mining_**. Pang-Ning Tan, Michael Steinbach, Vipin Kumar   \n",
    "* **_Introdução à Mineração de Dados com Aplicações em R_**. Leandro Augusto da Silva, Sarajane Marques Peres e Clodis Boscarioli   \n",
    "* **_R and Data Mining: Examples and Case Studies_**. Yanchang Zhao  \n",
    "\n"
   ]
  }
 ],
 "metadata": {
  "kernelspec": {
   "display_name": "R 3.3.1-alfa",
   "language": "R",
   "name": "ir33"
  },
  "language_info": {
   "codemirror_mode": "r",
   "file_extension": ".r",
   "mimetype": "text/x-r-source",
   "name": "R",
   "pygments_lexer": "r",
   "version": "3.3.1"
  }
 },
 "nbformat": 4,
 "nbformat_minor": 2
}
