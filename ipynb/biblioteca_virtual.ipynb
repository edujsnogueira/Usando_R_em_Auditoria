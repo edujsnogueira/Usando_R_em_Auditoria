{
 "cells": [
  {
   "cell_type": "markdown",
   "metadata": {},
   "source": [
    "# Biblioteca virtual"
   ]
  },
  {
   "cell_type": "markdown",
   "metadata": {},
   "source": [
    "Página contendo links para livros ou tutoriais disponíveis para consulta *online* ou para *download*.\n",
    "\n",
    "Última atualização: **14/12/2016**\n",
    " \n",
    "* [Learning RStudio for R Statistical Computing](http://it-ebooks.info/book/1575/)  \n",
    "\n",
    "* [Introduction to Statistical Thinking (With R, Without Calculus)](http://pluto.huji.ac.il/~msby/StatThink/IntroStat.pdf)  \n",
    "\n",
    "* [The Elements of Statistical Learning: Data Mining, Inference, and Prediction - 2nd Ed.](http://www-stat.stanford.edu/~tibs/ElemStatLearn/printings/ESLII_print10.pdf)  \n",
    "\n",
    "* [Advanced Data Analysis from an Elementary Point of View](http://www.stat.cmu.edu/~cshalizi/ADAfaEPoV/ADAfaEPoV.pdf)  \n",
    "\n",
    "* [Data Science for Business - What you need to know about data mining and data-analytic thinking](http://it-ebooks.info/book/2883/)  \n",
    "\n",
    "* [Data Mining and Business Analytics with R](http://it-ebooks.info/book/2506/)  \n",
    "\n",
    "* [An Introduction to Statistical Learning with Applications in R](http://www-bcf.usc.edu/~gareth/ISL/index.html)  \n",
    "\n",
    "* [Introduction to Statistical Thought - Michael Levine](http://www.stat.duke.edu/~michael/print.pdf)  \n",
    "\n",
    "* [Ecological Models and Data in R - Ben Bolker](http://www.zoo.ufl.edu/bolker/emdbook/book.pdf)  \n",
    "\n",
    "* [The foundations of statistics: A simulation-based approach - Shravan Vasishth](http://www.ling.uni-potsdam.de/~vasishth/VasishthFS/vasishthFS.pdf)  \n",
    "\n",
    "* [Modelos de Regressão com Apoio Computacional - Gilberto A. Paula - IME/USP](http://www.ime.usp.br/~giapaula/livro.pdf)  \n",
    "\n",
    "* [An Introduction to Statistical Inference and Its Applications - Michael W. Trosset](http://www.math.wm.edu/~trosset/Courses/351/book.pdf)  \n",
    "\n",
    "* [An Introduction to Probability - Livro publicado pela Chance](http://www.dartmouth.edu/~chance/teaching_aids/books_articles/probability_book/amsbook.mac.pdf)  \n",
    "\n",
    "* [ggplot2 - Livro sobre o pacote \"ggplot2\" -  Hadley Wickham](http://had.co.nz/ggplot2/book.pdf)  \n",
    "\n",
    "* [Introduction to Data Technologies - Livro do Paul Murrell](http://www.stat.auckland.ac.nz/~paul/ItDT/itdt-2008-05-19.pdf)   \n",
    "\n",
    "* [R and Excel - Livro (em elaboração) sobre o RExcel, add in que permite utilizar o R a partir do Excel](http://sunsite.univie.ac.at/rcom/download/devel/book-Jan14-erich-ann.pdf)   \n",
    "\n",
    "* [Using Statistical Sampling - Publicação do GAO ( Government Accountability Office ) - EUA](http://archive.gao.gov/t2pbat6/146859.pdf)  \n",
    "\n",
    "* [Fundamental Statistical Concepts in Presenting Data - Principles for Constructing Better Graphics - Rafe M. J. Donahue](http://biostat.mc.vanderbilt.edu/twiki/pub/Main/RafeDonahue/graphicshandout20080717_01.pdf)  \n",
    "\n",
    "* [Introduction to Probability and Statistics Using R - G. Jay Kerns](http://cran.r-project.org/web/packages/IPSUR/vignettes/IPSUR.pdf)   \n",
    "\n",
    "* [Learning Statistics with R - Dan Navarro](http://health.adelaide.edu.au/psychology/ccs/teaching/lsr/)   \n",
    "\n",
    "* [OpenIntro - Statistics Textbooks](https://www.openintro.org/)   \n",
    "\n",
    "* [Mining of Massive Datasets](http://www.mmds.org/)   \n",
    "\n",
    "* [Análise de Dados Categóricos em Ciência Política](https://drive.google.com/file/d/0B8Y2zYm6dfjDNEJHZzNKM0ZzRGM/edit)    \n",
    "\n",
    "* [R para Cientistas Sociais - Jakson Alves de Aquino](http://www.lepem.ufc.br/jaa/RparaCS.php)   \n",
    "\n",
    "* ...\n"
   ]
  },
  {
   "cell_type": "markdown",
   "metadata": {},
   "source": [
    "**Marcos F Silva**"
   ]
  }
 ],
 "metadata": {
  "kernelspec": {
   "display_name": "R-3.2.1",
   "language": "",
   "name": "ir32"
  },
  "language_info": {
   "codemirror_mode": "r",
   "file_extension": ".r",
   "mimetype": "text/x-r-source",
   "name": "R",
   "pygments_lexer": "r",
   "version": "3.2.1"
  }
 },
 "nbformat": 4,
 "nbformat_minor": 0
}
