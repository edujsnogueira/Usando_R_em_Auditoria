{
 "cells": [
  {
   "cell_type": "markdown",
   "metadata": {},
   "source": [
    "## Objetivo Específico\n",
    "\n",
    "Este site tem por objetivo, entre outras coisas, a divulgação das possibilidades de análise de dados oferecidas pelo software estatístico R, com vistas à implementação de Técnicas de Auditoria Assistidas por Computador - TAAC bem ao estilo das que são implementadas em softwares especializados em auditoria como [ACL](https://www.acl.com/), [IDEA](https://www.casewareanalytics.com/products/idea-data-analysis), [ActiveData](http://www.informationactive.com/), [TeamMate Analytics](http://www.topcaats.com/), [Lavastorm](http://www.lavastorm.com/), [Arbutus](http://arbutussoftware.com/), entre outros.\n",
    "\n",
    "Também objetiva ilustrar como o software poderá ser utilizado na implementação de diversas técnicas de mineração de dados em razão da crescente importância que o uso de *analytics* vem adquirindo na área de auditoria.\n",
    "\n",
    "Este site está em constante desenvolvimento e aperfeiçoamento e deve ser visto como um repositório de idéias mais ou menos acabadas acerca da utilização do R como um software de auditoria.\n",
    "\n",
    "\n",
    "## Motivação\n",
    "\n",
    "A motivação para criar este site surgiu em razão da constatação dos seguintes fatos:\n",
    "\n",
    "* a tecnologia da informação está disseminada nos órgãos públicos, facilitando o acesso a grande quantidade e variedade de dados em meio eletrônico, tando nos sistemas de informações das entidades quanto via internet em diversos sites oficiais;   \n",
    "\n",
    "* existe uma enorme carência de material em português disponível ilustrando o uso prático das Técnicas de Auditoria Assistidas por Computador - TAAC e de métodos quantitativos na Auditoria e de como utilizar softwares com essa finalidade;   \n",
    "\n",
    "* alguns órgãos encarregados da fiscalização dos recursos públicos não dispõem, muitas vezes, de recursos financeiros para a aquisição de softwares especializados, como os citados acima, para auxiliar na realização de auditorias neste ambiente cada vez mais informatizado, sendo então conveniente a existência de alternativas gratuitas, preferencialmente *open source*, de boa qualidade com esta finalidade.\n",
    "\n",
    "Embora eu tenha empenhado meus melhores esforços para fornecer informações as mais precisas quanto possível, é possível que alguns erros possam estar presentes nas páginas deste site, os quais espero corrigir com a colaboração de todos que possam ter interesse no material aqui divulgado.\n",
    "\n",
    "Críticas e sugestões serão sempre bem-vindos. Sinta-se a vontade para encaminhá-las para mim em -`marcosfs2006 <at> gmail.com`-\n"
   ]
  }
 ],
 "metadata": {
  "kernelspec": {
   "display_name": "R-3.3.1",
   "language": "",
   "name": "ir33"
  },
  "language_info": {
   "codemirror_mode": "r",
   "file_extension": ".r",
   "mimetype": "text/x-r-source",
   "name": "R",
   "pygments_lexer": "r",
   "version": "3.3.1"
  }
 },
 "nbformat": 4,
 "nbformat_minor": 0
}
